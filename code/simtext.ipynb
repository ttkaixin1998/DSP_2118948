{
 "cells": [
  {
   "cell_type": "markdown",
   "id": "1032d119",
   "metadata": {},
   "source": [
    "simtext"
   ]
  },
  {
   "cell_type": "code",
   "execution_count": 1,
   "id": "08d86576",
   "metadata": {},
   "outputs": [
    {
     "name": "stderr",
     "output_type": "stream",
     "text": [
      "Building prefix dict from the default dictionary ...\n",
      "Loading model from cache /var/folders/9w/c36sxh3j5qs4s1p98r4dcb2m0000gn/T/jieba.cache\n",
      "Loading model cost 0.796 seconds.\n",
      "Prefix dict has been built successfully.\n"
     ]
    },
    {
     "name": "stdout",
     "output_type": "stream",
     "text": [
      "{'Sim_Cosine': 0.560112033611204, 'Sim_Jaccard': 0.38095238095238093, 'Sim_MinEdit': 29, 'Sim_Simple': 0.9889595182335229}\n"
     ]
    }
   ],
   "source": [
    "from simtext import similarity\n",
    "\n",
    "text1 = '在宏观经济背景下，为继续优化贷款结构，重点发展可以抵抗经济周期不良的贷款'\n",
    "text2 = '在宏观经济背景下，为继续优化贷款结构，重点发展可三年专业化、集约化、综合金融+物联网金融四大金融特色的基础上'\n",
    "\n",
    "sim = similarity()\n",
    "res = sim.compute(text1, text2)\n",
    "print(res)"
   ]
  },
  {
   "cell_type": "code",
   "execution_count": 2,
   "id": "eeab26a3",
   "metadata": {},
   "outputs": [
    {
     "name": "stdout",
     "output_type": "stream",
     "text": [
      "{'Sim_Cosine': 0.912870929175277, 'Sim_Jaccard': 0.8333333333333334, 'Sim_MinEdit': 2, 'Sim_Simple': 0.9545454545454546}\n",
      "{'Sim_Cosine': 0.39999999999999997, 'Sim_Jaccard': 0.25, 'Sim_MinEdit': 4, 'Sim_Simple': 0.9315789473684211}\n"
     ]
    }
   ],
   "source": [
    "A = 'We expect demand to increase.'\n",
    "B = 'We expect worldwide demand to increase.'\n",
    "C = 'We expect weakness in sales'\n",
    "\n",
    "sim = similarity()\n",
    "AB = sim.compute(A, B)\n",
    "AC = sim.compute(A, C)\n",
    "\n",
    "print(AB)\n",
    "print(AC)"
   ]
  },
  {
   "cell_type": "code",
   "execution_count": null,
   "id": "4d13f488",
   "metadata": {},
   "outputs": [],
   "source": []
  },
  {
   "cell_type": "markdown",
   "id": "ffff428c",
   "metadata": {},
   "source": [
    "方法：使用difflib中的SequenceMatcher\n",
    "\n",
    "s=difflib.SequenceMatcher(isjunk=None,a,b, autojunk=True) ：构造函数，主要创建任何类型序列的比较对象。isjunk是关键字参数，主要设置过滤函数，如想丢掉a和b比较序列里特定的字符，就可以设置相应的函数\n",
    "s.get_opcodes()函数每执行一次返回5个元素的元组，元组描述了a和b比较序列的相同不同处。5个元素的元组表示为(tag, i1, i2, j1, j2)，其中tag表示动作，i1表示序列a的开始位置，i2表示序列a的结束位置，j1表示序列b的开始位置，j2表示序列b的结束位置。\n",
    "tag表示的字符串有： \n",
    "replace ：表示a[i1 : i2]将要被b[j1 : j2]替换。\n",
    "delete ： 表示a[i1 : i2]将要被删除。\n",
    "Insert ： 表示b[j1 : j2]将被插入到a[i1 : i1]地方。\n",
    "equal  ：表示a[i1 : i2] == b[j1 : j2]相同。\n",
    "相似度s.ratio(), 相似度的计算公式为2*m/t,其中m表示a,b相同的字符长度， t表示a,b两个字符串总共的长度\n",
    "————————————————\n",
    "版权声明：本文为CSDN博主「Jingle-stu」的原创文章，遵循CC 4.0 BY-SA版权协议，转载请附上原文出处链接及本声明。\n",
    "原文链接：https://blog.csdn.net/qq_40006760/article/details/119008560"
   ]
  },
  {
   "cell_type": "code",
   "execution_count": 21,
   "id": "fb5807a7",
   "metadata": {},
   "outputs": [
    {
     "name": "stdout",
     "output_type": "stream",
     "text": [
      "0.5\n"
     ]
    },
    {
     "data": {
      "text/plain": [
       "'\\nfor tag, i1, i2, j1, j2 in s.get_opcodes():\\n    if tag != \\'equal\\':\\n        print(\"%7s a[%d:%d] (%s) b[%d:%d] (%s)\" % (tag, i1, i2, a[i1:i2], j1, j2, b[j1:j2]))\\n'"
      ]
     },
     "execution_count": 21,
     "metadata": {},
     "output_type": "execute_result"
    }
   ],
   "source": [
    "from difflib import SequenceMatcher\n",
    "a = \"EM\"\n",
    "b = \"ME\"\n",
    "s = SequenceMatcher(None, a, b)\n",
    "print(s.ratio())\n",
    "\n",
    "'''\n",
    "for tag, i1, i2, j1, j2 in s.get_opcodes():\n",
    "    if tag != 'equal':\n",
    "        print(\"%7s a[%d:%d] (%s) b[%d:%d] (%s)\" % (tag, i1, i2, a[i1:i2], j1, j2, b[j1:j2]))\n",
    "'''"
   ]
  },
  {
   "cell_type": "code",
   "execution_count": 23,
   "id": "53a926bb",
   "metadata": {},
   "outputs": [
    {
     "name": "stdout",
     "output_type": "stream",
     "text": [
      "[Match(a=0, b=0, size=2), Match(a=2, b=9, size=1), Match(a=5, b=12, size=9), Match(a=14, b=25, size=6), Match(a=20, b=31, size=0)]\n",
      "Similarity Score:  0.7058823529411765\n"
     ]
    }
   ],
   "source": [
    "import difflib\n",
    "string1 = \"I love to eat apple.\"\n",
    "string2 = \"I do not like to eat pineapple.\"\n",
    "\n",
    "temp = difflib.SequenceMatcher(None,string1 ,string2)\n",
    "\n",
    "print(temp.get_matching_blocks())\n",
    "print('Similarity Score: ',temp.ratio())"
   ]
  },
  {
   "cell_type": "code",
   "execution_count": null,
   "id": "234a781a",
   "metadata": {},
   "outputs": [],
   "source": []
  },
  {
   "cell_type": "code",
   "execution_count": 4,
   "id": "c4c74d26",
   "metadata": {},
   "outputs": [
    {
     "name": "stdout",
     "output_type": "stream",
     "text": [
      "x = [2.0, 2.0, 2.0], y = [5.0, 5.0, 0.0]\n",
      "\n",
      "x + y = [7.0, 7.0, 2.0]\n",
      "\n",
      "10x = [20.0, 20.0, 20.0]\n",
      "\n",
      "|x| = 3.4641016151377544\n",
      "\n",
      "<x, y> = 20.0\n",
      "\n",
      "|x - y| = 4.69041575982343\n"
     ]
    }
   ],
   "source": [
    "import math\n",
    "\n",
    "class Vector:\n",
    "    \"\"\"笛卡尔坐标系向量\"\"\"\n",
    "    def __init__(self, a):\n",
    "        \"\"\"构造函数：切片拷贝列表参数a到对象实例变量_coords\"\"\"\n",
    "        self._coords = a[:]\n",
    "        self._n = len(a)\n",
    "    def __getitem__(self, i):\n",
    "        \"\"\"返回第i个元素，即第i维坐标\"\"\"\n",
    "        return self._coords[i]\n",
    "    def __add__(self, other):\n",
    "        \"\"\"返回2个向量之和\"\"\"\n",
    "        result = []\n",
    "        for i in range(self._n):\n",
    "            result.append(self._coords[i] + other._coords[i])\n",
    "        return Vector(result)\n",
    "    def __sub__(self, other):\n",
    "        \"\"\"返回2个向量之差\"\"\"\n",
    "        result = []\n",
    "        for i in range(self._n):\n",
    "            result.append(self._coords[i] - other._coords[i])\n",
    "        return Vector(result)\n",
    "    def scale(self, n):\n",
    "        \"\"\"返回向量与数值的乘积（标量积）\"\"\"\n",
    "        result = []\n",
    "        for i in range(self._n):\n",
    "            result.append(self._coords[i] * n)\n",
    "        return Vector(result)\n",
    "    def dot(self, other):\n",
    "        \"\"\"返回2向量的内积（点积）\"\"\"\n",
    "        result = 0\n",
    "        for i in range(self._n):\n",
    "            result += self._coords[i] * other._coords[i]\n",
    "        return result\n",
    "    def __abs__(self):\n",
    "        \"\"\"返回向量的模\"\"\"\n",
    "        return math.sqrt(self.dot(self))\n",
    "    def direction(self):\n",
    "        \"\"\"返回向量的单位向量\"\"\"\n",
    "        return self.scale(1.0 / abs(self))\n",
    "    def __str__(self):\n",
    "        \"\"\"返回向量的字符串表示\"\"\"\n",
    "        return str(self._coords)\n",
    "    def __len__(self):\n",
    "        \"\"\"返回向量的维度\"\"\"\n",
    "        return self._n\n",
    "\n",
    "# 测试代码\n",
    "def main():\n",
    "    xCoords = [2.0, 2.0, 2.0]\n",
    "    yCoords = [5.0, 5.0, 0.0]\n",
    "    x = Vector(xCoords)\n",
    "    y = Vector(yCoords)\n",
    "    print('x = {}, y = {}'.format(x, y))\n",
    "    print()\n",
    "    print('x + y = {}'.format(x + y))\n",
    "    print()\n",
    "    print('10x = {}'.format(x.scale(10.0)))\n",
    "    print()\n",
    "    print('|x| = {}'.format(abs(x)))\n",
    "    print()\n",
    "    print('<x, y> = {}'.format(x.dot(y)))\n",
    "    print()\n",
    "    print('|x - y| = {}'.format(abs(x-y)))\n",
    "\n",
    "if __name__ == '__main__':\n",
    "    main()\n"
   ]
  },
  {
   "cell_type": "code",
   "execution_count": null,
   "id": "80882560",
   "metadata": {},
   "outputs": [],
   "source": []
  },
  {
   "cell_type": "code",
   "execution_count": 5,
   "id": "0611586c",
   "metadata": {},
   "outputs": [
    {
     "ename": "NameError",
     "evalue": "name 'location_list' is not defined",
     "output_type": "error",
     "traceback": [
      "\u001b[0;31m---------------------------------------------------------------------------\u001b[0m",
      "\u001b[0;31mNameError\u001b[0m                                 Traceback (most recent call last)",
      "Input \u001b[0;32mIn [5]\u001b[0m, in \u001b[0;36m<cell line: 8>\u001b[0;34m()\u001b[0m\n\u001b[1;32m      4\u001b[0m \u001b[38;5;66;03m#from corpora.corpus import Corpus\u001b[39;00m\n\u001b[1;32m      5\u001b[0m \u001b[38;5;66;03m# 1 分词\u001b[39;00m\n\u001b[1;32m      6\u001b[0m \u001b[38;5;66;03m# 1.1 历史比较文档的分词\u001b[39;00m\n\u001b[1;32m      7\u001b[0m all_location_list \u001b[38;5;241m=\u001b[39m []\n\u001b[0;32m----> 8\u001b[0m \u001b[38;5;28;01mfor\u001b[39;00m doc \u001b[38;5;129;01min\u001b[39;00m \u001b[43mlocation_list\u001b[49m:\n\u001b[1;32m      9\u001b[0m     doc_list \u001b[38;5;241m=\u001b[39m [word \u001b[38;5;28;01mfor\u001b[39;00m word \u001b[38;5;129;01min\u001b[39;00m jieba\u001b[38;5;241m.\u001b[39mcut_for_search(doc)]\n\u001b[1;32m     10\u001b[0m     \u001b[38;5;66;03m# doc_list = [word for word in jieba.cut(doc)]\u001b[39;00m\n",
      "\u001b[0;31mNameError\u001b[0m: name 'location_list' is not defined"
     ]
    }
   ],
   "source": [
    "from gensim import corpora\n",
    "from gensim import models\n",
    "from gensim import similarities\n",
    "#from corpora.corpus import Corpus\n",
    "# 1 分词\n",
    "# 1.1 历史比较文档的分词\n",
    "all_location_list = []\n",
    "for doc in location_list:\n",
    "    doc_list = [word for word in jieba.cut_for_search(doc)]\n",
    "    # doc_list = [word for word in jieba.cut(doc)]\n",
    "    all_location_list.append(doc_list)\n",
    "\n",
    "# 1.2 测试文档的分词\n",
    "\n",
    "doc_test=\"A市A市经济学院体育学院\"\n",
    "doc_test_list = [word for word in jieba.cut_for_search(doc_test)]\n",
    "# doc_test_list = [word for word in jieba.cut(doc_test)]\n",
    "\n",
    "# 2 制作语料库\n",
    "# 2.1 获取词袋\n",
    "dictionary = corpora.Dictionary(all_location_list)\n",
    "\n",
    "# 2.2 制作语料库\n",
    "# 历史文档的二元组向量转换\n",
    "corpus = [dictionary.doc2bow(doc) for doc in all_location_list]\n",
    "# 测试文档的二元组向量转换\n",
    "doc_test_vec = dictionary.doc2bow(doc_test_list)\n",
    "\n",
    "# 3 相似度分析\n",
    "# 3.1 使用TF-IDF模型对语料库建模\n",
    "tfidf = models.TfidfModel(corpus)\n",
    "# 获取测试文档中，每个词的TF-IDF值\n",
    "tfidf[doc_test_vec]\n",
    "\n",
    "# 3.2 对每个目标文档，分析测试文档的相似度\n",
    "index = similarities.SparseMatrixSimilarity(tfidf[corpus], num_features=len(dictionary.keys()))\n",
    "sim = index[tfidf[doc_test_vec]]\n",
    "\n",
    "# 根3.3 据相似度排序\n",
    "sorted(enumerate(sim), key=lambda item: -item[1])\n"
   ]
  },
  {
   "cell_type": "code",
   "execution_count": null,
   "id": "d1cbbebb",
   "metadata": {},
   "outputs": [],
   "source": []
  },
  {
   "cell_type": "code",
   "execution_count": 6,
   "id": "115dfefd",
   "metadata": {},
   "outputs": [
    {
     "ename": "SyntaxError",
     "evalue": "invalid syntax (3915448911.py, line 9)",
     "output_type": "error",
     "traceback": [
      "\u001b[0;36m  Input \u001b[0;32mIn [6]\u001b[0;36m\u001b[0m\n\u001b[0;31m    p,q=zip(*filter(lambda(x,y):x!=0 or y!=0, zip(p,q))) #去掉二者都是0的概率值\u001b[0m\n\u001b[0m                          ^\u001b[0m\n\u001b[0;31mSyntaxError\u001b[0m\u001b[0;31m:\u001b[0m invalid syntax\n"
     ]
    }
   ],
   "source": [
    "import string\n",
    "from io import StringIO\n",
    "\n",
    "from math import log\n",
    "import numpy as np\n",
    "KLD=(lambda p,q:sum([_p * log(_p,2)-_p * log(_q,2) for (_p,_q) in zip(p,q)]))\n",
    "  \n",
    "def JSD_core(p,q):\n",
    "    p,q=zip(*filter(lambda(x,y):x!=0 or y!=0, zip(p,q))) #去掉二者都是0的概率值\n",
    "    M = [0.5*(_p+_q) for _p,_q in zip(p,q)]\n",
    "    p=p+np.spacing(1)\n",
    "    q=q+np.spacing(1)\n",
    "    M=M+np.spacing(1)\n",
    "    return 0.5*KLD(p,M)+0.5*KLD(q,M)\n",
    " \n",
    "\n",
    "reg=lambda x:[x.count(i) for i in string.ascii_lowercase]  #频数分布\n",
    "rate=lambda y:[round(i*1.0/sum(reg(y)),4) for i in reg(y)]  #概率分布\n",
    "#s1 = data4_message[1]\n",
    "#s2 = data4_answer[1]\n",
    "s1='ahaebssa'\n",
    "s2='awohwsess'\n",
    "print (JSD_core(rate(s1),rate(s2)))\n"
   ]
  },
  {
   "cell_type": "code",
   "execution_count": 7,
   "id": "924779ed",
   "metadata": {},
   "outputs": [
    {
     "name": "stdout",
     "output_type": "stream",
     "text": [
      "0.003093977084273652\n",
      "0.24719159952098618\n",
      "0.0\n"
     ]
    }
   ],
   "source": [
    "import numpy as np\n",
    "import scipy.stats\n",
    "p=np.asarray([0.65,0.25,0.07,0.03])\n",
    "q=np.array([0.6,0.25,0.1,0.05])\n",
    "q2=np.array([0.1,0.2,0.3,0.4])\n",
    "def JS_divergence(p,q):\n",
    "    M=(p+q)/2\n",
    "    return 0.5*scipy.stats.entropy(p, M)+0.5*scipy.stats.entropy(q, M)\n",
    "print(JS_divergence(p,q))  # 0.003093977084273652\n",
    "print(JS_divergence(p,q2)) # 0.24719159952098618\n",
    "print(JS_divergence(p,p)) # 0.0\n",
    "\n"
   ]
  },
  {
   "cell_type": "code",
   "execution_count": 10,
   "id": "8ae51fa9",
   "metadata": {},
   "outputs": [
    {
     "data": {
      "text/plain": [
       "array([1.25, 0.5 , 0.17, 0.08])"
      ]
     },
     "execution_count": 10,
     "metadata": {},
     "output_type": "execute_result"
    }
   ],
   "source": [
    "p+q"
   ]
  },
  {
   "cell_type": "code",
   "execution_count": 9,
   "id": "2a9fdf60",
   "metadata": {},
   "outputs": [
    {
     "data": {
      "text/plain": [
       "array([0.6 , 0.25, 0.1 , 0.05])"
      ]
     },
     "execution_count": 9,
     "metadata": {},
     "output_type": "execute_result"
    }
   ],
   "source": [
    "q"
   ]
  },
  {
   "cell_type": "code",
   "execution_count": null,
   "id": "3e17be5c",
   "metadata": {},
   "outputs": [],
   "source": [
    "import pandas as pd\n",
    "\n",
    "\n",
    "dfdf=pd.Dataframe()"
   ]
  },
  {
   "cell_type": "code",
   "execution_count": null,
   "id": "6268c838",
   "metadata": {},
   "outputs": [],
   "source": []
  },
  {
   "cell_type": "code",
   "execution_count": null,
   "id": "d9e65c1c",
   "metadata": {},
   "outputs": [],
   "source": []
  },
  {
   "cell_type": "code",
   "execution_count": null,
   "id": "bde77d5b",
   "metadata": {},
   "outputs": [],
   "source": []
  },
  {
   "cell_type": "code",
   "execution_count": 1,
   "id": "6cc2c0e5",
   "metadata": {},
   "outputs": [],
   "source": [
    "import PyPDF2\n",
    "import pandas as pd\n",
    "\n",
    "#philips\n",
    "philips_pdf=open('phillips_privacy.pdf',mode='rb')\n",
    "philips_privacy=PyPDF2.PdfFileReader(philips_pdf)\n",
    "philips=[]\n",
    "dicphilips=pd.DataFrame(columns=['pages','contents'])\n",
    "\n",
    "for i in range(philips_privacy.numPages):\n",
    "    page=philips_privacy.getPage(i)\n",
    "    text1=page.extract_text()\n",
    "    text1.replace('\\n',' ').replace('\\r',' ')\n",
    "    philips.append(text1)\n",
    "    dicphilips.loc[i]=[i+1,text1]\n",
    "    \n",
    "\n",
    "#google\n",
    "google_pdf=open('google_privacy.pdf',mode='rb')\n",
    "google_privacy=PyPDF2.PdfFileReader(google_pdf)\n",
    "\n",
    "google=[]\n",
    "dicgoogle=pd.DataFrame(columns=['pages','contents'])\n",
    "\n",
    "for i in range(google_privacy.numPages):\n",
    "    page=google_privacy.getPage(i)\n",
    "    text1=page.extract_text()\n",
    "    text1.replace('\\n',' ').replace('\\r',' ')\n",
    "    google.append(text1)\n",
    "    dicgoogle.loc[i]=[i+1,text1]\n",
    "    \n",
    "\n",
    "#huawei\n",
    "huawei_txt=open('Huawei_privacy.txt',encoding='utf-8')\n",
    "huawei=[]\n",
    "for line in huawei_txt:\n",
    "    huawei.append(line.strip())\n",
    "\n",
    "\n",
    "#irobot\n",
    "irobot_txt=open('iRobot_privacy.txt',encoding='utf-8')\n",
    "irobot=[]\n",
    "for line in irobot_txt:\n",
    "    irobot.append(line.strip())\n",
    "\n",
    "    \n",
    "#TCL\n",
    "TCL_cookies_txt=open('TCL_cookies_policy.txt',encoding='utf-8')\n",
    "TCL_privacy_txt=open('TCL_Privacy_notice.txt',encoding='utf-8')\n",
    "TCL_terms_txt=open('TCL_terms_and_conditions.txt',encoding='utf-8')\n",
    "\n",
    "TCL_cookies=[]\n",
    "TCL_privacy=[]\n",
    "TCL_terms=[]\n",
    "\n",
    "for line in TCL_cookies_txt:\n",
    "    TCL_cookies.append(line.strip())\n",
    "    \n",
    "for line in TCL_privacy_txt:\n",
    "    TCL_privacy.append(line.strip())\n",
    "    \n",
    "for line in TCL_terms_txt:\n",
    "    TCL_terms.append(line.strip())\n",
    "    \n",
    "    \n",
    "#xiaomi\n",
    "xiaomi_txt=open('Xiaomi_privacy.txt',encoding='utf-8')\n",
    "xiaomi=[]\n",
    "for line in xiaomi_txt:\n",
    "    xiaomi.append(line.strip())\n",
    "\n",
    "    \n",
    "#DPA\n",
    "DPA_2018=open('DPA_2018.pdf',mode='rb')\n",
    "DPA=PyPDF2.PdfFileReader(DPA_2018)\n",
    "\n",
    "dpa=[]\n",
    "dicdpa=pd.DataFrame(columns=['pages','contents'])\n",
    "\n",
    "for i in range(DPA.numPages):\n",
    "    page=DPA.getPage(i)\n",
    "    text1=page.extract_text()\n",
    "    text1.replace('\\n',' ').replace('\\r',' ')\n",
    "    dpa.append(text1)\n",
    "    dicdpa.loc[i]=[i+1,text1]"
   ]
  },
  {
   "cell_type": "code",
   "execution_count": 2,
   "id": "1cf0bd94",
   "metadata": {},
   "outputs": [],
   "source": [
    "import difflib\n",
    "import pandas as pd\n",
    "\n",
    "#DPA&GOOGLE\n",
    "dpa_google_dict={}\n",
    "dpa_google_list=[]\n",
    "for i in range(len(dpa)):\n",
    "    for j in range(len(google)):\n",
    "        string1 = dpa[i]\n",
    "        string2 = google[j]\n",
    "        temp = difflib.SequenceMatcher(None,string1,string2)\n",
    "        dpa_google_dict.update({(string1,string2):temp.ratio()})\n",
    "        dpa_google_list.append(['dpa'+str(i)+'google'+str(j),temp.ratio()])\n",
    "\n",
    "#print(temp.get_matching_blocks())\n",
    "#print('Similarity Score: ',temp.ratio())"
   ]
  },
  {
   "cell_type": "code",
   "execution_count": 3,
   "id": "75de7ed5",
   "metadata": {},
   "outputs": [
    {
     "data": {
      "text/plain": [
       "[['dpa129google28', 0.035346097201767304],\n",
       " ['dpa63google12', 0.030664395229982964],\n",
       " ['dpa50google12', 0.02975929978118162],\n",
       " ['dpa90google12', 0.028834790829591114],\n",
       " ['dpa224google19', 0.028622540250447227]]"
      ]
     },
     "execution_count": 3,
     "metadata": {},
     "output_type": "execute_result"
    }
   ],
   "source": [
    "dpa_google_list_sorted=sorted(dpa_google_list,key=lambda x:x[1],reverse=True)\n",
    "dpa_google_list_sorted[:5]"
   ]
  },
  {
   "cell_type": "code",
   "execution_count": 4,
   "id": "2d4b0798",
   "metadata": {},
   "outputs": [
    {
     "data": {
      "text/plain": [
       "[['dpa129xiaomi65', 0.19727177334732424],\n",
       " ['dpa129xiaomi78', 0.19088937093275488],\n",
       " ['dpa129xiaomi114', 0.19027484143763213],\n",
       " ['dpa129xiaomi143', 0.16247139588100687],\n",
       " ['dpa129xiaomi179', 0.1600877192982456]]"
      ]
     },
     "execution_count": 4,
     "metadata": {},
     "output_type": "execute_result"
    }
   ],
   "source": [
    "#DPA&XIAOMI\n",
    "dpa_xiaomi_dict={}\n",
    "dpa_xiaomi_list=[]\n",
    "for i in range(len(dpa)):\n",
    "    for j in range(len(xiaomi)):\n",
    "        string1 = dpa[i]\n",
    "        string2 = xiaomi[j]\n",
    "        temp = difflib.SequenceMatcher(None,string1,string2)\n",
    "        dpa_xiaomi_dict.update({(string1,string2):temp.ratio()})\n",
    "        dpa_xiaomi_list.append(['dpa'+str(i)+'xiaomi'+str(j),temp.ratio()])\n",
    "        \n",
    "dpa_xiaomi_list_sorted=sorted(dpa_xiaomi_list,key=lambda x:x[1],reverse=True)\n",
    "dpa_xiaomi_list_sorted[:5]"
   ]
  },
  {
   "cell_type": "code",
   "execution_count": 5,
   "id": "f695bb9c",
   "metadata": {},
   "outputs": [
    {
     "data": {
      "text/plain": [
       "[['dpa129philips3', 0.19169329073482427],\n",
       " ['dpa129philips2', 0.1810436634717785],\n",
       " ['dpa129philips7', 0.12658227848101267],\n",
       " ['dpa124philips3', 0.11687602403058438],\n",
       " ['dpa48philips3', 0.11294526498696786]]"
      ]
     },
     "execution_count": 5,
     "metadata": {},
     "output_type": "execute_result"
    }
   ],
   "source": [
    "#DPA&PHILIPS\n",
    "dpa_philips_dict={}\n",
    "dpa_philips_list=[]\n",
    "for i in range(len(dpa)):\n",
    "    for j in range(len(philips)):\n",
    "        string1 = dpa[i]\n",
    "        string2 = philips[j]\n",
    "        temp = difflib.SequenceMatcher(None,string1,string2)\n",
    "        dpa_philips_dict.update({(string1,string2):temp.ratio()})\n",
    "        dpa_philips_list.append(['dpa'+str(i)+'philips'+str(j),temp.ratio()])\n",
    "        \n",
    "dpa_philips_list_sorted=sorted(dpa_philips_list,key=lambda x:x[1],reverse=True)\n",
    "dpa_philips_list_sorted[:5]"
   ]
  },
  {
   "cell_type": "code",
   "execution_count": 6,
   "id": "7141517e",
   "metadata": {},
   "outputs": [
    {
     "data": {
      "text/plain": [
       "[['dpa129irobot7', 0.16396979503775622],\n",
       " ['dpa129irobot95', 0.14418604651162792],\n",
       " ['dpa129irobot130', 0.1372328458942632],\n",
       " ['dpa129irobot5', 0.12421052631578948],\n",
       " ['dpa315irobot5', 0.11954765751211632]]"
      ]
     },
     "execution_count": 6,
     "metadata": {},
     "output_type": "execute_result"
    }
   ],
   "source": [
    "#DPA&IROBOT\n",
    "dpa_irobot_dict={}\n",
    "dpa_irobot_list=[]\n",
    "for i in range(len(dpa)):\n",
    "    for j in range(len(irobot)):\n",
    "        string1 = dpa[i]\n",
    "        string2 = irobot[j]\n",
    "        temp = difflib.SequenceMatcher(None,string1,string2)\n",
    "        dpa_irobot_dict.update({(string1,string2):temp.ratio()})\n",
    "        dpa_irobot_list.append(['dpa'+str(i)+'irobot'+str(j),temp.ratio()])\n",
    "        \n",
    "dpa_irobot_list_sorted=sorted(dpa_irobot_list,key=lambda x:x[1],reverse=True)\n",
    "dpa_irobot_list_sorted[:5]"
   ]
  },
  {
   "cell_type": "code",
   "execution_count": 10,
   "id": "caa627fa",
   "metadata": {},
   "outputs": [
    {
     "data": {
      "text/plain": [
       "[['dpa129huawei198', 0.20335429769392033],\n",
       " ['dpa129huawei132', 0.1925133689839572],\n",
       " ['dpa129huawei140', 0.17418677859391396],\n",
       " ['dpa129huawei82', 0.16952789699570817],\n",
       " ['dpa129huawei92', 0.15026455026455027]]"
      ]
     },
     "execution_count": 10,
     "metadata": {},
     "output_type": "execute_result"
    }
   ],
   "source": [
    "#DPA&HUAWEI\n",
    "dpa_huawei_list=[]\n",
    "for i in range(len(dpa)):\n",
    "    for j in range(len(huawei)):\n",
    "        string1 = dpa[i]\n",
    "        string2 = huawei[j]\n",
    "        temp = difflib.SequenceMatcher(None,string1,string2)\n",
    "        dpa_huawei_list.append(['dpa'+str(i)+'huawei'+str(j),temp.ratio()])\n",
    "        \n",
    "dpa_huawei_list_sorted=sorted(dpa_huawei_list,key=lambda x:x[1],reverse=True)\n",
    "dpa_huawei_list_sorted[:5]"
   ]
  },
  {
   "cell_type": "code",
   "execution_count": 8,
   "id": "721514cd",
   "metadata": {},
   "outputs": [
    {
     "data": {
      "text/plain": [
       "[['dpa129tcl479', 0.2052910052910053],\n",
       " ['dpa129tcl729', 0.20490928495197439],\n",
       " ['dpa129tcl983', 0.19768664563617244],\n",
       " ['dpa129tcl389', 0.1951219512195122],\n",
       " ['dpa129tcl42', 0.1943231441048035]]"
      ]
     },
     "execution_count": 8,
     "metadata": {},
     "output_type": "execute_result"
    }
   ],
   "source": [
    "#DPA&TCL\n",
    "tcl=TCL_cookies+TCL_privacy+TCL_terms\n",
    "dpa_tcl_dict={}\n",
    "dpa_tcl_list=[]\n",
    "for i in range(len(dpa)):\n",
    "    for j in range(len(tcl)):\n",
    "        string1 = dpa[i]\n",
    "        string2 = tcl[j]\n",
    "        temp = difflib.SequenceMatcher(None,string1,string2)\n",
    "        dpa_tcl_dict.update({(string1,string2):temp.ratio()})\n",
    "        dpa_tcl_list.append(['dpa'+str(i)+'tcl'+str(j),temp.ratio()])\n",
    "        \n",
    "dpa_tcl_list_sorted=sorted(dpa_tcl_list,key=lambda x:x[1],reverse=True)\n",
    "dpa_tcl_list_sorted[:5]"
   ]
  },
  {
   "cell_type": "code",
   "execution_count": 11,
   "id": "2e5c3acc",
   "metadata": {},
   "outputs": [
    {
     "data": {
      "image/png": "[encoded data removed]",
      "text/plain": [
       "<Figure size 432x288 with 1 Axes>"
      ]
     },
     "metadata": {
      "needs_background": "light"
     },
     "output_type": "display_data"
    }
   ],
   "source": [
    "import numpy as np\n",
    "import matplotlib.pyplot as plt\n",
    "\n",
    "dpa_google_line=dpa_google_list_sorted[:10]\n",
    "dpa_irobot_line=dpa_irobot_list_sorted[:10]\n",
    "dpa_philips_line=dpa_philips_list_sorted[:10]\n",
    "dpa_tcl_line=dpa_tcl_list_sorted[:10]\n",
    "dpa_xiaomi_line=dpa_xiaomi_list_sorted[:10]\n",
    "dpa_huawei_line=dpa_huawei_list_sorted[:10]\n",
    "\n",
    "y1=[]\n",
    "y2=[]\n",
    "y3=[]\n",
    "y4=[]\n",
    "y5=[]\n",
    "y6=[]\n",
    "\n",
    "for i in range(10):\n",
    "    y1.append(dpa_google_line[i][1])\n",
    "    y2.append(dpa_irobot_line[i][1])\n",
    "    y3.append(dpa_philips_line[i][1])\n",
    "    y4.append(dpa_tcl_line[i][1])\n",
    "    y5.append(dpa_xiaomi_line[i][1])\n",
    "    y6.append(dpa_huawei_line[i][1])\n",
    "\n",
    "x=np.arange(1,11,1)\n",
    "\n",
    "l1=plt.plot(x,y1,color='palevioletred',label='DPA&Google')\n",
    "l2=plt.plot(x,y2,color='darkgoldenrod',label='DPA&Irobot')\n",
    "l3=plt.plot(x,y3,color='black',label='DPA&Philips')\n",
    "l4=plt.plot(x,y4,color='indigo',label='DPA&TCL')\n",
    "l5=plt.plot(x,y5,color='cyan',label='DPA&Xiaomi')\n",
    "l6=plt.plot(x,y6,color='green',label='DPA&Huawei')\n",
    "\n",
    "plt.title('DPA with six brands')\n",
    "\n",
    "plt.ylabel('Similarity')\n",
    "plt.legend(bbox_to_anchor=(1.05, 0.6), loc=3, borderaxespad=0)\n",
    "plt.show()"
   ]
  },
  {
   "cell_type": "code",
   "execution_count": null,
   "id": "cfea3b00",
   "metadata": {},
   "outputs": [],
   "source": []
  }
 ],
 "metadata": {
  "kernelspec": {
   "display_name": "Python 3 (ipykernel)",
   "language": "python",
   "name": "python3"
  },
  "language_info": {
   "codemirror_mode": {
    "name": "ipython",
    "version": 3
   },
   "file_extension": ".py",
   "mimetype": "text/x-python",
   "name": "python",
   "nbconvert_exporter": "python",
   "pygments_lexer": "ipython3",
   "version": "3.8.8"
  }
 },
 "nbformat": 4,
 "nbformat_minor": 5
}
