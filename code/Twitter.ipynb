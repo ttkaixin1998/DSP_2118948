{
 "cells": [
  {
   "cell_type": "code",
   "execution_count": 1,
   "id": "26fd3f66",
   "metadata": {},
   "outputs": [],
   "source": [
    "import tweepy\n",
    "\n",
    "#AAAAAAAAAAAAAAAAAAAAAIPigAEAAAAA64aeG60pydtseMVb%2BGO8DUKDueM%3DAn6Zp0E3hyfEjzYEh9e3iQYA25t9XpxJz7NHEt5e5SbAAhYphX"
   ]
  },
  {
   "cell_type": "code",
   "execution_count": 2,
   "id": "754fc9e2",
   "metadata": {},
   "outputs": [],
   "source": [
    "#create tweepy client using only bearer code (from your developer dashboard)\n",
    "client = tweepy.Client(bearer_token='AAAAAAAAAAAAAAAAAAAAAIPigAEAAAAA64aeG60pydtseMVb%2BGO8DUKDueM%3DAn6Zp0E3hyfEjzYEh9e3iQYA25t9XpxJz7NHEt5e5SbAAhYphX')"
   ]
  },
  {
   "cell_type": "code",
   "execution_count": 50,
   "id": "61674f7b",
   "metadata": {},
   "outputs": [
    {
     "name": "stdout",
     "output_type": "stream",
     "text": [
      "=====text 1=====\n",
      "#TCL, oltre ai prodotti vincitori, presenterà all'#IFA2022 un’ampia selezione di prodotti in anteprima mondiale, tra cui le linee di home theater e di elettrodomestici https://t.co/WxEK9gP0XI\n",
      "=====text 2=====\n",
      "RT @ndtvindia: 85, 55 इंच डिस्प्ले में TCL T7G Series स्मार्ट TV लॉन्च, जानें कीमत\n",
      "https://t.co/1xIMaYGVXP\n",
      "=====text 3=====\n",
      "RT @ndtvindia: 85, 55 इंच डिस्प्ले में TCL T7G Series स्मार्ट TV लॉन्च, जानें कीमत\n",
      "https://t.co/1xIMaYGVXP\n",
      "=====text 4=====\n",
      "85, 55 इंच डिस्प्ले में TCL T7G Series स्मार्ट TV लॉन्च, जानें कीमत\n",
      "https://t.co/1xIMaYGVXP\n",
      "=====text 5=====\n",
      "85, 55 इंच डिस्प्ले में TCL T7G Series स्मार्ट TV लॉन्च, जानें कीमत\n",
      "https://t.co/MCrPo48N6Z\n",
      "=====text 6=====\n",
      "@AdtechGod @VIZIO @Roku This one \n",
      "\n",
      "https://t.co/u6QFYtE8Qs\n",
      "=====text 7=====\n",
      "Smart Control ทุกที่ทุกเวลา \n",
      "แอร์ TCL รุ่น T-Pro Series เครื่องปรับอากาศที่สามารถควบคุมการทำงานผ่านสมาร์ทโฟน ไม่ว่าจะปรับอุณหภูมิ หรือเปลี่ยนโหมดการทำงาน ก็ทำได้ง่ายผ่าน \n",
      "TCL Home App ที่ใช้งานได้อย่างสะดวกสบาย เชื่อมต่อง่าย แค่ไม่กี่ขั้นตอน \n",
      "\n",
      "#TCLThailand #TPropremium #TCLair https://t.co/APgrOtbLYn\n",
      "=====text 8=====\n",
      "Home Appliances, Electronics Smart Phones &amp; more!\n",
      "\n",
      "Buy online https://t.co/bI5zLguV3Y\n",
      "\n",
      "#maxbuyhotfridaydeals #maxbuy #happylife\n",
      "\n",
      "📍MaxBuy Kasoa Mall outlet, Kasoa second Bus Stop-0257961837\n",
      "\n",
      "📍MaxBuy Westhills Mall outlet-0257961981\n",
      "\n",
      "📍MaxBuy Junction Mall outlet-025796197\n",
      "=====text 9=====\n",
      "#RaviVisvesvarayaSharadaPrasad  https://t.co/52f5oxFMVX Best Smart TV for 2022: Top Picks in Every Budget From Samsung, Roku, TCL, LG and More     - CNET\n",
      "=====text 10=====\n",
      "Best Smart TV for 2022: Top Picks in Every Budget From Samsung, Roku, TCL, LG and More     - CNET https://t.co/lYwEZK20IY\n"
     ]
    }
   ],
   "source": [
    "query='TCL Smart Home'\n",
    "tweets=client.search_recent_tweets(query=query)\n",
    "n=1\n",
    "for tweet in tweets.data:\n",
    "    print('=====text '+str(n)+'=====')\n",
    "    print(tweet.text)\n",
    "    n+=1"
   ]
  },
  {
   "cell_type": "code",
   "execution_count": 42,
   "id": "784c4271",
   "metadata": {},
   "outputs": [
    {
     "name": "stdout",
     "output_type": "stream",
     "text": [
      "2022-08-22 19:56:34+00:00 esperando a amazon me contratar pra eu usar meu tcc pra resolver a questão de ter que fazer 200 interações em forma de \"diálogo\" com a alexa pra ela realizar a ação do usuário 🙏 https://t.co/Ts2sDBqfJm\n",
      "Metrics {'retweet_count': 0, 'reply_count': 0, 'like_count': 0, 'quote_count': 0}\n",
      "[{'domain': {'id': '47', 'name': 'Brand', 'description': 'Brands and Companies'}, 'entity': {'id': '10026792024', 'name': 'Amazon'}}, {'domain': {'id': '48', 'name': 'Product', 'description': 'Products created by Brands.  Examples: Ford Explorer, Apple iPhone.'}, 'entity': {'id': '968221983803494400', 'name': 'Amazon - Alexa', 'description': 'Alexa'}}]\n",
      "=======\n",
      "2022-08-22 19:56:32+00:00 Insteon Smart In-Line Dimmer Switch, In-LineLinc, 2475DA1 - Insteon Hub required for voice control with Alexa &amp; Google Assist [VQEZ0PR]\n",
      "\n",
      "https://t.co/G1sghrmEkF\n",
      "Metrics {'retweet_count': 0, 'reply_count': 0, 'like_count': 0, 'quote_count': 0}\n",
      "[{'domain': {'id': '30', 'name': 'Entities [Entity Service]', 'description': 'Entity Service top level domain, every item that is in Entity Service should be in this domain'}, 'entity': {'id': '781974596752842752', 'name': 'Services'}}, {'domain': {'id': '47', 'name': 'Brand', 'description': 'Brands and Companies'}, 'entity': {'id': '10026378521', 'name': 'Google '}}, {'domain': {'id': '47', 'name': 'Brand', 'description': 'Brands and Companies'}, 'entity': {'id': '10026792024', 'name': 'Amazon'}}, {'domain': {'id': '48', 'name': 'Product', 'description': 'Products created by Brands.  Examples: Ford Explorer, Apple iPhone.'}, 'entity': {'id': '968221983803494400', 'name': 'Amazon - Alexa', 'description': 'Alexa'}}, {'domain': {'id': '48', 'name': 'Product', 'description': 'Products created by Brands.  Examples: Ford Explorer, Apple iPhone.'}, 'entity': {'id': '1395474411180892160', 'name': 'Google brand conversation'}}]\n",
      "=======\n",
      "2022-08-22 19:56:06+00:00 8月23日 Amazonイヤホン・ヘッドホン本体 の 売れ筋ランキングランキング第10位 | ソニー ワイヤレスノイズキャンセリングイヤホン WF-1000XM4 : 完全ワイヤレス/Amazon Alexa搭載/Bluetooth/･･･ / ￥24,800 [4:56 情報] https://t.co/a7wM97dLQ8\n",
      "Metrics {'retweet_count': 0, 'reply_count': 0, 'like_count': 0, 'quote_count': 0}\n",
      "[{'domain': {'id': '47', 'name': 'Brand', 'description': 'Brands and Companies'}, 'entity': {'id': '10026792024', 'name': 'Amazon'}}, {'domain': {'id': '48', 'name': 'Product', 'description': 'Products created by Brands.  Examples: Ford Explorer, Apple iPhone.'}, 'entity': {'id': '968221983803494400', 'name': 'Amazon - Alexa', 'description': 'Alexa'}}, {'domain': {'id': '47', 'name': 'Brand', 'description': 'Brands and Companies'}, 'entity': {'id': '10026738409', 'name': 'Sony'}}, {'domain': {'id': '131', 'name': 'Unified Twitter Taxonomy', 'description': 'A taxonomy view into the Semantic Core knowledge graph'}, 'entity': {'id': '10026738409', 'name': 'Sony'}}]\n",
      "=======\n",
      "2022-08-22 19:56:06+00:00 【Alexa対応】エジソンスマート マルチスマートリモコン スマート家電 スマートコントローラー スマートホーム 学習リモコン アレクサ Google Home Siri対応 725\n",
      "\n",
      "家電 売れ筋\n",
      "https://t.co/kvBnwPbcg9\n",
      "Metrics {'retweet_count': 0, 'reply_count': 0, 'like_count': 0, 'quote_count': 0}\n",
      "[{'domain': {'id': '131', 'name': 'Unified Twitter Taxonomy', 'description': 'A taxonomy view into the Semantic Core knowledge graph'}, 'entity': {'id': '1289139633301815296', 'name': 'Home automation'}}, {'domain': {'id': '47', 'name': 'Brand', 'description': 'Brands and Companies'}, 'entity': {'id': '10026364281', 'name': 'Apple'}}, {'domain': {'id': '48', 'name': 'Product', 'description': 'Products created by Brands.  Examples: Ford Explorer, Apple iPhone.'}, 'entity': {'id': '10041893638', 'name': 'Apple - Siri'}}]\n",
      "=======\n",
      "2022-08-22 19:55:05+00:00 Echo (エコー) 第4世代 - スマートスピーカーwith Alexa - プレミアムサウンド&amp;スマートホームハブ、グレーシャーホワイト 820\n",
      "\n",
      "Amazon おすすめ\n",
      "https://t.co/hYI84E9MY5\n",
      "Metrics {'retweet_count': 0, 'reply_count': 0, 'like_count': 0, 'quote_count': 0}\n",
      "[{'domain': {'id': '47', 'name': 'Brand', 'description': 'Brands and Companies'}, 'entity': {'id': '10026792024', 'name': 'Amazon'}}, {'domain': {'id': '48', 'name': 'Product', 'description': 'Products created by Brands.  Examples: Ford Explorer, Apple iPhone.'}, 'entity': {'id': '968221983803494400', 'name': 'Amazon - Alexa', 'description': 'Alexa'}}, {'domain': {'id': '131', 'name': 'Unified Twitter Taxonomy', 'description': 'A taxonomy view into the Semantic Core knowledge graph'}, 'entity': {'id': '1289139633301815296', 'name': 'Home automation'}}]\n",
      "=======\n",
      "2022-08-22 19:52:28+00:00 【掃除・水拭き/自動ゴミ収集】Neabot Q11 ロボット掃除機 超吸引力4000Pa マッピング機能 お掃除ロボット 超薄型＆静音設計 障害物検知 自動充電 落下/衝突防止 アプリ制御 Alexa/ 645\n",
      "\n",
      "家電 おすすめ\n",
      "https://t.co/hLKELlKo8R\n",
      "Metrics {'retweet_count': 0, 'reply_count': 0, 'like_count': 0, 'quote_count': 0}\n",
      "=======\n",
      "2022-08-22 19:52:15+00:00 🔥 Fire TV Stick 4K Max \n",
      "\n",
      "👉 39.99€ au lieu de 64.99€ pour cet article !\n",
      " 🔗https://t.co/vOWdnBeKo1 https://t.co/hgOGFPHm3r\n",
      "Metrics {'retweet_count': 0, 'reply_count': 0, 'like_count': 0, 'quote_count': 0}\n",
      "=======\n",
      "2022-08-22 19:52:10+00:00 【Amazon Alexa対応】エジソンスマート マルチスマートリモコン スマート家電 スマートコントローラー スマートホーム 学習リモコン アレクサ Google Home Siri対応 508\n",
      "\n",
      "家電 売れ筋\n",
      "https://t.co/GJ36LW35b6\n",
      "Metrics {'retweet_count': 0, 'reply_count': 0, 'like_count': 0, 'quote_count': 0}\n",
      "[{'domain': {'id': '47', 'name': 'Brand', 'description': 'Brands and Companies'}, 'entity': {'id': '10026792024', 'name': 'Amazon'}}, {'domain': {'id': '48', 'name': 'Product', 'description': 'Products created by Brands.  Examples: Ford Explorer, Apple iPhone.'}, 'entity': {'id': '968221983803494400', 'name': 'Amazon - Alexa', 'description': 'Alexa'}}, {'domain': {'id': '131', 'name': 'Unified Twitter Taxonomy', 'description': 'A taxonomy view into the Semantic Core knowledge graph'}, 'entity': {'id': '1289139633301815296', 'name': 'Home automation'}}, {'domain': {'id': '47', 'name': 'Brand', 'description': 'Brands and Companies'}, 'entity': {'id': '10026364281', 'name': 'Apple'}}, {'domain': {'id': '48', 'name': 'Product', 'description': 'Products created by Brands.  Examples: Ford Explorer, Apple iPhone.'}, 'entity': {'id': '10041893638', 'name': 'Apple - Siri'}}]\n",
      "=======\n",
      "2022-08-22 19:52:06+00:00 Amazon☆ TP-Link WiFi ルーター 11ax AX3000 WiFi6 無線LAN【PS5 / iPhone 13 / Nintendo Switch メーカー動作確認済み】 2402 + 574Mbps USB3.0 Alexa 認定取得 メーカー保証３年 Archer AX55/A\n",
      "\n",
      "こちらからチェック✅\n",
      "https://t.co/V7MumBYyLf\n",
      "Metrics {'retweet_count': 0, 'reply_count': 0, 'like_count': 0, 'quote_count': 0}\n",
      "[{'domain': {'id': '47', 'name': 'Brand', 'description': 'Brands and Companies'}, 'entity': {'id': '10026364281', 'name': 'Apple'}}, {'domain': {'id': '47', 'name': 'Brand', 'description': 'Brands and Companies'}, 'entity': {'id': '10026792024', 'name': 'Amazon'}}, {'domain': {'id': '48', 'name': 'Product', 'description': 'Products created by Brands.  Examples: Ford Explorer, Apple iPhone.'}, 'entity': {'id': '10024011738', 'name': 'Apple - iPhone'}}, {'domain': {'id': '48', 'name': 'Product', 'description': 'Products created by Brands.  Examples: Ford Explorer, Apple iPhone.'}, 'entity': {'id': '968221983803494400', 'name': 'Amazon - Alexa', 'description': 'Alexa'}}, {'domain': {'id': '49', 'name': 'Product Version', 'description': \"The specific model or version of a product.  Examples: Audi A8, Ben & Jerry's Chocolate Chip Ice Cream\"}, 'entity': {'id': '1437817461345189889', 'name': 'Iphone 13'}}, {'domain': {'id': '30', 'name': 'Entities [Entity Service]', 'description': 'Entity Service top level domain, every item that is in Entity Service should be in this domain'}, 'entity': {'id': '848920371311001600', 'name': 'Technology', 'description': 'Technology and computing'}}, {'domain': {'id': '79', 'name': 'Video Game Hardware', 'description': 'Video Game Hardware'}, 'entity': {'id': '1201630019065274369', 'name': 'PlayStation 5'}}, {'domain': {'id': '131', 'name': 'Unified Twitter Taxonomy', 'description': 'A taxonomy view into the Semantic Core knowledge graph'}, 'entity': {'id': '10026364281', 'name': 'Apple'}}, {'domain': {'id': '131', 'name': 'Unified Twitter Taxonomy', 'description': 'A taxonomy view into the Semantic Core knowledge graph'}, 'entity': {'id': '10027048853', 'name': 'PlayStation'}}, {'domain': {'id': '131', 'name': 'Unified Twitter Taxonomy', 'description': 'A taxonomy view into the Semantic Core knowledge graph'}, 'entity': {'id': '847527650667094017', 'name': 'Gaming', 'description': 'Gaming'}}, {'domain': {'id': '131', 'name': 'Unified Twitter Taxonomy', 'description': 'A taxonomy view into the Semantic Core knowledge graph'}, 'entity': {'id': '848920371311001600', 'name': 'Technology', 'description': 'Technology and computing'}}, {'domain': {'id': '131', 'name': 'Unified Twitter Taxonomy', 'description': 'A taxonomy view into the Semantic Core knowledge graph'}, 'entity': {'id': '1070028376662888448', 'name': 'Console gaming', 'description': 'Video Game Hardware'}}, {'domain': {'id': '131', 'name': 'Unified Twitter Taxonomy', 'description': 'A taxonomy view into the Semantic Core knowledge graph'}, 'entity': {'id': '1201630019065274369', 'name': 'PlayStation 5'}}, {'domain': {'id': '165', 'name': 'Technology', 'description': 'for individual and types of technology, e.g., food technology, 3D printing'}, 'entity': {'id': '1148689566112477184', 'name': 'Wi-Fi'}}, {'domain': {'id': '45', 'name': 'Brand Vertical', 'description': 'Top level entities that describe a Brands industry'}, 'entity': {'id': '781974597310615553', 'name': 'Entertainment'}}, {'domain': {'id': '30', 'name': 'Entities [Entity Service]', 'description': 'Entity Service top level domain, every item that is in Entity Service should be in this domain'}, 'entity': {'id': '781974597218340864', 'name': 'Video Games - Entertainment'}}, {'domain': {'id': '47', 'name': 'Brand', 'description': 'Brands and Companies'}, 'entity': {'id': '10026364281', 'name': 'Apple'}}, {'domain': {'id': '47', 'name': 'Brand', 'description': 'Brands and Companies'}, 'entity': {'id': '10027048853', 'name': 'PlayStation'}}, {'domain': {'id': '48', 'name': 'Product', 'description': 'Products created by Brands.  Examples: Ford Explorer, Apple iPhone.'}, 'entity': {'id': '10024011738', 'name': 'Apple - iPhone'}}, {'domain': {'id': '30', 'name': 'Entities [Entity Service]', 'description': 'Entity Service top level domain, every item that is in Entity Service should be in this domain'}, 'entity': {'id': '848920371311001600', 'name': 'Technology', 'description': 'Technology and computing'}}, {'domain': {'id': '30', 'name': 'Entities [Entity Service]', 'description': 'Entity Service top level domain, every item that is in Entity Service should be in this domain'}, 'entity': {'id': '848985956778561538', 'name': 'Mobile', 'description': 'Mobile'}}, {'domain': {'id': '79', 'name': 'Video Game Hardware', 'description': 'Video Game Hardware'}, 'entity': {'id': '10027048853', 'name': 'PlayStation'}}, {'domain': {'id': '131', 'name': 'Unified Twitter Taxonomy', 'description': 'A taxonomy view into the Semantic Core knowledge graph'}, 'entity': {'id': '10027048853', 'name': 'PlayStation'}}, {'domain': {'id': '131', 'name': 'Unified Twitter Taxonomy', 'description': 'A taxonomy view into the Semantic Core knowledge graph'}, 'entity': {'id': '847527650667094017', 'name': 'Gaming', 'description': 'Gaming'}}, {'domain': {'id': '131', 'name': 'Unified Twitter Taxonomy', 'description': 'A taxonomy view into the Semantic Core knowledge graph'}, 'entity': {'id': '1070028159964262400', 'name': 'Video games'}}]\n",
      "=======\n",
      "2022-08-22 19:51:43+00:00 Funny Face Mask Designs- Choose between 4. Will Remove For Wine, Alexa Skip to 2021, Calm Down Karen It's Allergies, If my Mo [BIESVDD]\n",
      "\n",
      "https://t.co/rZ08yyQIbs\n",
      "Metrics {'retweet_count': 0, 'reply_count': 0, 'like_count': 0, 'quote_count': 0}\n",
      "[{'domain': {'id': '30', 'name': 'Entities [Entity Service]', 'description': 'Entity Service top level domain, every item that is in Entity Service should be in this domain'}, 'entity': {'id': '825047692124442624', 'name': 'Food', 'description': 'Food'}}, {'domain': {'id': '65', 'name': 'Interests and Hobbies Vertical', 'description': 'Top level interests and hobbies groupings, like Food or Travel'}, 'entity': {'id': '834828264786898945', 'name': 'Drinks', 'description': 'Drinks'}}, {'domain': {'id': '66', 'name': 'Interests and Hobbies Category', 'description': 'A grouping of interests and hobbies entities, like Novelty Food or Destinations'}, 'entity': {'id': '834828445238431744', 'name': 'Generic Drinks', 'description': 'Generic Drinks'}}, {'domain': {'id': '67', 'name': 'Interests and Hobbies', 'description': 'Interests, opinions, and behaviors of individuals, groups, or cultures; like Speciality Cooking or Theme Parks'}, 'entity': {'id': '841378993408425985', 'name': 'Wine', 'description': 'Wine'}}, {'domain': {'id': '123', 'name': 'Ongoing News Story', 'description': \"Ongoing News Stories like 'Brexit'\"}, 'entity': {'id': '1220701888179359745', 'name': 'COVID-19'}}, {'domain': {'id': '131', 'name': 'Unified Twitter Taxonomy', 'description': 'A taxonomy view into the Semantic Core knowledge graph'}, 'entity': {'id': '834828264786898945', 'name': 'Drinks', 'description': 'Drinks'}}, {'domain': {'id': '131', 'name': 'Unified Twitter Taxonomy', 'description': 'A taxonomy view into the Semantic Core knowledge graph'}, 'entity': {'id': '841378993408425985', 'name': 'Wine', 'description': 'Wine'}}, {'domain': {'id': '131', 'name': 'Unified Twitter Taxonomy', 'description': 'A taxonomy view into the Semantic Core knowledge graph'}, 'entity': {'id': '1220701888179359745', 'name': 'COVID-19'}}, {'domain': {'id': '173', 'name': 'Google Product Taxonomy', 'description': 'A product taxonomy created by Google'}, 'entity': {'id': '841378993408425985', 'name': 'Wine', 'description': 'Wine'}}]\n",
      "=======\n",
      "2022-08-22 19:51:30+00:00 Echo (エコー) 第4世代 - スマートスピーカーwith Alexa - プレミアムサウンド&amp;スマートホームハブ、グレーシャーホワイト 225\n",
      "\n",
      "Amazon おすすめ\n",
      "https://t.co/hYI84EqQ05\n",
      "Metrics {'retweet_count': 0, 'reply_count': 0, 'like_count': 0, 'quote_count': 0}\n",
      "[{'domain': {'id': '47', 'name': 'Brand', 'description': 'Brands and Companies'}, 'entity': {'id': '10026792024', 'name': 'Amazon'}}, {'domain': {'id': '48', 'name': 'Product', 'description': 'Products created by Brands.  Examples: Ford Explorer, Apple iPhone.'}, 'entity': {'id': '968221983803494400', 'name': 'Amazon - Alexa', 'description': 'Alexa'}}, {'domain': {'id': '131', 'name': 'Unified Twitter Taxonomy', 'description': 'A taxonomy view into the Semantic Core knowledge graph'}, 'entity': {'id': '1289139633301815296', 'name': 'Home automation'}}]\n",
      "=======\n",
      "2022-08-22 19:51:06+00:00 ルンバ 692 ロボット掃除機 アイロボット WiFi対応 遠隔操作 自動充電 グレー R692060 Alexa対応 【https://t.co/RNt0vf6G3g限定】 823\n",
      "\n",
      "家電 売れ筋\n",
      "https://t.co/PZgnWu9CoX\n",
      "Metrics {'retweet_count': 0, 'reply_count': 0, 'like_count': 0, 'quote_count': 0}\n",
      "[{'domain': {'id': '30', 'name': 'Entities [Entity Service]', 'description': 'Entity Service top level domain, every item that is in Entity Service should be in this domain'}, 'entity': {'id': '848920371311001600', 'name': 'Technology', 'description': 'Technology and computing'}}, {'domain': {'id': '131', 'name': 'Unified Twitter Taxonomy', 'description': 'A taxonomy view into the Semantic Core knowledge graph'}, 'entity': {'id': '848920371311001600', 'name': 'Technology', 'description': 'Technology and computing'}}, {'domain': {'id': '165', 'name': 'Technology', 'description': 'for individual and types of technology, e.g., food technology, 3D printing'}, 'entity': {'id': '1148689566112477184', 'name': 'Wi-Fi'}}]\n",
      "=======\n",
      "2022-08-22 19:51:05+00:00 #alexa skill The Flame Before Us enable free US: https://t.co/Rj46vaXmeC #HistoricalFiction Conflict and commitment https://t.co/tFdKS7KU4d\n",
      "Metrics {'retweet_count': 0, 'reply_count': 0, 'like_count': 0, 'quote_count': 0}\n",
      "[{'domain': {'id': '47', 'name': 'Brand', 'description': 'Brands and Companies'}, 'entity': {'id': '10026792024', 'name': 'Amazon'}}, {'domain': {'id': '48', 'name': 'Product', 'description': 'Products created by Brands.  Examples: Ford Explorer, Apple iPhone.'}, 'entity': {'id': '968221983803494400', 'name': 'Amazon - Alexa', 'description': 'Alexa'}}, {'domain': {'id': '85', 'name': 'Book Genre', 'description': 'A genre for books, like Fiction'}, 'entity': {'id': '859837853076930560', 'name': 'Historical fiction', 'description': 'Historical fiction'}}, {'domain': {'id': '131', 'name': 'Unified Twitter Taxonomy', 'description': 'A taxonomy view into the Semantic Core knowledge graph'}, 'entity': {'id': '839544274442051584', 'name': 'Entertainment'}}, {'domain': {'id': '131', 'name': 'Unified Twitter Taxonomy', 'description': 'A taxonomy view into the Semantic Core knowledge graph'}, 'entity': {'id': '847519659179954178', 'name': 'Books', 'description': 'Books and literature'}}, {'domain': {'id': '131', 'name': 'Unified Twitter Taxonomy', 'description': 'A taxonomy view into the Semantic Core knowledge graph'}, 'entity': {'id': '859837853076930560', 'name': 'Historical fiction', 'description': 'Historical fiction'}}]\n",
      "=======\n",
      "2022-08-22 19:50:19+00:00 Kanu Surf Girls' Alexa UPF 50+ Sun Protective Rashguard Swim Shirt [B7YN4I2]\n",
      "\n",
      "https://t.co/ruDHTreFXb\n",
      "Metrics {'retweet_count': 0, 'reply_count': 0, 'like_count': 0, 'quote_count': 0}\n",
      "=======\n",
      "2022-08-22 19:50:16+00:00 etife スマートリモコン 温湿度計 一体型 Alexa Google Home Siri 対応 学習リモコン 温度計 湿度計 温度 湿度 (Black - 角型) 720\n",
      "\n",
      "家電 おすすめ\n",
      "https://t.co/u1aHriqODQ\n",
      "Metrics {'retweet_count': 0, 'reply_count': 0, 'like_count': 0, 'quote_count': 0}\n",
      "[{'domain': {'id': '47', 'name': 'Brand', 'description': 'Brands and Companies'}, 'entity': {'id': '10026364281', 'name': 'Apple'}}, {'domain': {'id': '48', 'name': 'Product', 'description': 'Products created by Brands.  Examples: Ford Explorer, Apple iPhone.'}, 'entity': {'id': '10041893638', 'name': 'Apple - Siri'}}]\n",
      "=======\n",
      "2022-08-22 19:50:10+00:00 Yes, your Roomba is spying on you, along with Alexa, Kindle, Nest, your smart TV and your phone among others. But we asked them to do it. We begged for them to suck dirt off our floors because we’re lazy, rich and can’t be bothered. It’s the new reality.  https://t.co/5H0zS0No1B\n",
      "Metrics {'retweet_count': 0, 'reply_count': 0, 'like_count': 0, 'quote_count': 0}\n",
      "[{'domain': {'id': '30', 'name': 'Entities [Entity Service]', 'description': 'Entity Service top level domain, every item that is in Entity Service should be in this domain'}, 'entity': {'id': '781974596752842752', 'name': 'Services'}}, {'domain': {'id': '47', 'name': 'Brand', 'description': 'Brands and Companies'}, 'entity': {'id': '10043230776', 'name': 'Nest'}}]\n",
      "=======\n",
      "2022-08-22 19:49:49+00:00 💠 Controle Universal Infravermelho IZY Connect Smart Intelbras Compatível com Alexa\n",
      "\n",
      "🏷️ por R$89,00 - à vista\n",
      "\n",
      "🚚 Frete PRIME grátis! \n",
      "\n",
      "📥 Acesse: https://t.co/aJRzC698sx\n",
      "\n",
      "🛍 Loja: Amazon\n",
      "\n",
      "💬 Grupos e Redes Sociais do Meus Descontos: https://t.co/1xHc4JbH4a https://t.co/0A9048O2OZ\n",
      "Metrics {'retweet_count': 0, 'reply_count': 0, 'like_count': 0, 'quote_count': 0}\n",
      "[{'domain': {'id': '47', 'name': 'Brand', 'description': 'Brands and Companies'}, 'entity': {'id': '10026792024', 'name': 'Amazon'}}, {'domain': {'id': '48', 'name': 'Product', 'description': 'Products created by Brands.  Examples: Ford Explorer, Apple iPhone.'}, 'entity': {'id': '968221983803494400', 'name': 'Amazon - Alexa', 'description': 'Alexa'}}, {'domain': {'id': '45', 'name': 'Brand Vertical', 'description': 'Top level entities that describe a Brands industry'}, 'entity': {'id': '781974596706635776', 'name': 'Retail'}}, {'domain': {'id': '30', 'name': 'Entities [Entity Service]', 'description': 'Entity Service top level domain, every item that is in Entity Service should be in this domain'}, 'entity': {'id': '783335558466506752', 'name': 'Online - Retail'}}, {'domain': {'id': '47', 'name': 'Brand', 'description': 'Brands and Companies'}, 'entity': {'id': '10026792024', 'name': 'Amazon'}}, {'domain': {'id': '48', 'name': 'Product', 'description': 'Products created by Brands.  Examples: Ford Explorer, Apple iPhone.'}, 'entity': {'id': '10046538542', 'name': 'Amazon Prime'}}]\n",
      "=======\n",
      "2022-08-22 19:49:29+00:00 ルンバ e5 アイロボット ロボット掃除機 水洗い ダストボックス パワフルな吸引力 WiFi対応 遠隔操作 自動充電 ラグ 絨毯(じゅうたん) にも e515060 【Alexa対応】 531\n",
      "\n",
      "家電 おすすめ\n",
      "https://t.co/vfolczuMmL\n",
      "Metrics {'retweet_count': 0, 'reply_count': 0, 'like_count': 0, 'quote_count': 0}\n",
      "[{'domain': {'id': '30', 'name': 'Entities [Entity Service]', 'description': 'Entity Service top level domain, every item that is in Entity Service should be in this domain'}, 'entity': {'id': '848920371311001600', 'name': 'Technology', 'description': 'Technology and computing'}}, {'domain': {'id': '131', 'name': 'Unified Twitter Taxonomy', 'description': 'A taxonomy view into the Semantic Core knowledge graph'}, 'entity': {'id': '848920371311001600', 'name': 'Technology', 'description': 'Technology and computing'}}, {'domain': {'id': '165', 'name': 'Technology', 'description': 'for individual and types of technology, e.g., food technology, 3D printing'}, 'entity': {'id': '1148689566112477184', 'name': 'Wi-Fi'}}]\n",
      "=======\n",
      "2022-08-22 19:48:17+00:00 ＼📢便利なAmazonデバイス♪／\n",
      "\n",
      "Fire TV Stick\n",
      "▶https://t.co/jELsACUBeN\n",
      "Prime Video、YouTubeなど、豊富な動画が大画面で楽しめる\n",
      "\n",
      "Echo &amp; Alexa\n",
      "▶https://t.co/aNrzaoKqrb\n",
      "スマートホーム対応家電などをリモート操作できるスマートスピーカー\n",
      "\n",
      "Kindle\n",
      "▶https://t.co/3OdQ7bx6NW\n",
      "電子書籍リーダー\n",
      "Metrics {'retweet_count': 0, 'reply_count': 0, 'like_count': 0, 'quote_count': 0}\n",
      "[{'domain': {'id': '23', 'name': 'TV Channels', 'description': 'Television Channels'}, 'entity': {'id': '1283512999584559104', 'name': 'Amazon Prime Video JP'}}, {'domain': {'id': '45', 'name': 'Brand Vertical', 'description': 'Top level entities that describe a Brands industry'}, 'entity': {'id': '781974596706635776', 'name': 'Retail'}}, {'domain': {'id': '30', 'name': 'Entities [Entity Service]', 'description': 'Entity Service top level domain, every item that is in Entity Service should be in this domain'}, 'entity': {'id': '783335558466506752', 'name': 'Online - Retail'}}, {'domain': {'id': '47', 'name': 'Brand', 'description': 'Brands and Companies'}, 'entity': {'id': '10026792024', 'name': 'Amazon'}}, {'domain': {'id': '47', 'name': 'Brand', 'description': 'Brands and Companies'}, 'entity': {'id': '10045512584', 'name': 'Amazon Prime Video'}}, {'domain': {'id': '48', 'name': 'Product', 'description': 'Products created by Brands.  Examples: Ford Explorer, Apple iPhone.'}, 'entity': {'id': '10045512584', 'name': 'Amazon Prime Video'}}, {'domain': {'id': '48', 'name': 'Product', 'description': 'Products created by Brands.  Examples: Ford Explorer, Apple iPhone.'}, 'entity': {'id': '968221983803494400', 'name': 'Amazon - Alexa', 'description': 'Alexa'}}, {'domain': {'id': '131', 'name': 'Unified Twitter Taxonomy', 'description': 'A taxonomy view into the Semantic Core knowledge graph'}, 'entity': {'id': '10045512584', 'name': 'Amazon Prime Video'}}, {'domain': {'id': '131', 'name': 'Unified Twitter Taxonomy', 'description': 'A taxonomy view into the Semantic Core knowledge graph'}, 'entity': {'id': '1196446161223028736', 'name': 'Social media'}}, {'domain': {'id': '131', 'name': 'Unified Twitter Taxonomy', 'description': 'A taxonomy view into the Semantic Core knowledge graph'}, 'entity': {'id': '1196447585004736512', 'name': 'Entertainment industry'}}, {'domain': {'id': '131', 'name': 'Unified Twitter Taxonomy', 'description': 'A taxonomy view into the Semantic Core knowledge graph'}, 'entity': {'id': '1289139633301815296', 'name': 'Home automation'}}, {'domain': {'id': '131', 'name': 'Unified Twitter Taxonomy', 'description': 'A taxonomy view into the Semantic Core knowledge graph'}, 'entity': {'id': '1397573214239289349', 'name': 'TV streaming services'}}, {'domain': {'id': '165', 'name': 'Technology', 'description': 'for individual and types of technology, e.g., food technology, 3D printing'}, 'entity': {'id': '1196446161223028736', 'name': 'Social media'}}, {'domain': {'id': '45', 'name': 'Brand Vertical', 'description': 'Top level entities that describe a Brands industry'}, 'entity': {'id': '781974596706635776', 'name': 'Retail'}}, {'domain': {'id': '30', 'name': 'Entities [Entity Service]', 'description': 'Entity Service top level domain, every item that is in Entity Service should be in this domain'}, 'entity': {'id': '781974596752842752', 'name': 'Services'}}, {'domain': {'id': '30', 'name': 'Entities [Entity Service]', 'description': 'Entity Service top level domain, every item that is in Entity Service should be in this domain'}, 'entity': {'id': '783335558466506752', 'name': 'Online - Retail'}}, {'domain': {'id': '47', 'name': 'Brand', 'description': 'Brands and Companies'}, 'entity': {'id': '10026792024', 'name': 'Amazon'}}, {'domain': {'id': '47', 'name': 'Brand', 'description': 'Brands and Companies'}, 'entity': {'id': '10029382357', 'name': 'YouTube'}}, {'domain': {'id': '48', 'name': 'Product', 'description': 'Products created by Brands.  Examples: Ford Explorer, Apple iPhone.'}, 'entity': {'id': '10046538542', 'name': 'Amazon Prime'}}, {'domain': {'id': '30', 'name': 'Entities [Entity Service]', 'description': 'Entity Service top level domain, every item that is in Entity Service should be in this domain'}, 'entity': {'id': '848920371311001600', 'name': 'Technology', 'description': 'Technology and computing'}}, {'domain': {'id': '66', 'name': 'Interests and Hobbies Category', 'description': 'A grouping of interests and hobbies entities, like Novelty Food or Destinations'}, 'entity': {'id': '848959357404434433', 'name': 'Entertainment systems', 'description': 'Home entertainment'}}, {'domain': {'id': '131', 'name': 'Unified Twitter Taxonomy', 'description': 'A taxonomy view into the Semantic Core knowledge graph'}, 'entity': {'id': '10029382357', 'name': 'YouTube'}}, {'domain': {'id': '131', 'name': 'Unified Twitter Taxonomy', 'description': 'A taxonomy view into the Semantic Core knowledge graph'}, 'entity': {'id': '848959357404434433', 'name': 'Entertainment systems', 'description': 'Home entertainment'}}]\n",
      "=======\n",
      "2022-08-22 19:47:53+00:00 RT @CSMcDonald7: Follow Alexa Owl &amp; that handsome, wayward angel, Det. Bobby Starr back to the 50s &amp; 60s to solve cold cases from long ago!…\n",
      "Metrics {'retweet_count': 26, 'reply_count': 0, 'like_count': 0, 'quote_count': 0}\n",
      "=======\n",
      "2022-08-22 19:47:31+00:00 ルンバ 692 ロボット掃除機 アイロボット WiFi対応 遠隔操作 自動充電 グレー R692060 Alexa対応 【https://t.co/RNt0vfnJ5g限定】 587\n",
      "\n",
      "家電 売れ筋\n",
      "https://t.co/PZgnWtRtaP\n",
      "Metrics {'retweet_count': 0, 'reply_count': 0, 'like_count': 0, 'quote_count': 0}\n",
      "[{'domain': {'id': '30', 'name': 'Entities [Entity Service]', 'description': 'Entity Service top level domain, every item that is in Entity Service should be in this domain'}, 'entity': {'id': '848920371311001600', 'name': 'Technology', 'description': 'Technology and computing'}}, {'domain': {'id': '131', 'name': 'Unified Twitter Taxonomy', 'description': 'A taxonomy view into the Semantic Core knowledge graph'}, 'entity': {'id': '848920371311001600', 'name': 'Technology', 'description': 'Technology and computing'}}, {'domain': {'id': '165', 'name': 'Technology', 'description': 'for individual and types of technology, e.g., food technology, 3D printing'}, 'entity': {'id': '1148689566112477184', 'name': 'Wi-Fi'}}]\n",
      "=======\n",
      "2022-08-22 19:46:29+00:00 【新登場】Echo Buds (エコーバッズ) 第2世代 - アクティブノイズキャンセリング付き完全ワイヤレスイヤホン with Alexa｜ブラック 243\n",
      "\n",
      "Amazon おすすめ\n",
      "https://t.co/DmwI4pGtZA\n",
      "Metrics {'retweet_count': 0, 'reply_count': 0, 'like_count': 0, 'quote_count': 0}\n",
      "[{'domain': {'id': '47', 'name': 'Brand', 'description': 'Brands and Companies'}, 'entity': {'id': '10026792024', 'name': 'Amazon'}}, {'domain': {'id': '48', 'name': 'Product', 'description': 'Products created by Brands.  Examples: Ford Explorer, Apple iPhone.'}, 'entity': {'id': '968221983803494400', 'name': 'Amazon - Alexa', 'description': 'Alexa'}}]\n",
      "=======\n",
      "2022-08-22 19:46:24+00:00 ルンバ 692 ロボット掃除機 アイロボット WiFi対応 遠隔操作 自動充電 グレー R692060 Alexa対応 【https://t.co/3CYNcGkG2S限定】\n",
      "\n",
      "Amazon を、チェック！\n",
      "https://t.co/tjwCpzDg5Z\n",
      "Metrics {'retweet_count': 0, 'reply_count': 0, 'like_count': 0, 'quote_count': 0}\n",
      "[{'domain': {'id': '47', 'name': 'Brand', 'description': 'Brands and Companies'}, 'entity': {'id': '10026792024', 'name': 'Amazon'}}, {'domain': {'id': '48', 'name': 'Product', 'description': 'Products created by Brands.  Examples: Ford Explorer, Apple iPhone.'}, 'entity': {'id': '968221983803494400', 'name': 'Amazon - Alexa', 'description': 'Alexa'}}, {'domain': {'id': '30', 'name': 'Entities [Entity Service]', 'description': 'Entity Service top level domain, every item that is in Entity Service should be in this domain'}, 'entity': {'id': '848920371311001600', 'name': 'Technology', 'description': 'Technology and computing'}}, {'domain': {'id': '131', 'name': 'Unified Twitter Taxonomy', 'description': 'A taxonomy view into the Semantic Core knowledge graph'}, 'entity': {'id': '848920371311001600', 'name': 'Technology', 'description': 'Technology and computing'}}, {'domain': {'id': '165', 'name': 'Technology', 'description': 'for individual and types of technology, e.g., food technology, 3D printing'}, 'entity': {'id': '1148689566112477184', 'name': 'Wi-Fi'}}]\n",
      "=======\n",
      "2022-08-22 19:45:19+00:00 SETHDA スマートリモコン 家電コントロール 赤外線 遠隔操作 WiFi 温度 リモートコントロール Alexa Google Home 対応 YRC11 530\n",
      "\n",
      "家電 おすすめ\n",
      "https://t.co/yDPMD7SWvM\n",
      "Metrics {'retweet_count': 0, 'reply_count': 0, 'like_count': 0, 'quote_count': 0}\n",
      "[{'domain': {'id': '30', 'name': 'Entities [Entity Service]', 'description': 'Entity Service top level domain, every item that is in Entity Service should be in this domain'}, 'entity': {'id': '848920371311001600', 'name': 'Technology', 'description': 'Technology and computing'}}, {'domain': {'id': '131', 'name': 'Unified Twitter Taxonomy', 'description': 'A taxonomy view into the Semantic Core knowledge graph'}, 'entity': {'id': '848920371311001600', 'name': 'Technology', 'description': 'Technology and computing'}}, {'domain': {'id': '165', 'name': 'Technology', 'description': 'for individual and types of technology, e.g., food technology, 3D printing'}, 'entity': {'id': '1148689566112477184', 'name': 'Wi-Fi'}}]\n",
      "=======\n",
      "2022-08-22 19:45:07+00:00 【全自動掃除機】ECOVACS(エコバックス)DEEBOT X1 OMNI ロボット掃除機 モップの自動洗浄 5000Pa強力吸引 AIVI 3D障害物回避システム 高精度マッピング機能 3Dマップ 高性能カメラ 音声アシストYIKO Alexa対応 347\n",
      "\n",
      "家電 売れ筋\n",
      "https://t.co/OjQa1MLZla\n",
      "Metrics {'retweet_count': 0, 'reply_count': 0, 'like_count': 0, 'quote_count': 0}\n",
      "=======\n",
      "2022-08-22 19:45:03+00:00 Echo Dot (エコードット) 第4世代 - スマートスピーカー with Alexa、グレーシャーホワイト 366\n",
      "\n",
      "Amazon おすすめ\n",
      "https://t.co/QhPMtZOR3c\n",
      "Metrics {'retweet_count': 0, 'reply_count': 0, 'like_count': 0, 'quote_count': 0}\n",
      "[{'domain': {'id': '47', 'name': 'Brand', 'description': 'Brands and Companies'}, 'entity': {'id': '10026792024', 'name': 'Amazon'}}, {'domain': {'id': '48', 'name': 'Product', 'description': 'Products created by Brands.  Examples: Ford Explorer, Apple iPhone.'}, 'entity': {'id': '968221983803494400', 'name': 'Amazon - Alexa', 'description': 'Alexa'}}, {'domain': {'id': '131', 'name': 'Unified Twitter Taxonomy', 'description': 'A taxonomy view into the Semantic Core knowledge graph'}, 'entity': {'id': '1289139633301815296', 'name': 'Home automation'}}]\n",
      "=======\n",
      "2022-08-22 19:43:31+00:00 SETHDA スマートリモコン 家電コントロール 赤外線 遠隔操作 WiFi 温度 リモートコントロール Amazon Alexa Google Home 対応 YRC11 737\n",
      "\n",
      "家電 おすすめ\n",
      "https://t.co/VlKSe2mTnS\n",
      "Metrics {'retweet_count': 0, 'reply_count': 0, 'like_count': 0, 'quote_count': 0}\n",
      "[{'domain': {'id': '47', 'name': 'Brand', 'description': 'Brands and Companies'}, 'entity': {'id': '10026792024', 'name': 'Amazon'}}, {'domain': {'id': '48', 'name': 'Product', 'description': 'Products created by Brands.  Examples: Ford Explorer, Apple iPhone.'}, 'entity': {'id': '968221983803494400', 'name': 'Amazon - Alexa', 'description': 'Alexa'}}, {'domain': {'id': '30', 'name': 'Entities [Entity Service]', 'description': 'Entity Service top level domain, every item that is in Entity Service should be in this domain'}, 'entity': {'id': '848920371311001600', 'name': 'Technology', 'description': 'Technology and computing'}}, {'domain': {'id': '131', 'name': 'Unified Twitter Taxonomy', 'description': 'A taxonomy view into the Semantic Core knowledge graph'}, 'entity': {'id': '848920371311001600', 'name': 'Technology', 'description': 'Technology and computing'}}, {'domain': {'id': '165', 'name': 'Technology', 'description': 'for individual and types of technology, e.g., food technology, 3D printing'}, 'entity': {'id': '1148689566112477184', 'name': 'Wi-Fi'}}]\n",
      "=======\n",
      "2022-08-22 19:43:27+00:00 RT @xion59987802: Fire TV Stick 4K Max - Alexa対応音声認識リモコン(第3世代)付属 | ストリーミングメディアプレーヤー \n",
      "#Amazon \n",
      "\n",
      "https://t.co/c26njCAMsq @amazonより\n",
      "Metrics {'retweet_count': 69, 'reply_count': 0, 'like_count': 0, 'quote_count': 0}\n",
      "[{'domain': {'id': '47', 'name': 'Brand', 'description': 'Brands and Companies'}, 'entity': {'id': '10026792024', 'name': 'Amazon'}}, {'domain': {'id': '48', 'name': 'Product', 'description': 'Products created by Brands.  Examples: Ford Explorer, Apple iPhone.'}, 'entity': {'id': '968221983803494400', 'name': 'Amazon - Alexa', 'description': 'Alexa'}}, {'domain': {'id': '30', 'name': 'Entities [Entity Service]', 'description': 'Entity Service top level domain, every item that is in Entity Service should be in this domain'}, 'entity': {'id': '848920371311001600', 'name': 'Technology', 'description': 'Technology and computing'}}, {'domain': {'id': '30', 'name': 'Entities [Entity Service]', 'description': 'Entity Service top level domain, every item that is in Entity Service should be in this domain'}, 'entity': {'id': '1129035670322700288', 'name': 'Voice Recognition'}}, {'domain': {'id': '131', 'name': 'Unified Twitter Taxonomy', 'description': 'A taxonomy view into the Semantic Core knowledge graph'}, 'entity': {'id': '848920371311001600', 'name': 'Technology', 'description': 'Technology and computing'}}, {'domain': {'id': '131', 'name': 'Unified Twitter Taxonomy', 'description': 'A taxonomy view into the Semantic Core knowledge graph'}, 'entity': {'id': '1129035670322700288', 'name': 'Voice Recognition'}}, {'domain': {'id': '131', 'name': 'Unified Twitter Taxonomy', 'description': 'A taxonomy view into the Semantic Core knowledge graph'}, 'entity': {'id': '1289139633301815296', 'name': 'Home automation'}}]\n",
      "=======\n",
      "2022-08-22 19:41:45+00:00 🔥 Fire TV Stick 4K \n",
      "\n",
      "👉 34.99€ au lieu de 59.99€ pour cet article !\n",
      " 🔗https://t.co/bSLjMHWZn8 https://t.co/9OnKfv0jUI\n",
      "Metrics {'retweet_count': 0, 'reply_count': 0, 'like_count': 0, 'quote_count': 0}\n",
      "=======\n",
      "2022-08-22 19:41:44+00:00 AA: 【セット買い】アイリスオーヤマ サーキュレータアイ 18畳 上下左右首振り デザインモデル PCF-SCC15T-W マットホワイト+スマートリモコン SMT-RC1 Alexa/Google Home/Siri対応 https://t.co/XVwv67z1sx 4:40:04\n",
      "Metrics {'retweet_count': 0, 'reply_count': 0, 'like_count': 0, 'quote_count': 0}\n",
      "[{'domain': {'id': '47', 'name': 'Brand', 'description': 'Brands and Companies'}, 'entity': {'id': '10026364281', 'name': 'Apple'}}, {'domain': {'id': '48', 'name': 'Product', 'description': 'Products created by Brands.  Examples: Ford Explorer, Apple iPhone.'}, 'entity': {'id': '10041893638', 'name': 'Apple - Siri'}}]\n",
      "=======\n",
      "2022-08-22 19:40:17+00:00 SETHDA スマートリモコン 家電コントロール 赤外線 遠隔操作 WiFi 温度 リモートコントロール Amazon Alexa Google Home 対応 YRC11 014\n",
      "\n",
      "家電 おすすめ\n",
      "https://t.co/Ig9MQTkPlT\n",
      "Metrics {'retweet_count': 0, 'reply_count': 0, 'like_count': 0, 'quote_count': 0}\n",
      "[{'domain': {'id': '47', 'name': 'Brand', 'description': 'Brands and Companies'}, 'entity': {'id': '10026792024', 'name': 'Amazon'}}, {'domain': {'id': '48', 'name': 'Product', 'description': 'Products created by Brands.  Examples: Ford Explorer, Apple iPhone.'}, 'entity': {'id': '968221983803494400', 'name': 'Amazon - Alexa', 'description': 'Alexa'}}, {'domain': {'id': '30', 'name': 'Entities [Entity Service]', 'description': 'Entity Service top level domain, every item that is in Entity Service should be in this domain'}, 'entity': {'id': '848920371311001600', 'name': 'Technology', 'description': 'Technology and computing'}}, {'domain': {'id': '131', 'name': 'Unified Twitter Taxonomy', 'description': 'A taxonomy view into the Semantic Core knowledge graph'}, 'entity': {'id': '848920371311001600', 'name': 'Technology', 'description': 'Technology and computing'}}, {'domain': {'id': '165', 'name': 'Technology', 'description': 'for individual and types of technology, e.g., food technology, 3D printing'}, 'entity': {'id': '1148689566112477184', 'name': 'Wi-Fi'}}]\n",
      "=======\n",
      "2022-08-22 19:39:58+00:00 @jack98daniel https://t.co/zaFYXui1V0 ai a pessoa conecta a tomada no aparelho e comanda pela alexa\n",
      "Metrics {'retweet_count': 0, 'reply_count': 0, 'like_count': 0, 'quote_count': 0}\n",
      "=======\n",
      "2022-08-22 19:39:13+00:00 Controle Remoto Universal Wifi Smart Home Compatível com Alexa e Google - Elgin na Amazon - R$ 82,80. Oferta Relâmpago. #oferta #relampago #desconto #promoção #cupom https://t.co/Xd4Pyz4nFG\n",
      "Metrics {'retweet_count': 0, 'reply_count': 0, 'like_count': 0, 'quote_count': 0}\n",
      "[{'domain': {'id': '30', 'name': 'Entities [Entity Service]', 'description': 'Entity Service top level domain, every item that is in Entity Service should be in this domain'}, 'entity': {'id': '781974596752842752', 'name': 'Services'}}, {'domain': {'id': '47', 'name': 'Brand', 'description': 'Brands and Companies'}, 'entity': {'id': '10026378521', 'name': 'Google '}}, {'domain': {'id': '47', 'name': 'Brand', 'description': 'Brands and Companies'}, 'entity': {'id': '10026792024', 'name': 'Amazon'}}, {'domain': {'id': '48', 'name': 'Product', 'description': 'Products created by Brands.  Examples: Ford Explorer, Apple iPhone.'}, 'entity': {'id': '968221983803494400', 'name': 'Amazon - Alexa', 'description': 'Alexa'}}, {'domain': {'id': '48', 'name': 'Product', 'description': 'Products created by Brands.  Examples: Ford Explorer, Apple iPhone.'}, 'entity': {'id': '1395474411180892160', 'name': 'Google brand conversation'}}, {'domain': {'id': '30', 'name': 'Entities [Entity Service]', 'description': 'Entity Service top level domain, every item that is in Entity Service should be in this domain'}, 'entity': {'id': '848920371311001600', 'name': 'Technology', 'description': 'Technology and computing'}}, {'domain': {'id': '66', 'name': 'Interests and Hobbies Category', 'description': 'A grouping of interests and hobbies entities, like Novelty Food or Destinations'}, 'entity': {'id': '898657691010191360', 'name': 'Internet of things', 'description': 'Internet of Things'}}, {'domain': {'id': '131', 'name': 'Unified Twitter Taxonomy', 'description': 'A taxonomy view into the Semantic Core knowledge graph'}, 'entity': {'id': '848920371311001600', 'name': 'Technology', 'description': 'Technology and computing'}}, {'domain': {'id': '131', 'name': 'Unified Twitter Taxonomy', 'description': 'A taxonomy view into the Semantic Core knowledge graph'}, 'entity': {'id': '1289139633301815296', 'name': 'Home automation'}}, {'domain': {'id': '131', 'name': 'Unified Twitter Taxonomy', 'description': 'A taxonomy view into the Semantic Core knowledge graph'}, 'entity': {'id': '1357433113593344000', 'name': 'Smart technology'}}, {'domain': {'id': '165', 'name': 'Technology', 'description': 'for individual and types of technology, e.g., food technology, 3D printing'}, 'entity': {'id': '1148689566112477184', 'name': 'Wi-Fi'}}, {'domain': {'id': '30', 'name': 'Entities [Entity Service]', 'description': 'Entity Service top level domain, every item that is in Entity Service should be in this domain'}, 'entity': {'id': '848920371311001600', 'name': 'Technology', 'description': 'Technology and computing'}}, {'domain': {'id': '66', 'name': 'Interests and Hobbies Category', 'description': 'A grouping of interests and hobbies entities, like Novelty Food or Destinations'}, 'entity': {'id': '898657691010191360', 'name': 'Internet of things', 'description': 'Internet of Things'}}]\n",
      "=======\n",
      "2022-08-22 19:38:30+00:00 Echo Show 8 (エコーショー8) 第2世代 - HDスマートディスプレイ with Alexa、13メガピクセルカメラ付き、グレーシャーホワイト 323\n",
      "\n",
      "Amazon おすすめ\n",
      "https://t.co/Rao7BORPnN\n",
      "Metrics {'retweet_count': 0, 'reply_count': 0, 'like_count': 0, 'quote_count': 0}\n",
      "[{'domain': {'id': '47', 'name': 'Brand', 'description': 'Brands and Companies'}, 'entity': {'id': '10026792024', 'name': 'Amazon'}}, {'domain': {'id': '48', 'name': 'Product', 'description': 'Products created by Brands.  Examples: Ford Explorer, Apple iPhone.'}, 'entity': {'id': '968221983803494400', 'name': 'Amazon - Alexa', 'description': 'Alexa'}}]\n",
      "=======\n",
      "2022-08-22 19:38:06+00:00 LG 55型 4Kチューナー内蔵 有機EL テレビ OLED55B1PJA Alexa 搭載 2021 年モデル 772\n",
      "\n",
      "家電 売れ筋\n",
      "https://t.co/9si2vXLzmj\n",
      "Metrics {'retweet_count': 0, 'reply_count': 0, 'like_count': 1, 'quote_count': 0}\n",
      "=======\n",
      "2022-08-22 19:37:03+00:00 Alexa対応音声認識リモコン(2021年発売 第3世代) | 対応する別売りのFire TV本体が必要です 444\n",
      "\n",
      "Amazon おすすめ\n",
      "https://t.co/TZk48WpLmB\n",
      "Metrics {'retweet_count': 0, 'reply_count': 0, 'like_count': 0, 'quote_count': 0}\n",
      "[{'domain': {'id': '47', 'name': 'Brand', 'description': 'Brands and Companies'}, 'entity': {'id': '10026792024', 'name': 'Amazon'}}, {'domain': {'id': '48', 'name': 'Product', 'description': 'Products created by Brands.  Examples: Ford Explorer, Apple iPhone.'}, 'entity': {'id': '968221983803494400', 'name': 'Amazon - Alexa', 'description': 'Alexa'}}, {'domain': {'id': '30', 'name': 'Entities [Entity Service]', 'description': 'Entity Service top level domain, every item that is in Entity Service should be in this domain'}, 'entity': {'id': '848920371311001600', 'name': 'Technology', 'description': 'Technology and computing'}}, {'domain': {'id': '30', 'name': 'Entities [Entity Service]', 'description': 'Entity Service top level domain, every item that is in Entity Service should be in this domain'}, 'entity': {'id': '1129035670322700288', 'name': 'Voice Recognition'}}, {'domain': {'id': '131', 'name': 'Unified Twitter Taxonomy', 'description': 'A taxonomy view into the Semantic Core knowledge graph'}, 'entity': {'id': '848920371311001600', 'name': 'Technology', 'description': 'Technology and computing'}}, {'domain': {'id': '131', 'name': 'Unified Twitter Taxonomy', 'description': 'A taxonomy view into the Semantic Core knowledge graph'}, 'entity': {'id': '1129035670322700288', 'name': 'Voice Recognition'}}]\n",
      "=======\n",
      "2022-08-22 19:36:53+00:00 🔥 Fire TV Stick Lite \n",
      "\n",
      "👉 19.99€ au lieu de 29.99€ pour cet article !\n",
      " 🔗https://t.co/LCyuieyEj3 https://t.co/C9c2L5Q6Mu\n",
      "Metrics {'retweet_count': 0, 'reply_count': 0, 'like_count': 0, 'quote_count': 0}\n",
      "=======\n",
      "2022-08-22 19:36:44+00:00 AA: 【セット買い】アイリスオーヤマ サーキュレーターアイ 18畳 上下左右首振り 音声操作 ホワイト PCF-SCV15T+スマートリモコン SMT-RC1 Alexa/Google Home/Siri対応 https://t.co/sCVt7eOLlP 4:35:04\n",
      "Metrics {'retweet_count': 0, 'reply_count': 0, 'like_count': 0, 'quote_count': 0}\n",
      "[{'domain': {'id': '47', 'name': 'Brand', 'description': 'Brands and Companies'}, 'entity': {'id': '10026364281', 'name': 'Apple'}}, {'domain': {'id': '48', 'name': 'Product', 'description': 'Products created by Brands.  Examples: Ford Explorer, Apple iPhone.'}, 'entity': {'id': '10041893638', 'name': 'Apple - Siri'}}]\n",
      "=======\n",
      "2022-08-22 19:36:33+00:00 SETHDA スマートリモコン 家電コントロール 赤外線 遠隔操作 WiFi 温度 リモートコントロール Amazon Alexa Google Home 対応 YRC11 446\n",
      "\n",
      "家電 おすすめ\n",
      "https://t.co/VlKSe2mTnS\n",
      "Metrics {'retweet_count': 0, 'reply_count': 0, 'like_count': 0, 'quote_count': 0}\n",
      "[{'domain': {'id': '47', 'name': 'Brand', 'description': 'Brands and Companies'}, 'entity': {'id': '10026792024', 'name': 'Amazon'}}, {'domain': {'id': '48', 'name': 'Product', 'description': 'Products created by Brands.  Examples: Ford Explorer, Apple iPhone.'}, 'entity': {'id': '968221983803494400', 'name': 'Amazon - Alexa', 'description': 'Alexa'}}, {'domain': {'id': '30', 'name': 'Entities [Entity Service]', 'description': 'Entity Service top level domain, every item that is in Entity Service should be in this domain'}, 'entity': {'id': '848920371311001600', 'name': 'Technology', 'description': 'Technology and computing'}}, {'domain': {'id': '131', 'name': 'Unified Twitter Taxonomy', 'description': 'A taxonomy view into the Semantic Core knowledge graph'}, 'entity': {'id': '848920371311001600', 'name': 'Technology', 'description': 'Technology and computing'}}, {'domain': {'id': '165', 'name': 'Technology', 'description': 'for individual and types of technology, e.g., food technology, 3D printing'}, 'entity': {'id': '1148689566112477184', 'name': 'Wi-Fi'}}]\n",
      "=======\n",
      "2022-08-22 19:35:59+00:00 8/16まで20%off\n",
      "\n",
      "Fire TV Cube - Alexa対応音声認識リモコン(第3世代)付属 | ストリーミングメディアプレーヤー\n",
      "\n",
      "https://t.co/NfWSlOHAUU\n",
      "0823: 0435\n",
      "Metrics {'retweet_count': 0, 'reply_count': 0, 'like_count': 0, 'quote_count': 0}\n",
      "[{'domain': {'id': '30', 'name': 'Entities [Entity Service]', 'description': 'Entity Service top level domain, every item that is in Entity Service should be in this domain'}, 'entity': {'id': '848920371311001600', 'name': 'Technology', 'description': 'Technology and computing'}}, {'domain': {'id': '30', 'name': 'Entities [Entity Service]', 'description': 'Entity Service top level domain, every item that is in Entity Service should be in this domain'}, 'entity': {'id': '1129035670322700288', 'name': 'Voice Recognition'}}, {'domain': {'id': '131', 'name': 'Unified Twitter Taxonomy', 'description': 'A taxonomy view into the Semantic Core knowledge graph'}, 'entity': {'id': '848920371311001600', 'name': 'Technology', 'description': 'Technology and computing'}}, {'domain': {'id': '131', 'name': 'Unified Twitter Taxonomy', 'description': 'A taxonomy view into the Semantic Core knowledge graph'}, 'entity': {'id': '1129035670322700288', 'name': 'Voice Recognition'}}]\n",
      "=======\n",
      "2022-08-22 19:35:54+00:00 8/16まで29%off\n",
      "\n",
      "Fire TV Stick 4K Max - Alexa対応音声認識リモコン(第3世代)付属 | ストリーミングメディアプレーヤー\n",
      "https://t.co/K7lmAx1cc0\n",
      "0823: 0435\n",
      "Metrics {'retweet_count': 0, 'reply_count': 0, 'like_count': 0, 'quote_count': 0}\n",
      "[{'domain': {'id': '30', 'name': 'Entities [Entity Service]', 'description': 'Entity Service top level domain, every item that is in Entity Service should be in this domain'}, 'entity': {'id': '848920371311001600', 'name': 'Technology', 'description': 'Technology and computing'}}, {'domain': {'id': '30', 'name': 'Entities [Entity Service]', 'description': 'Entity Service top level domain, every item that is in Entity Service should be in this domain'}, 'entity': {'id': '1129035670322700288', 'name': 'Voice Recognition'}}, {'domain': {'id': '131', 'name': 'Unified Twitter Taxonomy', 'description': 'A taxonomy view into the Semantic Core knowledge graph'}, 'entity': {'id': '848920371311001600', 'name': 'Technology', 'description': 'Technology and computing'}}, {'domain': {'id': '131', 'name': 'Unified Twitter Taxonomy', 'description': 'A taxonomy view into the Semantic Core knowledge graph'}, 'entity': {'id': '1129035670322700288', 'name': 'Voice Recognition'}}]\n",
      "=======\n",
      "2022-08-22 19:35:48+00:00 8/16まで40%off\n",
      "\n",
      "Fire TV Stick - Alexa対応音声認識リモコン(第3世代)付属 | ストリーミングメディアプレーヤー\n",
      "\n",
      "https://t.co/ODeAjW4kTh\n",
      "0823: 0435\n",
      "Metrics {'retweet_count': 0, 'reply_count': 0, 'like_count': 0, 'quote_count': 0}\n",
      "[{'domain': {'id': '30', 'name': 'Entities [Entity Service]', 'description': 'Entity Service top level domain, every item that is in Entity Service should be in this domain'}, 'entity': {'id': '848920371311001600', 'name': 'Technology', 'description': 'Technology and computing'}}, {'domain': {'id': '30', 'name': 'Entities [Entity Service]', 'description': 'Entity Service top level domain, every item that is in Entity Service should be in this domain'}, 'entity': {'id': '1129035670322700288', 'name': 'Voice Recognition'}}, {'domain': {'id': '131', 'name': 'Unified Twitter Taxonomy', 'description': 'A taxonomy view into the Semantic Core knowledge graph'}, 'entity': {'id': '848920371311001600', 'name': 'Technology', 'description': 'Technology and computing'}}, {'domain': {'id': '131', 'name': 'Unified Twitter Taxonomy', 'description': 'A taxonomy view into the Semantic Core knowledge graph'}, 'entity': {'id': '1129035670322700288', 'name': 'Voice Recognition'}}]\n",
      "=======\n",
      "2022-08-22 19:35:34+00:00 ルンバ 692 ロボット掃除機 アイロボット WiFi対応 遠隔操作 自動充電 グレー R692060 Alexa対応 【https://t.co/3CYNcG2wOK限定】\n",
      "\n",
      "Amazon を、チェックしよう✨\n",
      "https://t.co/tjwCpzl6RR\n",
      "Metrics {'retweet_count': 0, 'reply_count': 0, 'like_count': 0, 'quote_count': 0}\n",
      "[{'domain': {'id': '47', 'name': 'Brand', 'description': 'Brands and Companies'}, 'entity': {'id': '10026792024', 'name': 'Amazon'}}, {'domain': {'id': '48', 'name': 'Product', 'description': 'Products created by Brands.  Examples: Ford Explorer, Apple iPhone.'}, 'entity': {'id': '968221983803494400', 'name': 'Amazon - Alexa', 'description': 'Alexa'}}, {'domain': {'id': '30', 'name': 'Entities [Entity Service]', 'description': 'Entity Service top level domain, every item that is in Entity Service should be in this domain'}, 'entity': {'id': '848920371311001600', 'name': 'Technology', 'description': 'Technology and computing'}}, {'domain': {'id': '131', 'name': 'Unified Twitter Taxonomy', 'description': 'A taxonomy view into the Semantic Core knowledge graph'}, 'entity': {'id': '848920371311001600', 'name': 'Technology', 'description': 'Technology and computing'}}, {'domain': {'id': '165', 'name': 'Technology', 'description': 'for individual and types of technology, e.g., food technology, 3D printing'}, 'entity': {'id': '1148689566112477184', 'name': 'Wi-Fi'}}]\n",
      "=======\n",
      "2022-08-22 19:35:01+00:00 Não deixe passar. Echo Dot (4ª geração): Smart Speaker com Relógio e Alexa!\n",
      "https://t.co/Wl1jAUmJeu\n",
      "Valor: R$ 499.00\n",
      "#promo #promocao #ofertas #casainteligente #amazon #echodot\n",
      "Metrics {'retweet_count': 0, 'reply_count': 0, 'like_count': 0, 'quote_count': 0}\n",
      "[{'domain': {'id': '47', 'name': 'Brand', 'description': 'Brands and Companies'}, 'entity': {'id': '10026792024', 'name': 'Amazon'}}, {'domain': {'id': '48', 'name': 'Product', 'description': 'Products created by Brands.  Examples: Ford Explorer, Apple iPhone.'}, 'entity': {'id': '968221983803494400', 'name': 'Amazon - Alexa', 'description': 'Alexa'}}, {'domain': {'id': '65', 'name': 'Interests and Hobbies Vertical', 'description': 'Top level interests and hobbies groupings, like Food or Travel'}, 'entity': {'id': '844603730221707264', 'name': 'Fashion', 'description': 'Fashion'}}, {'domain': {'id': '65', 'name': 'Interests and Hobbies Vertical', 'description': 'Top level interests and hobbies groupings, like Food or Travel'}, 'entity': {'id': '1256236649253449729', 'name': 'Fashion & beauty'}}, {'domain': {'id': '66', 'name': 'Interests and Hobbies Category', 'description': 'A grouping of interests and hobbies entities, like Novelty Food or Destinations'}, 'entity': {'id': '844604232737087488', 'name': 'General Fashion', 'description': 'General Fashion'}}, {'domain': {'id': '67', 'name': 'Interests and Hobbies', 'description': 'Interests, opinions, and behaviors of individuals, groups, or cultures; like Speciality Cooking or Theme Parks'}, 'entity': {'id': '839543390668673024', 'name': 'Fashion'}}, {'domain': {'id': '67', 'name': 'Interests and Hobbies', 'description': 'Interests, opinions, and behaviors of individuals, groups, or cultures; like Speciality Cooking or Theme Parks'}, 'entity': {'id': '846447164880433152', 'name': 'Fashion accessories', 'description': 'Accessories'}}, {'domain': {'id': '67', 'name': 'Interests and Hobbies', 'description': 'Interests, opinions, and behaviors of individuals, groups, or cultures; like Speciality Cooking or Theme Parks'}, 'entity': {'id': '846449261914996736', 'name': 'Watches', 'description': 'Fashion'}}, {'domain': {'id': '131', 'name': 'Unified Twitter Taxonomy', 'description': 'A taxonomy view into the Semantic Core knowledge graph'}, 'entity': {'id': '846449261914996736', 'name': 'Watches', 'description': 'Fashion'}}, {'domain': {'id': '131', 'name': 'Unified Twitter Taxonomy', 'description': 'A taxonomy view into the Semantic Core knowledge graph'}, 'entity': {'id': '1289139633301815296', 'name': 'Home automation'}}, {'domain': {'id': '173', 'name': 'Google Product Taxonomy', 'description': 'A product taxonomy created by Google'}, 'entity': {'id': '846449261914996736', 'name': 'Watches', 'description': 'Fashion'}}]\n",
      "=======\n",
      "2022-08-22 19:34:50+00:00 RT @CSMcDonald7: Follow Alexa Owl &amp; that handsome, wayward angel, Det. Bobby Starr back to the 50s &amp; 60s to solve cold cases from long ago!…\n",
      "Metrics {'retweet_count': 26, 'reply_count': 0, 'like_count': 0, 'quote_count': 0}\n",
      "=======\n",
      "2022-08-22 19:34:30+00:00 etife スマートリモコン 温湿度計 一体型 Alexa Google Home Siri 対応 学習リモコン 温度計 湿度計 温度 湿度 (Black - 角型) 040\n",
      "\n",
      "家電 おすすめ\n",
      "https://t.co/RUJINfraeD\n",
      "Metrics {'retweet_count': 0, 'reply_count': 0, 'like_count': 0, 'quote_count': 0}\n",
      "[{'domain': {'id': '47', 'name': 'Brand', 'description': 'Brands and Companies'}, 'entity': {'id': '10026364281', 'name': 'Apple'}}, {'domain': {'id': '48', 'name': 'Product', 'description': 'Products created by Brands.  Examples: Ford Explorer, Apple iPhone.'}, 'entity': {'id': '10041893638', 'name': 'Apple - Siri'}}]\n",
      "=======\n",
      "2022-08-22 19:33:31+00:00 RT @AffiliateSara: SAMSUNG 85-Inch Class QLED 4K UHD Q70A Series Dual LED Quantum HDR, Motion Xcelerator Turbo+, Multi View Screen, Smart T…\n",
      "Metrics {'retweet_count': 1, 'reply_count': 0, 'like_count': 0, 'quote_count': 0}\n",
      "[{'domain': {'id': '47', 'name': 'Brand', 'description': 'Brands and Companies'}, 'entity': {'id': '1174344555111469057', 'name': 'Samsung Indonesia'}}, {'domain': {'id': '47', 'name': 'Brand', 'description': 'Brands and Companies'}, 'entity': {'id': '10026364234', 'name': 'Samsung '}}, {'domain': {'id': '48', 'name': 'Product', 'description': 'Products created by Brands.  Examples: Ford Explorer, Apple iPhone.'}, 'entity': {'id': '10045298641', 'name': 'Samsung USA'}}]\n",
      "=======\n",
      "2022-08-22 19:33:27+00:00 RT @AffiliateSara: SAMSUNG 85-Inch Class Crystal 4K UHD AU8000 Series HDR, 3 HDMI Ports, Motion Xcelerator, Tap View, PC on TV, Q Symphony,…\n",
      "Metrics {'retweet_count': 1, 'reply_count': 0, 'like_count': 0, 'quote_count': 0}\n",
      "[{'domain': {'id': '47', 'name': 'Brand', 'description': 'Brands and Companies'}, 'entity': {'id': '1174344555111469057', 'name': 'Samsung Indonesia'}}, {'domain': {'id': '47', 'name': 'Brand', 'description': 'Brands and Companies'}, 'entity': {'id': '10026364234', 'name': 'Samsung '}}, {'domain': {'id': '48', 'name': 'Product', 'description': 'Products created by Brands.  Examples: Ford Explorer, Apple iPhone.'}, 'entity': {'id': '10045298641', 'name': 'Samsung USA'}}]\n",
      "=======\n",
      "2022-08-22 19:33:25+00:00 🔥 Fire TV Stick 4K Max \n",
      "\n",
      "👉 39.99€ au lieu de 64.99€ pour cet article !\n",
      " 🔗https://t.co/vOWdnBeKo1 https://t.co/ue5TFcsRcG\n",
      "Metrics {'retweet_count': 0, 'reply_count': 0, 'like_count': 0, 'quote_count': 0}\n",
      "=======\n",
      "2022-08-22 19:32:21+00:00 Today I need to love a Amazon Alexa\n",
      "Metrics {'retweet_count': 0, 'reply_count': 0, 'like_count': 0, 'quote_count': 0}\n",
      "[{'domain': {'id': '47', 'name': 'Brand', 'description': 'Brands and Companies'}, 'entity': {'id': '10026792024', 'name': 'Amazon'}}, {'domain': {'id': '48', 'name': 'Product', 'description': 'Products created by Brands.  Examples: Ford Explorer, Apple iPhone.'}, 'entity': {'id': '968221983803494400', 'name': 'Amazon - Alexa', 'description': 'Alexa'}}]\n",
      "=======\n",
      "2022-08-22 19:31:47+00:00 Echo Show 5 (エコーショー5) 第2世代 - スマートディスプレイ with Alexa、2メガピクセルカメラ付き、チャコール\n",
      "https://t.co/VEPyu51kvx\n",
      "Metrics {'retweet_count': 0, 'reply_count': 0, 'like_count': 0, 'quote_count': 0}\n",
      "[{'domain': {'id': '47', 'name': 'Brand', 'description': 'Brands and Companies'}, 'entity': {'id': '10026792024', 'name': 'Amazon'}}, {'domain': {'id': '48', 'name': 'Product', 'description': 'Products created by Brands.  Examples: Ford Explorer, Apple iPhone.'}, 'entity': {'id': '968221983803494400', 'name': 'Amazon - Alexa', 'description': 'Alexa'}}]\n",
      "=======\n",
      "2022-08-22 19:31:46+00:00 2022-08-23 04:31:46 のおすすめのアイテムは↓ \n",
      "結婚相手は本当に居るんだろうか？って思う時が自分にもありました。でも居たんです。それがAlexaでした https://t.co/8aGqtf5uV6\n",
      "Metrics {'retweet_count': 0, 'reply_count': 0, 'like_count': 0, 'quote_count': 0}\n",
      "[{'domain': {'id': '65', 'name': 'Interests and Hobbies Vertical', 'description': 'Top level interests and hobbies groupings, like Food or Travel'}, 'entity': {'id': '847896364256067584', 'name': 'Society', 'description': 'Society'}}, {'domain': {'id': '66', 'name': 'Interests and Hobbies Category', 'description': 'A grouping of interests and hobbies entities, like Novelty Food or Destinations'}, 'entity': {'id': '847896538105782272', 'name': 'Marriage', 'description': 'Marriage'}}]\n",
      "=======\n",
      "2022-08-22 19:31:11+00:00 RT @CSMcDonald7: Follow Alexa Owl &amp; that handsome, wayward angel, Det. Bobby Starr back to the 50s &amp; 60s to solve cold cases from long ago!…\n",
      "Metrics {'retweet_count': 26, 'reply_count': 0, 'like_count': 0, 'quote_count': 0}\n",
      "=======\n",
      "2022-08-22 19:30:52+00:00 RT @CSMcDonald7: Follow Alexa Owl &amp; that handsome, wayward angel, Det. Bobby Starr back to the 50s &amp; 60s to solve cold cases from long ago!…\n",
      "Metrics {'retweet_count': 26, 'reply_count': 0, 'like_count': 0, 'quote_count': 0}\n",
      "=======\n",
      "2022-08-22 19:30:32+00:00 SYSPERL ロボット掃除機 ロボットそうじ機 掃除ロボット ロボットクリーナー 2600Pa 強力吸引 8.1cm超薄型 弓形働 自動充電 落下防止 衝突防止 境界線テープ マッピング機能 アプリ リモコン遠隔操作 WiFi Alexa対応 744\n",
      "\n",
      "家電 売れ筋\n",
      "https://t.co/R0Ld63nGrO\n",
      "Metrics {'retweet_count': 0, 'reply_count': 0, 'like_count': 0, 'quote_count': 0}\n",
      "[{'domain': {'id': '30', 'name': 'Entities [Entity Service]', 'description': 'Entity Service top level domain, every item that is in Entity Service should be in this domain'}, 'entity': {'id': '848920371311001600', 'name': 'Technology', 'description': 'Technology and computing'}}, {'domain': {'id': '131', 'name': 'Unified Twitter Taxonomy', 'description': 'A taxonomy view into the Semantic Core knowledge graph'}, 'entity': {'id': '848920371311001600', 'name': 'Technology', 'description': 'Technology and computing'}}, {'domain': {'id': '165', 'name': 'Technology', 'description': 'for individual and types of technology, e.g., food technology, 3D printing'}, 'entity': {'id': '1148689566112477184', 'name': 'Wi-Fi'}}]\n",
      "=======\n",
      "2022-08-22 19:30:09+00:00 #NowPlaying on #personalfavorites at https://t.co/cGpACL8uW1 Shame on The Moon by Bob Seger #ListenLive 'Alexa, Play Personal Favorites Now' -or- https://t.co/cGpACL8uW1. #summervibes \n",
      " Buy this Personal Favorite! https://t.co/ht2WiGcL1a https://t.co/vIKy4F42IJ\n",
      "Metrics {'retweet_count': 0, 'reply_count': 0, 'like_count': 0, 'quote_count': 0}\n",
      "=======\n",
      "2022-08-22 19:30:04+00:00 【Wi-Fi簡単設定対応】+Style マルチリモコン 家電コントロール 遠隔操作 Amazon Alexa Google Home Siri 対応 壁掛け 赤外線 位置情報 温度 湿度 照度 Wi-Fi スケジュール タイマー センサー 145\n",
      "\n",
      "家電 売れ筋\n",
      "https://t.co/Mkwp9evtgh\n",
      "Metrics {'retweet_count': 0, 'reply_count': 0, 'like_count': 0, 'quote_count': 0}\n",
      "[{'domain': {'id': '47', 'name': 'Brand', 'description': 'Brands and Companies'}, 'entity': {'id': '10026792024', 'name': 'Amazon'}}, {'domain': {'id': '48', 'name': 'Product', 'description': 'Products created by Brands.  Examples: Ford Explorer, Apple iPhone.'}, 'entity': {'id': '968221983803494400', 'name': 'Amazon - Alexa', 'description': 'Alexa'}}, {'domain': {'id': '30', 'name': 'Entities [Entity Service]', 'description': 'Entity Service top level domain, every item that is in Entity Service should be in this domain'}, 'entity': {'id': '848920371311001600', 'name': 'Technology', 'description': 'Technology and computing'}}, {'domain': {'id': '131', 'name': 'Unified Twitter Taxonomy', 'description': 'A taxonomy view into the Semantic Core knowledge graph'}, 'entity': {'id': '848920371311001600', 'name': 'Technology', 'description': 'Technology and computing'}}, {'domain': {'id': '165', 'name': 'Technology', 'description': 'for individual and types of technology, e.g., food technology, 3D printing'}, 'entity': {'id': '1148689566112477184', 'name': 'Wi-Fi'}}, {'domain': {'id': '47', 'name': 'Brand', 'description': 'Brands and Companies'}, 'entity': {'id': '10026364281', 'name': 'Apple'}}, {'domain': {'id': '48', 'name': 'Product', 'description': 'Products created by Brands.  Examples: Ford Explorer, Apple iPhone.'}, 'entity': {'id': '10041893638', 'name': 'Apple - Siri'}}]\n",
      "=======\n",
      "2022-08-22 19:29:41+00:00 Smart Dimmer Switch Compatible with Alexa Google Home, Neutral Wire Required 2.4GHz Wi-Fi Switch for Dimming LED CFL INC Ligh [EZIFGEC]\n",
      "\n",
      "https://t.co/JeJdHNr7WK\n",
      "Metrics {'retweet_count': 0, 'reply_count': 0, 'like_count': 0, 'quote_count': 0}\n",
      "[{'domain': {'id': '3', 'name': 'TV Shows', 'description': 'Television shows from around the world'}, 'entity': {'id': '10031571318', 'name': 'CFL Football'}}, {'domain': {'id': '26', 'name': 'Sports League', 'description': ''}, 'entity': {'id': '1090723045583446016', 'name': 'CFL', 'description': 'CFL'}}, {'domain': {'id': '30', 'name': 'Entities [Entity Service]', 'description': 'Entity Service top level domain, every item that is in Entity Service should be in this domain'}, 'entity': {'id': '781974596752842752', 'name': 'Services'}}, {'domain': {'id': '47', 'name': 'Brand', 'description': 'Brands and Companies'}, 'entity': {'id': '10026378521', 'name': 'Google '}}, {'domain': {'id': '47', 'name': 'Brand', 'description': 'Brands and Companies'}, 'entity': {'id': '10026792024', 'name': 'Amazon'}}, {'domain': {'id': '48', 'name': 'Product', 'description': 'Products created by Brands.  Examples: Ford Explorer, Apple iPhone.'}, 'entity': {'id': '968221983803494400', 'name': 'Amazon - Alexa', 'description': 'Alexa'}}, {'domain': {'id': '48', 'name': 'Product', 'description': 'Products created by Brands.  Examples: Ford Explorer, Apple iPhone.'}, 'entity': {'id': '1395474411180892160', 'name': 'Google brand conversation'}}, {'domain': {'id': '30', 'name': 'Entities [Entity Service]', 'description': 'Entity Service top level domain, every item that is in Entity Service should be in this domain'}, 'entity': {'id': '848920371311001600', 'name': 'Technology', 'description': 'Technology and computing'}}, {'domain': {'id': '131', 'name': 'Unified Twitter Taxonomy', 'description': 'A taxonomy view into the Semantic Core knowledge graph'}, 'entity': {'id': '689566306014617600', 'name': 'American football'}}, {'domain': {'id': '131', 'name': 'Unified Twitter Taxonomy', 'description': 'A taxonomy view into the Semantic Core knowledge graph'}, 'entity': {'id': '847900493514891265', 'name': 'Sports', 'description': 'Sports'}}, {'domain': {'id': '131', 'name': 'Unified Twitter Taxonomy', 'description': 'A taxonomy view into the Semantic Core knowledge graph'}, 'entity': {'id': '848920371311001600', 'name': 'Technology', 'description': 'Technology and computing'}}, {'domain': {'id': '131', 'name': 'Unified Twitter Taxonomy', 'description': 'A taxonomy view into the Semantic Core knowledge graph'}, 'entity': {'id': '1090723045583446016', 'name': 'CFL', 'description': 'CFL'}}, {'domain': {'id': '165', 'name': 'Technology', 'description': 'for individual and types of technology, e.g., food technology, 3D printing'}, 'entity': {'id': '1148689566112477184', 'name': 'Wi-Fi'}}]\n",
      "=======\n",
      "2022-08-22 19:28:29+00:00 Echo Show 5 (エコーショー5) スマートディスプレイ with Alexa、チャコール 367\n",
      "\n",
      "Amazon おすすめ\n",
      "https://t.co/HLJqwnkODz\n",
      "Metrics {'retweet_count': 0, 'reply_count': 0, 'like_count': 0, 'quote_count': 0}\n",
      "[{'domain': {'id': '47', 'name': 'Brand', 'description': 'Brands and Companies'}, 'entity': {'id': '10026792024', 'name': 'Amazon'}}, {'domain': {'id': '48', 'name': 'Product', 'description': 'Products created by Brands.  Examples: Ford Explorer, Apple iPhone.'}, 'entity': {'id': '968221983803494400', 'name': 'Amazon - Alexa', 'description': 'Alexa'}}]\n",
      "=======\n",
      "2022-08-22 19:28:14+00:00 SETHDA スマートリモコン 家電コントロール 赤外線 遠隔操作 WiFi 温度 リモートコントロール Alexa Google Home 対応 YRC11 644\n",
      "\n",
      "家電 おすすめ\n",
      "https://t.co/DJ6Tf03OVj\n",
      "Metrics {'retweet_count': 0, 'reply_count': 0, 'like_count': 0, 'quote_count': 0}\n",
      "[{'domain': {'id': '30', 'name': 'Entities [Entity Service]', 'description': 'Entity Service top level domain, every item that is in Entity Service should be in this domain'}, 'entity': {'id': '848920371311001600', 'name': 'Technology', 'description': 'Technology and computing'}}, {'domain': {'id': '131', 'name': 'Unified Twitter Taxonomy', 'description': 'A taxonomy view into the Semantic Core knowledge graph'}, 'entity': {'id': '848920371311001600', 'name': 'Technology', 'description': 'Technology and computing'}}, {'domain': {'id': '165', 'name': 'Technology', 'description': 'for individual and types of technology, e.g., food technology, 3D printing'}, 'entity': {'id': '1148689566112477184', 'name': 'Wi-Fi'}}]\n",
      "=======\n",
      "2022-08-22 19:28:13+00:00 【正規代理店】Amazfit GTR 3 スマートウォッチ 日本語対応 GPS Alexa Line アプリ通知 着信通知 音楽再生 5atm防水 健康管理 睡眠 ストレス 心拍数 150種類スポーツモード カメラ制御 気圧高度計 ビジネス 腕時計（サンダーブラック） https://t.co/FZxSab9nMe @amazonより\n",
      "Metrics {'retweet_count': 0, 'reply_count': 0, 'like_count': 0, 'quote_count': 0}\n",
      "[{'domain': {'id': '47', 'name': 'Brand', 'description': 'Brands and Companies'}, 'entity': {'id': '10026792024', 'name': 'Amazon'}}, {'domain': {'id': '47', 'name': 'Brand', 'description': 'Brands and Companies'}, 'entity': {'id': '1416151893609390081', 'name': 'LINE'}}, {'domain': {'id': '48', 'name': 'Product', 'description': 'Products created by Brands.  Examples: Ford Explorer, Apple iPhone.'}, 'entity': {'id': '968221983803494400', 'name': 'Amazon - Alexa', 'description': 'Alexa'}}, {'domain': {'id': '65', 'name': 'Interests and Hobbies Vertical', 'description': 'Top level interests and hobbies groupings, like Food or Travel'}, 'entity': {'id': '844603730221707264', 'name': 'Fashion', 'description': 'Fashion'}}, {'domain': {'id': '65', 'name': 'Interests and Hobbies Vertical', 'description': 'Top level interests and hobbies groupings, like Food or Travel'}, 'entity': {'id': '1256236649253449729', 'name': 'Fashion & beauty'}}, {'domain': {'id': '66', 'name': 'Interests and Hobbies Category', 'description': 'A grouping of interests and hobbies entities, like Novelty Food or Destinations'}, 'entity': {'id': '844604232737087488', 'name': 'General Fashion', 'description': 'General Fashion'}}, {'domain': {'id': '67', 'name': 'Interests and Hobbies', 'description': 'Interests, opinions, and behaviors of individuals, groups, or cultures; like Speciality Cooking or Theme Parks'}, 'entity': {'id': '839543390668673024', 'name': 'Fashion'}}, {'domain': {'id': '67', 'name': 'Interests and Hobbies', 'description': 'Interests, opinions, and behaviors of individuals, groups, or cultures; like Speciality Cooking or Theme Parks'}, 'entity': {'id': '846447164880433152', 'name': 'Fashion accessories', 'description': 'Accessories'}}, {'domain': {'id': '67', 'name': 'Interests and Hobbies', 'description': 'Interests, opinions, and behaviors of individuals, groups, or cultures; like Speciality Cooking or Theme Parks'}, 'entity': {'id': '846449261914996736', 'name': 'Watches', 'description': 'Fashion'}}, {'domain': {'id': '67', 'name': 'Interests and Hobbies', 'description': 'Interests, opinions, and behaviors of individuals, groups, or cultures; like Speciality Cooking or Theme Parks'}, 'entity': {'id': '1037076248877395968', 'name': 'GPS and maps', 'description': 'GPS & Maps'}}, {'domain': {'id': '131', 'name': 'Unified Twitter Taxonomy', 'description': 'A taxonomy view into the Semantic Core knowledge graph'}, 'entity': {'id': '846449261914996736', 'name': 'Watches', 'description': 'Fashion'}}, {'domain': {'id': '131', 'name': 'Unified Twitter Taxonomy', 'description': 'A taxonomy view into the Semantic Core knowledge graph'}, 'entity': {'id': '1289139633301815296', 'name': 'Home automation'}}, {'domain': {'id': '131', 'name': 'Unified Twitter Taxonomy', 'description': 'A taxonomy view into the Semantic Core knowledge graph'}, 'entity': {'id': '1416151893609390081', 'name': 'LINE'}}, {'domain': {'id': '173', 'name': 'Google Product Taxonomy', 'description': 'A product taxonomy created by Google'}, 'entity': {'id': '846449261914996736', 'name': 'Watches', 'description': 'Fashion'}}, {'domain': {'id': '65', 'name': 'Interests and Hobbies Vertical', 'description': 'Top level interests and hobbies groupings, like Food or Travel'}, 'entity': {'id': '903303816698671104', 'name': 'Wellness and health', 'description': 'Wellness & Health'}}]\n",
      "=======\n",
      "2022-08-22 19:27:19+00:00 Echo Dot (エコードット) 第4世代 - スマートスピーカー with Alexa、グレーシャーホワイト 514\n",
      "\n",
      "Amazon おすすめ\n",
      "https://t.co/QhPMtZOR3c\n",
      "Metrics {'retweet_count': 0, 'reply_count': 0, 'like_count': 0, 'quote_count': 0}\n",
      "[{'domain': {'id': '47', 'name': 'Brand', 'description': 'Brands and Companies'}, 'entity': {'id': '10026792024', 'name': 'Amazon'}}, {'domain': {'id': '48', 'name': 'Product', 'description': 'Products created by Brands.  Examples: Ford Explorer, Apple iPhone.'}, 'entity': {'id': '968221983803494400', 'name': 'Amazon - Alexa', 'description': 'Alexa'}}, {'domain': {'id': '131', 'name': 'Unified Twitter Taxonomy', 'description': 'A taxonomy view into the Semantic Core knowledge graph'}, 'entity': {'id': '1289139633301815296', 'name': 'Home automation'}}]\n",
      "=======\n",
      "2022-08-22 19:27:02+00:00 Help create an Amazon Alexa Skill\n",
      "Budget (30-250) USD\n",
      "Name: Sam Gabbay\n",
      "Country: United States\n",
      "Client : https://t.co/RehMuOmnHx\n",
      "Project Link: https://t.co/UoFAvYlsbr\n",
      "https://t.co/EwQetDzLqh #HATINC #Freelance #freelancer #business #programming\n",
      "Metrics {'retweet_count': 0, 'reply_count': 0, 'like_count': 0, 'quote_count': 0}\n",
      "[{'domain': {'id': '47', 'name': 'Brand', 'description': 'Brands and Companies'}, 'entity': {'id': '10026792024', 'name': 'Amazon'}}, {'domain': {'id': '48', 'name': 'Product', 'description': 'Products created by Brands.  Examples: Ford Explorer, Apple iPhone.'}, 'entity': {'id': '968221983803494400', 'name': 'Amazon - Alexa', 'description': 'Alexa'}}, {'domain': {'id': '30', 'name': 'Entities [Entity Service]', 'description': 'Entity Service top level domain, every item that is in Entity Service should be in this domain'}, 'entity': {'id': '848920371311001600', 'name': 'Technology', 'description': 'Technology and computing'}}, {'domain': {'id': '66', 'name': 'Interests and Hobbies Category', 'description': 'A grouping of interests and hobbies entities, like Novelty Food or Destinations'}, 'entity': {'id': '848921413196984320', 'name': 'Computer programming', 'description': 'Computer programming'}}, {'domain': {'id': '131', 'name': 'Unified Twitter Taxonomy', 'description': 'A taxonomy view into the Semantic Core knowledge graph'}, 'entity': {'id': '848921413196984320', 'name': 'Computer programming', 'description': 'Computer programming'}}]\n",
      "=======\n",
      "2022-08-22 19:26:44+00:00 AA: 【セット買い】アイリスオーヤマ サーキュレータアイ 18畳 上下左右首振り デザインモデル PCF-SCC15T-W マットホワイト+スマートリモコン SMT-RC1 Alexa/Google Home/Siri対応 https://t.co/XVwv67hYqx 4:25:04\n",
      "Metrics {'retweet_count': 0, 'reply_count': 0, 'like_count': 0, 'quote_count': 0}\n",
      "[{'domain': {'id': '47', 'name': 'Brand', 'description': 'Brands and Companies'}, 'entity': {'id': '10026364281', 'name': 'Apple'}}, {'domain': {'id': '48', 'name': 'Product', 'description': 'Products created by Brands.  Examples: Ford Explorer, Apple iPhone.'}, 'entity': {'id': '10041893638', 'name': 'Apple - Siri'}}]\n",
      "=======\n",
      "2022-08-22 19:26:23+00:00 @ma7heeuss Echo Dot (4ª geração) com Alexa em até 12X sem juros: https://t.co/BtXZGyKiTT\n",
      "Metrics {'retweet_count': 0, 'reply_count': 0, 'like_count': 0, 'quote_count': 0}\n",
      "[{'domain': {'id': '47', 'name': 'Brand', 'description': 'Brands and Companies'}, 'entity': {'id': '10026792024', 'name': 'Amazon'}}, {'domain': {'id': '48', 'name': 'Product', 'description': 'Products created by Brands.  Examples: Ford Explorer, Apple iPhone.'}, 'entity': {'id': '968221983803494400', 'name': 'Amazon - Alexa', 'description': 'Alexa'}}, {'domain': {'id': '131', 'name': 'Unified Twitter Taxonomy', 'description': 'A taxonomy view into the Semantic Core knowledge graph'}, 'entity': {'id': '847511168268644352', 'name': 'Global Economy', 'description': 'Conversation about global finance and economies.'}}]\n",
      "=======\n",
      "2022-08-22 19:26:02+00:00 @jualm1 Echo Dot (4ª geração) com Alexa em até 12X sem juros: https://t.co/BtXZGyKiTT\n",
      "Metrics {'retweet_count': 0, 'reply_count': 0, 'like_count': 0, 'quote_count': 0}\n",
      "[{'domain': {'id': '47', 'name': 'Brand', 'description': 'Brands and Companies'}, 'entity': {'id': '10026792024', 'name': 'Amazon'}}, {'domain': {'id': '48', 'name': 'Product', 'description': 'Products created by Brands.  Examples: Ford Explorer, Apple iPhone.'}, 'entity': {'id': '968221983803494400', 'name': 'Amazon - Alexa', 'description': 'Alexa'}}, {'domain': {'id': '131', 'name': 'Unified Twitter Taxonomy', 'description': 'A taxonomy view into the Semantic Core knowledge graph'}, 'entity': {'id': '847511168268644352', 'name': 'Global Economy', 'description': 'Conversation about global finance and economies.'}}]\n",
      "=======\n",
      "2022-08-22 19:25:28+00:00 今、アマゾン(Amazon)でおすすめしたい家電は   \n",
      " \n",
      "✔️Amazon純正 スマートプラグ (Works with Alexa認定)\n",
      "  \n",
      "音声でオン/オフ。Amazon純正スマートプラグはAlexaに対応し、照明などお持ちの家電の電源のオン/オフを声でコントロールすることができます…\n",
      "\n",
      "(2022/08/23 04:25)\n",
      "https://t.co/nSOGVuDucL\n",
      "Metrics {'retweet_count': 0, 'reply_count': 0, 'like_count': 0, 'quote_count': 0}\n",
      "[{'domain': {'id': '47', 'name': 'Brand', 'description': 'Brands and Companies'}, 'entity': {'id': '10026792024', 'name': 'Amazon'}}, {'domain': {'id': '48', 'name': 'Product', 'description': 'Products created by Brands.  Examples: Ford Explorer, Apple iPhone.'}, 'entity': {'id': '968221983803494400', 'name': 'Amazon - Alexa', 'description': 'Alexa'}}]\n",
      "=======\n",
      "2022-08-22 19:25:21+00:00 SwitchBot スイッチボット スマートホーム 学習リモコン Alexa - Google Home IFTTT イフト Siriに対応 SwitchBot Hub Mini 826\n",
      "\n",
      "家電 おすすめ\n",
      "https://t.co/Pilc58o8h1\n",
      "Metrics {'retweet_count': 0, 'reply_count': 0, 'like_count': 0, 'quote_count': 0}\n",
      "[{'domain': {'id': '131', 'name': 'Unified Twitter Taxonomy', 'description': 'A taxonomy view into the Semantic Core knowledge graph'}, 'entity': {'id': '1289139633301815296', 'name': 'Home automation'}}, {'domain': {'id': '47', 'name': 'Brand', 'description': 'Brands and Companies'}, 'entity': {'id': '10026364281', 'name': 'Apple'}}, {'domain': {'id': '48', 'name': 'Product', 'description': 'Products created by Brands.  Examples: Ford Explorer, Apple iPhone.'}, 'entity': {'id': '10041893638', 'name': 'Apple - Siri'}}]\n",
      "=======\n",
      "2022-08-22 19:25:00+00:00 Oferta! Echo Dot (4ª Geração): Smart Speaker com Alexa - Cor Preta\n",
      "https://t.co/nct9e18LLD\n",
      "Valor: R$ 399.00\n",
      "#promo #promocao #ofertas #casainteligente #amazon #echodot\n",
      "Metrics {'retweet_count': 0, 'reply_count': 0, 'like_count': 0, 'quote_count': 0}\n",
      "[{'domain': {'id': '47', 'name': 'Brand', 'description': 'Brands and Companies'}, 'entity': {'id': '10026792024', 'name': 'Amazon'}}, {'domain': {'id': '48', 'name': 'Product', 'description': 'Products created by Brands.  Examples: Ford Explorer, Apple iPhone.'}, 'entity': {'id': '968221983803494400', 'name': 'Amazon - Alexa', 'description': 'Alexa'}}, {'domain': {'id': '131', 'name': 'Unified Twitter Taxonomy', 'description': 'A taxonomy view into the Semantic Core knowledge graph'}, 'entity': {'id': '1289139633301815296', 'name': 'Home automation'}}]\n",
      "=======\n",
      "2022-08-22 19:23:22+00:00 アマゾン(Amazon)のおすすめのAmazonデバイス・アクセサリは…\n",
      " \n",
      "✔️Fire HD 10 タブレット (10インチHDディスプレイ) 32GB - Alexa搭載\n",
      " \n",
      "より美しくなった10.1インチ高解像度ディスプレイ、さらにパワフルになった、高コスパタブレット。 大画面で迫力…\n",
      "\n",
      "[2022/08/23 04:23]\n",
      "https://t.co/yrTldBVBZE\n",
      "Metrics {'retweet_count': 0, 'reply_count': 0, 'like_count': 0, 'quote_count': 0}\n",
      "[{'domain': {'id': '47', 'name': 'Brand', 'description': 'Brands and Companies'}, 'entity': {'id': '10026792024', 'name': 'Amazon'}}, {'domain': {'id': '48', 'name': 'Product', 'description': 'Products created by Brands.  Examples: Ford Explorer, Apple iPhone.'}, 'entity': {'id': '968221983803494400', 'name': 'Amazon - Alexa', 'description': 'Alexa'}}]\n",
      "=======\n",
      "2022-08-22 19:22:32+00:00 Alexa: Over 497 of the funniest questions to ask Alexa on Amazon Echo, Echo Dot, and Amazon Tap! [9N8RWRD]\n",
      "\n",
      "https://t.co/N1oDDklv0Y\n",
      "Metrics {'retweet_count': 0, 'reply_count': 0, 'like_count': 0, 'quote_count': 0}\n",
      "[{'domain': {'id': '47', 'name': 'Brand', 'description': 'Brands and Companies'}, 'entity': {'id': '10026792024', 'name': 'Amazon'}}, {'domain': {'id': '48', 'name': 'Product', 'description': 'Products created by Brands.  Examples: Ford Explorer, Apple iPhone.'}, 'entity': {'id': '968221983803494400', 'name': 'Amazon - Alexa', 'description': 'Alexa'}}, {'domain': {'id': '131', 'name': 'Unified Twitter Taxonomy', 'description': 'A taxonomy view into the Semantic Core knowledge graph'}, 'entity': {'id': '1289139633301815296', 'name': 'Home automation'}}, {'domain': {'id': '45', 'name': 'Brand Vertical', 'description': 'Top level entities that describe a Brands industry'}, 'entity': {'id': '781974596706635776', 'name': 'Retail'}}, {'domain': {'id': '30', 'name': 'Entities [Entity Service]', 'description': 'Entity Service top level domain, every item that is in Entity Service should be in this domain'}, 'entity': {'id': '783335558466506752', 'name': 'Online - Retail'}}, {'domain': {'id': '47', 'name': 'Brand', 'description': 'Brands and Companies'}, 'entity': {'id': '10026792024', 'name': 'Amazon'}}, {'domain': {'id': '48', 'name': 'Product', 'description': 'Products created by Brands.  Examples: Ford Explorer, Apple iPhone.'}, 'entity': {'id': '10042585014', 'name': 'Amazon Echo'}}, {'domain': {'id': '48', 'name': 'Product', 'description': 'Products created by Brands.  Examples: Ford Explorer, Apple iPhone.'}, 'entity': {'id': '10050907867', 'name': 'Amazon - AI', 'description': 'Amazon - AI'}}]\n",
      "=======\n",
      "2022-08-22 19:22:05+00:00 Notebook Positivo Motion C4120F-AX Intel Celeron Dual Core 4GB 120GB SSD 14\" HD Windows 11 Home – Cinza – com tecla Alexa integrada e Inclui Microsoft 365* https://t.co/vDwbTBkeVS \n",
      "*Preço sujeito a alteração\n",
      "Aproveite essa oferta!\n",
      "Metrics {'retweet_count': 0, 'reply_count': 0, 'like_count': 0, 'quote_count': 0}\n",
      "[{'domain': {'id': '30', 'name': 'Entities [Entity Service]', 'description': 'Entity Service top level domain, every item that is in Entity Service should be in this domain'}, 'entity': {'id': '781974596752842752', 'name': 'Services'}}, {'domain': {'id': '47', 'name': 'Brand', 'description': 'Brands and Companies'}, 'entity': {'id': '10027232467', 'name': 'Microsoft'}}, {'domain': {'id': '47', 'name': 'Brand', 'description': 'Brands and Companies'}, 'entity': {'id': '1495811756534366211', 'name': 'Positivo Tecnologia'}}, {'domain': {'id': '48', 'name': 'Product', 'description': 'Products created by Brands.  Examples: Ford Explorer, Apple iPhone.'}, 'entity': {'id': '10027604610', 'name': 'Microsoft Windows'}}, {'domain': {'id': '30', 'name': 'Entities [Entity Service]', 'description': 'Entity Service top level domain, every item that is in Entity Service should be in this domain'}, 'entity': {'id': '848920371311001600', 'name': 'Technology', 'description': 'Technology and computing'}}, {'domain': {'id': '131', 'name': 'Unified Twitter Taxonomy', 'description': 'A taxonomy view into the Semantic Core knowledge graph'}, 'entity': {'id': '10027604610', 'name': 'Microsoft Windows'}}, {'domain': {'id': '131', 'name': 'Unified Twitter Taxonomy', 'description': 'A taxonomy view into the Semantic Core knowledge graph'}, 'entity': {'id': '1196446727181500416', 'name': 'Tech industry'}}, {'domain': {'id': '131', 'name': 'Unified Twitter Taxonomy', 'description': 'A taxonomy view into the Semantic Core knowledge graph'}, 'entity': {'id': '1495811756534366211', 'name': 'Positivo Tecnologia'}}, {'domain': {'id': '30', 'name': 'Entities [Entity Service]', 'description': 'Entity Service top level domain, every item that is in Entity Service should be in this domain'}, 'entity': {'id': '781974596752842752', 'name': 'Services'}}, {'domain': {'id': '47', 'name': 'Brand', 'description': 'Brands and Companies'}, 'entity': {'id': '10026332285', 'name': 'Intel'}}, {'domain': {'id': '47', 'name': 'Brand', 'description': 'Brands and Companies'}, 'entity': {'id': '10027232467', 'name': 'Microsoft'}}, {'domain': {'id': '131', 'name': 'Unified Twitter Taxonomy', 'description': 'A taxonomy view into the Semantic Core knowledge graph'}, 'entity': {'id': '10026332285', 'name': 'Intel'}}, {'domain': {'id': '131', 'name': 'Unified Twitter Taxonomy', 'description': 'A taxonomy view into the Semantic Core knowledge graph'}, 'entity': {'id': '10027232467', 'name': 'Microsoft'}}]\n",
      "=======\n",
      "2022-08-22 19:21:28+00:00 🔥 Fire TV Stick 4K \n",
      "\n",
      "👉 34.99€ au lieu de 59.99€ pour cet article !\n",
      " 🔗https://t.co/bSLjMHWZn8 https://t.co/thfYxx3Auy\n",
      "Metrics {'retweet_count': 0, 'reply_count': 0, 'like_count': 0, 'quote_count': 0}\n",
      "=======\n",
      "2022-08-22 19:20:44+00:00 Mini Smart Plug, WiFi Plugs Works with Alexa and Google Home,2.4G Wi-Fi Outlet Socket Remote Control with Surge Protector Tim [LYRDTK1]\n",
      "\n",
      "https://t.co/SciR5ac5mH\n",
      "Metrics {'retweet_count': 0, 'reply_count': 0, 'like_count': 0, 'quote_count': 0}\n",
      "[{'domain': {'id': '30', 'name': 'Entities [Entity Service]', 'description': 'Entity Service top level domain, every item that is in Entity Service should be in this domain'}, 'entity': {'id': '781974596752842752', 'name': 'Services'}}, {'domain': {'id': '47', 'name': 'Brand', 'description': 'Brands and Companies'}, 'entity': {'id': '10026378521', 'name': 'Google '}}, {'domain': {'id': '47', 'name': 'Brand', 'description': 'Brands and Companies'}, 'entity': {'id': '10026792024', 'name': 'Amazon'}}, {'domain': {'id': '48', 'name': 'Product', 'description': 'Products created by Brands.  Examples: Ford Explorer, Apple iPhone.'}, 'entity': {'id': '968221983803494400', 'name': 'Amazon - Alexa', 'description': 'Alexa'}}, {'domain': {'id': '48', 'name': 'Product', 'description': 'Products created by Brands.  Examples: Ford Explorer, Apple iPhone.'}, 'entity': {'id': '1395474411180892160', 'name': 'Google brand conversation'}}, {'domain': {'id': '30', 'name': 'Entities [Entity Service]', 'description': 'Entity Service top level domain, every item that is in Entity Service should be in this domain'}, 'entity': {'id': '848920371311001600', 'name': 'Technology', 'description': 'Technology and computing'}}, {'domain': {'id': '131', 'name': 'Unified Twitter Taxonomy', 'description': 'A taxonomy view into the Semantic Core knowledge graph'}, 'entity': {'id': '848920371311001600', 'name': 'Technology', 'description': 'Technology and computing'}}, {'domain': {'id': '165', 'name': 'Technology', 'description': 'for individual and types of technology, e.g., food technology, 3D printing'}, 'entity': {'id': '1148689566112477184', 'name': 'Wi-Fi'}}]\n",
      "=======\n",
      "2022-08-22 19:20:32+00:00 【Alexa対応】ゴウサンド(Gosund) スマートプラグ Wi-Fi スマートコンセント 電源プラグ タイマー付き コンセント スマートホーム 2.4GHz対応 遠隔操作 Alexa/Google Home/音声コントロール ハブ不要 134\n",
      "\n",
      "家電 売れ筋\n",
      "https://t.co/6zHnjMSlDB\n",
      "Metrics {'retweet_count': 0, 'reply_count': 0, 'like_count': 0, 'quote_count': 0}\n",
      "[{'domain': {'id': '30', 'name': 'Entities [Entity Service]', 'description': 'Entity Service top level domain, every item that is in Entity Service should be in this domain'}, 'entity': {'id': '848920371311001600', 'name': 'Technology', 'description': 'Technology and computing'}}, {'domain': {'id': '131', 'name': 'Unified Twitter Taxonomy', 'description': 'A taxonomy view into the Semantic Core knowledge graph'}, 'entity': {'id': '848920371311001600', 'name': 'Technology', 'description': 'Technology and computing'}}, {'domain': {'id': '131', 'name': 'Unified Twitter Taxonomy', 'description': 'A taxonomy view into the Semantic Core knowledge graph'}, 'entity': {'id': '1289139633301815296', 'name': 'Home automation'}}, {'domain': {'id': '165', 'name': 'Technology', 'description': 'for individual and types of technology, e.g., food technology, 3D printing'}, 'entity': {'id': '1148689566112477184', 'name': 'Wi-Fi'}}]\n",
      "=======\n",
      "2022-08-22 19:20:04+00:00 【Alexa対応】ゴウサンド(Gosund) スマートプラグ Wi-Fi スマートコンセント 電源プラグ タイマー付き コンセント スマートホーム 2.4GHz対応 遠隔操作 Alexa/Google Home/音声コントロール ハブ不要 332\n",
      "\n",
      "家電 売れ筋\n",
      "https://t.co/W3vNDHT8Cl\n",
      "Metrics {'retweet_count': 0, 'reply_count': 0, 'like_count': 0, 'quote_count': 0}\n",
      "[{'domain': {'id': '30', 'name': 'Entities [Entity Service]', 'description': 'Entity Service top level domain, every item that is in Entity Service should be in this domain'}, 'entity': {'id': '848920371311001600', 'name': 'Technology', 'description': 'Technology and computing'}}, {'domain': {'id': '131', 'name': 'Unified Twitter Taxonomy', 'description': 'A taxonomy view into the Semantic Core knowledge graph'}, 'entity': {'id': '848920371311001600', 'name': 'Technology', 'description': 'Technology and computing'}}, {'domain': {'id': '131', 'name': 'Unified Twitter Taxonomy', 'description': 'A taxonomy view into the Semantic Core knowledge graph'}, 'entity': {'id': '1289139633301815296', 'name': 'Home automation'}}, {'domain': {'id': '165', 'name': 'Technology', 'description': 'for individual and types of technology, e.g., food technology, 3D printing'}, 'entity': {'id': '1148689566112477184', 'name': 'Wi-Fi'}}]\n",
      "=======\n",
      "2022-08-22 19:17:33+00:00 ルンバ i7+ ロボット掃除機 アイロボット 自動ゴミ収集 水洗いできるダストボックス wifi対応 スマートマッピング 自動充電・運転再開 吸引力 カーペット 畳 i755060 Alexa対応\n",
      "\n",
      "Amazon を、チェック！\n",
      "https://t.co/wzCrRE24va\n",
      "Metrics {'retweet_count': 0, 'reply_count': 0, 'like_count': 0, 'quote_count': 0}\n",
      "[{'domain': {'id': '47', 'name': 'Brand', 'description': 'Brands and Companies'}, 'entity': {'id': '10026792024', 'name': 'Amazon'}}, {'domain': {'id': '48', 'name': 'Product', 'description': 'Products created by Brands.  Examples: Ford Explorer, Apple iPhone.'}, 'entity': {'id': '968221983803494400', 'name': 'Amazon - Alexa', 'description': 'Alexa'}}, {'domain': {'id': '30', 'name': 'Entities [Entity Service]', 'description': 'Entity Service top level domain, every item that is in Entity Service should be in this domain'}, 'entity': {'id': '848920371311001600', 'name': 'Technology', 'description': 'Technology and computing'}}, {'domain': {'id': '131', 'name': 'Unified Twitter Taxonomy', 'description': 'A taxonomy view into the Semantic Core knowledge graph'}, 'entity': {'id': '848920371311001600', 'name': 'Technology', 'description': 'Technology and computing'}}, {'domain': {'id': '165', 'name': 'Technology', 'description': 'for individual and types of technology, e.g., food technology, 3D printing'}, 'entity': {'id': '1148689566112477184', 'name': 'Wi-Fi'}}]\n",
      "=======\n",
      "2022-08-22 19:16:50+00:00 RT @DrBobsInsights: Bob wants to share this Alexa Skill from Amazon. It’s always enlightening to hear the pearls of wisdom from an old man.…\n",
      "Metrics {'retweet_count': 3, 'reply_count': 0, 'like_count': 0, 'quote_count': 0}\n",
      "[{'domain': {'id': '47', 'name': 'Brand', 'description': 'Brands and Companies'}, 'entity': {'id': '10026792024', 'name': 'Amazon'}}, {'domain': {'id': '48', 'name': 'Product', 'description': 'Products created by Brands.  Examples: Ford Explorer, Apple iPhone.'}, 'entity': {'id': '968221983803494400', 'name': 'Amazon - Alexa', 'description': 'Alexa'}}]\n",
      "=======\n",
      "2022-08-22 19:16:49+00:00 とてもお得です。Yahooショップや楽天市場よりも安いかも。#Amazonタイムセール祭りEcho Show 8 (エコーショー8) 第2世代 - HDスマートディスプレイ with Alexa、13メガピクセルカメラ付き、チャコール\n",
      "https://t.co/YecIP9EnAE\n",
      "Metrics {'retweet_count': 0, 'reply_count': 0, 'like_count': 0, 'quote_count': 0}\n",
      "=======\n",
      "2022-08-22 19:16:43+00:00 Echo Show 8 (エコーショー8) 第2世代 - HDスマートディスプレイ with Alexa、13メガピクセルカメラ付き、チャコール https://t.co/xOeMkwbGt9 @amazonより\n",
      "Metrics {'retweet_count': 0, 'reply_count': 0, 'like_count': 0, 'quote_count': 0}\n",
      "[{'domain': {'id': '47', 'name': 'Brand', 'description': 'Brands and Companies'}, 'entity': {'id': '10026792024', 'name': 'Amazon'}}, {'domain': {'id': '48', 'name': 'Product', 'description': 'Products created by Brands.  Examples: Ford Explorer, Apple iPhone.'}, 'entity': {'id': '968221983803494400', 'name': 'Amazon - Alexa', 'description': 'Alexa'}}, {'domain': {'id': '131', 'name': 'Unified Twitter Taxonomy', 'description': 'A taxonomy view into the Semantic Core knowledge graph'}, 'entity': {'id': '1289139633301815296', 'name': 'Home automation'}}]\n",
      "=======\n",
      "2022-08-22 19:16:34+00:00 🔥 Fire TV Stick Lite \n",
      "\n",
      "👉 19.99€ au lieu de 29.99€ pour cet article !\n",
      " 🔗https://t.co/LCyuieyEj3 https://t.co/tJfTP44ZrU\n",
      "Metrics {'retweet_count': 0, 'reply_count': 0, 'like_count': 0, 'quote_count': 0}\n",
      "=======\n",
      "2022-08-22 19:16:22+00:00 Amazon ソニー ワイヤレスノイズキャンセリングイヤホン WF-1000XM3 : 完全ワイヤレス/ Amazon Alexa搭載 /Bluetooth/ハイレゾ相当 最大6時間連続再生 2019年モデル / マイク付き 360 Reality Audio認定モデル\n",
      "\n",
      "これは買いたい🌈\n",
      "https://t.co/BAMD8kJRq6\n",
      "Metrics {'retweet_count': 0, 'reply_count': 0, 'like_count': 0, 'quote_count': 0}\n",
      "[{'domain': {'id': '47', 'name': 'Brand', 'description': 'Brands and Companies'}, 'entity': {'id': '10026792024', 'name': 'Amazon'}}, {'domain': {'id': '48', 'name': 'Product', 'description': 'Products created by Brands.  Examples: Ford Explorer, Apple iPhone.'}, 'entity': {'id': '968221983803494400', 'name': 'Amazon - Alexa', 'description': 'Alexa'}}, {'domain': {'id': '47', 'name': 'Brand', 'description': 'Brands and Companies'}, 'entity': {'id': '10026738409', 'name': 'Sony'}}, {'domain': {'id': '131', 'name': 'Unified Twitter Taxonomy', 'description': 'A taxonomy view into the Semantic Core knowledge graph'}, 'entity': {'id': '10026738409', 'name': 'Sony'}}]\n",
      "=======\n",
      "2022-08-22 19:16:13+00:00 Putamadre con mi prima, estoy escuchando la alexa con el Amazon music en aleatorio y ya me salieron canciones de sus 193461916 grupitos de kpop🖕🏼🖕🏼🖕🏼🖕🏼\n",
      "Metrics {'retweet_count': 0, 'reply_count': 2, 'like_count': 0, 'quote_count': 0}\n",
      "[{'domain': {'id': '45', 'name': 'Brand Vertical', 'description': 'Top level entities that describe a Brands industry'}, 'entity': {'id': '781974597310615553', 'name': 'Entertainment'}}, {'domain': {'id': '30', 'name': 'Entities [Entity Service]', 'description': 'Entity Service top level domain, every item that is in Entity Service should be in this domain'}, 'entity': {'id': '781974597222535168', 'name': 'Online Services - Entertainment'}}, {'domain': {'id': '47', 'name': 'Brand', 'description': 'Brands and Companies'}, 'entity': {'id': '10026792024', 'name': 'Amazon'}}, {'domain': {'id': '47', 'name': 'Brand', 'description': 'Brands and Companies'}, 'entity': {'id': '10051910929', 'name': 'Amazon Music', 'description': 'Amazon Music'}}, {'domain': {'id': '48', 'name': 'Product', 'description': 'Products created by Brands.  Examples: Ford Explorer, Apple iPhone.'}, 'entity': {'id': '968221983803494400', 'name': 'Amazon - Alexa', 'description': 'Alexa'}}, {'domain': {'id': '67', 'name': 'Interests and Hobbies', 'description': 'Interests, opinions, and behaviors of individuals, groups, or cultures; like Speciality Cooking or Theme Parks'}, 'entity': {'id': '1288826829634035714', 'name': 'Backstage'}}, {'domain': {'id': '131', 'name': 'Unified Twitter Taxonomy', 'description': 'A taxonomy view into the Semantic Core knowledge graph'}, 'entity': {'id': '10051910929', 'name': 'Amazon Music', 'description': 'Amazon Music'}}, {'domain': {'id': '131', 'name': 'Unified Twitter Taxonomy', 'description': 'A taxonomy view into the Semantic Core knowledge graph'}, 'entity': {'id': '847524658970636288', 'name': 'Music', 'description': 'Music and radio'}}, {'domain': {'id': '131', 'name': 'Unified Twitter Taxonomy', 'description': 'A taxonomy view into the Semantic Core knowledge graph'}, 'entity': {'id': '1196457934370172928', 'name': 'Music industry'}}, {'domain': {'id': '131', 'name': 'Unified Twitter Taxonomy', 'description': 'A taxonomy view into the Semantic Core knowledge graph'}, 'entity': {'id': '1405172481590140933', 'name': 'Music streaming service'}}, {'domain': {'id': '55', 'name': 'Music Genre', 'description': 'A category for a musical style, like Pop, Rock, or Rap'}, 'entity': {'id': '888105153038958593', 'name': 'K-pop', 'description': 'K-Pop'}}, {'domain': {'id': '131', 'name': 'Unified Twitter Taxonomy', 'description': 'A taxonomy view into the Semantic Core knowledge graph'}, 'entity': {'id': '847524658970636288', 'name': 'Music', 'description': 'Music and radio'}}, {'domain': {'id': '131', 'name': 'Unified Twitter Taxonomy', 'description': 'A taxonomy view into the Semantic Core knowledge graph'}, 'entity': {'id': '888105153038958593', 'name': 'K-pop', 'description': 'K-Pop'}}]\n",
      "=======\n",
      "2022-08-22 19:15:20+00:00 Fire TV Stick - Alexa対応音声認識リモコン付属 | ストリーミングメディアプレーヤー 641\n",
      "\n",
      "Amazon おすすめ\n",
      "https://t.co/z3KRKu0G8T\n",
      "Metrics {'retweet_count': 0, 'reply_count': 0, 'like_count': 0, 'quote_count': 0}\n",
      "[{'domain': {'id': '47', 'name': 'Brand', 'description': 'Brands and Companies'}, 'entity': {'id': '10026792024', 'name': 'Amazon'}}, {'domain': {'id': '48', 'name': 'Product', 'description': 'Products created by Brands.  Examples: Ford Explorer, Apple iPhone.'}, 'entity': {'id': '968221983803494400', 'name': 'Amazon - Alexa', 'description': 'Alexa'}}, {'domain': {'id': '30', 'name': 'Entities [Entity Service]', 'description': 'Entity Service top level domain, every item that is in Entity Service should be in this domain'}, 'entity': {'id': '848920371311001600', 'name': 'Technology', 'description': 'Technology and computing'}}, {'domain': {'id': '30', 'name': 'Entities [Entity Service]', 'description': 'Entity Service top level domain, every item that is in Entity Service should be in this domain'}, 'entity': {'id': '1129035670322700288', 'name': 'Voice Recognition'}}, {'domain': {'id': '131', 'name': 'Unified Twitter Taxonomy', 'description': 'A taxonomy view into the Semantic Core knowledge graph'}, 'entity': {'id': '848920371311001600', 'name': 'Technology', 'description': 'Technology and computing'}}, {'domain': {'id': '131', 'name': 'Unified Twitter Taxonomy', 'description': 'A taxonomy view into the Semantic Core knowledge graph'}, 'entity': {'id': '1129035670322700288', 'name': 'Voice Recognition'}}]\n",
      "=======\n",
      "2022-08-22 19:15:12+00:00 🔥 Fire TV Stick 4K Max \n",
      "\n",
      "👉 39.99€ au lieu de 64.99€ pour cet article !\n",
      " 🔗https://t.co/vOWdnBeKo1 https://t.co/BI8xUOGLlB\n",
      "Metrics {'retweet_count': 0, 'reply_count': 0, 'like_count': 0, 'quote_count': 0}\n",
      "=======\n",
      "2022-08-22 19:15:01+00:00 Não deixe passar. Moes Interruptor Inteligente vários modelos, padrão Brasil\n",
      "https://t.co/J0eCCjqWT1\n",
      "Valor: R$ 85,32 à 105,52\n",
      "#promo #casainteligente #wifi #alexa #ofertas #smartlife #tuya #amazon #china #viral #smartlife\n",
      "Metrics {'retweet_count': 0, 'reply_count': 0, 'like_count': 0, 'quote_count': 0}\n",
      "[{'domain': {'id': '47', 'name': 'Brand', 'description': 'Brands and Companies'}, 'entity': {'id': '10026792024', 'name': 'Amazon'}}, {'domain': {'id': '48', 'name': 'Product', 'description': 'Products created by Brands.  Examples: Ford Explorer, Apple iPhone.'}, 'entity': {'id': '968221983803494400', 'name': 'Amazon - Alexa', 'description': 'Alexa'}}, {'domain': {'id': '49', 'name': 'Product Version', 'description': \"The specific model or version of a product.  Examples: Audi A8, Ben & Jerry's Chocolate Chip Ice Cream\"}, 'entity': {'id': '1409929643163979776', 'name': 'Alexa Ads Campaign'}}, {'domain': {'id': '30', 'name': 'Entities [Entity Service]', 'description': 'Entity Service top level domain, every item that is in Entity Service should be in this domain'}, 'entity': {'id': '848920371311001600', 'name': 'Technology', 'description': 'Technology and computing'}}, {'domain': {'id': '131', 'name': 'Unified Twitter Taxonomy', 'description': 'A taxonomy view into the Semantic Core knowledge graph'}, 'entity': {'id': '848920371311001600', 'name': 'Technology', 'description': 'Technology and computing'}}, {'domain': {'id': '165', 'name': 'Technology', 'description': 'for individual and types of technology, e.g., food technology, 3D printing'}, 'entity': {'id': '1148689566112477184', 'name': 'Wi-Fi'}}]\n",
      "=======\n",
      "2022-08-22 19:14:49+00:00 LG SMARTV 43 4K UHD BLUETOOH WIFI IA THINQ AI GOOGLE ASSIS ALEXA\n",
      "\n",
      "💲por *R$ 2.108,38*\n",
      "💳Em até 10x sem juros\n",
      "\n",
      "🚛Frete grátis, várias localidades\n",
      "📤Amazon👇\n",
      "https://t.co/4TsLc1TVXj\n",
      "_Acaba rápido_\n",
      "\n",
      "🥰Participe do grupo\n",
      "📢https://t.co/9fFa6E4W17\n",
      "👆🏻Grupo com VAGAS https://t.co/aPeCE2JHrH\n",
      "Metrics {'retweet_count': 0, 'reply_count': 0, 'like_count': 0, 'quote_count': 0}\n",
      "[{'domain': {'id': '30', 'name': 'Entities [Entity Service]', 'description': 'Entity Service top level domain, every item that is in Entity Service should be in this domain'}, 'entity': {'id': '781974596752842752', 'name': 'Services'}}, {'domain': {'id': '47', 'name': 'Brand', 'description': 'Brands and Companies'}, 'entity': {'id': '10026378521', 'name': 'Google '}}, {'domain': {'id': '47', 'name': 'Brand', 'description': 'Brands and Companies'}, 'entity': {'id': '10026792024', 'name': 'Amazon'}}, {'domain': {'id': '48', 'name': 'Product', 'description': 'Products created by Brands.  Examples: Ford Explorer, Apple iPhone.'}, 'entity': {'id': '968221983803494400', 'name': 'Amazon - Alexa', 'description': 'Alexa'}}, {'domain': {'id': '48', 'name': 'Product', 'description': 'Products created by Brands.  Examples: Ford Explorer, Apple iPhone.'}, 'entity': {'id': '1395474411180892160', 'name': 'Google brand conversation'}}, {'domain': {'id': '30', 'name': 'Entities [Entity Service]', 'description': 'Entity Service top level domain, every item that is in Entity Service should be in this domain'}, 'entity': {'id': '848920371311001600', 'name': 'Technology', 'description': 'Technology and computing'}}, {'domain': {'id': '131', 'name': 'Unified Twitter Taxonomy', 'description': 'A taxonomy view into the Semantic Core knowledge graph'}, 'entity': {'id': '847511168268644352', 'name': 'Global Economy', 'description': 'Conversation about global finance and economies.'}}, {'domain': {'id': '131', 'name': 'Unified Twitter Taxonomy', 'description': 'A taxonomy view into the Semantic Core knowledge graph'}, 'entity': {'id': '848920371311001600', 'name': 'Technology', 'description': 'Technology and computing'}}, {'domain': {'id': '165', 'name': 'Technology', 'description': 'for individual and types of technology, e.g., food technology, 3D printing'}, 'entity': {'id': '1148689566112477184', 'name': 'Wi-Fi'}}, {'domain': {'id': '48', 'name': 'Product', 'description': 'Products created by Brands.  Examples: Ford Explorer, Apple iPhone.'}, 'entity': {'id': '10050907867', 'name': 'Amazon - AI', 'description': 'Amazon - AI'}}]\n",
      "=======\n",
      "2022-08-22 19:14:37+00:00 Echo Dot (3ª Geração): Smart Speaker com Alexa - Cor Preta: super promoção na #Amazon\n",
      "\n",
      "#CupomDeDesconto #Promoção #cupom #cupons #desconto #Oferta\n",
      "August 22, 2022 at 04:14PM\n",
      "\n",
      "Confira o desconto exclusivo: https://t.co/E2sgRBbB5s\n",
      "Metrics {'retweet_count': 0, 'reply_count': 0, 'like_count': 0, 'quote_count': 0}\n",
      "[{'domain': {'id': '47', 'name': 'Brand', 'description': 'Brands and Companies'}, 'entity': {'id': '10026792024', 'name': 'Amazon'}}, {'domain': {'id': '48', 'name': 'Product', 'description': 'Products created by Brands.  Examples: Ford Explorer, Apple iPhone.'}, 'entity': {'id': '968221983803494400', 'name': 'Amazon - Alexa', 'description': 'Alexa'}}, {'domain': {'id': '131', 'name': 'Unified Twitter Taxonomy', 'description': 'A taxonomy view into the Semantic Core knowledge graph'}, 'entity': {'id': '1289139633301815296', 'name': 'Home automation'}}]\n",
      "=======\n",
      "2022-08-22 19:14:29+00:00 Lefant ロボット掃除機 2200Pa 強力吸引 お掃除ロボット3-in-1 吸引・床掃・床拭き三用 小型「超薄型/予約清掃/静音/畳/段差乗り越え/自動充電/Alexa 対応/WiFi/落下防止/衝突防止」M213型 150\n",
      "\n",
      "家電 おすすめ\n",
      "https://t.co/YuRqDg3NsB\n",
      "Metrics {'retweet_count': 0, 'reply_count': 0, 'like_count': 0, 'quote_count': 0}\n",
      "[{'domain': {'id': '30', 'name': 'Entities [Entity Service]', 'description': 'Entity Service top level domain, every item that is in Entity Service should be in this domain'}, 'entity': {'id': '848920371311001600', 'name': 'Technology', 'description': 'Technology and computing'}}, {'domain': {'id': '131', 'name': 'Unified Twitter Taxonomy', 'description': 'A taxonomy view into the Semantic Core knowledge graph'}, 'entity': {'id': '848920371311001600', 'name': 'Technology', 'description': 'Technology and computing'}}, {'domain': {'id': '165', 'name': 'Technology', 'description': 'for individual and types of technology, e.g., food technology, 3D printing'}, 'entity': {'id': '1148689566112477184', 'name': 'Wi-Fi'}}]\n",
      "=======\n",
      "2022-08-22 19:14:09+00:00 ILIFE アイライフ V3s Max ロボット掃除機 2000Pa 強力吸引 お掃除ロボット 大容量ダストボックス＆ダストバッグ Wi-Fi対応 Alexa対応 水拭き対応 ブラシレス吸引口 一台二役 自動充電 落下防止（ホワイト） 853\n",
      "\n",
      "家電 売れ筋\n",
      "https://t.co/dGz6PvFko8\n",
      "Metrics {'retweet_count': 0, 'reply_count': 0, 'like_count': 0, 'quote_count': 0}\n",
      "[{'domain': {'id': '30', 'name': 'Entities [Entity Service]', 'description': 'Entity Service top level domain, every item that is in Entity Service should be in this domain'}, 'entity': {'id': '848920371311001600', 'name': 'Technology', 'description': 'Technology and computing'}}, {'domain': {'id': '131', 'name': 'Unified Twitter Taxonomy', 'description': 'A taxonomy view into the Semantic Core knowledge graph'}, 'entity': {'id': '848920371311001600', 'name': 'Technology', 'description': 'Technology and computing'}}, {'domain': {'id': '165', 'name': 'Technology', 'description': 'for individual and types of technology, e.g., food technology, 3D printing'}, 'entity': {'id': '1148689566112477184', 'name': 'Wi-Fi'}}]\n",
      "=======\n",
      "2022-08-22 19:13:44+00:00 I have been trapped in this prison for three days I'm going to kill myself. I hate this so much. Unrelated why does everyone need an amazon alexa IT'S SO USELESS AND ANNOYING https://t.co/wpj7IS3qcA\n",
      "Metrics {'retweet_count': 0, 'reply_count': 2, 'like_count': 1, 'quote_count': 0}\n",
      "[{'domain': {'id': '47', 'name': 'Brand', 'description': 'Brands and Companies'}, 'entity': {'id': '10026792024', 'name': 'Amazon'}}, {'domain': {'id': '48', 'name': 'Product', 'description': 'Products created by Brands.  Examples: Ford Explorer, Apple iPhone.'}, 'entity': {'id': '968221983803494400', 'name': 'Amazon - Alexa', 'description': 'Alexa'}}]\n",
      "=======\n",
      "2022-08-22 19:13:29+00:00 Fire TV Stick - Alexa対応音声認識リモコン(第3世代)付属 | ストリーミングメディアプレーヤー 231\n",
      "\n",
      "Amazon おすすめ\n",
      "https://t.co/PvHZYIBLIV\n",
      "Metrics {'retweet_count': 0, 'reply_count': 0, 'like_count': 0, 'quote_count': 0}\n",
      "[{'domain': {'id': '47', 'name': 'Brand', 'description': 'Brands and Companies'}, 'entity': {'id': '10026792024', 'name': 'Amazon'}}, {'domain': {'id': '48', 'name': 'Product', 'description': 'Products created by Brands.  Examples: Ford Explorer, Apple iPhone.'}, 'entity': {'id': '968221983803494400', 'name': 'Amazon - Alexa', 'description': 'Alexa'}}, {'domain': {'id': '30', 'name': 'Entities [Entity Service]', 'description': 'Entity Service top level domain, every item that is in Entity Service should be in this domain'}, 'entity': {'id': '848920371311001600', 'name': 'Technology', 'description': 'Technology and computing'}}, {'domain': {'id': '30', 'name': 'Entities [Entity Service]', 'description': 'Entity Service top level domain, every item that is in Entity Service should be in this domain'}, 'entity': {'id': '1129035670322700288', 'name': 'Voice Recognition'}}, {'domain': {'id': '131', 'name': 'Unified Twitter Taxonomy', 'description': 'A taxonomy view into the Semantic Core knowledge graph'}, 'entity': {'id': '848920371311001600', 'name': 'Technology', 'description': 'Technology and computing'}}, {'domain': {'id': '131', 'name': 'Unified Twitter Taxonomy', 'description': 'A taxonomy view into the Semantic Core knowledge graph'}, 'entity': {'id': '1129035670322700288', 'name': 'Voice Recognition'}}]\n",
      "=======\n",
      "2022-08-22 19:13:12+00:00 ルンバ i7+ ロボット掃除機 アイロボット 自動ゴミ収集 水洗いできるダストボックス wifi対応 スマートマッピング 自動充電・運転再開 吸引力 カーペット 畳 i755060 Alexa対応\n",
      "\n",
      "Amazon を、確認しよう🌈\n",
      "https://t.co/LOxI7dloCF\n",
      "Metrics {'retweet_count': 0, 'reply_count': 0, 'like_count': 0, 'quote_count': 0}\n",
      "[{'domain': {'id': '47', 'name': 'Brand', 'description': 'Brands and Companies'}, 'entity': {'id': '10026792024', 'name': 'Amazon'}}, {'domain': {'id': '48', 'name': 'Product', 'description': 'Products created by Brands.  Examples: Ford Explorer, Apple iPhone.'}, 'entity': {'id': '968221983803494400', 'name': 'Amazon - Alexa', 'description': 'Alexa'}}, {'domain': {'id': '30', 'name': 'Entities [Entity Service]', 'description': 'Entity Service top level domain, every item that is in Entity Service should be in this domain'}, 'entity': {'id': '848920371311001600', 'name': 'Technology', 'description': 'Technology and computing'}}, {'domain': {'id': '131', 'name': 'Unified Twitter Taxonomy', 'description': 'A taxonomy view into the Semantic Core knowledge graph'}, 'entity': {'id': '848920371311001600', 'name': 'Technology', 'description': 'Technology and computing'}}, {'domain': {'id': '165', 'name': 'Technology', 'description': 'for individual and types of technology, e.g., food technology, 3D printing'}, 'entity': {'id': '1148689566112477184', 'name': 'Wi-Fi'}}]\n",
      "=======\n",
      "2022-08-22 19:12:57+00:00 3 Way Smart dimmer Switch Kit, Meross Smart Light Switch Supports Apple HomeKit, Siri, Alexa, Google Assistant &amp; SmartThings, [VTQSUGL]\n",
      "\n",
      "https://t.co/l1uaa867NW\n",
      "Metrics {'retweet_count': 0, 'reply_count': 0, 'like_count': 0, 'quote_count': 0}\n",
      "[{'domain': {'id': '30', 'name': 'Entities [Entity Service]', 'description': 'Entity Service top level domain, every item that is in Entity Service should be in this domain'}, 'entity': {'id': '781974596752842752', 'name': 'Services'}}, {'domain': {'id': '47', 'name': 'Brand', 'description': 'Brands and Companies'}, 'entity': {'id': '10026364281', 'name': 'Apple'}}, {'domain': {'id': '47', 'name': 'Brand', 'description': 'Brands and Companies'}, 'entity': {'id': '10026378521', 'name': 'Google '}}, {'domain': {'id': '47', 'name': 'Brand', 'description': 'Brands and Companies'}, 'entity': {'id': '10026792024', 'name': 'Amazon'}}, {'domain': {'id': '48', 'name': 'Product', 'description': 'Products created by Brands.  Examples: Ford Explorer, Apple iPhone.'}, 'entity': {'id': '968221983803494400', 'name': 'Amazon - Alexa', 'description': 'Alexa'}}, {'domain': {'id': '48', 'name': 'Product', 'description': 'Products created by Brands.  Examples: Ford Explorer, Apple iPhone.'}, 'entity': {'id': '1395474411180892160', 'name': 'Google brand conversation'}}, {'domain': {'id': '131', 'name': 'Unified Twitter Taxonomy', 'description': 'A taxonomy view into the Semantic Core knowledge graph'}, 'entity': {'id': '10026364281', 'name': 'Apple'}}, {'domain': {'id': '131', 'name': 'Unified Twitter Taxonomy', 'description': 'A taxonomy view into the Semantic Core knowledge graph'}, 'entity': {'id': '10026378521', 'name': 'Google '}}, {'domain': {'id': '47', 'name': 'Brand', 'description': 'Brands and Companies'}, 'entity': {'id': '10026364281', 'name': 'Apple'}}, {'domain': {'id': '48', 'name': 'Product', 'description': 'Products created by Brands.  Examples: Ford Explorer, Apple iPhone.'}, 'entity': {'id': '10041893638', 'name': 'Apple - Siri'}}]\n",
      "=======\n",
      "2022-08-22 19:12:57+00:00 Ascend Smart Wi-Fi 15 Amp 7-Day Indoor Programmable In-Wall Timer, Works with Alexa, Auto Dst &amp; Astro On/Off, White [P3NOOQ1]\n",
      "\n",
      "https://t.co/n7GhS7LDFD\n",
      "Metrics {'retweet_count': 0, 'reply_count': 0, 'like_count': 0, 'quote_count': 0}\n",
      "[{'domain': {'id': '30', 'name': 'Entities [Entity Service]', 'description': 'Entity Service top level domain, every item that is in Entity Service should be in this domain'}, 'entity': {'id': '848920371311001600', 'name': 'Technology', 'description': 'Technology and computing'}}, {'domain': {'id': '131', 'name': 'Unified Twitter Taxonomy', 'description': 'A taxonomy view into the Semantic Core knowledge graph'}, 'entity': {'id': '847528391163092993', 'name': 'Automotive', 'description': 'Car culture'}}, {'domain': {'id': '131', 'name': 'Unified Twitter Taxonomy', 'description': 'A taxonomy view into the Semantic Core knowledge graph'}, 'entity': {'id': '848920371311001600', 'name': 'Technology', 'description': 'Technology and computing'}}, {'domain': {'id': '131', 'name': 'Unified Twitter Taxonomy', 'description': 'A taxonomy view into the Semantic Core knowledge graph'}, 'entity': {'id': '1196845866138533888', 'name': 'Automobile Brands'}}, {'domain': {'id': '165', 'name': 'Technology', 'description': 'for individual and types of technology, e.g., food technology, 3D printing'}, 'entity': {'id': '1148689566112477184', 'name': 'Wi-Fi'}}]\n",
      "=======\n",
      "2022-08-22 19:12:19+00:00 Fire TV Stick 4K Max - Alexa対応音声認識リモコン(第3世代)付属 | ストリーミングメディアプレーヤー 411\n",
      "\n",
      "Amazon おすすめ\n",
      "https://t.co/v41XM0xOks\n",
      "Metrics {'retweet_count': 0, 'reply_count': 0, 'like_count': 0, 'quote_count': 0}\n",
      "[{'domain': {'id': '47', 'name': 'Brand', 'description': 'Brands and Companies'}, 'entity': {'id': '10026792024', 'name': 'Amazon'}}, {'domain': {'id': '48', 'name': 'Product', 'description': 'Products created by Brands.  Examples: Ford Explorer, Apple iPhone.'}, 'entity': {'id': '968221983803494400', 'name': 'Amazon - Alexa', 'description': 'Alexa'}}, {'domain': {'id': '30', 'name': 'Entities [Entity Service]', 'description': 'Entity Service top level domain, every item that is in Entity Service should be in this domain'}, 'entity': {'id': '848920371311001600', 'name': 'Technology', 'description': 'Technology and computing'}}, {'domain': {'id': '30', 'name': 'Entities [Entity Service]', 'description': 'Entity Service top level domain, every item that is in Entity Service should be in this domain'}, 'entity': {'id': '1129035670322700288', 'name': 'Voice Recognition'}}, {'domain': {'id': '131', 'name': 'Unified Twitter Taxonomy', 'description': 'A taxonomy view into the Semantic Core knowledge graph'}, 'entity': {'id': '848920371311001600', 'name': 'Technology', 'description': 'Technology and computing'}}, {'domain': {'id': '131', 'name': 'Unified Twitter Taxonomy', 'description': 'A taxonomy view into the Semantic Core knowledge graph'}, 'entity': {'id': '1129035670322700288', 'name': 'Voice Recognition'}}]\n",
      "=======\n",
      "2022-08-22 19:11:36+00:00 Fire TV Stick - Alexa対応音声認識リモコン(第3世代)付属 | ストリーミングメディアプレーヤー\n",
      "\n",
      "https://t.co/EYRPQFVN5m\n",
      "\n",
      "ほしいものランキング1位\n",
      "\n",
      "＃Amazon\n",
      "＃Amazonタイムセール\n",
      "＃Amazon新生活セール\n",
      "＃ほしいものリスト\n",
      "＃アマギフ\n",
      "Metrics {'retweet_count': 0, 'reply_count': 0, 'like_count': 0, 'quote_count': 0}\n",
      "[{'domain': {'id': '30', 'name': 'Entities [Entity Service]', 'description': 'Entity Service top level domain, every item that is in Entity Service should be in this domain'}, 'entity': {'id': '848920371311001600', 'name': 'Technology', 'description': 'Technology and computing'}}, {'domain': {'id': '30', 'name': 'Entities [Entity Service]', 'description': 'Entity Service top level domain, every item that is in Entity Service should be in this domain'}, 'entity': {'id': '1129035670322700288', 'name': 'Voice Recognition'}}, {'domain': {'id': '131', 'name': 'Unified Twitter Taxonomy', 'description': 'A taxonomy view into the Semantic Core knowledge graph'}, 'entity': {'id': '848920371311001600', 'name': 'Technology', 'description': 'Technology and computing'}}, {'domain': {'id': '131', 'name': 'Unified Twitter Taxonomy', 'description': 'A taxonomy view into the Semantic Core knowledge graph'}, 'entity': {'id': '1129035670322700288', 'name': 'Voice Recognition'}}]\n",
      "=======\n",
      "2022-08-22 19:10:05+00:00 【新型】Echo Show 5 (エコーショー5) 第2世代 - スマートディスプレイ with Alexa、2メガピクセルカメラ付き、グレーシャーホワイト + Nature スマートリモコン Remo mini2 131\n",
      "\n",
      "Amazon おすすめ\n",
      "https://t.co/cQj74cd38s\n",
      "Metrics {'retweet_count': 0, 'reply_count': 0, 'like_count': 0, 'quote_count': 0}\n",
      "[{'domain': {'id': '47', 'name': 'Brand', 'description': 'Brands and Companies'}, 'entity': {'id': '10026792024', 'name': 'Amazon'}}, {'domain': {'id': '48', 'name': 'Product', 'description': 'Products created by Brands.  Examples: Ford Explorer, Apple iPhone.'}, 'entity': {'id': '968221983803494400', 'name': 'Amazon - Alexa', 'description': 'Alexa'}}]\n",
      "=======\n",
      "2022-08-22 19:09:00+00:00 Alexa Can You Do Everything For Me?, Cute Women's Funny Screen Printed Loose Dolman Tee, Shirts With Sayings, Heather Gray or [TNRUKEN]\n",
      "\n",
      "https://t.co/Xj4fLmunpa\n",
      "Metrics {'retweet_count': 0, 'reply_count': 0, 'like_count': 0, 'quote_count': 0}\n",
      "=======\n",
      "2022-08-22 19:08:34+00:00 【今話題のセールス商品紹介❤】\n",
      "\n",
      "ソニー ワイヤレスノイズキャンセリングイヤホン WF-1000XM4 : 完全ワイヤレス/Amazon Alexa搭載/Bluetooth/LDAC対応/ハイレ...\n",
      "https://t.co/Xltk8oNyfh\n",
      "\n",
      "#Amazonセール\n",
      "Metrics {'retweet_count': 0, 'reply_count': 0, 'like_count': 0, 'quote_count': 0}\n",
      "[{'domain': {'id': '47', 'name': 'Brand', 'description': 'Brands and Companies'}, 'entity': {'id': '10026792024', 'name': 'Amazon'}}, {'domain': {'id': '48', 'name': 'Product', 'description': 'Products created by Brands.  Examples: Ford Explorer, Apple iPhone.'}, 'entity': {'id': '968221983803494400', 'name': 'Amazon - Alexa', 'description': 'Alexa'}}, {'domain': {'id': '47', 'name': 'Brand', 'description': 'Brands and Companies'}, 'entity': {'id': '10026738409', 'name': 'Sony'}}, {'domain': {'id': '131', 'name': 'Unified Twitter Taxonomy', 'description': 'A taxonomy view into the Semantic Core knowledge graph'}, 'entity': {'id': '10026738409', 'name': 'Sony'}}]\n",
      "=======\n"
     ]
    }
   ],
   "source": [
    "query= 'Amazon Alexa'\n",
    "tweets = client.search_recent_tweets(query=query, tweet_fields=['context_annotations','created_at','public_metrics'], max_results=100)\n",
    "\n",
    "for tweet in tweets.data:\n",
    "    print(tweet.created_at, tweet.text)\n",
    "    print(\"Metrics\",tweet.public_metrics)\n",
    "    if len(tweet.context_annotations) > 0:\n",
    "        print(tweet.context_annotations)\n",
    "    print (\"=======\")"
   ]
  },
  {
   "cell_type": "code",
   "execution_count": 4,
   "id": "58c01b3c",
   "metadata": {},
   "outputs": [
    {
     "name": "stdout",
     "output_type": "stream",
     "text": [
      "RT @Raiya_Atelier: 🤍申鶴🤍 https://t.co/HAWwmw5o9m\n",
      "=====\n",
      "@AlanJiang6992 微博互关😅特地私信我嘲讽我\n",
      "=====\n",
      "⏩or⏪、わからない。\n",
      "=====\n"
     ]
    }
   ],
   "source": [
    "query = 'from: Echoliuliu1'\n",
    "\n",
    "tweets = client.search_recent_tweets(query=query)\n",
    "#tweets = client.search_all_tweets(query=query)\n",
    "\n",
    "for tweet in tweets.data:\n",
    "    print(tweet.text)\n",
    "    print (\"=====\")"
   ]
  },
  {
   "cell_type": "code",
   "execution_count": 5,
   "id": "39aa33be",
   "metadata": {},
   "outputs": [
    {
     "data": {
      "text/plain": [
       "1434855134857621506"
      ]
     },
     "execution_count": 5,
     "metadata": {},
     "output_type": "execute_result"
    }
   ],
   "source": [
    "# the screen name of the user\n",
    "screen_name = \"Echoliuliu1\"\n",
    "# fetching the user\n",
    "user= client.get_user(username= screen_name)\n",
    "user.data.id"
   ]
  },
  {
   "cell_type": "code",
   "execution_count": 6,
   "id": "a0b0eb94",
   "metadata": {},
   "outputs": [
    {
     "name": "stdout",
     "output_type": "stream",
     "text": [
      "@Echoliuliu1 咋啦\n",
      "@benbenb30729942 @Echoliuliu1 https://t.co/yMQrb4SYAV\n",
      "@Echoliuliu1 https://t.co/yMQrb4SYAV\n",
      "@Echoliuliu1 🤔这样的话确实不错\n",
      "@Echoliuliu1 我现实脾气好像也....还好 主要是对女生没啥脾气，对别的就有点了😨\n",
      "@Echoliuliu1 ,咋么了？\n",
      "@Echoliuliu1 这个\n",
      "🤖加入链接 https://t.co/7l1eKGw0xH\n",
      "@Echoliuliu1 确实 上头的时候什么都不会想  单觉得好爽 好喜欢 好想见😋\n",
      "@Echoliuliu1 https://t.co/2OM4hUEk60\n",
      "@Echoliuliu1 我谈恋爱就会变成这个样子\n"
     ]
    }
   ],
   "source": [
    "user_id = '1434855134857621506'\n",
    "\n",
    "tweets = client.get_users_mentions(id=user_id, tweet_fields=['context_annotations','created_at','geo'])\n",
    "\n",
    "for tweet in tweets.data:\n",
    "    print(tweet)"
   ]
  },
  {
   "cell_type": "code",
   "execution_count": 7,
   "id": "70aa1876",
   "metadata": {},
   "outputs": [
    {
     "name": "stdout",
     "output_type": "stream",
     "text": [
      "1553407047500443651\n",
      "1443865324953108484\n",
      "1555136841959239681\n",
      "1283405625196556289\n",
      "1140653169615130624\n",
      "1443535440951218182\n",
      "1550017449038270464\n",
      "1513624037175431168\n",
      "1126802896119484417\n",
      "1517214454991130624\n",
      "1356161859825463296\n",
      "1527547977987805184\n",
      "855849861048016896\n",
      "1521729735587291136\n",
      "1500958643193139200\n",
      "1390677328024379395\n",
      "874630749197959168\n",
      "1222771448848121856\n",
      "1228750842347393025\n",
      "894461420359696384\n",
      "1525721902169194496\n",
      "1071306716405366785\n",
      "1475736601254760448\n",
      "1514853765429485571\n",
      "1516342052136566784\n",
      "924517119831687168\n"
     ]
    }
   ],
   "source": [
    "#13. Getting users that a user follows\n",
    "\n",
    "# Replace user ID\n",
    "id='1434855134857621506'\n",
    "\n",
    "users = client.get_users_followers(id=id, user_fields=['profile_image_url'])\n",
    "\n",
    "for user in users.data:\n",
    "    print(user.id)"
   ]
  },
  {
   "cell_type": "code",
   "execution_count": 8,
   "id": "5f917586",
   "metadata": {},
   "outputs": [
    {
     "name": "stdout",
     "output_type": "stream",
     "text": [
      "この表情良き https://t.co/NfbZr0Da5b\n",
      "chisataki get gayer with every episode oh my god. #LycorisRecoil https://t.co/1ugnrUJZkR\n",
      "三松许？！（幻视） https://t.co/nbpsHhW2Dc\n",
      "晚安，然后明天再见，露早小姐。。。\n",
      "汪汪！🐶 https://t.co/Jz7jlXPK2M\n",
      "96 / リコ&amp;レグ https://t.co/JZqcO5D6QR\n",
      "还记得初中那会儿穿着粉色浴衣去参加夏日祭，被好多人夸可爱围着拍照······怎么现在这些都变成了“不被允许，被人讨厌”的事情了呢？🥲\n",
      "男/国内在住/v圈乐子人/前嘉心糖/前皇家骑/二线桂物/现为御三家体制（塔爱菜）/前中高强度键政壬/P社战犯\n",
      "*如果看到我键政请提醒我去冥想\n",
      "https://t.co/R1MjTsfjPs\n",
      "🤔我爱v，v爱我吗？\n",
      "嗯，每天看着人儿，我都不得不想：有些话还是不说为喵\n",
      "https://t.co/I0GFNkjhXW\n",
      "早安，怎样都算赢的粉红们\n",
      "第一次勿谓言之不预\n",
      "第二次勿谓言之不预\n",
      "终极勿谓言之不预（\n",
      "小北好可爱\n",
      "昆仑也没了。。。现在四个人一个不剩了\n",
      "結べるよ https://t.co/kQisthuxhj\n",
      "按着脑袋弄到对方流眼泪的行为好粗暴好色哦 https://t.co/tjv8nl1ODU\n",
      "98日目、蛍🟡\n",
      "\n",
      " #原神  #Lumine  #100日チャレンジ https://t.co/6ocTbXdien\n",
      "落書き✎⁾⁾ https://t.co/5rCEjdF2BX\n",
      "C100のタペストリーです https://t.co/9oue2QrR31\n",
      "@tianche66485436 如果我有女朋友的话\n",
      "心情很差\n",
      "看我伤口给你看硬了快冲出来了？\n",
      "今天打了几把游戏\n",
      "我感觉自己知道我为什么不会和很强势的女生有亲密关系了\n",
      "原来不是初恋的阴影（初恋就挺强势的）\n",
      "也不是家里我妈比较强势\n",
      "而是一个队伍里有两个思路打法不一样的指挥是没法一起上分的，必须有人会收敛掉😨😨😨\n",
      "我想做一只狗狗，狗狗被大家喜欢。\n",
      "猫猫也行，猫猫虽然骄横但是很可爱。\n",
      "月の雫 ... 东方萃梦想 https://t.co/tVfQfZnwc2\n",
      "oc🦋 https://t.co/WGGYaIRjRy\n",
      "我这下真成废物了。\n",
      "@Xx_C418_xX 恰\n",
      "我好难过\n",
      "讨厌夏天，热死了呃呃呃。\n",
      "https://t.co/H8UwIYBtlr\n",
      "中国损失这么多高材生你看人家在乎了吗😋 https://t.co/vaqis7WVkL\n",
      "@zhongguonantong 敬请收看《赵氏孤儿》\n",
      "82日目、神里綾華\n",
      "\n",
      " #原神  #kamisatoayaka  #100日チャレンジ https://t.co/6BFX2cdbi0\n",
      "是不是每一个中国人刚上推特的时候都是兔友？\n",
      "台湾户籍信息全部泄漏😱\n",
      "属于是谁都能入侵我的梦境了\n",
      "我甚至梦见自己初中同桌了😭😭😭\n",
      "🍧🦋✨ https://t.co/STyPhy25j7\n",
      "💕\n",
      "#胡桃 #原神  #GenshinImpact https://t.co/ZvYswiFSGg\n",
      "ぼくのことが好きすぎる詩雨先輩💜 https://t.co/YKDBAwxKi3\n",
      "73日目,砂狼シロコ41\n",
      "#BlueArchive #ブルーアーカイブ #ブルアカ \n",
      "#100日チャレンジ https://t.co/o946CqnEZB\n",
      "減量中ですのに...\n",
      "#ウマ娘 https://t.co/m4NicFZCqQ\n",
      "フレカ💗 https://t.co/K42WdflKXN\n",
      "【配信告知】7/8㈮21時～\n",
      "\n",
      "－・　－－－・－　－・－－　・－・－－　…！ \n",
      "\n",
      "🔴https://t.co/32dQempR23 https://t.co/pz9Ixgew1w\n",
      "ch 71 moment #power #chainsawman https://t.co/NYyWCANCC4\n",
      "Daily42/Hutao\n",
      "#HuTao #胡桃 #GenshinImpact #Genshin https://t.co/cMjg835QiB\n",
      "トワ様〜 #TOWART https://t.co/5QM0p3p6Mz\n",
      "扣1为安倍酱➕1s\n",
      "开摆。 https://t.co/Hcd0LJzE4E\n",
      "悲しい気持ちのときは、インターネットなんか見なくていいよ\n",
      "happy birthday to me!🥳🥳🥳 https://t.co/UWlmBmsVz5\n",
      "https://t.co/QMdXLmXGgB\n",
      "好久不见~不知不觉，B站已经13岁了……有你们真好！🥳 https://t.co/fb68Ep8x9a\n",
      "@jakobsonradical 万人空巷。一个词语，两种景象。\n",
      "草の敵のアレ避けようとしても大体引っかかるっていうらくがき\n",
      "#原神 #GenshinImpact https://t.co/uwEXsxxWQ0\n",
      "#今月描いた絵を晒そう #原神 https://t.co/x5sbCztz8d\n",
      "@x_angelkawaii_x NTR好きな人の気持ちわからん\n",
      "什么可怜小狗狗 https://t.co/GhDX7NKofX\n",
      "国家卫健委发布通知，入境隔离措施，从14+7改为7+3。\n",
      "太傻逼了妈的。\n",
      "Steam登他妈不上去\n",
      "太几把脑残了。\n",
      "@Echoliuliu1 🥹摸摸\n",
      "@lalala3796 😥不禁止堕胎那多多少少也做点防护措施吧，妇科医生看那些都快被刮穿的宫壁感觉都吓人😥爱惜一点自己呀，让对方也爱惜你呀…\n",
      "https://t.co/neoSbH3F75\n",
      "https://t.co/SDtJUzxfId\n",
      "我想看她在我面前一件一件脱掉衣服的样子。她羞涩的表情和遮遮掩掩的身体是最色情的东西，最甜美的果实\n",
      "Psychology says, if you feel comfortable alone, you are a powerful individual.\n",
      "https://t.co/NX7SF2CdnJ\n",
      "「ヘブンバーンズレッド」公式応援イラストにて、國見タマちゃんを描かせて頂きました⚓️🌇\n",
      "\n",
      "pixivにて #ヘブバンイラコン 開催中なので\n",
      "ぜひチェックしてみてくださいね！ ˎˊ˗\n",
      "▶️ https://t.co/xlEVeOlR5r\n",
      "#ヘブバン   #PR https://t.co/nA5HmKmw2w\n",
      "遇见一个可以堂吃的了……冲😂 https://t.co/MQTdty6h2P\n",
      "去 https://t.co/L8lYytdi4J\n",
      "イジワルな女の子と抵抗できない女の子\n",
      " #百合の日 https://t.co/UHNqtphsxS\n",
      "若干年前的今天，俺初生了（ https://t.co/NhzAdY2xW5\n",
      "か、回復…\n",
      "#原神 #GenshinImpact https://t.co/F1EYrigtRY\n",
      "@x_angelkawaii_x かわいい~！！\n",
      "Psychology says, The less you care, the happier you will be.\n",
      "https://t.co/S5g6aHN5H6\n"
     ]
    }
   ],
   "source": [
    "#14. Getting users that like a Tweet\n",
    "\n",
    "# Replace Tweet ID\n",
    "id = '1434855134857621506'\n",
    "\n",
    "users = client.get_liked_tweets(id=id, user_fields=['profile_image_url'])\n",
    "\n",
    "for user in users.data:\n",
    "    print(user)\n"
   ]
  },
  {
   "cell_type": "code",
   "execution_count": 9,
   "id": "a65ef645",
   "metadata": {},
   "outputs": [
    {
     "name": "stdout",
     "output_type": "stream",
     "text": [
      "この表情良き https://t.co/NfbZr0Da5b\n",
      "chisataki get gayer with every episode oh my god. #LycorisRecoil https://t.co/1ugnrUJZkR\n",
      "三松许？！（幻视） https://t.co/nbpsHhW2Dc\n",
      "晚安，然后明天再见，露早小姐。。。\n",
      "汪汪！🐶 https://t.co/Jz7jlXPK2M\n",
      "96 / リコ&amp;レグ https://t.co/JZqcO5D6QR\n",
      "还记得初中那会儿穿着粉色浴衣去参加夏日祭，被好多人夸可爱围着拍照······怎么现在这些都变成了“不被允许，被人讨厌”的事情了呢？🥲\n",
      "男/国内在住/v圈乐子人/前嘉心糖/前皇家骑/二线桂物/现为御三家体制（塔爱菜）/前中高强度键政壬/P社战犯\n",
      "*如果看到我键政请提醒我去冥想\n",
      "https://t.co/R1MjTsfjPs\n",
      "🤔我爱v，v爱我吗？\n",
      "嗯，每天看着人儿，我都不得不想：有些话还是不说为喵\n",
      "https://t.co/I0GFNkjhXW\n",
      "早安，怎样都算赢的粉红们\n",
      "第一次勿谓言之不预\n",
      "第二次勿谓言之不预\n",
      "终极勿谓言之不预（\n",
      "小北好可爱\n",
      "昆仑也没了。。。现在四个人一个不剩了\n",
      "結べるよ https://t.co/kQisthuxhj\n",
      "按着脑袋弄到对方流眼泪的行为好粗暴好色哦 https://t.co/tjv8nl1ODU\n",
      "98日目、蛍🟡\n",
      "\n",
      " #原神  #Lumine  #100日チャレンジ https://t.co/6ocTbXdien\n",
      "落書き✎⁾⁾ https://t.co/5rCEjdF2BX\n",
      "C100のタペストリーです https://t.co/9oue2QrR31\n",
      "@tianche66485436 如果我有女朋友的话\n",
      "心情很差\n",
      "看我伤口给你看硬了快冲出来了？\n",
      "今天打了几把游戏\n",
      "我感觉自己知道我为什么不会和很强势的女生有亲密关系了\n",
      "原来不是初恋的阴影（初恋就挺强势的）\n",
      "也不是家里我妈比较强势\n",
      "而是一个队伍里有两个思路打法不一样的指挥是没法一起上分的，必须有人会收敛掉😨😨😨\n",
      "我想做一只狗狗，狗狗被大家喜欢。\n",
      "猫猫也行，猫猫虽然骄横但是很可爱。\n",
      "月の雫 ... 东方萃梦想 https://t.co/tVfQfZnwc2\n",
      "oc🦋 https://t.co/WGGYaIRjRy\n",
      "我这下真成废物了。\n",
      "@Xx_C418_xX 恰\n",
      "我好难过\n",
      "讨厌夏天，热死了呃呃呃。\n",
      "https://t.co/H8UwIYBtlr\n",
      "中国损失这么多高材生你看人家在乎了吗😋 https://t.co/vaqis7WVkL\n",
      "@zhongguonantong 敬请收看《赵氏孤儿》\n",
      "82日目、神里綾華\n",
      "\n",
      " #原神  #kamisatoayaka  #100日チャレンジ https://t.co/6BFX2cdbi0\n",
      "是不是每一个中国人刚上推特的时候都是兔友？\n",
      "台湾户籍信息全部泄漏😱\n",
      "属于是谁都能入侵我的梦境了\n",
      "我甚至梦见自己初中同桌了😭😭😭\n",
      "🍧🦋✨ https://t.co/STyPhy25j7\n",
      "💕\n",
      "#胡桃 #原神  #GenshinImpact https://t.co/ZvYswiFSGg\n",
      "ぼくのことが好きすぎる詩雨先輩💜 https://t.co/YKDBAwxKi3\n",
      "73日目,砂狼シロコ41\n",
      "#BlueArchive #ブルーアーカイブ #ブルアカ \n",
      "#100日チャレンジ https://t.co/o946CqnEZB\n",
      "減量中ですのに...\n",
      "#ウマ娘 https://t.co/m4NicFZCqQ\n",
      "フレカ💗 https://t.co/K42WdflKXN\n",
      "【配信告知】7/8㈮21時～\n",
      "\n",
      "－・　－－－・－　－・－－　・－・－－　…！ \n",
      "\n",
      "🔴https://t.co/32dQempR23 https://t.co/pz9Ixgew1w\n",
      "ch 71 moment #power #chainsawman https://t.co/NYyWCANCC4\n",
      "Daily42/Hutao\n",
      "#HuTao #胡桃 #GenshinImpact #Genshin https://t.co/cMjg835QiB\n",
      "トワ様〜 #TOWART https://t.co/5QM0p3p6Mz\n",
      "扣1为安倍酱➕1s\n",
      "开摆。 https://t.co/Hcd0LJzE4E\n",
      "悲しい気持ちのときは、インターネットなんか見なくていいよ\n",
      "happy birthday to me!🥳🥳🥳 https://t.co/UWlmBmsVz5\n",
      "https://t.co/QMdXLmXGgB\n",
      "好久不见~不知不觉，B站已经13岁了……有你们真好！🥳 https://t.co/fb68Ep8x9a\n",
      "@jakobsonradical 万人空巷。一个词语，两种景象。\n",
      "草の敵のアレ避けようとしても大体引っかかるっていうらくがき\n",
      "#原神 #GenshinImpact https://t.co/uwEXsxxWQ0\n",
      "#今月描いた絵を晒そう #原神 https://t.co/x5sbCztz8d\n",
      "@x_angelkawaii_x NTR好きな人の気持ちわからん\n",
      "什么可怜小狗狗 https://t.co/GhDX7NKofX\n",
      "国家卫健委发布通知，入境隔离措施，从14+7改为7+3。\n",
      "太傻逼了妈的。\n",
      "Steam登他妈不上去\n",
      "太几把脑残了。\n",
      "@Echoliuliu1 🥹摸摸\n",
      "@lalala3796 😥不禁止堕胎那多多少少也做点防护措施吧，妇科医生看那些都快被刮穿的宫壁感觉都吓人😥爱惜一点自己呀，让对方也爱惜你呀…\n",
      "https://t.co/neoSbH3F75\n",
      "https://t.co/SDtJUzxfId\n",
      "我想看她在我面前一件一件脱掉衣服的样子。她羞涩的表情和遮遮掩掩的身体是最色情的东西，最甜美的果实\n",
      "Psychology says, if you feel comfortable alone, you are a powerful individual.\n",
      "https://t.co/NX7SF2CdnJ\n",
      "「ヘブンバーンズレッド」公式応援イラストにて、國見タマちゃんを描かせて頂きました⚓️🌇\n",
      "\n",
      "pixivにて #ヘブバンイラコン 開催中なので\n",
      "ぜひチェックしてみてくださいね！ ˎˊ˗\n",
      "▶️ https://t.co/xlEVeOlR5r\n",
      "#ヘブバン   #PR https://t.co/nA5HmKmw2w\n",
      "遇见一个可以堂吃的了……冲😂 https://t.co/MQTdty6h2P\n",
      "去 https://t.co/L8lYytdi4J\n",
      "イジワルな女の子と抵抗できない女の子\n",
      " #百合の日 https://t.co/UHNqtphsxS\n",
      "若干年前的今天，俺初生了（ https://t.co/NhzAdY2xW5\n",
      "か、回復…\n",
      "#原神 #GenshinImpact https://t.co/F1EYrigtRY\n",
      "@x_angelkawaii_x かわいい~！！\n",
      "Psychology says, The less you care, the happier you will be.\n",
      "https://t.co/S5g6aHN5H6\n"
     ]
    }
   ],
   "source": [
    "#16. Getting Tweets that a user liked\n",
    "\n",
    "# Replace User ID\n",
    "id = '1434855134857621506'\n",
    "\n",
    "tweets = client.get_liked_tweets(id=id, tweet_fields=['context_annotations','created_at','geo'])\n",
    "\n",
    "for tweet in tweets.data:\n",
    "    print(tweet)"
   ]
  },
  {
   "cell_type": "code",
   "execution_count": 10,
   "id": "9da2b19e",
   "metadata": {},
   "outputs": [
    {
     "name": "stdout",
     "output_type": "stream",
     "text": [
      "@L0m1no0dIes @b1gnate_11 At that time that was clean for Bristol the good ole days\n",
      "=====text 1=====\n",
      "@lufcstats Bowyer vs Derby\n",
      "Yeboah vs Liverpool\n",
      "Beckford vs Bristol Rovers\n",
      "Viduka 4th be Liverpool\n",
      "=====text 2=====\n",
      "@BananaCoffeeCup @FirstBSA @BristolZoo @BananaCoffeeCup\n",
      "\n",
      "1) Select region = Bristol, Bath and the West \n",
      "\n",
      "2) Choose your First West of England bus area = West of England \n",
      "\n",
      "3) Choose a ticket category = Day\n",
      "\n",
      "4) Choose your ticket = West of England FirstDay Group\n",
      "\n",
      "5) Buy ticket = add a voucher or promo code https://t.co/PLddOCkJkN\n",
      "=====text 3=====\n",
      "German aircrew inspect a damaged Bristol Blenheim of 113 Squadron at the Larissa airfield, Greece. https://t.co/oYWBoyVtWt\n",
      "=====text 4=====\n",
      "@gabrielladriver @gcolquhoun Bristol-EMA-LHR-JFK-Cincinnatti and by road to Nashville (usually that is by air also but not on Mondays 🙂). The company uses DHL. Got a football shirt from the UK once overnight (and it was free shipping!) That sounds good on your delivery, perhaps they use the same planes?\n",
      "=====text 5=====\n",
      "RT @TottenhamTiers: #thfc loan watch- GW4\n",
      "🏴󠁧󠁢󠁥󠁮󠁧󠁿Dane Scarlett- Started midweek vs Cambridge in a 4-1 win. On the weekend, subbed on in the…\n",
      "=====text 6=====\n",
      "@Bristol_Mate Full sur 2e et 3e étage 😉\n",
      "=====text 7=====\n",
      "@DawsonPoolRoom Gonna suck when the hauler pulls into Bristol on Friday and they are all alone\n",
      "=====text 8=====\n",
      "@0ContextWombles I think he loved everything about Chelsea and Bristol Rovers as well… 🤔🤷‍♂️\n",
      "=====text 9=====\n",
      "RT @biker_tiny: Taken from our home Bristol night 21st\n",
      "\n",
      "Yeti SV4.5C size large turquoise\n",
      "\n",
      "Juliana Roubion size s colour gray 27.5 wheels\n",
      "\n",
      "S…\n",
      "=====text 10=====\n"
     ]
    }
   ],
   "source": [
    "query='bristol'\n",
    "tweets=client.search_recent_tweets(query=query)\n",
    "n=1\n",
    "for tweet in tweets.data:\n",
    "    print(tweet.text)\n",
    "    print('=====text '+str(n)+'=====')\n",
    "    n+=1"
   ]
  },
  {
   "cell_type": "code",
   "execution_count": 11,
   "id": "cc530e53",
   "metadata": {},
   "outputs": [
    {
     "name": "stdout",
     "output_type": "stream",
     "text": [
      "RT @JapaneseBaobao: รถเมล์ร้อนคือ\n",
      "#โรแลนด์ไงจะใครล่ะ 😂 https://t.co/CoDMtdtPCi\n",
      "=====\n",
      "RT @lerm_loe: ใครเขียนพีเรียดยุโรปก้คือวิ่งเรยเตง เรียนฟรีด้วย 🥹🥹🥹 https://t.co/QsNleiqkwr\n",
      "=====\n",
      "RT @GingercatW: สนพ.กก ดีมากนะ นิยายดี นักแปลหรือบก.ดีก็ไม่รู้แต่เนื้อในดีมาก ภาษาเลิศ คำผิดแทบไม่มี ช่วงงานหนังสือเคยไปสอยแบบลดราคามาหลายเ…\n",
      "=====\n",
      "RT @HydeOfficial_: ハガレンで知ってくれてた♫\n",
      "\n",
      "#HYDE\n",
      "#マネスキン\n",
      "#Maneskin\n",
      "#サマソニ \n",
      "#summersonic\n",
      "@thisismaneskin https://t.co/BcuCN2eGvQ\n",
      "=====\n",
      "RT @wwwinter9: #กรุงเทพคริสเตียน https://t.co/snhh91Ddj4\n",
      "=====\n",
      "RT @beerpeople99: เมื่อเทเบียร์มีฟองร่างกายจะได้รับแก๊ซน้อยลงส่งผลให้อืดท้องน้อยลง แต่คนที่ใส่น้ำแข็ง แก๊ซก็จะเบาบางลงไปพร้อมกับรสชาติของเ…\n",
      "=====\n",
      "@u5002060 คุณเปิ้ลเหมือนนั่งทางในได้ ครองแครงกับขาไก่นี่ของโปรดเลยค่ะ555/แอลกอฮอล์ช่วงนี้ต้องงดแล้วค่ะ/หมอหยุมหัวแล้ว1\n",
      "=====\n",
      "RT @NoppWisa: !! ดีใจที่งานของเราเป็นประโยชน์กับทุกคน  งานนี้ทำเมื่อประมาณ 2 ปีกว่า ๆ แล้ว ตอนนั้นได้รับโจทย์จาก PEA ว่าอยากทำโฆษณาเกี่ยวกั…\n",
      "=====\n",
      "RT @SayCoolEnglish: Frequently-used Vocabulary:\n",
      "แบ่ง 4 หมวดตาม parts of speech: N, V, Adj, Adv\n",
      "\n",
      "• เป็นลิสต์คำศัพท์ที่พบได้บ่อย (ตามชื่อเลย…\n",
      "=====\n",
      "RT @b_borbor: Cult of the Cat Nu 🙏 https://t.co/eUJSYLpFEQ\n",
      "=====\n"
     ]
    }
   ],
   "source": [
    "query = 'from: Luna_Anchalee'\n",
    "\n",
    "tweets = client.search_recent_tweets(query=query)\n",
    "\n",
    "for tweet in tweets.data:\n",
    "    print(tweet.text)\n",
    "    print (\"=====\")"
   ]
  },
  {
   "cell_type": "code",
   "execution_count": 12,
   "id": "6883b62c",
   "metadata": {},
   "outputs": [],
   "source": [
    "# Replace with your own search query\n",
    "#query = 'omicron -is:retweet' #exclude retweets\n",
    "query='LPL -is:retweet'\n",
    "\n",
    "tweets= []\n",
    "\n",
    "# Replace the limit=1000 with the maximum number of Tweets you want\n",
    "\n",
    "for tweet in tweepy.Paginator(client.search_recent_tweets, query=query,\n",
    "                              tweet_fields=['context_annotations', 'created_at','public_metrics'], max_results=100).flatten(limit=150):\n",
    "    tweets.append(tweet)\n"
   ]
  },
  {
   "cell_type": "code",
   "execution_count": 13,
   "id": "f5d5fe90",
   "metadata": {},
   "outputs": [
    {
     "data": {
      "text/html": [
       "<div>\n",
       "<style scoped>\n",
       "    .dataframe tbody tr th:only-of-type {\n",
       "        vertical-align: middle;\n",
       "    }\n",
       "\n",
       "    .dataframe tbody tr th {\n",
       "        vertical-align: top;\n",
       "    }\n",
       "\n",
       "    .dataframe thead th {\n",
       "        text-align: right;\n",
       "    }\n",
       "</style>\n",
       "<table border=\"1\" class=\"dataframe\">\n",
       "  <thead>\n",
       "    <tr style=\"text-align: right;\">\n",
       "      <th></th>\n",
       "      <th>text</th>\n",
       "      <th>created_at</th>\n",
       "    </tr>\n",
       "  </thead>\n",
       "  <tbody>\n",
       "    <tr>\n",
       "      <th>0</th>\n",
       "      <td>@ADCEM1 @AshleyKang @GenG @TOP_Esports_ The tw...</td>\n",
       "      <td>2022-08-22 19:25:49+00:00</td>\n",
       "    </tr>\n",
       "    <tr>\n",
       "      <th>1</th>\n",
       "      <td>@SquareDrive_ IPL - Royal Challengers Bangalor...</td>\n",
       "      <td>2022-08-22 19:24:28+00:00</td>\n",
       "    </tr>\n",
       "    <tr>\n",
       "      <th>2</th>\n",
       "      <td>@ericat_lol Rapaz como eu to viciado em assist...</td>\n",
       "      <td>2022-08-22 19:22:41+00:00</td>\n",
       "    </tr>\n",
       "    <tr>\n",
       "      <th>3</th>\n",
       "      <td>Si no he dejado de jugar lol, es definitivamen...</td>\n",
       "      <td>2022-08-22 19:22:28+00:00</td>\n",
       "    </tr>\n",
       "    <tr>\n",
       "      <th>4</th>\n",
       "      <td>@bruhyerrrr @Ilving34 @IWDominate @CoachMephis...</td>\n",
       "      <td>2022-08-22 19:22:08+00:00</td>\n",
       "    </tr>\n",
       "    <tr>\n",
       "      <th>...</th>\n",
       "      <td>...</td>\n",
       "      <td>...</td>\n",
       "    </tr>\n",
       "    <tr>\n",
       "      <th>145</th>\n",
       "      <td>Have you checked out our market signals podcas...</td>\n",
       "      <td>2022-08-22 16:05:02+00:00</td>\n",
       "    </tr>\n",
       "    <tr>\n",
       "      <th>146</th>\n",
       "      <td>@Estrella1230620 Nooo, go LPL again ~</td>\n",
       "      <td>2022-08-22 16:04:28+00:00</td>\n",
       "    </tr>\n",
       "    <tr>\n",
       "      <th>147</th>\n",
       "      <td>tian mvp summer splitu męczy się 5 map na jiej...</td>\n",
       "      <td>2022-08-22 16:03:43+00:00</td>\n",
       "    </tr>\n",
       "    <tr>\n",
       "      <th>148</th>\n",
       "      <td>@Luc_uras Its kinda complicated thats why lpl\\...</td>\n",
       "      <td>2022-08-22 16:03:31+00:00</td>\n",
       "    </tr>\n",
       "    <tr>\n",
       "      <th>149</th>\n",
       "      <td>@lpl_nanami たのしみ〜\\nななみちゃん、おやすみ💤</td>\n",
       "      <td>2022-08-22 16:02:03+00:00</td>\n",
       "    </tr>\n",
       "  </tbody>\n",
       "</table>\n",
       "<p>150 rows × 2 columns</p>\n",
       "</div>"
      ],
      "text/plain": [
       "                                                  text  \\\n",
       "0    @ADCEM1 @AshleyKang @GenG @TOP_Esports_ The tw...   \n",
       "1    @SquareDrive_ IPL - Royal Challengers Bangalor...   \n",
       "2    @ericat_lol Rapaz como eu to viciado em assist...   \n",
       "3    Si no he dejado de jugar lol, es definitivamen...   \n",
       "4    @bruhyerrrr @Ilving34 @IWDominate @CoachMephis...   \n",
       "..                                                 ...   \n",
       "145  Have you checked out our market signals podcas...   \n",
       "146              @Estrella1230620 Nooo, go LPL again ~   \n",
       "147  tian mvp summer splitu męczy się 5 map na jiej...   \n",
       "148  @Luc_uras Its kinda complicated thats why lpl\\...   \n",
       "149                    @lpl_nanami たのしみ〜\\nななみちゃん、おやすみ💤   \n",
       "\n",
       "                   created_at  \n",
       "0   2022-08-22 19:25:49+00:00  \n",
       "1   2022-08-22 19:24:28+00:00  \n",
       "2   2022-08-22 19:22:41+00:00  \n",
       "3   2022-08-22 19:22:28+00:00  \n",
       "4   2022-08-22 19:22:08+00:00  \n",
       "..                        ...  \n",
       "145 2022-08-22 16:05:02+00:00  \n",
       "146 2022-08-22 16:04:28+00:00  \n",
       "147 2022-08-22 16:03:43+00:00  \n",
       "148 2022-08-22 16:03:31+00:00  \n",
       "149 2022-08-22 16:02:03+00:00  \n",
       "\n",
       "[150 rows x 2 columns]"
      ]
     },
     "execution_count": 13,
     "metadata": {},
     "output_type": "execute_result"
    }
   ],
   "source": [
    "import pandas as pd\n",
    "tweet_df = pd.DataFrame()\n",
    "tweet_df['text']= [tweet.text for tweet in tweets]\n",
    "tweet_df['created_at']= [tweet.created_at for tweet in tweets]\n",
    "#tweet_df['retweet_count']= [tweet.public_metrics['retweet_count'] for tweet in tweets]\n",
    "#tweet_df['like_count']= [tweet.public_metrics['like_count']for tweet in tweets]\n",
    "#tweet_df['source']= [tweet.source for tweet in tweets]\n",
    "#tweet_df['geo']=[tweet.withheld for tweet in tweets]\n",
    "#tweet_df['reply_count']= [tweet.public_metrics['reply_count']for tweet in tweets]\n",
    "\n",
    "\n",
    "\n",
    "# tweet_df = pd.DataFrame(data=users_locs, \n",
    "#                     columns=['user', \"location\"])\n",
    "tweet_df"
   ]
  },
  {
   "cell_type": "code",
   "execution_count": 14,
   "id": "f44b724e",
   "metadata": {},
   "outputs": [
    {
     "name": "stdout",
     "output_type": "stream",
     "text": [
      "@ADCEM1 @AshleyKang @GenG @TOP_Esports_ The two chances for that to happen are: GenG wins Lck and TOP not lpl, or the other way around\n",
      "@SquareDrive_ IPL - Royal Challengers Bangalore\n",
      "BBL - Perth Scorchers\n",
      "CPL - Jamaica Tallawahs\n",
      "PSL - Lahore Qalandars\n",
      "LPL - Jaffna Kings\n",
      "@ericat_lol Rapaz como eu to viciado em assisti jogos da lpl e lck bem capaz de eu assisti\n",
      "Si no he dejado de jugar lol, es definitivamente por el competitivo, G2 y la LPL.\n",
      "@bruhyerrrr @Ilving34 @IWDominate @CoachMephisto Aight EU gets 1 seed, KR gets 2 and LPL gets 3 so it's 6 teams for a mini-tourney\n",
      "My favourite teams in T20 leagues accross world:\n",
      "\n",
      "IPL - LSG and DC\n",
      "BBL - Melbourne Stars\n",
      "CPL - Jamaica Tallawahs\n",
      "PSL - Karachi Kings and IU\n",
      "LPL - Jaffna kings https://t.co/CPwHqBpyNZ\n",
      "#Congrats LPL Financial\n",
      "\n",
      "Help me give a huge LPL congrats to candidate Lindsay R. Reitz on her internal promotion as our new Lead Operations Specialist. Congrats young lady super exciting you'll do great things!\n",
      "\n",
      "Management: Richard Valk \n",
      "\n",
      "See the link to…https://t.co/ZvvcFlKhJf\n",
      "Let me know when LPL start with the “your going down chants”\n",
      "LPL : Ouverture des inscriptions à Alger, Annaba et Tipaza dès demain mardi https://t.co/bWXbYKwyKa\n",
      "The latest Weekly Market Commentary has been released! For timely takes on the markets and the economy, click here: https://t.co/LDc1wBsQSO https://t.co/K7sIp3OjIU\n",
      "DYK? Dennis proudly served in the U.S. Navy as a Naval Flight Officer from 1986 to 1994, attaining the rank of Lieutenant Commander and receiving a Presidential Unit Citation and Navy Achievement Medal.\n",
      "\n",
      "Some facts about the U.S. Military branches:\n",
      "https://t.co/SI9PKTfjlQ https://t.co/dSgPbnnNOj\n",
      "Staying Overweight Equities After Strong July. LPL Research's August Global Portfolio Strategy. #economy https://t.co/aUDZSPEcJt https://t.co/hCYqBDfNvM\n",
      "Existing home sales fell 5.9% in July, the sixth consecutive month of declines as higher interest rates weigh on housing affordability and prospective buyers. Read more on LPL's Weekly Market Commentary. https://t.co/NjMVgx53NN https://t.co/hptkU9kswC\n",
      "Gabarito dos playoffs da lpl abaixo.\n",
      "Jdg 3x1 Lng\n",
      "Edg 3x1 Lng\n",
      "Jdg 3x2 Tes\n",
      "Tes 3x1 Edg\n",
      "Tes 3x1 Jdg\n",
      "Tes campeã. Podem me cobrar se isso não acontecer\n",
      "My favourite teams in T20 leagues accross world:\n",
      "\n",
      "IPL  -  Mumbai Indians\n",
      "BBL - Sydney sixers\n",
      "CPL - Guyana Amazon Warriors \n",
      "PSL - Doesn't exist \n",
      "LPL - Doesn't exist\n",
      "\n",
      "Quote/Comment down yours 😇 https://t.co/GFTVQLo1Z5\n",
      "Started watching lpl because of @IWDominate and holy shit how hype and high quality is every game in playoffs compared to every other region\n",
      "@luffidansnami @fc__oslo On rejoins nip en lpl l’histoire de zinzin la rivalité qui continue\n",
      "¡Hoy tenemos programón! 😱\n",
      "\n",
      "El sumario:\n",
      "\n",
      "-REPASO de los Playoffs\n",
      "-@LNG_Esports DESPIERTA de su letargo 🐉\n",
      "-@TOP_Esports_ primer chino en #Worlds2022\n",
      "-SOLAR tras SOLAR en las predicciones\n",
      "\n",
      "A las 21.30 CEST os esperamos en nuestro canal, ¡vente a averiguar qué pasa en la LPL! https://t.co/XCBwcev1su\n",
      "@xixis25675 @fc__oslo On y pense tous à ce slot lpl mon frère Ninis\n",
      "@_LadyTeaMar @Haliberry_mama @amynart_ Lpl, man wants to go for what he wants nauw\n",
      "@KravDave80 Literally a spur of the moment thought, lpl\n",
      "Akali apareceu na LPL e eu tô toda bobinha\n",
      "@forestwithout lec is just a bad format designed for a 3 teams seeds, that become a fucking joke the moment they add a seed for worlds, it was so easy to just create a mini tournament like  in lck and lpl to determinate the last 2 seeds\n",
      "Today is our Jungler Tarzan's 23rd-year-old birthday🎉\n",
      "\n",
      "With 2 years and 4 #LPL seasons in #LNG, Tarzan has become mature from up and down. He always puts team benefits first place responsibly💪\n",
      "\n",
      "We hope healthy Tarzan can keep chasing goals and dreams without a doubt \n",
      "\n",
      "Fighting! https://t.co/REoKYx19TL\n",
      "@forestwithout Your point is valid, but it should have been different teams to compare, coz the right teams to compare in LPL would be TES and not LNG. LNG should be compared to the gauntlet teams of LCK and Lower bracket of LEC. But yeah I agree with what your point was.\n",
      "8/23 LPL Showdown LoL Slate\n",
      "Current Vegas Odds &amp; Starters\n",
      "\n",
      "JDG -190\n",
      "LNG +135 https://t.co/BsFouDG1aC\n",
      "ROUND 4 DAY 2\n",
      "\n",
      "Old friends becomes rivalry: Kanavi/Yagao vs LvMao. Who's the real king of the jungle between Kanavi &amp; Tarzan? Yagao vs Doinb.\n",
      "\n",
      "JD Gaming vs LNG Esports @ Aug. 23rd.\n",
      "\n",
      "[ 5pm PHT ]\n",
      "\n",
      "#LPL #CrazyIsOurGame #JDGWIN #LNGWIN #SummerPlayoffs2022 #RoadToWorlds2022 https://t.co/7mjdKUUDiV\n",
      "@fc__oslo Le slot lpl avec vitaXrng J’Y PENSE ont pourra dire qu’on a un plus grand palmarès que T1\n",
      "Y la LPL se fue al 5 mapa, TES 3-2 EDG madre mia junto con LNG mis tres equipos favoritos, si les pongo en orden ahora mismo diría \n",
      "1. TES\n",
      "2. EDG\n",
      "3. LNG\n",
      "4. V5\n",
      "\n",
      "Enserio si no tenéis nada mejor que hacer miraros esta serie de TES VS EDG vaya gozada\n",
      "Your Weekly Update: Home Sales Fall (Again). What's Next? https://t.co/pd8DOk2zzc\n",
      ".@TOP_Esports_ se convierte en el primer representante de la LPL tras derrotar a EDward Gaming.\n",
      "\n",
      "JackeyLove y compañía pusieron un apretado 3-2 para vencer al actual campeón del mundo.\n",
      "\n",
      "https://t.co/giYp5LyDAe\n",
      "[2022 LPL Summer Playoffs Round 4]\n",
      "\n",
      "LNG vs JDG | Happy Birthday Tarzan\n",
      "\n",
      "Time: 8/23 | 11:00 CEST, 02:00 PDT, 18:00 KST\n",
      "\n",
      "Starting Lineup: Ale | Tarzan | Doinb | Light | LvMao\n",
      "#LNG #LNGWIN  #LNGLOL\n",
      "📺: https://t.co/fRX08qQ8Nz\n",
      "\n",
      "📺: https://t.co/q5hxe2B2Z8\n",
      "\n",
      "📺: https://t.co/2dFlq1H560 https://t.co/DOjjc7YxDp\n",
      "@fedceI i just thought i'd say since its my gc daaamn !! i just don't wanna block u guys because idgaf anymore lpl\n",
      "top roster is not that good still and i highly doubt they gonna continue LPL dominance BUT both Gen G and T1 feel really shaky rn that anything could happen\n",
      "@NotoriousOneK @FrankMo71102574 @Anhell_11_10 @Esportmaniacos Para ser justos, en el mundial pasado a cuartos se clasificaron 4 equipos coreanos frente a 2 equipos chinos. Y si no recuerdo mal, todas las series entre la LCK y la LPL se resolvieron en el quinto mapa.\n",
      "Los chinos son los favoritos pero los coreanos no les andan muy lejos.\n",
      "2022 LPL 夏季季后赛 EDG 不敌 TES，他们输在哪？ https://t.co/9WCjn1sDSJ\n",
      "@YukiSV_ @LCK_Brasil KKKKKKKKK O PERFIL DA LPL POSTOU ISSO COM O DOINB HOJE TAMBEM\n",
      "@NotoriousOneK @Anhell_11_10 @Esportmaniacos Que no sea el favorito no significa que GENG pueda hasta forzar 5 mapa contra cualquiera de LPL y LCS y LEC pues buenas noches\n",
      "@ericat_lol bora madrugar lck e acordar pra lpl\n",
      "(se tiver)\n",
      "BSP has proudly partnered with @LPL and @AlliedUniversal for a number of years. “I have full trust in the BSP team,” says Michael Smith, Services Manager.\n",
      "\n",
      "The collab has brought forth BSP’s ESL, IDC and GJEP to several hundreds of workers. Learn more: https://t.co/P685FtJFkV https://t.co/EHEjwLd15H\n",
      "@Dabyi_ @DragossLoL @Zarrico @Itachi9zz Honnêtement j'adore l'équipe de G2 mais pour avoir regardé la LPL on concurrence pas les tops 3\n",
      "@adriiiits @paIoIiss Podria ser yo siendo cualquier equipo de LEC, LPL o LCK XD\n",
      "Log into soloQ only for your 4 other disgusting LPL supermontage wannabe permafight emotional pig teammates decide they are the main character of earth so they ruin the game for 9 other players but I cant type certain words because it would ruin the game HAHA!\n",
      "RT @LPLResearch \"RT @JeffreyJRoach: Where is the Housing Market Headed? | LPL Econ Market Minute https://t.co/KIw0RgNO3g via @YouTube @LPLResearch https://t.co/KHy4KfZkex\"\n",
      "Por parte de la #LPL @TOP_Esports_ aseguraron hoy su clasificación a #Worlds2022.\n",
      "\n",
      "(4/32) https://t.co/868iqsDOjS\n",
      "So proud of Tian he went through hard moment last year and wasn't doing well, now he is the first to qualify for worlds and is on the 1 st LPL all pro team ! Just GG ! So excited for Worlds https://t.co/xGw4m9oVRK\n",
      "@KrishnaKRM He is the current  coach of Jaffna kings in LPL and coached  the Bengal tigers team in last t10 \n",
      "Good player but had to bat at either 3 or 4 in an odi team.\n",
      "After 2011 wc ,🇱🇰 started backing more youngsters like chandi,Thirimanna ,Kusal  and kandamby was left out from the team\n",
      "Your Weekly Update: Home Sales Fall (Again). What's Next? https://t.co/zeC3w6EArS\n",
      "@070_ako 数年前はlolのランクやっててゴールド帯だったんですけど、いまは全然やってなくてフレンドとノーマル回したり、大会観戦(LCK,LpL)がメインだったりします！笑\n",
      "@Pharm_Nelo @#ok olpl I’m mo@n# l#pmi@l#lm@m@@l@#@mp@##@lol #m@l#p#@ml l#p#@@p#m@ml#lpl@@l#@p#nopo##m I #p##\n",
      "@Cusnayop @CocaRebuild Sí, por eso lo decía no tenía muy alto a tes este año por eso mismo pero si está al 100% tian es increíble\n",
      "\n",
      "Knight en 2020 no se vió nada como en la LPL, decir que nunca decepciona es mentira pero han pasado 2 años y estoy seguro que ha crecido\n",
      "@Dabyi_ je regarde tt le top6 lck et la lpl quand je peux, g2 ne bat pas une seule équipe lpl, la Corée peut être dans un bon jour\n",
      "@gymcoach_ Les top 5 LPL mange le monde en bo3 je rigole pas\n",
      "La #LPL ya tiene a su primer representante en #WORLDS2022🏆 \n",
      "\n",
      "@TOP_Esports_ llegó a la gran final de la región y se convirtió en el primer club chino en asegurar su lugar en el mundial.🔥 https://t.co/HTJfj3Af8E\n",
      "🎮 LoL Esports\n",
      "「スーパーハッピー・ドゥインブ #LPL」 https://t.co/mAEmD8ZDGF\n",
      "Each week, the LPL Financial Research team creates insights and thoughts on market news. Check out this week's commentary below! https://t.co/DRQHJbzc9S\n",
      "\n",
      "#MarketUpdate #StockMarket #MarketTrends #MelbourneFinancialAdvisor https://t.co/GP9M1efAD9\n",
      "What do you need to know to survive the bear market? How long do bear markets typically last? How much further might stocks fall? We'll be answering these and more of your questions in the Bear Market Q&amp;A: https://t.co/DLfmIkZQc8\n",
      "encore un jour où la Lpl (meilleure ligue du monde) n'est pas streamé par otp https://t.co/LQz1rNCxkb\n",
      "@Anhell_11_10 @Esportmaniacos Todas las regiones van a comer la verga de la LPL. Cualquiera de los 4 equipos que salgan de esa liga son fáciles favoritos al título, es que ni siquiera Gen.G que es el mejor de Corea ahora mismo va para favorito…\n",
      "@Cusnayop @CocaRebuild me ví toda la LPL XD\n",
      "i am not ready at all，bec ready boy cant wait as dead in yesterdya @FiberMaria @Freestyle_Smurf @Rocky_LPl @Chillrrrr @theforgelight https://t.co/b6p17yyNCo\n",
      "@elAckss La seul chose qui fait que je suis pas comme c'est qu'il y a League of légende une fois que on n'aura le champion de la lck et de la lpl ça va faire la même me leverai a 17h au début de la lec 😭\n",
      "@Sohlka @YusufTrabzon196 @Dabyi_ @theojugger @arthgon1 @Zerotick_ Pour info TES s’est effondré la dernière fois au World ça passe les groupes et fin. Et là ils ont pas grand chose de plus par rapport à la dernière fois. Pourtant certain les « monstres » de la Chine. Je miserai plus sur d’autres équipes LPL que TES…\n",
      "@cutebchu LNG all the way to win LPL\n",
      "#LPL'de play-offların 4. aşamasında TOP Esports, rakibi EDward Gaming'i 3-2 mağlup ederek yarı finale yükselen ilk takım oldu.\n",
      "\n",
      "EDG, yoluna kaybedenler grubunda devam edecek. https://t.co/XjM0eDOYxL\n",
      "Top Esports become first LPL team to qualify for Worlds 2022 with playoff win over EDG https://t.co/LD0r0DiMpC\n",
      "@Zaboutine @LaureBuliiV Pourquoi il n'y a pas de casteurs pro français pour la LPL. Ça donnerait bien plus envie de regarder.\n",
      "@ArzakiI @OTP_LoL @Twisted_Chips @Noigiaire De tte facon le plus important pour moi c'est que GenG et T1 explosent la LPL aux worlds sinon ca me briserait vrmt le coeur\n",
      "c'est trop une dinguerie la LPL pourquoi on s'inflige la lec alors que cette pépite existe https://t.co/zy9QoqLeXM\n",
      "@FS_Yusuf_ Day don day clone tinubu for campaign now self \n",
      "Lpl\n",
      "alguem vai amanha tipo nao vai ter aula nem de redes nem de lpl\n",
      "@Jane_0v0 내가 젤 받고싶은건 싸인유니폼인데 우차피 유니폼은 lpl에서 관리하는거라 한정수량이래 🥹\n",
      "@forestwithout True . We have to take in account the fanbase and amount of money being poured into LPL and how big of a base that region has. Makes sense that they have 17 teams . Which makes sense that a smaller percentage of the teams going . The competitiveness in the region is prob highest.\n",
      "LoL - LPL: Top Esports confirma su pase a Worlds tras ganar a los actuales campeones del mundo https://t.co/DzlAJVHhey\n",
      "@PicNickBoy @chi_hanaa @Vlad_1994_12 @lolesports @TOP_Esports_ here is DK vs EDG final odds. nobody predicted EDG over DK. DK was the most dominant team at worlds last year. even delusional lpl fangay like Dom predicted DK win over EDG 🤣 https://t.co/RngTbVDjuI\n",
      "@lpl_nanami モリモリ！\n",
      ".@Gao_Tian_Liang posted on Weibo:\n",
      "\n",
      "\"Happy making Worlds with the bros, the summer split is still going on, hype!\"\n",
      "\n",
      "#LPL #TESWIN https://t.co/FwqPkDaCjy\n",
      "https://t.co/HuVrxfkJKg\n",
      "فتح التسجيلات في برنامج السكن الترقوي الحر LPL في هذه ال\n",
      "@Dabyi_ @vinoxito1 @DragossLoL @Zarrico @Itachi9zz Tu regardes vraiment la LCK/LPL pour dire ça ? Le top 4 LCK froisse littéralement G2, de même pour le top 6 LPL. La marge d'erreurs asiatique est faible comparé à G2 qui se fait remonter 10k golds par MSF. 🥴\n",
      "Tian Esports fans rejoice! https://t.co/6wBx0fWUvE\n",
      "@mrcool0283 Nibraz is from Lanka. It was for LPL but u can consider it for peesl too 😭\n",
      "Why is there not one singly @flybe route to @LPL_Airport? They used it as a test flight base, but soon forgot about it when they launched and now they’ve announced yet more routes from Manchester. What a joke! #Flybe\n",
      "@bagelidus @IWDominate IWD prises the LPL playoffs format (i guess) for the number of bo5s so i made the comparison\n",
      "Roster for Aug. 23rd:\n",
      "\n",
      "· 369 vs Ale\n",
      "\n",
      "· Kanavi vs Tarzan\n",
      "\n",
      "· Winner will play against TES, loser will play against EDG\n",
      "\n",
      "#LPL https://t.co/qq827ka0QF\n",
      "LPL : Ouverture des inscriptions Alger, Annaba et Tipaza dès demain mardi https://t.co/RUNkmnFLMC\n",
      "@Pabu22 @forestwithout I totally agree with this what I am trying to argue for is that jax doesn’t counter kennen gnar etc they are just picking it because it’s a good champ I am sure that in lpl people would play kennen into jax jax into kennen gnar into jax jax into gnar they don’t care\n",
      "@KeepDkr @T63703187 @lolesports @TOP_Esports_ Out of 112 players that played in LPL this split only 12 of them are korean and some of them didn't even play in LCK ever (doinb,TheShy) not mentioning the fact that teams like RNG And TES literally have 0 koreans\n",
      "@MrSelf5 @TicTacTitans @TitanUpload You are analyzing that stat wrong lpl. The OLINE has been terrible\n",
      "@XIX77l 第五把感觉就是小龙团的时候太犹豫了不敢打被找了机会，挺可惜的说起来\n",
      "但是真的每次看比赛弹幕一直在狗叫，各种喷的我觉得都是傻逼，不管怎么样我们LPL的季后赛只要我们作为粉丝看着精彩就好，赢了高兴，输了总结一下，其实这几只队伍都很强的不管谁进了世界赛代表的都是中国，所以这会越焦灼越好看\n",
      "@Reshi1184 @jeefhardy_13 LCS is NA league = the country where worlds will be this year , \n",
      "\n",
      "the 4 Majors are : LCK , LPL , LEC and LCS 🙂\n",
      "@Pabu22 @forestwithout I mean u can’t deny that lpl has a jax fetish while other regions only prio him as a true counter\n",
      "@NathanG53518284 @OverZero02 @RaiderJay_BBB @STEFANOS1602 @IWDominate classic lpl tard excuses. tell that to fpx and lng https://t.co/GkMit8V9az\n",
      "@yuriyuriyuri510 @daviokk Safado é o caralho menor q porra de talarico nunca ia trair meu mano lpl carai\n",
      "@Dabyi_ @Zarrico @DragossLoL Y’a quand même une vidéo où les joueurs de LPL sont choqué par le niveau de Jankos comment il est guez. Theshy a même dit que c’était pathétique\n",
      "@Itachi9zz @Zarrico @DragossLoL Pour au finale se faire sortir par Suning, qui sort de nul part, (qui d’ailleurs avait le meme niveau que G2) donc le meilleur de LPL se fait sortir par une équipe au meme niveau que G2 ? 🤔🤔🤔🤔 ( et se fait quasi gap par FNC au passage)\n",
      "So prouf of our travel episodes around the world, including this fantastic adventure when Sam goes to visit China - @VincentTong007 @adrienne_lpl https://t.co/lTIaM3NNHw\n",
      "@ArzakiI En LCK Gen.G depuis toujours\n",
      "En LPL JKL depuis toujours donc TOP\n",
      "Et en LEC #G2ARMY\n",
      "The domestic economy will likely experience more declines in housing, yet this environment is very different from the Great Financial Crisis. https://t.co/PG5KamW2ql\n",
      "The domestic economy will likely experience more declines in housing, yet this environment is very different from the Great Financial Crisis. https://t.co/tHCgOpD7hm\n",
      "@Itachi9zz @Zarrico @DragossLoL Tout ça pour dire que chaque année y’a qu’une seule team de LPL  qui est monstrueuse, et encore, en 2020, TES giga favori, manque a deux doigts de se faire sortir par FNC ? Oui oui Fnatic meme pas les meilleurs d’EU et pas les 2eme non plus, donc bon la LPL n’est pas aussi forte\n",
      "Wie versprochen ist das Interview mit @Elyoya_LoL von @MADLions_EN jetzt da! 🥳 Sorry nochmal für die Verspätung, aber ich hoffe es gefällt euch trotzdem. Es ging um ihren LPL-Spielstil, Elyoyas Wunsch nach den Worlds und ihre Ups und Downs in der #LEC.😊\n",
      "\n",
      "https://t.co/AQVkQtake6\n",
      ".@Elyoya_LoL von @MADLions_EN hat mit uns über die kommenden Playoffs und ihren Spielstil in der #LEC  gesprochen! 😍Schaut dafür in dieses Interview.👇\n",
      "\n",
      "✍️@SonjaZuegner \n",
      "\n",
      "https://t.co/0AvRBqQEwr\n",
      "Your Weekly Market Commentary is here! Check it out to learn more about the big changes happening in the housing market. \n",
      "https://t.co/VuKzdhJT1o https://t.co/VxPPbiRlhr\n",
      "ゆってもイーゼルがLPLの四枚羽根持ってるだけで、タイマーも0.2秒単位の下位モデルなんですけどね\n",
      "@forestwithout the reason lpl players pick jax into gnar is because they just love the champ they even picked jax into kennen they rly don’t care\n",
      "シンプルにするとゲーミングチェアは\n",
      "\n",
      "プロ野球、LJL（オフライン）＝AKRACING\n",
      "LPL＝AutoFull\n",
      "LoL世界大会、VALORANT＝SECRETLAB\n",
      "SENGOKU GAMING＝Contieaks\n",
      "BORDER BREAK＝ZESTRANSIR\n",
      "FFL＝Okamura STRIKER\n",
      "\n",
      "こうなる🤔\n",
      "@Xerczar @StoreGitte @blumfeld_d @CoastersWW_ @lolesports @TOP_Esports_ So LPL Spring 2020 didn't happen I guess\n",
      "TES INTERVIEW!!!!! #LPL #TESWIN \n",
      "\n",
      "Q: You are back at Worlds after a 1 year absence, what are you hoping for this Worlds?\n",
      "\n",
      "JackeyLove: I want to play well, and go far in the tournament. https://t.co/1hKbLtNSqK\n",
      "@Anich_Ect 저두 lck에선 젠지 제일 좋아하구요!! Lpl 자체를 좋아해요 Msi때 무지성으로 rng응원했어요 감사합니다 리닝파이팅!!!!!💕\n",
      "@YouFancyyyMe @IWDominate you aren't getting the point, i don0t mean percentages, IWD says that the LPL playoffs format garants 12 series, and thats because there are 10 teams competing in it.\n",
      "LEC with 6 teams has 8 series..\n",
      "Nữa nè. Mà hồi kì LPL làm cái lễ giống LCK Awards mà Viper ko đi, hôm đó nguyên team EDG mặc đồ của Dior😭😭 https://t.co/YW33bIkbjl\n",
      "@Dabyi_ @Itachi9zz @DragossLoL Lng était pas favoris l’année dernière c’était justement la seule équipe de lpl ou personne ne croyait en eux\n",
      "@Itachi9zz @Zarrico @DragossLoL Chaque année c’est pareil ??? y’a 4 teams de LPL qui arrivent ultra favorites pour qu’au final 3/4 choke completement, TES, JDG en 2020, LNG, FPX, RNG en 2021, chaque année c’est la meme chose\n",
      "@LoLSouley @forestwithout Well i do agree. But at worlds its different, just look at last year. Its undeniable that lck did atleast place better than lpl in total\n",
      "@xerynes Il joue vraiment bien ce split en Europe mais... N'importe quel mid de LPL ou LCK lui fais un de ces boulots\n",
      "The market is as unpredictable as the weather. We’re here to help you prepare. https://t.co/uNhJ4LJlHb\n",
      "💠Founder of $FTX\n",
      "💠Founder of $AAVE\n",
      "💠Founder of $SNX\n",
      "💠Founder of $AVAX\n",
      "💠Founder of $SOL\n",
      "💠Founder of $FTM\n",
      "💠Founder of $HBAR\n",
      "💠Founder of $OASIS\n",
      "💠Founder of $GLMR\n",
      "💠Manager of $JOE\n",
      "💠Founder of $LPL\n",
      "💠Director of $STX\n",
      "💠Founder of Moralis\n",
      "@mapederso @IWDominate LEC: 60%\n",
      "LPL: 52% \n",
      "\n",
      "Wait???\n",
      "\n",
      "Also Franchising is not as terrible in china thus teams actually want to win\n",
      "@Dabyi_ @DragossLoL @Zarrico Mais tu penses vraiment g2 sont au niveau des équipes LPL ?\n",
      "TES成为LPL首支晋级S12的队伍 https://t.co/VAh3FgDUxM\n",
      "@Dabyi_ @Zarrico @DragossLoL Hors 2020 gagne les worlds ou fait final* donc stp le top 5 LPL c un autre niveau merr dis toi y’a des gens qui disent c + dur de gagner la lpl que les worlds que a cause de ça\n",
      "AutoFullさんなので世界最高峰のLoLプロリーグ『#LPL』の選手達と同じ椅子で作業ができるってぇ訳ヨ\n",
      "\n",
      "それだけと言われたらそうなんだけども https://t.co/UwJ3DyeqXu\n",
      "LPL에 와서 LNG에 합류한 2년동안 4시즌의 대회에서 우여곡절 속에 성장하고, 시련 속에서 성숙하며, 책임감과 이기고자 하는 열망으로 항상 팀을 이끌었습니다. &lt;&lt; 눈물죽죽흘리는여성됨\n",
      "@Dabyi_ @Zarrico @DragossLoL Comme jiejie qui avait explosé damwon. La lpl c TES EDG RNG JDG LNG qui sont favoris pr gagner la lpl et celui qui gagne la lpl hors 2020 gagne la LPL ou qui fait final a tjr fait final ou gagner les worlds depuis 2018 je crois (je crois là final summer c’était rng vs IG)\n",
      "Champions played last week in pro leagues: https://t.co/WQlstuvCJK\n",
      "\n",
      "#lol_potw #LPL #LCS #VCS #LCK #PCS #LCKCL #LFL #CBLOL #LCO #LLA #HitpointMasters #NLC #TCL #SuperLigaLol #ultraliga #PrimeLeague #LJL https://t.co/aSIJsP7Ybz\n",
      "@Itachi9zz @Dabyi_ @DragossLoL Et il faut se dire que la rng c’est même pas la meilleure équipe de lpl hein \n",
      "Genre il y’a vachement plus fort qu’eux \n",
      "La chine va encore gagner les worlds mais mnt reste à savoir qui\n",
      "@Dabyi_ @DragossLoL @Zarrico @Itachi9zz Non non t’es juste un fan g2 delu qui veut pas avouer que son équipe se fait gap par le top 5 lck/lpl\n",
      "@Tim_Cruz177 @IWDominate @lplenglish it's probably because most LPL players are absolute psychos who agree to contest nearly every play and only cross map as a last resort, and they also perma limit test on stage and make huge mechanical misplays and outplays that keep games close, maybe wintrading even\n",
      "@Dabyi_ @Itachi9zz @DragossLoL Tu connais rien à la lpl 3-2 en Chine c’est un score banal c’est pas un match serré ou quoi que ce soit\n",
      "LPL한테 경기로 정신적폭행당하는거같음 https://t.co/HVn95IpdIe\n",
      "@Wheel_Over1 @ZURDitw @RodriCerrudo Mi punto y conclusión es: BR es mejor que LAN y NA es mejor que LAN, ahí donde pueden ser mejores. Scrims no se pueden conseguir EuW, LCK, LPL etc,por zona geográfica, así que toca con lo que hay.\n",
      "LVP tiene que scrimear a lo mucho vs LLA, a eso me refiero que no hay mas por hacer\n",
      "@Dabyi_ @DragossLoL @Zarrico Quand on se mange un vilain 3-0 a domicile c pourtant clair et me parle pas du BO de perkz contre rng mdr car en rien la lpl actuelle et celle d’avant se ressemble mdr\n",
      "@Dabyi_ @DragossLoL @Zarrico Je regarde toute les games de LPL depuis 2019 TOUTE KES GAMES et g2 et surtout BB ce que sont pris au MSI étaient assez clair. Ils n’ont pas le niveau des team asiatique et comme rng a pulvériser t1 encore - de la lpl\n",
      "오늘은 LNG팀 리그오브레전드 소속 정글러 타잔의 24번째 생일입니다.🎂 먼저 우리 이승용 선수의 24번째 생일축하해요.\n",
      "\n",
      "LPL에 와서 LNG에 합류한 2년동안 4시즌의 대회에서 우여곡절 속에 성장하고, 시련 속에서 성숙하며, 책임감과 이기고자 하는 열망으로 항상 팀을 이끌었습니다. https://t.co/fXSyxrRbG7\n",
      "@vinoxito1 @DragossLoL @Zarrico @Itachi9zz Oui oui, la seule équipe qui gap G2 actuellement c’est GEN G, et pour avoir regarder toutes les autres équipes dans leurs BO5 G2 peut les concurrencer, vous suivez l’esport depuis 1 an et la seule chose dans votre cerveau c’est « LCK, LPL &gt;&gt;&gt; LEC »\n",
      "LPL見ながら寝てた\n",
      "@SHOR0W @Itachi9zz @Zarrico Et bah non, en LCK y’a que GEN G qui gap G2, et en LPL G2 peut concurrencer avec toutes les équipes, on l’a vu au MSI, vous connaissez rien et vous croyez instinctivement que LPL et LCK sont intouchables\n",
      "esse trabalho de lpl só vai tender meme cara\n",
      "LPLは単にプレイオフだけじゃなくて春の成績ポイントも考慮されるから、今回の敗北でEDGの worlds進出はかなり厳しくなった。LNGもプレイオフ初戦から勝ち抜いてきたとはいえ、JDGに負けるとそれだけでかなり窮地に立たされる。LPLのフォーマットは熾烈すぎなんよ。。\n",
      "Top Esports vs. EDward Gaming / LPL 2022 Summer Playoffs - Winners' Bracket Semi-Final / Post-Match Discussion https://t.co/4Niyr4V6JD via @Inoreader\n",
      "Top Esports become first LPL team to qualify for Worlds 2022 with playoff win over EDG https://t.co/h15fvLabvl\n",
      "@Dabyi_ @DragossLoL @Zarrico @Itachi9zz g2 concurrence très largement le top de la lpl il a dit MDRRR\n",
      "Clasificados al #WORLDS2022 hasta el momento: \n",
      "EUROPA #lec\n",
      "-@G2esports (Alemania)\n",
      "COREA #lck\n",
      "-@T1 \n",
      "-@GenG \n",
      "CHINA #LPL \n",
      "-@TOP_Esports_ \n",
      "\n",
      " disponibles 20 (8 para fase de grupos, 12 para play in)\n",
      "\n",
      "China tiene 2 plazas una que LNG y JD gaming pelearan y una en regionales x play in https://t.co/b1fcQcJrDN\n",
      "@lpl_nanami なんとしてもいくよななみちゃん🤭\n",
      "最近英雄联盟的版本又是软辅版本啊，估计一直到S赛都是这样了。感觉软辅版本，LCK会更适应，希望LPL加油，再拿一个世界冠军。冲冲冲\n",
      "Have you checked out our market signals podcast? We speak about updates from this past week and share market commentary. Click the link below! https://t.co/0pbTbE8HK4 https://t.co/6W80ntvKLj\n",
      "@Estrella1230620 Nooo, go LPL again ~\n",
      "tian mvp summer splitu męczy się 5 map na jiejie xD Kanavi by takiego peta w bo5 w 2 mapy rozjebał i nie ważne że się gra do 3 wygranych bo na 3 mapę jiejie by psychicznie nie mógł wyjść po tym co by mu najlepszy jungler w LPL zrobił\n",
      "@Luc_uras Its kinda complicated thats why lpl\n",
      "and thank you azura youre cool https://t.co/sF9YMp1sJd\n",
      "@lpl_nanami たのしみ〜\n",
      "ななみちゃん、おやすみ💤\n"
     ]
    }
   ],
   "source": [
    "i=0\n",
    "while i < len(tweet_df['text']):\n",
    "    print(tweet_df['text'][i])\n",
    "    i+=1"
   ]
  },
  {
   "cell_type": "code",
   "execution_count": 15,
   "id": "b6bd6701",
   "metadata": {},
   "outputs": [],
   "source": [
    "tweet_df.to_csv('/Users/libra/Desktop/1205.csv')"
   ]
  },
  {
   "cell_type": "code",
   "execution_count": 16,
   "id": "69dd5ac3",
   "metadata": {},
   "outputs": [
    {
     "name": "stdout",
     "output_type": "stream",
     "text": [
      "Folks in the Seattle area join us this Thursday 6 pm at the Twitter Seattle office for our meetup for students, devs &amp; researchers. Come hangout with the @TwitterDev team &amp; learn about all things #TwitterAPI v2\n",
      "\n",
      "Sign up &amp; pls share with others in the area! https://t.co/S1F7MlKJ67\n",
      "[{'domain': {'id': '30', 'name': 'Entities [Entity Service]', 'description': 'Entity Service top level domain, every item that is in Entity Service should be in this domain'}, 'entity': {'id': '781974596752842752', 'name': 'Services'}}, {'domain': {'id': '47', 'name': 'Brand', 'description': 'Brands and Companies'}, 'entity': {'id': '10045225402', 'name': 'Twitter'}}, {'domain': {'id': '156', 'name': 'Cities', 'description': 'Cities around the world'}, 'entity': {'id': '908359182864203777', 'name': 'Seattle', 'description': 'Seattle'}}]\n",
      "Using the conversation ID and the Quote Tweets lookup endpoints in the #TwitterAPI v2, you can get the entire conversation around a Tweet (Original Tweet + Replies + Quote Tweets) This short guide shows you how👇https://t.co/vpUSoHOeuO\n",
      "[{'domain': {'id': '30', 'name': 'Entities [Entity Service]', 'description': 'Entity Service top level domain, every item that is in Entity Service should be in this domain'}, 'entity': {'id': '781974596752842752', 'name': 'Services'}}, {'domain': {'id': '47', 'name': 'Brand', 'description': 'Brands and Companies'}, 'entity': {'id': '10045225402', 'name': 'Twitter'}}]\n",
      "Experimenting with Twitter Notes from @TwitterWrite to share content about the #TwitterAPI v2. LMK how y'all like it and I can share more technical content with Notes in the future✍️https://t.co/v08E6AHQOt\n",
      "[{'domain': {'id': '30', 'name': 'Entities [Entity Service]', 'description': 'Entity Service top level domain, every item that is in Entity Service should be in this domain'}, 'entity': {'id': '781974596752842752', 'name': 'Services'}}, {'domain': {'id': '47', 'name': 'Brand', 'description': 'Brands and Companies'}, 'entity': {'id': '10045225402', 'name': 'Twitter'}}]\n",
      "@ayyDhar @KolinaKoltai Yes, open to all students! Bring your friends too 😄\n",
      "Folks in the Seattle area 📢 Join us for our first in-person meetup at our Twitter Seattle office on Thursday, August 25th at 6pm. Come and learn about the #TwitterAPI v2 and see how students, researchers &amp; developers can use it for a variety of use-cases https://t.co/S1F7MlKJ67\n",
      "[{'domain': {'id': '30', 'name': 'Entities [Entity Service]', 'description': 'Entity Service top level domain, every item that is in Entity Service should be in this domain'}, 'entity': {'id': '781974596752842752', 'name': 'Services'}}, {'domain': {'id': '47', 'name': 'Brand', 'description': 'Brands and Companies'}, 'entity': {'id': '10045225402', 'name': 'Twitter'}}, {'domain': {'id': '156', 'name': 'Cities', 'description': 'Cities around the world'}, 'entity': {'id': '908359182864203777', 'name': 'Seattle', 'description': 'Seattle'}}]\n",
      "@_AdityaKadam_ @TwitterDev If you have a developer account and are currently a student, you are eligible.\n",
      "[{'domain': {'id': '30', 'name': 'Entities [Entity Service]', 'description': 'Entity Service top level domain, every item that is in Entity Service should be in this domain'}, 'entity': {'id': '781974596752842752', 'name': 'Services'}}, {'domain': {'id': '47', 'name': 'Brand', 'description': 'Brands and Companies'}, 'entity': {'id': '10045225402', 'name': 'Twitter'}}]\n"
     ]
    }
   ],
   "source": [
    "query = 'from:suhemparack -is:retweet'\n",
    "\n",
    "tweets = client.search_recent_tweets(query=query, tweet_fields=['context_annotations', 'created_at'], max_results=100)\n",
    "\n",
    "for tweet in tweets.data:\n",
    "    print(tweet.text)\n",
    "    if len(tweet.context_annotations) > 0:\n",
    "        print(tweet.context_annotations)"
   ]
  },
  {
   "cell_type": "code",
   "execution_count": 17,
   "id": "7dc53fad",
   "metadata": {},
   "outputs": [],
   "source": [
    "#5.Writing Tweets to a text file\n",
    "\n",
    "# Replace with your own search query\n",
    "query = 'Google assistant -is:retweet'\n",
    "\n",
    "# Name and path of the file where you want the Tweets written to\n",
    "file_name = '/Users/libra/Desktop/tweets.txt'\n",
    "\n",
    "with open(file_name, 'a+') as filehandle:\n",
    "    for tweet in tweepy.Paginator(client.search_recent_tweets, query=query,\n",
    "                                  tweet_fields=['context_annotations', 'created_at'], max_results=100).flatten(\n",
    "            limit=1000):\n",
    "        filehandle.write('%s\\n' % tweet.id)"
   ]
  },
  {
   "cell_type": "code",
   "execution_count": 18,
   "id": "00db4917",
   "metadata": {},
   "outputs": [
    {
     "name": "stdout",
     "output_type": "stream",
     "text": [
      "https://pbs.twimg.com/profile_images/443829228229107712/5HSv_a2e_normal.jpeg\n",
      "https://pbs.twimg.com/profile_images/1240409321596497923/s9wlUVIp_normal.jpg\n",
      "https://pbs.twimg.com/profile_images/378800000335712603/2f4d1541dd247c49d966dd213c8c41b0_normal.jpeg\n",
      "https://pbs.twimg.com/profile_images/1118192810270842880/codrNKr7_normal.jpg\n",
      "https://pbs.twimg.com/profile_images/1488182997308350476/sgngXwDg_normal.jpg\n",
      "https://pbs.twimg.com/profile_images/1382018993125474304/nRIAltbj_normal.jpg\n",
      "https://pbs.twimg.com/profile_images/1362268396230832128/rgrgGeCB_normal.jpg\n",
      "https://pbs.twimg.com/profile_images/1454463327007088649/mUdGLkRr_normal.jpg\n",
      "https://pbs.twimg.com/profile_images/1396980103238750209/uf-ayQj-_normal.jpg\n",
      "https://pbs.twimg.com/profile_images/1550232443856293888/2NFSSDB7_normal.jpg\n",
      "https://pbs.twimg.com/profile_images/1468139462496591876/gFsgbdui_normal.png\n",
      "https://pbs.twimg.com/profile_images/1559130785344634882/R3AO_DEf_normal.jpg\n",
      "https://pbs.twimg.com/profile_images/1549856055949131777/T003SiwF_normal.jpg\n",
      "https://pbs.twimg.com/profile_images/1519297224617959424/rtaLhNvB_normal.jpg\n",
      "https://pbs.twimg.com/profile_images/1496989279997685771/k6-ddglL_normal.jpg\n",
      "https://pbs.twimg.com/profile_images/1225069952559874048/gOF87-ap_normal.jpg\n",
      "https://pbs.twimg.com/profile_images/1542188910977204226/7z_ULNmV_normal.jpg\n",
      "https://pbs.twimg.com/profile_images/1166018009678385154/iJZ6w9qg_normal.png\n",
      "https://pbs.twimg.com/profile_images/1540434801613750274/pKJSm_ls_normal.jpg\n",
      "https://pbs.twimg.com/profile_images/1316155542235209729/ZNSgvU9u_normal.jpg\n",
      "https://pbs.twimg.com/profile_images/1559709585769869313/IwmM1OMH_normal.jpg\n",
      "https://pbs.twimg.com/profile_images/1560020909855064065/34SjO8wt_normal.jpg\n",
      "https://pbs.twimg.com/profile_images/976492245649108993/BW8ZT7Jo_normal.jpg\n",
      "https://pbs.twimg.com/profile_images/1559185901670088706/KAsjGGrz_normal.jpg\n",
      "https://pbs.twimg.com/profile_images/2749916619/4f6d4b6d2b6e0923822a49fe1e92c57c_normal.jpeg\n",
      "https://pbs.twimg.com/profile_images/1544515740795027456/GHk9Xeul_normal.jpg\n",
      "https://pbs.twimg.com/profile_images/1991002692/logo_normal.png\n",
      "https://pbs.twimg.com/profile_images/1559493339170320384/qZEfTCKD_normal.png\n",
      "https://pbs.twimg.com/profile_images/1284304928845058048/Cu3tGykS_normal.jpg\n",
      "https://pbs.twimg.com/profile_images/1558476207322185728/yXkWPs0a_normal.jpg\n",
      "https://pbs.twimg.com/profile_images/1532132478135283713/9kRnpRAC_normal.jpg\n",
      "https://pbs.twimg.com/profile_images/1366900778519134209/S4gWK9PF_normal.jpg\n",
      "https://abs.twimg.com/sticky/default_profile_images/default_profile_normal.png\n",
      "https://pbs.twimg.com/profile_images/761482250/hugo_crop_normal.jpg\n",
      "https://pbs.twimg.com/profile_images/2523789973/4ft1t2iwazfpar949uuk_normal.jpeg\n",
      "https://pbs.twimg.com/profile_images/1536428447467175936/nndnA4Bc_normal.jpg\n",
      "https://pbs.twimg.com/profile_images/1474321807964471297/6zQ1Vx7U_normal.jpg\n",
      "https://pbs.twimg.com/profile_images/1516399774014050307/7rKMSZVp_normal.jpg\n",
      "https://pbs.twimg.com/profile_images/1549620604114010112/Nyt005JV_normal.jpg\n",
      "https://pbs.twimg.com/profile_images/1369816751266029574/nILtcAF8_normal.jpg\n",
      "https://pbs.twimg.com/profile_images/1528643206509826054/Gk6DTBGt_normal.jpg\n",
      "https://pbs.twimg.com/profile_images/1559910968016207873/vpWHJW_C_normal.jpg\n",
      "https://pbs.twimg.com/profile_images/1559541103103160321/B95-FHkq_normal.png\n",
      "https://pbs.twimg.com/profile_images/1520058273910689798/HXwSThGn_normal.jpg\n",
      "https://pbs.twimg.com/profile_images/1307496273403150339/dLgt5kry_normal.jpg\n",
      "https://pbs.twimg.com/profile_images/1288581575253405696/1ph4rcdD_normal.jpg\n",
      "https://pbs.twimg.com/profile_images/1537299142954737664/Qy1WfiY1_normal.png\n",
      "https://pbs.twimg.com/profile_images/1228778152773636096/rJQU39be_normal.jpg\n",
      "https://pbs.twimg.com/profile_images/814653843044782080/Bcwx8xrF_normal.jpg\n",
      "https://abs.twimg.com/sticky/default_profile_images/default_profile_normal.png\n",
      "https://pbs.twimg.com/profile_images/2660144304/0fe2bacb3c71a37ed596d33fd3617126_normal.png\n",
      "https://pbs.twimg.com/profile_images/1511407181035356170/5DjfP9mS_normal.jpg\n",
      "https://pbs.twimg.com/profile_images/1552925835123838977/frhqC46b_normal.jpg\n",
      "https://pbs.twimg.com/profile_images/1237421377503793152/jEqC6x9c_normal.jpg\n",
      "https://pbs.twimg.com/profile_images/676135917392932864/mrnbgKfj_normal.jpg\n",
      "https://pbs.twimg.com/profile_images/1268512335410286594/d_83wXc__normal.jpg\n",
      "https://pbs.twimg.com/profile_images/1527620580748496896/rgl8-ALg_normal.jpg\n",
      "https://pbs.twimg.com/profile_images/1545032450388201476/JOxdaZIO_normal.jpg\n",
      "https://pbs.twimg.com/profile_images/1445818105796734985/n5V4p2ud_normal.jpg\n",
      "https://pbs.twimg.com/profile_images/989401086955057152/H_uHJ1JY_normal.jpg\n",
      "https://pbs.twimg.com/profile_images/1557584325683585024/8wjfpZe-_normal.jpg\n",
      "https://pbs.twimg.com/profile_images/1506682285147447302/ZY2d8D-B_normal.jpg\n",
      "https://pbs.twimg.com/profile_images/1546894604934553602/1eq7henC_normal.jpg\n",
      "https://pbs.twimg.com/profile_images/1477302017685180417/gKJQ7Xvs_normal.jpg\n",
      "https://pbs.twimg.com/profile_images/1559734498039930885/BJA8xFGd_normal.jpg\n",
      "https://pbs.twimg.com/profile_images/1105194782362607616/af7iGajh_normal.jpg\n",
      "https://pbs.twimg.com/profile_images/1559967938601521153/fV2Oi3H-_normal.jpg\n",
      "https://pbs.twimg.com/profile_images/1541206862842007555/AkCuBKqI_normal.jpg\n",
      "https://pbs.twimg.com/profile_images/1533514023026688005/LUbIGHgS_normal.jpg\n",
      "https://pbs.twimg.com/profile_images/1561356338155880448/6Q-jn4dw_normal.jpg\n",
      "https://pbs.twimg.com/profile_images/1561356338155880448/6Q-jn4dw_normal.jpg\n",
      "https://pbs.twimg.com/profile_images/2170212106/Sm_normal.jpg\n",
      "https://pbs.twimg.com/profile_images/1445085498821677057/U6HoU2Iw_normal.jpg\n",
      "https://pbs.twimg.com/profile_images/1479884900258000896/35tEW-qW_normal.jpg\n",
      "https://pbs.twimg.com/profile_images/1560237517785497608/omHE5y1M_normal.jpg\n",
      "https://pbs.twimg.com/profile_images/1547667618022039552/z6HzQ0Y5_normal.jpg\n",
      "https://abs.twimg.com/sticky/default_profile_images/default_profile_normal.png\n",
      "https://pbs.twimg.com/profile_images/1560675224328105984/KEklkqXo_normal.jpg\n",
      "https://pbs.twimg.com/profile_images/1346958197475590148/zo6Ic54g_normal.jpg\n",
      "https://pbs.twimg.com/profile_images/1560435774952116224/5TClzDF-_normal.png\n",
      "https://pbs.twimg.com/profile_images/1511361978798903301/_0SeZQxj_normal.jpg\n",
      "https://pbs.twimg.com/profile_images/1559782653292855298/P0gnoQIg_normal.jpg\n",
      "https://pbs.twimg.com/profile_images/1327320221359620096/8b8fNusW_normal.jpg\n",
      "https://pbs.twimg.com/profile_images/1558917903663173633/_V2im8g1_normal.jpg\n",
      "https://pbs.twimg.com/profile_images/1561447159463137284/ad5LssLU_normal.jpg\n",
      "https://pbs.twimg.com/profile_images/1505644128440397833/4xMJlZH4_normal.jpg\n",
      "https://pbs.twimg.com/profile_images/1496054833580761089/cEz5il-z_normal.png\n",
      "https://abs.twimg.com/sticky/default_profile_images/default_profile_normal.png\n",
      "https://pbs.twimg.com/profile_images/1501953541086187528/oBx_kvVf_normal.jpg\n",
      "https://pbs.twimg.com/profile_images/1396129905310580740/-8OP9PQJ_normal.jpg\n",
      "https://pbs.twimg.com/profile_images/1481422619597582336/P63wOZY6_normal.jpg\n",
      "https://abs.twimg.com/sticky/default_profile_images/default_profile_normal.png\n",
      "https://pbs.twimg.com/profile_images/897903665385803776/WtSAmE0F_normal.jpg\n",
      "https://pbs.twimg.com/profile_images/1511114089392660492/GflqFkW0_normal.jpg\n",
      "https://pbs.twimg.com/profile_images/1528461204007665666/spFD8_bJ_normal.jpg\n",
      "https://pbs.twimg.com/profile_images/1547366862639489028/u6Tz9NZ2_normal.jpg\n",
      "https://pbs.twimg.com/profile_images/1534881806515847174/AU9WcbST_normal.jpg\n",
      "https://pbs.twimg.com/profile_images/1561408889417080833/T89Gv-f1_normal.jpg\n",
      "https://pbs.twimg.com/profile_images/1533799637991272450/_4AsQskg_normal.jpg\n",
      "https://pbs.twimg.com/profile_images/1457081757422047237/3pVKe-cR_normal.jpg\n"
     ]
    }
   ],
   "source": [
    "#6.Getting Tweets with user information, for each Tweet\n",
    "\n",
    "# Replace with your own search query\n",
    "query = 'covid -is:retweet'\n",
    "\n",
    "\n",
    "tweets = client.search_recent_tweets(query=query, tweet_fields=['context_annotations', 'created_at'],\n",
    "                                     user_fields=['profile_image_url'], expansions='author_id', max_results=100)\n",
    "\n",
    "# Get users list from the includes object\n",
    "users = {u[\"id\"]: u for u in tweets.includes['users']}\n",
    "\n",
    "for tweet in tweets.data:\n",
    "    if users[tweet.author_id]:\n",
    "        user = users[tweet.author_id]\n",
    "        print(user.profile_image_url)"
   ]
  },
  {
   "cell_type": "code",
   "execution_count": 19,
   "id": "36722180",
   "metadata": {},
   "outputs": [
    {
     "name": "stdout",
     "output_type": "stream",
     "text": [
      "@laurenboebert Fauci worked under 7 presidents. The only president that's had a problem w/him is the president that said on National TV that we should try injecting disinfectants in order to clean out our lungs &amp; to shove lights up our backsides to fight Covid. Imagine that 🙄 #FauciRocks https://t.co/fSXYG5BgGl\n",
      "Secondo quel gran genio di Pregliasco il covid va in vacanza come gli italiani e per questo diminuiscono i contagi 😂😂😂 https://t.co/7oJeETLcbt\n",
      "I shouldn't have looked this up, but I did. \n",
      "The total, combined population of Hiroshima &amp; Nagasaki in June of 1945 was ~450,000 people. \n",
      "\n",
      "We've lost over a million lives to COVID in the US. More than TWICE the amt killed by the atomic bomb. https://t.co/eqqwoNLbHS\n",
      "The New York State Department of Health and the Education Department have just released guidance for schools regarding COVID protocols for the upcoming school year.\n",
      "\n",
      "The changes align with the most recent guidance from the CDC:\n",
      "https://t.co/IyLxFOKm1o https://t.co/DcqOualtI4\n",
      "@picturelady1959 @glennbeck the CDC was in charge of COVID this was the man in charge https://t.co/gzZWuDfZjD\n",
      "Hallo Kawan JM\n",
      "\n",
      "Patuhi protokol kesehatan untuk memutus penyebaran Covid-19, buat Kawan JM yang beraktivitas dimanapun dan kapanpun jangan lupa untuk 6M ya!\n",
      "\n",
      "Yuk bersama-sama kita cegah penyebaran Covid-19! https://t.co/LqHtBOGBFd\n",
      "⭕ La película \"Sword Art Online the Movie -Progressive- Scherzo of Deep Night\" ha sido pospuesta por varios casos de COVID en su producción.\n",
      "\n",
      "Estaba planeado su estreno para el próximo 10 de septiembre en Japón. No fue aclarado en que fecha se estrenaría finalmente. https://t.co/BoDQ3d148F\n",
      "POR DEUDA DE 75 MDD EN VACUNAS CONTRA COVID-19, AMLO DENUNCIARÁ AL MECANISMO COVAX DE LA ONU\n",
      "\n",
      "El presidente @lopezobrador_ anunció que demandará al mecanismo COVAX por la falta de entrega de vacunas contra #COVID19, luego de pagar por adelantado 75 mdd; dijo ¡Ya es el colmo! https://t.co/eH9YOwdqhk\n",
      "@kimpaim Quero ver a Renta perguntar sobre a covid … https://t.co/a3YdO8osHx\n",
      "#EclipseNoticias\n",
      "#Covid| El empleo juvenil es el más afectado por los efectos del #COVID-19, asi lo menciona la @OITnoticias   😷👇 | https://t.co/mH3n3OBj6B\n",
      "https://pbs.twimg.com/ext_tw_video_thumb/1561796638582120449/pu/img/MCMFWukFe0XIU8TM.jpg\n",
      "Dr. Anthony Fauci, the top U.S. infectious disease official who became the face of America's COVID-19 pandemic response under Presidents Donald Trump and Joe Biden, announced on Monday he is stepping down in December after 54 years of public service. https://t.co/V6237g6AwH\n",
      "There are some really malevolent people around..and Twitter can encourage the most reactionary\n",
      "\n",
      "For the few who don't know, Michael Rosen spent a chunk of lockdown in an induced coma due to COVID https://t.co/Zsj7T0RV6G\n",
      "Fauci, face of U.S. COVID response, to step down from government posts https://t.co/9nRtDJVV7V https://t.co/aOu6z1I779\n",
      "@Heathen57 @James34duh If it was truly a vaccine you wouldn't have gotten covid. Since you did, it was just a shot, not a vaccine. https://t.co/1kwEad5TDX\n",
      "@glennbeck CDC was in charge of COVID this is who they need to question https://t.co/qVuRCAJSj1\n",
      "@Mippcivzla #22Ago| 🇻🇪 📢 ¡ETIQUETA DEL DÍA! ▶️ \n",
      "\n",
      "#RefuerzaTuVacuna\n",
      "\n",
      "¡La Covid no es juego! https://t.co/xAI5edXcUR\n",
      "#22Ago | El @Ven911Monagas continua llevando el mensaje preventivo contra el Covid-19, en esta oportunidad desde el Comercial \"Vida y Esperanza\" C.A ubicado en la Avenida “Bolívar” de Maturín, exhortando a la población a cumplir las medidas de bioseguridad. #RefuerzaTuVacuna https://t.co/fzwdEmjQnb\n",
      "Looking for an OTC COVID Test kit? \n",
      "Our Jurupa Valley office will be a pickup site for these Test kits for our community members in need! 🎉 \n",
      "\n",
      "¿Está buscando un kit de prueba COVID de venta libre?¡Nuestra oficina de Jurupa Valley tendra estos kits de prueba disponibles! https://t.co/tequE6bycc\n",
      "Americans are split on the Biden administration's response to monkeypox; 34% say they approve, while 36% disapprove.\n",
      "\n",
      "https://t.co/odbDpdOtSb https://t.co/zsPPp22OqZ\n",
      "@whatgives1313 Covid is the runner up🤣 But climate holds #1.  Five decades and counting in my lifetime https://t.co/cJIzkiH5NU\n",
      "I keep passing this and thinking 'is this a covid conspiracy in Central Cambridge?' 🤭\n",
      "\n",
      "Turns out, part of a scale model of the solar system and fairly cool.\n",
      "\n",
      "Still looks like a virus in the dark tho 😆 https://t.co/qTmL13U7Z6\n",
      "@covid_parent At least now he’ll be able to focus on more important science! https://t.co/ncukWzUtPW\n",
      "He dado negativo en covid, pero positivo en estar solisimo https://t.co/US2METCSQT\n",
      "As everyone lauds Fauci, remember he twice acted on the “noble lie” theory, giving out false/misleading info because he thought it would push the public in the right direction. It was a messaging disaster that cost lives, and the theory NEVER WORKS. /1\n",
      "\n",
      "https://t.co/Pv6ZITjkSy https://t.co/09tOJ5ZFEn\n",
      "En el estado Monagas la Sunad aplicó pruebas toxicológicas a 30 conductores del terminal interurbano de Maturín, cumpliendo con las medidas de bioseguridad contra el Covid-19. https://t.co/Q6NJSMZkqD\n",
      "The media attacks, the impeachments, investigations, spying, Covid, raids, entrapments, character assassination is all because she knows what’s coming…. \n",
      "\n",
      "Nothing can stop it. https://t.co/Z07qpf9zNc\n",
      "Former President Donald #Trump is suggesting he may be preparing a lawsuit following the raid on his #MarALago residence, alleging the raid was a violation of his #FourthAmendment rights.\n",
      "\n",
      "🔵 Watch NOW 👉  https://t.co/PWBljIdcz8\n",
      "\n",
      "🔵 Save up to 50% 👉 https://t.co/xhlsQBxNpc https://t.co/lLtkRBgn8R\n",
      "https://pbs.twimg.com/amplify_video_thumb/1561796194954874882/img/GTbcVG8q7KyHbpJz.jpg\n",
      "https://t.co/DEYQg7qD67 https://t.co/5jFJxD41Dh\n",
      "@JustinTrudeau @Bundeskanzler No masks? So dangerous - you know it yourself: if you are vaccinated &amp; wear a mask, you're safe from Covid-19.\n",
      "#SayNo2Facism https://t.co/jDBUSJpCwr\n",
      "https://pbs.twimg.com/ext_tw_video_thumb/1561796378606673920/pu/img/lcsqVrIhaCbHgziL.jpg\n",
      "The CDC recommends masking indoors if you've been exposed to COVID-19 or live in an area with high community transmission. Some masks &amp; respirators provide more protection than others, but any mask is better than no mask! Wear the best mask you can access. https://t.co/3vYyKN2y8d https://t.co/0aiDxVsm39\n",
      "US COVID-19 Advisor Anthony Fauci To Step Down December \n",
      "\n",
      "Fauci said he would be leaving his position as director of the National Institute of Allergy and Infectious Diseases (NIAID), and that of chief medical advisor to Biden, saying: “I am not retiring\n",
      "https://t.co/kL3HLZhtPQ https://t.co/b6L6yzKLG6\n",
      "I’m doing my part to help track flu-like illness, like COVID-19. You can, too! Become a FluWatcher today. https://t.co/QgEVCVJkUz #FluWatchers https://t.co/PyeacGe0xZ\n",
      "Parte #3\n",
      "Soy una mujer honesta. Mucha alergia y 0 COVID. \n",
      "Como  dice la inmortalmente cursi  LEYENDA DEL HORCON:\n",
      "\"Las pruebas de la infamia las cargo en la maleta, las trenzas de mi china y el corazón de él \" https://t.co/q4IjqUXfkQ\n",
      "I’ve just published a post on the BBC License Fee is a Stain on our Nation. It’s with video link and on my site. You’ll find it in the Society and Culture Category. #FreeSpeech, #TransIssues, #CancelCulture, #Woke, #BBC, #DefundtheBBC, #MediaBias, #Covid https://t.co/tnN0OZYhJQ\n",
      "Fauci, face of U.S. COVID response, to step down from government posts https://t.co/cTzaQJNLPd via @tlrd https://t.co/SMlTJebD4r\n",
      "@MarshaBlackburn Dr. Fauci works for NHS not THE CDC THEY were the ones on charge of Covid response it's this man you need to question https://t.co/W4zN2Ggfuz\n",
      "@Mippcivzla #22Ago| 🇻🇪 📢 ¡ETIQUETA DEL DÍA! ▶️ \n",
      "\n",
      "#RefuerzaTuVacuna\n",
      "\n",
      "¡La Covid no es juego! https://t.co/04cMnHX07X\n",
      "This guy told people to use t-shirt masks.\n",
      "Now, defending Fauci that knowingly lied for 40 years from the AIDS/HIV epidemic to the COVID-19 Pandemic. Funding questionable research home &amp; abroad to funding weaponization research at home &amp; abroad then, lying some more. https://t.co/scZuDCAxok https://t.co/jraDORbRjj\n",
      "USA 🇺🇸\n",
      "\n",
      "Alex Jones demande à Trump de cesser son soutien aux injections Covid\n",
      "\n",
      "https://t.co/WMjz0xu1BR https://t.co/JGgaVBmgaB\n",
      "https://pbs.twimg.com/ext_tw_video_thumb/1561795766968008706/pu/img/haA3nMBLpWcALf0V.jpg\n",
      "@TodayTix I just tested positive for COVID and can’t go to @DearEvanHansen on Wednesday night. I don’t think there was an option to buy purchase protection. Can I do anything at all to move the ticket to another day? I’ve waited years to see it and it ends 9/18 😭 https://t.co/oueSyBA8YO\n",
      "#22Ago| 🇻🇪 📢 ¡ETIQUETA DEL DÍA! ▶️ \n",
      "\n",
      "#RefuerzaTuVacuna\n",
      "\n",
      "¡La Covid no es juego! https://t.co/UcwK9bWdH6\n",
      "https://pbs.twimg.com/ext_tw_video_thumb/1561645540894457856/pu/img/MH2foGIeOmoUxbwK.jpg\n",
      "The German govt has now authorised #Evusheld for #uumoncompromised people as part of its #Covid #winter preparedness plan, alongside a vaccine booster. Isn't this what we need here too?  https://t.co/r2riFvxyNL https://t.co/ZStQEz1N3I\n",
      "Presidente Maduro llama a mantener las medidas de bioseguridad contra la COVID-19\n",
      "#RefuerzaTuVacuna\n",
      "\n",
      " https://t.co/82vgqGHsVn\n",
      "@robertcaruso Not like vaccines have worked or anything.\n",
      "This graph is from 2017; I wonder what child mortality looks like now after 2.5 years with COVID and inadequate uptake of available vaccines across adult and now child populations. https://t.co/N8073LtRkC https://t.co/Y8j9Zb55kM\n",
      "#coronavirus #IndoreUpdate #Indore #COVID__19 Aug 22\n",
      "33 positive cases on Monday (8.43%), 0 death\n",
      "Total +ive 212080, deaths: 1468\n",
      "Discharge:- 11, active cases: 172\n",
      "#coronaupdatesindia @fpjindia https://t.co/e2SLLKe96w\n",
      "Join us on Wed, September 7, 2022, at 11 am for a #FreeThemNowCT Protest at the DOC Headquarters (24 Wolcott Hill Rd, Wethersfield, CT). We are demanding Governor Lamont and the DOC take action to protect incarcerated people from COVID-19.\n",
      "Register here: https://t.co/2vDKyI7WZa https://t.co/2hismFoZFb\n",
      "Tonight, we will be live on our FB, IG, and YouTube channels @NC100BWINC!\n",
      "\n",
      "NCBW proudly presents “Mental Health Concerns Due to COVID-19” on Monday, August 22, 2022, at 9pm EST.  \n",
      "\n",
      "Register today at https://t.co/aGfm7wztJm.\n",
      "#NC100BWINC #NCBWHealth https://t.co/WH37HWCA4e\n",
      "As many of you guys know, I am a huge fan of chrono trigger because this game is my favourite game of all time, this game came to me at a time where covid came to one of my parents doorstep as unfortunately I couldn’t go out especially to work or college but atleast I had this. https://t.co/8AzqqmvOSh\n",
      "Vemos lo mismo que paso con el CASO ALBERGUES? Se atrapan a las cucarachas @PRDesPanama y los CARGOS GRANDES POLÍTICOS no se habla...miren como DOSIS VACUNAS COVID-19 se vendían $200.00 y el único lugar de donde pudieron salir de DEPÓSITO PANAVAC y nada se hizo. https://t.co/sIUwAvrcnC\n",
      "@senadorhumberto Voce era ministro deste ai Dracula?Alem do porto em cuba metrô venezuela e  estes outros vc ja concluiu o muro separando mexico do Brasil?\n",
      "Dr Humberto continuo tomando aquele remedio de verme,nao serve p/ covid mas os petistas tem horror a ele. Sabe o nome. TOMO DE 15 em 15 dias https://t.co/pz8y4c4VqB\n",
      "https://pbs.twimg.com/ext_tw_video_thumb/1561796004856401921/pu/img/UO8DN7vaW6FmkOrM.jpg\n",
      "| ÚLTIMA HORA | ONU \n",
      "\n",
      "☝️La ONU Reclutó A Más De 100 000 \"primeros Respondedores Digitales\" Para Impulsar La Narrativa Del Establecimiento COVID. 🤮 https://t.co/rdzIuXrJ9v\n",
      "| ÚLTIMA HORA | ONU \n",
      "\n",
      "☝️La ONU Reclutó A Más De 100 000 \"primeros Respondedores Digitales\" Para Impulsar La Narrativa Del Establecimiento COVID. 🤮 https://t.co/dDi6A3lvLZ\n",
      "@JudiciaryGOP Trump is an \"infectious cancer\" spreading throughout the republican party. Corrupt supporters are spreading propaganda about Pres. Biden, H. Biden, FBI, DOJ, M. Garland, IRS, CDC, FDA, Inflation, the Border, &amp; Covid. \n",
      "RESTORE THE REPUBLICAN PARTY TO DECENCY BEFORE IT'S TOO LATE! https://t.co/rhYnlq8t1v\n",
      "[Video] “Es el colmo”: AMLO denunciará a la ONU por adeudo de 75 mdd en vacunas contra COVID-19 (nota de SinEmbargo) https://t.co/MsYWJbZHaS via @julioastillero https://t.co/zB3jou1ddM\n",
      "AMLO denunciará a Covax por no entregar 75 mdd en vacunas contra Covid-19 - https://t.co/dtNPsAfYTC https://t.co/4PfWC7rhto\n",
      "Omicron-specific Covid booster shots are just weeks away. Here's who will—and won't—be eligible - Newsworldpress @ https://t.co/QqtWZclulG https://t.co/7sYMuPPF8U\n",
      "@thehill me dropping my third covid stimmy on Marijuana and hallucinogenics https://t.co/ExJyYA4wNY\n",
      "https://pbs.twimg.com/ext_tw_video_thumb/1561795836878753793/pu/img/tu3Awb8SEd7_0HFm.jpg\n",
      "@MarshaBlackburn Trump is an \"infectious cancer\" spreading throughout the republican party. Corrupt supporters are spreading propaganda about Pres. Biden, H. Biden, FBI, DOJ, M. Garland, IRS, CDC, FDA, Inflation, the Border, &amp; Covid. \n",
      "RESTORE THE REPUBLICAN PARTY TO DECENCY BEFORE IT'S TOO LATE! https://t.co/nxD1pI8hzC\n",
      "https://pbs.twimg.com/ext_tw_video_thumb/1561795794235056128/pu/img/lMVqNRCKZuUBU47P.jpg\n",
      "Innocent Babies Are Dying LOOK! Lack of research on parents behalf - Right now in front of the Lyon Part Dieu shopping center. \n",
      "\n",
      "Coffins of children who died after Covid vaccination, side effects and statements from censored doctors. https://t.co/S7Wvdu1xxA\n",
      "https://pbs.twimg.com/ext_tw_video_thumb/1561793730729938945/pu/img/PHMH6cm8HIlTG86S.jpg\n",
      "Panneaux antivaccins Covid-19 à Toulouse. \n",
      "\n",
      "Comment la préfecture pourrait-t-elle interdire l'affichage basé sur les chiffres de l'EMA ?\n",
      "\n",
      "V. Pavan de Réinfo Liberté : \"pour l'instant la menace d'un Arrêté préfectoral est  juste un effet d'annonce de la presse pour faire pression\" https://t.co/oWRwcM6Zo3\n",
      "https://pbs.twimg.com/ext_tw_video_thumb/1561795691378270208/pu/img/gCjD8bqBgehiAyZ4.jpg\n",
      "@MarshaBlackburn Trump is an \"infectious cancer\" spreading throughout the republican party. Corrupt supporters are spreading propaganda about Pres. Biden, H. Biden, FBI, DOJ, M. Garland, IRS, CDC, FDA, Inflation, the Border, &amp; Covid. \n",
      "RESTORE THE REPUBLICAN PARTY TO DECENCY BEFORE IT'S TOO LATE! https://t.co/ydgFBEFn48\n",
      "Absolutely delighted to meet with our first community group since Covid restrictions in 2020. It’s been a pleasure helping North Berwick cubs earn their fire safety badge tonight. #nbfire68 https://t.co/vbpkgT8zF3\n",
      "País tiene 1,044 casos activos de COVID-19; 165 nuevos https://t.co/8NrAnO1879 https://t.co/Wusl513kh0\n",
      "@Kramerica316 @CBCNews Fine at not preventing covid, transmitting covid or dying from covid...100% effective at being ineffective. https://t.co/41L13JU1An\n",
      "Check out my interview w/ @Probellum's @oj_bam as we talk\n",
      "-Curtis Harper win\n",
      "-Dealing with COVID delays and other non boxing delays\n",
      "-Why loyalty is big with him\n",
      "-How he got into boxing in the first place\n",
      "Check out the interview on the LAST CALL PODCAST \n",
      "https://t.co/7HCUYPSyap https://t.co/ew8gDb5F9p\n",
      "Tax2efile offers professional guidance throughout the process of filing your Form 8849 online. Tax2efile specializes in handling your return quickly and securely, with flexible pricing options that best fit your business.\n",
      "#usa #covid #Marketing #Trending #taxes #8849 #tax https://t.co/AlFLnKwCfp\n",
      "Il procuratore capo di Durham si ritira dal caso Danchenko - https://t.co/gtF3YbDCWn procuratore capo di Durham si ritira dal caso Danchenko https://t.co/zTuJa8JQwl\n",
      "These are the movies I have seen IN THE THEATER since the reopening after COVID started\n",
      "\n",
      "I have seen a lot more movies at home\n",
      "\n",
      "How many movies have you seen in the theater? https://t.co/S2nmpMiIxi\n",
      "@MayraFlores2022 Trump is an \"infectious cancer\" spreading throughout the republican party. Corrupt supporters are spreading propaganda about Pres. Biden, H. Biden, FBI, DOJ, M. Garland, IRS, CDC, FDA, Inflation, the Border, &amp; Covid. \n",
      "RESTORE THE REPUBLICAN PARTY TO DECENCY BEFORE IT'S TOO LATE! https://t.co/NgCzkhaige\n",
      "El país suma 165 nuevos contagios de covid y acumula 1,044 casos activos - https://t.co/FrDNbubcNq https://t.co/1hc0j5gBrU\n",
      "Fitbit Pay’s days might be numbered https://t.co/BTSrDZRH4D https://t.co/MDRjxf3EHt #like #comment #ff #followday #followback #influencer #vibes #covid #savelife #tech #news\n",
      "Pfizer asks FDA to authorize Covid booster shots that target omicron BA.5 for people ages 12 and older - Newsworldpress @ https://t.co/CdC5Naplg9 https://t.co/VAL5zVw5jM\n",
      "The CDC has updated its COVID-19 safety guidelines, including wearing mask wearing, testing, and ventilation, and what actions to take if you are exposed to COVID-19, or test positive for the virus. For more information, read more at https://t.co/erqrv27aGz https://t.co/Z1b76IgkTl\n",
      "I’m still wearing my N 95 every time I go out. Even if it’s only to walk the dog, there are a lot of people on the sidewalks. I really don’t want to get Covid again. Please wear your masks, this isn’t going to go away until we treat it properly. #COVIDisAirborne #CovidIsNotOver https://t.co/mLCukf76YE\n",
      "So the Covid Pocket Prick is retiring in December.  Why not today?  And could the next chapter in his life..... Perhaps going back to killing dogs? https://t.co/MGFadi7KOM\n",
      "mon voisin vaccines deux doses pour aller voir sa blonde a CUBA. A attrape la covid il ma demande a quoi serre de ce faire vaccines si ont tomber malade??? je lui et répondu remplir les poches de big pharma. https://t.co/BGxPOglqIM\n",
      "Mandatory covid jabs for anyone is a violation of bodily autonomy. Young healthy students should not be forced to choose between the covid jab and an education! Terrible policy. \n",
      "#StoptheShots \n",
      "#MyBodyMyChoice https://t.co/Y1NpWwYw4n https://t.co/KH7r8KCdld\n",
      "@bennyjohnson Trump is an \"infectious cancer\" spreading throughout the republican party. Corrupt supporters are spreading propaganda about Pres. Biden, H. Biden, FBI, DOJ, M. Garland, IRS, CDC, FDA, Inflation, the Border, &amp; Covid. \n",
      "RESTORE THE REPUBLICAN PARTY TO DECENCY BEFORE IT'S TOO LATE! https://t.co/lnsEQoepLW\n",
      "#specialisti e #volontari #attivi contro il #Covid https://t.co/gcsWHgTnoO\n",
      "@Mauricejinxs The Flying Moron that posted the CDC reported, \"virtually everyone\", has already been infected with COVID, posted an article in defense, that actually outted him for passing false info.  He blocked me, upon my pointing out he just contradicted himself.\n",
      "What is wrong with people? https://t.co/4Pt0TXgxwo\n",
      "@AbrahamHamadeh You consider playing with assault rifles,  lying &amp; causing ppl to die from covid, loss of businesses &amp; homes due to lies, ppl going to prison bc of lies of a stolen election, arming their kids w/assault rifles, excusing mass murder, robbing tax payers whole funding the rich nice? https://t.co/xQuVpdnp1S\n",
      "@Johnemonroe @BypassMirkwood @RampantRed1 @sup3r1or @UncleTerryMac @CovidMarshall Took this pic 2/3s way down in the link you posted so you post things without reading them?17.5 % at the bottom of the pic are boosted so triple jabbed.But 82% of COVID deaths in May 2022  were triple vaccinated, so clearly the triple jabbed have a disproportionate # of deaths! https://t.co/IwB6d7yjRu\n",
      "Con la vacuna te proteges a ti mismo, a tu familia y a todas las personas que te rodean de enfermar gravemente o morir COVID. 🦠💉\n",
      "\n",
      "#cruzroja #dominicana #redcross #salud #volunteer #vᴀᴄᴜɴᴀcᴏᴠɪᴅ19 #covid #cruzrojaenacción https://t.co/muvUGdsooa\n",
      "Ciro Gomes é um triturador de liberaloides. \n",
      "O dono da Riachuelo achava que não tinha financiamento estatal nas pesquisas contra a Covid! Não são apenas mal-intencionados, são burros também. https://t.co/WMH0GyO7Rh\n",
      "https://pbs.twimg.com/ext_tw_video_thumb/1561795251815288832/pu/img/Nl0jrs2_C9JrybGm.jpg\n",
      "@TIME Remember when they said you wouldn't catch covid if you got the first vaccine? I bet the vaxxed feel like lab rats. https://t.co/4LK5iM76DB\n",
      "https://pbs.twimg.com/ext_tw_video_thumb/1561795389224673282/pu/img/ASuAfP2PnT7uD3I6.jpg\n",
      "@sophieroberts88 @scaryhowlsdad @covid_parent No virus. All lies. https://t.co/M778Xf1aJm\n",
      "#Covid-19 #Ómicron #Puebla /\n",
      "Se disparan casos activos de Covid-19 en 90 municipios de #Puebla\n",
      "▶️ @SaludGobPue @JAntonioMtzGa @SSalud_mx @HLGatell\n",
      "https://t.co/hCu6xt9weW https://t.co/z2UhOkfDYM\n",
      "https://pbs.twimg.com/ext_tw_video_thumb/1561795250615595008/pu/img/0yVZotglgBxEiD6Q.jpg\n",
      "Got my first covid test today, all i can say about it is https://t.co/uGhEqtZ8eb\n",
      "Websérie do Sesc aborda o Lazer a partir do impacto da pandemia de Covid-19, da  influência das Redes Sociais e da real efetivação do Lazer enquanto direito básico, garantido constitucionalmente.\n",
      "\n",
      "📺 Assista em https://t.co/IWz5hVdnqt https://t.co/i7PPCZabTg\n",
      "#Nacional| AMLO demandará a la ONU.\n",
      "\n",
      "El presidente de México, Andrés Manuel López Obrador informó que la Organización Mundial de la Salud le debe a México 75 millones de dólares en vacunas contra COVID-19, que no han sido entregadas, por lo que su gobierno presentará una demanda. https://t.co/dF38jdH1sS\n",
      "Le Patron de Pfizer a le covid Malgré 4 doses il nous explique qu'il va prendre le paxlovid pour éviter d'être hospitalisé voir de mourir !! Quel publicité pour le vaccin 🤣 https://t.co/f0eDfeKfNu\n",
      "@munipaillaco @begoyarza @ministeriosalud @mcarrascogarcia ¿Qué conveniente ha resultado ser el Covid, no? GENOCIDAS!! https://t.co/soshdF4Dzw\n",
      "Pfizer files application for booster against latest variants https://t.co/LedKcfLHnL https://t.co/PVuU2nhD85\n",
      "@Cambiacasacca Questi mi danno la certezza che siete dei buffoni. Comunque vi perdono, come tutte le stronzate sui dati Covid. Mi raccomando, leggete il grande reset 😂😂🤭 https://t.co/zjbwPByfxQ\n",
      "@yepsuzn @Section_230 @amadams121 @GreekFugie @allenerobs @tangoix21 @ljn636 @zaptiee Btw, courts continue to disagree with your statement. Example:\n",
      "\n",
      "https://t.co/49t3CZyPyd https://t.co/cWRm0DxS2b\n",
      "@TheTorontoSun Why? Is it to keep up the miraculous 500% revenue increase at the Trudeau foundation during Covid? No one is taking it. We have stockpiles going bad. How do they justify on their own damn numbers? https://t.co/tclXFkOjHk\n",
      "It’s back to school! Learn about CDC’s new operational guidance for K-12 schools and early care and education programs: https://t.co/iyyzw1TiMK &amp; visit NASW’s Connect to End COVID-19 initiative for ways to promote informed #COVID19 vaccine decision-making: https://t.co/bYRunTs7d3 https://t.co/RoUlZ7jOgO\n",
      "🇲🇽 AMLO DENUNCIARÁ A LA ONU POR FALTA DE ENTREGA DE VACUNAS CONTRA COVID-19\n",
      "\n",
      "El mandatario de México, #AMLO, informó que presentará una denuncia contra la #ONU por la falta de entrega de vacunas contra #COVID19 que se contrataron a través de #COVAX. https://t.co/oyazGHOSlw\n",
      "@HensonCreature So idk if I have ever said this (covid has left my brain swiss-cheesed sometimes) but IMO I think the author of One Piece was inspired by Labyrinth when he made this character, lol. https://t.co/MzxIjrqKL7\n",
      "@I_AM_REAL_PL @RoussyDidier &gt;\"créer la peur afin d’inciter les gens à se faire vacciner davantage\"\n",
      "\n",
      "C'est ce que fait l'influenceur Eric Topol dans le LA Times👇\n",
      "\n",
      "Le 1 sur 8 c'est n'importe quoi. Et sa prescription semble être d'instaurer le covidianisme et d'organiser la société en entier autour du Covid. https://t.co/oNmPbb8YEy\n"
     ]
    }
   ],
   "source": [
    "#7.Getting Tweets with media information, for each Tweet\n",
    "# Replace with your own search query\n",
    "query = 'covid -is:retweet has:media'\n",
    "\n",
    "tweets = client.search_recent_tweets(query=query, tweet_fields=['context_annotations', 'created_at'],\n",
    "                                     media_fields=['preview_image_url'], expansions='attachments.media_keys',\n",
    "                                     max_results=100)\n",
    "\n",
    "# Get list of media from the includes object\n",
    "media = {m[\"media_key\"]: m for m in tweets.includes['media']}\n",
    "\n",
    "for tweet in tweets.data:\n",
    "    attachments = tweet.data['attachments']\n",
    "    media_keys = attachments['media_keys']\n",
    "    print(tweet.text)\n",
    "    if media[media_keys[0]].preview_image_url:\n",
    "        print(media[media_keys[0]].preview_image_url)\n"
   ]
  },
  {
   "cell_type": "code",
   "execution_count": 20,
   "id": "ac376a59",
   "metadata": {},
   "outputs": [
    {
     "name": "stdout",
     "output_type": "stream",
     "text": [
      "{'end': '2022-08-16T00:00:00.000Z', 'start': '2022-08-15T19:26:38.000Z', 'tweet_count': 31646}\n",
      "{'end': '2022-08-17T00:00:00.000Z', 'start': '2022-08-16T00:00:00.000Z', 'tweet_count': 172504}\n",
      "{'end': '2022-08-18T00:00:00.000Z', 'start': '2022-08-17T00:00:00.000Z', 'tweet_count': 162450}\n",
      "{'end': '2022-08-19T00:00:00.000Z', 'start': '2022-08-18T00:00:00.000Z', 'tweet_count': 160844}\n",
      "{'end': '2022-08-20T00:00:00.000Z', 'start': '2022-08-19T00:00:00.000Z', 'tweet_count': 159378}\n",
      "{'end': '2022-08-21T00:00:00.000Z', 'start': '2022-08-20T00:00:00.000Z', 'tweet_count': 124075}\n",
      "{'end': '2022-08-22T00:00:00.000Z', 'start': '2022-08-21T00:00:00.000Z', 'tweet_count': 119950}\n",
      "{'end': '2022-08-22T19:26:38.000Z', 'start': '2022-08-22T00:00:00.000Z', 'tweet_count': 118165}\n"
     ]
    }
   ],
   "source": [
    "#9. Getting Tweet counts (volume) for a search query\n",
    "\n",
    "# Replace with your own search query\n",
    "query = 'covid -is:retweet'\n",
    "\n",
    "#counts = client.get_recent_tweets_count(query=query, granuarity='day')\n",
    "counts = client.get_recent_tweets_count(query=query, granularity='day')\n",
    "\n",
    "for count in counts.data:\n",
    "    print(count)"
   ]
  },
  {
   "cell_type": "code",
   "execution_count": 21,
   "id": "1a0a4fb2",
   "metadata": {},
   "outputs": [
    {
     "name": "stdout",
     "output_type": "stream",
     "text": [
      "RT @Raiya_Atelier: 🤍申鶴🤍 https://t.co/HAWwmw5o9m\n",
      "@AlanJiang6992 微博互关😅特地私信我嘲讽我\n",
      "⏩or⏪、わからない。\n",
      "@DDAsashio 哎😭\n",
      "Nothing matters.\n",
      "这种就有一点像一些排序算法，到底是which comes first，一旦拥有answer就会知道마지막으로。\n",
      "间歇性陷入虚无主义struggle\n",
      "因为国家层面事情影响自己生活的焦绿的真不如好好看看自己吧😢，（指身边有的朋友因为tw这个事情激动的关心的睡不着觉）。\n",
      "RT @___OTINTIN: ^._.^♥  #gawrt https://t.co/pFfejtFcNS\n"
     ]
    }
   ],
   "source": [
    "#10. Getting a user's timeline\n",
    "\n",
    "# Replace user ID\n",
    "id = '1434855134857621506'\n",
    "\n",
    "tweets = client.get_users_tweets(id=id, tweet_fields=['context_annotations','created_at','geo'])\n",
    "\n",
    "for tweet in tweets.data:\n",
    "    print(tweet)"
   ]
  },
  {
   "cell_type": "code",
   "execution_count": 22,
   "id": "131e21fc",
   "metadata": {},
   "outputs": [
    {
     "name": "stdout",
     "output_type": "stream",
     "text": [
      "@Echoliuliu1 咋啦\n",
      "@benbenb30729942 @Echoliuliu1 https://t.co/yMQrb4SYAV\n",
      "@Echoliuliu1 https://t.co/yMQrb4SYAV\n",
      "@Echoliuliu1 🤔这样的话确实不错\n",
      "@Echoliuliu1 我现实脾气好像也....还好 主要是对女生没啥脾气，对别的就有点了😨\n",
      "@Echoliuliu1 ,咋么了？\n",
      "@Echoliuliu1 这个\n",
      "🤖加入链接 https://t.co/7l1eKGw0xH\n",
      "@Echoliuliu1 确实 上头的时候什么都不会想  单觉得好爽 好喜欢 好想见😋\n",
      "@Echoliuliu1 https://t.co/2OM4hUEk60\n",
      "@Echoliuliu1 我谈恋爱就会变成这个样子\n"
     ]
    }
   ],
   "source": [
    "#11. Getting a user's mentions\n",
    "\n",
    "# Replace user ID\n",
    "id = '1434855134857621506'\n",
    "\n",
    "tweets = client.get_users_mentions(id=id, tweet_fields=['context_annotations','created_at','geo'])\n",
    "\n",
    "for tweet in tweets.data:\n",
    "    print(tweet)"
   ]
  },
  {
   "cell_type": "code",
   "execution_count": 23,
   "id": "b0089fc1",
   "metadata": {},
   "outputs": [
    {
     "name": "stdout",
     "output_type": "stream",
     "text": [
      "1553407047500443651\n",
      "1443865324953108484\n",
      "1555136841959239681\n",
      "1283405625196556289\n",
      "1140653169615130624\n",
      "1443535440951218182\n",
      "1550017449038270464\n",
      "1513624037175431168\n",
      "1126802896119484417\n",
      "1517214454991130624\n",
      "1356161859825463296\n",
      "1527547977987805184\n",
      "855849861048016896\n",
      "1521729735587291136\n",
      "1500958643193139200\n",
      "1390677328024379395\n",
      "874630749197959168\n",
      "1222771448848121856\n",
      "1228750842347393025\n",
      "894461420359696384\n",
      "1525721902169194496\n",
      "1071306716405366785\n",
      "1475736601254760448\n",
      "1514853765429485571\n",
      "1516342052136566784\n",
      "924517119831687168\n"
     ]
    }
   ],
   "source": [
    "#12. Getting a user's followers\n",
    "\n",
    "\n",
    "#id = '2244994945'\n",
    "id='1434855134857621506'\n",
    "\n",
    "users = client.get_users_followers(id=id, user_fields=['profile_image_url'])\n",
    "\n",
    "for user in users.data:\n",
    "    print(user.id)"
   ]
  },
  {
   "cell_type": "code",
   "execution_count": 24,
   "id": "fca5f1e3",
   "metadata": {},
   "outputs": [
    {
     "name": "stdout",
     "output_type": "stream",
     "text": [
      "1553407047500443651\n",
      "1474276996394123266\n",
      "1443865324953108484\n",
      "1555136841959239681\n",
      "1443535440951218182\n",
      "1550017449038270464\n",
      "1283405625196556289\n",
      "1513624037175431168\n",
      "2585157547\n",
      "1439950346013614087\n",
      "1236683720733511680\n",
      "1903784563\n",
      "1356161859825463296\n",
      "1492123688309002244\n",
      "1517214454991130624\n",
      "1527547977987805184\n",
      "855849861048016896\n",
      "1521729735587291136\n",
      "1500958643193139200\n",
      "874630749197959168\n",
      "876410266614808576\n",
      "1390677328024379395\n",
      "1078454784972079105\n",
      "968546584337072128\n",
      "1222771448848121856\n",
      "1525709342968000512\n",
      "1283831870149591040\n",
      "1073104055990333440\n",
      "1329401885757906944\n",
      "1496119147826061313\n",
      "1228750842347393025\n",
      "894461420359696384\n",
      "1525721902169194496\n",
      "1071306716405366785\n",
      "1313778787335634944\n",
      "1196989928791347202\n",
      "1322550889878491136\n",
      "1313122922886643714\n",
      "3703623798\n",
      "950967576980422657\n",
      "1000698509471854593\n",
      "4310122220\n",
      "1502562842914193411\n",
      "1507232250\n",
      "1356518455277613059\n",
      "1164356912525131776\n",
      "1346704806325338113\n",
      "1384487248184320002\n",
      "1248313050169565189\n",
      "1270297548184596480\n",
      "1358875597850562560\n",
      "1475736601254760448\n",
      "336959940\n",
      "1352175288961142784\n",
      "1126802896119484417\n",
      "1514853765429485571\n",
      "1526961164772487168\n",
      "1288551979837530112\n",
      "751695731413491712\n",
      "923194662751367168\n",
      "899122083199725568\n",
      "4193686034\n",
      "1056463063543537664\n",
      "706666862042439681\n",
      "848866075190022145\n",
      "898841239570702336\n",
      "911165331464364033\n",
      "2747779056\n",
      "2379845000\n",
      "1296875659487145985\n",
      "3460683740\n",
      "3194791566\n",
      "1130156172399353857\n",
      "4125384673\n",
      "777486669347905536\n",
      "990093840605364224\n",
      "162416678\n",
      "950327411131826177\n",
      "2766877028\n",
      "1097349014041747456\n",
      "1060079325481824256\n",
      "1480144371685154818\n",
      "108223197\n",
      "1622718301\n",
      "1358848130872131594\n",
      "1181863232228610048\n",
      "930780396836364290\n",
      "181127176\n",
      "1123427076655030273\n",
      "2443485877\n",
      "241484232\n",
      "965396108800286721\n",
      "112207890\n",
      "1298997775686754304\n",
      "128866316\n",
      "2397882062\n",
      "53949113\n",
      "54140780\n",
      "268758461\n",
      "4764134012\n"
     ]
    }
   ],
   "source": [
    "#13. Getting users that a user follows\n",
    "\n",
    "# Replace user ID\n",
    "id='1434855134857621506'\n",
    "\n",
    "users = client.get_users_following(id=id, user_fields=['profile_image_url'])\n",
    "\n",
    "for user in users.data:\n",
    "    print(user.id)"
   ]
  },
  {
   "cell_type": "code",
   "execution_count": 25,
   "id": "9cd5a19d",
   "metadata": {},
   "outputs": [
    {
     "name": "stdout",
     "output_type": "stream",
     "text": [
      "AsoulABCDElove\n",
      "AlanMJay1289\n"
     ]
    }
   ],
   "source": [
    "#14. Getting users that like a Tweet\n",
    "\n",
    "# Replace Tweet ID\n",
    "id = '1531865018437980161'\n",
    "\n",
    "users = client.get_liking_users(id=id, user_fields=['profile_image_url'])\n",
    "\n",
    "for user in users.data:\n",
    "    print(user)\n"
   ]
  },
  {
   "cell_type": "code",
   "execution_count": 26,
   "id": "fa4482a8",
   "metadata": {},
   "outputs": [
    {
     "name": "stdout",
     "output_type": "stream",
     "text": [
      "Y68859749\n",
      "Nova_Rebellion\n",
      "NoticeMeeSensei\n",
      "_x_x_x_i_\n",
      "giraresuto666\n",
      "setsukomachi\n",
      "ClassAMaverick\n",
      "MonThuan\n",
      "Sora_YuuJinA\n",
      "chobitsnow\n",
      "konno_asuna04\n",
      "mona_ptan\n",
      "Eriko_yuno\n",
      "HelperMichaela\n",
      "kokakola56712\n",
      "VSYmHTYMrm8oOAU\n",
      "xxxmrlx\n",
      "vzIcM3HxThggTx6\n",
      "nfghfjgjgvh\n",
      "issnoopy1\n",
      "yu_lachika\n",
      "birdway1\n",
      "Mazda3bk3p\n",
      "tus911074\n",
      "adhd_garbage\n",
      "a0979001102\n",
      "hisano1121\n",
      "BLACKSWAN030303\n",
      "donyokunotsubo\n",
      "as071621pink001\n",
      "Halsuisseo1\n",
      "adcd1234ABCD\n",
      "QuantaDragon\n",
      "selfprenue\n",
      "___l__l______l\n",
      "priecia31\n",
      "SaitohTomomi\n",
      "snowno10409\n",
      "Ciel__uraAka\n",
      "Momo71943035\n",
      "TaifuuSakai\n",
      "LarackTobama76\n",
      "Bentyan1202\n",
      "_GomiMitaina_\n",
      "bcww_000\n",
      "Zenith66157797\n",
      "lv99900\n",
      "kuroAisakaTaiga\n",
      "3DLover6\n",
      "az_mainchan\n",
      "nyanyana0\n",
      "koyyai007\n",
      "FabianYepez15\n",
      "H4ru_H1r0\n",
      "PT_Noeluch\n",
      "Cronchmaniac\n",
      "Asdfghj89179971\n",
      "SaulHerz4\n",
      "113469774noname\n",
      "GAWACS2\n",
      "Shiry_V\n"
     ]
    }
   ],
   "source": [
    "#15. Getting users that retweeted a Tweet\n",
    "\n",
    "# Replace Tweet ID\n",
    "id = '1545409197453737984'\n",
    "#https://twitter.com/mmm_mii_/status/1545409197453737984\n",
    "\n",
    "users = client.get_retweeters(id=id, user_fields=['profile_image_url'])\n",
    "\n",
    "for user in users.data:\n",
    "    print(user)"
   ]
  },
  {
   "cell_type": "code",
   "execution_count": 27,
   "id": "09960009",
   "metadata": {},
   "outputs": [
    {
     "name": "stdout",
     "output_type": "stream",
     "text": [
      "この表情良き https://t.co/NfbZr0Da5b\n",
      "chisataki get gayer with every episode oh my god. #LycorisRecoil https://t.co/1ugnrUJZkR\n",
      "三松许？！（幻视） https://t.co/nbpsHhW2Dc\n",
      "晚安，然后明天再见，露早小姐。。。\n",
      "汪汪！🐶 https://t.co/Jz7jlXPK2M\n",
      "96 / リコ&amp;レグ https://t.co/JZqcO5D6QR\n",
      "还记得初中那会儿穿着粉色浴衣去参加夏日祭，被好多人夸可爱围着拍照······怎么现在这些都变成了“不被允许，被人讨厌”的事情了呢？🥲\n",
      "男/国内在住/v圈乐子人/前嘉心糖/前皇家骑/二线桂物/现为御三家体制（塔爱菜）/前中高强度键政壬/P社战犯\n",
      "*如果看到我键政请提醒我去冥想\n",
      "https://t.co/R1MjTsfjPs\n",
      "🤔我爱v，v爱我吗？\n",
      "嗯，每天看着人儿，我都不得不想：有些话还是不说为喵\n",
      "https://t.co/I0GFNkjhXW\n",
      "早安，怎样都算赢的粉红们\n",
      "第一次勿谓言之不预\n",
      "第二次勿谓言之不预\n",
      "终极勿谓言之不预（\n",
      "小北好可爱\n",
      "昆仑也没了。。。现在四个人一个不剩了\n",
      "結べるよ https://t.co/kQisthuxhj\n",
      "按着脑袋弄到对方流眼泪的行为好粗暴好色哦 https://t.co/tjv8nl1ODU\n",
      "98日目、蛍🟡\n",
      "\n",
      " #原神  #Lumine  #100日チャレンジ https://t.co/6ocTbXdien\n",
      "落書き✎⁾⁾ https://t.co/5rCEjdF2BX\n",
      "C100のタペストリーです https://t.co/9oue2QrR31\n",
      "@tianche66485436 如果我有女朋友的话\n",
      "心情很差\n",
      "看我伤口给你看硬了快冲出来了？\n",
      "今天打了几把游戏\n",
      "我感觉自己知道我为什么不会和很强势的女生有亲密关系了\n",
      "原来不是初恋的阴影（初恋就挺强势的）\n",
      "也不是家里我妈比较强势\n",
      "而是一个队伍里有两个思路打法不一样的指挥是没法一起上分的，必须有人会收敛掉😨😨😨\n",
      "我想做一只狗狗，狗狗被大家喜欢。\n",
      "猫猫也行，猫猫虽然骄横但是很可爱。\n",
      "月の雫 ... 东方萃梦想 https://t.co/tVfQfZnwc2\n",
      "oc🦋 https://t.co/WGGYaIRjRy\n",
      "我这下真成废物了。\n",
      "@Xx_C418_xX 恰\n",
      "我好难过\n",
      "讨厌夏天，热死了呃呃呃。\n",
      "https://t.co/H8UwIYBtlr\n",
      "中国损失这么多高材生你看人家在乎了吗😋 https://t.co/vaqis7WVkL\n",
      "@zhongguonantong 敬请收看《赵氏孤儿》\n",
      "82日目、神里綾華\n",
      "\n",
      " #原神  #kamisatoayaka  #100日チャレンジ https://t.co/6BFX2cdbi0\n",
      "是不是每一个中国人刚上推特的时候都是兔友？\n",
      "台湾户籍信息全部泄漏😱\n",
      "属于是谁都能入侵我的梦境了\n",
      "我甚至梦见自己初中同桌了😭😭😭\n",
      "🍧🦋✨ https://t.co/STyPhy25j7\n",
      "💕\n",
      "#胡桃 #原神  #GenshinImpact https://t.co/ZvYswiFSGg\n",
      "ぼくのことが好きすぎる詩雨先輩💜 https://t.co/YKDBAwxKi3\n",
      "73日目,砂狼シロコ41\n",
      "#BlueArchive #ブルーアーカイブ #ブルアカ \n",
      "#100日チャレンジ https://t.co/o946CqnEZB\n",
      "減量中ですのに...\n",
      "#ウマ娘 https://t.co/m4NicFZCqQ\n",
      "フレカ💗 https://t.co/K42WdflKXN\n",
      "【配信告知】7/8㈮21時～\n",
      "\n",
      "－・　－－－・－　－・－－　・－・－－　…！ \n",
      "\n",
      "🔴https://t.co/32dQempR23 https://t.co/pz9Ixgew1w\n",
      "ch 71 moment #power #chainsawman https://t.co/NYyWCANCC4\n",
      "Daily42/Hutao\n",
      "#HuTao #胡桃 #GenshinImpact #Genshin https://t.co/cMjg835QiB\n",
      "トワ様〜 #TOWART https://t.co/5QM0p3p6Mz\n",
      "扣1为安倍酱➕1s\n",
      "开摆。 https://t.co/Hcd0LJzE4E\n",
      "悲しい気持ちのときは、インターネットなんか見なくていいよ\n",
      "happy birthday to me!🥳🥳🥳 https://t.co/UWlmBmsVz5\n",
      "https://t.co/QMdXLmXGgB\n",
      "好久不见~不知不觉，B站已经13岁了……有你们真好！🥳 https://t.co/fb68Ep8x9a\n",
      "@jakobsonradical 万人空巷。一个词语，两种景象。\n",
      "草の敵のアレ避けようとしても大体引っかかるっていうらくがき\n",
      "#原神 #GenshinImpact https://t.co/uwEXsxxWQ0\n",
      "#今月描いた絵を晒そう #原神 https://t.co/x5sbCztz8d\n",
      "@x_angelkawaii_x NTR好きな人の気持ちわからん\n",
      "什么可怜小狗狗 https://t.co/GhDX7NKofX\n",
      "国家卫健委发布通知，入境隔离措施，从14+7改为7+3。\n",
      "太傻逼了妈的。\n",
      "Steam登他妈不上去\n",
      "太几把脑残了。\n",
      "@Echoliuliu1 🥹摸摸\n",
      "@lalala3796 😥不禁止堕胎那多多少少也做点防护措施吧，妇科医生看那些都快被刮穿的宫壁感觉都吓人😥爱惜一点自己呀，让对方也爱惜你呀…\n",
      "https://t.co/neoSbH3F75\n",
      "https://t.co/SDtJUzxfId\n",
      "我想看她在我面前一件一件脱掉衣服的样子。她羞涩的表情和遮遮掩掩的身体是最色情的东西，最甜美的果实\n",
      "Psychology says, if you feel comfortable alone, you are a powerful individual.\n",
      "https://t.co/NX7SF2CdnJ\n",
      "「ヘブンバーンズレッド」公式応援イラストにて、國見タマちゃんを描かせて頂きました⚓️🌇\n",
      "\n",
      "pixivにて #ヘブバンイラコン 開催中なので\n",
      "ぜひチェックしてみてくださいね！ ˎˊ˗\n",
      "▶️ https://t.co/xlEVeOlR5r\n",
      "#ヘブバン   #PR https://t.co/nA5HmKmw2w\n",
      "遇见一个可以堂吃的了……冲😂 https://t.co/MQTdty6h2P\n",
      "去 https://t.co/L8lYytdi4J\n",
      "イジワルな女の子と抵抗できない女の子\n",
      " #百合の日 https://t.co/UHNqtphsxS\n",
      "若干年前的今天，俺初生了（ https://t.co/NhzAdY2xW5\n",
      "か、回復…\n",
      "#原神 #GenshinImpact https://t.co/F1EYrigtRY\n",
      "@x_angelkawaii_x かわいい~！！\n",
      "Psychology says, The less you care, the happier you will be.\n",
      "https://t.co/S5g6aHN5H6\n"
     ]
    }
   ],
   "source": [
    "#16. Getting Tweets that a user liked\n",
    "\n",
    "# Replace User ID\n",
    "id = '1434855134857621506'\n",
    "\n",
    "tweets = client.get_liked_tweets(id=id, tweet_fields=['context_annotations','created_at','geo'])\n",
    "\n",
    "for tweet in tweets.data:\n",
    "    print(tweet)"
   ]
  },
  {
   "cell_type": "code",
   "execution_count": 28,
   "id": "1a122362",
   "metadata": {},
   "outputs": [
    {
     "name": "stdout",
     "output_type": "stream",
     "text": [
      "🍧🦋✨ https://t.co/STyPhy25j7\n"
     ]
    }
   ],
   "source": [
    "#17. Lookup Tweets using Tweet IDs\n",
    "\n",
    "# Replace Tweet IDs\n",
    "#ids = ['1409935014725177344', '1409931481552543749', '1441054496931541004']\n",
    "\n",
    "tweets = client.get_tweets(ids='1545409197453737984', tweet_fields=['context_annotations','created_at','geo'])\n",
    "\n",
    "for tweet in tweets.data:\n",
    "    print(tweet)"
   ]
  },
  {
   "cell_type": "code",
   "execution_count": 29,
   "id": "d7b4d07a",
   "metadata": {},
   "outputs": [
    {
     "name": "stdout",
     "output_type": "stream",
     "text": [
      "https://pbs.twimg.com/profile_images/1558292810998095873/BMSxjQAR_normal.jpg\n"
     ]
    }
   ],
   "source": [
    "#18. Lookup Users using User IDs\n",
    "\n",
    "# Replace User IDs\n",
    "ids = '1434855134857621506'\n",
    "\n",
    "users = client.get_users(ids=ids, user_fields=['profile_image_url'])\n",
    "\n",
    "for user in users.data:\n",
    "    print(user.profile_image_url)"
   ]
  },
  {
   "cell_type": "code",
   "execution_count": 38,
   "id": "1629c755",
   "metadata": {},
   "outputs": [
    {
     "data": {
      "application/vnd.plotly.v1+json": {
       "config": {
        "plotlyServerURL": "https://plot.ly"
       },
       "data": [
        {
         "type": "bar",
         "x": [
          "2022-08-15",
          "2022-08-16",
          "2022-08-17",
          "2022-08-18",
          "2022-08-19",
          "2022-08-20",
          "2022-08-21",
          "2022-08-22"
         ],
         "y": [
          65,
          269,
          263,
          144,
          142,
          123,
          113,
          83
         ]
        }
       ],
       "layout": {
        "template": {
         "data": {
          "bar": [
           {
            "error_x": {
             "color": "#2a3f5f"
            },
            "error_y": {
             "color": "#2a3f5f"
            },
            "marker": {
             "line": {
              "color": "#E5ECF6",
              "width": 0.5
             },
             "pattern": {
              "fillmode": "overlay",
              "size": 10,
              "solidity": 0.2
             }
            },
            "type": "bar"
           }
          ],
          "barpolar": [
           {
            "marker": {
             "line": {
              "color": "#E5ECF6",
              "width": 0.5
             },
             "pattern": {
              "fillmode": "overlay",
              "size": 10,
              "solidity": 0.2
             }
            },
            "type": "barpolar"
           }
          ],
          "carpet": [
           {
            "aaxis": {
             "endlinecolor": "#2a3f5f",
             "gridcolor": "white",
             "linecolor": "white",
             "minorgridcolor": "white",
             "startlinecolor": "#2a3f5f"
            },
            "baxis": {
             "endlinecolor": "#2a3f5f",
             "gridcolor": "white",
             "linecolor": "white",
             "minorgridcolor": "white",
             "startlinecolor": "#2a3f5f"
            },
            "type": "carpet"
           }
          ],
          "choropleth": [
           {
            "colorbar": {
             "outlinewidth": 0,
             "ticks": ""
            },
            "type": "choropleth"
           }
          ],
          "contour": [
           {
            "colorbar": {
             "outlinewidth": 0,
             "ticks": ""
            },
            "colorscale": [
             [
              0,
              "#0d0887"
             ],
             [
              0.1111111111111111,
              "#46039f"
             ],
             [
              0.2222222222222222,
              "#7201a8"
             ],
             [
              0.3333333333333333,
              "#9c179e"
             ],
             [
              0.4444444444444444,
              "#bd3786"
             ],
             [
              0.5555555555555556,
              "#d8576b"
             ],
             [
              0.6666666666666666,
              "#ed7953"
             ],
             [
              0.7777777777777778,
              "#fb9f3a"
             ],
             [
              0.8888888888888888,
              "#fdca26"
             ],
             [
              1,
              "#f0f921"
             ]
            ],
            "type": "contour"
           }
          ],
          "contourcarpet": [
           {
            "colorbar": {
             "outlinewidth": 0,
             "ticks": ""
            },
            "type": "contourcarpet"
           }
          ],
          "heatmap": [
           {
            "colorbar": {
             "outlinewidth": 0,
             "ticks": ""
            },
            "colorscale": [
             [
              0,
              "#0d0887"
             ],
             [
              0.1111111111111111,
              "#46039f"
             ],
             [
              0.2222222222222222,
              "#7201a8"
             ],
             [
              0.3333333333333333,
              "#9c179e"
             ],
             [
              0.4444444444444444,
              "#bd3786"
             ],
             [
              0.5555555555555556,
              "#d8576b"
             ],
             [
              0.6666666666666666,
              "#ed7953"
             ],
             [
              0.7777777777777778,
              "#fb9f3a"
             ],
             [
              0.8888888888888888,
              "#fdca26"
             ],
             [
              1,
              "#f0f921"
             ]
            ],
            "type": "heatmap"
           }
          ],
          "heatmapgl": [
           {
            "colorbar": {
             "outlinewidth": 0,
             "ticks": ""
            },
            "colorscale": [
             [
              0,
              "#0d0887"
             ],
             [
              0.1111111111111111,
              "#46039f"
             ],
             [
              0.2222222222222222,
              "#7201a8"
             ],
             [
              0.3333333333333333,
              "#9c179e"
             ],
             [
              0.4444444444444444,
              "#bd3786"
             ],
             [
              0.5555555555555556,
              "#d8576b"
             ],
             [
              0.6666666666666666,
              "#ed7953"
             ],
             [
              0.7777777777777778,
              "#fb9f3a"
             ],
             [
              0.8888888888888888,
              "#fdca26"
             ],
             [
              1,
              "#f0f921"
             ]
            ],
            "type": "heatmapgl"
           }
          ],
          "histogram": [
           {
            "marker": {
             "pattern": {
              "fillmode": "overlay",
              "size": 10,
              "solidity": 0.2
             }
            },
            "type": "histogram"
           }
          ],
          "histogram2d": [
           {
            "colorbar": {
             "outlinewidth": 0,
             "ticks": ""
            },
            "colorscale": [
             [
              0,
              "#0d0887"
             ],
             [
              0.1111111111111111,
              "#46039f"
             ],
             [
              0.2222222222222222,
              "#7201a8"
             ],
             [
              0.3333333333333333,
              "#9c179e"
             ],
             [
              0.4444444444444444,
              "#bd3786"
             ],
             [
              0.5555555555555556,
              "#d8576b"
             ],
             [
              0.6666666666666666,
              "#ed7953"
             ],
             [
              0.7777777777777778,
              "#fb9f3a"
             ],
             [
              0.8888888888888888,
              "#fdca26"
             ],
             [
              1,
              "#f0f921"
             ]
            ],
            "type": "histogram2d"
           }
          ],
          "histogram2dcontour": [
           {
            "colorbar": {
             "outlinewidth": 0,
             "ticks": ""
            },
            "colorscale": [
             [
              0,
              "#0d0887"
             ],
             [
              0.1111111111111111,
              "#46039f"
             ],
             [
              0.2222222222222222,
              "#7201a8"
             ],
             [
              0.3333333333333333,
              "#9c179e"
             ],
             [
              0.4444444444444444,
              "#bd3786"
             ],
             [
              0.5555555555555556,
              "#d8576b"
             ],
             [
              0.6666666666666666,
              "#ed7953"
             ],
             [
              0.7777777777777778,
              "#fb9f3a"
             ],
             [
              0.8888888888888888,
              "#fdca26"
             ],
             [
              1,
              "#f0f921"
             ]
            ],
            "type": "histogram2dcontour"
           }
          ],
          "mesh3d": [
           {
            "colorbar": {
             "outlinewidth": 0,
             "ticks": ""
            },
            "type": "mesh3d"
           }
          ],
          "parcoords": [
           {
            "line": {
             "colorbar": {
              "outlinewidth": 0,
              "ticks": ""
             }
            },
            "type": "parcoords"
           }
          ],
          "pie": [
           {
            "automargin": true,
            "type": "pie"
           }
          ],
          "scatter": [
           {
            "marker": {
             "colorbar": {
              "outlinewidth": 0,
              "ticks": ""
             }
            },
            "type": "scatter"
           }
          ],
          "scatter3d": [
           {
            "line": {
             "colorbar": {
              "outlinewidth": 0,
              "ticks": ""
             }
            },
            "marker": {
             "colorbar": {
              "outlinewidth": 0,
              "ticks": ""
             }
            },
            "type": "scatter3d"
           }
          ],
          "scattercarpet": [
           {
            "marker": {
             "colorbar": {
              "outlinewidth": 0,
              "ticks": ""
             }
            },
            "type": "scattercarpet"
           }
          ],
          "scattergeo": [
           {
            "marker": {
             "colorbar": {
              "outlinewidth": 0,
              "ticks": ""
             }
            },
            "type": "scattergeo"
           }
          ],
          "scattergl": [
           {
            "marker": {
             "colorbar": {
              "outlinewidth": 0,
              "ticks": ""
             }
            },
            "type": "scattergl"
           }
          ],
          "scattermapbox": [
           {
            "marker": {
             "colorbar": {
              "outlinewidth": 0,
              "ticks": ""
             }
            },
            "type": "scattermapbox"
           }
          ],
          "scatterpolar": [
           {
            "marker": {
             "colorbar": {
              "outlinewidth": 0,
              "ticks": ""
             }
            },
            "type": "scatterpolar"
           }
          ],
          "scatterpolargl": [
           {
            "marker": {
             "colorbar": {
              "outlinewidth": 0,
              "ticks": ""
             }
            },
            "type": "scatterpolargl"
           }
          ],
          "scatterternary": [
           {
            "marker": {
             "colorbar": {
              "outlinewidth": 0,
              "ticks": ""
             }
            },
            "type": "scatterternary"
           }
          ],
          "surface": [
           {
            "colorbar": {
             "outlinewidth": 0,
             "ticks": ""
            },
            "colorscale": [
             [
              0,
              "#0d0887"
             ],
             [
              0.1111111111111111,
              "#46039f"
             ],
             [
              0.2222222222222222,
              "#7201a8"
             ],
             [
              0.3333333333333333,
              "#9c179e"
             ],
             [
              0.4444444444444444,
              "#bd3786"
             ],
             [
              0.5555555555555556,
              "#d8576b"
             ],
             [
              0.6666666666666666,
              "#ed7953"
             ],
             [
              0.7777777777777778,
              "#fb9f3a"
             ],
             [
              0.8888888888888888,
              "#fdca26"
             ],
             [
              1,
              "#f0f921"
             ]
            ],
            "type": "surface"
           }
          ],
          "table": [
           {
            "cells": {
             "fill": {
              "color": "#EBF0F8"
             },
             "line": {
              "color": "white"
             }
            },
            "header": {
             "fill": {
              "color": "#C8D4E3"
             },
             "line": {
              "color": "white"
             }
            },
            "type": "table"
           }
          ]
         },
         "layout": {
          "annotationdefaults": {
           "arrowcolor": "#2a3f5f",
           "arrowhead": 0,
           "arrowwidth": 1
          },
          "autotypenumbers": "strict",
          "coloraxis": {
           "colorbar": {
            "outlinewidth": 0,
            "ticks": ""
           }
          },
          "colorscale": {
           "diverging": [
            [
             0,
             "#8e0152"
            ],
            [
             0.1,
             "#c51b7d"
            ],
            [
             0.2,
             "#de77ae"
            ],
            [
             0.3,
             "#f1b6da"
            ],
            [
             0.4,
             "#fde0ef"
            ],
            [
             0.5,
             "#f7f7f7"
            ],
            [
             0.6,
             "#e6f5d0"
            ],
            [
             0.7,
             "#b8e186"
            ],
            [
             0.8,
             "#7fbc41"
            ],
            [
             0.9,
             "#4d9221"
            ],
            [
             1,
             "#276419"
            ]
           ],
           "sequential": [
            [
             0,
             "#0d0887"
            ],
            [
             0.1111111111111111,
             "#46039f"
            ],
            [
             0.2222222222222222,
             "#7201a8"
            ],
            [
             0.3333333333333333,
             "#9c179e"
            ],
            [
             0.4444444444444444,
             "#bd3786"
            ],
            [
             0.5555555555555556,
             "#d8576b"
            ],
            [
             0.6666666666666666,
             "#ed7953"
            ],
            [
             0.7777777777777778,
             "#fb9f3a"
            ],
            [
             0.8888888888888888,
             "#fdca26"
            ],
            [
             1,
             "#f0f921"
            ]
           ],
           "sequentialminus": [
            [
             0,
             "#0d0887"
            ],
            [
             0.1111111111111111,
             "#46039f"
            ],
            [
             0.2222222222222222,
             "#7201a8"
            ],
            [
             0.3333333333333333,
             "#9c179e"
            ],
            [
             0.4444444444444444,
             "#bd3786"
            ],
            [
             0.5555555555555556,
             "#d8576b"
            ],
            [
             0.6666666666666666,
             "#ed7953"
            ],
            [
             0.7777777777777778,
             "#fb9f3a"
            ],
            [
             0.8888888888888888,
             "#fdca26"
            ],
            [
             1,
             "#f0f921"
            ]
           ]
          },
          "colorway": [
           "#636efa",
           "#EF553B",
           "#00cc96",
           "#ab63fa",
           "#FFA15A",
           "#19d3f3",
           "#FF6692",
           "#B6E880",
           "#FF97FF",
           "#FECB52"
          ],
          "font": {
           "color": "#2a3f5f"
          },
          "geo": {
           "bgcolor": "white",
           "lakecolor": "white",
           "landcolor": "#E5ECF6",
           "showlakes": true,
           "showland": true,
           "subunitcolor": "white"
          },
          "hoverlabel": {
           "align": "left"
          },
          "hovermode": "closest",
          "mapbox": {
           "style": "light"
          },
          "paper_bgcolor": "white",
          "plot_bgcolor": "#E5ECF6",
          "polar": {
           "angularaxis": {
            "gridcolor": "white",
            "linecolor": "white",
            "ticks": ""
           },
           "bgcolor": "#E5ECF6",
           "radialaxis": {
            "gridcolor": "white",
            "linecolor": "white",
            "ticks": ""
           }
          },
          "scene": {
           "xaxis": {
            "backgroundcolor": "#E5ECF6",
            "gridcolor": "white",
            "gridwidth": 2,
            "linecolor": "white",
            "showbackground": true,
            "ticks": "",
            "zerolinecolor": "white"
           },
           "yaxis": {
            "backgroundcolor": "#E5ECF6",
            "gridcolor": "white",
            "gridwidth": 2,
            "linecolor": "white",
            "showbackground": true,
            "ticks": "",
            "zerolinecolor": "white"
           },
           "zaxis": {
            "backgroundcolor": "#E5ECF6",
            "gridcolor": "white",
            "gridwidth": 2,
            "linecolor": "white",
            "showbackground": true,
            "ticks": "",
            "zerolinecolor": "white"
           }
          },
          "shapedefaults": {
           "line": {
            "color": "#2a3f5f"
           }
          },
          "ternary": {
           "aaxis": {
            "gridcolor": "white",
            "linecolor": "white",
            "ticks": ""
           },
           "baxis": {
            "gridcolor": "white",
            "linecolor": "white",
            "ticks": ""
           },
           "bgcolor": "#E5ECF6",
           "caxis": {
            "gridcolor": "white",
            "linecolor": "white",
            "ticks": ""
           }
          },
          "title": {
           "x": 0.05
          },
          "xaxis": {
           "automargin": true,
           "gridcolor": "white",
           "linecolor": "white",
           "ticks": "",
           "title": {
            "standoff": 15
           },
           "zerolinecolor": "white",
           "zerolinewidth": 2
          },
          "yaxis": {
           "automargin": true,
           "gridcolor": "white",
           "linecolor": "white",
           "ticks": "",
           "title": {
            "standoff": 15
           },
           "zerolinecolor": "white",
           "zerolinewidth": 2
          }
         }
        },
        "title": {
         "text": "Tweets by day for smart home product"
        },
        "xaxis": {
         "title": {
          "text": "Time Period"
         }
        },
        "yaxis": {
         "title": {
          "text": "Tweet Counts"
         }
        }
       }
      },
      "text/html": [
       "<div>                            <div id=\"439a003d-c6ca-470d-84b7-c2fb220fc2f5\" class=\"plotly-graph-div\" style=\"height:525px; width:100%;\"></div>            <script type=\"text/javascript\">                require([\"plotly\"], function(Plotly) {                    window.PLOTLYENV=window.PLOTLYENV || {};                                    if (document.getElementById(\"439a003d-c6ca-470d-84b7-c2fb220fc2f5\")) {                    Plotly.newPlot(                        \"439a003d-c6ca-470d-84b7-c2fb220fc2f5\",                        [{\"x\":[\"2022-08-15\",\"2022-08-16\",\"2022-08-17\",\"2022-08-18\",\"2022-08-19\",\"2022-08-20\",\"2022-08-21\",\"2022-08-22\"],\"y\":[65,269,263,144,142,123,113,83],\"type\":\"bar\"}],                        {\"template\":{\"data\":{\"bar\":[{\"error_x\":{\"color\":\"#2a3f5f\"},\"error_y\":{\"color\":\"#2a3f5f\"},\"marker\":{\"line\":{\"color\":\"#E5ECF6\",\"width\":0.5},\"pattern\":{\"fillmode\":\"overlay\",\"size\":10,\"solidity\":0.2}},\"type\":\"bar\"}],\"barpolar\":[{\"marker\":{\"line\":{\"color\":\"#E5ECF6\",\"width\":0.5},\"pattern\":{\"fillmode\":\"overlay\",\"size\":10,\"solidity\":0.2}},\"type\":\"barpolar\"}],\"carpet\":[{\"aaxis\":{\"endlinecolor\":\"#2a3f5f\",\"gridcolor\":\"white\",\"linecolor\":\"white\",\"minorgridcolor\":\"white\",\"startlinecolor\":\"#2a3f5f\"},\"baxis\":{\"endlinecolor\":\"#2a3f5f\",\"gridcolor\":\"white\",\"linecolor\":\"white\",\"minorgridcolor\":\"white\",\"startlinecolor\":\"#2a3f5f\"},\"type\":\"carpet\"}],\"choropleth\":[{\"colorbar\":{\"outlinewidth\":0,\"ticks\":\"\"},\"type\":\"choropleth\"}],\"contour\":[{\"colorbar\":{\"outlinewidth\":0,\"ticks\":\"\"},\"colorscale\":[[0.0,\"#0d0887\"],[0.1111111111111111,\"#46039f\"],[0.2222222222222222,\"#7201a8\"],[0.3333333333333333,\"#9c179e\"],[0.4444444444444444,\"#bd3786\"],[0.5555555555555556,\"#d8576b\"],[0.6666666666666666,\"#ed7953\"],[0.7777777777777778,\"#fb9f3a\"],[0.8888888888888888,\"#fdca26\"],[1.0,\"#f0f921\"]],\"type\":\"contour\"}],\"contourcarpet\":[{\"colorbar\":{\"outlinewidth\":0,\"ticks\":\"\"},\"type\":\"contourcarpet\"}],\"heatmap\":[{\"colorbar\":{\"outlinewidth\":0,\"ticks\":\"\"},\"colorscale\":[[0.0,\"#0d0887\"],[0.1111111111111111,\"#46039f\"],[0.2222222222222222,\"#7201a8\"],[0.3333333333333333,\"#9c179e\"],[0.4444444444444444,\"#bd3786\"],[0.5555555555555556,\"#d8576b\"],[0.6666666666666666,\"#ed7953\"],[0.7777777777777778,\"#fb9f3a\"],[0.8888888888888888,\"#fdca26\"],[1.0,\"#f0f921\"]],\"type\":\"heatmap\"}],\"heatmapgl\":[{\"colorbar\":{\"outlinewidth\":0,\"ticks\":\"\"},\"colorscale\":[[0.0,\"#0d0887\"],[0.1111111111111111,\"#46039f\"],[0.2222222222222222,\"#7201a8\"],[0.3333333333333333,\"#9c179e\"],[0.4444444444444444,\"#bd3786\"],[0.5555555555555556,\"#d8576b\"],[0.6666666666666666,\"#ed7953\"],[0.7777777777777778,\"#fb9f3a\"],[0.8888888888888888,\"#fdca26\"],[1.0,\"#f0f921\"]],\"type\":\"heatmapgl\"}],\"histogram\":[{\"marker\":{\"pattern\":{\"fillmode\":\"overlay\",\"size\":10,\"solidity\":0.2}},\"type\":\"histogram\"}],\"histogram2d\":[{\"colorbar\":{\"outlinewidth\":0,\"ticks\":\"\"},\"colorscale\":[[0.0,\"#0d0887\"],[0.1111111111111111,\"#46039f\"],[0.2222222222222222,\"#7201a8\"],[0.3333333333333333,\"#9c179e\"],[0.4444444444444444,\"#bd3786\"],[0.5555555555555556,\"#d8576b\"],[0.6666666666666666,\"#ed7953\"],[0.7777777777777778,\"#fb9f3a\"],[0.8888888888888888,\"#fdca26\"],[1.0,\"#f0f921\"]],\"type\":\"histogram2d\"}],\"histogram2dcontour\":[{\"colorbar\":{\"outlinewidth\":0,\"ticks\":\"\"},\"colorscale\":[[0.0,\"#0d0887\"],[0.1111111111111111,\"#46039f\"],[0.2222222222222222,\"#7201a8\"],[0.3333333333333333,\"#9c179e\"],[0.4444444444444444,\"#bd3786\"],[0.5555555555555556,\"#d8576b\"],[0.6666666666666666,\"#ed7953\"],[0.7777777777777778,\"#fb9f3a\"],[0.8888888888888888,\"#fdca26\"],[1.0,\"#f0f921\"]],\"type\":\"histogram2dcontour\"}],\"mesh3d\":[{\"colorbar\":{\"outlinewidth\":0,\"ticks\":\"\"},\"type\":\"mesh3d\"}],\"parcoords\":[{\"line\":{\"colorbar\":{\"outlinewidth\":0,\"ticks\":\"\"}},\"type\":\"parcoords\"}],\"pie\":[{\"automargin\":true,\"type\":\"pie\"}],\"scatter\":[{\"marker\":{\"colorbar\":{\"outlinewidth\":0,\"ticks\":\"\"}},\"type\":\"scatter\"}],\"scatter3d\":[{\"line\":{\"colorbar\":{\"outlinewidth\":0,\"ticks\":\"\"}},\"marker\":{\"colorbar\":{\"outlinewidth\":0,\"ticks\":\"\"}},\"type\":\"scatter3d\"}],\"scattercarpet\":[{\"marker\":{\"colorbar\":{\"outlinewidth\":0,\"ticks\":\"\"}},\"type\":\"scattercarpet\"}],\"scattergeo\":[{\"marker\":{\"colorbar\":{\"outlinewidth\":0,\"ticks\":\"\"}},\"type\":\"scattergeo\"}],\"scattergl\":[{\"marker\":{\"colorbar\":{\"outlinewidth\":0,\"ticks\":\"\"}},\"type\":\"scattergl\"}],\"scattermapbox\":[{\"marker\":{\"colorbar\":{\"outlinewidth\":0,\"ticks\":\"\"}},\"type\":\"scattermapbox\"}],\"scatterpolar\":[{\"marker\":{\"colorbar\":{\"outlinewidth\":0,\"ticks\":\"\"}},\"type\":\"scatterpolar\"}],\"scatterpolargl\":[{\"marker\":{\"colorbar\":{\"outlinewidth\":0,\"ticks\":\"\"}},\"type\":\"scatterpolargl\"}],\"scatterternary\":[{\"marker\":{\"colorbar\":{\"outlinewidth\":0,\"ticks\":\"\"}},\"type\":\"scatterternary\"}],\"surface\":[{\"colorbar\":{\"outlinewidth\":0,\"ticks\":\"\"},\"colorscale\":[[0.0,\"#0d0887\"],[0.1111111111111111,\"#46039f\"],[0.2222222222222222,\"#7201a8\"],[0.3333333333333333,\"#9c179e\"],[0.4444444444444444,\"#bd3786\"],[0.5555555555555556,\"#d8576b\"],[0.6666666666666666,\"#ed7953\"],[0.7777777777777778,\"#fb9f3a\"],[0.8888888888888888,\"#fdca26\"],[1.0,\"#f0f921\"]],\"type\":\"surface\"}],\"table\":[{\"cells\":{\"fill\":{\"color\":\"#EBF0F8\"},\"line\":{\"color\":\"white\"}},\"header\":{\"fill\":{\"color\":\"#C8D4E3\"},\"line\":{\"color\":\"white\"}},\"type\":\"table\"}]},\"layout\":{\"annotationdefaults\":{\"arrowcolor\":\"#2a3f5f\",\"arrowhead\":0,\"arrowwidth\":1},\"autotypenumbers\":\"strict\",\"coloraxis\":{\"colorbar\":{\"outlinewidth\":0,\"ticks\":\"\"}},\"colorscale\":{\"diverging\":[[0,\"#8e0152\"],[0.1,\"#c51b7d\"],[0.2,\"#de77ae\"],[0.3,\"#f1b6da\"],[0.4,\"#fde0ef\"],[0.5,\"#f7f7f7\"],[0.6,\"#e6f5d0\"],[0.7,\"#b8e186\"],[0.8,\"#7fbc41\"],[0.9,\"#4d9221\"],[1,\"#276419\"]],\"sequential\":[[0.0,\"#0d0887\"],[0.1111111111111111,\"#46039f\"],[0.2222222222222222,\"#7201a8\"],[0.3333333333333333,\"#9c179e\"],[0.4444444444444444,\"#bd3786\"],[0.5555555555555556,\"#d8576b\"],[0.6666666666666666,\"#ed7953\"],[0.7777777777777778,\"#fb9f3a\"],[0.8888888888888888,\"#fdca26\"],[1.0,\"#f0f921\"]],\"sequentialminus\":[[0.0,\"#0d0887\"],[0.1111111111111111,\"#46039f\"],[0.2222222222222222,\"#7201a8\"],[0.3333333333333333,\"#9c179e\"],[0.4444444444444444,\"#bd3786\"],[0.5555555555555556,\"#d8576b\"],[0.6666666666666666,\"#ed7953\"],[0.7777777777777778,\"#fb9f3a\"],[0.8888888888888888,\"#fdca26\"],[1.0,\"#f0f921\"]]},\"colorway\":[\"#636efa\",\"#EF553B\",\"#00cc96\",\"#ab63fa\",\"#FFA15A\",\"#19d3f3\",\"#FF6692\",\"#B6E880\",\"#FF97FF\",\"#FECB52\"],\"font\":{\"color\":\"#2a3f5f\"},\"geo\":{\"bgcolor\":\"white\",\"lakecolor\":\"white\",\"landcolor\":\"#E5ECF6\",\"showlakes\":true,\"showland\":true,\"subunitcolor\":\"white\"},\"hoverlabel\":{\"align\":\"left\"},\"hovermode\":\"closest\",\"mapbox\":{\"style\":\"light\"},\"paper_bgcolor\":\"white\",\"plot_bgcolor\":\"#E5ECF6\",\"polar\":{\"angularaxis\":{\"gridcolor\":\"white\",\"linecolor\":\"white\",\"ticks\":\"\"},\"bgcolor\":\"#E5ECF6\",\"radialaxis\":{\"gridcolor\":\"white\",\"linecolor\":\"white\",\"ticks\":\"\"}},\"scene\":{\"xaxis\":{\"backgroundcolor\":\"#E5ECF6\",\"gridcolor\":\"white\",\"gridwidth\":2,\"linecolor\":\"white\",\"showbackground\":true,\"ticks\":\"\",\"zerolinecolor\":\"white\"},\"yaxis\":{\"backgroundcolor\":\"#E5ECF6\",\"gridcolor\":\"white\",\"gridwidth\":2,\"linecolor\":\"white\",\"showbackground\":true,\"ticks\":\"\",\"zerolinecolor\":\"white\"},\"zaxis\":{\"backgroundcolor\":\"#E5ECF6\",\"gridcolor\":\"white\",\"gridwidth\":2,\"linecolor\":\"white\",\"showbackground\":true,\"ticks\":\"\",\"zerolinecolor\":\"white\"}},\"shapedefaults\":{\"line\":{\"color\":\"#2a3f5f\"}},\"ternary\":{\"aaxis\":{\"gridcolor\":\"white\",\"linecolor\":\"white\",\"ticks\":\"\"},\"baxis\":{\"gridcolor\":\"white\",\"linecolor\":\"white\",\"ticks\":\"\"},\"bgcolor\":\"#E5ECF6\",\"caxis\":{\"gridcolor\":\"white\",\"linecolor\":\"white\",\"ticks\":\"\"}},\"title\":{\"x\":0.05},\"xaxis\":{\"automargin\":true,\"gridcolor\":\"white\",\"linecolor\":\"white\",\"ticks\":\"\",\"title\":{\"standoff\":15},\"zerolinecolor\":\"white\",\"zerolinewidth\":2},\"yaxis\":{\"automargin\":true,\"gridcolor\":\"white\",\"linecolor\":\"white\",\"ticks\":\"\",\"title\":{\"standoff\":15},\"zerolinecolor\":\"white\",\"zerolinewidth\":2}}},\"title\":{\"text\":\"Tweets by day for smart home product\"},\"xaxis\":{\"title\":{\"text\":\"Time Period\"}},\"yaxis\":{\"title\":{\"text\":\"Tweet Counts\"}}},                        {\"responsive\": true}                    ).then(function(){\n",
       "                            \n",
       "var gd = document.getElementById('439a003d-c6ca-470d-84b7-c2fb220fc2f5');\n",
       "var x = new MutationObserver(function (mutations, observer) {{\n",
       "        var display = window.getComputedStyle(gd).display;\n",
       "        if (!display || display === 'none') {{\n",
       "            console.log([gd, 'removed!']);\n",
       "            Plotly.purge(gd);\n",
       "            observer.disconnect();\n",
       "        }}\n",
       "}});\n",
       "\n",
       "// Listen for the removal of the full notebook cells\n",
       "var notebookContainer = gd.closest('#notebook-container');\n",
       "if (notebookContainer) {{\n",
       "    x.observe(notebookContainer, {childList: true});\n",
       "}}\n",
       "\n",
       "// Listen for the clearing of the current output cell\n",
       "var outputEl = gd.closest('.output');\n",
       "if (outputEl) {{\n",
       "    x.observe(outputEl, {childList: true});\n",
       "}}\n",
       "\n",
       "                        })                };                });            </script>        </div>"
      ]
     },
     "metadata": {},
     "output_type": "display_data"
    }
   ],
   "source": [
    "import plotly.graph_objects as go\n",
    "from twarc import Twarc2\n",
    "import json\n",
    "\n",
    "# Replace with your own bearer token\n",
    "client_2 = Twarc2(\n",
    "    bearer_token='AAAAAAAAAAAAAAAAAAAAAIPigAEAAAAA64aeG60pydtseMVb%2BGO8DUKDueM%3DAn6Zp0E3hyfEjzYEh9e3iQYA25t9XpxJz7NHEt5e5SbAAhYphX')\n",
    "# Replace the query below with your own query\n",
    "query = \"smart home product\"\n",
    "\n",
    "# Get the recent Tweet counts using Twarc for your query by day\n",
    "search_results = client_2.counts_recent(query=query, granularity='day')\n",
    "\n",
    "for page in search_results:\n",
    "    # Get the data object from the Tweet counts response which contains the daily Tweet count\n",
    "    data = page['data']\n",
    "    break\n",
    "\n",
    "#print(json.dumps(data, indent=2))\n",
    "\n",
    "\n",
    "\n",
    "#To display the Tweet counts in a bar graph, we will get the start date in a list called day to display on the x-axis\n",
    "#and the corresponding tweet_counts in a list called tweet_counts to display on the y-axis\n",
    "day = []\n",
    "tweet_counts = []\n",
    "\n",
    "for d in data:\n",
    "    # Add the start date to display on x-axis\n",
    "    day.append(d['start'][:10])\n",
    "    # Add the daily Tweet counts to display on the y-axis\n",
    "    tweet_counts.append(d['tweet_count'])\n",
    "\n",
    "# Build a bar chart\n",
    "fig = go.Figure(data=[go.Bar(x=day, y=tweet_counts)])\n",
    "\n",
    "# Add the titles\n",
    "fig.update_layout(xaxis_title=\"Time Period\", yaxis_title=\"Tweet Counts\",\n",
    "                  title_text='Tweets by day for {}'.format(query))\n",
    "\n",
    "fig.show()"
   ]
  },
  {
   "cell_type": "code",
   "execution_count": null,
   "id": "987b1760",
   "metadata": {},
   "outputs": [],
   "source": []
  },
  {
   "cell_type": "code",
   "execution_count": null,
   "id": "9a8d88ef",
   "metadata": {},
   "outputs": [],
   "source": []
  },
  {
   "cell_type": "code",
   "execution_count": 49,
   "id": "b5e6cfcb",
   "metadata": {},
   "outputs": [
    {
     "ename": "Forbidden",
     "evalue": "403 Forbidden",
     "output_type": "error",
     "traceback": [
      "\u001b[0;31m---------------------------------------------------------------------------\u001b[0m",
      "\u001b[0;31mForbidden\u001b[0m                                 Traceback (most recent call last)",
      "Input \u001b[0;32mIn [49]\u001b[0m, in \u001b[0;36m<cell line: 3>\u001b[0;34m()\u001b[0m\n\u001b[1;32m      1\u001b[0m query \u001b[38;5;241m=\u001b[39m \u001b[38;5;124m'\u001b[39m\u001b[38;5;124mcovid -is:retweet place_country:US\u001b[39m\u001b[38;5;124m'\u001b[39m\n\u001b[0;32m----> 3\u001b[0m tweets \u001b[38;5;241m=\u001b[39m \u001b[43mclient\u001b[49m\u001b[38;5;241;43m.\u001b[39;49m\u001b[43msearch_all_tweets\u001b[49m\u001b[43m(\u001b[49m\u001b[43mquery\u001b[49m\u001b[38;5;241;43m=\u001b[39;49m\u001b[43mquery\u001b[49m\u001b[43m,\u001b[49m\u001b[43m \u001b[49m\u001b[43mtweet_fields\u001b[49m\u001b[38;5;241;43m=\u001b[39;49m\u001b[43m[\u001b[49m\u001b[38;5;124;43m'\u001b[39;49m\u001b[38;5;124;43mcontext_annotations\u001b[39;49m\u001b[38;5;124;43m'\u001b[39;49m\u001b[43m,\u001b[49m\u001b[43m \u001b[49m\u001b[38;5;124;43m'\u001b[39;49m\u001b[38;5;124;43mcreated_at\u001b[39;49m\u001b[38;5;124;43m'\u001b[39;49m\u001b[43m,\u001b[49m\u001b[43m \u001b[49m\u001b[38;5;124;43m'\u001b[39;49m\u001b[38;5;124;43mgeo\u001b[39;49m\u001b[38;5;124;43m'\u001b[39;49m\u001b[43m]\u001b[49m\u001b[43m,\u001b[49m\n\u001b[1;32m      4\u001b[0m \u001b[43m                                   \u001b[49m\u001b[43mplace_fields\u001b[49m\u001b[38;5;241;43m=\u001b[39;49m\u001b[43m[\u001b[49m\u001b[38;5;124;43m'\u001b[39;49m\u001b[38;5;124;43mplace_type\u001b[39;49m\u001b[38;5;124;43m'\u001b[39;49m\u001b[43m,\u001b[49m\u001b[43m \u001b[49m\u001b[38;5;124;43m'\u001b[39;49m\u001b[38;5;124;43mgeo\u001b[39;49m\u001b[38;5;124;43m'\u001b[39;49m\u001b[43m]\u001b[49m\u001b[43m,\u001b[49m\u001b[43m \u001b[49m\u001b[43mexpansions\u001b[49m\u001b[38;5;241;43m=\u001b[39;49m\u001b[38;5;124;43m'\u001b[39;49m\u001b[38;5;124;43mgeo.place_id\u001b[39;49m\u001b[38;5;124;43m'\u001b[39;49m\u001b[43m,\u001b[49m\u001b[43mmax_results\u001b[49m\u001b[38;5;241;43m=\u001b[39;49m\u001b[38;5;241;43m100\u001b[39;49m\u001b[43m)\u001b[49m\n\u001b[1;32m      7\u001b[0m \u001b[38;5;66;03m# Get list of places from includes object\u001b[39;00m\n\u001b[1;32m      8\u001b[0m places \u001b[38;5;241m=\u001b[39m {p[\u001b[38;5;124m\"\u001b[39m\u001b[38;5;124mid\u001b[39m\u001b[38;5;124m\"\u001b[39m]: p \u001b[38;5;28;01mfor\u001b[39;00m p \u001b[38;5;129;01min\u001b[39;00m tweets\u001b[38;5;241m.\u001b[39mincludes[\u001b[38;5;124m'\u001b[39m\u001b[38;5;124mplaces\u001b[39m\u001b[38;5;124m'\u001b[39m]}\n",
      "File \u001b[0;32m/opt/anaconda3/lib/python3.8/site-packages/tweepy/client.py:699\u001b[0m, in \u001b[0;36mClient.search_all_tweets\u001b[0;34m(self, query, **params)\u001b[0m\n\u001b[1;32m    621\u001b[0m \u001b[38;5;124;03m\"\"\"search_all_tweets( \\\u001b[39;00m\n\u001b[1;32m    622\u001b[0m \u001b[38;5;124;03m    query, *, end_time, expansions, max_results, media_fields, \\\u001b[39;00m\n\u001b[1;32m    623\u001b[0m \u001b[38;5;124;03m    next_token, place_fields, poll_fields, since_id, start_time, \\\u001b[39;00m\n\u001b[0;32m   (...)\u001b[0m\n\u001b[1;32m    696\u001b[0m \u001b[38;5;124;03m.. _pagination: https://developer.twitter.com/en/docs/twitter-api/tweets/search/integrate/paginate\u001b[39;00m\n\u001b[1;32m    697\u001b[0m \u001b[38;5;124;03m\"\"\"\u001b[39;00m\n\u001b[1;32m    698\u001b[0m params[\u001b[38;5;124m\"\u001b[39m\u001b[38;5;124mquery\u001b[39m\u001b[38;5;124m\"\u001b[39m] \u001b[38;5;241m=\u001b[39m query\n\u001b[0;32m--> 699\u001b[0m \u001b[38;5;28;01mreturn\u001b[39;00m \u001b[38;5;28;43mself\u001b[39;49m\u001b[38;5;241;43m.\u001b[39;49m\u001b[43m_make_request\u001b[49m\u001b[43m(\u001b[49m\n\u001b[1;32m    700\u001b[0m \u001b[43m    \u001b[49m\u001b[38;5;124;43m\"\u001b[39;49m\u001b[38;5;124;43mGET\u001b[39;49m\u001b[38;5;124;43m\"\u001b[39;49m\u001b[43m,\u001b[49m\u001b[43m \u001b[49m\u001b[38;5;124;43m\"\u001b[39;49m\u001b[38;5;124;43m/2/tweets/search/all\u001b[39;49m\u001b[38;5;124;43m\"\u001b[39;49m\u001b[43m,\u001b[49m\u001b[43m \u001b[49m\u001b[43mparams\u001b[49m\u001b[38;5;241;43m=\u001b[39;49m\u001b[43mparams\u001b[49m\u001b[43m,\u001b[49m\n\u001b[1;32m    701\u001b[0m \u001b[43m    \u001b[49m\u001b[43mendpoint_parameters\u001b[49m\u001b[38;5;241;43m=\u001b[39;49m\u001b[43m(\u001b[49m\n\u001b[1;32m    702\u001b[0m \u001b[43m        \u001b[49m\u001b[38;5;124;43m\"\u001b[39;49m\u001b[38;5;124;43mend_time\u001b[39;49m\u001b[38;5;124;43m\"\u001b[39;49m\u001b[43m,\u001b[49m\u001b[43m \u001b[49m\u001b[38;5;124;43m\"\u001b[39;49m\u001b[38;5;124;43mexpansions\u001b[39;49m\u001b[38;5;124;43m\"\u001b[39;49m\u001b[43m,\u001b[49m\u001b[43m \u001b[49m\u001b[38;5;124;43m\"\u001b[39;49m\u001b[38;5;124;43mmax_results\u001b[39;49m\u001b[38;5;124;43m\"\u001b[39;49m\u001b[43m,\u001b[49m\u001b[43m \u001b[49m\u001b[38;5;124;43m\"\u001b[39;49m\u001b[38;5;124;43mmedia.fields\u001b[39;49m\u001b[38;5;124;43m\"\u001b[39;49m\u001b[43m,\u001b[49m\n\u001b[1;32m    703\u001b[0m \u001b[43m        \u001b[49m\u001b[38;5;124;43m\"\u001b[39;49m\u001b[38;5;124;43mnext_token\u001b[39;49m\u001b[38;5;124;43m\"\u001b[39;49m\u001b[43m,\u001b[49m\u001b[43m \u001b[49m\u001b[38;5;124;43m\"\u001b[39;49m\u001b[38;5;124;43mplace.fields\u001b[39;49m\u001b[38;5;124;43m\"\u001b[39;49m\u001b[43m,\u001b[49m\u001b[43m \u001b[49m\u001b[38;5;124;43m\"\u001b[39;49m\u001b[38;5;124;43mpoll.fields\u001b[39;49m\u001b[38;5;124;43m\"\u001b[39;49m\u001b[43m,\u001b[49m\u001b[43m \u001b[49m\u001b[38;5;124;43m\"\u001b[39;49m\u001b[38;5;124;43mquery\u001b[39;49m\u001b[38;5;124;43m\"\u001b[39;49m\u001b[43m,\u001b[49m\n\u001b[1;32m    704\u001b[0m \u001b[43m        \u001b[49m\u001b[38;5;124;43m\"\u001b[39;49m\u001b[38;5;124;43msince_id\u001b[39;49m\u001b[38;5;124;43m\"\u001b[39;49m\u001b[43m,\u001b[49m\u001b[43m \u001b[49m\u001b[38;5;124;43m\"\u001b[39;49m\u001b[38;5;124;43mstart_time\u001b[39;49m\u001b[38;5;124;43m\"\u001b[39;49m\u001b[43m,\u001b[49m\u001b[43m \u001b[49m\u001b[38;5;124;43m\"\u001b[39;49m\u001b[38;5;124;43mtweet.fields\u001b[39;49m\u001b[38;5;124;43m\"\u001b[39;49m\u001b[43m,\u001b[49m\u001b[43m \u001b[49m\u001b[38;5;124;43m\"\u001b[39;49m\u001b[38;5;124;43muntil_id\u001b[39;49m\u001b[38;5;124;43m\"\u001b[39;49m\u001b[43m,\u001b[49m\n\u001b[1;32m    705\u001b[0m \u001b[43m        \u001b[49m\u001b[38;5;124;43m\"\u001b[39;49m\u001b[38;5;124;43muser.fields\u001b[39;49m\u001b[38;5;124;43m\"\u001b[39;49m\n\u001b[1;32m    706\u001b[0m \u001b[43m    \u001b[49m\u001b[43m)\u001b[49m\u001b[43m,\u001b[49m\u001b[43m \u001b[49m\u001b[43mdata_type\u001b[49m\u001b[38;5;241;43m=\u001b[39;49m\u001b[43mTweet\u001b[49m\n\u001b[1;32m    707\u001b[0m \u001b[43m\u001b[49m\u001b[43m)\u001b[49m\n",
      "File \u001b[0;32m/opt/anaconda3/lib/python3.8/site-packages/tweepy/client.py:166\u001b[0m, in \u001b[0;36mClient._make_request\u001b[0;34m(self, method, route, params, endpoint_parameters, json, data_type, user_auth)\u001b[0m\n\u001b[1;32m    163\u001b[0m     \u001b[38;5;28;01mif\u001b[39;00m param_name \u001b[38;5;129;01mnot\u001b[39;00m \u001b[38;5;129;01min\u001b[39;00m endpoint_parameters:\n\u001b[1;32m    164\u001b[0m         log\u001b[38;5;241m.\u001b[39mwarn(\u001b[38;5;124mf\u001b[39m\u001b[38;5;124m\"\u001b[39m\u001b[38;5;124mUnexpected parameter: \u001b[39m\u001b[38;5;132;01m{\u001b[39;00mparam_name\u001b[38;5;132;01m}\u001b[39;00m\u001b[38;5;124m\"\u001b[39m)\n\u001b[0;32m--> 166\u001b[0m response \u001b[38;5;241m=\u001b[39m \u001b[38;5;28;43mself\u001b[39;49m\u001b[38;5;241;43m.\u001b[39;49m\u001b[43mrequest\u001b[49m\u001b[43m(\u001b[49m\u001b[43mmethod\u001b[49m\u001b[43m,\u001b[49m\u001b[43m \u001b[49m\u001b[43mroute\u001b[49m\u001b[43m,\u001b[49m\u001b[43m \u001b[49m\u001b[43mparams\u001b[49m\u001b[38;5;241;43m=\u001b[39;49m\u001b[43mrequest_params\u001b[49m\u001b[43m,\u001b[49m\n\u001b[1;32m    167\u001b[0m \u001b[43m                        \u001b[49m\u001b[43mjson\u001b[49m\u001b[38;5;241;43m=\u001b[39;49m\u001b[43mjson\u001b[49m\u001b[43m,\u001b[49m\u001b[43m \u001b[49m\u001b[43muser_auth\u001b[49m\u001b[38;5;241;43m=\u001b[39;49m\u001b[43muser_auth\u001b[49m\u001b[43m)\u001b[49m\n\u001b[1;32m    169\u001b[0m \u001b[38;5;28;01mif\u001b[39;00m \u001b[38;5;28mself\u001b[39m\u001b[38;5;241m.\u001b[39mreturn_type \u001b[38;5;129;01mis\u001b[39;00m requests\u001b[38;5;241m.\u001b[39mResponse:\n\u001b[1;32m    170\u001b[0m     \u001b[38;5;28;01mreturn\u001b[39;00m response\n",
      "File \u001b[0;32m/opt/anaconda3/lib/python3.8/site-packages/tweepy/client.py:124\u001b[0m, in \u001b[0;36mClient.request\u001b[0;34m(self, method, route, params, json, user_auth)\u001b[0m\n\u001b[1;32m    122\u001b[0m     \u001b[38;5;28;01mraise\u001b[39;00m Unauthorized(response)\n\u001b[1;32m    123\u001b[0m \u001b[38;5;28;01mif\u001b[39;00m response\u001b[38;5;241m.\u001b[39mstatus_code \u001b[38;5;241m==\u001b[39m \u001b[38;5;241m403\u001b[39m:\n\u001b[0;32m--> 124\u001b[0m     \u001b[38;5;28;01mraise\u001b[39;00m Forbidden(response)\n\u001b[1;32m    125\u001b[0m \u001b[38;5;66;03m# Handle 404?\u001b[39;00m\n\u001b[1;32m    126\u001b[0m \u001b[38;5;28;01mif\u001b[39;00m response\u001b[38;5;241m.\u001b[39mstatus_code \u001b[38;5;241m==\u001b[39m \u001b[38;5;241m429\u001b[39m:\n",
      "\u001b[0;31mForbidden\u001b[0m: 403 Forbidden"
     ]
    }
   ],
   "source": [
    "query = 'covid -is:retweet place_country:US'\n",
    "\n",
    "tweets = client.search_all_tweets(query=query, tweet_fields=['context_annotations', 'created_at', 'geo'],\n",
    "                                   place_fields=['place_type', 'geo'], expansions='geo.place_id',max_results=100)\n",
    "\n",
    "\n",
    "# Get list of places from includes object\n",
    "places = {p[\"id\"]: p for p in tweets.includes['places']}\n",
    "\n",
    "for tweet in tweets.data:\n",
    "    print(tweet.text)\n",
    "    if places[tweet.geo['place_id']]:\n",
    "        place = places[tweet.geo['place_id']]\n",
    "        print(place.full_name)\n",
    "    print ('=======')\n"
   ]
  },
  {
   "cell_type": "code",
   "execution_count": null,
   "id": "9ac2eec9",
   "metadata": {},
   "outputs": [],
   "source": []
  },
  {
   "cell_type": "code",
   "execution_count": null,
   "id": "2ee230fe",
   "metadata": {},
   "outputs": [],
   "source": []
  },
  {
   "cell_type": "code",
   "execution_count": null,
   "id": "05b1babd",
   "metadata": {},
   "outputs": [],
   "source": []
  },
  {
   "cell_type": "code",
   "execution_count": null,
   "id": "b15d3af6",
   "metadata": {},
   "outputs": [],
   "source": []
  },
  {
   "cell_type": "code",
   "execution_count": null,
   "id": "b8551d92",
   "metadata": {},
   "outputs": [],
   "source": []
  }
 ],
 "metadata": {
  "kernelspec": {
   "display_name": "Python 3 (ipykernel)",
   "language": "python",
   "name": "python3"
  },
  "language_info": {
   "codemirror_mode": {
    "name": "ipython",
    "version": 3
   },
   "file_extension": ".py",
   "mimetype": "text/x-python",
   "name": "python",
   "nbconvert_exporter": "python",
   "pygments_lexer": "ipython3",
   "version": "3.8.8"
  }
 },
 "nbformat": 4,
 "nbformat_minor": 5
}
