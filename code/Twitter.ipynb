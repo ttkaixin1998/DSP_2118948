{
 "cells": [
  {
   "cell_type": "code",
   "execution_count": 8,
   "id": "26fd3f66",
   "metadata": {},
   "outputs": [],
   "source": [
    "import tweepy\n",
    "\n",
    "#AAAAAAAAAAAAAAAAAAAAAIPigAEAAAAA64aeG60pydtseMVb%2BGO8DUKDueM%3DAn6Zp0E3hyfEjzYEh9e3iQYA25t9XpxJz7NHEt5e5SbAAhYphX"
   ]
  },
  {
   "cell_type": "code",
   "execution_count": 9,
   "id": "754fc9e2",
   "metadata": {},
   "outputs": [],
   "source": [
    "#create tweepy client using only bearer code (from your developer dashboard)\n",
    "client = tweepy.Client(bearer_token='AAAAAAAAAAAAAAAAAAAAAIPigAEAAAAA64aeG60pydtseMVb%2BGO8DUKDueM%3DAn6Zp0E3hyfEjzYEh9e3iQYA25t9XpxJz7NHEt5e5SbAAhYphX')"
   ]
  },
  {
   "cell_type": "code",
   "execution_count": 19,
   "id": "61674f7b",
   "metadata": {
    "scrolled": true
   },
   "outputs": [
    {
     "name": "stdout",
     "output_type": "stream",
     "text": [
      "=====text 1=====\n",
      "TCL 55-Inch Class 4K (2160p) Smart LED TV, HDR10, 120Hz Refresh Rate, Digital Dolby, Personalized Home Screen+ Free Wall Mount (No Stands) – 55S433 (Renewed) https://t.co/PIJxpdQ6L7\n",
      "=====text 2=====\n",
      "BroadLink TV Universal Remote, Alexa Voice Control for Samsung TCL RoKu VIZIO TV and More, All Samsung LCD LED HDTV 3D Smart TV Models, BN59-01199F BN59-01259E. Works with Alexa, Google Home, IFTTT https://t.co/tEGkf8d0sP\n",
      "=====text 3=====\n",
      "RT @TCL_USA: Happy #NationalVideoGamesDay! Today is the perfect day to sit in front of your TV and squad up with friends. #GameOnTCL 🏆\n",
      "\n",
      "htt…\n",
      "=====text 4=====\n",
      "Happy #NationalVideoGamesDay! Today is the perfect day to sit in front of your TV and squad up with friends. #GameOnTCL 🏆\n",
      "\n",
      "https://t.co/L1PquFBV76 🎮 https://t.co/npQxZ80JTJ\n",
      "=====text 5=====\n",
      "Check this out at Amazon TCL 32S5209K TV- 32-Inch TV Smart HD Television with Android TV - HDR &amp; Micro Dimming - Compatible with Google Assistant, Chromecast &amp; Google Home, Slim Design, Dolby Audio, Bluetooth, Wi-Fi https://t.co/8onFqmdU74\n",
      "=====text 6=====\n",
      "TCL 55P739 55 Zoll Fernseher, 4K HDR, Ultra HD, Smart TV Powered by Google TV, Rahmenloses Design (Dolby Vision &amp; Atmos, Freihändige … (Affiliate Link, Details siehe Bio)\n",
      "https://t.co/VIrMUZwtkQ\n",
      "=====text 7=====\n",
      "RT @TCL_Global: What’s better than cool air? FRESH air! 🌲💨😍\n",
      "Meet #TCL #FreshIN_AC, your new #AC expert. With features of the QuaruPuri filt…\n",
      "=====text 8=====\n",
      "What’s better than cool air? FRESH air! 🌲💨😍\n",
      "Meet #TCL #FreshIN_AC, your new #AC expert. With features of the QuaruPuri filtration and smart Temperature Balance, you’ll experience the comfort of nature right at home.\n",
      "#TCLInspireGreatness\n",
      "#IFA2022\n",
      "👉🏻https://t.co/IFMUwAYREM https://t.co/uDGt8F0SoK\n",
      "=====text 9=====\n",
      "There is also the new released R655 that came out in The USA. 4k 144hz support for $700 USD 👀https://t.co/qDEfB7PA7V\n",
      "=====text 10=====\n",
      "RT @TCL_USA: The best way to honor your favorite team this season is with a big 98\" QLED TV. Redefining the way you watch sports is part of…\n"
     ]
    }
   ],
   "source": [
    "query='TCL Smart Home'\n",
    "tweets=client.search_recent_tweets(query=query,tweet_fields=['context_annotations', 'created_at'])\n",
    "n=1\n",
    "for tweet in tweets.data:\n",
    "    print('=====text '+str(n)+'=====')\n",
    "    print(tweet.text)\n",
    "    n+=1"
   ]
  },
  {
   "cell_type": "code",
   "execution_count": null,
   "id": "63b1d7f6",
   "metadata": {},
   "outputs": [],
   "source": []
  },
  {
   "cell_type": "code",
   "execution_count": 22,
   "id": "b0301c9d",
   "metadata": {},
   "outputs": [
    {
     "name": "stdout",
     "output_type": "stream",
     "text": [
      "#JusticeForBasarat\n",
      "On the day you @antonioguterres  visited Pakistan, Rangers set fire to the house of the leader of Pakistan's third largest political party  , and as usual today, they threw the dead body of the leader's worker. Who was missing seven years ago by the Rangers https://t.co/OWODzpAr1l\n",
      "71% of Microsoft 365 users have experienced an account takeover and 81% have suffered an email breach. Now is the time for you to join the many Microsoft users considering Microsoft-recommended third-party data protection. Learn more: https://t.co/9VpKElzl7n https://t.co/FdBZuPEUwI\n",
      "Did you know that ordering from a third-party delivery app will cost you more? That's why we urge you to #orderdirect from the restaurants you love! Not only will you save an average of 15% per order; you'll also help your local businesses thrive! https://t.co/FTRYiXz1QI\n",
      "This morning, there was a third-party contact to our powerlines in Bonnyville, causing an outage to some areas. Our crews are onsite working as safely and quickly as possible to restore power to the area. Estimated time of restoration is 4 p.m. We thank you for your patience. https://t.co/9qsh5trqoz\n",
      "Wells Fargo to Commission Third-Party Racial Equity Audit - https://t.co/yhAORfFMfx\n",
      "Next step in company’s ongoing efforts to support diversity, equity, and inclusion\n",
      "SAN FRANCISCO--(BUSINESS WIRE)--Wells Fargo &amp; Company (NYSE: WFC) announced today that it will commission an e... https://t.co/vsYJqSY5MU\n",
      "There are a few areas where marketers can &amp; should simplify their thinking around the data-driven future. Look at the most common misconceptions marketers should avoid in order to simplify their thinking about third-party data @EyeotaTweets https://t.co/ATNisDJQuo #partnercontent https://t.co/11sPtN8Lzq\n",
      "IP Blacklist Checker\n",
      "\n",
      "Use this tool to check if your IP address is blacklisted: if your IP is listed in a third party blacklist database. This tool checks nearly 100 DNS-based anti-spam databases....\n",
      "\n",
      "#websitesecurity #cybersecurity\n",
      "\n",
      "https://t.co/fPErVLehf8 https://t.co/u7ukvphg0r\n",
      "DC DMV provides road skills testing for automobile and commercial drivers. You can test with DC DMV personnel at the Deanwood Road Test Office or with a third party. An appointment is required to take the road skills test with DC DMV.\n",
      "\n",
      "Learn more: https://t.co/XLDBrrXOnS https://t.co/gAXvU9uMnJ\n",
      "#nft #bored #coffe #café #cafe #NFTs #NFTGiveaway #NFTCommunity #NFTartist \n",
      "Only $1,62 Own creation, not third-party copy\n",
      "219 pieces \n",
      "\n",
      "Check out my item listing on OpenSea! https://t.co/9U3zHMbUmi via @opensea https://t.co/fxbHHsktT6\n",
      "@XenosysVex Me when I use third-party features they’re going to implement in the next patch https://t.co/DGZwDV0PcY\n",
      "Rep Carolyn Maloney says Trump had plenty of chances to come clean on missing docs. States, \"I urge NARA to seek from Trump a written certification that has surrendered all pres records, made no copies &amp; not gave records to third party.\" It would be a trap &amp; Trump won't sign it! https://t.co/I55iaKKFff\n",
      "📢Join this webinar as our speakers present the T&amp;S challenges brought on by the metaverse’s rapid growth, risk mitigation strategies for these challenges, and what this means for the third-party T&amp;S services market.\n",
      "https://t.co/MepP5UblNb https://t.co/vEdB4i9WWO\n",
      "Did you know...\n",
      "\n",
      "Bitcoin was the first “cryptocurrency”, so named because it didn’t rely on a third party but instead used “cryptography” to secure and verify transactions as well as to control the creation of new coins.\n",
      "\n",
      "#AmericanCrypto #cryptocurrency #blockchains #education https://t.co/ofLxxCimyp\n",
      "Better your staff conditions and your company!\n",
      "\n",
      "Choosing a TPA is important for your business, so be sure to take the time to find an ideal one for your employees’ needs. \n",
      "\n",
      "https://t.co/cmtv2zLo7P https://t.co/b46CoFdfgf\n",
      "@Naeshafantasy Don’t do it. Instagram deleted accounts with third party integrations like unfollow apps https://t.co/DR4Y9DpRsf\n",
      "Wells Fargo to commission third-party racial equity audit in diversity push  https://t.co/kyIaniHi2d https://t.co/dKPDZYuDyI\n",
      "Wells Fargo to commission third-party racial equity audit in diversity push https://t.co/opkQdiSBd2\n",
      "🔥🔥🔥\n",
      "\n",
      "Did you know you can save your token on thrift finance. No third-party can access your data.\n",
      "\n",
      "#RealFi #Cardano #buildingoncardano https://t.co/5njvZVd0an\n",
      "If anyone online offers you a free game, put them through the wringer. Risking downloading malware through a third party \"installer\" is not worth the risk for a game you've never heard of from a discord user who hasn't been around for long. https://t.co/oymicylUXv\n",
      "Wells Fargo to commission third-party racial equity audit in diversity push https://t.co/mSeNKqj41n https://t.co/bNILd9fr5Z\n",
      "@Lawyer_Dental And the Rolex dial is supposed to look like this. The one in the picture, that I fitted to the watch myself this morning, isn't half as good on quality because my client bought it from a third party who paints them himself. You know, like an aftermarket part. https://t.co/qC38TmX7Cs\n",
      "Wells Fargo to commission third-party racial equity audit in diversity push https://t.co/uAkwji385V https://t.co/AZdx9gaAlS\n",
      "Wells Fargo to commission third-party racial equity audit in diversity push https://t.co/oBHyqTrxK7 https://t.co/4kfpcuKKTA\n",
      "https://t.co/GaegOBFzIC: Wells Fargo to commission third-party racial equity audit in diversity push https://t.co/ej8Nk9E25D Join us at https://t.co/4qJTqkanN6 #stocks #investing #investment https://t.co/V9G18uueIk\n",
      "On the day you @antonioguterres  visited Pakistan, Rangers set fire to the house of the leader of Pakistan's third largest political party @AltafHussain_90 , and as usual today, they threw the dead body of the leader's worker. Who was missing seven years ago by the Rangers https://t.co/eMrpBMwBx0\n",
      "Mac is up to no good, once again. Sending a list of competitive customers over email, what could go wrong? Find out if he gets away with it or if, thanks to certain policies out in place, he must answer to Calvin the Compliance Cow.\n",
      "https://t.co/5Nn9gngXI3\n",
      " \n",
      "#Kitetoons #Kiteworks https://t.co/5MW6woeHuC\n",
      "https://pbs.twimg.com/ext_tw_video_thumb/1569754318781169665/pu/img/wLpzddIQeEX66UOD.jpg\n",
      "@antonioguterres  On the day you visited Pakistan, Rangers set fire to the house of the leader  of Pakistan's third largest political party @AltafHussain_90 , and as usual today, they threw the dead body of the leader's worker. Who was missing seven years ago by the Rangers. https://t.co/QhnHovT8RI\n",
      "@BatmanGate @MrPhilaSports Copyright can be cancelled if the Copyright office finds the registry to be invalid, doesn't fulfill the requirements or if it inflicts with the copyright of a third party\n",
      "\n",
      "Which considering you attempting to copyright a Batman story it absolutely will be taken down https://t.co/S57k6T9PEZ\n",
      "and this is why third-party discovery exists\n",
      "\n",
      "20/ https://t.co/pN4oalD1qI\n",
      "@lynxrattle @YWNReporter You really can't be serious. Trying to justify the destruction of an entire people's way of life just because of what a third party nation does. \n",
      "\n",
      "This is what the Azeris want. https://t.co/smkhfA13zf\n",
      "9/17 from 3 to 6 p.m.: Come by for the Third Annual Sasquanag Block Party, a Southport community celebration with live music, food trucks, lawn games, Touch-a-Truck and more. Visit https://t.co/27HBOmZB63 and @sasquanaug for more information. (Rain date: September 18) https://t.co/qKvfBKVm4d\n",
      "A third of Americans are openly anti-democratic. Mostly the younger and the poorer. No matter party!!! No matter politics!!!\n",
      "\n",
      "\"The economy, stupid\" – Carville, 1992. 30 yrs later, our establishment is still criminally stupid. No matter Harvard or Yale.\n",
      "\n",
      "https://t.co/ney41BiBlY https://t.co/oLi1P39h7s\n",
      "Festus Keyamo advocates for a third force that could oust the APC from power as he feels he'll be a fool to say the APC is the best thing to happen to Nigeria. According to him, the APC is a party of thieves and criminals who only came together to remove the PDP from power. https://t.co/S4cnQojgJS\n",
      "Wells Fargo to Commission Third-Party Racial Equity Audit https://t.co/TwsQrzeQ18 https://t.co/Yd48Yu9Unf\n",
      "In focus: Walmart Marketplace’s push to grow third-party seller base [Member-exclusive content] https://t.co/C4E2BPYpnb via Digital Commerce 360 #ecommerce #addoncommerce https://t.co/46DEpH0rEn\n",
      "Service Express Acquires Third-Party Data Center Maintenance Provider Sherlock Services - PR... https://t.co/zftUdtepj3 https://t.co/TouZLblcpM\n",
      "Business leaders must plan for the domino effects of risk events. Collaboration, third-party data and #ArtificialIntelligence (AI) can be vital tools via @TechBeaconCom. https://t.co/5SqziGBmZ7 https://t.co/KPgk13VBA9\n",
      "Emerging tech, omni-channel engagement, and the end of third-party cookies are just the beginning. Discover where marketing is headed, faster than ever. Tune in now to the latest season of Bold stories. Future focused. https://t.co/WelHsaNKyt https://t.co/LKbzycW2sa\n",
      "PrettyGreenltd: This September, we open our third UK store location within the flourishing cultural city of Leeds. Register your interest now for our official Leeds Launch Party &gt; https://t.co/OiO1skEc6V https://t.co/Is1VgKs7At\n",
      "How clean are data clean rooms? Moderator Shailley Singh is discussing the anxiety of the exit of third-party cookies with panelists Allyson Dietz of @Nuestar, Soumya Donkada-Martinez of @UnileverUSA, Ted Flanagan of @HabuHub, and Jing Suk of @WavemakerUSA #AudienceConnect22 https://t.co/TpYRYt7tGQ\n",
      "*Watches today's #NintendoDirect... Sees a ton of third-party titles, farm simulators, and NO #SuperMarioMovie trailer* https://t.co/QrH1tbx4VU\n",
      "https://pbs.twimg.com/ext_tw_video_thumb/1569746617770676226/pu/img/_1xpVOV-9-wugM0Y.jpg\n",
      "📢Join this webinar as our speakers present the T&amp;S challenges brought on by the metaverse’s rapid growth, risk mitigation strategies for these challenges, and what this means for the third-party T&amp;S services market.\n",
      "https://t.co/0lX4SvoT9V https://t.co/WsHogqL1Ng\n",
      "Third Party Metal build Sinanju came in. Details are out of this world. https://t.co/xs7pgZugEy\n",
      "$AWON 3/3\n",
      "✅ Order approving termination of custodianship granted today\n",
      "✅News of merger coming\n",
      "✅Has engaged a third-party auditor firm (e.g.PCAOB Qualified) to complete a two-year\n",
      "audit on the Company\n",
      "✅Fresh story\n",
      "✅Form 10 will be filed next\n",
      "✅Fully SEC reporting on progress https://t.co/GgLpYm414W\n",
      "Así queda el calendario de lanzamientos de Nintendo (solo first party o third parties exclusivos, y sin contar DLCs o actualizaciones):\n",
      "\n",
      "2022\n",
      "20 de Octubre &gt; Mario + Rabbids: Sparks of Hope\n",
      "28 de Octubre &gt; Bayonetta 3\n",
      "18 de Noviembre &gt; Pokémon Scarlet &amp; Violet https://t.co/PsKW9oWR5U\n",
      "A digital management company in Belgium faces a fine for breaching the GDPR in relation to the processing of third-party data.\n",
      "\n",
      "https://t.co/b1eC7QWMsg\n",
      "\n",
      "#Fine #Belgium #Europe #EU #GDPR #DataProtection #Privacy #DataBreach https://t.co/0BLG3axcSJ\n",
      "Join our webinar to learn how third-party shadow code and client-side attacks are a security challenge, and what you can do to protect your customers. Register today  #javascript #clientside #threatactors #cybersecurity https://t.co/ygzQa0vilw https://t.co/yENSTu0Tee\n",
      "We learned of Nami’s origin from Genzo, a third party who may be an unreliable source. \n",
      "\n",
      "Given the shocking amount of fake news circulating in the One Piece world, we shouldn’t be quick to assume that Bellemère told Genzo the whole truth.\n",
      "\n",
      "Is “Nami” even her real name? https://t.co/Hr1y678O7p\n",
      "Third-party ownership of distributed #solar continues to slide, as more customers prefer to own.  Residential TPO share in the dataset fell from 60% to 28% since 2012. More facts in our report and data at https://t.co/nTUK8b8zmh 10/x https://t.co/rqLrTYaZKw\n",
      "Party party yeah! Work party for our third anniversary https://t.co/CquFIib7NG\n",
      "#applewatch tip: Apple Watch Tip: Use Shazam Automatically and Never Miss a Song. Use Shazam Automatically. Like Android, Apple also uses third party apps to create a plethora of cool features for your new device, and some of those… https://t.co/di2rqoJimC #productivity https://t.co/zhoScVrolP\n",
      "Little known fact, @bonfida sales fees depends on your $FIDA holdings, here is the breakdown of the fees charged by them on sales. This is only for auctions, not for direct sales, this does not apply for sales on third party NFT marketplaces.\n",
      "\n",
      "More info: https://t.co/cCFEAKEWvV https://t.co/DL8uAqiqra\n",
      "Nothing will help you unwind and recuperate after a long day like CBD bath salts; we made ours with all-natural ingredients and third-party tested hemp.\n",
      "\n",
      "https://t.co/9BpXpLcg4I https://t.co/UtvydVYF6l\n",
      "Although often known as the \"Crane Rule,\" 29 CFR 1926 also had requirements for Signalpersons and Riggers that went into effect rather quickly. Both Signalpersons and Riggers are required to be qualified, and third-party accredited certification from CCO is the best solution. https://t.co/Y0rY2hx615\n",
      "Reg F Question of the Week: What are the exceptions to prohibitions on third-party communications? The CFPB recently updated its FAQs on the Reg F debt collection rule, including information about prohibitions on third-party communications. More here: https://t.co/IQoveSak4z https://t.co/E6mXwXd8od\n",
      "This September, we open our third UK store location within the flourishing cultural city of Leeds. Register your interest now for our official Leeds Launch Party &gt; https://t.co/rQOS9UDvxr https://t.co/XfVih9FJQa\n",
      "\"From a website perspective, first-party cookies can determine the information they need to collect and store.\" 🍪  \n",
      "\n",
      "#websitecookies #digitalmarketing  https://t.co/xfbExaRcgb https://t.co/WnvhB83s8T\n",
      ".@mrgeffitas published its antivirus efficacy assessment results and we earned the highest score for a 4th consecutive quarter! We also received certifications for Level 1, Exploit, Online Banking, and Ransomware. https://t.co/PmH0Ns7DT1 https://t.co/EgSFtcopmo\n",
      "Well I have so many things to say about this Nintendo Direct. It’s been 7 months since we had a traditional Direct. The last Directs we had were indie titles, third-party titles, and focused solely on a single game. But there are some games I’m looking forward to playing here! https://t.co/lMEOYIi5dy\n",
      "Cancercom segue sendo a PIOR third party do Nintendo Switch. A porra da ELETRONIC ARTS vai ter jogo nativo no console esse fim de ano e essa “grande parceira” não.\n",
      "\n",
      "Acreditem: ha quem defenda! https://t.co/Yht63Wnfp4 https://t.co/grnDq44ubJ\n",
      "https://pbs.twimg.com/ext_tw_video_thumb/1569728925453934592/pu/img/o2MVOgXB7UmPobpk.jpg\n",
      "@SteveHarveyFM \n",
      "Signal all the Obama administration immediately since the IRS offices USA wide still keep acting hateful funny indirectly and directly in third party format like they don't know how to cash app me my stimulus checks and income tax refunds since I paid taxes https://t.co/SSksjJOZbR\n",
      "@GioBruno1600 We need a third party. https://t.co/nbqsZBUA7r\n",
      "Our self-serve product is live for everyone to track and manage their risk, goals, and portfolio. Access to third-party advisors is currently on a waitlist – we are working on opening up to everyone ASAP! https://t.co/nLJGyMRvox\n",
      "[PODCAST] @GeorgesDyer discusses with host Paul Fleming the evolution towards seeking third party assistance to help #NotForProfits overcome challenges and achieve the objectives of their #NFP organization. #investing https://t.co/Y9JoGvZXEg https://t.co/3ZBuies2QA\n",
      "Every API, endpoint or third-party API can expand an organization’s attack surface. @SaltSecurity Field CTO Nick Rago explains how API discovery tech helps discover, inventory &amp; document APIs @ABridgwater @ComputerWeekly ➡️ https://t.co/KXlaLOp1j4\n",
      "\n",
      "#apimanagement #apisecurity https://t.co/KDZD2Y3gLM\n",
      "Identify and remediate vulnerabilities at scale with NinjaOne.\n",
      " \n",
      "NinjaOne automates patching for Windows, Mac, and Linux endpoints along with over 130 common third party applications.\n",
      "\n",
      "https://t.co/w6HePE2VFE https://t.co/W4JbLn0S58\n",
      "Carl Craig - Party / After-Party vinyl cut in Detroit at Third Man Mastering https://t.co/6Nvi3e3iF7\n",
      "Opera Crypto Browser Rolls out Support For Metamask And Other Web3 Wallets - https://t.co/9YMyrgUruk\n",
      "Summary:\n",
      "\n",
      "Opera Crypto Browser now supports third-party wallets.Integration for Ethereum wallet Metamask among others was announced this week.The move could be strategic as E... https://t.co/c1cF6m6iv8\n",
      "#behindthescenes Checking the venue and testing equipment for #ZWorld Europe 2022, our annual event to connect with European resellers, key clients, and third-party application partners. We look forward to seeing all our attendees tomorrow! https://t.co/Cqr8lAFAEu\n",
      "Opera Crypto Browser, a Web3-focused browser built to work with a variety of decentralized apps (dApps), now supports third-party wallets such as MetaMask.\n",
      "\n",
      "https://t.co/5HB9GDSmOR #fintech #web3 #crypto https://t.co/AR7ZscPFGD\n",
      "Does your farm have an advisory board? By having third party advisors involved in your business you get a team of experts in different professions that can help you strategize and push forward.\n",
      "\n",
      "#farmbusiness #cdnag #agadvisors https://t.co/2665XpVTlR\n",
      "Did you know? Over 63% of data breaches are linked to third-party entities, according to the SEC. Join us to learn how to avoid common risk pitfalls and streamline reporting for coming cyber regulations.\n",
      "\n",
      "Register here: https://t.co/4L7o7vuliB\n",
      "\n",
      "#riskmanagement #compliance #cyber https://t.co/NPsj20vh6J\n",
      "#IRS has added new information in traditional Chinese to help with tax authorizations as part of a growing multilingual effort to supports taxpayers and to help tax pros and third-party designees. Read more: https://t.co/Tx8SN6Gvhl https://t.co/sqjQh3h6bF\n",
      "Breaking News!!\n",
      "\n",
      "We've got a limited edition run of gorgeous d6+d20 dice, custom-made by the talented @/dicekatdice 🎲\n",
      "\n",
      "The dice tie into A Haunting in the Orchard, our third mystery dinner party rpg\n",
      "\n",
      "Available NOW! https://t.co/ciB8Re9OYm\n",
      "Did you know that Diversey uses several eco labels for certification of our products? Third-party companies independently validate our products and have  strict criteria on environment, health, packaging and safety. https://t.co/l3H033UydE #Diversey #Sustainability #GoingGreen https://t.co/fIN2Vk0e39\n",
      "Lock Screen podcast art works in third-party apps like Pocket Casts too! Even pulls custom episode artwork (like these from @moviesontheside 😏) https://t.co/yrXfsPKlPi https://t.co/g2CWMAC3mx\n",
      "Tired of expensive and poor-quality software support? Consider switching to third-party software support and receive responsive, personalised support within minutes.\n",
      "\n",
      "Learn More: 👉 https://t.co/r28yOnvK8h 👈\n",
      "#OracleDatabase #OracleCloud #OracleSupport #Oracle https://t.co/BEzsTb9RpG\n",
      "🏆 The Survival Score Reward\n",
      "\n",
      "Evaluates a borrower’s ability to avoid liquidations on any indexed third-party platform relative to the rest of the market, rewarding or subtracting points proportional to the “liquidation density” on a given day. https://t.co/QWVu3h6djg\n",
      "Paint-Parties are now happening at The Event Center in Dallas!\n",
      "\n",
      "Every Third Thursday -- open to ALL ages - NO experience required - a different painting each month!\n",
      "\n",
      "https://t.co/vI90D3oc1P https://t.co/APeGpcRX6J\n",
      "Traditional business liability insurance normally covers personal and property damage, not data or the remediation of a #cyberattack. \n",
      "\n",
      "Normally, #cyberinsurance covers both the victim organization and third-party costs. ✅\n",
      "\n",
      "Learn more: https://t.co/8swmfWYaVz https://t.co/EOgedJEIrP\n",
      "There’s a compelling reason why so many employers rely on third-party administrators to manage their COBRA programs.\n",
      "\n",
      "Read more about the pains and potential penalties associated with COBRA self-administration: https://t.co/afsqEOEoiR https://t.co/5Kp6oygY8G\n",
      "@OptimalOpinions We did. He's getting killed. Roughly 1 in 5 within his own party would vote for a third party candidate over him, largely due to his unpopularity with DEM-leaning voters who do NOT hold an advanced degree and also non-white. https://t.co/utppvmeI1C https://t.co/0R32whhc6J\n",
      "This upcoming Law Firm Ambition webinar will cover topics such as operational areas that suit outsourcing, what outsourcing success looks like and third-party risk management. Join Bill Kirby, @AH_cashroomltd, @GuyKerkvliet, Becci Wicks @LloydsBankBiz and Paul Smith. https://t.co/Rd5GaIpuUr\n",
      "Credentials stored in third-party software can be a weak spot that allows an attacker a way into an organization. Read our analysis and learn how to protect against common techniques. https://t.co/wYiwS9OonV https://t.co/qfmzFRMKaY\n",
      "“For the most part, when it comes to ransomware in the OT/IoT space, the health sector has mainly been affected by attacks against third party suppliers,” Denise Anderson, president and CEO of Health-ISAC, told @IndustCybersec. \n",
      "https://t.co/hmfo2LW5nC #healthit #IoMT  #TPRM https://t.co/NTjh6eHDCT\n",
      "Ideally, tests should be able to create their independent data, rather than relying on third-party services.\n",
      "\n",
      "Read more 👉 Top 3 Reasons for Test Automation Failures and Solutions -  https://t.co/GeBqsH8eKw\n",
      "\n",
      "#TestAutomationFailures #TestAutomation #TestingProcess #AnArSolutions https://t.co/XFcKNNHiKH\n",
      "Neither @NedLamont nor @bobforgovernor raised a dime in district, why are they legitimate candidates to the @lwvct but third parties aren’t? Neither major party candidates even meet the criteria anyway and yet you ban third party candidates from debates with the @wnpr! Sketchy AF https://t.co/hYVmjOXcUQ\n",
      "Learn how our perimeter security solutions integrate with third-party monitoring systems such as Genetec and Milestone at Southwest Microwave booth #1534 at #GSX2022. Details: https://t.co/b4tIfW8b1x https://t.co/FvDwKnUXq9\n",
      "https://pbs.twimg.com/ext_tw_video_thumb/1569711347142631424/pu/img/jnx0w_ASkYGA-Iu2.jpg\n",
      "Goldman Says China Will Stick to COVID Zero Into 2023 Even After Communist Party Meeting\n",
      "\n",
      "Areas around Beijing locked down as political meeting looms\n",
      "\n",
      "President Xi Jinping is expected to secure a precedent-breaking third term\n",
      "\n",
      "https://t.co/WGhJAqcZy4 https://t.co/wjuaj4LTZI\n",
      "China's Communist Party Congress could hand President Xi Jinping an unprecedented third term.  Hopes Beijing will then focus on growth are likely misplaced. As the economy slows, investors may fixate on signs of the worst, says @ywchen1 https://t.co/xib0eg9wNY https://t.co/UEpagT9VqT\n",
      "Paint-Parties are starting at Golden Valley Brewery!  Every Third Tuesday!\n",
      "\n",
      "Come and celebrate LIFE, by painting \"Apple Harvest\" - NO experience required - ALL ages welcome - FUN guaranteed!  I'll walk you through it, step-by-step, and help you find\n",
      "\n",
      "https://t.co/X7rK50rApj https://t.co/4wH2st2neK\n",
      "@gyubano hiii skl pero you can now remove the background sa mga pics without third party apps 🥹 https://t.co/xb0nXoLIpH\n",
      "In third-party testing, the dose of UV light delivered by OhmniClean was proven to be robust, strong, and effective, regardless of the distance from or the amount of time for which it was administered.\n",
      "\n",
      "Check out the full results in our latest blog post!\n",
      "\n",
      "https://t.co/HqTbeH3txC https://t.co/SBivBn0RqW\n",
      "Zomato support kaisa support karte hai agar hum raider diye gaye pay se satisfied nahi hai toh investigate karne ke jaga jo third party wale reply karte hai tickets ka vo khud ko company samaj rahe hai https://t.co/9YBYMJzEX3\n",
      "Another article written by another author of the forthcoming papers shows what they mean when they talk about \"regulated stablecoins\" (Btw, that fits what I said about US issuing a stablecoin through a trusted third party (so a Bank) instead of a CBDC): https://t.co/B2BIBLsfnV https://t.co/cP3uQIFW7o\n",
      "[1] It is no longer a surprise why many hotels outsource a vital part of their operational strategy – like revenue management – to a third party. A few of the biggest reasons boil down to the fact that the skills of expertise are hard to quality and because of cost reasons. https://t.co/vpQTXCOrGA\n",
      "@MarkleDuchess Meghan don’t worry we know the trick \n",
      "Police using members of the public as a third party not shake your hand it is a trick used in sorcery to creat negative energy so you start anticipating and expecting the worst Stay positive don’t take notice https://t.co/SE57DxxNrf\n",
      "How SNAP facilitates access to ESA Third Party Missions data @esa #satellitedata #earthobservation #dataprocessing\n",
      "https://t.co/wijABXlDwf https://t.co/lbswWtVre6\n",
      "Meghan don’t worry we know the trick \n",
      "Police using members of the public as a third party not shake your hand it is a trick used in sorcery to creat negative energy so you start anticipating and expecting the worst Stay positive. Energy techniques using eye contact. https://t.co/Bhy2ewCvfv\n",
      "The bait is on.\n",
      "According to occidental sources.\n",
      " A third party authorities\n",
      "In the middle east purposely leaked the news of the king of #Morocco personally attending the Arab summit to put #Algeria to test.\n",
      "The clock is ticking if other leaders would attend or decline. https://t.co/9rP8aZncdX\n"
     ]
    }
   ],
   "source": [
    "query = 'third party -is:retweet has:media'\n",
    "\n",
    "tweets = client.search_recent_tweets(query=query, tweet_fields=['context_annotations', 'created_at'],\n",
    "                                     media_fields=['preview_image_url'], expansions='attachments.media_keys',\n",
    "                                     max_results=100)\n",
    "\n",
    "# Get list of media from the includes object\n",
    "media = {m[\"media_key\"]: m for m in tweets.includes['media']}\n",
    "\n",
    "for tweet in tweets.data:\n",
    "    attachments = tweet.data['attachments']\n",
    "    media_keys = attachments['media_keys']\n",
    "    print(tweet.text)\n",
    "    if media[media_keys[0]].preview_image_url:\n",
    "        print(media[media_keys[0]].preview_image_url)"
   ]
  },
  {
   "cell_type": "code",
   "execution_count": 80,
   "id": "6883b62c",
   "metadata": {
    "scrolled": true
   },
   "outputs": [
    {
     "data": {
      "text/html": [
       "<div>\n",
       "<style scoped>\n",
       "    .dataframe tbody tr th:only-of-type {\n",
       "        vertical-align: middle;\n",
       "    }\n",
       "\n",
       "    .dataframe tbody tr th {\n",
       "        vertical-align: top;\n",
       "    }\n",
       "\n",
       "    .dataframe thead th {\n",
       "        text-align: right;\n",
       "    }\n",
       "</style>\n",
       "<table border=\"1\" class=\"dataframe\">\n",
       "  <thead>\n",
       "    <tr style=\"text-align: right;\">\n",
       "      <th></th>\n",
       "      <th>text</th>\n",
       "      <th>created_at</th>\n",
       "    </tr>\n",
       "  </thead>\n",
       "  <tbody>\n",
       "    <tr>\n",
       "      <th>0</th>\n",
       "      <td>@XiaomiEspana Me gusta porque a través de la aplicación Xiaomi Home puedo controlar el comportamiento del dispensador regulando las horas en la que dispensará la comida. Xiaomi Smart Pet Fountain que mantiene el agua limpia y fresca 24 horas aparte de que es silenciosa #XiaomiSmartPets</td>\n",
       "      <td>2022-09-13 20:11:29+00:00</td>\n",
       "    </tr>\n",
       "    <tr>\n",
       "      <th>1</th>\n",
       "      <td>La Smart TV \"Mi TV P1 32\" Xiaomi ofrece grandes posibilidades gracias a su sistema Android y su tecnología Smart Home https://t.co/rd5l6faiDz</td>\n",
       "      <td>2022-09-13 17:38:37+00:00</td>\n",
       "    </tr>\n",
       "    <tr>\n",
       "      <th>2</th>\n",
       "      <td>Xiaomi NEW WIDETECH Internet Smart Home Dehumidifier 18L Hygroscopic Dehumidifier เครื่องลดความชื้น ควบคุมผ่านแอพได้ [GOX7NMF]\\n\\nhttps://t.co/I4JFSiJGlt</td>\n",
       "      <td>2022-09-13 11:48:35+00:00</td>\n",
       "    </tr>\n",
       "    <tr>\n",
       "      <th>3</th>\n",
       "      <td>Le @AqaraSmarthouse Smart Radiator Thermostat E1 est disponible en France (promo TRVE1UKEU)\\nhttps://t.co/rQRxfp5SGO\\n\\nZigbee 3.0 | Contrôle Vocal | Autonomie 1 an | Mode Anti-Gel | Regroupement de produits | App Aqara Home, HomeKit\\n\\n#Xiaomi #Aqara #Domotique #UniversXiaomi https://t.co/lWSwlHd9NY</td>\n",
       "      <td>2022-09-13 09:22:35+00:00</td>\n",
       "    </tr>\n",
       "    <tr>\n",
       "      <th>4</th>\n",
       "      <td>Slamoof#life #getoutside #amazing Xiaomi Mijia Wiha Daily Use Screw Kit 24 Precision Magnetic Bits Alluminum Box https://t.co/l53kBtP7Xd https://t.co/inSbiZJ0aJ</td>\n",
       "      <td>2022-09-13 03:49:07+00:00</td>\n",
       "    </tr>\n",
       "    <tr>\n",
       "      <th>5</th>\n",
       "      <td>Coupon Coupon XIAOMI Smart Outdoor Security Camera 1080P Wireless 5700mAh Rechargeable Battery Powered IP65 Waterproof Home Security Camera with WDR Smart Night Vision Two-way Audio PIR Human Detection Support TF Card U Disk Cloud Storage #banggood #c...\\nhttps://t.co/YRrKSSFl0m</td>\n",
       "      <td>2022-09-12 19:26:15+00:00</td>\n",
       "    </tr>\n",
       "    <tr>\n",
       "      <th>6</th>\n",
       "      <td>Στα 72,86€ από αποθήκη Τσεχίας | XIAOMI Smart Outdoor Security Camera 1080P Wireless 5700mAh Rechargeable Battery Powered IP65 Waterproof Home Security Camera with WDR Smart Night Vision Two-way Audio PIR Human Detection Support TF Card U Disk… https://t.co/DjuxKmw5e7</td>\n",
       "      <td>2022-09-12 19:07:04+00:00</td>\n",
       "    </tr>\n",
       "    <tr>\n",
       "      <th>7</th>\n",
       "      <td>✔️ Xiaomi Smart Outdoor Security Camera 1080P 5700mAh MWC10 [EU] 🇪🇺️🇨🇿️\\n🥇 Price: $72.99 \\n🔗 Banggood URL (direct)   https://t.co/hfowTFxPOY\\n🏆 DISCOUNT CODE is: BGd7d47f\\n#Banggood https://t.co/n3JUcxGBH8</td>\n",
       "      <td>2022-09-12 12:35:32+00:00</td>\n",
       "    </tr>\n",
       "    <tr>\n",
       "      <th>8</th>\n",
       "      <td>✔️ Xiaomi IMILAB EC3 Outdoor IP Camera Global [EU] 🇪🇺️🇨🇿️\\n🚨 Price: $59.99 \\n🔗 Banggood Product URL (direct)   https://t.co/fmLmUMcrcl\\n👉 COUPON CODE 🌍 BG073389\\n#Banggood https://t.co/lxOrhGscRf</td>\n",
       "      <td>2022-09-12 10:13:23+00:00</td>\n",
       "    </tr>\n",
       "    <tr>\n",
       "      <th>9</th>\n",
       "      <td>https://t.co/Y1XPo7XcOP\\nXiaomi Mi Smart Home Security Camera 360° 1080P - Nuova Versione\\n#security #italy #italia #love #travel #homesecurity #security #cctv https://t.co/iqFxSDmwXs</td>\n",
       "      <td>2022-09-12 09:03:35+00:00</td>\n",
       "    </tr>\n",
       "    <tr>\n",
       "      <th>10</th>\n",
       "      <td>TCL 55P739 55 Zoll Fernseher, 4K HDR, Ultra HD, Smart TV Powered by Google TV, Rahmenloses Design (Dolby Vision &amp;amp; Atmos, Freihändige … (Affiliate Link, Details siehe Bio)\\nhttps://t.co/VIrMUZwtkQ</td>\n",
       "      <td>2022-09-12 01:25:31+00:00</td>\n",
       "    </tr>\n",
       "    <tr>\n",
       "      <th>11</th>\n",
       "      <td>Xiaomi Mi Home Security Smart Camera 360° / Xiaomi Home Security Camera SE  ยังช่วยเพิ่มการมองเห็นและดูในที่มืดได้ง่ายn Home monitor Infrared night vision 2K U smart camera 300W pixel upgrade versionltra HD [EQWVG0W]\\n\\nhttps://t.co/vn0McQZyqX</td>\n",
       "      <td>2022-09-11 14:04:28+00:00</td>\n",
       "    </tr>\n",
       "    <tr>\n",
       "      <th>12</th>\n",
       "      <td>Xiaomi Mi Smart Camera PTZ 2K Mi Home Security Camera 1296p (GB Version) กล้องวงจรปิดไร้สายอัจฉริยะ [IZGVYMU]\\n\\nhttps://t.co/2liswpG7qj</td>\n",
       "      <td>2022-09-11 12:04:12+00:00</td>\n",
       "    </tr>\n",
       "    <tr>\n",
       "      <th>13</th>\n",
       "      <td>[เหลือ 1619 บ. โค้ด SA615IPSLOKP] Xiaomi Mi Smart Standing Fan 2 / Fan 1 X พัดลมตั้งพื้น เชื่อมต่อผ่านแอป Mi Home [BXYFSZU]\\n\\nhttps://t.co/NyhepEc3xk</td>\n",
       "      <td>2022-09-11 04:25:29+00:00</td>\n",
       "    </tr>\n",
       "    <tr>\n",
       "      <th>14</th>\n",
       "      <td>#hashtag1 2019Xiaomi Mijia Huohou Automatic Red Wine Bottle Opener Electric Corkscrew Foil Cutter Cork Out Tool For Xiaomi Smart Home Kits https://t.co/rvWM1FhYof https://t.co/Cdp5hvNPvg</td>\n",
       "      <td>2022-09-11 01:27:52+00:00</td>\n",
       "    </tr>\n",
       "    <tr>\n",
       "      <th>15</th>\n",
       "      <td>@superzetacp Xiaomi smart home con la cámara de Xiaomi. Barato y funciona perfecto. Recomendable totalmente</td>\n",
       "      <td>2022-09-10 14:37:25+00:00</td>\n",
       "    </tr>\n",
       "    <tr>\n",
       "      <th>16</th>\n",
       "      <td>Earlier this week, Xiaomi Malaysia launched no less than eight new smart home products. Watch this video to learn more about them – including a smart air fryer. https://t.co/br7hdTPXMX</td>\n",
       "      <td>2022-09-10 14:29:09+00:00</td>\n",
       "    </tr>\n",
       "    <tr>\n",
       "      <th>17</th>\n",
       "      <td>Xiaomi NEW WIDETECH Internet Smart Home Dehumidifier 18L Hygroscopic Dehumidifier เครื่องลดความชื้น ควบคุมผ่านแอพได้ [TIXO0FF]\\n\\nhttps://t.co/UAAALDlvos</td>\n",
       "      <td>2022-09-10 11:28:50+00:00</td>\n",
       "    </tr>\n",
       "    <tr>\n",
       "      <th>18</th>\n",
       "      <td>Xiaomi Aqara Human Body Sensor Smart Body Movement PIR Motion Sensor wireless Wifi Zigbee Use With Gateway for Mi home App\\n\\n $22.59\\n\\n https://t.co/dUQ1xsTcXM https://t.co/APtcC9Tzsr</td>\n",
       "      <td>2022-09-10 00:19:50+00:00</td>\n",
       "    </tr>\n",
       "    <tr>\n",
       "      <th>19</th>\n",
       "      <td>Xiaomi Mijia Smart Home 32 Speed Levels Electric Massage Gun Slimming Muscle Fascia Gun  Percussion Massagers Smart Home Gadgets https://t.co/kzSMdRflri</td>\n",
       "      <td>2022-09-10 00:08:15+00:00</td>\n",
       "    </tr>\n",
       "    <tr>\n",
       "      <th>20</th>\n",
       "      <td>Le CRMCR Retro Mechanical Smart Safe Deposit Box se dévoile en vidéo...\\n\\nLook retro | Nouvelle conception structurelle | Porte grand angle | Compatible Xiaomi Home⁠\\n⁠\\n#Xiaomi #CRMCR #Crowdfunding #UniversXiaomi https://t.co/W2etVjiY4S</td>\n",
       "      <td>2022-09-09 14:31:01+00:00</td>\n",
       "    </tr>\n",
       "    <tr>\n",
       "      <th>21</th>\n",
       "      <td>Weekend sorted. Brilliant collection now on home page of PatchWall, Redmi Xiaomi Smart TVs. \\n\\nThe Rings of Power \\nThor Love and Thunder \\nSita Ramam \\n\\nCourtesy : Prime Video, Disney+Hotstar https://t.co/43E22nAKd5</td>\n",
       "      <td>2022-09-09 14:07:21+00:00</td>\n",
       "    </tr>\n",
       "    <tr>\n",
       "      <th>22</th>\n",
       "      <td>Cleaning Home Was Never This Much Convenient!\\n\\nBuy Now Mi Robot Vacuum Mop-2 Ultra &amp;amp; Auto Empty Station, work Innovatively smart dust-collection technology that automatically empties the dustbin in the robot vacuum,\\n\\nShop Now: https://t.co/mNzesyjw5r\\n#Xiaomi #vacuum https://t.co/798T4jRLIG</td>\n",
       "      <td>2022-09-09 12:00:31+00:00</td>\n",
       "    </tr>\n",
       "    <tr>\n",
       "      <th>23</th>\n",
       "      <td>Xiaomi Unveils CyberOne, a Humanoid Robot That Can Sense Human Emotions :: can listen to human interactions and can recognise 85 types of environmental sounds and 45 classifications of human emotion | Technology News https://t.co/zDPXhkR6MY</td>\n",
       "      <td>2022-09-09 11:18:07+00:00</td>\n",
       "    </tr>\n",
       "    <tr>\n",
       "      <th>24</th>\n",
       "      <td>Xiaomi MIJIA Smart Clothes Dryer Pro is the perfect vertical dryer for your home https://t.co/ziuTxKTkYp</td>\n",
       "      <td>2022-09-09 10:10:01+00:00</td>\n",
       "    </tr>\n",
       "    <tr>\n",
       "      <th>25</th>\n",
       "      <td>@tomasmcguinness @esphome_ @home_assistant Sorry, somehow I managed to link the hungarian translated site of Banggood :) This should be the proper one: https://t.co/mfQwp9XbXW</td>\n",
       "      <td>2022-09-09 08:49:18+00:00</td>\n",
       "    </tr>\n",
       "    <tr>\n",
       "      <th>26</th>\n",
       "      <td>@tomasmcguinness @esphome_ @home_assistant The sensors identify themselves as \"LYWSD03MMC\" - https://t.co/JeYgcbbuzi</td>\n",
       "      <td>2022-09-09 08:47:47+00:00</td>\n",
       "    </tr>\n",
       "    <tr>\n",
       "      <th>27</th>\n",
       "      <td>Aqara RTCGQ11LM Smart Home Human Motion Sensor Security Device ( Xiaomi Ecosystem Product )­Tag a friend who would love this!\\rFREE Shipping Worldwide\\rGet it here ---&amp;gt; https://t.co/93ETuUmdAL\\r#hashtag4 https://t.co/r3MHzYG4Ke</td>\n",
       "      <td>2022-09-09 05:07:27+00:00</td>\n",
       "    </tr>\n",
       "    <tr>\n",
       "      <th>28</th>\n",
       "      <td>Xiaomi smart home appliances 2022 Malaysia: Price and spec roundup - https://t.co/cHtu3pkdGj https://t.co/dTfruMH37w #iot #trends #technology https://t.co/CZpA5GcPoW</td>\n",
       "      <td>2022-09-09 03:06:34+00:00</td>\n",
       "    </tr>\n",
       "    <tr>\n",
       "      <th>29</th>\n",
       "      <td>Xiaomi smart home appliances 2022 Malaysia: Price and spec roundup - https://t.co/dUpkl3o06K https://t.co/plZkKE7k8h</td>\n",
       "      <td>2022-09-09 00:35:09+00:00</td>\n",
       "    </tr>\n",
       "    <tr>\n",
       "      <th>30</th>\n",
       "      <td>Câmera Veicular Xiaomi 1080P Wi-Fi Mi Dash Cam 1S, SD Card – Preto | R$ 399.9 https://t.co/F20jFd0XdZ |</td>\n",
       "      <td>2022-09-08 22:08:50+00:00</td>\n",
       "    </tr>\n",
       "    <tr>\n",
       "      <th>31</th>\n",
       "      <td>If you’ve ever wanted to turn your house into a smart home, then Xiaomi has you covered with no less than eight new products, including TVs, an air fryer and even a toothbrush. https://t.co/NWyvezb5ep</td>\n",
       "      <td>2022-09-08 21:31:31+00:00</td>\n",
       "    </tr>\n",
       "    <tr>\n",
       "      <th>32</th>\n",
       "      <td>Xiaomi MIJIA Smart Clothes Dryer Pro Launched with a 35kg capacity: Xiaomi increased the smart home gadgets by adding yet another clothes-drying gadget to its lineup of devices. It is the Xiaomi MIJIA Smart Clothes Dryer Pro with a load-carrying capacity… https://t.co/V6RbKnVvsN</td>\n",
       "      <td>2022-09-08 19:17:03+00:00</td>\n",
       "    </tr>\n",
       "    <tr>\n",
       "      <th>33</th>\n",
       "      <td>@iamDCinvestor You should check this out if you want to expand your smart home!They have everything from robot vacuum cleaners to automatic curtains to smart toilets, all kinds of sensors and switches that you can customize.Tried most smart homes and xiaomi has the most extensive one by far.</td>\n",
       "      <td>2022-09-08 15:54:15+00:00</td>\n",
       "    </tr>\n",
       "    <tr>\n",
       "      <th>34</th>\n",
       "      <td>@iamDCinvestor For a cheaper and also more extensive smart home experience check out xiaomi. They have a way broader range of any product or appliance you could think of made smart, and one of the best and customisable systems to set up your smart home.</td>\n",
       "      <td>2022-09-08 15:39:42+00:00</td>\n",
       "    </tr>\n",
       "    <tr>\n",
       "      <th>35</th>\n",
       "      <td>Le CRMCR Retro Mechanical Smart Safe Deposit Box a été ajouté à la plateforme de Crowdfunding !\\n\\nLook retro | Nouvelle conception structurelle | Porte grand angle | Compatible Xiaomi Home\\n\\n#Xiaomi #CRMCR #Crowdfunding #UniversXiaomi https://t.co/t099RPcKEA</td>\n",
       "      <td>2022-09-08 14:30:55+00:00</td>\n",
       "    </tr>\n",
       "    <tr>\n",
       "      <th>36</th>\n",
       "      <td>Earlier this week, Xiaomi Malaysia launched no less than eight new smart home products. Watch this video to learn more about them – including a smart air fryer. https://t.co/eSKp2LMMhW</td>\n",
       "      <td>2022-09-08 13:33:18+00:00</td>\n",
       "    </tr>\n",
       "    <tr>\n",
       "      <th>37</th>\n",
       "      <td>Xiaomi smart home devices: Everything you need to know https://t.co/sL5cZyurmN</td>\n",
       "      <td>2022-09-08 12:29:57+00:00</td>\n",
       "    </tr>\n",
       "    <tr>\n",
       "      <th>38</th>\n",
       "      <td>Autonomous Home Cleaning, Get you to be Smart!\\n\\nMi Robot Vacuum Mops come in a Classic design with Fully Upgraded features Taking mopping Power to the Next Level.\\n\\nConnect to the Xiaomi Home App for Wider Controls. \\n\\nShop Now: https://t.co/4GP1KYw7Ym\\n#xiaomi #DefenceDay https://t.co/5kHYaNacTX</td>\n",
       "      <td>2022-09-08 12:00:00+00:00</td>\n",
       "    </tr>\n",
       "    <tr>\n",
       "      <th>39</th>\n",
       "      <td>Xiaomi Youpin HOTO Smart Kitchen Scale Bluetooth Mijia APP Electronic Scale Smart Home Food Weighing Tool LED Digital Display $71.09\\nclick&amp;gt;&amp;gt;https://t.co/xlGwWe8jVG\\n#ebay #aliexpress #rt https://t.co/KukdW3NOkJ</td>\n",
       "      <td>2022-09-08 10:19:39+00:00</td>\n",
       "    </tr>\n",
       "    <tr>\n",
       "      <th>40</th>\n",
       "      <td>Xiaomi Mi Smart Home Compact Projector 2, Android TV Compatible with Remote Control, Screen Size 60\"-120\", 1080P Full HD, HDR10 Decoding, 500 ANSI Lumen, with Dolby Audio Decoding more detail click the link : https://t.co/04OIgB9cPh https://t.co/eutF5UVxr4</td>\n",
       "      <td>2022-09-08 09:21:01+00:00</td>\n",
       "    </tr>\n",
       "    <tr>\n",
       "      <th>41</th>\n",
       "      <td>Xiaomi MIJIA Smart Clothes Dryer Pro is the perfect vertical clothesline for your home https://t.co/SX5Tr92YxX</td>\n",
       "      <td>2022-09-08 08:26:19+00:00</td>\n",
       "    </tr>\n",
       "    <tr>\n",
       "      <th>42</th>\n",
       "      <td>[เหลือ 1619 บ. โค้ด SA615IPSLOKP] Xiaomi Mi Smart Standing Fan 2 / Fan 1 X พัดลมตั้งพื้น เชื่อมต่อผ่านแอป Mi Home [VDRUIQW]\\n\\nhttps://t.co/wXlX7ZlaWm</td>\n",
       "      <td>2022-09-08 07:41:34+00:00</td>\n",
       "    </tr>\n",
       "    <tr>\n",
       "      <th>43</th>\n",
       "      <td>Xiaomi Youpin HOTO Smart Kitchen Scale Bluetooth Mijia APP Electronic Scale Smart Home Food Weighing Tool LED Digital Display $71.09\\nclick&amp;gt;&amp;gt;https://t.co/qdFd9cfdwc\\n#ebay #aliexpress #rt https://t.co/ZX8fiB6VXG</td>\n",
       "      <td>2022-09-07 22:19:18+00:00</td>\n",
       "    </tr>\n",
       "    <tr>\n",
       "      <th>44</th>\n",
       "      <td>Les Xiaomi Mijia Smart Recessed Ceiling Light est lancé en Chine !\\n\\nAnti-éblouissement | Source lumineuse COB | Angle du faisceau 24° | Rendu des couleur élevé Ra90 | Compatible Xiaomi Home\\n\\n#Xiaomi #Mijia #XiaomiHome #UniversXiaomi https://t.co/NLEwnbBbwx</td>\n",
       "      <td>2022-09-07 14:30:51+00:00</td>\n",
       "    </tr>\n",
       "    <tr>\n",
       "      <th>45</th>\n",
       "      <td>@yuppiechef has recently improved their website to add the latest and greatest Xiaomi AIoT products. Browse the new site and don’t be shy to add your favourite smart home products to your cart 🛒 Check it out here:https://t.co/H0MFQj4io7 https://t.co/NLTin8bvPR</td>\n",
       "      <td>2022-09-07 12:30:00+00:00</td>\n",
       "    </tr>\n",
       "    <tr>\n",
       "      <th>46</th>\n",
       "      <td>Xiaomi Youpin HOTO Smart Kitchen Scale Bluetooth Mijia APP Electronic Scale Smart Home Food Weighing Tool LED Digital Display $71.09\\nclick&amp;gt;&amp;gt;https://t.co/xAwgV5OaRO\\n#ebay #aliexpress #rt https://t.co/Zzqy3CrCeC</td>\n",
       "      <td>2022-09-07 10:18:11+00:00</td>\n",
       "    </tr>\n",
       "    <tr>\n",
       "      <th>47</th>\n",
       "      <td>Xiaomi F2 50″ Smart Fire TV 125 cm a 349€ https://t.co/1Rp5cbVUht</td>\n",
       "      <td>2022-09-07 08:22:01+00:00</td>\n",
       "    </tr>\n",
       "    <tr>\n",
       "      <th>48</th>\n",
       "      <td>Most of them are kind of nice to have but get the air fryer if you don't own one already https://t.co/ob5dySLwtn</td>\n",
       "      <td>2022-09-07 03:00:23+00:00</td>\n",
       "    </tr>\n",
       "    <tr>\n",
       "      <th>49</th>\n",
       "      <td>Most of them are kind of nice to have but get the air fryer if you don't own one already https://t.co/zDkzQ6yk78</td>\n",
       "      <td>2022-09-07 03:00:21+00:00</td>\n",
       "    </tr>\n",
       "    <tr>\n",
       "      <th>50</th>\n",
       "      <td>Most of them are kind of nice to have but get the air fryer if you don't own one already https://t.co/pDfe59Y6Rm</td>\n",
       "      <td>2022-09-07 03:00:19+00:00</td>\n",
       "    </tr>\n",
       "    <tr>\n",
       "      <th>51</th>\n",
       "      <td>Xiaomi Youpin HOTO Smart Kitchen Scale Bluetooth Mijia APP Electronic Scale Smart Home Food Weighing Tool LED Digital Display $71.09\\nclick&amp;gt;&amp;gt;https://t.co/5saczjdBoG\\n#ebay #aliexpress #rt https://t.co/MQDUrSo9IK</td>\n",
       "      <td>2022-09-06 22:18:01+00:00</td>\n",
       "    </tr>\n",
       "  </tbody>\n",
       "</table>\n",
       "</div>"
      ],
      "text/plain": [
       "                                                                                                                                                                                                                                                                                                             text  \\\n",
       "0                  @XiaomiEspana Me gusta porque a través de la aplicación Xiaomi Home puedo controlar el comportamiento del dispensador regulando las horas en la que dispensará la comida. Xiaomi Smart Pet Fountain que mantiene el agua limpia y fresca 24 horas aparte de que es silenciosa #XiaomiSmartPets   \n",
       "1                                                                                                                                                                   La Smart TV \"Mi TV P1 32\" Xiaomi ofrece grandes posibilidades gracias a su sistema Android y su tecnología Smart Home https://t.co/rd5l6faiDz   \n",
       "2                                                                                                                                                       Xiaomi NEW WIDETECH Internet Smart Home Dehumidifier 18L Hygroscopic Dehumidifier เครื่องลดความชื้น ควบคุมผ่านแอพได้ [GOX7NMF]\\n\\nhttps://t.co/I4JFSiJGlt   \n",
       "3   Le @AqaraSmarthouse Smart Radiator Thermostat E1 est disponible en France (promo TRVE1UKEU)\\nhttps://t.co/rQRxfp5SGO\\n\\nZigbee 3.0 | Contrôle Vocal | Autonomie 1 an | Mode Anti-Gel | Regroupement de produits | App Aqara Home, HomeKit\\n\\n#Xiaomi #Aqara #Domotique #UniversXiaomi https://t.co/lWSwlHd9NY   \n",
       "4                                                                                                                                                Slamoof#life #getoutside #amazing Xiaomi Mijia Wiha Daily Use Screw Kit 24 Precision Magnetic Bits Alluminum Box https://t.co/l53kBtP7Xd https://t.co/inSbiZJ0aJ   \n",
       "5                         Coupon Coupon XIAOMI Smart Outdoor Security Camera 1080P Wireless 5700mAh Rechargeable Battery Powered IP65 Waterproof Home Security Camera with WDR Smart Night Vision Two-way Audio PIR Human Detection Support TF Card U Disk Cloud Storage #banggood #c...\\nhttps://t.co/YRrKSSFl0m   \n",
       "6                                    Στα 72,86€ από αποθήκη Τσεχίας | XIAOMI Smart Outdoor Security Camera 1080P Wireless 5700mAh Rechargeable Battery Powered IP65 Waterproof Home Security Camera with WDR Smart Night Vision Two-way Audio PIR Human Detection Support TF Card U Disk… https://t.co/DjuxKmw5e7   \n",
       "7                                                                                                   ✔️ Xiaomi Smart Outdoor Security Camera 1080P 5700mAh MWC10 [EU] 🇪🇺️🇨🇿️\\n🥇 Price: $72.99 \\n🔗 Banggood URL (direct)   https://t.co/hfowTFxPOY\\n🏆 DISCOUNT CODE is: BGd7d47f\\n#Banggood https://t.co/n3JUcxGBH8   \n",
       "8                                                                                                             ✔️ Xiaomi IMILAB EC3 Outdoor IP Camera Global [EU] 🇪🇺️🇨🇿️\\n🚨 Price: $59.99 \\n🔗 Banggood Product URL (direct)   https://t.co/fmLmUMcrcl\\n👉 COUPON CODE 🌍 BG073389\\n#Banggood https://t.co/lxOrhGscRf   \n",
       "9                                                                                                                         https://t.co/Y1XPo7XcOP\\nXiaomi Mi Smart Home Security Camera 360° 1080P - Nuova Versione\\n#security #italy #italia #love #travel #homesecurity #security #cctv https://t.co/iqFxSDmwXs   \n",
       "10                                                                                                        TCL 55P739 55 Zoll Fernseher, 4K HDR, Ultra HD, Smart TV Powered by Google TV, Rahmenloses Design (Dolby Vision &amp; Atmos, Freihändige … (Affiliate Link, Details siehe Bio)\\nhttps://t.co/VIrMUZwtkQ   \n",
       "11                                                            Xiaomi Mi Home Security Smart Camera 360° / Xiaomi Home Security Camera SE  ยังช่วยเพิ่มการมองเห็นและดูในที่มืดได้ง่ายn Home monitor Infrared night vision 2K U smart camera 300W pixel upgrade versionltra HD [EQWVG0W]\\n\\nhttps://t.co/vn0McQZyqX   \n",
       "12                                                                                                                                                                       Xiaomi Mi Smart Camera PTZ 2K Mi Home Security Camera 1296p (GB Version) กล้องวงจรปิดไร้สายอัจฉริยะ [IZGVYMU]\\n\\nhttps://t.co/2liswpG7qj   \n",
       "13                                                                                                                                                         [เหลือ 1619 บ. โค้ด SA615IPSLOKP] Xiaomi Mi Smart Standing Fan 2 / Fan 1 X พัดลมตั้งพื้น เชื่อมต่อผ่านแอป Mi Home [BXYFSZU]\\n\\nhttps://t.co/NyhepEc3xk   \n",
       "14                                                                                                                     #hashtag1 2019Xiaomi Mijia Huohou Automatic Red Wine Bottle Opener Electric Corkscrew Foil Cutter Cork Out Tool For Xiaomi Smart Home Kits https://t.co/rvWM1FhYof https://t.co/Cdp5hvNPvg   \n",
       "15                                                                                                                                                                                                    @superzetacp Xiaomi smart home con la cámara de Xiaomi. Barato y funciona perfecto. Recomendable totalmente   \n",
       "16                                                                                                                       Earlier this week, Xiaomi Malaysia launched no less than eight new smart home products. Watch this video to learn more about them – including a smart air fryer. https://t.co/br7hdTPXMX   \n",
       "17                                                                                                                                                      Xiaomi NEW WIDETECH Internet Smart Home Dehumidifier 18L Hygroscopic Dehumidifier เครื่องลดความชื้น ควบคุมผ่านแอพได้ [TIXO0FF]\\n\\nhttps://t.co/UAAALDlvos   \n",
       "18                                                                                                                      Xiaomi Aqara Human Body Sensor Smart Body Movement PIR Motion Sensor wireless Wifi Zigbee Use With Gateway for Mi home App\\n\\n $22.59\\n\\n https://t.co/dUQ1xsTcXM https://t.co/APtcC9Tzsr   \n",
       "19                                                                                                                                                       Xiaomi Mijia Smart Home 32 Speed Levels Electric Massage Gun Slimming Muscle Fascia Gun  Percussion Massagers Smart Home Gadgets https://t.co/kzSMdRflri   \n",
       "20                                                                 Le CRMCR Retro Mechanical Smart Safe Deposit Box se dévoile en vidéo...\\n\\nLook retro | Nouvelle conception structurelle | Porte grand angle | Compatible Xiaomi Home⁠\\n⁠\\n#Xiaomi #CRMCR #Crowdfunding #UniversXiaomi https://t.co/W2etVjiY4S   \n",
       "21                                                                                     Weekend sorted. Brilliant collection now on home page of PatchWall, Redmi Xiaomi Smart TVs. \\n\\nThe Rings of Power \\nThor Love and Thunder \\nSita Ramam \\n\\nCourtesy : Prime Video, Disney+Hotstar https://t.co/43E22nAKd5   \n",
       "22    Cleaning Home Was Never This Much Convenient!\\n\\nBuy Now Mi Robot Vacuum Mop-2 Ultra &amp; Auto Empty Station, work Innovatively smart dust-collection technology that automatically empties the dustbin in the robot vacuum,\\n\\nShop Now: https://t.co/mNzesyjw5r\\n#Xiaomi #vacuum https://t.co/798T4jRLIG   \n",
       "23                                                               Xiaomi Unveils CyberOne, a Humanoid Robot That Can Sense Human Emotions :: can listen to human interactions and can recognise 85 types of environmental sounds and 45 classifications of human emotion | Technology News https://t.co/zDPXhkR6MY   \n",
       "24                                                                                                                                                                                                       Xiaomi MIJIA Smart Clothes Dryer Pro is the perfect vertical dryer for your home https://t.co/ziuTxKTkYp   \n",
       "25                                                                                                                                @tomasmcguinness @esphome_ @home_assistant Sorry, somehow I managed to link the hungarian translated site of Banggood :) This should be the proper one: https://t.co/mfQwp9XbXW   \n",
       "26                                                                                                                                                                                           @tomasmcguinness @esphome_ @home_assistant The sensors identify themselves as \"LYWSD03MMC\" - https://t.co/JeYgcbbuzi   \n",
       "27                                                                         Aqara RTCGQ11LM Smart Home Human Motion Sensor Security Device ( Xiaomi Ecosystem Product )­Tag a friend who would love this!\\rFREE Shipping Worldwide\\rGet it here ---&gt; https://t.co/93ETuUmdAL\\r#hashtag4 https://t.co/r3MHzYG4Ke   \n",
       "28                                                                                                                                          Xiaomi smart home appliances 2022 Malaysia: Price and spec roundup - https://t.co/cHtu3pkdGj https://t.co/dTfruMH37w #iot #trends #technology https://t.co/CZpA5GcPoW   \n",
       "29                                                                                                                                                                                           Xiaomi smart home appliances 2022 Malaysia: Price and spec roundup - https://t.co/dUpkl3o06K https://t.co/plZkKE7k8h   \n",
       "30                                                                                                                                                                                                        Câmera Veicular Xiaomi 1080P Wi-Fi Mi Dash Cam 1S, SD Card – Preto | R$ 399.9 https://t.co/F20jFd0XdZ |   \n",
       "31                                                                                                       If you’ve ever wanted to turn your house into a smart home, then Xiaomi has you covered with no less than eight new products, including TVs, an air fryer and even a toothbrush. https://t.co/NWyvezb5ep   \n",
       "32                        Xiaomi MIJIA Smart Clothes Dryer Pro Launched with a 35kg capacity: Xiaomi increased the smart home gadgets by adding yet another clothes-drying gadget to its lineup of devices. It is the Xiaomi MIJIA Smart Clothes Dryer Pro with a load-carrying capacity… https://t.co/V6RbKnVvsN   \n",
       "33           @iamDCinvestor You should check this out if you want to expand your smart home!They have everything from robot vacuum cleaners to automatic curtains to smart toilets, all kinds of sensors and switches that you can customize.Tried most smart homes and xiaomi has the most extensive one by far.   \n",
       "34                                                  @iamDCinvestor For a cheaper and also more extensive smart home experience check out xiaomi. They have a way broader range of any product or appliance you could think of made smart, and one of the best and customisable systems to set up your smart home.   \n",
       "35                                           Le CRMCR Retro Mechanical Smart Safe Deposit Box a été ajouté à la plateforme de Crowdfunding !\\n\\nLook retro | Nouvelle conception structurelle | Porte grand angle | Compatible Xiaomi Home\\n\\n#Xiaomi #CRMCR #Crowdfunding #UniversXiaomi https://t.co/t099RPcKEA   \n",
       "36                                                                                                                       Earlier this week, Xiaomi Malaysia launched no less than eight new smart home products. Watch this video to learn more about them – including a smart air fryer. https://t.co/eSKp2LMMhW   \n",
       "37                                                                                                                                                                                                                                 Xiaomi smart home devices: Everything you need to know https://t.co/sL5cZyurmN   \n",
       "38  Autonomous Home Cleaning, Get you to be Smart!\\n\\nMi Robot Vacuum Mops come in a Classic design with Fully Upgraded features Taking mopping Power to the Next Level.\\n\\nConnect to the Xiaomi Home App for Wider Controls. \\n\\nShop Now: https://t.co/4GP1KYw7Ym\\n#xiaomi #DefenceDay https://t.co/5kHYaNacTX   \n",
       "39                                                                                      Xiaomi Youpin HOTO Smart Kitchen Scale Bluetooth Mijia APP Electronic Scale Smart Home Food Weighing Tool LED Digital Display $71.09\\nclick&gt;&gt;https://t.co/xlGwWe8jVG\\n#ebay #aliexpress #rt https://t.co/KukdW3NOkJ   \n",
       "40                                               Xiaomi Mi Smart Home Compact Projector 2, Android TV Compatible with Remote Control, Screen Size 60\"-120\", 1080P Full HD, HDR10 Decoding, 500 ANSI Lumen, with Dolby Audio Decoding more detail click the link : https://t.co/04OIgB9cPh https://t.co/eutF5UVxr4   \n",
       "41                                                                                                                                                                                                 Xiaomi MIJIA Smart Clothes Dryer Pro is the perfect vertical clothesline for your home https://t.co/SX5Tr92YxX   \n",
       "42                                                                                                                                                         [เหลือ 1619 บ. โค้ด SA615IPSLOKP] Xiaomi Mi Smart Standing Fan 2 / Fan 1 X พัดลมตั้งพื้น เชื่อมต่อผ่านแอป Mi Home [VDRUIQW]\\n\\nhttps://t.co/wXlX7ZlaWm   \n",
       "43                                                                                      Xiaomi Youpin HOTO Smart Kitchen Scale Bluetooth Mijia APP Electronic Scale Smart Home Food Weighing Tool LED Digital Display $71.09\\nclick&gt;&gt;https://t.co/qdFd9cfdwc\\n#ebay #aliexpress #rt https://t.co/ZX8fiB6VXG   \n",
       "44                                           Les Xiaomi Mijia Smart Recessed Ceiling Light est lancé en Chine !\\n\\nAnti-éblouissement | Source lumineuse COB | Angle du faisceau 24° | Rendu des couleur élevé Ra90 | Compatible Xiaomi Home\\n\\n#Xiaomi #Mijia #XiaomiHome #UniversXiaomi https://t.co/NLEwnbBbwx   \n",
       "45                                           @yuppiechef has recently improved their website to add the latest and greatest Xiaomi AIoT products. Browse the new site and don’t be shy to add your favourite smart home products to your cart 🛒 Check it out here:https://t.co/H0MFQj4io7 https://t.co/NLTin8bvPR   \n",
       "46                                                                                      Xiaomi Youpin HOTO Smart Kitchen Scale Bluetooth Mijia APP Electronic Scale Smart Home Food Weighing Tool LED Digital Display $71.09\\nclick&gt;&gt;https://t.co/xAwgV5OaRO\\n#ebay #aliexpress #rt https://t.co/Zzqy3CrCeC   \n",
       "47                                                                                                                                                                                                                                              Xiaomi F2 50″ Smart Fire TV 125 cm a 349€ https://t.co/1Rp5cbVUht   \n",
       "48                                                                                                                                                                                               Most of them are kind of nice to have but get the air fryer if you don't own one already https://t.co/ob5dySLwtn   \n",
       "49                                                                                                                                                                                               Most of them are kind of nice to have but get the air fryer if you don't own one already https://t.co/zDkzQ6yk78   \n",
       "50                                                                                                                                                                                               Most of them are kind of nice to have but get the air fryer if you don't own one already https://t.co/pDfe59Y6Rm   \n",
       "51                                                                                      Xiaomi Youpin HOTO Smart Kitchen Scale Bluetooth Mijia APP Electronic Scale Smart Home Food Weighing Tool LED Digital Display $71.09\\nclick&gt;&gt;https://t.co/5saczjdBoG\\n#ebay #aliexpress #rt https://t.co/MQDUrSo9IK   \n",
       "\n",
       "                  created_at  \n",
       "0  2022-09-13 20:11:29+00:00  \n",
       "1  2022-09-13 17:38:37+00:00  \n",
       "2  2022-09-13 11:48:35+00:00  \n",
       "3  2022-09-13 09:22:35+00:00  \n",
       "4  2022-09-13 03:49:07+00:00  \n",
       "5  2022-09-12 19:26:15+00:00  \n",
       "6  2022-09-12 19:07:04+00:00  \n",
       "7  2022-09-12 12:35:32+00:00  \n",
       "8  2022-09-12 10:13:23+00:00  \n",
       "9  2022-09-12 09:03:35+00:00  \n",
       "10 2022-09-12 01:25:31+00:00  \n",
       "11 2022-09-11 14:04:28+00:00  \n",
       "12 2022-09-11 12:04:12+00:00  \n",
       "13 2022-09-11 04:25:29+00:00  \n",
       "14 2022-09-11 01:27:52+00:00  \n",
       "15 2022-09-10 14:37:25+00:00  \n",
       "16 2022-09-10 14:29:09+00:00  \n",
       "17 2022-09-10 11:28:50+00:00  \n",
       "18 2022-09-10 00:19:50+00:00  \n",
       "19 2022-09-10 00:08:15+00:00  \n",
       "20 2022-09-09 14:31:01+00:00  \n",
       "21 2022-09-09 14:07:21+00:00  \n",
       "22 2022-09-09 12:00:31+00:00  \n",
       "23 2022-09-09 11:18:07+00:00  \n",
       "24 2022-09-09 10:10:01+00:00  \n",
       "25 2022-09-09 08:49:18+00:00  \n",
       "26 2022-09-09 08:47:47+00:00  \n",
       "27 2022-09-09 05:07:27+00:00  \n",
       "28 2022-09-09 03:06:34+00:00  \n",
       "29 2022-09-09 00:35:09+00:00  \n",
       "30 2022-09-08 22:08:50+00:00  \n",
       "31 2022-09-08 21:31:31+00:00  \n",
       "32 2022-09-08 19:17:03+00:00  \n",
       "33 2022-09-08 15:54:15+00:00  \n",
       "34 2022-09-08 15:39:42+00:00  \n",
       "35 2022-09-08 14:30:55+00:00  \n",
       "36 2022-09-08 13:33:18+00:00  \n",
       "37 2022-09-08 12:29:57+00:00  \n",
       "38 2022-09-08 12:00:00+00:00  \n",
       "39 2022-09-08 10:19:39+00:00  \n",
       "40 2022-09-08 09:21:01+00:00  \n",
       "41 2022-09-08 08:26:19+00:00  \n",
       "42 2022-09-08 07:41:34+00:00  \n",
       "43 2022-09-07 22:19:18+00:00  \n",
       "44 2022-09-07 14:30:51+00:00  \n",
       "45 2022-09-07 12:30:00+00:00  \n",
       "46 2022-09-07 10:18:11+00:00  \n",
       "47 2022-09-07 08:22:01+00:00  \n",
       "48 2022-09-07 03:00:23+00:00  \n",
       "49 2022-09-07 03:00:21+00:00  \n",
       "50 2022-09-07 03:00:19+00:00  \n",
       "51 2022-09-06 22:18:01+00:00  "
      ]
     },
     "execution_count": 80,
     "metadata": {},
     "output_type": "execute_result"
    }
   ],
   "source": [
    "# Xiaomi\n",
    "import pandas as pd\n",
    "\n",
    "query='Xiaomi smart home -is:retweet'\n",
    "\n",
    "tweets= []\n",
    "\n",
    "for tweet in tweepy.Paginator(client.search_recent_tweets, query=query,\n",
    "                              tweet_fields=['context_annotations', 'created_at','public_metrics'], max_results=100).flatten(limit=150):\n",
    "    tweets.append(tweet)\n",
    "\n",
    "    \n",
    "\n",
    "tweet_df = pd.DataFrame()\n",
    "tweet_df['text']= [tweet.text for tweet in tweets]\n",
    "tweet_df['created_at']= [tweet.created_at for tweet in tweets]\n",
    "#tweet_df['retweet_count']= [tweet.public_metrics['retweet_count'] for tweet in tweets]\n",
    "#tweet_df['like_count']= [tweet.public_metrics['like_count']for tweet in tweets]\n",
    "#tweet_df['source']= [tweet.source for tweet in tweets]\n",
    "#tweet_df['geo']=[tweet.withheld for tweet in tweets]\n",
    "#tweet_df['reply_count']= [tweet.public_metrics['reply_count']for tweet in tweets]\n",
    "\n",
    "pd.set_option('display.max_colwidth',1000)\n",
    "tweet_df"
   ]
  },
  {
   "cell_type": "code",
   "execution_count": 82,
   "id": "970ef01d",
   "metadata": {
    "scrolled": true
   },
   "outputs": [
    {
     "data": {
      "text/html": [
       "<div>\n",
       "<style scoped>\n",
       "    .dataframe tbody tr th:only-of-type {\n",
       "        vertical-align: middle;\n",
       "    }\n",
       "\n",
       "    .dataframe tbody tr th {\n",
       "        vertical-align: top;\n",
       "    }\n",
       "\n",
       "    .dataframe thead th {\n",
       "        text-align: right;\n",
       "    }\n",
       "</style>\n",
       "<table border=\"1\" class=\"dataframe\">\n",
       "  <thead>\n",
       "    <tr style=\"text-align: right;\">\n",
       "      <th></th>\n",
       "      <th>text</th>\n",
       "      <th>created_at</th>\n",
       "    </tr>\n",
       "  </thead>\n",
       "  <tbody>\n",
       "    <tr>\n",
       "      <th>0</th>\n",
       "      <td>TCL 55-Inch Class 4K (2160p) Smart LED TV, HDR10, 120Hz Refresh Rate, Digital Dolby, Personalized Home Screen+ Free Wall Mount (No Stands) – 55S433 (Renewed) https://t.co/PIJxpdQ6L7</td>\n",
       "      <td>2022-09-13 13:57:51+00:00</td>\n",
       "    </tr>\n",
       "    <tr>\n",
       "      <th>1</th>\n",
       "      <td>BroadLink TV Universal Remote, Alexa Voice Control for Samsung TCL RoKu VIZIO TV and More, All Samsung LCD LED HDTV 3D Smart TV Models, BN59-01199F BN59-01259E. Works with Alexa, Google Home, IFTTT https://t.co/tEGkf8d0sP</td>\n",
       "      <td>2022-09-13 00:55:47+00:00</td>\n",
       "    </tr>\n",
       "    <tr>\n",
       "      <th>2</th>\n",
       "      <td>Happy #NationalVideoGamesDay! Today is the perfect day to sit in front of your TV and squad up with friends. #GameOnTCL 🏆\\n\\nhttps://t.co/L1PquFBV76 🎮 https://t.co/npQxZ80JTJ</td>\n",
       "      <td>2022-09-12 19:43:01+00:00</td>\n",
       "    </tr>\n",
       "    <tr>\n",
       "      <th>3</th>\n",
       "      <td>Check this out at Amazon TCL 32S5209K TV- 32-Inch TV Smart HD Television with Android TV - HDR &amp;amp; Micro Dimming - Compatible with Google Assistant, Chromecast &amp;amp; Google Home, Slim Design, Dolby Audio, Bluetooth, Wi-Fi https://t.co/8onFqmdU74</td>\n",
       "      <td>2022-09-12 11:29:52+00:00</td>\n",
       "    </tr>\n",
       "    <tr>\n",
       "      <th>4</th>\n",
       "      <td>TCL 55P739 55 Zoll Fernseher, 4K HDR, Ultra HD, Smart TV Powered by Google TV, Rahmenloses Design (Dolby Vision &amp;amp; Atmos, Freihändige … (Affiliate Link, Details siehe Bio)\\nhttps://t.co/VIrMUZwtkQ</td>\n",
       "      <td>2022-09-12 01:25:31+00:00</td>\n",
       "    </tr>\n",
       "    <tr>\n",
       "      <th>5</th>\n",
       "      <td>What’s better than cool air? FRESH air! 🌲💨😍\\nMeet #TCL #FreshIN_AC, your new #AC expert. With features of the QuaruPuri filtration and smart Temperature Balance, you’ll experience the comfort of nature right at home.\\n#TCLInspireGreatness\\n#IFA2022\\n👉🏻https://t.co/IFMUwAYREM https://t.co/uDGt8F0SoK</td>\n",
       "      <td>2022-09-10 10:00:01+00:00</td>\n",
       "    </tr>\n",
       "    <tr>\n",
       "      <th>6</th>\n",
       "      <td>There is also the new released R655 that came out in The USA. 4k 144hz support for $700 USD 👀https://t.co/qDEfB7PA7V</td>\n",
       "      <td>2022-09-10 01:01:23+00:00</td>\n",
       "    </tr>\n",
       "    <tr>\n",
       "      <th>7</th>\n",
       "      <td>The best way to honor your favorite team this season is with a big 98\" QLED TV. Redefining the way you watch sports is part of what we do best. #LiveLarge https://t.co/AXlPR8Ymba 🏈 https://t.co/UJmNe6bMm5</td>\n",
       "      <td>2022-09-09 18:40:02+00:00</td>\n",
       "    </tr>\n",
       "    <tr>\n",
       "      <th>8</th>\n",
       "      <td>Price: (as of  - Details)\\n\\n The 3-Series TCL Android TV puts all your entertainment favorites in one place, allowing quick access to your cable box, gaming console, and other devices all from your speedy, simplified home screen.  #32inch #32S21 #720p\\n\\nhttps://t.co/vufbyhoFJm https://t.co/zA1xEOK5au</td>\n",
       "      <td>2022-09-09 17:58:35+00:00</td>\n",
       "    </tr>\n",
       "    <tr>\n",
       "      <th>9</th>\n",
       "      <td>We use AI to dynamically upscale and enhance picture content as you watch to ensure you’ve got the best picture.\\n\\nThat’s the power of TCL’s AiPQ Engine technology. https://t.co/L1PquFCsWE ⚡ https://t.co/V21lMTsb5C</td>\n",
       "      <td>2022-09-09 14:04:19+00:00</td>\n",
       "    </tr>\n",
       "    <tr>\n",
       "      <th>10</th>\n",
       "      <td>TCL 55-Inch Class 4K (2160p) Smart LED TV HDR10 120Hz Refresh Rate Dolby Digital Personalized Home Screen 55S433 (Renewed) https://t.co/wWwujrcADn</td>\n",
       "      <td>2022-09-08 18:21:55+00:00</td>\n",
       "    </tr>\n",
       "    <tr>\n",
       "      <th>11</th>\n",
       "      <td>The best way to catch every touchdown comes with a 98” sized screen. With TCL leading the way in big screen technology, you can get front-row tickets to all the upcoming #NFL action. #LiveLarge https://t.co/AXlPR8XOlC 🏉 https://t.co/N8lk55v3wV</td>\n",
       "      <td>2022-09-08 18:14:02+00:00</td>\n",
       "    </tr>\n",
       "    <tr>\n",
       "      <th>12</th>\n",
       "      <td>[#IFA2022] #TCL CSOT (Mini LED TV, QLED TV, Smart home appliances)\\nhttps://t.co/eATixEAqEo</td>\n",
       "      <td>2022-09-08 09:10:54+00:00</td>\n",
       "    </tr>\n",
       "    <tr>\n",
       "      <th>13</th>\n",
       "      <td>@ianhamm @SylvusTheSlayer Screen sizes range from 55\" to 75\" and all product details (including pricing) can be found here! \\nhttps://t.co/dVYZXpVKv8</td>\n",
       "      <td>2022-09-08 00:11:54+00:00</td>\n",
       "    </tr>\n",
       "    <tr>\n",
       "      <th>14</th>\n",
       "      <td>@SylvusTheSlayer Hi there! We are getting them stocked at our retailers as we speak. To see availability, you can use the \"Where to Buy\" button featured here. https://t.co/dVYZXpVKv8</td>\n",
       "      <td>2022-09-07 23:12:32+00:00</td>\n",
       "    </tr>\n",
       "    <tr>\n",
       "      <th>15</th>\n",
       "      <td>TCL Exhibits at IFA 2022 Including the World's Largest Mini LED TV and Latest Displays and Smart Home Innovations https://t.co/gqr6W9Amwh via @TechNews24h https://t.co/IXAUvb3k6q</td>\n",
       "      <td>2022-09-07 22:35:08+00:00</td>\n",
       "    </tr>\n",
       "    <tr>\n",
       "      <th>16</th>\n",
       "      <td>Things we love about #MiniLED\\n\\n✅ Amazing contrast\\n✅ Incredible brightness\\n✅ Vibrant wide color\\n✅ Precision detail\\n\\nWhat’s your favorite on the newest 6-Series? #WatchOnTCL \\nhttps://t.co/L1PquFBV76 📺 https://t.co/Hv0hruuFPx</td>\n",
       "      <td>2022-09-07 17:30:11+00:00</td>\n",
       "    </tr>\n",
       "    <tr>\n",
       "      <th>17</th>\n",
       "      <td>@rtingsdotcom Will you guys be reviewing the latest version of this TV? From what I read on Verge the Roku model has been updated for 2022…https://t.co/O8Gyncs9b6</td>\n",
       "      <td>2022-09-07 17:27:51+00:00</td>\n",
       "    </tr>\n",
       "    <tr>\n",
       "      <th>18</th>\n",
       "      <td>(parceiro magalu) Controle Remoto TV TCL Smart 4K com Tecla Home para Apps - Compatível de R$23,90 por R$20,81 - https://t.co/gVisuA9iuZ  #promoção #desconto #oferta https://t.co/ti8lPkKlHy</td>\n",
       "      <td>2022-09-07 17:27:34+00:00</td>\n",
       "    </tr>\n",
       "    <tr>\n",
       "      <th>19</th>\n",
       "      <td>TCL exhibits at IFA 2022 with the world’s largest mini LED TV, as well as the latest displays and smart home innovations https://t.co/mTqcWr0S2u</td>\n",
       "      <td>2022-09-06 23:36:23+00:00</td>\n",
       "    </tr>\n",
       "  </tbody>\n",
       "</table>\n",
       "</div>"
      ],
      "text/plain": [
       "                                                                                                                                                                                                                                                                                                               text  \\\n",
       "0                                                                                                                             TCL 55-Inch Class 4K (2160p) Smart LED TV, HDR10, 120Hz Refresh Rate, Digital Dolby, Personalized Home Screen+ Free Wall Mount (No Stands) – 55S433 (Renewed) https://t.co/PIJxpdQ6L7   \n",
       "1                                                                                     BroadLink TV Universal Remote, Alexa Voice Control for Samsung TCL RoKu VIZIO TV and More, All Samsung LCD LED HDTV 3D Smart TV Models, BN59-01199F BN59-01259E. Works with Alexa, Google Home, IFTTT https://t.co/tEGkf8d0sP   \n",
       "2                                                                                                                                    Happy #NationalVideoGamesDay! Today is the perfect day to sit in front of your TV and squad up with friends. #GameOnTCL 🏆\\n\\nhttps://t.co/L1PquFBV76 🎮 https://t.co/npQxZ80JTJ   \n",
       "3                                                           Check this out at Amazon TCL 32S5209K TV- 32-Inch TV Smart HD Television with Android TV - HDR &amp; Micro Dimming - Compatible with Google Assistant, Chromecast &amp; Google Home, Slim Design, Dolby Audio, Bluetooth, Wi-Fi https://t.co/8onFqmdU74   \n",
       "4                                                                                                           TCL 55P739 55 Zoll Fernseher, 4K HDR, Ultra HD, Smart TV Powered by Google TV, Rahmenloses Design (Dolby Vision &amp; Atmos, Freihändige … (Affiliate Link, Details siehe Bio)\\nhttps://t.co/VIrMUZwtkQ   \n",
       "5       What’s better than cool air? FRESH air! 🌲💨😍\\nMeet #TCL #FreshIN_AC, your new #AC expert. With features of the QuaruPuri filtration and smart Temperature Balance, you’ll experience the comfort of nature right at home.\\n#TCLInspireGreatness\\n#IFA2022\\n👉🏻https://t.co/IFMUwAYREM https://t.co/uDGt8F0SoK   \n",
       "6                                                                                                                                                                                              There is also the new released R655 that came out in The USA. 4k 144hz support for $700 USD 👀https://t.co/qDEfB7PA7V   \n",
       "7                                                                                                      The best way to honor your favorite team this season is with a big 98\" QLED TV. Redefining the way you watch sports is part of what we do best. #LiveLarge https://t.co/AXlPR8Ymba 🏈 https://t.co/UJmNe6bMm5   \n",
       "8   Price: (as of  - Details)\\n\\n The 3-Series TCL Android TV puts all your entertainment favorites in one place, allowing quick access to your cable box, gaming console, and other devices all from your speedy, simplified home screen.  #32inch #32S21 #720p\\n\\nhttps://t.co/vufbyhoFJm https://t.co/zA1xEOK5au   \n",
       "9                                                                                           We use AI to dynamically upscale and enhance picture content as you watch to ensure you’ve got the best picture.\\n\\nThat’s the power of TCL’s AiPQ Engine technology. https://t.co/L1PquFCsWE ⚡ https://t.co/V21lMTsb5C   \n",
       "10                                                                                                                                                               TCL 55-Inch Class 4K (2160p) Smart LED TV HDR10 120Hz Refresh Rate Dolby Digital Personalized Home Screen 55S433 (Renewed) https://t.co/wWwujrcADn   \n",
       "11                                                              The best way to catch every touchdown comes with a 98” sized screen. With TCL leading the way in big screen technology, you can get front-row tickets to all the upcoming #NFL action. #LiveLarge https://t.co/AXlPR8XOlC 🏉 https://t.co/N8lk55v3wV   \n",
       "12                                                                                                                                                                                                                      [#IFA2022] #TCL CSOT (Mini LED TV, QLED TV, Smart home appliances)\\nhttps://t.co/eATixEAqEo   \n",
       "13                                                                                                                                                            @ianhamm @SylvusTheSlayer Screen sizes range from 55\" to 75\" and all product details (including pricing) can be found here! \\nhttps://t.co/dVYZXpVKv8   \n",
       "14                                                                                                                           @SylvusTheSlayer Hi there! We are getting them stocked at our retailers as we speak. To see availability, you can use the \"Where to Buy\" button featured here. https://t.co/dVYZXpVKv8   \n",
       "15                                                                                                                               TCL Exhibits at IFA 2022 Including the World's Largest Mini LED TV and Latest Displays and Smart Home Innovations https://t.co/gqr6W9Amwh via @TechNews24h https://t.co/IXAUvb3k6q   \n",
       "16                                                                           Things we love about #MiniLED\\n\\n✅ Amazing contrast\\n✅ Incredible brightness\\n✅ Vibrant wide color\\n✅ Precision detail\\n\\nWhat’s your favorite on the newest 6-Series? #WatchOnTCL \\nhttps://t.co/L1PquFBV76 📺 https://t.co/Hv0hruuFPx   \n",
       "17                                                                                                                                               @rtingsdotcom Will you guys be reviewing the latest version of this TV? From what I read on Verge the Roku model has been updated for 2022…https://t.co/O8Gyncs9b6   \n",
       "18                                                                                                                    (parceiro magalu) Controle Remoto TV TCL Smart 4K com Tecla Home para Apps - Compatível de R$23,90 por R$20,81 - https://t.co/gVisuA9iuZ  #promoção #desconto #oferta https://t.co/ti8lPkKlHy   \n",
       "19                                                                                                                                                                 TCL exhibits at IFA 2022 with the world’s largest mini LED TV, as well as the latest displays and smart home innovations https://t.co/mTqcWr0S2u   \n",
       "\n",
       "                  created_at  \n",
       "0  2022-09-13 13:57:51+00:00  \n",
       "1  2022-09-13 00:55:47+00:00  \n",
       "2  2022-09-12 19:43:01+00:00  \n",
       "3  2022-09-12 11:29:52+00:00  \n",
       "4  2022-09-12 01:25:31+00:00  \n",
       "5  2022-09-10 10:00:01+00:00  \n",
       "6  2022-09-10 01:01:23+00:00  \n",
       "7  2022-09-09 18:40:02+00:00  \n",
       "8  2022-09-09 17:58:35+00:00  \n",
       "9  2022-09-09 14:04:19+00:00  \n",
       "10 2022-09-08 18:21:55+00:00  \n",
       "11 2022-09-08 18:14:02+00:00  \n",
       "12 2022-09-08 09:10:54+00:00  \n",
       "13 2022-09-08 00:11:54+00:00  \n",
       "14 2022-09-07 23:12:32+00:00  \n",
       "15 2022-09-07 22:35:08+00:00  \n",
       "16 2022-09-07 17:30:11+00:00  \n",
       "17 2022-09-07 17:27:51+00:00  \n",
       "18 2022-09-07 17:27:34+00:00  \n",
       "19 2022-09-06 23:36:23+00:00  "
      ]
     },
     "execution_count": 82,
     "metadata": {},
     "output_type": "execute_result"
    }
   ],
   "source": [
    "# TCL\n",
    "import pandas as pd\n",
    "\n",
    "query='TCL smart home -is:retweet'\n",
    "\n",
    "tweets= []\n",
    "\n",
    "for tweet in tweepy.Paginator(client.search_recent_tweets, query=query,\n",
    "                              tweet_fields=['context_annotations', 'created_at','public_metrics'], max_results=100).flatten(limit=150):\n",
    "    tweets.append(tweet)\n",
    "\n",
    "    \n",
    "\n",
    "tweet_df = pd.DataFrame()\n",
    "tweet_df['text']= [tweet.text for tweet in tweets]\n",
    "tweet_df['created_at']= [tweet.created_at for tweet in tweets]\n",
    "#tweet_df['retweet_count']= [tweet.public_metrics['retweet_count'] for tweet in tweets]\n",
    "#tweet_df['like_count']= [tweet.public_metrics['like_count']for tweet in tweets]\n",
    "#tweet_df['source']= [tweet.source for tweet in tweets]\n",
    "#tweet_df['geo']=[tweet.withheld for tweet in tweets]\n",
    "#tweet_df['reply_count']= [tweet.public_metrics['reply_count']for tweet in tweets]\n",
    "\n",
    "tweet_df"
   ]
  },
  {
   "cell_type": "code",
   "execution_count": 83,
   "id": "405f34f7",
   "metadata": {},
   "outputs": [
    {
     "data": {
      "text/html": [
       "<div>\n",
       "<style scoped>\n",
       "    .dataframe tbody tr th:only-of-type {\n",
       "        vertical-align: middle;\n",
       "    }\n",
       "\n",
       "    .dataframe tbody tr th {\n",
       "        vertical-align: top;\n",
       "    }\n",
       "\n",
       "    .dataframe thead th {\n",
       "        text-align: right;\n",
       "    }\n",
       "</style>\n",
       "<table border=\"1\" class=\"dataframe\">\n",
       "  <thead>\n",
       "    <tr style=\"text-align: right;\">\n",
       "      <th></th>\n",
       "      <th>text</th>\n",
       "      <th>created_at</th>\n",
       "    </tr>\n",
       "  </thead>\n",
       "  <tbody>\n",
       "    <tr>\n",
       "      <th>0</th>\n",
       "      <td>@NikMilanovic Props for holding a phone that long. Pixel 6 is going to feel like a Rocket in your hand. Google fi is cheap. The voice assistant still sucks on Apple. Apple is not going to help with imessage and is determined to keep Android users and their iPhone friends miserable about it.</td>\n",
       "      <td>2022-09-13 20:41:55+00:00</td>\n",
       "    </tr>\n",
       "    <tr>\n",
       "      <th>1</th>\n",
       "      <td>I think I have to reinstall Google Clock and enable routines in my alarm so my Google Assistant can read my reminders and daily tasks out loud every morning. Because I'm missing some notifications.</td>\n",
       "      <td>2022-09-13 20:40:00+00:00</td>\n",
       "    </tr>\n",
       "    <tr>\n",
       "      <th>2</th>\n",
       "      <td>#Jammin' Victony (@vict0ny) - Jolene\\nListen on FM &amp;amp; DAB Radio in the UK | on Alexa Skills | Google Assistant | on Mobile Apps | and Online \\n#AfrobeatRadio #CosoroRadioUK #Cosoro</td>\n",
       "      <td>2022-09-13 20:39:03+00:00</td>\n",
       "    </tr>\n",
       "    <tr>\n",
       "      <th>3</th>\n",
       "      <td>Sony HT-A3000 3.1ch Dolby Atmos Soundbar Surround Sound Home Theater with DTS:X and 360 Spatial Sound Mapping, Works with Google Assistant https://t.co/eQenS7bvbZ</td>\n",
       "      <td>2022-09-13 20:37:10+00:00</td>\n",
       "    </tr>\n",
       "    <tr>\n",
       "      <th>4</th>\n",
       "      <td>تاحالا Google assistant فرند زونتون کرده؟🤌 https://t.co/MYsPMj87Ac</td>\n",
       "      <td>2022-09-13 20:36:30+00:00</td>\n",
       "    </tr>\n",
       "    <tr>\n",
       "      <th>...</th>\n",
       "      <td>...</td>\n",
       "      <td>...</td>\n",
       "    </tr>\n",
       "    <tr>\n",
       "      <th>145</th>\n",
       "      <td>Smart Plug Compatible with #Alexa &amp;amp; Google Assistant,Smart Outlet for Voice Control,Mini WiFi Socket w\\nLimited time offer\\n\\nhttps://t.co/boHqQmfGSv</td>\n",
       "      <td>2022-09-13 15:56:10+00:00</td>\n",
       "    </tr>\n",
       "    <tr>\n",
       "      <th>146</th>\n",
       "      <td>#Jammin' Mr Eazi &amp;amp; Major Lazer ft. Nicki Minaj &amp;amp; K4mo (@mreazi) (@MAJORLAZER) (@NICKIMINAJ) (@iamk4mo) - Oh My Gawd\\nListen on FM &amp;amp; DAB Radio in the UK | on Alexa Skills | Google Assistant | on Mobile Apps | and Online \\n#AfrobeatRadio #CosoroRadioUK #Cosoro</td>\n",
       "      <td>2022-09-13 15:55:03+00:00</td>\n",
       "    </tr>\n",
       "    <tr>\n",
       "      <th>147</th>\n",
       "      <td>Aeotec Smart Home Hub, Works as a SmartThings Hub, Z-Wave Zigbee Gateway, Compatible with Alexa, Google Assistant, WiFi https://t.co/onNq0ZbQUO</td>\n",
       "      <td>2022-09-13 15:52:39+00:00</td>\n",
       "    </tr>\n",
       "    <tr>\n",
       "      <th>148</th>\n",
       "      <td>Aeotec Smart Home Hub, Works as a SmartThings Hub, Z-Wave Zigbee Gateway, Compatible with Alexa, Google Assistant, WiFi https://t.co/hfQZOJjqtR</td>\n",
       "      <td>2022-09-13 15:52:37+00:00</td>\n",
       "    </tr>\n",
       "    <tr>\n",
       "      <th>149</th>\n",
       "      <td>Aeotec Smart Home Hub, Works as a SmartThings Hub, Z-Wave Zigbee Gateway, Compatible with Alexa, Google Assistant, WiFi https://t.co/lLwhYqSLZY</td>\n",
       "      <td>2022-09-13 15:52:35+00:00</td>\n",
       "    </tr>\n",
       "  </tbody>\n",
       "</table>\n",
       "<p>150 rows × 2 columns</p>\n",
       "</div>"
      ],
      "text/plain": [
       "                                                                                                                                                                                                                                                                                                    text  \\\n",
       "0    @NikMilanovic Props for holding a phone that long. Pixel 6 is going to feel like a Rocket in your hand. Google fi is cheap. The voice assistant still sucks on Apple. Apple is not going to help with imessage and is determined to keep Android users and their iPhone friends miserable about it.   \n",
       "1                                                                                                  I think I have to reinstall Google Clock and enable routines in my alarm so my Google Assistant can read my reminders and daily tasks out loud every morning. Because I'm missing some notifications.   \n",
       "2                                                                                                                #Jammin' Victony (@vict0ny) - Jolene\\nListen on FM &amp; DAB Radio in the UK | on Alexa Skills | Google Assistant | on Mobile Apps | and Online \\n#AfrobeatRadio #CosoroRadioUK #Cosoro   \n",
       "3                                                                                                                                     Sony HT-A3000 3.1ch Dolby Atmos Soundbar Surround Sound Home Theater with DTS:X and 360 Spatial Sound Mapping, Works with Google Assistant https://t.co/eQenS7bvbZ   \n",
       "4                                                                                                                                                                                                                                     تاحالا Google assistant فرند زونتون کرده؟🤌 https://t.co/MYsPMj87Ac   \n",
       "..                                                                                                                                                                                                                                                                                                   ...   \n",
       "145                                                                                                                                            Smart Plug Compatible with #Alexa &amp; Google Assistant,Smart Outlet for Voice Control,Mini WiFi Socket w\\nLimited time offer\\n\\nhttps://t.co/boHqQmfGSv   \n",
       "146                       #Jammin' Mr Eazi &amp; Major Lazer ft. Nicki Minaj &amp; K4mo (@mreazi) (@MAJORLAZER) (@NICKIMINAJ) (@iamk4mo) - Oh My Gawd\\nListen on FM &amp; DAB Radio in the UK | on Alexa Skills | Google Assistant | on Mobile Apps | and Online \\n#AfrobeatRadio #CosoroRadioUK #Cosoro   \n",
       "147                                                                                                                                                      Aeotec Smart Home Hub, Works as a SmartThings Hub, Z-Wave Zigbee Gateway, Compatible with Alexa, Google Assistant, WiFi https://t.co/onNq0ZbQUO   \n",
       "148                                                                                                                                                      Aeotec Smart Home Hub, Works as a SmartThings Hub, Z-Wave Zigbee Gateway, Compatible with Alexa, Google Assistant, WiFi https://t.co/hfQZOJjqtR   \n",
       "149                                                                                                                                                      Aeotec Smart Home Hub, Works as a SmartThings Hub, Z-Wave Zigbee Gateway, Compatible with Alexa, Google Assistant, WiFi https://t.co/lLwhYqSLZY   \n",
       "\n",
       "                   created_at  \n",
       "0   2022-09-13 20:41:55+00:00  \n",
       "1   2022-09-13 20:40:00+00:00  \n",
       "2   2022-09-13 20:39:03+00:00  \n",
       "3   2022-09-13 20:37:10+00:00  \n",
       "4   2022-09-13 20:36:30+00:00  \n",
       "..                        ...  \n",
       "145 2022-09-13 15:56:10+00:00  \n",
       "146 2022-09-13 15:55:03+00:00  \n",
       "147 2022-09-13 15:52:39+00:00  \n",
       "148 2022-09-13 15:52:37+00:00  \n",
       "149 2022-09-13 15:52:35+00:00  \n",
       "\n",
       "[150 rows x 2 columns]"
      ]
     },
     "execution_count": 83,
     "metadata": {},
     "output_type": "execute_result"
    }
   ],
   "source": [
    "# Google\n",
    "import pandas as pd\n",
    "\n",
    "query='Google assistant -is:retweet'\n",
    "\n",
    "tweets= []\n",
    "\n",
    "for tweet in tweepy.Paginator(client.search_recent_tweets, query=query,\n",
    "                              tweet_fields=['context_annotations', 'created_at','public_metrics'], max_results=100).flatten(limit=150):\n",
    "    tweets.append(tweet)\n",
    "\n",
    "tweet_df = pd.DataFrame()\n",
    "tweet_df['text']= [tweet.text for tweet in tweets]\n",
    "tweet_df['created_at']= [tweet.created_at for tweet in tweets]\n",
    "\n",
    "tweet_df"
   ]
  },
  {
   "cell_type": "code",
   "execution_count": 84,
   "id": "0727fbe5",
   "metadata": {
    "scrolled": true
   },
   "outputs": [
    {
     "data": {
      "text/html": [
       "<div>\n",
       "<style scoped>\n",
       "    .dataframe tbody tr th:only-of-type {\n",
       "        vertical-align: middle;\n",
       "    }\n",
       "\n",
       "    .dataframe tbody tr th {\n",
       "        vertical-align: top;\n",
       "    }\n",
       "\n",
       "    .dataframe thead th {\n",
       "        text-align: right;\n",
       "    }\n",
       "</style>\n",
       "<table border=\"1\" class=\"dataframe\">\n",
       "  <thead>\n",
       "    <tr style=\"text-align: right;\">\n",
       "      <th></th>\n",
       "      <th>text</th>\n",
       "      <th>created_at</th>\n",
       "    </tr>\n",
       "  </thead>\n",
       "  <tbody>\n",
       "    <tr>\n",
       "      <th>0</th>\n",
       "      <td>Philips Hue Dusk-to-Dawn Wireless Outdoor Motion Sensor for Smart Home $35 at Amazon https://t.co/GQf84nVZJj</td>\n",
       "      <td>2022-09-13 15:30:38+00:00</td>\n",
       "    </tr>\n",
       "    <tr>\n",
       "      <th>1</th>\n",
       "      <td>Echo Show (2nd Gen) with Philips Hue Bulbs - Alexa smart home starter kit - Charcoal [LMYQKTV]\\n\\nhttps://t.co/5befPrVweo</td>\n",
       "      <td>2022-09-12 04:51:58+00:00</td>\n",
       "    </tr>\n",
       "    <tr>\n",
       "      <th>2</th>\n",
       "      <td>Philips Hue Smart Wireless Dimmer Switch V2 (Installation-Free, Exclusive for Philips Hue Lights) For Indoor Home Lighting, L [NYKC6FH]\\n\\nhttps://t.co/4KumBNl0HI</td>\n",
       "      <td>2022-09-11 23:07:25+00:00</td>\n",
       "    </tr>\n",
       "    <tr>\n",
       "      <th>3</th>\n",
       "      <td>Philips Hue Tap, Smart Light Switch without Batteries (Requires Hue Hub, Installation-Free, Smart Home, Exclusively for Phili [USYGOWQ]\\n\\nhttps://t.co/jzfdvL0izd</td>\n",
       "      <td>2022-09-11 01:27:25+00:00</td>\n",
       "    </tr>\n",
       "    <tr>\n",
       "      <th>4</th>\n",
       "      <td>Should I buy new smart home devices now or wait for Matter? https://t.co/yYmyVWLNbZ\\n\\nCredit: Philips Hue\\n\\nIf you’re following smart home tech closely, you’ve probably heard of the Matter standard. Be sure to check out our Matter guide for more details, but in short, it’s an upc…</td>\n",
       "      <td>2022-09-10 20:40:37+00:00</td>\n",
       "    </tr>\n",
       "    <tr>\n",
       "      <th>5</th>\n",
       "      <td>Smarter Deal: Philips-Hue-Set + Amazon Echo Dot https://t.co/clckVVoMH3</td>\n",
       "      <td>2022-09-10 07:07:30+00:00</td>\n",
       "    </tr>\n",
       "    <tr>\n",
       "      <th>6</th>\n",
       "      <td>How to set up Philips Hue smart bulbs in Apple Home https://t.co/tpqtd1JbGw</td>\n",
       "      <td>2022-09-10 04:58:35+00:00</td>\n",
       "    </tr>\n",
       "    <tr>\n",
       "      <th>7</th>\n",
       "      <td>Ordered the new Philips Hue Tap Dial Switch from @tweethue *during* the IoTPodcast on Wednesday and it arrived already. Tune in to the podcast to hear Stacey’s review as it has already earned a permanent place on my office desk. Yes, she convinced me! https://t.co/LlV8anBUdm https://t.co/SVCCvUrj4X</td>\n",
       "      <td>2022-09-09 19:04:33+00:00</td>\n",
       "    </tr>\n",
       "    <tr>\n",
       "      <th>8</th>\n",
       "      <td>How to set up Philips Hue smart bulbs in Apple Home https://t.co/6QLrv4geep</td>\n",
       "      <td>2022-09-09 18:21:25+00:00</td>\n",
       "    </tr>\n",
       "    <tr>\n",
       "      <th>9</th>\n",
       "      <td>How to set up Philips Hue smart bulbs in Apple Home (The Verge)\\n\\nControlling smart lighting with your voice is one of the most useful features of a smart home.\\n\\nAdd your highlights:\\nhttps://t.co/HEDv4kLJjX\\n #apple</td>\n",
       "      <td>2022-09-09 18:13:09+00:00</td>\n",
       "    </tr>\n",
       "    <tr>\n",
       "      <th>10</th>\n",
       "      <td>How to set up Philips Hue smart bulbs in Apple Home https://t.co/aXyiO7tCat</td>\n",
       "      <td>2022-09-09 17:38:09+00:00</td>\n",
       "    </tr>\n",
       "    <tr>\n",
       "      <th>11</th>\n",
       "      <td>Echo Studio – High-fidelity smart speaker with Philips Hue Bulb – Alexa smart home starter kit [T3RSNNL]\\n\\nhttps://t.co/AJM6XsaVEp</td>\n",
       "      <td>2022-09-09 12:20:30+00:00</td>\n",
       "    </tr>\n",
       "    <tr>\n",
       "      <th>12</th>\n",
       "      <td>Amazon - $34.99 ($49.99) Philips Hue Dusk-to-Dawn Outdoor Motion Sensor for Smart Home, Wireless &amp;amp; Easy to Install (Hue Hub Required, for use with Philips Hue Smart Lights) (Renewed)\\nhttps://t.co/CLCAxUuVwS https://t.co/OcJ7iotMcF</td>\n",
       "      <td>2022-09-09 07:23:48+00:00</td>\n",
       "    </tr>\n",
       "    <tr>\n",
       "      <th>13</th>\n",
       "      <td>Philips Hue Starter Kit w/Remote iwith Echo Dot (4th Gen) | Charcoal | Alexa smart home starter kit via @amazon #Amazon🇺🇸 https://t.co/gDKBzmOr4c</td>\n",
       "      <td>2022-09-09 03:36:23+00:00</td>\n",
       "    </tr>\n",
       "    <tr>\n",
       "      <th>14</th>\n",
       "      <td>Philips Hue Starter Kit w/Remote with Echo Dot (4th Gen) | Glacier White | Alexa smart home starter kit via @amazon #Amazon🇺🇸 https://t.co/FTHlC88B3O</td>\n",
       "      <td>2022-09-09 00:58:16+00:00</td>\n",
       "    </tr>\n",
       "    <tr>\n",
       "      <th>15</th>\n",
       "      <td>Philips Hue Smart Wireless Dimmer Switch V2 (Installation-Free, Exclusive for Philips Hue Lights) For Indoor Home Lighting, L [YIMPFJ1]\\n\\nhttps://t.co/7ek5v8rHvK</td>\n",
       "      <td>2022-09-08 19:18:06+00:00</td>\n",
       "    </tr>\n",
       "    <tr>\n",
       "      <th>16</th>\n",
       "      <td>Philips Hue Tap, Smart Light Switch without Batteries (Requires Hue Hub, Installation-Free, Smart Home, Exclusively for Phili [ZNKDQ2D]\\n\\nhttps://t.co/Vg1Sr7KqjC</td>\n",
       "      <td>2022-09-08 05:41:00+00:00</td>\n",
       "    </tr>\n",
       "    <tr>\n",
       "      <th>17</th>\n",
       "      <td>May the colourful lights of Onam fill your home with happiness and prosperity! \\n\\nPhilips lighting wishes everyone a very #HappyOnam!\\n\\n#onam #onam2022 #festive #harvest #celebrate #happiness #auspicious #holy #blessed #philipslighting #smart #smartlights https://t.co/uwgwEPwZhc</td>\n",
       "      <td>2022-09-08 05:40:19+00:00</td>\n",
       "    </tr>\n",
       "    <tr>\n",
       "      <th>18</th>\n",
       "      <td>I just received a gift from Remmykinz via Throne Gifts: Philips Hue Play White &amp;amp; Color Smart Light, 2 Pack Base kit, Hub Required/Power Supply Included (Works with Amazon Alexa, Apple Homekit &amp;amp; Google Home) - Base. Thank you! https://t.co/Ph12A3Yoi3 #Wishlist #Throne https://t.co/HHncbuut0u</td>\n",
       "      <td>2022-09-08 02:15:31+00:00</td>\n",
       "    </tr>\n",
       "    <tr>\n",
       "      <th>19</th>\n",
       "      <td>Philips Hue Dusk-to-Dawn Outdoor Motion Sensor for Smart Home, Wireless &amp;amp; Easy to Install (Hue Hub Required, for use with Phi [AU35IPC]\\n\\nhttps://t.co/wAxK7mw2Q8 https://t.co/WikOVeZqUK</td>\n",
       "      <td>2022-09-07 17:35:54+00:00</td>\n",
       "    </tr>\n",
       "    <tr>\n",
       "      <th>20</th>\n",
       "      <td>Philips Hue Dusk-to-Dawn Wireless Outdoor Motion Sensor for Smart Home $35 + Free Shipping https://t.co/Eh8uj7zrrA \\n*Slickdeals may get paid by brands or deals.</td>\n",
       "      <td>2022-09-07 17:31:03+00:00</td>\n",
       "    </tr>\n",
       "    <tr>\n",
       "      <th>21</th>\n",
       "      <td>tink DE |  | Smart Home Tage - Bis zu -60% auf Sonos, tado, Google Nest, Nuki, Netatmo, Arlo, Philips Hue und viele weitere Top Marken | https://t.co/CUzuS5PyWS</td>\n",
       "      <td>2022-09-07 16:01:23+00:00</td>\n",
       "    </tr>\n",
       "    <tr>\n",
       "      <th>22</th>\n",
       "      <td>tink AT |  | Smart Home Tage - Bis zu -60% auf Sonos, tado, Google Nest, Nuki, Netatmo, Arlo, Philips Hue und viele weitere Top Marken | https://t.co/Qfclht4dK0</td>\n",
       "      <td>2022-09-07 15:59:13+00:00</td>\n",
       "    </tr>\n",
       "    <tr>\n",
       "      <th>23</th>\n",
       "      <td>#promo #Home_and_Garden\\nPhilips Hue White &amp;amp; Colour Ambiance Smart Bulb Twin Pack\\n\\n£47,41 » $54.11 ~ 54,65 €\\n\\nAmazon UK's regular price (without coupon or flash sale): £95,83\\n\\nCheck all the promos coming in @ https://t.co/RQ47SozVLs https://t.co/CXbJ0V8X62</td>\n",
       "      <td>2022-09-07 14:58:37+00:00</td>\n",
       "    </tr>\n",
       "    <tr>\n",
       "      <th>24</th>\n",
       "      <td>Echo Show (2nd Gen) with Philips Hue Bulbs - Alexa smart home starter kit - Sandstone [0UVTZHZ]\\n\\nhttps://t.co/ysrXUV2bZk</td>\n",
       "      <td>2022-09-07 07:50:12+00:00</td>\n",
       "    </tr>\n",
       "    <tr>\n",
       "      <th>25</th>\n",
       "      <td>Check out Philips Hue New Smart Home Accessories - Fall 2022 featuring gradient light strips for PC, unique lightbulbs and more. #smarthome #smartlights https://t.co/MUa0Rywdfk via @theapptimes</td>\n",
       "      <td>2022-09-07 02:26:36+00:00</td>\n",
       "    </tr>\n",
       "    <tr>\n",
       "      <th>26</th>\n",
       "      <td>Philips Bluetooth Stereo System for Home with CD Player, MP3, USB, Audio in, FM Radio, Bass Reflex Speaker, 18W, Remote Control Included https://t.co/gOXQdh3flB \\n\\n#EliteViser\\n#HomeEntertainment https://t.co/wuJjs3AFdZ</td>\n",
       "      <td>2022-09-06 23:58:19+00:00</td>\n",
       "    </tr>\n",
       "  </tbody>\n",
       "</table>\n",
       "</div>"
      ],
      "text/plain": [
       "                                                                                                                                                                                                                                                                                                           text  \\\n",
       "0                                                                                                                                                                                                  Philips Hue Dusk-to-Dawn Wireless Outdoor Motion Sensor for Smart Home $35 at Amazon https://t.co/GQf84nVZJj   \n",
       "1                                                                                                                                                                                     Echo Show (2nd Gen) with Philips Hue Bulbs - Alexa smart home starter kit - Charcoal [LMYQKTV]\\n\\nhttps://t.co/5befPrVweo   \n",
       "2                                                                                                                                            Philips Hue Smart Wireless Dimmer Switch V2 (Installation-Free, Exclusive for Philips Hue Lights) For Indoor Home Lighting, L [NYKC6FH]\\n\\nhttps://t.co/4KumBNl0HI   \n",
       "3                                                                                                                                            Philips Hue Tap, Smart Light Switch without Batteries (Requires Hue Hub, Installation-Free, Smart Home, Exclusively for Phili [USYGOWQ]\\n\\nhttps://t.co/jzfdvL0izd   \n",
       "4                   Should I buy new smart home devices now or wait for Matter? https://t.co/yYmyVWLNbZ\\n\\nCredit: Philips Hue\\n\\nIf you’re following smart home tech closely, you’ve probably heard of the Matter standard. Be sure to check out our Matter guide for more details, but in short, it’s an upc…   \n",
       "5                                                                                                                                                                                                                                       Smarter Deal: Philips-Hue-Set + Amazon Echo Dot https://t.co/clckVVoMH3   \n",
       "6                                                                                                                                                                                                                                   How to set up Philips Hue smart bulbs in Apple Home https://t.co/tpqtd1JbGw   \n",
       "7   Ordered the new Philips Hue Tap Dial Switch from @tweethue *during* the IoTPodcast on Wednesday and it arrived already. Tune in to the podcast to hear Stacey’s review as it has already earned a permanent place on my office desk. Yes, she convinced me! https://t.co/LlV8anBUdm https://t.co/SVCCvUrj4X   \n",
       "8                                                                                                                                                                                                                                   How to set up Philips Hue smart bulbs in Apple Home https://t.co/6QLrv4geep   \n",
       "9                                                                                   How to set up Philips Hue smart bulbs in Apple Home (The Verge)\\n\\nControlling smart lighting with your voice is one of the most useful features of a smart home.\\n\\nAdd your highlights:\\nhttps://t.co/HEDv4kLJjX\\n #apple   \n",
       "10                                                                                                                                                                                                                                  How to set up Philips Hue smart bulbs in Apple Home https://t.co/aXyiO7tCat   \n",
       "11                                                                                                                                                                          Echo Studio – High-fidelity smart speaker with Philips Hue Bulb – Alexa smart home starter kit [T3RSNNL]\\n\\nhttps://t.co/AJM6XsaVEp   \n",
       "12                                                                  Amazon - $34.99 ($49.99) Philips Hue Dusk-to-Dawn Outdoor Motion Sensor for Smart Home, Wireless &amp; Easy to Install (Hue Hub Required, for use with Philips Hue Smart Lights) (Renewed)\\nhttps://t.co/CLCAxUuVwS https://t.co/OcJ7iotMcF   \n",
       "13                                                                                                                                                            Philips Hue Starter Kit w/Remote iwith Echo Dot (4th Gen) | Charcoal | Alexa smart home starter kit via @amazon #Amazon🇺🇸 https://t.co/gDKBzmOr4c   \n",
       "14                                                                                                                                                        Philips Hue Starter Kit w/Remote with Echo Dot (4th Gen) | Glacier White | Alexa smart home starter kit via @amazon #Amazon🇺🇸 https://t.co/FTHlC88B3O   \n",
       "15                                                                                                                                           Philips Hue Smart Wireless Dimmer Switch V2 (Installation-Free, Exclusive for Philips Hue Lights) For Indoor Home Lighting, L [YIMPFJ1]\\n\\nhttps://t.co/7ek5v8rHvK   \n",
       "16                                                                                                                                           Philips Hue Tap, Smart Light Switch without Batteries (Requires Hue Hub, Installation-Free, Smart Home, Exclusively for Phili [ZNKDQ2D]\\n\\nhttps://t.co/Vg1Sr7KqjC   \n",
       "17                    May the colourful lights of Onam fill your home with happiness and prosperity! \\n\\nPhilips lighting wishes everyone a very #HappyOnam!\\n\\n#onam #onam2022 #festive #harvest #celebrate #happiness #auspicious #holy #blessed #philipslighting #smart #smartlights https://t.co/uwgwEPwZhc   \n",
       "18  I just received a gift from Remmykinz via Throne Gifts: Philips Hue Play White &amp; Color Smart Light, 2 Pack Base kit, Hub Required/Power Supply Included (Works with Amazon Alexa, Apple Homekit &amp; Google Home) - Base. Thank you! https://t.co/Ph12A3Yoi3 #Wishlist #Throne https://t.co/HHncbuut0u   \n",
       "19                                                                                                               Philips Hue Dusk-to-Dawn Outdoor Motion Sensor for Smart Home, Wireless &amp; Easy to Install (Hue Hub Required, for use with Phi [AU35IPC]\\n\\nhttps://t.co/wAxK7mw2Q8 https://t.co/WikOVeZqUK   \n",
       "20                                                                                                                                            Philips Hue Dusk-to-Dawn Wireless Outdoor Motion Sensor for Smart Home $35 + Free Shipping https://t.co/Eh8uj7zrrA \\n*Slickdeals may get paid by brands or deals.   \n",
       "21                                                                                                                                             tink DE |  | Smart Home Tage - Bis zu -60% auf Sonos, tado, Google Nest, Nuki, Netatmo, Arlo, Philips Hue und viele weitere Top Marken | https://t.co/CUzuS5PyWS   \n",
       "22                                                                                                                                             tink AT |  | Smart Home Tage - Bis zu -60% auf Sonos, tado, Google Nest, Nuki, Netatmo, Arlo, Philips Hue und viele weitere Top Marken | https://t.co/Qfclht4dK0   \n",
       "23                                   #promo #Home_and_Garden\\nPhilips Hue White &amp; Colour Ambiance Smart Bulb Twin Pack\\n\\n£47,41 » $54.11 ~ 54,65 €\\n\\nAmazon UK's regular price (without coupon or flash sale): £95,83\\n\\nCheck all the promos coming in @ https://t.co/RQ47SozVLs https://t.co/CXbJ0V8X62   \n",
       "24                                                                                                                                                                                   Echo Show (2nd Gen) with Philips Hue Bulbs - Alexa smart home starter kit - Sandstone [0UVTZHZ]\\n\\nhttps://t.co/ysrXUV2bZk   \n",
       "25                                                                                                            Check out Philips Hue New Smart Home Accessories - Fall 2022 featuring gradient light strips for PC, unique lightbulbs and more. #smarthome #smartlights https://t.co/MUa0Rywdfk via @theapptimes   \n",
       "26                                                                                 Philips Bluetooth Stereo System for Home with CD Player, MP3, USB, Audio in, FM Radio, Bass Reflex Speaker, 18W, Remote Control Included https://t.co/gOXQdh3flB \\n\\n#EliteViser\\n#HomeEntertainment https://t.co/wuJjs3AFdZ   \n",
       "\n",
       "                  created_at  \n",
       "0  2022-09-13 15:30:38+00:00  \n",
       "1  2022-09-12 04:51:58+00:00  \n",
       "2  2022-09-11 23:07:25+00:00  \n",
       "3  2022-09-11 01:27:25+00:00  \n",
       "4  2022-09-10 20:40:37+00:00  \n",
       "5  2022-09-10 07:07:30+00:00  \n",
       "6  2022-09-10 04:58:35+00:00  \n",
       "7  2022-09-09 19:04:33+00:00  \n",
       "8  2022-09-09 18:21:25+00:00  \n",
       "9  2022-09-09 18:13:09+00:00  \n",
       "10 2022-09-09 17:38:09+00:00  \n",
       "11 2022-09-09 12:20:30+00:00  \n",
       "12 2022-09-09 07:23:48+00:00  \n",
       "13 2022-09-09 03:36:23+00:00  \n",
       "14 2022-09-09 00:58:16+00:00  \n",
       "15 2022-09-08 19:18:06+00:00  \n",
       "16 2022-09-08 05:41:00+00:00  \n",
       "17 2022-09-08 05:40:19+00:00  \n",
       "18 2022-09-08 02:15:31+00:00  \n",
       "19 2022-09-07 17:35:54+00:00  \n",
       "20 2022-09-07 17:31:03+00:00  \n",
       "21 2022-09-07 16:01:23+00:00  \n",
       "22 2022-09-07 15:59:13+00:00  \n",
       "23 2022-09-07 14:58:37+00:00  \n",
       "24 2022-09-07 07:50:12+00:00  \n",
       "25 2022-09-07 02:26:36+00:00  \n",
       "26 2022-09-06 23:58:19+00:00  "
      ]
     },
     "execution_count": 84,
     "metadata": {},
     "output_type": "execute_result"
    }
   ],
   "source": [
    "# Philips\n",
    "import pandas as pd\n",
    "\n",
    "query='Philips smart home -is:retweet'\n",
    "\n",
    "tweets= []\n",
    "\n",
    "for tweet in tweepy.Paginator(client.search_recent_tweets, query=query,\n",
    "                              tweet_fields=['context_annotations', 'created_at','public_metrics'], max_results=100).flatten(limit=150):\n",
    "    tweets.append(tweet)\n",
    "\n",
    "    \n",
    "\n",
    "tweet_df = pd.DataFrame()\n",
    "tweet_df['text']= [tweet.text for tweet in tweets]\n",
    "tweet_df['created_at']= [tweet.created_at for tweet in tweets]\n",
    "#tweet_df['retweet_count']= [tweet.public_metrics['retweet_count'] for tweet in tweets]\n",
    "#tweet_df['like_count']= [tweet.public_metrics['like_count']for tweet in tweets]\n",
    "#tweet_df['source']= [tweet.source for tweet in tweets]\n",
    "#tweet_df['geo']=[tweet.withheld for tweet in tweets]\n",
    "#tweet_df['reply_count']= [tweet.public_metrics['reply_count']for tweet in tweets]\n",
    "\n",
    "tweet_df"
   ]
  },
  {
   "cell_type": "code",
   "execution_count": 87,
   "id": "b39cbfc1",
   "metadata": {},
   "outputs": [
    {
     "data": {
      "text/html": [
       "<div>\n",
       "<style scoped>\n",
       "    .dataframe tbody tr th:only-of-type {\n",
       "        vertical-align: middle;\n",
       "    }\n",
       "\n",
       "    .dataframe tbody tr th {\n",
       "        vertical-align: top;\n",
       "    }\n",
       "\n",
       "    .dataframe thead th {\n",
       "        text-align: right;\n",
       "    }\n",
       "</style>\n",
       "<table border=\"1\" class=\"dataframe\">\n",
       "  <thead>\n",
       "    <tr style=\"text-align: right;\">\n",
       "      <th></th>\n",
       "      <th>text</th>\n",
       "      <th>created_at</th>\n",
       "    </tr>\n",
       "  </thead>\n",
       "  <tbody>\n",
       "    <tr>\n",
       "      <th>0</th>\n",
       "      <td>#matter is poised to become the new standard for #smarthome #connectivity in the #internetofthings space. Backed by Apple, Google, Amazon, Huawei, Infineon Technologies, and LG Electronics, to list the top names, if seems ready to…https://t.co/RkxWU8U0K4 https://t.co/wW9SNDjkFp</td>\n",
       "      <td>2022-09-10 17:14:54+00:00</td>\n",
       "    </tr>\n",
       "    <tr>\n",
       "      <th>1</th>\n",
       "      <td>We would like to thank Huawei, one of our sponsors for the Axie Convention.\\n\\nHuawei is a leading global provider of ICT infrastructure and smart devices aiming to bring digital to every person, home and organization for a fully connected world.\\n\\nLink: https://t.co/cHPDOp27Fe https://t.co/LEtIMEh9Di</td>\n",
       "      <td>2022-09-07 12:00:31+00:00</td>\n",
       "    </tr>\n",
       "    <tr>\n",
       "      <th>2</th>\n",
       "      <td>China made smart city development a priority starting 2012 and was home to 749 pilot smart city projects by 2019. Leading Chinese firms—Alibaba, Huawei, ZTE, and others—provide technology infrastructure for managing smart cities.\\n#digitalinfrastructure\\n\\nhttps://t.co/oFHU9xtV7t</td>\n",
       "      <td>2022-09-07 11:29:09+00:00</td>\n",
       "    </tr>\n",
       "  </tbody>\n",
       "</table>\n",
       "</div>"
      ],
      "text/plain": [
       "                                                                                                                                                                                                                                                                                                              text  \\\n",
       "0                           #matter is poised to become the new standard for #smarthome #connectivity in the #internetofthings space. Backed by Apple, Google, Amazon, Huawei, Infineon Technologies, and LG Electronics, to list the top names, if seems ready to…https://t.co/RkxWU8U0K4 https://t.co/wW9SNDjkFp   \n",
       "1  We would like to thank Huawei, one of our sponsors for the Axie Convention.\\n\\nHuawei is a leading global provider of ICT infrastructure and smart devices aiming to bring digital to every person, home and organization for a fully connected world.\\n\\nLink: https://t.co/cHPDOp27Fe https://t.co/LEtIMEh9Di   \n",
       "2                         China made smart city development a priority starting 2012 and was home to 749 pilot smart city projects by 2019. Leading Chinese firms—Alibaba, Huawei, ZTE, and others—provide technology infrastructure for managing smart cities.\\n#digitalinfrastructure\\n\\nhttps://t.co/oFHU9xtV7t   \n",
       "\n",
       "                 created_at  \n",
       "0 2022-09-10 17:14:54+00:00  \n",
       "1 2022-09-07 12:00:31+00:00  \n",
       "2 2022-09-07 11:29:09+00:00  "
      ]
     },
     "execution_count": 87,
     "metadata": {},
     "output_type": "execute_result"
    }
   ],
   "source": [
    "# Huawei\n",
    "import pandas as pd\n",
    "\n",
    "query='Huawei smart home -is:retweet'\n",
    "\n",
    "tweets= []\n",
    "\n",
    "for tweet in tweepy.Paginator(client.search_recent_tweets, query=query,\n",
    "                              tweet_fields=['context_annotations', 'created_at','public_metrics'], max_results=100).flatten(limit=150):\n",
    "    tweets.append(tweet)\n",
    "\n",
    "    \n",
    "\n",
    "tweet_df = pd.DataFrame()\n",
    "tweet_df['text']= [tweet.text for tweet in tweets]\n",
    "tweet_df['created_at']= [tweet.created_at for tweet in tweets]\n",
    "#tweet_df['retweet_count']= [tweet.public_metrics['retweet_count'] for tweet in tweets]\n",
    "#tweet_df['like_count']= [tweet.public_metrics['like_count']for tweet in tweets]\n",
    "#tweet_df['source']= [tweet.source for tweet in tweets]\n",
    "#tweet_df['geo']=[tweet.withheld for tweet in tweets]\n",
    "#tweet_df['reply_count']= [tweet.public_metrics['reply_count']for tweet in tweets]\n",
    "\n",
    "tweet_df"
   ]
  },
  {
   "cell_type": "code",
   "execution_count": 85,
   "id": "8785138c",
   "metadata": {
    "scrolled": false
   },
   "outputs": [
    {
     "data": {
      "text/html": [
       "<div>\n",
       "<style scoped>\n",
       "    .dataframe tbody tr th:only-of-type {\n",
       "        vertical-align: middle;\n",
       "    }\n",
       "\n",
       "    .dataframe tbody tr th {\n",
       "        vertical-align: top;\n",
       "    }\n",
       "\n",
       "    .dataframe thead th {\n",
       "        text-align: right;\n",
       "    }\n",
       "</style>\n",
       "<table border=\"1\" class=\"dataframe\">\n",
       "  <thead>\n",
       "    <tr style=\"text-align: right;\">\n",
       "      <th></th>\n",
       "      <th>text</th>\n",
       "      <th>created_at</th>\n",
       "    </tr>\n",
       "  </thead>\n",
       "  <tbody>\n",
       "    <tr>\n",
       "      <th>0</th>\n",
       "      <td>Amazon has recently purchased iRobot — the company behind Roomba robot vacuum cleaners.\\n\\nRead more: https://t.co/uQzVlWfVtH\\n\\n#Amazon #SmartHome #SmartTech #SmartTechnology https://t.co/uQzVlWfVtH</td>\n",
       "      <td>2022-09-12 08:45:37+00:00</td>\n",
       "    </tr>\n",
       "    <tr>\n",
       "      <th>1</th>\n",
       "      <td>🏠. la smart home #Amazon fait un grand pas avec l'acquisition d'iRobot ! déjà 15M d'utilisateurs ont accepté le partage de leurs données, et ce n'est qu'un début\\n\\nDécryptage in @frenchweb : https://t.co/qwzWmGcbhW \\n\\n#maisonconnecte #data #assurance https://t.co/tsIPGgFOH7</td>\n",
       "      <td>2022-09-12 07:30:15+00:00</td>\n",
       "    </tr>\n",
       "    <tr>\n",
       "      <th>2</th>\n",
       "      <td>Buying iRobot will \"entrench Amazon's hold on the smart home technology ecosystem, eliminate competition in that sector &amp;amp; enhance the company's monopoly power.\"\\n\\nhttps://t.co/2LB7x0kPB4 via @commondreams</td>\n",
       "      <td>2022-09-11 20:55:54+00:00</td>\n",
       "    </tr>\n",
       "    <tr>\n",
       "      <th>3</th>\n",
       "      <td>Buying iRobot will \"entrench Amazon's hold on the smart home technology ecosystem, eliminate competition in that sector &amp;amp; enhance the company's monopoly power.\"\\n\\nhttps://t.co/qcM75O6J5C via @commondreams</td>\n",
       "      <td>2022-09-11 19:37:08+00:00</td>\n",
       "    </tr>\n",
       "    <tr>\n",
       "      <th>4</th>\n",
       "      <td>Buying iRobot will \"entrench Amazon's hold on the smart home technology ecosystem, eliminate competition in that sector, enhance the company's monopoly power.\"\\nNo more monopolies it’s time to dust off our anti trust laws!\\nhttps://t.co/0relvsd6Ve via @commondreams</td>\n",
       "      <td>2022-09-11 17:19:29+00:00</td>\n",
       "    </tr>\n",
       "    <tr>\n",
       "      <th>5</th>\n",
       "      <td>Is your Roomba spying on you? Privacy advocates slam Amazon's $1.7B iRobot deal that fuels 'pervasive surveillance' because it can map out entire home layouts and connect to smart devices...\\nvia https://t.co/VSUl7QLy5e https://t.co/lYqf9oAzqK</td>\n",
       "      <td>2022-09-11 15:38:31+00:00</td>\n",
       "    </tr>\n",
       "    <tr>\n",
       "      <th>6</th>\n",
       "      <td>Buying iRobot will \"entrench Amazon's hold on the smart home technology ecosystem, eliminate competition in that sector &amp;amp; enhance the company's monopoly power.\"\\n\\nhttps://t.co/cAwqHomehd via @commondreams</td>\n",
       "      <td>2022-09-11 12:50:20+00:00</td>\n",
       "    </tr>\n",
       "    <tr>\n",
       "      <th>7</th>\n",
       "      <td>#DTN #DailyTechNews\\n[Coalition Tells FTC to Curb Amazon 'Surveillance Empire' by Blocking Purchase of iRobot \"There is no more private space than the home. Yet with this a...]\\n#Amazon #home #Give #Surveillance #Sep #smart #data \\nhttps://t.co/saIMFhDepp</td>\n",
       "      <td>2022-09-10 22:00:12+00:00</td>\n",
       "    </tr>\n",
       "    <tr>\n",
       "      <th>8</th>\n",
       "      <td>Buying iRobot will \"entrench Amazon's hold on the smart home technology ecosystem, eliminate competition in that sector &amp;amp; enhance the company's monopoly power.\"\\n\\nhttps://t.co/INTN9RslLe via @commondreams</td>\n",
       "      <td>2022-09-10 21:08:52+00:00</td>\n",
       "    </tr>\n",
       "    <tr>\n",
       "      <th>9</th>\n",
       "      <td>Buying iRobot will \"entrench Amazon's hold on the smart home technology ecosystem, eliminate competition in that sector &amp;amp; enhance the company's monopoly power.\"\\n\\nhttps://t.co/fSU7m4Vxju</td>\n",
       "      <td>2022-09-10 20:32:12+00:00</td>\n",
       "    </tr>\n",
       "    <tr>\n",
       "      <th>10</th>\n",
       "      <td>Acquiring Roomba-maker iRobot will \"entrench Amazon's hold on the smart home technology ecosystem, eliminate competition in that sector, and enhance the company's monopoly power,\" groups including @fightfortheftr and @Public_Citizen warn the FTC. https://t.co/UPZdsnryxc</td>\n",
       "      <td>2022-09-10 16:26:17+00:00</td>\n",
       "    </tr>\n",
       "    <tr>\n",
       "      <th>11</th>\n",
       "      <td>Buying iRobot will \"entrench Amazon's hold on the smart home technology ecosystem, eliminate competition in that sector &amp;amp; enhance the company's monopoly power.\"\\n\\nhttps://t.co/wk41FcU5IC via @commondreams</td>\n",
       "      <td>2022-09-10 14:52:57+00:00</td>\n",
       "    </tr>\n",
       "    <tr>\n",
       "      <th>12</th>\n",
       "      <td>Buying iRobot will \"entrench Amazon's hold on the smart home technology ecosystem, eliminate competition in that sector &amp;amp; enhance the company's monopoly power.\"\\nhttps://t.co/cC1jF3zrTk</td>\n",
       "      <td>2022-09-10 13:15:13+00:00</td>\n",
       "    </tr>\n",
       "    <tr>\n",
       "      <th>13</th>\n",
       "      <td>Buying iRobot will \"entrench Amazon's hold on the smart home technology ecosystem, eliminate competition in that sector &amp;amp; enhance the company's monopoly power.\"\\n\\nhttps://t.co/WpiJQkyyp8 via @commondreams</td>\n",
       "      <td>2022-09-10 03:47:08+00:00</td>\n",
       "    </tr>\n",
       "    <tr>\n",
       "      <th>14</th>\n",
       "      <td>Buying iRobot will \"entrench Amazon's hold on the smart home technology ecosystem, eliminate competition in that sector &amp;amp; enhance the company's monopoly power.\"\\n\\nhttps://t.co/DShT4PgjyT via @commondreams</td>\n",
       "      <td>2022-09-10 01:11:43+00:00</td>\n",
       "    </tr>\n",
       "    <tr>\n",
       "      <th>15</th>\n",
       "      <td>Buying iRobot will \"entrench Amazon's hold on the smart home technology ecosystem, eliminate competition in that sector &amp;amp; enhance the company's monopoly power.\"\\n\\nhttps://t.co/oJ3san1RFb via @commondreams</td>\n",
       "      <td>2022-09-09 23:40:39+00:00</td>\n",
       "    </tr>\n",
       "    <tr>\n",
       "      <th>16</th>\n",
       "      <td>Buying iRobot will \"entrench Amazon's hold on the smart home technology ecosystem, eliminate competition in that sector &amp;amp; enhance the company's monopoly power.\"\\n\\nhttps://t.co/PRbKDYKTNN via @commondreams</td>\n",
       "      <td>2022-09-09 23:10:12+00:00</td>\n",
       "    </tr>\n",
       "    <tr>\n",
       "      <th>17</th>\n",
       "      <td>Buying iRobot will \"entrench Amazon's hold on the smart home technology ecosystem, eliminate competition in that sector &amp;amp; enhance the company's monopoly power.\"\\n\\nhttps://t.co/PRbKDYLrDl via @commondreams</td>\n",
       "      <td>2022-09-09 23:09:44+00:00</td>\n",
       "    </tr>\n",
       "    <tr>\n",
       "      <th>18</th>\n",
       "      <td>Buying iRobot will \"entrench Amazon's hold on the smart home technology ecosystem, eliminate competition in that sector &amp;amp; enhance the company's monopoly power.\"\\n\\nhttps://t.co/X0y63ljZfJ via @commondreams</td>\n",
       "      <td>2022-09-09 22:50:50+00:00</td>\n",
       "    </tr>\n",
       "    <tr>\n",
       "      <th>19</th>\n",
       "      <td>Buying iRobot will \"entrench Amazon's hold on the smart home technology ecosystem, eliminate competition in that sector &amp;amp; enhance the company's monopoly power.\"\\n\\nhttps://t.co/1QyA2qt0k5 via @commondreams</td>\n",
       "      <td>2022-09-09 21:13:38+00:00</td>\n",
       "    </tr>\n",
       "    <tr>\n",
       "      <th>20</th>\n",
       "      <td>Arguing that a deal between Amazon and iRobot would spark privacy concerns and strengthen Amazon's hold in smart home devices, a group of pro-privacy and worker organizations urged U.S. antitrust enforcers to stop Amazon from buying the Roomba-maker\\nhttps://t.co/PccSW3Swnl https://t.co/DUGE9O5J1t</td>\n",
       "      <td>2022-09-09 18:45:00+00:00</td>\n",
       "    </tr>\n",
       "    <tr>\n",
       "      <th>21</th>\n",
       "      <td>Acquiring Roomba-maker iRobot will \"entrench Amazon's hold on the smart home technology ecosystem, eliminate competition in that sector, and enhance the company's monopoly power,\" groups including @fightfortheftr and @Public_Citizen warn the FTC. https://t.co/24SM3aEy5p</td>\n",
       "      <td>2022-09-09 18:32:14+00:00</td>\n",
       "    </tr>\n",
       "    <tr>\n",
       "      <th>22</th>\n",
       "      <td>Naaah! Amazon wouldn't do that to unsuspecting customers! Yeah, right! \\n\\nIs your Roomba spying on you? Privacy advocates slam Amazon's $1.7B iRobot deal because it can map out entire home and connect to smart devices\\n\\nhttps://t.co/eItmrRJspQ</td>\n",
       "      <td>2022-09-09 17:36:52+00:00</td>\n",
       "    </tr>\n",
       "    <tr>\n",
       "      <th>23</th>\n",
       "      <td>@FaytheWhit The single biggest drawback to what little 'smart home' stuff I have. @awscloud @iRobot (still no ETA for service restoration per their app)</td>\n",
       "      <td>2022-09-09 17:31:22+00:00</td>\n",
       "    </tr>\n",
       "    <tr>\n",
       "      <th>24</th>\n",
       "      <td>Is your Roomba spying on you? Privacy advocates slam Amazon's $1.7B iRobot deal that fuels 'pervasive surveillance' because it can map out entire home layouts and connect to smart devices - as FTC now opens probe into buyout</td>\n",
       "      <td>2022-09-09 16:52:55+00:00</td>\n",
       "    </tr>\n",
       "    <tr>\n",
       "      <th>25</th>\n",
       "      <td>@iRobot Thanks for that helpful info! But I shouldn't need the internet to communicate with a smart device on my home network!</td>\n",
       "      <td>2022-09-09 15:25:33+00:00</td>\n",
       "    </tr>\n",
       "    <tr>\n",
       "      <th>26</th>\n",
       "      <td>Amazon and iRobot signed an agreement Thursday under which Amazon will acquire iRobot, supporting the online retail giant’s ambitions to solidify its foothold on smart home technology, according to The Wall Street Journal. iRobot makes the popular home-cleaning product Roomba... https://t.co/opcSBR9AEd</td>\n",
       "      <td>2022-09-09 08:24:21+00:00</td>\n",
       "    </tr>\n",
       "    <tr>\n",
       "      <th>27</th>\n",
       "      <td>Some of yall need to go back and watch \"Smart Home\" Disney movie and \"iRobot\" w/ will smith. Smart devices are not your friend unless you truly comprehend them. They are your enemy</td>\n",
       "      <td>2022-09-08 03:11:02+00:00</td>\n",
       "    </tr>\n",
       "  </tbody>\n",
       "</table>\n",
       "</div>"
      ],
      "text/plain": [
       "                                                                                                                                                                                                                                                                                                               text  \\\n",
       "0                                                                                                           Amazon has recently purchased iRobot — the company behind Roomba robot vacuum cleaners.\\n\\nRead more: https://t.co/uQzVlWfVtH\\n\\n#Amazon #SmartHome #SmartTech #SmartTechnology https://t.co/uQzVlWfVtH   \n",
       "1                              🏠. la smart home #Amazon fait un grand pas avec l'acquisition d'iRobot ! déjà 15M d'utilisateurs ont accepté le partage de leurs données, et ce n'est qu'un début\\n\\nDécryptage in @frenchweb : https://t.co/qwzWmGcbhW \\n\\n#maisonconnecte #data #assurance https://t.co/tsIPGgFOH7   \n",
       "2                                                                                                 Buying iRobot will \"entrench Amazon's hold on the smart home technology ecosystem, eliminate competition in that sector &amp; enhance the company's monopoly power.\"\\n\\nhttps://t.co/2LB7x0kPB4 via @commondreams   \n",
       "3                                                                                                 Buying iRobot will \"entrench Amazon's hold on the smart home technology ecosystem, eliminate competition in that sector &amp; enhance the company's monopoly power.\"\\n\\nhttps://t.co/qcM75O6J5C via @commondreams   \n",
       "4                                         Buying iRobot will \"entrench Amazon's hold on the smart home technology ecosystem, eliminate competition in that sector, enhance the company's monopoly power.\"\\nNo more monopolies it’s time to dust off our anti trust laws!\\nhttps://t.co/0relvsd6Ve via @commondreams   \n",
       "5                                                               Is your Roomba spying on you? Privacy advocates slam Amazon's $1.7B iRobot deal that fuels 'pervasive surveillance' because it can map out entire home layouts and connect to smart devices...\\nvia https://t.co/VSUl7QLy5e https://t.co/lYqf9oAzqK   \n",
       "6                                                                                                 Buying iRobot will \"entrench Amazon's hold on the smart home technology ecosystem, eliminate competition in that sector &amp; enhance the company's monopoly power.\"\\n\\nhttps://t.co/cAwqHomehd via @commondreams   \n",
       "7                                                   #DTN #DailyTechNews\\n[Coalition Tells FTC to Curb Amazon 'Surveillance Empire' by Blocking Purchase of iRobot \"There is no more private space than the home. Yet with this a...]\\n#Amazon #home #Give #Surveillance #Sep #smart #data \\nhttps://t.co/saIMFhDepp   \n",
       "8                                                                                                 Buying iRobot will \"entrench Amazon's hold on the smart home technology ecosystem, eliminate competition in that sector &amp; enhance the company's monopoly power.\"\\n\\nhttps://t.co/INTN9RslLe via @commondreams   \n",
       "9                                                                                                                   Buying iRobot will \"entrench Amazon's hold on the smart home technology ecosystem, eliminate competition in that sector &amp; enhance the company's monopoly power.\"\\n\\nhttps://t.co/fSU7m4Vxju   \n",
       "10                                   Acquiring Roomba-maker iRobot will \"entrench Amazon's hold on the smart home technology ecosystem, eliminate competition in that sector, and enhance the company's monopoly power,\" groups including @fightfortheftr and @Public_Citizen warn the FTC. https://t.co/UPZdsnryxc   \n",
       "11                                                                                                Buying iRobot will \"entrench Amazon's hold on the smart home technology ecosystem, eliminate competition in that sector &amp; enhance the company's monopoly power.\"\\n\\nhttps://t.co/wk41FcU5IC via @commondreams   \n",
       "12                                                                                                                    Buying iRobot will \"entrench Amazon's hold on the smart home technology ecosystem, eliminate competition in that sector &amp; enhance the company's monopoly power.\"\\nhttps://t.co/cC1jF3zrTk   \n",
       "13                                                                                                Buying iRobot will \"entrench Amazon's hold on the smart home technology ecosystem, eliminate competition in that sector &amp; enhance the company's monopoly power.\"\\n\\nhttps://t.co/WpiJQkyyp8 via @commondreams   \n",
       "14                                                                                                Buying iRobot will \"entrench Amazon's hold on the smart home technology ecosystem, eliminate competition in that sector &amp; enhance the company's monopoly power.\"\\n\\nhttps://t.co/DShT4PgjyT via @commondreams   \n",
       "15                                                                                                Buying iRobot will \"entrench Amazon's hold on the smart home technology ecosystem, eliminate competition in that sector &amp; enhance the company's monopoly power.\"\\n\\nhttps://t.co/oJ3san1RFb via @commondreams   \n",
       "16                                                                                                Buying iRobot will \"entrench Amazon's hold on the smart home technology ecosystem, eliminate competition in that sector &amp; enhance the company's monopoly power.\"\\n\\nhttps://t.co/PRbKDYKTNN via @commondreams   \n",
       "17                                                                                                Buying iRobot will \"entrench Amazon's hold on the smart home technology ecosystem, eliminate competition in that sector &amp; enhance the company's monopoly power.\"\\n\\nhttps://t.co/PRbKDYLrDl via @commondreams   \n",
       "18                                                                                                Buying iRobot will \"entrench Amazon's hold on the smart home technology ecosystem, eliminate competition in that sector &amp; enhance the company's monopoly power.\"\\n\\nhttps://t.co/X0y63ljZfJ via @commondreams   \n",
       "19                                                                                                Buying iRobot will \"entrench Amazon's hold on the smart home technology ecosystem, eliminate competition in that sector &amp; enhance the company's monopoly power.\"\\n\\nhttps://t.co/1QyA2qt0k5 via @commondreams   \n",
       "20       Arguing that a deal between Amazon and iRobot would spark privacy concerns and strengthen Amazon's hold in smart home devices, a group of pro-privacy and worker organizations urged U.S. antitrust enforcers to stop Amazon from buying the Roomba-maker\\nhttps://t.co/PccSW3Swnl https://t.co/DUGE9O5J1t   \n",
       "21                                   Acquiring Roomba-maker iRobot will \"entrench Amazon's hold on the smart home technology ecosystem, eliminate competition in that sector, and enhance the company's monopoly power,\" groups including @fightfortheftr and @Public_Citizen warn the FTC. https://t.co/24SM3aEy5p   \n",
       "22                                                            Naaah! Amazon wouldn't do that to unsuspecting customers! Yeah, right! \\n\\nIs your Roomba spying on you? Privacy advocates slam Amazon's $1.7B iRobot deal because it can map out entire home and connect to smart devices\\n\\nhttps://t.co/eItmrRJspQ   \n",
       "23                                                                                                                                                         @FaytheWhit The single biggest drawback to what little 'smart home' stuff I have. @awscloud @iRobot (still no ETA for service restoration per their app)   \n",
       "24                                                                                 Is your Roomba spying on you? Privacy advocates slam Amazon's $1.7B iRobot deal that fuels 'pervasive surveillance' because it can map out entire home layouts and connect to smart devices - as FTC now opens probe into buyout   \n",
       "25                                                                                                                                                                                   @iRobot Thanks for that helpful info! But I shouldn't need the internet to communicate with a smart device on my home network!   \n",
       "26  Amazon and iRobot signed an agreement Thursday under which Amazon will acquire iRobot, supporting the online retail giant’s ambitions to solidify its foothold on smart home technology, according to The Wall Street Journal. iRobot makes the popular home-cleaning product Roomba... https://t.co/opcSBR9AEd   \n",
       "27                                                                                                                             Some of yall need to go back and watch \"Smart Home\" Disney movie and \"iRobot\" w/ will smith. Smart devices are not your friend unless you truly comprehend them. They are your enemy   \n",
       "\n",
       "                  created_at  \n",
       "0  2022-09-12 08:45:37+00:00  \n",
       "1  2022-09-12 07:30:15+00:00  \n",
       "2  2022-09-11 20:55:54+00:00  \n",
       "3  2022-09-11 19:37:08+00:00  \n",
       "4  2022-09-11 17:19:29+00:00  \n",
       "5  2022-09-11 15:38:31+00:00  \n",
       "6  2022-09-11 12:50:20+00:00  \n",
       "7  2022-09-10 22:00:12+00:00  \n",
       "8  2022-09-10 21:08:52+00:00  \n",
       "9  2022-09-10 20:32:12+00:00  \n",
       "10 2022-09-10 16:26:17+00:00  \n",
       "11 2022-09-10 14:52:57+00:00  \n",
       "12 2022-09-10 13:15:13+00:00  \n",
       "13 2022-09-10 03:47:08+00:00  \n",
       "14 2022-09-10 01:11:43+00:00  \n",
       "15 2022-09-09 23:40:39+00:00  \n",
       "16 2022-09-09 23:10:12+00:00  \n",
       "17 2022-09-09 23:09:44+00:00  \n",
       "18 2022-09-09 22:50:50+00:00  \n",
       "19 2022-09-09 21:13:38+00:00  \n",
       "20 2022-09-09 18:45:00+00:00  \n",
       "21 2022-09-09 18:32:14+00:00  \n",
       "22 2022-09-09 17:36:52+00:00  \n",
       "23 2022-09-09 17:31:22+00:00  \n",
       "24 2022-09-09 16:52:55+00:00  \n",
       "25 2022-09-09 15:25:33+00:00  \n",
       "26 2022-09-09 08:24:21+00:00  \n",
       "27 2022-09-08 03:11:02+00:00  "
      ]
     },
     "execution_count": 85,
     "metadata": {},
     "output_type": "execute_result"
    }
   ],
   "source": [
    "# iRobot\n",
    "import pandas as pd\n",
    "\n",
    "query='iRobot smart home -is:retweet'\n",
    "\n",
    "tweets= []\n",
    "\n",
    "for tweet in tweepy.Paginator(client.search_recent_tweets, query=query,\n",
    "                              tweet_fields=['context_annotations', 'created_at','public_metrics'], max_results=100).flatten(limit=150):\n",
    "    tweets.append(tweet)\n",
    "\n",
    "tweet_df = pd.DataFrame()\n",
    "tweet_df['text']= [tweet.text for tweet in tweets]\n",
    "tweet_df['created_at']= [tweet.created_at for tweet in tweets]\n",
    "#tweet_df['retweet_count']= [tweet.public_metrics['retweet_count'] for tweet in tweets]\n",
    "#tweet_df['like_count']= [tweet.public_metrics['like_count']for tweet in tweets]\n",
    "#tweet_df['source']= [tweet.source for tweet in tweets]\n",
    "#tweet_df['geo']=[tweet.withheld for tweet in tweets]\n",
    "#tweet_df['reply_count']= [tweet.public_metrics['reply_count']for tweet in tweets]\n",
    "\n",
    "tweet_df"
   ]
  },
  {
   "cell_type": "code",
   "execution_count": 56,
   "id": "f44b724e",
   "metadata": {},
   "outputs": [
    {
     "name": "stdout",
     "output_type": "stream",
     "text": [
      "La Smart TV \"Mi TV P1 32\" Xiaomi ofrece grandes posibilidades gracias a su sistema Android y su tecnología Smart Home https://t.co/rd5l6faiDz\n",
      "Xiaomi NEW WIDETECH Internet Smart Home Dehumidifier 18L Hygroscopic Dehumidifier เครื่องลดความชื้น ควบคุมผ่านแอพได้ [GOX7NMF]\n",
      "\n",
      "https://t.co/I4JFSiJGlt\n",
      "Le @AqaraSmarthouse Smart Radiator Thermostat E1 est disponible en France (promo TRVE1UKEU)\n",
      "https://t.co/rQRxfp5SGO\n",
      "\n",
      "Zigbee 3.0 | Contrôle Vocal | Autonomie 1 an | Mode Anti-Gel | Regroupement de produits | App Aqara Home, HomeKit\n",
      "\n",
      "#Xiaomi #Aqara #Domotique #UniversXiaomi https://t.co/lWSwlHd9NY\n",
      "Slamoof#life #getoutside #amazing Xiaomi Mijia Wiha Daily Use Screw Kit 24 Precision Magnetic Bits Alluminum Box https://t.co/l53kBtP7Xd https://t.co/inSbiZJ0aJ\n",
      "Coupon Coupon XIAOMI Smart Outdoor Security Camera 1080P Wireless 5700mAh Rechargeable Battery Powered IP65 Waterproof Home Security Camera with WDR Smart Night Vision Two-way Audio PIR Human Detection Support TF Card U Disk Cloud Storage #banggood #c...\n",
      "https://t.co/YRrKSSFl0m\n",
      "Στα 72,86€ από αποθήκη Τσεχίας | XIAOMI Smart Outdoor Security Camera 1080P Wireless 5700mAh Rechargeable Battery Powered IP65 Waterproof Home Security Camera with WDR Smart Night Vision Two-way Audio PIR Human Detection Support TF Card U Disk… https://t.co/DjuxKmw5e7\n",
      "✔️ Xiaomi Smart Outdoor Security Camera 1080P 5700mAh MWC10 [EU] 🇪🇺️🇨🇿️\n",
      "🥇 Price: $72.99 \n",
      "🔗 Banggood URL (direct)   https://t.co/hfowTFxPOY\n",
      "🏆 DISCOUNT CODE is: BGd7d47f\n",
      "#Banggood https://t.co/n3JUcxGBH8\n",
      "✔️ Xiaomi IMILAB EC3 Outdoor IP Camera Global [EU] 🇪🇺️🇨🇿️\n",
      "🚨 Price: $59.99 \n",
      "🔗 Banggood Product URL (direct)   https://t.co/fmLmUMcrcl\n",
      "👉 COUPON CODE 🌍 BG073389\n",
      "#Banggood https://t.co/lxOrhGscRf\n",
      "https://t.co/Y1XPo7XcOP\n",
      "Xiaomi Mi Smart Home Security Camera 360° 1080P - Nuova Versione\n",
      "#security #italy #italia #love #travel #homesecurity #security #cctv https://t.co/iqFxSDmwXs\n",
      "TCL 55P739 55 Zoll Fernseher, 4K HDR, Ultra HD, Smart TV Powered by Google TV, Rahmenloses Design (Dolby Vision &amp; Atmos, Freihändige … (Affiliate Link, Details siehe Bio)\n",
      "https://t.co/VIrMUZwtkQ\n",
      "Xiaomi Mi Home Security Smart Camera 360° / Xiaomi Home Security Camera SE  ยังช่วยเพิ่มการมองเห็นและดูในที่มืดได้ง่ายn Home monitor Infrared night vision 2K U smart camera 300W pixel upgrade versionltra HD [EQWVG0W]\n",
      "\n",
      "https://t.co/vn0McQZyqX\n",
      "Xiaomi Mi Smart Camera PTZ 2K Mi Home Security Camera 1296p (GB Version) กล้องวงจรปิดไร้สายอัจฉริยะ [IZGVYMU]\n",
      "\n",
      "https://t.co/2liswpG7qj\n",
      "[เหลือ 1619 บ. โค้ด SA615IPSLOKP] Xiaomi Mi Smart Standing Fan 2 / Fan 1 X พัดลมตั้งพื้น เชื่อมต่อผ่านแอป Mi Home [BXYFSZU]\n",
      "\n",
      "https://t.co/NyhepEc3xk\n",
      "#hashtag1 2019Xiaomi Mijia Huohou Automatic Red Wine Bottle Opener Electric Corkscrew Foil Cutter Cork Out Tool For Xiaomi Smart Home Kits https://t.co/rvWM1FhYof https://t.co/Cdp5hvNPvg\n",
      "@superzetacp Xiaomi smart home con la cámara de Xiaomi. Barato y funciona perfecto. Recomendable totalmente\n",
      "Earlier this week, Xiaomi Malaysia launched no less than eight new smart home products. Watch this video to learn more about them – including a smart air fryer. https://t.co/br7hdTPXMX\n",
      "Xiaomi NEW WIDETECH Internet Smart Home Dehumidifier 18L Hygroscopic Dehumidifier เครื่องลดความชื้น ควบคุมผ่านแอพได้ [TIXO0FF]\n",
      "\n",
      "https://t.co/UAAALDlvos\n",
      "Xiaomi Aqara Human Body Sensor Smart Body Movement PIR Motion Sensor wireless Wifi Zigbee Use With Gateway for Mi home App\n",
      "\n",
      " $22.59\n",
      "\n",
      " https://t.co/dUQ1xsTcXM https://t.co/APtcC9Tzsr\n",
      "Xiaomi Mijia Smart Home 32 Speed Levels Electric Massage Gun Slimming Muscle Fascia Gun  Percussion Massagers Smart Home Gadgets https://t.co/kzSMdRflri\n",
      "Le CRMCR Retro Mechanical Smart Safe Deposit Box se dévoile en vidéo...\n",
      "\n",
      "Look retro | Nouvelle conception structurelle | Porte grand angle | Compatible Xiaomi Home⁠\n",
      "⁠\n",
      "#Xiaomi #CRMCR #Crowdfunding #UniversXiaomi https://t.co/W2etVjiY4S\n",
      "Weekend sorted. Brilliant collection now on home page of PatchWall, Redmi Xiaomi Smart TVs. \n",
      "\n",
      "The Rings of Power \n",
      "Thor Love and Thunder \n",
      "Sita Ramam \n",
      "\n",
      "Courtesy : Prime Video, Disney+Hotstar https://t.co/43E22nAKd5\n",
      "Cleaning Home Was Never This Much Convenient!\n",
      "\n",
      "Buy Now Mi Robot Vacuum Mop-2 Ultra &amp; Auto Empty Station, work Innovatively smart dust-collection technology that automatically empties the dustbin in the robot vacuum,\n",
      "\n",
      "Shop Now: https://t.co/mNzesyjw5r\n",
      "#Xiaomi #vacuum https://t.co/798T4jRLIG\n",
      "Xiaomi Unveils CyberOne, a Humanoid Robot That Can Sense Human Emotions :: can listen to human interactions and can recognise 85 types of environmental sounds and 45 classifications of human emotion | Technology News https://t.co/zDPXhkR6MY\n",
      "Xiaomi MIJIA Smart Clothes Dryer Pro is the perfect vertical dryer for your home https://t.co/ziuTxKTkYp\n",
      "@tomasmcguinness @esphome_ @home_assistant Sorry, somehow I managed to link the hungarian translated site of Banggood :) This should be the proper one: https://t.co/mfQwp9XbXW\n",
      "@tomasmcguinness @esphome_ @home_assistant The sensors identify themselves as \"LYWSD03MMC\" - https://t.co/JeYgcbbuzi\n",
      "Aqara RTCGQ11LM Smart Home Human Motion Sensor Security Device ( Xiaomi Ecosystem Product )­Tag a friend who would love this!\r",
      "FREE Shipping Worldwide\r",
      "Get it here ---&gt; https://t.co/93ETuUmdAL\r",
      "#hashtag4 https://t.co/r3MHzYG4Ke\n",
      "Xiaomi smart home appliances 2022 Malaysia: Price and spec roundup - https://t.co/cHtu3pkdGj https://t.co/dTfruMH37w #iot #trends #technology https://t.co/CZpA5GcPoW\n",
      "Xiaomi smart home appliances 2022 Malaysia: Price and spec roundup - https://t.co/dUpkl3o06K https://t.co/plZkKE7k8h\n",
      "Câmera Veicular Xiaomi 1080P Wi-Fi Mi Dash Cam 1S, SD Card – Preto | R$ 399.9 https://t.co/F20jFd0XdZ |\n",
      "If you’ve ever wanted to turn your house into a smart home, then Xiaomi has you covered with no less than eight new products, including TVs, an air fryer and even a toothbrush. https://t.co/NWyvezb5ep\n",
      "Xiaomi MIJIA Smart Clothes Dryer Pro Launched with a 35kg capacity: Xiaomi increased the smart home gadgets by adding yet another clothes-drying gadget to its lineup of devices. It is the Xiaomi MIJIA Smart Clothes Dryer Pro with a load-carrying capacity… https://t.co/V6RbKnVvsN\n",
      "@iamDCinvestor You should check this out if you want to expand your smart home!They have everything from robot vacuum cleaners to automatic curtains to smart toilets, all kinds of sensors and switches that you can customize.Tried most smart homes and xiaomi has the most extensive one by far.\n",
      "@iamDCinvestor For a cheaper and also more extensive smart home experience check out xiaomi. They have a way broader range of any product or appliance you could think of made smart, and one of the best and customisable systems to set up your smart home.\n",
      "Le CRMCR Retro Mechanical Smart Safe Deposit Box a été ajouté à la plateforme de Crowdfunding !\n",
      "\n",
      "Look retro | Nouvelle conception structurelle | Porte grand angle | Compatible Xiaomi Home\n",
      "\n",
      "#Xiaomi #CRMCR #Crowdfunding #UniversXiaomi https://t.co/t099RPcKEA\n",
      "Earlier this week, Xiaomi Malaysia launched no less than eight new smart home products. Watch this video to learn more about them – including a smart air fryer. https://t.co/eSKp2LMMhW\n",
      "Xiaomi smart home devices: Everything you need to know https://t.co/sL5cZyurmN\n",
      "Autonomous Home Cleaning, Get you to be Smart!\n",
      "\n",
      "Mi Robot Vacuum Mops come in a Classic design with Fully Upgraded features Taking mopping Power to the Next Level.\n",
      "\n",
      "Connect to the Xiaomi Home App for Wider Controls. \n",
      "\n",
      "Shop Now: https://t.co/4GP1KYw7Ym\n",
      "#xiaomi #DefenceDay https://t.co/5kHYaNacTX\n",
      "Xiaomi Youpin HOTO Smart Kitchen Scale Bluetooth Mijia APP Electronic Scale Smart Home Food Weighing Tool LED Digital Display $71.09\n",
      "click&gt;&gt;https://t.co/xlGwWe8jVG\n",
      "#ebay #aliexpress #rt https://t.co/KukdW3NOkJ\n",
      "Xiaomi Mi Smart Home Compact Projector 2, Android TV Compatible with Remote Control, Screen Size 60\"-120\", 1080P Full HD, HDR10 Decoding, 500 ANSI Lumen, with Dolby Audio Decoding more detail click the link : https://t.co/04OIgB9cPh https://t.co/eutF5UVxr4\n",
      "Xiaomi MIJIA Smart Clothes Dryer Pro is the perfect vertical clothesline for your home https://t.co/SX5Tr92YxX\n",
      "[เหลือ 1619 บ. โค้ด SA615IPSLOKP] Xiaomi Mi Smart Standing Fan 2 / Fan 1 X พัดลมตั้งพื้น เชื่อมต่อผ่านแอป Mi Home [VDRUIQW]\n",
      "\n",
      "https://t.co/wXlX7ZlaWm\n",
      "Xiaomi Youpin HOTO Smart Kitchen Scale Bluetooth Mijia APP Electronic Scale Smart Home Food Weighing Tool LED Digital Display $71.09\n",
      "click&gt;&gt;https://t.co/qdFd9cfdwc\n",
      "#ebay #aliexpress #rt https://t.co/ZX8fiB6VXG\n",
      "Les Xiaomi Mijia Smart Recessed Ceiling Light est lancé en Chine !\n",
      "\n",
      "Anti-éblouissement | Source lumineuse COB | Angle du faisceau 24° | Rendu des couleur élevé Ra90 | Compatible Xiaomi Home\n",
      "\n",
      "#Xiaomi #Mijia #XiaomiHome #UniversXiaomi https://t.co/NLEwnbBbwx\n",
      "@yuppiechef has recently improved their website to add the latest and greatest Xiaomi AIoT products. Browse the new site and don’t be shy to add your favourite smart home products to your cart 🛒 Check it out here:https://t.co/H0MFQj4io7 https://t.co/NLTin8bvPR\n",
      "Xiaomi Youpin HOTO Smart Kitchen Scale Bluetooth Mijia APP Electronic Scale Smart Home Food Weighing Tool LED Digital Display $71.09\n",
      "click&gt;&gt;https://t.co/xAwgV5OaRO\n",
      "#ebay #aliexpress #rt https://t.co/Zzqy3CrCeC\n",
      "Xiaomi F2 50″ Smart Fire TV 125 cm a 349€ https://t.co/1Rp5cbVUht\n",
      "Most of them are kind of nice to have but get the air fryer if you don't own one already https://t.co/ob5dySLwtn\n",
      "Most of them are kind of nice to have but get the air fryer if you don't own one already https://t.co/zDkzQ6yk78\n",
      "Most of them are kind of nice to have but get the air fryer if you don't own one already https://t.co/pDfe59Y6Rm\n",
      "Xiaomi Youpin HOTO Smart Kitchen Scale Bluetooth Mijia APP Electronic Scale Smart Home Food Weighing Tool LED Digital Display $71.09\n",
      "click&gt;&gt;https://t.co/5saczjdBoG\n",
      "#ebay #aliexpress #rt https://t.co/MQDUrSo9IK\n"
     ]
    }
   ],
   "source": [
    "i=0\n",
    "while i < len(tweet_df['text']):\n",
    "    print(tweet_df['text'][i])\n",
    "    i+=1"
   ]
  },
  {
   "cell_type": "code",
   "execution_count": 86,
   "id": "ac376a59",
   "metadata": {},
   "outputs": [
    {
     "name": "stdout",
     "output_type": "stream",
     "text": [
      "{'end': '2022-09-07T00:00:00.000Z', 'start': '2022-09-06T20:43:23.000Z', 'tweet_count': 0}\n",
      "{'end': '2022-09-08T00:00:00.000Z', 'start': '2022-09-07T00:00:00.000Z', 'tweet_count': 6}\n",
      "{'end': '2022-09-09T00:00:00.000Z', 'start': '2022-09-08T00:00:00.000Z', 'tweet_count': 2}\n",
      "{'end': '2022-09-10T00:00:00.000Z', 'start': '2022-09-09T00:00:00.000Z', 'tweet_count': 3}\n",
      "{'end': '2022-09-11T00:00:00.000Z', 'start': '2022-09-10T00:00:00.000Z', 'tweet_count': 1}\n",
      "{'end': '2022-09-12T00:00:00.000Z', 'start': '2022-09-11T00:00:00.000Z', 'tweet_count': 2}\n",
      "{'end': '2022-09-13T00:00:00.000Z', 'start': '2022-09-12T00:00:00.000Z', 'tweet_count': 1}\n",
      "{'end': '2022-09-13T20:43:23.000Z', 'start': '2022-09-13T00:00:00.000Z', 'tweet_count': 4}\n"
     ]
    }
   ],
   "source": [
    "#Getting Tweet counts (volume) for a search query\n",
    "\n",
    "query = 'smart home address -is:retweet'\n",
    "\n",
    "counts = client.get_recent_tweets_count(query=query, granularity='day')\n",
    "\n",
    "for count in counts.data:\n",
    "    print(count)"
   ]
  },
  {
   "cell_type": "code",
   "execution_count": 63,
   "id": "1629c755",
   "metadata": {},
   "outputs": [
    {
     "data": {
      "application/vnd.plotly.v1+json": {
       "config": {
        "plotlyServerURL": "https://plot.ly"
       },
       "data": [
        {
         "type": "bar",
         "x": [
          "2022-09-06",
          "2022-09-07",
          "2022-09-08",
          "2022-09-09",
          "2022-09-10",
          "2022-09-11",
          "2022-09-12",
          "2022-09-13"
         ],
         "y": [
          0,
          302,
          319,
          16,
          6,
          7,
          8,
          9
         ]
        }
       ],
       "layout": {
        "template": {
         "data": {
          "bar": [
           {
            "error_x": {
             "color": "#2a3f5f"
            },
            "error_y": {
             "color": "#2a3f5f"
            },
            "marker": {
             "line": {
              "color": "#E5ECF6",
              "width": 0.5
             },
             "pattern": {
              "fillmode": "overlay",
              "size": 10,
              "solidity": 0.2
             }
            },
            "type": "bar"
           }
          ],
          "barpolar": [
           {
            "marker": {
             "line": {
              "color": "#E5ECF6",
              "width": 0.5
             },
             "pattern": {
              "fillmode": "overlay",
              "size": 10,
              "solidity": 0.2
             }
            },
            "type": "barpolar"
           }
          ],
          "carpet": [
           {
            "aaxis": {
             "endlinecolor": "#2a3f5f",
             "gridcolor": "white",
             "linecolor": "white",
             "minorgridcolor": "white",
             "startlinecolor": "#2a3f5f"
            },
            "baxis": {
             "endlinecolor": "#2a3f5f",
             "gridcolor": "white",
             "linecolor": "white",
             "minorgridcolor": "white",
             "startlinecolor": "#2a3f5f"
            },
            "type": "carpet"
           }
          ],
          "choropleth": [
           {
            "colorbar": {
             "outlinewidth": 0,
             "ticks": ""
            },
            "type": "choropleth"
           }
          ],
          "contour": [
           {
            "colorbar": {
             "outlinewidth": 0,
             "ticks": ""
            },
            "colorscale": [
             [
              0,
              "#0d0887"
             ],
             [
              0.1111111111111111,
              "#46039f"
             ],
             [
              0.2222222222222222,
              "#7201a8"
             ],
             [
              0.3333333333333333,
              "#9c179e"
             ],
             [
              0.4444444444444444,
              "#bd3786"
             ],
             [
              0.5555555555555556,
              "#d8576b"
             ],
             [
              0.6666666666666666,
              "#ed7953"
             ],
             [
              0.7777777777777778,
              "#fb9f3a"
             ],
             [
              0.8888888888888888,
              "#fdca26"
             ],
             [
              1,
              "#f0f921"
             ]
            ],
            "type": "contour"
           }
          ],
          "contourcarpet": [
           {
            "colorbar": {
             "outlinewidth": 0,
             "ticks": ""
            },
            "type": "contourcarpet"
           }
          ],
          "heatmap": [
           {
            "colorbar": {
             "outlinewidth": 0,
             "ticks": ""
            },
            "colorscale": [
             [
              0,
              "#0d0887"
             ],
             [
              0.1111111111111111,
              "#46039f"
             ],
             [
              0.2222222222222222,
              "#7201a8"
             ],
             [
              0.3333333333333333,
              "#9c179e"
             ],
             [
              0.4444444444444444,
              "#bd3786"
             ],
             [
              0.5555555555555556,
              "#d8576b"
             ],
             [
              0.6666666666666666,
              "#ed7953"
             ],
             [
              0.7777777777777778,
              "#fb9f3a"
             ],
             [
              0.8888888888888888,
              "#fdca26"
             ],
             [
              1,
              "#f0f921"
             ]
            ],
            "type": "heatmap"
           }
          ],
          "heatmapgl": [
           {
            "colorbar": {
             "outlinewidth": 0,
             "ticks": ""
            },
            "colorscale": [
             [
              0,
              "#0d0887"
             ],
             [
              0.1111111111111111,
              "#46039f"
             ],
             [
              0.2222222222222222,
              "#7201a8"
             ],
             [
              0.3333333333333333,
              "#9c179e"
             ],
             [
              0.4444444444444444,
              "#bd3786"
             ],
             [
              0.5555555555555556,
              "#d8576b"
             ],
             [
              0.6666666666666666,
              "#ed7953"
             ],
             [
              0.7777777777777778,
              "#fb9f3a"
             ],
             [
              0.8888888888888888,
              "#fdca26"
             ],
             [
              1,
              "#f0f921"
             ]
            ],
            "type": "heatmapgl"
           }
          ],
          "histogram": [
           {
            "marker": {
             "pattern": {
              "fillmode": "overlay",
              "size": 10,
              "solidity": 0.2
             }
            },
            "type": "histogram"
           }
          ],
          "histogram2d": [
           {
            "colorbar": {
             "outlinewidth": 0,
             "ticks": ""
            },
            "colorscale": [
             [
              0,
              "#0d0887"
             ],
             [
              0.1111111111111111,
              "#46039f"
             ],
             [
              0.2222222222222222,
              "#7201a8"
             ],
             [
              0.3333333333333333,
              "#9c179e"
             ],
             [
              0.4444444444444444,
              "#bd3786"
             ],
             [
              0.5555555555555556,
              "#d8576b"
             ],
             [
              0.6666666666666666,
              "#ed7953"
             ],
             [
              0.7777777777777778,
              "#fb9f3a"
             ],
             [
              0.8888888888888888,
              "#fdca26"
             ],
             [
              1,
              "#f0f921"
             ]
            ],
            "type": "histogram2d"
           }
          ],
          "histogram2dcontour": [
           {
            "colorbar": {
             "outlinewidth": 0,
             "ticks": ""
            },
            "colorscale": [
             [
              0,
              "#0d0887"
             ],
             [
              0.1111111111111111,
              "#46039f"
             ],
             [
              0.2222222222222222,
              "#7201a8"
             ],
             [
              0.3333333333333333,
              "#9c179e"
             ],
             [
              0.4444444444444444,
              "#bd3786"
             ],
             [
              0.5555555555555556,
              "#d8576b"
             ],
             [
              0.6666666666666666,
              "#ed7953"
             ],
             [
              0.7777777777777778,
              "#fb9f3a"
             ],
             [
              0.8888888888888888,
              "#fdca26"
             ],
             [
              1,
              "#f0f921"
             ]
            ],
            "type": "histogram2dcontour"
           }
          ],
          "mesh3d": [
           {
            "colorbar": {
             "outlinewidth": 0,
             "ticks": ""
            },
            "type": "mesh3d"
           }
          ],
          "parcoords": [
           {
            "line": {
             "colorbar": {
              "outlinewidth": 0,
              "ticks": ""
             }
            },
            "type": "parcoords"
           }
          ],
          "pie": [
           {
            "automargin": true,
            "type": "pie"
           }
          ],
          "scatter": [
           {
            "marker": {
             "colorbar": {
              "outlinewidth": 0,
              "ticks": ""
             }
            },
            "type": "scatter"
           }
          ],
          "scatter3d": [
           {
            "line": {
             "colorbar": {
              "outlinewidth": 0,
              "ticks": ""
             }
            },
            "marker": {
             "colorbar": {
              "outlinewidth": 0,
              "ticks": ""
             }
            },
            "type": "scatter3d"
           }
          ],
          "scattercarpet": [
           {
            "marker": {
             "colorbar": {
              "outlinewidth": 0,
              "ticks": ""
             }
            },
            "type": "scattercarpet"
           }
          ],
          "scattergeo": [
           {
            "marker": {
             "colorbar": {
              "outlinewidth": 0,
              "ticks": ""
             }
            },
            "type": "scattergeo"
           }
          ],
          "scattergl": [
           {
            "marker": {
             "colorbar": {
              "outlinewidth": 0,
              "ticks": ""
             }
            },
            "type": "scattergl"
           }
          ],
          "scattermapbox": [
           {
            "marker": {
             "colorbar": {
              "outlinewidth": 0,
              "ticks": ""
             }
            },
            "type": "scattermapbox"
           }
          ],
          "scatterpolar": [
           {
            "marker": {
             "colorbar": {
              "outlinewidth": 0,
              "ticks": ""
             }
            },
            "type": "scatterpolar"
           }
          ],
          "scatterpolargl": [
           {
            "marker": {
             "colorbar": {
              "outlinewidth": 0,
              "ticks": ""
             }
            },
            "type": "scatterpolargl"
           }
          ],
          "scatterternary": [
           {
            "marker": {
             "colorbar": {
              "outlinewidth": 0,
              "ticks": ""
             }
            },
            "type": "scatterternary"
           }
          ],
          "surface": [
           {
            "colorbar": {
             "outlinewidth": 0,
             "ticks": ""
            },
            "colorscale": [
             [
              0,
              "#0d0887"
             ],
             [
              0.1111111111111111,
              "#46039f"
             ],
             [
              0.2222222222222222,
              "#7201a8"
             ],
             [
              0.3333333333333333,
              "#9c179e"
             ],
             [
              0.4444444444444444,
              "#bd3786"
             ],
             [
              0.5555555555555556,
              "#d8576b"
             ],
             [
              0.6666666666666666,
              "#ed7953"
             ],
             [
              0.7777777777777778,
              "#fb9f3a"
             ],
             [
              0.8888888888888888,
              "#fdca26"
             ],
             [
              1,
              "#f0f921"
             ]
            ],
            "type": "surface"
           }
          ],
          "table": [
           {
            "cells": {
             "fill": {
              "color": "#EBF0F8"
             },
             "line": {
              "color": "white"
             }
            },
            "header": {
             "fill": {
              "color": "#C8D4E3"
             },
             "line": {
              "color": "white"
             }
            },
            "type": "table"
           }
          ]
         },
         "layout": {
          "annotationdefaults": {
           "arrowcolor": "#2a3f5f",
           "arrowhead": 0,
           "arrowwidth": 1
          },
          "autotypenumbers": "strict",
          "coloraxis": {
           "colorbar": {
            "outlinewidth": 0,
            "ticks": ""
           }
          },
          "colorscale": {
           "diverging": [
            [
             0,
             "#8e0152"
            ],
            [
             0.1,
             "#c51b7d"
            ],
            [
             0.2,
             "#de77ae"
            ],
            [
             0.3,
             "#f1b6da"
            ],
            [
             0.4,
             "#fde0ef"
            ],
            [
             0.5,
             "#f7f7f7"
            ],
            [
             0.6,
             "#e6f5d0"
            ],
            [
             0.7,
             "#b8e186"
            ],
            [
             0.8,
             "#7fbc41"
            ],
            [
             0.9,
             "#4d9221"
            ],
            [
             1,
             "#276419"
            ]
           ],
           "sequential": [
            [
             0,
             "#0d0887"
            ],
            [
             0.1111111111111111,
             "#46039f"
            ],
            [
             0.2222222222222222,
             "#7201a8"
            ],
            [
             0.3333333333333333,
             "#9c179e"
            ],
            [
             0.4444444444444444,
             "#bd3786"
            ],
            [
             0.5555555555555556,
             "#d8576b"
            ],
            [
             0.6666666666666666,
             "#ed7953"
            ],
            [
             0.7777777777777778,
             "#fb9f3a"
            ],
            [
             0.8888888888888888,
             "#fdca26"
            ],
            [
             1,
             "#f0f921"
            ]
           ],
           "sequentialminus": [
            [
             0,
             "#0d0887"
            ],
            [
             0.1111111111111111,
             "#46039f"
            ],
            [
             0.2222222222222222,
             "#7201a8"
            ],
            [
             0.3333333333333333,
             "#9c179e"
            ],
            [
             0.4444444444444444,
             "#bd3786"
            ],
            [
             0.5555555555555556,
             "#d8576b"
            ],
            [
             0.6666666666666666,
             "#ed7953"
            ],
            [
             0.7777777777777778,
             "#fb9f3a"
            ],
            [
             0.8888888888888888,
             "#fdca26"
            ],
            [
             1,
             "#f0f921"
            ]
           ]
          },
          "colorway": [
           "#636efa",
           "#EF553B",
           "#00cc96",
           "#ab63fa",
           "#FFA15A",
           "#19d3f3",
           "#FF6692",
           "#B6E880",
           "#FF97FF",
           "#FECB52"
          ],
          "font": {
           "color": "#2a3f5f"
          },
          "geo": {
           "bgcolor": "white",
           "lakecolor": "white",
           "landcolor": "#E5ECF6",
           "showlakes": true,
           "showland": true,
           "subunitcolor": "white"
          },
          "hoverlabel": {
           "align": "left"
          },
          "hovermode": "closest",
          "mapbox": {
           "style": "light"
          },
          "paper_bgcolor": "white",
          "plot_bgcolor": "#E5ECF6",
          "polar": {
           "angularaxis": {
            "gridcolor": "white",
            "linecolor": "white",
            "ticks": ""
           },
           "bgcolor": "#E5ECF6",
           "radialaxis": {
            "gridcolor": "white",
            "linecolor": "white",
            "ticks": ""
           }
          },
          "scene": {
           "xaxis": {
            "backgroundcolor": "#E5ECF6",
            "gridcolor": "white",
            "gridwidth": 2,
            "linecolor": "white",
            "showbackground": true,
            "ticks": "",
            "zerolinecolor": "white"
           },
           "yaxis": {
            "backgroundcolor": "#E5ECF6",
            "gridcolor": "white",
            "gridwidth": 2,
            "linecolor": "white",
            "showbackground": true,
            "ticks": "",
            "zerolinecolor": "white"
           },
           "zaxis": {
            "backgroundcolor": "#E5ECF6",
            "gridcolor": "white",
            "gridwidth": 2,
            "linecolor": "white",
            "showbackground": true,
            "ticks": "",
            "zerolinecolor": "white"
           }
          },
          "shapedefaults": {
           "line": {
            "color": "#2a3f5f"
           }
          },
          "ternary": {
           "aaxis": {
            "gridcolor": "white",
            "linecolor": "white",
            "ticks": ""
           },
           "baxis": {
            "gridcolor": "white",
            "linecolor": "white",
            "ticks": ""
           },
           "bgcolor": "#E5ECF6",
           "caxis": {
            "gridcolor": "white",
            "linecolor": "white",
            "ticks": ""
           }
          },
          "title": {
           "x": 0.05
          },
          "xaxis": {
           "automargin": true,
           "gridcolor": "white",
           "linecolor": "white",
           "ticks": "",
           "title": {
            "standoff": 15
           },
           "zerolinecolor": "white",
           "zerolinewidth": 2
          },
          "yaxis": {
           "automargin": true,
           "gridcolor": "white",
           "linecolor": "white",
           "ticks": "",
           "title": {
            "standoff": 15
           },
           "zerolinecolor": "white",
           "zerolinewidth": 2
          }
         }
        },
        "title": {
         "text": "Tweets by day for smart home personal"
        },
        "xaxis": {
         "title": {
          "text": "Time Period"
         }
        },
        "yaxis": {
         "title": {
          "text": "Tweet Counts"
         }
        }
       }
      },
      "text/html": [
       "<div>                            <div id=\"b2708e14-10eb-4b85-b837-e18a6471acf2\" class=\"plotly-graph-div\" style=\"height:525px; width:100%;\"></div>            <script type=\"text/javascript\">                require([\"plotly\"], function(Plotly) {                    window.PLOTLYENV=window.PLOTLYENV || {};                                    if (document.getElementById(\"b2708e14-10eb-4b85-b837-e18a6471acf2\")) {                    Plotly.newPlot(                        \"b2708e14-10eb-4b85-b837-e18a6471acf2\",                        [{\"x\":[\"2022-09-06\",\"2022-09-07\",\"2022-09-08\",\"2022-09-09\",\"2022-09-10\",\"2022-09-11\",\"2022-09-12\",\"2022-09-13\"],\"y\":[0,302,319,16,6,7,8,9],\"type\":\"bar\"}],                        {\"template\":{\"data\":{\"bar\":[{\"error_x\":{\"color\":\"#2a3f5f\"},\"error_y\":{\"color\":\"#2a3f5f\"},\"marker\":{\"line\":{\"color\":\"#E5ECF6\",\"width\":0.5},\"pattern\":{\"fillmode\":\"overlay\",\"size\":10,\"solidity\":0.2}},\"type\":\"bar\"}],\"barpolar\":[{\"marker\":{\"line\":{\"color\":\"#E5ECF6\",\"width\":0.5},\"pattern\":{\"fillmode\":\"overlay\",\"size\":10,\"solidity\":0.2}},\"type\":\"barpolar\"}],\"carpet\":[{\"aaxis\":{\"endlinecolor\":\"#2a3f5f\",\"gridcolor\":\"white\",\"linecolor\":\"white\",\"minorgridcolor\":\"white\",\"startlinecolor\":\"#2a3f5f\"},\"baxis\":{\"endlinecolor\":\"#2a3f5f\",\"gridcolor\":\"white\",\"linecolor\":\"white\",\"minorgridcolor\":\"white\",\"startlinecolor\":\"#2a3f5f\"},\"type\":\"carpet\"}],\"choropleth\":[{\"colorbar\":{\"outlinewidth\":0,\"ticks\":\"\"},\"type\":\"choropleth\"}],\"contour\":[{\"colorbar\":{\"outlinewidth\":0,\"ticks\":\"\"},\"colorscale\":[[0.0,\"#0d0887\"],[0.1111111111111111,\"#46039f\"],[0.2222222222222222,\"#7201a8\"],[0.3333333333333333,\"#9c179e\"],[0.4444444444444444,\"#bd3786\"],[0.5555555555555556,\"#d8576b\"],[0.6666666666666666,\"#ed7953\"],[0.7777777777777778,\"#fb9f3a\"],[0.8888888888888888,\"#fdca26\"],[1.0,\"#f0f921\"]],\"type\":\"contour\"}],\"contourcarpet\":[{\"colorbar\":{\"outlinewidth\":0,\"ticks\":\"\"},\"type\":\"contourcarpet\"}],\"heatmap\":[{\"colorbar\":{\"outlinewidth\":0,\"ticks\":\"\"},\"colorscale\":[[0.0,\"#0d0887\"],[0.1111111111111111,\"#46039f\"],[0.2222222222222222,\"#7201a8\"],[0.3333333333333333,\"#9c179e\"],[0.4444444444444444,\"#bd3786\"],[0.5555555555555556,\"#d8576b\"],[0.6666666666666666,\"#ed7953\"],[0.7777777777777778,\"#fb9f3a\"],[0.8888888888888888,\"#fdca26\"],[1.0,\"#f0f921\"]],\"type\":\"heatmap\"}],\"heatmapgl\":[{\"colorbar\":{\"outlinewidth\":0,\"ticks\":\"\"},\"colorscale\":[[0.0,\"#0d0887\"],[0.1111111111111111,\"#46039f\"],[0.2222222222222222,\"#7201a8\"],[0.3333333333333333,\"#9c179e\"],[0.4444444444444444,\"#bd3786\"],[0.5555555555555556,\"#d8576b\"],[0.6666666666666666,\"#ed7953\"],[0.7777777777777778,\"#fb9f3a\"],[0.8888888888888888,\"#fdca26\"],[1.0,\"#f0f921\"]],\"type\":\"heatmapgl\"}],\"histogram\":[{\"marker\":{\"pattern\":{\"fillmode\":\"overlay\",\"size\":10,\"solidity\":0.2}},\"type\":\"histogram\"}],\"histogram2d\":[{\"colorbar\":{\"outlinewidth\":0,\"ticks\":\"\"},\"colorscale\":[[0.0,\"#0d0887\"],[0.1111111111111111,\"#46039f\"],[0.2222222222222222,\"#7201a8\"],[0.3333333333333333,\"#9c179e\"],[0.4444444444444444,\"#bd3786\"],[0.5555555555555556,\"#d8576b\"],[0.6666666666666666,\"#ed7953\"],[0.7777777777777778,\"#fb9f3a\"],[0.8888888888888888,\"#fdca26\"],[1.0,\"#f0f921\"]],\"type\":\"histogram2d\"}],\"histogram2dcontour\":[{\"colorbar\":{\"outlinewidth\":0,\"ticks\":\"\"},\"colorscale\":[[0.0,\"#0d0887\"],[0.1111111111111111,\"#46039f\"],[0.2222222222222222,\"#7201a8\"],[0.3333333333333333,\"#9c179e\"],[0.4444444444444444,\"#bd3786\"],[0.5555555555555556,\"#d8576b\"],[0.6666666666666666,\"#ed7953\"],[0.7777777777777778,\"#fb9f3a\"],[0.8888888888888888,\"#fdca26\"],[1.0,\"#f0f921\"]],\"type\":\"histogram2dcontour\"}],\"mesh3d\":[{\"colorbar\":{\"outlinewidth\":0,\"ticks\":\"\"},\"type\":\"mesh3d\"}],\"parcoords\":[{\"line\":{\"colorbar\":{\"outlinewidth\":0,\"ticks\":\"\"}},\"type\":\"parcoords\"}],\"pie\":[{\"automargin\":true,\"type\":\"pie\"}],\"scatter\":[{\"marker\":{\"colorbar\":{\"outlinewidth\":0,\"ticks\":\"\"}},\"type\":\"scatter\"}],\"scatter3d\":[{\"line\":{\"colorbar\":{\"outlinewidth\":0,\"ticks\":\"\"}},\"marker\":{\"colorbar\":{\"outlinewidth\":0,\"ticks\":\"\"}},\"type\":\"scatter3d\"}],\"scattercarpet\":[{\"marker\":{\"colorbar\":{\"outlinewidth\":0,\"ticks\":\"\"}},\"type\":\"scattercarpet\"}],\"scattergeo\":[{\"marker\":{\"colorbar\":{\"outlinewidth\":0,\"ticks\":\"\"}},\"type\":\"scattergeo\"}],\"scattergl\":[{\"marker\":{\"colorbar\":{\"outlinewidth\":0,\"ticks\":\"\"}},\"type\":\"scattergl\"}],\"scattermapbox\":[{\"marker\":{\"colorbar\":{\"outlinewidth\":0,\"ticks\":\"\"}},\"type\":\"scattermapbox\"}],\"scatterpolar\":[{\"marker\":{\"colorbar\":{\"outlinewidth\":0,\"ticks\":\"\"}},\"type\":\"scatterpolar\"}],\"scatterpolargl\":[{\"marker\":{\"colorbar\":{\"outlinewidth\":0,\"ticks\":\"\"}},\"type\":\"scatterpolargl\"}],\"scatterternary\":[{\"marker\":{\"colorbar\":{\"outlinewidth\":0,\"ticks\":\"\"}},\"type\":\"scatterternary\"}],\"surface\":[{\"colorbar\":{\"outlinewidth\":0,\"ticks\":\"\"},\"colorscale\":[[0.0,\"#0d0887\"],[0.1111111111111111,\"#46039f\"],[0.2222222222222222,\"#7201a8\"],[0.3333333333333333,\"#9c179e\"],[0.4444444444444444,\"#bd3786\"],[0.5555555555555556,\"#d8576b\"],[0.6666666666666666,\"#ed7953\"],[0.7777777777777778,\"#fb9f3a\"],[0.8888888888888888,\"#fdca26\"],[1.0,\"#f0f921\"]],\"type\":\"surface\"}],\"table\":[{\"cells\":{\"fill\":{\"color\":\"#EBF0F8\"},\"line\":{\"color\":\"white\"}},\"header\":{\"fill\":{\"color\":\"#C8D4E3\"},\"line\":{\"color\":\"white\"}},\"type\":\"table\"}]},\"layout\":{\"annotationdefaults\":{\"arrowcolor\":\"#2a3f5f\",\"arrowhead\":0,\"arrowwidth\":1},\"autotypenumbers\":\"strict\",\"coloraxis\":{\"colorbar\":{\"outlinewidth\":0,\"ticks\":\"\"}},\"colorscale\":{\"diverging\":[[0,\"#8e0152\"],[0.1,\"#c51b7d\"],[0.2,\"#de77ae\"],[0.3,\"#f1b6da\"],[0.4,\"#fde0ef\"],[0.5,\"#f7f7f7\"],[0.6,\"#e6f5d0\"],[0.7,\"#b8e186\"],[0.8,\"#7fbc41\"],[0.9,\"#4d9221\"],[1,\"#276419\"]],\"sequential\":[[0.0,\"#0d0887\"],[0.1111111111111111,\"#46039f\"],[0.2222222222222222,\"#7201a8\"],[0.3333333333333333,\"#9c179e\"],[0.4444444444444444,\"#bd3786\"],[0.5555555555555556,\"#d8576b\"],[0.6666666666666666,\"#ed7953\"],[0.7777777777777778,\"#fb9f3a\"],[0.8888888888888888,\"#fdca26\"],[1.0,\"#f0f921\"]],\"sequentialminus\":[[0.0,\"#0d0887\"],[0.1111111111111111,\"#46039f\"],[0.2222222222222222,\"#7201a8\"],[0.3333333333333333,\"#9c179e\"],[0.4444444444444444,\"#bd3786\"],[0.5555555555555556,\"#d8576b\"],[0.6666666666666666,\"#ed7953\"],[0.7777777777777778,\"#fb9f3a\"],[0.8888888888888888,\"#fdca26\"],[1.0,\"#f0f921\"]]},\"colorway\":[\"#636efa\",\"#EF553B\",\"#00cc96\",\"#ab63fa\",\"#FFA15A\",\"#19d3f3\",\"#FF6692\",\"#B6E880\",\"#FF97FF\",\"#FECB52\"],\"font\":{\"color\":\"#2a3f5f\"},\"geo\":{\"bgcolor\":\"white\",\"lakecolor\":\"white\",\"landcolor\":\"#E5ECF6\",\"showlakes\":true,\"showland\":true,\"subunitcolor\":\"white\"},\"hoverlabel\":{\"align\":\"left\"},\"hovermode\":\"closest\",\"mapbox\":{\"style\":\"light\"},\"paper_bgcolor\":\"white\",\"plot_bgcolor\":\"#E5ECF6\",\"polar\":{\"angularaxis\":{\"gridcolor\":\"white\",\"linecolor\":\"white\",\"ticks\":\"\"},\"bgcolor\":\"#E5ECF6\",\"radialaxis\":{\"gridcolor\":\"white\",\"linecolor\":\"white\",\"ticks\":\"\"}},\"scene\":{\"xaxis\":{\"backgroundcolor\":\"#E5ECF6\",\"gridcolor\":\"white\",\"gridwidth\":2,\"linecolor\":\"white\",\"showbackground\":true,\"ticks\":\"\",\"zerolinecolor\":\"white\"},\"yaxis\":{\"backgroundcolor\":\"#E5ECF6\",\"gridcolor\":\"white\",\"gridwidth\":2,\"linecolor\":\"white\",\"showbackground\":true,\"ticks\":\"\",\"zerolinecolor\":\"white\"},\"zaxis\":{\"backgroundcolor\":\"#E5ECF6\",\"gridcolor\":\"white\",\"gridwidth\":2,\"linecolor\":\"white\",\"showbackground\":true,\"ticks\":\"\",\"zerolinecolor\":\"white\"}},\"shapedefaults\":{\"line\":{\"color\":\"#2a3f5f\"}},\"ternary\":{\"aaxis\":{\"gridcolor\":\"white\",\"linecolor\":\"white\",\"ticks\":\"\"},\"baxis\":{\"gridcolor\":\"white\",\"linecolor\":\"white\",\"ticks\":\"\"},\"bgcolor\":\"#E5ECF6\",\"caxis\":{\"gridcolor\":\"white\",\"linecolor\":\"white\",\"ticks\":\"\"}},\"title\":{\"x\":0.05},\"xaxis\":{\"automargin\":true,\"gridcolor\":\"white\",\"linecolor\":\"white\",\"ticks\":\"\",\"title\":{\"standoff\":15},\"zerolinecolor\":\"white\",\"zerolinewidth\":2},\"yaxis\":{\"automargin\":true,\"gridcolor\":\"white\",\"linecolor\":\"white\",\"ticks\":\"\",\"title\":{\"standoff\":15},\"zerolinecolor\":\"white\",\"zerolinewidth\":2}}},\"title\":{\"text\":\"Tweets by day for smart home personal\"},\"xaxis\":{\"title\":{\"text\":\"Time Period\"}},\"yaxis\":{\"title\":{\"text\":\"Tweet Counts\"}}},                        {\"responsive\": true}                    ).then(function(){\n",
       "                            \n",
       "var gd = document.getElementById('b2708e14-10eb-4b85-b837-e18a6471acf2');\n",
       "var x = new MutationObserver(function (mutations, observer) {{\n",
       "        var display = window.getComputedStyle(gd).display;\n",
       "        if (!display || display === 'none') {{\n",
       "            console.log([gd, 'removed!']);\n",
       "            Plotly.purge(gd);\n",
       "            observer.disconnect();\n",
       "        }}\n",
       "}});\n",
       "\n",
       "// Listen for the removal of the full notebook cells\n",
       "var notebookContainer = gd.closest('#notebook-container');\n",
       "if (notebookContainer) {{\n",
       "    x.observe(notebookContainer, {childList: true});\n",
       "}}\n",
       "\n",
       "// Listen for the clearing of the current output cell\n",
       "var outputEl = gd.closest('.output');\n",
       "if (outputEl) {{\n",
       "    x.observe(outputEl, {childList: true});\n",
       "}}\n",
       "\n",
       "                        })                };                });            </script>        </div>"
      ]
     },
     "metadata": {},
     "output_type": "display_data"
    }
   ],
   "source": [
    "import plotly.graph_objects as go\n",
    "from twarc import Twarc2\n",
    "import json\n",
    "\n",
    "# Replace with your own bearer token\n",
    "client_2 = Twarc2(\n",
    "    bearer_token='AAAAAAAAAAAAAAAAAAAAAIPigAEAAAAA64aeG60pydtseMVb%2BGO8DUKDueM%3DAn6Zp0E3hyfEjzYEh9e3iQYA25t9XpxJz7NHEt5e5SbAAhYphX')\n",
    "# Replace the query below with your own query\n",
    "query = \"smart home personal\"\n",
    "\n",
    "# Get the recent Tweet counts using Twarc for your query by day\n",
    "search_results = client_2.counts_recent(query=query, granularity='day')\n",
    "\n",
    "for page in search_results:\n",
    "    # Get the data object from the Tweet counts response which contains the daily Tweet count\n",
    "    data = page['data']\n",
    "    break\n",
    "\n",
    "#To display the Tweet counts in a bar graph, we will get the start date in a list called day to display on the x-axis\n",
    "#and the corresponding tweet_counts in a list called tweet_counts to display on the y-axis\n",
    "day = []\n",
    "tweet_counts = []\n",
    "\n",
    "for d in data:\n",
    "    # Add the start date to display on x-axis\n",
    "    day.append(d['start'][:10])\n",
    "    # Add the daily Tweet counts to display on the y-axis\n",
    "    tweet_counts.append(d['tweet_count'])\n",
    "\n",
    "# Build a bar chart\n",
    "fig = go.Figure(data=[go.Bar(x=day, y=tweet_counts)])\n",
    "\n",
    "# Add the titles\n",
    "fig.update_layout(xaxis_title=\"Time Period\", yaxis_title=\"Tweet Counts\",\n",
    "                  title_text='Tweets by day for {}'.format(query))\n",
    "\n",
    "fig.show()"
   ]
  },
  {
   "cell_type": "code",
   "execution_count": 64,
   "id": "987b1760",
   "metadata": {},
   "outputs": [
    {
     "data": {
      "application/vnd.plotly.v1+json": {
       "config": {
        "plotlyServerURL": "https://plot.ly"
       },
       "data": [
        {
         "type": "bar",
         "x": [
          "2022-09-06",
          "2022-09-07",
          "2022-09-08",
          "2022-09-09",
          "2022-09-10",
          "2022-09-11",
          "2022-09-12",
          "2022-09-13"
         ],
         "y": [
          1,
          8,
          2,
          3,
          1,
          3,
          1,
          4
         ]
        }
       ],
       "layout": {
        "template": {
         "data": {
          "bar": [
           {
            "error_x": {
             "color": "#2a3f5f"
            },
            "error_y": {
             "color": "#2a3f5f"
            },
            "marker": {
             "line": {
              "color": "#E5ECF6",
              "width": 0.5
             },
             "pattern": {
              "fillmode": "overlay",
              "size": 10,
              "solidity": 0.2
             }
            },
            "type": "bar"
           }
          ],
          "barpolar": [
           {
            "marker": {
             "line": {
              "color": "#E5ECF6",
              "width": 0.5
             },
             "pattern": {
              "fillmode": "overlay",
              "size": 10,
              "solidity": 0.2
             }
            },
            "type": "barpolar"
           }
          ],
          "carpet": [
           {
            "aaxis": {
             "endlinecolor": "#2a3f5f",
             "gridcolor": "white",
             "linecolor": "white",
             "minorgridcolor": "white",
             "startlinecolor": "#2a3f5f"
            },
            "baxis": {
             "endlinecolor": "#2a3f5f",
             "gridcolor": "white",
             "linecolor": "white",
             "minorgridcolor": "white",
             "startlinecolor": "#2a3f5f"
            },
            "type": "carpet"
           }
          ],
          "choropleth": [
           {
            "colorbar": {
             "outlinewidth": 0,
             "ticks": ""
            },
            "type": "choropleth"
           }
          ],
          "contour": [
           {
            "colorbar": {
             "outlinewidth": 0,
             "ticks": ""
            },
            "colorscale": [
             [
              0,
              "#0d0887"
             ],
             [
              0.1111111111111111,
              "#46039f"
             ],
             [
              0.2222222222222222,
              "#7201a8"
             ],
             [
              0.3333333333333333,
              "#9c179e"
             ],
             [
              0.4444444444444444,
              "#bd3786"
             ],
             [
              0.5555555555555556,
              "#d8576b"
             ],
             [
              0.6666666666666666,
              "#ed7953"
             ],
             [
              0.7777777777777778,
              "#fb9f3a"
             ],
             [
              0.8888888888888888,
              "#fdca26"
             ],
             [
              1,
              "#f0f921"
             ]
            ],
            "type": "contour"
           }
          ],
          "contourcarpet": [
           {
            "colorbar": {
             "outlinewidth": 0,
             "ticks": ""
            },
            "type": "contourcarpet"
           }
          ],
          "heatmap": [
           {
            "colorbar": {
             "outlinewidth": 0,
             "ticks": ""
            },
            "colorscale": [
             [
              0,
              "#0d0887"
             ],
             [
              0.1111111111111111,
              "#46039f"
             ],
             [
              0.2222222222222222,
              "#7201a8"
             ],
             [
              0.3333333333333333,
              "#9c179e"
             ],
             [
              0.4444444444444444,
              "#bd3786"
             ],
             [
              0.5555555555555556,
              "#d8576b"
             ],
             [
              0.6666666666666666,
              "#ed7953"
             ],
             [
              0.7777777777777778,
              "#fb9f3a"
             ],
             [
              0.8888888888888888,
              "#fdca26"
             ],
             [
              1,
              "#f0f921"
             ]
            ],
            "type": "heatmap"
           }
          ],
          "heatmapgl": [
           {
            "colorbar": {
             "outlinewidth": 0,
             "ticks": ""
            },
            "colorscale": [
             [
              0,
              "#0d0887"
             ],
             [
              0.1111111111111111,
              "#46039f"
             ],
             [
              0.2222222222222222,
              "#7201a8"
             ],
             [
              0.3333333333333333,
              "#9c179e"
             ],
             [
              0.4444444444444444,
              "#bd3786"
             ],
             [
              0.5555555555555556,
              "#d8576b"
             ],
             [
              0.6666666666666666,
              "#ed7953"
             ],
             [
              0.7777777777777778,
              "#fb9f3a"
             ],
             [
              0.8888888888888888,
              "#fdca26"
             ],
             [
              1,
              "#f0f921"
             ]
            ],
            "type": "heatmapgl"
           }
          ],
          "histogram": [
           {
            "marker": {
             "pattern": {
              "fillmode": "overlay",
              "size": 10,
              "solidity": 0.2
             }
            },
            "type": "histogram"
           }
          ],
          "histogram2d": [
           {
            "colorbar": {
             "outlinewidth": 0,
             "ticks": ""
            },
            "colorscale": [
             [
              0,
              "#0d0887"
             ],
             [
              0.1111111111111111,
              "#46039f"
             ],
             [
              0.2222222222222222,
              "#7201a8"
             ],
             [
              0.3333333333333333,
              "#9c179e"
             ],
             [
              0.4444444444444444,
              "#bd3786"
             ],
             [
              0.5555555555555556,
              "#d8576b"
             ],
             [
              0.6666666666666666,
              "#ed7953"
             ],
             [
              0.7777777777777778,
              "#fb9f3a"
             ],
             [
              0.8888888888888888,
              "#fdca26"
             ],
             [
              1,
              "#f0f921"
             ]
            ],
            "type": "histogram2d"
           }
          ],
          "histogram2dcontour": [
           {
            "colorbar": {
             "outlinewidth": 0,
             "ticks": ""
            },
            "colorscale": [
             [
              0,
              "#0d0887"
             ],
             [
              0.1111111111111111,
              "#46039f"
             ],
             [
              0.2222222222222222,
              "#7201a8"
             ],
             [
              0.3333333333333333,
              "#9c179e"
             ],
             [
              0.4444444444444444,
              "#bd3786"
             ],
             [
              0.5555555555555556,
              "#d8576b"
             ],
             [
              0.6666666666666666,
              "#ed7953"
             ],
             [
              0.7777777777777778,
              "#fb9f3a"
             ],
             [
              0.8888888888888888,
              "#fdca26"
             ],
             [
              1,
              "#f0f921"
             ]
            ],
            "type": "histogram2dcontour"
           }
          ],
          "mesh3d": [
           {
            "colorbar": {
             "outlinewidth": 0,
             "ticks": ""
            },
            "type": "mesh3d"
           }
          ],
          "parcoords": [
           {
            "line": {
             "colorbar": {
              "outlinewidth": 0,
              "ticks": ""
             }
            },
            "type": "parcoords"
           }
          ],
          "pie": [
           {
            "automargin": true,
            "type": "pie"
           }
          ],
          "scatter": [
           {
            "marker": {
             "colorbar": {
              "outlinewidth": 0,
              "ticks": ""
             }
            },
            "type": "scatter"
           }
          ],
          "scatter3d": [
           {
            "line": {
             "colorbar": {
              "outlinewidth": 0,
              "ticks": ""
             }
            },
            "marker": {
             "colorbar": {
              "outlinewidth": 0,
              "ticks": ""
             }
            },
            "type": "scatter3d"
           }
          ],
          "scattercarpet": [
           {
            "marker": {
             "colorbar": {
              "outlinewidth": 0,
              "ticks": ""
             }
            },
            "type": "scattercarpet"
           }
          ],
          "scattergeo": [
           {
            "marker": {
             "colorbar": {
              "outlinewidth": 0,
              "ticks": ""
             }
            },
            "type": "scattergeo"
           }
          ],
          "scattergl": [
           {
            "marker": {
             "colorbar": {
              "outlinewidth": 0,
              "ticks": ""
             }
            },
            "type": "scattergl"
           }
          ],
          "scattermapbox": [
           {
            "marker": {
             "colorbar": {
              "outlinewidth": 0,
              "ticks": ""
             }
            },
            "type": "scattermapbox"
           }
          ],
          "scatterpolar": [
           {
            "marker": {
             "colorbar": {
              "outlinewidth": 0,
              "ticks": ""
             }
            },
            "type": "scatterpolar"
           }
          ],
          "scatterpolargl": [
           {
            "marker": {
             "colorbar": {
              "outlinewidth": 0,
              "ticks": ""
             }
            },
            "type": "scatterpolargl"
           }
          ],
          "scatterternary": [
           {
            "marker": {
             "colorbar": {
              "outlinewidth": 0,
              "ticks": ""
             }
            },
            "type": "scatterternary"
           }
          ],
          "surface": [
           {
            "colorbar": {
             "outlinewidth": 0,
             "ticks": ""
            },
            "colorscale": [
             [
              0,
              "#0d0887"
             ],
             [
              0.1111111111111111,
              "#46039f"
             ],
             [
              0.2222222222222222,
              "#7201a8"
             ],
             [
              0.3333333333333333,
              "#9c179e"
             ],
             [
              0.4444444444444444,
              "#bd3786"
             ],
             [
              0.5555555555555556,
              "#d8576b"
             ],
             [
              0.6666666666666666,
              "#ed7953"
             ],
             [
              0.7777777777777778,
              "#fb9f3a"
             ],
             [
              0.8888888888888888,
              "#fdca26"
             ],
             [
              1,
              "#f0f921"
             ]
            ],
            "type": "surface"
           }
          ],
          "table": [
           {
            "cells": {
             "fill": {
              "color": "#EBF0F8"
             },
             "line": {
              "color": "white"
             }
            },
            "header": {
             "fill": {
              "color": "#C8D4E3"
             },
             "line": {
              "color": "white"
             }
            },
            "type": "table"
           }
          ]
         },
         "layout": {
          "annotationdefaults": {
           "arrowcolor": "#2a3f5f",
           "arrowhead": 0,
           "arrowwidth": 1
          },
          "autotypenumbers": "strict",
          "coloraxis": {
           "colorbar": {
            "outlinewidth": 0,
            "ticks": ""
           }
          },
          "colorscale": {
           "diverging": [
            [
             0,
             "#8e0152"
            ],
            [
             0.1,
             "#c51b7d"
            ],
            [
             0.2,
             "#de77ae"
            ],
            [
             0.3,
             "#f1b6da"
            ],
            [
             0.4,
             "#fde0ef"
            ],
            [
             0.5,
             "#f7f7f7"
            ],
            [
             0.6,
             "#e6f5d0"
            ],
            [
             0.7,
             "#b8e186"
            ],
            [
             0.8,
             "#7fbc41"
            ],
            [
             0.9,
             "#4d9221"
            ],
            [
             1,
             "#276419"
            ]
           ],
           "sequential": [
            [
             0,
             "#0d0887"
            ],
            [
             0.1111111111111111,
             "#46039f"
            ],
            [
             0.2222222222222222,
             "#7201a8"
            ],
            [
             0.3333333333333333,
             "#9c179e"
            ],
            [
             0.4444444444444444,
             "#bd3786"
            ],
            [
             0.5555555555555556,
             "#d8576b"
            ],
            [
             0.6666666666666666,
             "#ed7953"
            ],
            [
             0.7777777777777778,
             "#fb9f3a"
            ],
            [
             0.8888888888888888,
             "#fdca26"
            ],
            [
             1,
             "#f0f921"
            ]
           ],
           "sequentialminus": [
            [
             0,
             "#0d0887"
            ],
            [
             0.1111111111111111,
             "#46039f"
            ],
            [
             0.2222222222222222,
             "#7201a8"
            ],
            [
             0.3333333333333333,
             "#9c179e"
            ],
            [
             0.4444444444444444,
             "#bd3786"
            ],
            [
             0.5555555555555556,
             "#d8576b"
            ],
            [
             0.6666666666666666,
             "#ed7953"
            ],
            [
             0.7777777777777778,
             "#fb9f3a"
            ],
            [
             0.8888888888888888,
             "#fdca26"
            ],
            [
             1,
             "#f0f921"
            ]
           ]
          },
          "colorway": [
           "#636efa",
           "#EF553B",
           "#00cc96",
           "#ab63fa",
           "#FFA15A",
           "#19d3f3",
           "#FF6692",
           "#B6E880",
           "#FF97FF",
           "#FECB52"
          ],
          "font": {
           "color": "#2a3f5f"
          },
          "geo": {
           "bgcolor": "white",
           "lakecolor": "white",
           "landcolor": "#E5ECF6",
           "showlakes": true,
           "showland": true,
           "subunitcolor": "white"
          },
          "hoverlabel": {
           "align": "left"
          },
          "hovermode": "closest",
          "mapbox": {
           "style": "light"
          },
          "paper_bgcolor": "white",
          "plot_bgcolor": "#E5ECF6",
          "polar": {
           "angularaxis": {
            "gridcolor": "white",
            "linecolor": "white",
            "ticks": ""
           },
           "bgcolor": "#E5ECF6",
           "radialaxis": {
            "gridcolor": "white",
            "linecolor": "white",
            "ticks": ""
           }
          },
          "scene": {
           "xaxis": {
            "backgroundcolor": "#E5ECF6",
            "gridcolor": "white",
            "gridwidth": 2,
            "linecolor": "white",
            "showbackground": true,
            "ticks": "",
            "zerolinecolor": "white"
           },
           "yaxis": {
            "backgroundcolor": "#E5ECF6",
            "gridcolor": "white",
            "gridwidth": 2,
            "linecolor": "white",
            "showbackground": true,
            "ticks": "",
            "zerolinecolor": "white"
           },
           "zaxis": {
            "backgroundcolor": "#E5ECF6",
            "gridcolor": "white",
            "gridwidth": 2,
            "linecolor": "white",
            "showbackground": true,
            "ticks": "",
            "zerolinecolor": "white"
           }
          },
          "shapedefaults": {
           "line": {
            "color": "#2a3f5f"
           }
          },
          "ternary": {
           "aaxis": {
            "gridcolor": "white",
            "linecolor": "white",
            "ticks": ""
           },
           "baxis": {
            "gridcolor": "white",
            "linecolor": "white",
            "ticks": ""
           },
           "bgcolor": "#E5ECF6",
           "caxis": {
            "gridcolor": "white",
            "linecolor": "white",
            "ticks": ""
           }
          },
          "title": {
           "x": 0.05
          },
          "xaxis": {
           "automargin": true,
           "gridcolor": "white",
           "linecolor": "white",
           "ticks": "",
           "title": {
            "standoff": 15
           },
           "zerolinecolor": "white",
           "zerolinewidth": 2
          },
          "yaxis": {
           "automargin": true,
           "gridcolor": "white",
           "linecolor": "white",
           "ticks": "",
           "title": {
            "standoff": 15
           },
           "zerolinecolor": "white",
           "zerolinewidth": 2
          }
         }
        },
        "title": {
         "text": "Tweets by day for smart home address"
        },
        "xaxis": {
         "title": {
          "text": "Time Period"
         }
        },
        "yaxis": {
         "title": {
          "text": "Tweet Counts"
         }
        }
       }
      },
      "text/html": [
       "<div>                            <div id=\"25638519-2b6e-4bd0-b38b-09dc3ece5abe\" class=\"plotly-graph-div\" style=\"height:525px; width:100%;\"></div>            <script type=\"text/javascript\">                require([\"plotly\"], function(Plotly) {                    window.PLOTLYENV=window.PLOTLYENV || {};                                    if (document.getElementById(\"25638519-2b6e-4bd0-b38b-09dc3ece5abe\")) {                    Plotly.newPlot(                        \"25638519-2b6e-4bd0-b38b-09dc3ece5abe\",                        [{\"x\":[\"2022-09-06\",\"2022-09-07\",\"2022-09-08\",\"2022-09-09\",\"2022-09-10\",\"2022-09-11\",\"2022-09-12\",\"2022-09-13\"],\"y\":[1,8,2,3,1,3,1,4],\"type\":\"bar\"}],                        {\"template\":{\"data\":{\"bar\":[{\"error_x\":{\"color\":\"#2a3f5f\"},\"error_y\":{\"color\":\"#2a3f5f\"},\"marker\":{\"line\":{\"color\":\"#E5ECF6\",\"width\":0.5},\"pattern\":{\"fillmode\":\"overlay\",\"size\":10,\"solidity\":0.2}},\"type\":\"bar\"}],\"barpolar\":[{\"marker\":{\"line\":{\"color\":\"#E5ECF6\",\"width\":0.5},\"pattern\":{\"fillmode\":\"overlay\",\"size\":10,\"solidity\":0.2}},\"type\":\"barpolar\"}],\"carpet\":[{\"aaxis\":{\"endlinecolor\":\"#2a3f5f\",\"gridcolor\":\"white\",\"linecolor\":\"white\",\"minorgridcolor\":\"white\",\"startlinecolor\":\"#2a3f5f\"},\"baxis\":{\"endlinecolor\":\"#2a3f5f\",\"gridcolor\":\"white\",\"linecolor\":\"white\",\"minorgridcolor\":\"white\",\"startlinecolor\":\"#2a3f5f\"},\"type\":\"carpet\"}],\"choropleth\":[{\"colorbar\":{\"outlinewidth\":0,\"ticks\":\"\"},\"type\":\"choropleth\"}],\"contour\":[{\"colorbar\":{\"outlinewidth\":0,\"ticks\":\"\"},\"colorscale\":[[0.0,\"#0d0887\"],[0.1111111111111111,\"#46039f\"],[0.2222222222222222,\"#7201a8\"],[0.3333333333333333,\"#9c179e\"],[0.4444444444444444,\"#bd3786\"],[0.5555555555555556,\"#d8576b\"],[0.6666666666666666,\"#ed7953\"],[0.7777777777777778,\"#fb9f3a\"],[0.8888888888888888,\"#fdca26\"],[1.0,\"#f0f921\"]],\"type\":\"contour\"}],\"contourcarpet\":[{\"colorbar\":{\"outlinewidth\":0,\"ticks\":\"\"},\"type\":\"contourcarpet\"}],\"heatmap\":[{\"colorbar\":{\"outlinewidth\":0,\"ticks\":\"\"},\"colorscale\":[[0.0,\"#0d0887\"],[0.1111111111111111,\"#46039f\"],[0.2222222222222222,\"#7201a8\"],[0.3333333333333333,\"#9c179e\"],[0.4444444444444444,\"#bd3786\"],[0.5555555555555556,\"#d8576b\"],[0.6666666666666666,\"#ed7953\"],[0.7777777777777778,\"#fb9f3a\"],[0.8888888888888888,\"#fdca26\"],[1.0,\"#f0f921\"]],\"type\":\"heatmap\"}],\"heatmapgl\":[{\"colorbar\":{\"outlinewidth\":0,\"ticks\":\"\"},\"colorscale\":[[0.0,\"#0d0887\"],[0.1111111111111111,\"#46039f\"],[0.2222222222222222,\"#7201a8\"],[0.3333333333333333,\"#9c179e\"],[0.4444444444444444,\"#bd3786\"],[0.5555555555555556,\"#d8576b\"],[0.6666666666666666,\"#ed7953\"],[0.7777777777777778,\"#fb9f3a\"],[0.8888888888888888,\"#fdca26\"],[1.0,\"#f0f921\"]],\"type\":\"heatmapgl\"}],\"histogram\":[{\"marker\":{\"pattern\":{\"fillmode\":\"overlay\",\"size\":10,\"solidity\":0.2}},\"type\":\"histogram\"}],\"histogram2d\":[{\"colorbar\":{\"outlinewidth\":0,\"ticks\":\"\"},\"colorscale\":[[0.0,\"#0d0887\"],[0.1111111111111111,\"#46039f\"],[0.2222222222222222,\"#7201a8\"],[0.3333333333333333,\"#9c179e\"],[0.4444444444444444,\"#bd3786\"],[0.5555555555555556,\"#d8576b\"],[0.6666666666666666,\"#ed7953\"],[0.7777777777777778,\"#fb9f3a\"],[0.8888888888888888,\"#fdca26\"],[1.0,\"#f0f921\"]],\"type\":\"histogram2d\"}],\"histogram2dcontour\":[{\"colorbar\":{\"outlinewidth\":0,\"ticks\":\"\"},\"colorscale\":[[0.0,\"#0d0887\"],[0.1111111111111111,\"#46039f\"],[0.2222222222222222,\"#7201a8\"],[0.3333333333333333,\"#9c179e\"],[0.4444444444444444,\"#bd3786\"],[0.5555555555555556,\"#d8576b\"],[0.6666666666666666,\"#ed7953\"],[0.7777777777777778,\"#fb9f3a\"],[0.8888888888888888,\"#fdca26\"],[1.0,\"#f0f921\"]],\"type\":\"histogram2dcontour\"}],\"mesh3d\":[{\"colorbar\":{\"outlinewidth\":0,\"ticks\":\"\"},\"type\":\"mesh3d\"}],\"parcoords\":[{\"line\":{\"colorbar\":{\"outlinewidth\":0,\"ticks\":\"\"}},\"type\":\"parcoords\"}],\"pie\":[{\"automargin\":true,\"type\":\"pie\"}],\"scatter\":[{\"marker\":{\"colorbar\":{\"outlinewidth\":0,\"ticks\":\"\"}},\"type\":\"scatter\"}],\"scatter3d\":[{\"line\":{\"colorbar\":{\"outlinewidth\":0,\"ticks\":\"\"}},\"marker\":{\"colorbar\":{\"outlinewidth\":0,\"ticks\":\"\"}},\"type\":\"scatter3d\"}],\"scattercarpet\":[{\"marker\":{\"colorbar\":{\"outlinewidth\":0,\"ticks\":\"\"}},\"type\":\"scattercarpet\"}],\"scattergeo\":[{\"marker\":{\"colorbar\":{\"outlinewidth\":0,\"ticks\":\"\"}},\"type\":\"scattergeo\"}],\"scattergl\":[{\"marker\":{\"colorbar\":{\"outlinewidth\":0,\"ticks\":\"\"}},\"type\":\"scattergl\"}],\"scattermapbox\":[{\"marker\":{\"colorbar\":{\"outlinewidth\":0,\"ticks\":\"\"}},\"type\":\"scattermapbox\"}],\"scatterpolar\":[{\"marker\":{\"colorbar\":{\"outlinewidth\":0,\"ticks\":\"\"}},\"type\":\"scatterpolar\"}],\"scatterpolargl\":[{\"marker\":{\"colorbar\":{\"outlinewidth\":0,\"ticks\":\"\"}},\"type\":\"scatterpolargl\"}],\"scatterternary\":[{\"marker\":{\"colorbar\":{\"outlinewidth\":0,\"ticks\":\"\"}},\"type\":\"scatterternary\"}],\"surface\":[{\"colorbar\":{\"outlinewidth\":0,\"ticks\":\"\"},\"colorscale\":[[0.0,\"#0d0887\"],[0.1111111111111111,\"#46039f\"],[0.2222222222222222,\"#7201a8\"],[0.3333333333333333,\"#9c179e\"],[0.4444444444444444,\"#bd3786\"],[0.5555555555555556,\"#d8576b\"],[0.6666666666666666,\"#ed7953\"],[0.7777777777777778,\"#fb9f3a\"],[0.8888888888888888,\"#fdca26\"],[1.0,\"#f0f921\"]],\"type\":\"surface\"}],\"table\":[{\"cells\":{\"fill\":{\"color\":\"#EBF0F8\"},\"line\":{\"color\":\"white\"}},\"header\":{\"fill\":{\"color\":\"#C8D4E3\"},\"line\":{\"color\":\"white\"}},\"type\":\"table\"}]},\"layout\":{\"annotationdefaults\":{\"arrowcolor\":\"#2a3f5f\",\"arrowhead\":0,\"arrowwidth\":1},\"autotypenumbers\":\"strict\",\"coloraxis\":{\"colorbar\":{\"outlinewidth\":0,\"ticks\":\"\"}},\"colorscale\":{\"diverging\":[[0,\"#8e0152\"],[0.1,\"#c51b7d\"],[0.2,\"#de77ae\"],[0.3,\"#f1b6da\"],[0.4,\"#fde0ef\"],[0.5,\"#f7f7f7\"],[0.6,\"#e6f5d0\"],[0.7,\"#b8e186\"],[0.8,\"#7fbc41\"],[0.9,\"#4d9221\"],[1,\"#276419\"]],\"sequential\":[[0.0,\"#0d0887\"],[0.1111111111111111,\"#46039f\"],[0.2222222222222222,\"#7201a8\"],[0.3333333333333333,\"#9c179e\"],[0.4444444444444444,\"#bd3786\"],[0.5555555555555556,\"#d8576b\"],[0.6666666666666666,\"#ed7953\"],[0.7777777777777778,\"#fb9f3a\"],[0.8888888888888888,\"#fdca26\"],[1.0,\"#f0f921\"]],\"sequentialminus\":[[0.0,\"#0d0887\"],[0.1111111111111111,\"#46039f\"],[0.2222222222222222,\"#7201a8\"],[0.3333333333333333,\"#9c179e\"],[0.4444444444444444,\"#bd3786\"],[0.5555555555555556,\"#d8576b\"],[0.6666666666666666,\"#ed7953\"],[0.7777777777777778,\"#fb9f3a\"],[0.8888888888888888,\"#fdca26\"],[1.0,\"#f0f921\"]]},\"colorway\":[\"#636efa\",\"#EF553B\",\"#00cc96\",\"#ab63fa\",\"#FFA15A\",\"#19d3f3\",\"#FF6692\",\"#B6E880\",\"#FF97FF\",\"#FECB52\"],\"font\":{\"color\":\"#2a3f5f\"},\"geo\":{\"bgcolor\":\"white\",\"lakecolor\":\"white\",\"landcolor\":\"#E5ECF6\",\"showlakes\":true,\"showland\":true,\"subunitcolor\":\"white\"},\"hoverlabel\":{\"align\":\"left\"},\"hovermode\":\"closest\",\"mapbox\":{\"style\":\"light\"},\"paper_bgcolor\":\"white\",\"plot_bgcolor\":\"#E5ECF6\",\"polar\":{\"angularaxis\":{\"gridcolor\":\"white\",\"linecolor\":\"white\",\"ticks\":\"\"},\"bgcolor\":\"#E5ECF6\",\"radialaxis\":{\"gridcolor\":\"white\",\"linecolor\":\"white\",\"ticks\":\"\"}},\"scene\":{\"xaxis\":{\"backgroundcolor\":\"#E5ECF6\",\"gridcolor\":\"white\",\"gridwidth\":2,\"linecolor\":\"white\",\"showbackground\":true,\"ticks\":\"\",\"zerolinecolor\":\"white\"},\"yaxis\":{\"backgroundcolor\":\"#E5ECF6\",\"gridcolor\":\"white\",\"gridwidth\":2,\"linecolor\":\"white\",\"showbackground\":true,\"ticks\":\"\",\"zerolinecolor\":\"white\"},\"zaxis\":{\"backgroundcolor\":\"#E5ECF6\",\"gridcolor\":\"white\",\"gridwidth\":2,\"linecolor\":\"white\",\"showbackground\":true,\"ticks\":\"\",\"zerolinecolor\":\"white\"}},\"shapedefaults\":{\"line\":{\"color\":\"#2a3f5f\"}},\"ternary\":{\"aaxis\":{\"gridcolor\":\"white\",\"linecolor\":\"white\",\"ticks\":\"\"},\"baxis\":{\"gridcolor\":\"white\",\"linecolor\":\"white\",\"ticks\":\"\"},\"bgcolor\":\"#E5ECF6\",\"caxis\":{\"gridcolor\":\"white\",\"linecolor\":\"white\",\"ticks\":\"\"}},\"title\":{\"x\":0.05},\"xaxis\":{\"automargin\":true,\"gridcolor\":\"white\",\"linecolor\":\"white\",\"ticks\":\"\",\"title\":{\"standoff\":15},\"zerolinecolor\":\"white\",\"zerolinewidth\":2},\"yaxis\":{\"automargin\":true,\"gridcolor\":\"white\",\"linecolor\":\"white\",\"ticks\":\"\",\"title\":{\"standoff\":15},\"zerolinecolor\":\"white\",\"zerolinewidth\":2}}},\"title\":{\"text\":\"Tweets by day for smart home address\"},\"xaxis\":{\"title\":{\"text\":\"Time Period\"}},\"yaxis\":{\"title\":{\"text\":\"Tweet Counts\"}}},                        {\"responsive\": true}                    ).then(function(){\n",
       "                            \n",
       "var gd = document.getElementById('25638519-2b6e-4bd0-b38b-09dc3ece5abe');\n",
       "var x = new MutationObserver(function (mutations, observer) {{\n",
       "        var display = window.getComputedStyle(gd).display;\n",
       "        if (!display || display === 'none') {{\n",
       "            console.log([gd, 'removed!']);\n",
       "            Plotly.purge(gd);\n",
       "            observer.disconnect();\n",
       "        }}\n",
       "}});\n",
       "\n",
       "// Listen for the removal of the full notebook cells\n",
       "var notebookContainer = gd.closest('#notebook-container');\n",
       "if (notebookContainer) {{\n",
       "    x.observe(notebookContainer, {childList: true});\n",
       "}}\n",
       "\n",
       "// Listen for the clearing of the current output cell\n",
       "var outputEl = gd.closest('.output');\n",
       "if (outputEl) {{\n",
       "    x.observe(outputEl, {childList: true});\n",
       "}}\n",
       "\n",
       "                        })                };                });            </script>        </div>"
      ]
     },
     "metadata": {},
     "output_type": "display_data"
    }
   ],
   "source": [
    "import plotly.graph_objects as go\n",
    "from twarc import Twarc2\n",
    "import json\n",
    "\n",
    "# Replace with your own bearer token\n",
    "client_2 = Twarc2(\n",
    "    bearer_token='AAAAAAAAAAAAAAAAAAAAAIPigAEAAAAA64aeG60pydtseMVb%2BGO8DUKDueM%3DAn6Zp0E3hyfEjzYEh9e3iQYA25t9XpxJz7NHEt5e5SbAAhYphX')\n",
    "# Replace the query below with your own query\n",
    "query = \"smart home address\"\n",
    "\n",
    "# Get the recent Tweet counts using Twarc for your query by day\n",
    "search_results = client_2.counts_recent(query=query, granularity='day')\n",
    "\n",
    "for page in search_results:\n",
    "    # Get the data object from the Tweet counts response which contains the daily Tweet count\n",
    "    data = page['data']\n",
    "    break\n",
    "\n",
    "#To display the Tweet counts in a bar graph, we will get the start date in a list called day to display on the x-axis\n",
    "#and the corresponding tweet_counts in a list called tweet_counts to display on the y-axis\n",
    "day = []\n",
    "tweet_counts = []\n",
    "\n",
    "for d in data:\n",
    "    # Add the start date to display on x-axis\n",
    "    day.append(d['start'][:10])\n",
    "    # Add the daily Tweet counts to display on the y-axis\n",
    "    tweet_counts.append(d['tweet_count'])\n",
    "\n",
    "# Build a bar chart\n",
    "fig = go.Figure(data=[go.Bar(x=day, y=tweet_counts)])\n",
    "\n",
    "# Add the titles\n",
    "fig.update_layout(xaxis_title=\"Time Period\", yaxis_title=\"Tweet Counts\",\n",
    "                  title_text='Tweets by day for {}'.format(query))\n",
    "\n",
    "fig.show()"
   ]
  },
  {
   "cell_type": "code",
   "execution_count": 66,
   "id": "9a8d88ef",
   "metadata": {},
   "outputs": [
    {
     "data": {
      "application/vnd.plotly.v1+json": {
       "config": {
        "plotlyServerURL": "https://plot.ly"
       },
       "data": [
        {
         "type": "bar",
         "x": [
          "2022-09-06",
          "2022-09-07",
          "2022-09-08",
          "2022-09-09",
          "2022-09-10",
          "2022-09-11",
          "2022-09-12",
          "2022-09-13"
         ],
         "y": [
          0,
          1,
          1,
          0,
          0,
          0,
          0,
          0
         ]
        }
       ],
       "layout": {
        "template": {
         "data": {
          "bar": [
           {
            "error_x": {
             "color": "#2a3f5f"
            },
            "error_y": {
             "color": "#2a3f5f"
            },
            "marker": {
             "line": {
              "color": "#E5ECF6",
              "width": 0.5
             },
             "pattern": {
              "fillmode": "overlay",
              "size": 10,
              "solidity": 0.2
             }
            },
            "type": "bar"
           }
          ],
          "barpolar": [
           {
            "marker": {
             "line": {
              "color": "#E5ECF6",
              "width": 0.5
             },
             "pattern": {
              "fillmode": "overlay",
              "size": 10,
              "solidity": 0.2
             }
            },
            "type": "barpolar"
           }
          ],
          "carpet": [
           {
            "aaxis": {
             "endlinecolor": "#2a3f5f",
             "gridcolor": "white",
             "linecolor": "white",
             "minorgridcolor": "white",
             "startlinecolor": "#2a3f5f"
            },
            "baxis": {
             "endlinecolor": "#2a3f5f",
             "gridcolor": "white",
             "linecolor": "white",
             "minorgridcolor": "white",
             "startlinecolor": "#2a3f5f"
            },
            "type": "carpet"
           }
          ],
          "choropleth": [
           {
            "colorbar": {
             "outlinewidth": 0,
             "ticks": ""
            },
            "type": "choropleth"
           }
          ],
          "contour": [
           {
            "colorbar": {
             "outlinewidth": 0,
             "ticks": ""
            },
            "colorscale": [
             [
              0,
              "#0d0887"
             ],
             [
              0.1111111111111111,
              "#46039f"
             ],
             [
              0.2222222222222222,
              "#7201a8"
             ],
             [
              0.3333333333333333,
              "#9c179e"
             ],
             [
              0.4444444444444444,
              "#bd3786"
             ],
             [
              0.5555555555555556,
              "#d8576b"
             ],
             [
              0.6666666666666666,
              "#ed7953"
             ],
             [
              0.7777777777777778,
              "#fb9f3a"
             ],
             [
              0.8888888888888888,
              "#fdca26"
             ],
             [
              1,
              "#f0f921"
             ]
            ],
            "type": "contour"
           }
          ],
          "contourcarpet": [
           {
            "colorbar": {
             "outlinewidth": 0,
             "ticks": ""
            },
            "type": "contourcarpet"
           }
          ],
          "heatmap": [
           {
            "colorbar": {
             "outlinewidth": 0,
             "ticks": ""
            },
            "colorscale": [
             [
              0,
              "#0d0887"
             ],
             [
              0.1111111111111111,
              "#46039f"
             ],
             [
              0.2222222222222222,
              "#7201a8"
             ],
             [
              0.3333333333333333,
              "#9c179e"
             ],
             [
              0.4444444444444444,
              "#bd3786"
             ],
             [
              0.5555555555555556,
              "#d8576b"
             ],
             [
              0.6666666666666666,
              "#ed7953"
             ],
             [
              0.7777777777777778,
              "#fb9f3a"
             ],
             [
              0.8888888888888888,
              "#fdca26"
             ],
             [
              1,
              "#f0f921"
             ]
            ],
            "type": "heatmap"
           }
          ],
          "heatmapgl": [
           {
            "colorbar": {
             "outlinewidth": 0,
             "ticks": ""
            },
            "colorscale": [
             [
              0,
              "#0d0887"
             ],
             [
              0.1111111111111111,
              "#46039f"
             ],
             [
              0.2222222222222222,
              "#7201a8"
             ],
             [
              0.3333333333333333,
              "#9c179e"
             ],
             [
              0.4444444444444444,
              "#bd3786"
             ],
             [
              0.5555555555555556,
              "#d8576b"
             ],
             [
              0.6666666666666666,
              "#ed7953"
             ],
             [
              0.7777777777777778,
              "#fb9f3a"
             ],
             [
              0.8888888888888888,
              "#fdca26"
             ],
             [
              1,
              "#f0f921"
             ]
            ],
            "type": "heatmapgl"
           }
          ],
          "histogram": [
           {
            "marker": {
             "pattern": {
              "fillmode": "overlay",
              "size": 10,
              "solidity": 0.2
             }
            },
            "type": "histogram"
           }
          ],
          "histogram2d": [
           {
            "colorbar": {
             "outlinewidth": 0,
             "ticks": ""
            },
            "colorscale": [
             [
              0,
              "#0d0887"
             ],
             [
              0.1111111111111111,
              "#46039f"
             ],
             [
              0.2222222222222222,
              "#7201a8"
             ],
             [
              0.3333333333333333,
              "#9c179e"
             ],
             [
              0.4444444444444444,
              "#bd3786"
             ],
             [
              0.5555555555555556,
              "#d8576b"
             ],
             [
              0.6666666666666666,
              "#ed7953"
             ],
             [
              0.7777777777777778,
              "#fb9f3a"
             ],
             [
              0.8888888888888888,
              "#fdca26"
             ],
             [
              1,
              "#f0f921"
             ]
            ],
            "type": "histogram2d"
           }
          ],
          "histogram2dcontour": [
           {
            "colorbar": {
             "outlinewidth": 0,
             "ticks": ""
            },
            "colorscale": [
             [
              0,
              "#0d0887"
             ],
             [
              0.1111111111111111,
              "#46039f"
             ],
             [
              0.2222222222222222,
              "#7201a8"
             ],
             [
              0.3333333333333333,
              "#9c179e"
             ],
             [
              0.4444444444444444,
              "#bd3786"
             ],
             [
              0.5555555555555556,
              "#d8576b"
             ],
             [
              0.6666666666666666,
              "#ed7953"
             ],
             [
              0.7777777777777778,
              "#fb9f3a"
             ],
             [
              0.8888888888888888,
              "#fdca26"
             ],
             [
              1,
              "#f0f921"
             ]
            ],
            "type": "histogram2dcontour"
           }
          ],
          "mesh3d": [
           {
            "colorbar": {
             "outlinewidth": 0,
             "ticks": ""
            },
            "type": "mesh3d"
           }
          ],
          "parcoords": [
           {
            "line": {
             "colorbar": {
              "outlinewidth": 0,
              "ticks": ""
             }
            },
            "type": "parcoords"
           }
          ],
          "pie": [
           {
            "automargin": true,
            "type": "pie"
           }
          ],
          "scatter": [
           {
            "marker": {
             "colorbar": {
              "outlinewidth": 0,
              "ticks": ""
             }
            },
            "type": "scatter"
           }
          ],
          "scatter3d": [
           {
            "line": {
             "colorbar": {
              "outlinewidth": 0,
              "ticks": ""
             }
            },
            "marker": {
             "colorbar": {
              "outlinewidth": 0,
              "ticks": ""
             }
            },
            "type": "scatter3d"
           }
          ],
          "scattercarpet": [
           {
            "marker": {
             "colorbar": {
              "outlinewidth": 0,
              "ticks": ""
             }
            },
            "type": "scattercarpet"
           }
          ],
          "scattergeo": [
           {
            "marker": {
             "colorbar": {
              "outlinewidth": 0,
              "ticks": ""
             }
            },
            "type": "scattergeo"
           }
          ],
          "scattergl": [
           {
            "marker": {
             "colorbar": {
              "outlinewidth": 0,
              "ticks": ""
             }
            },
            "type": "scattergl"
           }
          ],
          "scattermapbox": [
           {
            "marker": {
             "colorbar": {
              "outlinewidth": 0,
              "ticks": ""
             }
            },
            "type": "scattermapbox"
           }
          ],
          "scatterpolar": [
           {
            "marker": {
             "colorbar": {
              "outlinewidth": 0,
              "ticks": ""
             }
            },
            "type": "scatterpolar"
           }
          ],
          "scatterpolargl": [
           {
            "marker": {
             "colorbar": {
              "outlinewidth": 0,
              "ticks": ""
             }
            },
            "type": "scatterpolargl"
           }
          ],
          "scatterternary": [
           {
            "marker": {
             "colorbar": {
              "outlinewidth": 0,
              "ticks": ""
             }
            },
            "type": "scatterternary"
           }
          ],
          "surface": [
           {
            "colorbar": {
             "outlinewidth": 0,
             "ticks": ""
            },
            "colorscale": [
             [
              0,
              "#0d0887"
             ],
             [
              0.1111111111111111,
              "#46039f"
             ],
             [
              0.2222222222222222,
              "#7201a8"
             ],
             [
              0.3333333333333333,
              "#9c179e"
             ],
             [
              0.4444444444444444,
              "#bd3786"
             ],
             [
              0.5555555555555556,
              "#d8576b"
             ],
             [
              0.6666666666666666,
              "#ed7953"
             ],
             [
              0.7777777777777778,
              "#fb9f3a"
             ],
             [
              0.8888888888888888,
              "#fdca26"
             ],
             [
              1,
              "#f0f921"
             ]
            ],
            "type": "surface"
           }
          ],
          "table": [
           {
            "cells": {
             "fill": {
              "color": "#EBF0F8"
             },
             "line": {
              "color": "white"
             }
            },
            "header": {
             "fill": {
              "color": "#C8D4E3"
             },
             "line": {
              "color": "white"
             }
            },
            "type": "table"
           }
          ]
         },
         "layout": {
          "annotationdefaults": {
           "arrowcolor": "#2a3f5f",
           "arrowhead": 0,
           "arrowwidth": 1
          },
          "autotypenumbers": "strict",
          "coloraxis": {
           "colorbar": {
            "outlinewidth": 0,
            "ticks": ""
           }
          },
          "colorscale": {
           "diverging": [
            [
             0,
             "#8e0152"
            ],
            [
             0.1,
             "#c51b7d"
            ],
            [
             0.2,
             "#de77ae"
            ],
            [
             0.3,
             "#f1b6da"
            ],
            [
             0.4,
             "#fde0ef"
            ],
            [
             0.5,
             "#f7f7f7"
            ],
            [
             0.6,
             "#e6f5d0"
            ],
            [
             0.7,
             "#b8e186"
            ],
            [
             0.8,
             "#7fbc41"
            ],
            [
             0.9,
             "#4d9221"
            ],
            [
             1,
             "#276419"
            ]
           ],
           "sequential": [
            [
             0,
             "#0d0887"
            ],
            [
             0.1111111111111111,
             "#46039f"
            ],
            [
             0.2222222222222222,
             "#7201a8"
            ],
            [
             0.3333333333333333,
             "#9c179e"
            ],
            [
             0.4444444444444444,
             "#bd3786"
            ],
            [
             0.5555555555555556,
             "#d8576b"
            ],
            [
             0.6666666666666666,
             "#ed7953"
            ],
            [
             0.7777777777777778,
             "#fb9f3a"
            ],
            [
             0.8888888888888888,
             "#fdca26"
            ],
            [
             1,
             "#f0f921"
            ]
           ],
           "sequentialminus": [
            [
             0,
             "#0d0887"
            ],
            [
             0.1111111111111111,
             "#46039f"
            ],
            [
             0.2222222222222222,
             "#7201a8"
            ],
            [
             0.3333333333333333,
             "#9c179e"
            ],
            [
             0.4444444444444444,
             "#bd3786"
            ],
            [
             0.5555555555555556,
             "#d8576b"
            ],
            [
             0.6666666666666666,
             "#ed7953"
            ],
            [
             0.7777777777777778,
             "#fb9f3a"
            ],
            [
             0.8888888888888888,
             "#fdca26"
            ],
            [
             1,
             "#f0f921"
            ]
           ]
          },
          "colorway": [
           "#636efa",
           "#EF553B",
           "#00cc96",
           "#ab63fa",
           "#FFA15A",
           "#19d3f3",
           "#FF6692",
           "#B6E880",
           "#FF97FF",
           "#FECB52"
          ],
          "font": {
           "color": "#2a3f5f"
          },
          "geo": {
           "bgcolor": "white",
           "lakecolor": "white",
           "landcolor": "#E5ECF6",
           "showlakes": true,
           "showland": true,
           "subunitcolor": "white"
          },
          "hoverlabel": {
           "align": "left"
          },
          "hovermode": "closest",
          "mapbox": {
           "style": "light"
          },
          "paper_bgcolor": "white",
          "plot_bgcolor": "#E5ECF6",
          "polar": {
           "angularaxis": {
            "gridcolor": "white",
            "linecolor": "white",
            "ticks": ""
           },
           "bgcolor": "#E5ECF6",
           "radialaxis": {
            "gridcolor": "white",
            "linecolor": "white",
            "ticks": ""
           }
          },
          "scene": {
           "xaxis": {
            "backgroundcolor": "#E5ECF6",
            "gridcolor": "white",
            "gridwidth": 2,
            "linecolor": "white",
            "showbackground": true,
            "ticks": "",
            "zerolinecolor": "white"
           },
           "yaxis": {
            "backgroundcolor": "#E5ECF6",
            "gridcolor": "white",
            "gridwidth": 2,
            "linecolor": "white",
            "showbackground": true,
            "ticks": "",
            "zerolinecolor": "white"
           },
           "zaxis": {
            "backgroundcolor": "#E5ECF6",
            "gridcolor": "white",
            "gridwidth": 2,
            "linecolor": "white",
            "showbackground": true,
            "ticks": "",
            "zerolinecolor": "white"
           }
          },
          "shapedefaults": {
           "line": {
            "color": "#2a3f5f"
           }
          },
          "ternary": {
           "aaxis": {
            "gridcolor": "white",
            "linecolor": "white",
            "ticks": ""
           },
           "baxis": {
            "gridcolor": "white",
            "linecolor": "white",
            "ticks": ""
           },
           "bgcolor": "#E5ECF6",
           "caxis": {
            "gridcolor": "white",
            "linecolor": "white",
            "ticks": ""
           }
          },
          "title": {
           "x": 0.05
          },
          "xaxis": {
           "automargin": true,
           "gridcolor": "white",
           "linecolor": "white",
           "ticks": "",
           "title": {
            "standoff": 15
           },
           "zerolinecolor": "white",
           "zerolinewidth": 2
          },
          "yaxis": {
           "automargin": true,
           "gridcolor": "white",
           "linecolor": "white",
           "ticks": "",
           "title": {
            "standoff": 15
           },
           "zerolinecolor": "white",
           "zerolinewidth": 2
          }
         }
        },
        "title": {
         "text": "Tweets by day for smart home third party"
        },
        "xaxis": {
         "title": {
          "text": "Time Period"
         }
        },
        "yaxis": {
         "title": {
          "text": "Tweet Counts"
         }
        }
       }
      },
      "text/html": [
       "<div>                            <div id=\"d5174ae9-71f6-4631-b793-c82cbe08cfda\" class=\"plotly-graph-div\" style=\"height:525px; width:100%;\"></div>            <script type=\"text/javascript\">                require([\"plotly\"], function(Plotly) {                    window.PLOTLYENV=window.PLOTLYENV || {};                                    if (document.getElementById(\"d5174ae9-71f6-4631-b793-c82cbe08cfda\")) {                    Plotly.newPlot(                        \"d5174ae9-71f6-4631-b793-c82cbe08cfda\",                        [{\"x\":[\"2022-09-06\",\"2022-09-07\",\"2022-09-08\",\"2022-09-09\",\"2022-09-10\",\"2022-09-11\",\"2022-09-12\",\"2022-09-13\"],\"y\":[0,1,1,0,0,0,0,0],\"type\":\"bar\"}],                        {\"template\":{\"data\":{\"bar\":[{\"error_x\":{\"color\":\"#2a3f5f\"},\"error_y\":{\"color\":\"#2a3f5f\"},\"marker\":{\"line\":{\"color\":\"#E5ECF6\",\"width\":0.5},\"pattern\":{\"fillmode\":\"overlay\",\"size\":10,\"solidity\":0.2}},\"type\":\"bar\"}],\"barpolar\":[{\"marker\":{\"line\":{\"color\":\"#E5ECF6\",\"width\":0.5},\"pattern\":{\"fillmode\":\"overlay\",\"size\":10,\"solidity\":0.2}},\"type\":\"barpolar\"}],\"carpet\":[{\"aaxis\":{\"endlinecolor\":\"#2a3f5f\",\"gridcolor\":\"white\",\"linecolor\":\"white\",\"minorgridcolor\":\"white\",\"startlinecolor\":\"#2a3f5f\"},\"baxis\":{\"endlinecolor\":\"#2a3f5f\",\"gridcolor\":\"white\",\"linecolor\":\"white\",\"minorgridcolor\":\"white\",\"startlinecolor\":\"#2a3f5f\"},\"type\":\"carpet\"}],\"choropleth\":[{\"colorbar\":{\"outlinewidth\":0,\"ticks\":\"\"},\"type\":\"choropleth\"}],\"contour\":[{\"colorbar\":{\"outlinewidth\":0,\"ticks\":\"\"},\"colorscale\":[[0.0,\"#0d0887\"],[0.1111111111111111,\"#46039f\"],[0.2222222222222222,\"#7201a8\"],[0.3333333333333333,\"#9c179e\"],[0.4444444444444444,\"#bd3786\"],[0.5555555555555556,\"#d8576b\"],[0.6666666666666666,\"#ed7953\"],[0.7777777777777778,\"#fb9f3a\"],[0.8888888888888888,\"#fdca26\"],[1.0,\"#f0f921\"]],\"type\":\"contour\"}],\"contourcarpet\":[{\"colorbar\":{\"outlinewidth\":0,\"ticks\":\"\"},\"type\":\"contourcarpet\"}],\"heatmap\":[{\"colorbar\":{\"outlinewidth\":0,\"ticks\":\"\"},\"colorscale\":[[0.0,\"#0d0887\"],[0.1111111111111111,\"#46039f\"],[0.2222222222222222,\"#7201a8\"],[0.3333333333333333,\"#9c179e\"],[0.4444444444444444,\"#bd3786\"],[0.5555555555555556,\"#d8576b\"],[0.6666666666666666,\"#ed7953\"],[0.7777777777777778,\"#fb9f3a\"],[0.8888888888888888,\"#fdca26\"],[1.0,\"#f0f921\"]],\"type\":\"heatmap\"}],\"heatmapgl\":[{\"colorbar\":{\"outlinewidth\":0,\"ticks\":\"\"},\"colorscale\":[[0.0,\"#0d0887\"],[0.1111111111111111,\"#46039f\"],[0.2222222222222222,\"#7201a8\"],[0.3333333333333333,\"#9c179e\"],[0.4444444444444444,\"#bd3786\"],[0.5555555555555556,\"#d8576b\"],[0.6666666666666666,\"#ed7953\"],[0.7777777777777778,\"#fb9f3a\"],[0.8888888888888888,\"#fdca26\"],[1.0,\"#f0f921\"]],\"type\":\"heatmapgl\"}],\"histogram\":[{\"marker\":{\"pattern\":{\"fillmode\":\"overlay\",\"size\":10,\"solidity\":0.2}},\"type\":\"histogram\"}],\"histogram2d\":[{\"colorbar\":{\"outlinewidth\":0,\"ticks\":\"\"},\"colorscale\":[[0.0,\"#0d0887\"],[0.1111111111111111,\"#46039f\"],[0.2222222222222222,\"#7201a8\"],[0.3333333333333333,\"#9c179e\"],[0.4444444444444444,\"#bd3786\"],[0.5555555555555556,\"#d8576b\"],[0.6666666666666666,\"#ed7953\"],[0.7777777777777778,\"#fb9f3a\"],[0.8888888888888888,\"#fdca26\"],[1.0,\"#f0f921\"]],\"type\":\"histogram2d\"}],\"histogram2dcontour\":[{\"colorbar\":{\"outlinewidth\":0,\"ticks\":\"\"},\"colorscale\":[[0.0,\"#0d0887\"],[0.1111111111111111,\"#46039f\"],[0.2222222222222222,\"#7201a8\"],[0.3333333333333333,\"#9c179e\"],[0.4444444444444444,\"#bd3786\"],[0.5555555555555556,\"#d8576b\"],[0.6666666666666666,\"#ed7953\"],[0.7777777777777778,\"#fb9f3a\"],[0.8888888888888888,\"#fdca26\"],[1.0,\"#f0f921\"]],\"type\":\"histogram2dcontour\"}],\"mesh3d\":[{\"colorbar\":{\"outlinewidth\":0,\"ticks\":\"\"},\"type\":\"mesh3d\"}],\"parcoords\":[{\"line\":{\"colorbar\":{\"outlinewidth\":0,\"ticks\":\"\"}},\"type\":\"parcoords\"}],\"pie\":[{\"automargin\":true,\"type\":\"pie\"}],\"scatter\":[{\"marker\":{\"colorbar\":{\"outlinewidth\":0,\"ticks\":\"\"}},\"type\":\"scatter\"}],\"scatter3d\":[{\"line\":{\"colorbar\":{\"outlinewidth\":0,\"ticks\":\"\"}},\"marker\":{\"colorbar\":{\"outlinewidth\":0,\"ticks\":\"\"}},\"type\":\"scatter3d\"}],\"scattercarpet\":[{\"marker\":{\"colorbar\":{\"outlinewidth\":0,\"ticks\":\"\"}},\"type\":\"scattercarpet\"}],\"scattergeo\":[{\"marker\":{\"colorbar\":{\"outlinewidth\":0,\"ticks\":\"\"}},\"type\":\"scattergeo\"}],\"scattergl\":[{\"marker\":{\"colorbar\":{\"outlinewidth\":0,\"ticks\":\"\"}},\"type\":\"scattergl\"}],\"scattermapbox\":[{\"marker\":{\"colorbar\":{\"outlinewidth\":0,\"ticks\":\"\"}},\"type\":\"scattermapbox\"}],\"scatterpolar\":[{\"marker\":{\"colorbar\":{\"outlinewidth\":0,\"ticks\":\"\"}},\"type\":\"scatterpolar\"}],\"scatterpolargl\":[{\"marker\":{\"colorbar\":{\"outlinewidth\":0,\"ticks\":\"\"}},\"type\":\"scatterpolargl\"}],\"scatterternary\":[{\"marker\":{\"colorbar\":{\"outlinewidth\":0,\"ticks\":\"\"}},\"type\":\"scatterternary\"}],\"surface\":[{\"colorbar\":{\"outlinewidth\":0,\"ticks\":\"\"},\"colorscale\":[[0.0,\"#0d0887\"],[0.1111111111111111,\"#46039f\"],[0.2222222222222222,\"#7201a8\"],[0.3333333333333333,\"#9c179e\"],[0.4444444444444444,\"#bd3786\"],[0.5555555555555556,\"#d8576b\"],[0.6666666666666666,\"#ed7953\"],[0.7777777777777778,\"#fb9f3a\"],[0.8888888888888888,\"#fdca26\"],[1.0,\"#f0f921\"]],\"type\":\"surface\"}],\"table\":[{\"cells\":{\"fill\":{\"color\":\"#EBF0F8\"},\"line\":{\"color\":\"white\"}},\"header\":{\"fill\":{\"color\":\"#C8D4E3\"},\"line\":{\"color\":\"white\"}},\"type\":\"table\"}]},\"layout\":{\"annotationdefaults\":{\"arrowcolor\":\"#2a3f5f\",\"arrowhead\":0,\"arrowwidth\":1},\"autotypenumbers\":\"strict\",\"coloraxis\":{\"colorbar\":{\"outlinewidth\":0,\"ticks\":\"\"}},\"colorscale\":{\"diverging\":[[0,\"#8e0152\"],[0.1,\"#c51b7d\"],[0.2,\"#de77ae\"],[0.3,\"#f1b6da\"],[0.4,\"#fde0ef\"],[0.5,\"#f7f7f7\"],[0.6,\"#e6f5d0\"],[0.7,\"#b8e186\"],[0.8,\"#7fbc41\"],[0.9,\"#4d9221\"],[1,\"#276419\"]],\"sequential\":[[0.0,\"#0d0887\"],[0.1111111111111111,\"#46039f\"],[0.2222222222222222,\"#7201a8\"],[0.3333333333333333,\"#9c179e\"],[0.4444444444444444,\"#bd3786\"],[0.5555555555555556,\"#d8576b\"],[0.6666666666666666,\"#ed7953\"],[0.7777777777777778,\"#fb9f3a\"],[0.8888888888888888,\"#fdca26\"],[1.0,\"#f0f921\"]],\"sequentialminus\":[[0.0,\"#0d0887\"],[0.1111111111111111,\"#46039f\"],[0.2222222222222222,\"#7201a8\"],[0.3333333333333333,\"#9c179e\"],[0.4444444444444444,\"#bd3786\"],[0.5555555555555556,\"#d8576b\"],[0.6666666666666666,\"#ed7953\"],[0.7777777777777778,\"#fb9f3a\"],[0.8888888888888888,\"#fdca26\"],[1.0,\"#f0f921\"]]},\"colorway\":[\"#636efa\",\"#EF553B\",\"#00cc96\",\"#ab63fa\",\"#FFA15A\",\"#19d3f3\",\"#FF6692\",\"#B6E880\",\"#FF97FF\",\"#FECB52\"],\"font\":{\"color\":\"#2a3f5f\"},\"geo\":{\"bgcolor\":\"white\",\"lakecolor\":\"white\",\"landcolor\":\"#E5ECF6\",\"showlakes\":true,\"showland\":true,\"subunitcolor\":\"white\"},\"hoverlabel\":{\"align\":\"left\"},\"hovermode\":\"closest\",\"mapbox\":{\"style\":\"light\"},\"paper_bgcolor\":\"white\",\"plot_bgcolor\":\"#E5ECF6\",\"polar\":{\"angularaxis\":{\"gridcolor\":\"white\",\"linecolor\":\"white\",\"ticks\":\"\"},\"bgcolor\":\"#E5ECF6\",\"radialaxis\":{\"gridcolor\":\"white\",\"linecolor\":\"white\",\"ticks\":\"\"}},\"scene\":{\"xaxis\":{\"backgroundcolor\":\"#E5ECF6\",\"gridcolor\":\"white\",\"gridwidth\":2,\"linecolor\":\"white\",\"showbackground\":true,\"ticks\":\"\",\"zerolinecolor\":\"white\"},\"yaxis\":{\"backgroundcolor\":\"#E5ECF6\",\"gridcolor\":\"white\",\"gridwidth\":2,\"linecolor\":\"white\",\"showbackground\":true,\"ticks\":\"\",\"zerolinecolor\":\"white\"},\"zaxis\":{\"backgroundcolor\":\"#E5ECF6\",\"gridcolor\":\"white\",\"gridwidth\":2,\"linecolor\":\"white\",\"showbackground\":true,\"ticks\":\"\",\"zerolinecolor\":\"white\"}},\"shapedefaults\":{\"line\":{\"color\":\"#2a3f5f\"}},\"ternary\":{\"aaxis\":{\"gridcolor\":\"white\",\"linecolor\":\"white\",\"ticks\":\"\"},\"baxis\":{\"gridcolor\":\"white\",\"linecolor\":\"white\",\"ticks\":\"\"},\"bgcolor\":\"#E5ECF6\",\"caxis\":{\"gridcolor\":\"white\",\"linecolor\":\"white\",\"ticks\":\"\"}},\"title\":{\"x\":0.05},\"xaxis\":{\"automargin\":true,\"gridcolor\":\"white\",\"linecolor\":\"white\",\"ticks\":\"\",\"title\":{\"standoff\":15},\"zerolinecolor\":\"white\",\"zerolinewidth\":2},\"yaxis\":{\"automargin\":true,\"gridcolor\":\"white\",\"linecolor\":\"white\",\"ticks\":\"\",\"title\":{\"standoff\":15},\"zerolinecolor\":\"white\",\"zerolinewidth\":2}}},\"title\":{\"text\":\"Tweets by day for smart home third party\"},\"xaxis\":{\"title\":{\"text\":\"Time Period\"}},\"yaxis\":{\"title\":{\"text\":\"Tweet Counts\"}}},                        {\"responsive\": true}                    ).then(function(){\n",
       "                            \n",
       "var gd = document.getElementById('d5174ae9-71f6-4631-b793-c82cbe08cfda');\n",
       "var x = new MutationObserver(function (mutations, observer) {{\n",
       "        var display = window.getComputedStyle(gd).display;\n",
       "        if (!display || display === 'none') {{\n",
       "            console.log([gd, 'removed!']);\n",
       "            Plotly.purge(gd);\n",
       "            observer.disconnect();\n",
       "        }}\n",
       "}});\n",
       "\n",
       "// Listen for the removal of the full notebook cells\n",
       "var notebookContainer = gd.closest('#notebook-container');\n",
       "if (notebookContainer) {{\n",
       "    x.observe(notebookContainer, {childList: true});\n",
       "}}\n",
       "\n",
       "// Listen for the clearing of the current output cell\n",
       "var outputEl = gd.closest('.output');\n",
       "if (outputEl) {{\n",
       "    x.observe(outputEl, {childList: true});\n",
       "}}\n",
       "\n",
       "                        })                };                });            </script>        </div>"
      ]
     },
     "metadata": {},
     "output_type": "display_data"
    }
   ],
   "source": [
    "import plotly.graph_objects as go\n",
    "from twarc import Twarc2\n",
    "import json\n",
    "\n",
    "# Replace with your own bearer token\n",
    "client_2 = Twarc2(\n",
    "    bearer_token='AAAAAAAAAAAAAAAAAAAAAIPigAEAAAAA64aeG60pydtseMVb%2BGO8DUKDueM%3DAn6Zp0E3hyfEjzYEh9e3iQYA25t9XpxJz7NHEt5e5SbAAhYphX')\n",
    "# Replace the query below with your own query\n",
    "query = \"smart home third party\"\n",
    "\n",
    "# Get the recent Tweet counts using Twarc for your query by day\n",
    "search_results = client_2.counts_recent(query=query, granularity='day')\n",
    "\n",
    "for page in search_results:\n",
    "    # Get the data object from the Tweet counts response which contains the daily Tweet count\n",
    "    data = page['data']\n",
    "    break\n",
    "\n",
    "#To display the Tweet counts in a bar graph, we will get the start date in a list called day to display on the x-axis\n",
    "#and the corresponding tweet_counts in a list called tweet_counts to display on the y-axis\n",
    "day = []\n",
    "tweet_counts = []\n",
    "\n",
    "for d in data:\n",
    "    # Add the start date to display on x-axis\n",
    "    day.append(d['start'][:10])\n",
    "    # Add the daily Tweet counts to display on the y-axis\n",
    "    tweet_counts.append(d['tweet_count'])\n",
    "\n",
    "# Build a bar chart\n",
    "fig = go.Figure(data=[go.Bar(x=day, y=tweet_counts)])\n",
    "\n",
    "# Add the titles\n",
    "fig.update_layout(xaxis_title=\"Time Period\", yaxis_title=\"Tweet Counts\",\n",
    "                  title_text='Tweets by day for {}'.format(query))\n",
    "\n",
    "fig.show()"
   ]
  },
  {
   "cell_type": "code",
   "execution_count": null,
   "id": "9ac2eec9",
   "metadata": {},
   "outputs": [],
   "source": []
  },
  {
   "cell_type": "code",
   "execution_count": null,
   "id": "2ee230fe",
   "metadata": {},
   "outputs": [],
   "source": []
  },
  {
   "cell_type": "code",
   "execution_count": null,
   "id": "05b1babd",
   "metadata": {},
   "outputs": [],
   "source": []
  },
  {
   "cell_type": "code",
   "execution_count": null,
   "id": "b15d3af6",
   "metadata": {},
   "outputs": [],
   "source": []
  },
  {
   "cell_type": "code",
   "execution_count": null,
   "id": "b8551d92",
   "metadata": {},
   "outputs": [],
   "source": []
  },
  {
   "cell_type": "code",
   "execution_count": 57,
   "id": "784c4271",
   "metadata": {},
   "outputs": [
    {
     "name": "stdout",
     "output_type": "stream",
     "text": [
      "2022-09-13 20:05:17+00:00 @SwordAndSpatula Most of my lights are smart lights that can be controlled by a stream deck already. The cameras are connected to Philips Hue smart outlets that can be turned on/off by my stream deck, too.\n",
      "Metrics {'retweet_count': 0, 'reply_count': 0, 'like_count': 0, 'quote_count': 0}\n",
      "=======\n",
      "2022-09-13 18:25:06+00:00 RT @hotdealamazon24: (Pack of 2) Replaced Remote Control for Roku TV, Compatible for TCL Roku/Hisense Roku/Onn Roku/Sharp Roku/Element Roku…\n",
      "Metrics {'retweet_count': 2, 'reply_count': 0, 'like_count': 0, 'quote_count': 0}\n",
      "[{'domain': {'id': '46', 'name': 'Brand Category', 'description': 'Categories within Brand Verticals that narrow down the scope of Brands'}, 'entity': {'id': '1557696802391859201', 'name': 'Entertainment & Leisure Business', 'description': 'Brands, companies, advertisers and every non-person handle with the profit intent related to movies, music, television, franchises, venues, theme parks, toys, tourism, hotels'}}, {'domain': {'id': '47', 'name': 'Brand', 'description': 'Brands and Companies'}, 'entity': {'id': '1108695223096377344', 'name': 'Hisense', 'description': 'Hisense'}}]\n",
      "=======\n",
      "2022-09-13 18:09:33+00:00 Smart TV 43\" Full HD Philips Android 43PFG6917/78, Google Assistant, Comando de Voz, HDR, 3 HDMI, Wifi 5G, Bluetooth 5.0, Dolby Atmos\n",
      "https://t.co/oK58IZa9W0\n",
      "#OFERTAS #ofertasdehoje\n",
      "Metrics {'retweet_count': 0, 'reply_count': 0, 'like_count': 0, 'quote_count': 0}\n",
      "[{'domain': {'id': '30', 'name': 'Entities [Entity Service]', 'description': 'Entity Service top level domain, every item that is in Entity Service should be in this domain'}, 'entity': {'id': '781974596752842752', 'name': 'Services'}}, {'domain': {'id': '46', 'name': 'Brand Category', 'description': 'Categories within Brand Verticals that narrow down the scope of Brands'}, 'entity': {'id': '1557696802391859201', 'name': 'Entertainment & Leisure Business', 'description': 'Brands, companies, advertisers and every non-person handle with the profit intent related to movies, music, television, franchises, venues, theme parks, toys, tourism, hotels'}}, {'domain': {'id': '46', 'name': 'Brand Category', 'description': 'Categories within Brand Verticals that narrow down the scope of Brands'}, 'entity': {'id': '1557697333571112960', 'name': 'Technology Business', 'description': 'Brands, companies, advertisers and every non-person handle with the profit intent related to softwares, apps, communication equipments, hardwares'}}, {'domain': {'id': '47', 'name': 'Brand', 'description': 'Brands and Companies'}, 'entity': {'id': '10026378521', 'name': 'Google '}}, {'domain': {'id': '48', 'name': 'Product', 'description': 'Products created by Brands.  Examples: Ford Explorer, Apple iPhone.'}, 'entity': {'id': '1395474411180892160', 'name': 'Google brand conversation'}}, {'domain': {'id': '30', 'name': 'Entities [Entity Service]', 'description': 'Entity Service top level domain, every item that is in Entity Service should be in this domain'}, 'entity': {'id': '848920371311001600', 'name': 'Technology', 'description': 'Technology and computing'}}, {'domain': {'id': '30', 'name': 'Entities [Entity Service]', 'description': 'Entity Service top level domain, every item that is in Entity Service should be in this domain'}, 'entity': {'id': '1085628093627195392', 'name': '5G', 'description': '5G'}}, {'domain': {'id': '131', 'name': 'Unified Twitter Taxonomy', 'description': 'A taxonomy view into the Semantic Core knowledge graph'}, 'entity': {'id': '10026378521', 'name': 'Google '}}, {'domain': {'id': '131', 'name': 'Unified Twitter Taxonomy', 'description': 'A taxonomy view into the Semantic Core knowledge graph'}, 'entity': {'id': '848920371311001600', 'name': 'Technology', 'description': 'Technology and computing'}}, {'domain': {'id': '165', 'name': 'Technology', 'description': 'for individual and types of technology, e.g., food technology, 3D printing'}, 'entity': {'id': '1148689566112477184', 'name': 'Wi-Fi'}}, {'domain': {'id': '47', 'name': 'Brand', 'description': 'Brands and Companies'}, 'entity': {'id': '10026820777', 'name': 'Android'}}, {'domain': {'id': '47', 'name': 'Brand', 'description': 'Brands and Companies'}, 'entity': {'id': '10029202410', 'name': 'Philips'}}, {'domain': {'id': '30', 'name': 'Entities [Entity Service]', 'description': 'Entity Service top level domain, every item that is in Entity Service should be in this domain'}, 'entity': {'id': '848920371311001600', 'name': 'Technology', 'description': 'Technology and computing'}}, {'domain': {'id': '30', 'name': 'Entities [Entity Service]', 'description': 'Entity Service top level domain, every item that is in Entity Service should be in this domain'}, 'entity': {'id': '848985956778561538', 'name': 'Mobile', 'description': 'Mobile'}}, {'domain': {'id': '131', 'name': 'Unified Twitter Taxonomy', 'description': 'A taxonomy view into the Semantic Core knowledge graph'}, 'entity': {'id': '10026820777', 'name': 'Android'}}, {'domain': {'id': '131', 'name': 'Unified Twitter Taxonomy', 'description': 'A taxonomy view into the Semantic Core knowledge graph'}, 'entity': {'id': '10029202410', 'name': 'Philips'}}]\n",
      "=======\n",
      "2022-09-13 17:44:09+00:00 ¿Televisor LG vs Philips? ¿Qué Smart TV es mejor en 2022? https://t.co/fTrd8Jzfg8\n",
      "Metrics {'retweet_count': 0, 'reply_count': 0, 'like_count': 0, 'quote_count': 0}\n",
      "[{'domain': {'id': '46', 'name': 'Brand Category', 'description': 'Categories within Brand Verticals that narrow down the scope of Brands'}, 'entity': {'id': '1557696802391859201', 'name': 'Entertainment & Leisure Business', 'description': 'Brands, companies, advertisers and every non-person handle with the profit intent related to movies, music, television, franchises, venues, theme parks, toys, tourism, hotels'}}, {'domain': {'id': '47', 'name': 'Brand', 'description': 'Brands and Companies'}, 'entity': {'id': '10029202410', 'name': 'Philips'}}, {'domain': {'id': '131', 'name': 'Unified Twitter Taxonomy', 'description': 'A taxonomy view into the Semantic Core knowledge graph'}, 'entity': {'id': '10029202410', 'name': 'Philips'}}]\n",
      "=======\n",
      "2022-09-13 17:13:24+00:00 #Philips Hue #Smart Light Starter Kit with 10W E27 Bulb (White &amp; Color), Compatible with #Amazon #Alexa, #Apple HomeKit, and The #Google Assistant https://t.co/EPPCmRuC4v via @amazon\n",
      "Metrics {'retweet_count': 0, 'reply_count': 0, 'like_count': 0, 'quote_count': 0}\n",
      "[{'domain': {'id': '30', 'name': 'Entities [Entity Service]', 'description': 'Entity Service top level domain, every item that is in Entity Service should be in this domain'}, 'entity': {'id': '781974596752842752', 'name': 'Services'}}, {'domain': {'id': '46', 'name': 'Brand Category', 'description': 'Categories within Brand Verticals that narrow down the scope of Brands'}, 'entity': {'id': '1557697218248773632', 'name': 'Retail Business', 'description': 'Brands, companies, advertisers and every non-person handle with the profit intent focused on selling multiple brands such as supermarkets, stores, resellers, delivery apps'}}, {'domain': {'id': '47', 'name': 'Brand', 'description': 'Brands and Companies'}, 'entity': {'id': '10026378521', 'name': 'Google '}}, {'domain': {'id': '47', 'name': 'Brand', 'description': 'Brands and Companies'}, 'entity': {'id': '10026792024', 'name': 'Amazon'}}, {'domain': {'id': '48', 'name': 'Product', 'description': 'Products created by Brands.  Examples: Ford Explorer, Apple iPhone.'}, 'entity': {'id': '968221983803494400', 'name': 'Amazon - Alexa', 'description': 'Alexa'}}, {'domain': {'id': '48', 'name': 'Product', 'description': 'Products created by Brands.  Examples: Ford Explorer, Apple iPhone.'}, 'entity': {'id': '1395474411180892160', 'name': 'Google brand conversation'}}, {'domain': {'id': '49', 'name': 'Product Version', 'description': \"The specific model or version of a product.  Examples: Audi A8, Ben & Jerry's Chocolate Chip Ice Cream\"}, 'entity': {'id': '1409929643163979776', 'name': 'Alexa Ads Campaign'}}, {'domain': {'id': '131', 'name': 'Unified Twitter Taxonomy', 'description': 'A taxonomy view into the Semantic Core knowledge graph'}, 'entity': {'id': '10026378521', 'name': 'Google '}}, {'domain': {'id': '131', 'name': 'Unified Twitter Taxonomy', 'description': 'A taxonomy view into the Semantic Core knowledge graph'}, 'entity': {'id': '1289139633301815296', 'name': 'Home automation'}}]\n",
      "=======\n",
      "2022-09-13 17:12:30+00:00 #Philips Hue Go #Smart Light (White &amp; Color), Compatible with #Amazon #Alexa, #Apple HomeKit, and The #Google Assistant https://t.co/mEuMqADCj0 via @amazon\n",
      "Metrics {'retweet_count': 0, 'reply_count': 0, 'like_count': 0, 'quote_count': 0}\n",
      "[{'domain': {'id': '30', 'name': 'Entities [Entity Service]', 'description': 'Entity Service top level domain, every item that is in Entity Service should be in this domain'}, 'entity': {'id': '781974596752842752', 'name': 'Services'}}, {'domain': {'id': '46', 'name': 'Brand Category', 'description': 'Categories within Brand Verticals that narrow down the scope of Brands'}, 'entity': {'id': '1557697218248773632', 'name': 'Retail Business', 'description': 'Brands, companies, advertisers and every non-person handle with the profit intent focused on selling multiple brands such as supermarkets, stores, resellers, delivery apps'}}, {'domain': {'id': '47', 'name': 'Brand', 'description': 'Brands and Companies'}, 'entity': {'id': '10026378521', 'name': 'Google '}}, {'domain': {'id': '47', 'name': 'Brand', 'description': 'Brands and Companies'}, 'entity': {'id': '10026792024', 'name': 'Amazon'}}, {'domain': {'id': '48', 'name': 'Product', 'description': 'Products created by Brands.  Examples: Ford Explorer, Apple iPhone.'}, 'entity': {'id': '968221983803494400', 'name': 'Amazon - Alexa', 'description': 'Alexa'}}, {'domain': {'id': '48', 'name': 'Product', 'description': 'Products created by Brands.  Examples: Ford Explorer, Apple iPhone.'}, 'entity': {'id': '1395474411180892160', 'name': 'Google brand conversation'}}, {'domain': {'id': '49', 'name': 'Product Version', 'description': \"The specific model or version of a product.  Examples: Audi A8, Ben & Jerry's Chocolate Chip Ice Cream\"}, 'entity': {'id': '1409929643163979776', 'name': 'Alexa Ads Campaign'}}, {'domain': {'id': '131', 'name': 'Unified Twitter Taxonomy', 'description': 'A taxonomy view into the Semantic Core knowledge graph'}, 'entity': {'id': '10026378521', 'name': 'Google '}}, {'domain': {'id': '131', 'name': 'Unified Twitter Taxonomy', 'description': 'A taxonomy view into the Semantic Core knowledge graph'}, 'entity': {'id': '1289139633301815296', 'name': 'Home automation'}}]\n",
      "=======\n",
      "2022-09-13 17:02:41+00:00 😱😱😱😱😱😱\n",
      "\n",
      "Smart TV Philips 75\" 4K Android Ambilight Google Assistant Comando De Voz Dolby Vision Bluetooth 5.0 - 75PUG7906/78\n",
      "\n",
      "R$ 5698,10\n",
      "\n",
      "Preço em promoção ou estoque da oferta pode expirar rapidamente. CONFIRA: \n",
      "\n",
      "https://t.co/pEmSz9rZA9 https://t.co/kKtcKSohVw\n",
      "Metrics {'retweet_count': 0, 'reply_count': 0, 'like_count': 0, 'quote_count': 0}\n",
      "[{'domain': {'id': '30', 'name': 'Entities [Entity Service]', 'description': 'Entity Service top level domain, every item that is in Entity Service should be in this domain'}, 'entity': {'id': '781974596752842752', 'name': 'Services'}}, {'domain': {'id': '46', 'name': 'Brand Category', 'description': 'Categories within Brand Verticals that narrow down the scope of Brands'}, 'entity': {'id': '1557696802391859201', 'name': 'Entertainment & Leisure Business', 'description': 'Brands, companies, advertisers and every non-person handle with the profit intent related to movies, music, television, franchises, venues, theme parks, toys, tourism, hotels'}}, {'domain': {'id': '46', 'name': 'Brand Category', 'description': 'Categories within Brand Verticals that narrow down the scope of Brands'}, 'entity': {'id': '1557697333571112960', 'name': 'Technology Business', 'description': 'Brands, companies, advertisers and every non-person handle with the profit intent related to softwares, apps, communication equipments, hardwares'}}, {'domain': {'id': '47', 'name': 'Brand', 'description': 'Brands and Companies'}, 'entity': {'id': '10026378521', 'name': 'Google '}}, {'domain': {'id': '48', 'name': 'Product', 'description': 'Products created by Brands.  Examples: Ford Explorer, Apple iPhone.'}, 'entity': {'id': '1395474411180892160', 'name': 'Google brand conversation'}}, {'domain': {'id': '131', 'name': 'Unified Twitter Taxonomy', 'description': 'A taxonomy view into the Semantic Core knowledge graph'}, 'entity': {'id': '10026378521', 'name': 'Google '}}, {'domain': {'id': '47', 'name': 'Brand', 'description': 'Brands and Companies'}, 'entity': {'id': '10026820777', 'name': 'Android'}}, {'domain': {'id': '47', 'name': 'Brand', 'description': 'Brands and Companies'}, 'entity': {'id': '10029202410', 'name': 'Philips'}}, {'domain': {'id': '30', 'name': 'Entities [Entity Service]', 'description': 'Entity Service top level domain, every item that is in Entity Service should be in this domain'}, 'entity': {'id': '848920371311001600', 'name': 'Technology', 'description': 'Technology and computing'}}, {'domain': {'id': '30', 'name': 'Entities [Entity Service]', 'description': 'Entity Service top level domain, every item that is in Entity Service should be in this domain'}, 'entity': {'id': '848985956778561538', 'name': 'Mobile', 'description': 'Mobile'}}, {'domain': {'id': '131', 'name': 'Unified Twitter Taxonomy', 'description': 'A taxonomy view into the Semantic Core knowledge graph'}, 'entity': {'id': '10026820777', 'name': 'Android'}}, {'domain': {'id': '131', 'name': 'Unified Twitter Taxonomy', 'description': 'A taxonomy view into the Semantic Core knowledge graph'}, 'entity': {'id': '10029202410', 'name': 'Philips'}}]\n",
      "=======\n",
      "2022-09-13 16:00:41+00:00 #Ordenadoresdesegundamano\n",
      "Philips de 50¨UHD-4K, Smart TV, WiFi (50PUS6503/12)\n",
      " https://t.co/sapavIvuQj https://t.co/PucmI0s2cX\n",
      "Metrics {'retweet_count': 0, 'reply_count': 0, 'like_count': 0, 'quote_count': 0}\n",
      "[{'domain': {'id': '46', 'name': 'Brand Category', 'description': 'Categories within Brand Verticals that narrow down the scope of Brands'}, 'entity': {'id': '1557696802391859201', 'name': 'Entertainment & Leisure Business', 'description': 'Brands, companies, advertisers and every non-person handle with the profit intent related to movies, music, television, franchises, venues, theme parks, toys, tourism, hotels'}}, {'domain': {'id': '46', 'name': 'Brand Category', 'description': 'Categories within Brand Verticals that narrow down the scope of Brands'}, 'entity': {'id': '1557696940178935808', 'name': 'Gaming Business', 'description': 'Brands, companies, advertisers and every non-person handle with the profit intent related to offline and online games such as gaming consoles, tabletop games, video game publishers'}}, {'domain': {'id': '46', 'name': 'Brand Category', 'description': 'Categories within Brand Verticals that narrow down the scope of Brands'}, 'entity': {'id': '1557697333571112960', 'name': 'Technology Business', 'description': 'Brands, companies, advertisers and every non-person handle with the profit intent related to softwares, apps, communication equipments, hardwares'}}, {'domain': {'id': '30', 'name': 'Entities [Entity Service]', 'description': 'Entity Service top level domain, every item that is in Entity Service should be in this domain'}, 'entity': {'id': '848920371311001600', 'name': 'Technology', 'description': 'Technology and computing'}}, {'domain': {'id': '131', 'name': 'Unified Twitter Taxonomy', 'description': 'A taxonomy view into the Semantic Core knowledge graph'}, 'entity': {'id': '848920371311001600', 'name': 'Technology', 'description': 'Technology and computing'}}, {'domain': {'id': '165', 'name': 'Technology', 'description': 'for individual and types of technology, e.g., food technology, 3D printing'}, 'entity': {'id': '1148689566112477184', 'name': 'Wi-Fi'}}, {'domain': {'id': '47', 'name': 'Brand', 'description': 'Brands and Companies'}, 'entity': {'id': '10029202410', 'name': 'Philips'}}, {'domain': {'id': '131', 'name': 'Unified Twitter Taxonomy', 'description': 'A taxonomy view into the Semantic Core knowledge graph'}, 'entity': {'id': '10029202410', 'name': 'Philips'}}]\n",
      "=======\n",
      "2022-09-13 15:35:21+00:00 Smart TV Philips 75″ 4K Android Ambilight Google Assistant Comando De Voz Dolby Vision Bluetooth 5.0 - 75PUG7906/78 na Girafa - R$ 5.698,10. Oferta Relâmpago. #oferta #relampago #desconto #promoção #cupom https://t.co/l7gbHvC5Py\n",
      "Metrics {'retweet_count': 0, 'reply_count': 0, 'like_count': 0, 'quote_count': 0}\n",
      "[{'domain': {'id': '30', 'name': 'Entities [Entity Service]', 'description': 'Entity Service top level domain, every item that is in Entity Service should be in this domain'}, 'entity': {'id': '781974596752842752', 'name': 'Services'}}, {'domain': {'id': '46', 'name': 'Brand Category', 'description': 'Categories within Brand Verticals that narrow down the scope of Brands'}, 'entity': {'id': '1557696802391859201', 'name': 'Entertainment & Leisure Business', 'description': 'Brands, companies, advertisers and every non-person handle with the profit intent related to movies, music, television, franchises, venues, theme parks, toys, tourism, hotels'}}, {'domain': {'id': '46', 'name': 'Brand Category', 'description': 'Categories within Brand Verticals that narrow down the scope of Brands'}, 'entity': {'id': '1557697333571112960', 'name': 'Technology Business', 'description': 'Brands, companies, advertisers and every non-person handle with the profit intent related to softwares, apps, communication equipments, hardwares'}}, {'domain': {'id': '47', 'name': 'Brand', 'description': 'Brands and Companies'}, 'entity': {'id': '10026378521', 'name': 'Google '}}, {'domain': {'id': '48', 'name': 'Product', 'description': 'Products created by Brands.  Examples: Ford Explorer, Apple iPhone.'}, 'entity': {'id': '1395474411180892160', 'name': 'Google brand conversation'}}, {'domain': {'id': '131', 'name': 'Unified Twitter Taxonomy', 'description': 'A taxonomy view into the Semantic Core knowledge graph'}, 'entity': {'id': '10026378521', 'name': 'Google '}}, {'domain': {'id': '47', 'name': 'Brand', 'description': 'Brands and Companies'}, 'entity': {'id': '10026820777', 'name': 'Android'}}, {'domain': {'id': '47', 'name': 'Brand', 'description': 'Brands and Companies'}, 'entity': {'id': '10029202410', 'name': 'Philips'}}, {'domain': {'id': '30', 'name': 'Entities [Entity Service]', 'description': 'Entity Service top level domain, every item that is in Entity Service should be in this domain'}, 'entity': {'id': '848920371311001600', 'name': 'Technology', 'description': 'Technology and computing'}}, {'domain': {'id': '30', 'name': 'Entities [Entity Service]', 'description': 'Entity Service top level domain, every item that is in Entity Service should be in this domain'}, 'entity': {'id': '848985956778561538', 'name': 'Mobile', 'description': 'Mobile'}}, {'domain': {'id': '131', 'name': 'Unified Twitter Taxonomy', 'description': 'A taxonomy view into the Semantic Core knowledge graph'}, 'entity': {'id': '10026820777', 'name': 'Android'}}, {'domain': {'id': '131', 'name': 'Unified Twitter Taxonomy', 'description': 'A taxonomy view into the Semantic Core knowledge graph'}, 'entity': {'id': '10029202410', 'name': 'Philips'}}]\n",
      "=======\n",
      "2022-09-13 15:30:38+00:00 Philips Hue Dusk-to-Dawn Wireless Outdoor Motion Sensor for Smart Home $35 at Amazon https://t.co/GQf84nVZJj\n",
      "Metrics {'retweet_count': 0, 'reply_count': 0, 'like_count': 0, 'quote_count': 0}\n",
      "[{'domain': {'id': '46', 'name': 'Brand Category', 'description': 'Categories within Brand Verticals that narrow down the scope of Brands'}, 'entity': {'id': '1557697333571112960', 'name': 'Technology Business', 'description': 'Brands, companies, advertisers and every non-person handle with the profit intent related to softwares, apps, communication equipments, hardwares'}}, {'domain': {'id': '30', 'name': 'Entities [Entity Service]', 'description': 'Entity Service top level domain, every item that is in Entity Service should be in this domain'}, 'entity': {'id': '848920371311001600', 'name': 'Technology', 'description': 'Technology and computing'}}, {'domain': {'id': '66', 'name': 'Interests and Hobbies Category', 'description': 'A grouping of interests and hobbies entities, like Novelty Food or Destinations'}, 'entity': {'id': '898657691010191360', 'name': 'Internet of things', 'description': 'Internet of Things'}}, {'domain': {'id': '131', 'name': 'Unified Twitter Taxonomy', 'description': 'A taxonomy view into the Semantic Core knowledge graph'}, 'entity': {'id': '848920371311001600', 'name': 'Technology', 'description': 'Technology and computing'}}, {'domain': {'id': '131', 'name': 'Unified Twitter Taxonomy', 'description': 'A taxonomy view into the Semantic Core knowledge graph'}, 'entity': {'id': '1289139633301815296', 'name': 'Home automation'}}, {'domain': {'id': '131', 'name': 'Unified Twitter Taxonomy', 'description': 'A taxonomy view into the Semantic Core knowledge graph'}, 'entity': {'id': '1357433113593344000', 'name': 'Smart technology'}}, {'domain': {'id': '30', 'name': 'Entities [Entity Service]', 'description': 'Entity Service top level domain, every item that is in Entity Service should be in this domain'}, 'entity': {'id': '848920371311001600', 'name': 'Technology', 'description': 'Technology and computing'}}, {'domain': {'id': '66', 'name': 'Interests and Hobbies Category', 'description': 'A grouping of interests and hobbies entities, like Novelty Food or Destinations'}, 'entity': {'id': '898657691010191360', 'name': 'Internet of things', 'description': 'Internet of Things'}}]\n",
      "=======\n",
      "2022-09-13 14:59:09+00:00 @Sapax_x Smart TV 50\" UHD 4K Philips 50PUG 7406. Android Vision, Dolby Atmos, Design Borderless e Bluetooth na ponto frio\n",
      "Metrics {'retweet_count': 0, 'reply_count': 1, 'like_count': 0, 'quote_count': 0}\n",
      "[{'domain': {'id': '45', 'name': 'Brand Vertical', 'description': 'Top level entities that describe a Brands industry'}, 'entity': {'id': '781974596706635776', 'name': 'Retail'}}, {'domain': {'id': '30', 'name': 'Entities [Entity Service]', 'description': 'Entity Service top level domain, every item that is in Entity Service should be in this domain'}, 'entity': {'id': '783350882985385984', 'name': 'Home - Retail'}}, {'domain': {'id': '46', 'name': 'Brand Category', 'description': 'Categories within Brand Verticals that narrow down the scope of Brands'}, 'entity': {'id': '1557696802391859201', 'name': 'Entertainment & Leisure Business', 'description': 'Brands, companies, advertisers and every non-person handle with the profit intent related to movies, music, television, franchises, venues, theme parks, toys, tourism, hotels'}}, {'domain': {'id': '46', 'name': 'Brand Category', 'description': 'Categories within Brand Verticals that narrow down the scope of Brands'}, 'entity': {'id': '1557697333571112960', 'name': 'Technology Business', 'description': 'Brands, companies, advertisers and every non-person handle with the profit intent related to softwares, apps, communication equipments, hardwares'}}, {'domain': {'id': '47', 'name': 'Brand', 'description': 'Brands and Companies'}, 'entity': {'id': '1016693339838541824', 'name': 'Ponto Frio', 'description': 'Ponto Frio'}}, {'domain': {'id': '47', 'name': 'Brand', 'description': 'Brands and Companies'}, 'entity': {'id': '10026820777', 'name': 'Android'}}, {'domain': {'id': '47', 'name': 'Brand', 'description': 'Brands and Companies'}, 'entity': {'id': '10029202410', 'name': 'Philips'}}, {'domain': {'id': '30', 'name': 'Entities [Entity Service]', 'description': 'Entity Service top level domain, every item that is in Entity Service should be in this domain'}, 'entity': {'id': '848920371311001600', 'name': 'Technology', 'description': 'Technology and computing'}}, {'domain': {'id': '30', 'name': 'Entities [Entity Service]', 'description': 'Entity Service top level domain, every item that is in Entity Service should be in this domain'}, 'entity': {'id': '848985956778561538', 'name': 'Mobile', 'description': 'Mobile'}}, {'domain': {'id': '131', 'name': 'Unified Twitter Taxonomy', 'description': 'A taxonomy view into the Semantic Core knowledge graph'}, 'entity': {'id': '10026820777', 'name': 'Android'}}, {'domain': {'id': '131', 'name': 'Unified Twitter Taxonomy', 'description': 'A taxonomy view into the Semantic Core knowledge graph'}, 'entity': {'id': '10029202410', 'name': 'Philips'}}]\n",
      "=======\n",
      "2022-09-13 14:10:07+00:00 [Girafa] Smart TV Philips 75\" Ambilight 4K UHD LED Android TV 60Hz 75PUG7906/78 R$ 5698,00 #desconto #oferta #promocao #smart https://t.co/Gs2KapiLbD\n",
      "Metrics {'retweet_count': 0, 'reply_count': 0, 'like_count': 0, 'quote_count': 0}\n",
      "[{'domain': {'id': '46', 'name': 'Brand Category', 'description': 'Categories within Brand Verticals that narrow down the scope of Brands'}, 'entity': {'id': '1557696802391859201', 'name': 'Entertainment & Leisure Business', 'description': 'Brands, companies, advertisers and every non-person handle with the profit intent related to movies, music, television, franchises, venues, theme parks, toys, tourism, hotels'}}, {'domain': {'id': '46', 'name': 'Brand Category', 'description': 'Categories within Brand Verticals that narrow down the scope of Brands'}, 'entity': {'id': '1557697333571112960', 'name': 'Technology Business', 'description': 'Brands, companies, advertisers and every non-person handle with the profit intent related to softwares, apps, communication equipments, hardwares'}}, {'domain': {'id': '47', 'name': 'Brand', 'description': 'Brands and Companies'}, 'entity': {'id': '10026820777', 'name': 'Android'}}, {'domain': {'id': '47', 'name': 'Brand', 'description': 'Brands and Companies'}, 'entity': {'id': '10029202410', 'name': 'Philips'}}, {'domain': {'id': '30', 'name': 'Entities [Entity Service]', 'description': 'Entity Service top level domain, every item that is in Entity Service should be in this domain'}, 'entity': {'id': '848920371311001600', 'name': 'Technology', 'description': 'Technology and computing'}}, {'domain': {'id': '30', 'name': 'Entities [Entity Service]', 'description': 'Entity Service top level domain, every item that is in Entity Service should be in this domain'}, 'entity': {'id': '848985956778561538', 'name': 'Mobile', 'description': 'Mobile'}}, {'domain': {'id': '131', 'name': 'Unified Twitter Taxonomy', 'description': 'A taxonomy view into the Semantic Core knowledge graph'}, 'entity': {'id': '10026820777', 'name': 'Android'}}, {'domain': {'id': '131', 'name': 'Unified Twitter Taxonomy', 'description': 'A taxonomy view into the Semantic Core knowledge graph'}, 'entity': {'id': '10029202410', 'name': 'Philips'}}]\n",
      "=======\n",
      "2022-09-13 14:05:05+00:00 Not many left!!\n",
      "Philips 55 Inch Smart TV 4K. LED Television ideal for N for only £351.24\n",
      "https://t.co/O2VT0O8KvT https://t.co/RoAKpORm7A\n",
      "Metrics {'retweet_count': 0, 'reply_count': 0, 'like_count': 0, 'quote_count': 0}\n",
      "[{'domain': {'id': '46', 'name': 'Brand Category', 'description': 'Categories within Brand Verticals that narrow down the scope of Brands'}, 'entity': {'id': '1557696802391859201', 'name': 'Entertainment & Leisure Business', 'description': 'Brands, companies, advertisers and every non-person handle with the profit intent related to movies, music, television, franchises, venues, theme parks, toys, tourism, hotels'}}, {'domain': {'id': '47', 'name': 'Brand', 'description': 'Brands and Companies'}, 'entity': {'id': '10029202410', 'name': 'Philips'}}, {'domain': {'id': '131', 'name': 'Unified Twitter Taxonomy', 'description': 'A taxonomy view into the Semantic Core knowledge graph'}, 'entity': {'id': '10029202410', 'name': 'Philips'}}]\n",
      "=======\n",
      "2022-09-13 14:05:02+00:00 #promoção #oferta  Smart TV Philips 75\" 4K Android Ambilight Google Assistant - R$ 5.698,10  #smartTv #Android https://t.co/qnRvrHw8oy\n",
      "Metrics {'retweet_count': 0, 'reply_count': 0, 'like_count': 0, 'quote_count': 0}\n",
      "[{'domain': {'id': '30', 'name': 'Entities [Entity Service]', 'description': 'Entity Service top level domain, every item that is in Entity Service should be in this domain'}, 'entity': {'id': '781974596752842752', 'name': 'Services'}}, {'domain': {'id': '46', 'name': 'Brand Category', 'description': 'Categories within Brand Verticals that narrow down the scope of Brands'}, 'entity': {'id': '1557696802391859201', 'name': 'Entertainment & Leisure Business', 'description': 'Brands, companies, advertisers and every non-person handle with the profit intent related to movies, music, television, franchises, venues, theme parks, toys, tourism, hotels'}}, {'domain': {'id': '46', 'name': 'Brand Category', 'description': 'Categories within Brand Verticals that narrow down the scope of Brands'}, 'entity': {'id': '1557697333571112960', 'name': 'Technology Business', 'description': 'Brands, companies, advertisers and every non-person handle with the profit intent related to softwares, apps, communication equipments, hardwares'}}, {'domain': {'id': '47', 'name': 'Brand', 'description': 'Brands and Companies'}, 'entity': {'id': '10026378521', 'name': 'Google '}}, {'domain': {'id': '48', 'name': 'Product', 'description': 'Products created by Brands.  Examples: Ford Explorer, Apple iPhone.'}, 'entity': {'id': '1395474411180892160', 'name': 'Google brand conversation'}}, {'domain': {'id': '131', 'name': 'Unified Twitter Taxonomy', 'description': 'A taxonomy view into the Semantic Core knowledge graph'}, 'entity': {'id': '10026378521', 'name': 'Google '}}, {'domain': {'id': '47', 'name': 'Brand', 'description': 'Brands and Companies'}, 'entity': {'id': '10026820777', 'name': 'Android'}}, {'domain': {'id': '47', 'name': 'Brand', 'description': 'Brands and Companies'}, 'entity': {'id': '10029202410', 'name': 'Philips'}}, {'domain': {'id': '30', 'name': 'Entities [Entity Service]', 'description': 'Entity Service top level domain, every item that is in Entity Service should be in this domain'}, 'entity': {'id': '848920371311001600', 'name': 'Technology', 'description': 'Technology and computing'}}, {'domain': {'id': '30', 'name': 'Entities [Entity Service]', 'description': 'Entity Service top level domain, every item that is in Entity Service should be in this domain'}, 'entity': {'id': '848985956778561538', 'name': 'Mobile', 'description': 'Mobile'}}, {'domain': {'id': '131', 'name': 'Unified Twitter Taxonomy', 'description': 'A taxonomy view into the Semantic Core knowledge graph'}, 'entity': {'id': '10026820777', 'name': 'Android'}}, {'domain': {'id': '131', 'name': 'Unified Twitter Taxonomy', 'description': 'A taxonomy view into the Semantic Core knowledge graph'}, 'entity': {'id': '10029202410', 'name': 'Philips'}}]\n",
      "=======\n",
      "2022-09-13 13:58:08+00:00 Replacement Electric Toothbrush Charger Base CBA1001 for Philips Smart 9300 9500 9700 Series, Replacement Sonicare Charger Ba [MXYW2TC]\n",
      "\n",
      "https://t.co/2SKtioRkQ2\n",
      "Metrics {'retweet_count': 0, 'reply_count': 0, 'like_count': 0, 'quote_count': 0}\n",
      "[{'domain': {'id': '65', 'name': 'Interests and Hobbies Vertical', 'description': 'Top level interests and hobbies groupings, like Food or Travel'}, 'entity': {'id': '903303816698671104', 'name': 'Wellness and health', 'description': 'Wellness & Health'}}, {'domain': {'id': '66', 'name': 'Interests and Hobbies Category', 'description': 'A grouping of interests and hobbies entities, like Novelty Food or Destinations'}, 'entity': {'id': '1245072588952334336', 'name': 'Oral care'}}, {'domain': {'id': '47', 'name': 'Brand', 'description': 'Brands and Companies'}, 'entity': {'id': '10029202410', 'name': 'Philips'}}, {'domain': {'id': '131', 'name': 'Unified Twitter Taxonomy', 'description': 'A taxonomy view into the Semantic Core knowledge graph'}, 'entity': {'id': '10029202410', 'name': 'Philips'}}]\n",
      "=======\n",
      "2022-09-13 13:15:28+00:00 Smart TV 55” 4K UHD D-LED Philips 55PUG7406/78 https://t.co/QOJeCxwNHo\n",
      "Metrics {'retweet_count': 0, 'reply_count': 0, 'like_count': 0, 'quote_count': 0}\n",
      "[{'domain': {'id': '46', 'name': 'Brand Category', 'description': 'Categories within Brand Verticals that narrow down the scope of Brands'}, 'entity': {'id': '1557696802391859201', 'name': 'Entertainment & Leisure Business', 'description': 'Brands, companies, advertisers and every non-person handle with the profit intent related to movies, music, television, franchises, venues, theme parks, toys, tourism, hotels'}}, {'domain': {'id': '47', 'name': 'Brand', 'description': 'Brands and Companies'}, 'entity': {'id': '10029202410', 'name': 'Philips'}}, {'domain': {'id': '131', 'name': 'Unified Twitter Taxonomy', 'description': 'A taxonomy view into the Semantic Core knowledge graph'}, 'entity': {'id': '10029202410', 'name': 'Philips'}}]\n",
      "=======\n",
      "2022-09-13 12:59:02+00:00 RT @Razar_the_Raven: Samsung SmartThings app now supports Music Sync with the Philips Light. 🎶\n",
      "\n",
      "By playing music on your phone, your smart…\n",
      "Metrics {'retweet_count': 3, 'reply_count': 0, 'like_count': 0, 'quote_count': 0}\n",
      "[{'domain': {'id': '46', 'name': 'Brand Category', 'description': 'Categories within Brand Verticals that narrow down the scope of Brands'}, 'entity': {'id': '1557697333571112960', 'name': 'Technology Business', 'description': 'Brands, companies, advertisers and every non-person handle with the profit intent related to softwares, apps, communication equipments, hardwares'}}, {'domain': {'id': '47', 'name': 'Brand', 'description': 'Brands and Companies'}, 'entity': {'id': '1174344555111469057', 'name': 'Samsung Indonesia'}}, {'domain': {'id': '47', 'name': 'Brand', 'description': 'Brands and Companies'}, 'entity': {'id': '10026364234', 'name': 'Samsung '}}, {'domain': {'id': '47', 'name': 'Brand', 'description': 'Brands and Companies'}, 'entity': {'id': '10029202410', 'name': 'Philips'}}, {'domain': {'id': '48', 'name': 'Product', 'description': 'Products created by Brands.  Examples: Ford Explorer, Apple iPhone.'}, 'entity': {'id': '10026331316', 'name': 'Samsung Mobile'}}, {'domain': {'id': '48', 'name': 'Product', 'description': 'Products created by Brands.  Examples: Ford Explorer, Apple iPhone.'}, 'entity': {'id': '10045298641', 'name': 'Samsung USA'}}, {'domain': {'id': '49', 'name': 'Product Version', 'description': \"The specific model or version of a product.  Examples: Audi A8, Ben & Jerry's Chocolate Chip Ice Cream\"}, 'entity': {'id': '10040464729', 'name': 'Samsung Mobile UK'}}, {'domain': {'id': '49', 'name': 'Product Version', 'description': \"The specific model or version of a product.  Examples: Audi A8, Ben & Jerry's Chocolate Chip Ice Cream\"}, 'entity': {'id': '10041364617', 'name': 'Samsung Mobile US'}}, {'domain': {'id': '30', 'name': 'Entities [Entity Service]', 'description': 'Entity Service top level domain, every item that is in Entity Service should be in this domain'}, 'entity': {'id': '848920371311001600', 'name': 'Technology', 'description': 'Technology and computing'}}, {'domain': {'id': '66', 'name': 'Interests and Hobbies Category', 'description': 'A grouping of interests and hobbies entities, like Novelty Food or Destinations'}, 'entity': {'id': '848920700073123840', 'name': 'Cell Phones', 'description': 'Cell phones'}}, {'domain': {'id': '30', 'name': 'Entities [Entity Service]', 'description': 'Entity Service top level domain, every item that is in Entity Service should be in this domain'}, 'entity': {'id': '848985956778561538', 'name': 'Mobile', 'description': 'Mobile'}}, {'domain': {'id': '131', 'name': 'Unified Twitter Taxonomy', 'description': 'A taxonomy view into the Semantic Core knowledge graph'}, 'entity': {'id': '10029202410', 'name': 'Philips'}}]\n",
      "=======\n",
      "2022-09-13 12:35:49+00:00 Smart Air Purifiers Market 2022-2027 is thriving by focuses on major players like Coway, Americair Corporation, Blue Air, Koninklijke Philips - parikshit Deshmukh | @scoopit https://t.co/kJIRmMbEqS\n",
      "Metrics {'retweet_count': 0, 'reply_count': 0, 'like_count': 0, 'quote_count': 0}\n",
      "=======\n",
      "2022-09-13 12:30:16+00:00 Add a splash of 16 million colours to your living space with our new Philips Smart Wi-Fi LED Coloured Downlight! Blue, green, orange, or purple, pick the shade your heart desires.\n",
      "\n",
      "#LED #PhilipsLighting #downlights #wiz #16millioncolors #SmartLighting #lighting #uniquelighting https://t.co/Dl7BtFdFGz\n",
      "Metrics {'retweet_count': 0, 'reply_count': 0, 'like_count': 2, 'quote_count': 0}\n",
      "[{'domain': {'id': '46', 'name': 'Brand Category', 'description': 'Categories within Brand Verticals that narrow down the scope of Brands'}, 'entity': {'id': '1557697333571112960', 'name': 'Technology Business', 'description': 'Brands, companies, advertisers and every non-person handle with the profit intent related to softwares, apps, communication equipments, hardwares'}}, {'domain': {'id': '30', 'name': 'Entities [Entity Service]', 'description': 'Entity Service top level domain, every item that is in Entity Service should be in this domain'}, 'entity': {'id': '848920371311001600', 'name': 'Technology', 'description': 'Technology and computing'}}, {'domain': {'id': '131', 'name': 'Unified Twitter Taxonomy', 'description': 'A taxonomy view into the Semantic Core knowledge graph'}, 'entity': {'id': '848920371311001600', 'name': 'Technology', 'description': 'Technology and computing'}}, {'domain': {'id': '165', 'name': 'Technology', 'description': 'for individual and types of technology, e.g., food technology, 3D printing'}, 'entity': {'id': '1148689566112477184', 'name': 'Wi-Fi'}}]\n",
      "=======\n",
      "2022-09-13 12:00:11+00:00 رؤية وصوت سينمائيان مع تلفزيون اندرويد ذكي فائق الوضوح ال اي دي بحجم 50 بوصة من فيليبس متوفر بسعر 145.9دك! 🤩\n",
      "-\n",
      "Cinematic vision and sound Philips 50-inch UHD LED Smart Android TV avaiable for 145.9KD! 🤩\n",
      "\n",
      "Shop Now: https://t.co/qPEtsL1rz0\n",
      "\n",
      " #xcitebts22 https://t.co/CBufQCZezB\n",
      "Metrics {'retweet_count': 0, 'reply_count': 2, 'like_count': 3, 'quote_count': 0}\n",
      "[{'domain': {'id': '46', 'name': 'Brand Category', 'description': 'Categories within Brand Verticals that narrow down the scope of Brands'}, 'entity': {'id': '1557696802391859201', 'name': 'Entertainment & Leisure Business', 'description': 'Brands, companies, advertisers and every non-person handle with the profit intent related to movies, music, television, franchises, venues, theme parks, toys, tourism, hotels'}}, {'domain': {'id': '46', 'name': 'Brand Category', 'description': 'Categories within Brand Verticals that narrow down the scope of Brands'}, 'entity': {'id': '1557696940178935808', 'name': 'Gaming Business', 'description': 'Brands, companies, advertisers and every non-person handle with the profit intent related to offline and online games such as gaming consoles, tabletop games, video game publishers'}}, {'domain': {'id': '46', 'name': 'Brand Category', 'description': 'Categories within Brand Verticals that narrow down the scope of Brands'}, 'entity': {'id': '1557697333571112960', 'name': 'Technology Business', 'description': 'Brands, companies, advertisers and every non-person handle with the profit intent related to softwares, apps, communication equipments, hardwares'}}, {'domain': {'id': '47', 'name': 'Brand', 'description': 'Brands and Companies'}, 'entity': {'id': '10026820777', 'name': 'Android'}}, {'domain': {'id': '47', 'name': 'Brand', 'description': 'Brands and Companies'}, 'entity': {'id': '10029202410', 'name': 'Philips'}}, {'domain': {'id': '30', 'name': 'Entities [Entity Service]', 'description': 'Entity Service top level domain, every item that is in Entity Service should be in this domain'}, 'entity': {'id': '848920371311001600', 'name': 'Technology', 'description': 'Technology and computing'}}, {'domain': {'id': '30', 'name': 'Entities [Entity Service]', 'description': 'Entity Service top level domain, every item that is in Entity Service should be in this domain'}, 'entity': {'id': '848985956778561538', 'name': 'Mobile', 'description': 'Mobile'}}, {'domain': {'id': '131', 'name': 'Unified Twitter Taxonomy', 'description': 'A taxonomy view into the Semantic Core knowledge graph'}, 'entity': {'id': '10026820777', 'name': 'Android'}}, {'domain': {'id': '131', 'name': 'Unified Twitter Taxonomy', 'description': 'A taxonomy view into the Semantic Core knowledge graph'}, 'entity': {'id': '10029202410', 'name': 'Philips'}}]\n",
      "=======\n",
      "2022-09-13 11:43:56+00:00 Smart Pills Capsule Endoscopy Market Evolving Technologies and Future Scope 2022-2028| Top Leading Players ,Microchip Technology Inc. ,Novartis AG ,Philips ,Pixie Scientific https://t.co/YnjTb6wgBB\n",
      "Metrics {'retweet_count': 0, 'reply_count': 0, 'like_count': 0, 'quote_count': 0}\n",
      "[{'domain': {'id': '30', 'name': 'Entities [Entity Service]', 'description': 'Entity Service top level domain, every item that is in Entity Service should be in this domain'}, 'entity': {'id': '781974596752842752', 'name': 'Services'}}, {'domain': {'id': '48', 'name': 'Product', 'description': 'Products created by Brands.  Examples: Ford Explorer, Apple iPhone.'}, 'entity': {'id': '1412579054855671809', 'name': 'Google Innovation'}}, {'domain': {'id': '45', 'name': 'Brand Vertical', 'description': 'Top level entities that describe a Brands industry'}, 'entity': {'id': '781974596740190208', 'name': 'CPG'}}, {'domain': {'id': '30', 'name': 'Entities [Entity Service]', 'description': 'Entity Service top level domain, every item that is in Entity Service should be in this domain'}, 'entity': {'id': '781974596752773120', 'name': 'Pharma - CPG'}}, {'domain': {'id': '47', 'name': 'Brand', 'description': 'Brands and Companies'}, 'entity': {'id': '10044269594', 'name': 'Novartis'}}]\n",
      "=======\n",
      "2022-09-13 11:12:55+00:00 RT @melhoresofert4s: 👉🏻 [#Amazon] Smart TV 43\" Full HD Philips Android 43PFG6917/78, Google Assistant, Comando de Voz, HDR, 3 HDMI, Wifi 5G…\n",
      "Metrics {'retweet_count': 1, 'reply_count': 0, 'like_count': 0, 'quote_count': 0}\n",
      "[{'domain': {'id': '30', 'name': 'Entities [Entity Service]', 'description': 'Entity Service top level domain, every item that is in Entity Service should be in this domain'}, 'entity': {'id': '781974596752842752', 'name': 'Services'}}, {'domain': {'id': '46', 'name': 'Brand Category', 'description': 'Categories within Brand Verticals that narrow down the scope of Brands'}, 'entity': {'id': '1557696802391859201', 'name': 'Entertainment & Leisure Business', 'description': 'Brands, companies, advertisers and every non-person handle with the profit intent related to movies, music, television, franchises, venues, theme parks, toys, tourism, hotels'}}, {'domain': {'id': '46', 'name': 'Brand Category', 'description': 'Categories within Brand Verticals that narrow down the scope of Brands'}, 'entity': {'id': '1557697333571112960', 'name': 'Technology Business', 'description': 'Brands, companies, advertisers and every non-person handle with the profit intent related to softwares, apps, communication equipments, hardwares'}}, {'domain': {'id': '47', 'name': 'Brand', 'description': 'Brands and Companies'}, 'entity': {'id': '10026378521', 'name': 'Google '}}, {'domain': {'id': '48', 'name': 'Product', 'description': 'Products created by Brands.  Examples: Ford Explorer, Apple iPhone.'}, 'entity': {'id': '1395474411180892160', 'name': 'Google brand conversation'}}, {'domain': {'id': '30', 'name': 'Entities [Entity Service]', 'description': 'Entity Service top level domain, every item that is in Entity Service should be in this domain'}, 'entity': {'id': '848920371311001600', 'name': 'Technology', 'description': 'Technology and computing'}}, {'domain': {'id': '30', 'name': 'Entities [Entity Service]', 'description': 'Entity Service top level domain, every item that is in Entity Service should be in this domain'}, 'entity': {'id': '1085628093627195392', 'name': '5G', 'description': '5G'}}, {'domain': {'id': '131', 'name': 'Unified Twitter Taxonomy', 'description': 'A taxonomy view into the Semantic Core knowledge graph'}, 'entity': {'id': '10026378521', 'name': 'Google '}}, {'domain': {'id': '131', 'name': 'Unified Twitter Taxonomy', 'description': 'A taxonomy view into the Semantic Core knowledge graph'}, 'entity': {'id': '848920371311001600', 'name': 'Technology', 'description': 'Technology and computing'}}, {'domain': {'id': '165', 'name': 'Technology', 'description': 'for individual and types of technology, e.g., food technology, 3D printing'}, 'entity': {'id': '1148689566112477184', 'name': 'Wi-Fi'}}, {'domain': {'id': '47', 'name': 'Brand', 'description': 'Brands and Companies'}, 'entity': {'id': '10026820777', 'name': 'Android'}}, {'domain': {'id': '47', 'name': 'Brand', 'description': 'Brands and Companies'}, 'entity': {'id': '10029202410', 'name': 'Philips'}}, {'domain': {'id': '30', 'name': 'Entities [Entity Service]', 'description': 'Entity Service top level domain, every item that is in Entity Service should be in this domain'}, 'entity': {'id': '848920371311001600', 'name': 'Technology', 'description': 'Technology and computing'}}, {'domain': {'id': '30', 'name': 'Entities [Entity Service]', 'description': 'Entity Service top level domain, every item that is in Entity Service should be in this domain'}, 'entity': {'id': '848985956778561538', 'name': 'Mobile', 'description': 'Mobile'}}, {'domain': {'id': '131', 'name': 'Unified Twitter Taxonomy', 'description': 'A taxonomy view into the Semantic Core knowledge graph'}, 'entity': {'id': '10026820777', 'name': 'Android'}}, {'domain': {'id': '131', 'name': 'Unified Twitter Taxonomy', 'description': 'A taxonomy view into the Semantic Core knowledge graph'}, 'entity': {'id': '10029202410', 'name': 'Philips'}}]\n",
      "=======\n",
      "2022-09-13 10:40:41+00:00 Ceeco Introduces The Philips PSE0800 Smart Meeting Camera &amp; Soundbar at InfoComm India 2022 with smart features\n",
      "Learn More: https://t.co/C3S051xYi8\n",
      "\n",
      "https://t.co/pWpsCccBTI\n",
      "Metrics {'retweet_count': 0, 'reply_count': 0, 'like_count': 0, 'quote_count': 0}\n",
      "=======\n",
      "2022-09-13 10:39:25+00:00 Ceeco Introduced The Philips 600 Pro PTZ Smart Meeting video conference with smart features. as given below:\n",
      "learn more: https://t.co/prrPpF1QqG\n",
      "https://t.co/ihFoAedq4e\n",
      "Metrics {'retweet_count': 0, 'reply_count': 0, 'like_count': 0, 'quote_count': 0}\n",
      "[{'domain': {'id': '66', 'name': 'Interests and Hobbies Category', 'description': 'A grouping of interests and hobbies entities, like Novelty Food or Destinations'}, 'entity': {'id': '1237833500474003461', 'name': 'Remote work'}}]\n",
      "=======\n",
      "2022-09-13 10:39:04+00:00 👉🏻 [#Amazon] Smart TV 43\" Full HD Philips Android 43PFG6917/78, Google Assistant, Comando de Voz, HDR, 3 HDMI, Wifi 5G, Bluetooth 5.0, Dolby Atmos\n",
      "\n",
      "💰 De: R$1.999,00\n",
      "💰 Preço da oferta: R$1.759,12\n",
      "\n",
      "💻 https://t.co/PB7Bmg7gsk\n",
      "Metrics {'retweet_count': 1, 'reply_count': 1, 'like_count': 2, 'quote_count': 0}\n",
      "[{'domain': {'id': '30', 'name': 'Entities [Entity Service]', 'description': 'Entity Service top level domain, every item that is in Entity Service should be in this domain'}, 'entity': {'id': '781974596752842752', 'name': 'Services'}}, {'domain': {'id': '46', 'name': 'Brand Category', 'description': 'Categories within Brand Verticals that narrow down the scope of Brands'}, 'entity': {'id': '1557696802391859201', 'name': 'Entertainment & Leisure Business', 'description': 'Brands, companies, advertisers and every non-person handle with the profit intent related to movies, music, television, franchises, venues, theme parks, toys, tourism, hotels'}}, {'domain': {'id': '46', 'name': 'Brand Category', 'description': 'Categories within Brand Verticals that narrow down the scope of Brands'}, 'entity': {'id': '1557697333571112960', 'name': 'Technology Business', 'description': 'Brands, companies, advertisers and every non-person handle with the profit intent related to softwares, apps, communication equipments, hardwares'}}, {'domain': {'id': '47', 'name': 'Brand', 'description': 'Brands and Companies'}, 'entity': {'id': '10026378521', 'name': 'Google '}}, {'domain': {'id': '48', 'name': 'Product', 'description': 'Products created by Brands.  Examples: Ford Explorer, Apple iPhone.'}, 'entity': {'id': '1395474411180892160', 'name': 'Google brand conversation'}}, {'domain': {'id': '30', 'name': 'Entities [Entity Service]', 'description': 'Entity Service top level domain, every item that is in Entity Service should be in this domain'}, 'entity': {'id': '848920371311001600', 'name': 'Technology', 'description': 'Technology and computing'}}, {'domain': {'id': '30', 'name': 'Entities [Entity Service]', 'description': 'Entity Service top level domain, every item that is in Entity Service should be in this domain'}, 'entity': {'id': '1085628093627195392', 'name': '5G', 'description': '5G'}}, {'domain': {'id': '131', 'name': 'Unified Twitter Taxonomy', 'description': 'A taxonomy view into the Semantic Core knowledge graph'}, 'entity': {'id': '10026378521', 'name': 'Google '}}, {'domain': {'id': '131', 'name': 'Unified Twitter Taxonomy', 'description': 'A taxonomy view into the Semantic Core knowledge graph'}, 'entity': {'id': '848920371311001600', 'name': 'Technology', 'description': 'Technology and computing'}}, {'domain': {'id': '165', 'name': 'Technology', 'description': 'for individual and types of technology, e.g., food technology, 3D printing'}, 'entity': {'id': '1148689566112477184', 'name': 'Wi-Fi'}}, {'domain': {'id': '47', 'name': 'Brand', 'description': 'Brands and Companies'}, 'entity': {'id': '10026820777', 'name': 'Android'}}, {'domain': {'id': '47', 'name': 'Brand', 'description': 'Brands and Companies'}, 'entity': {'id': '10029202410', 'name': 'Philips'}}, {'domain': {'id': '30', 'name': 'Entities [Entity Service]', 'description': 'Entity Service top level domain, every item that is in Entity Service should be in this domain'}, 'entity': {'id': '848920371311001600', 'name': 'Technology', 'description': 'Technology and computing'}}, {'domain': {'id': '30', 'name': 'Entities [Entity Service]', 'description': 'Entity Service top level domain, every item that is in Entity Service should be in this domain'}, 'entity': {'id': '848985956778561538', 'name': 'Mobile', 'description': 'Mobile'}}, {'domain': {'id': '131', 'name': 'Unified Twitter Taxonomy', 'description': 'A taxonomy view into the Semantic Core knowledge graph'}, 'entity': {'id': '10026820777', 'name': 'Android'}}, {'domain': {'id': '131', 'name': 'Unified Twitter Taxonomy', 'description': 'A taxonomy view into the Semantic Core knowledge graph'}, 'entity': {'id': '10029202410', 'name': 'Philips'}}]\n",
      "=======\n",
      "2022-09-13 10:12:17+00:00 Philips Hue Smart Outdoor Lightstrip White &amp; Colour Ambiance [5 m] Waterproof Base Kit, Compatible with Alexa, Google Assistant and...\n",
      "\n",
      "More: https://t.co/U3I8VTgAMS\n",
      "\n",
      "#SaverDeal #Signify #SuperSaverDeal https://t.co/BAuk95psN7\n",
      "Metrics {'retweet_count': 0, 'reply_count': 0, 'like_count': 0, 'quote_count': 0}\n",
      "[{'domain': {'id': '30', 'name': 'Entities [Entity Service]', 'description': 'Entity Service top level domain, every item that is in Entity Service should be in this domain'}, 'entity': {'id': '781974596752842752', 'name': 'Services'}}, {'domain': {'id': '47', 'name': 'Brand', 'description': 'Brands and Companies'}, 'entity': {'id': '10026378521', 'name': 'Google '}}, {'domain': {'id': '47', 'name': 'Brand', 'description': 'Brands and Companies'}, 'entity': {'id': '10026792024', 'name': 'Amazon'}}, {'domain': {'id': '48', 'name': 'Product', 'description': 'Products created by Brands.  Examples: Ford Explorer, Apple iPhone.'}, 'entity': {'id': '968221983803494400', 'name': 'Amazon - Alexa', 'description': 'Alexa'}}, {'domain': {'id': '48', 'name': 'Product', 'description': 'Products created by Brands.  Examples: Ford Explorer, Apple iPhone.'}, 'entity': {'id': '1395474411180892160', 'name': 'Google brand conversation'}}]\n",
      "=======\n",
      "2022-09-13 09:35:26+00:00 MHCOZY 1 Channel 5V 12V ZigBee Smart Relay Switch,Adjustable Selflock and Momentary Working Mode,Works with Philips Hue, Smar [FDJZMBR]\n",
      "\n",
      "https://t.co/TA1jSF2PnE\n",
      "Metrics {'retweet_count': 0, 'reply_count': 0, 'like_count': 0, 'quote_count': 0}\n",
      "=======\n",
      "2022-09-13 09:00:21+00:00 Riry Universal TV Remote for All Replacement TVs for Samsung,LG,Sony,Philips,Sharp,Panasonic,TCL,Toshiba,Hitachi,haier,Sanyo Smart TV with Netflix 3D Shortcut Buttons https://t.co/KjLO1h5ULT\n",
      "Metrics {'retweet_count': 0, 'reply_count': 0, 'like_count': 0, 'quote_count': 0}\n",
      "[{'domain': {'id': '45', 'name': 'Brand Vertical', 'description': 'Top level entities that describe a Brands industry'}, 'entity': {'id': '781974597310615553', 'name': 'Entertainment'}}, {'domain': {'id': '30', 'name': 'Entities [Entity Service]', 'description': 'Entity Service top level domain, every item that is in Entity Service should be in this domain'}, 'entity': {'id': '781974597105094656', 'name': 'TV/Movies Related - Entertainment'}}, {'domain': {'id': '46', 'name': 'Brand Category', 'description': 'Categories within Brand Verticals that narrow down the scope of Brands'}, 'entity': {'id': '1557696802391859201', 'name': 'Entertainment & Leisure Business', 'description': 'Brands, companies, advertisers and every non-person handle with the profit intent related to movies, music, television, franchises, venues, theme parks, toys, tourism, hotels'}}, {'domain': {'id': '46', 'name': 'Brand Category', 'description': 'Categories within Brand Verticals that narrow down the scope of Brands'}, 'entity': {'id': '1557697333571112960', 'name': 'Technology Business', 'description': 'Brands, companies, advertisers and every non-person handle with the profit intent related to softwares, apps, communication equipments, hardwares'}}, {'domain': {'id': '47', 'name': 'Brand', 'description': 'Brands and Companies'}, 'entity': {'id': '10026367762', 'name': 'Netflix'}}, {'domain': {'id': '47', 'name': 'Brand', 'description': 'Brands and Companies'}, 'entity': {'id': '10026653543', 'name': 'Panasonic'}}, {'domain': {'id': '47', 'name': 'Brand', 'description': 'Brands and Companies'}, 'entity': {'id': '10027187398', 'name': 'LG Electronics'}}, {'domain': {'id': '47', 'name': 'Brand', 'description': 'Brands and Companies'}, 'entity': {'id': '1174344555111469057', 'name': 'Samsung Indonesia'}}, {'domain': {'id': '131', 'name': 'Unified Twitter Taxonomy', 'description': 'A taxonomy view into the Semantic Core knowledge graph'}, 'entity': {'id': '10026367762', 'name': 'Netflix'}}, {'domain': {'id': '131', 'name': 'Unified Twitter Taxonomy', 'description': 'A taxonomy view into the Semantic Core knowledge graph'}, 'entity': {'id': '10026653543', 'name': 'Panasonic'}}, {'domain': {'id': '131', 'name': 'Unified Twitter Taxonomy', 'description': 'A taxonomy view into the Semantic Core knowledge graph'}, 'entity': {'id': '10027187398', 'name': 'LG Electronics'}}, {'domain': {'id': '131', 'name': 'Unified Twitter Taxonomy', 'description': 'A taxonomy view into the Semantic Core knowledge graph'}, 'entity': {'id': '1196447585004736512', 'name': 'Entertainment industry'}}, {'domain': {'id': '131', 'name': 'Unified Twitter Taxonomy', 'description': 'A taxonomy view into the Semantic Core knowledge graph'}, 'entity': {'id': '1397573214239289349', 'name': 'TV streaming services'}}, {'domain': {'id': '47', 'name': 'Brand', 'description': 'Brands and Companies'}, 'entity': {'id': '10025771404', 'name': 'Toshiba'}}, {'domain': {'id': '47', 'name': 'Brand', 'description': 'Brands and Companies'}, 'entity': {'id': '10026364234', 'name': 'Samsung '}}, {'domain': {'id': '47', 'name': 'Brand', 'description': 'Brands and Companies'}, 'entity': {'id': '10026738409', 'name': 'Sony'}}, {'domain': {'id': '47', 'name': 'Brand', 'description': 'Brands and Companies'}, 'entity': {'id': '10029202410', 'name': 'Philips'}}, {'domain': {'id': '48', 'name': 'Product', 'description': 'Products created by Brands.  Examples: Ford Explorer, Apple iPhone.'}, 'entity': {'id': '10045298641', 'name': 'Samsung USA'}}, {'domain': {'id': '131', 'name': 'Unified Twitter Taxonomy', 'description': 'A taxonomy view into the Semantic Core knowledge graph'}, 'entity': {'id': '10025771404', 'name': 'Toshiba'}}, {'domain': {'id': '131', 'name': 'Unified Twitter Taxonomy', 'description': 'A taxonomy view into the Semantic Core knowledge graph'}, 'entity': {'id': '10026738409', 'name': 'Sony'}}, {'domain': {'id': '131', 'name': 'Unified Twitter Taxonomy', 'description': 'A taxonomy view into the Semantic Core knowledge graph'}, 'entity': {'id': '10029202410', 'name': 'Philips'}}]\n",
      "=======\n",
      "2022-09-13 08:29:12+00:00 mubby: Philips Hue Go 2.0 White and Colour Ambiance Smart Portable Light $94.95 (RRP $164.95) Delivered @ Amazon AU https://t.co/lkzNz9QtXy\n",
      "Metrics {'retweet_count': 0, 'reply_count': 0, 'like_count': 0, 'quote_count': 0}\n",
      "[{'domain': {'id': '47', 'name': 'Brand', 'description': 'Brands and Companies'}, 'entity': {'id': '10029202410', 'name': 'Philips'}}, {'domain': {'id': '131', 'name': 'Unified Twitter Taxonomy', 'description': 'A taxonomy view into the Semantic Core knowledge graph'}, 'entity': {'id': '10029202410', 'name': 'Philips'}}]\n",
      "=======\n",
      "2022-09-13 08:09:32+00:00 Neues Schnäppchen:  Philips WiZ Smart Plug Doppelpack Steckdose für nur 19,99€ inkl. Versand https://t.co/QUMIi6k5ES\n",
      "Metrics {'retweet_count': 0, 'reply_count': 0, 'like_count': 0, 'quote_count': 0}\n",
      "=======\n",
      "2022-09-13 08:00:35+00:00 💥 CHOLLO‼️ #amazon\n",
      "Philips Gaming 32M1N5500VS - 32 Pulgadas QHD Monitor, 165Hz, 1ms, VA, Smart Image HDR, Altavoces, bajo retraso por 322,64€\n",
      "\n",
      "💸 Comprar: https://t.co/yPgOBbNVJ7\n",
      "♻️ Reacondicionado desde 257,49€\n",
      "🎮 Visto en https://t.co/4TPsTq4ovK https://t.co/dZyw0ZJsOR\n",
      "Metrics {'retweet_count': 0, 'reply_count': 0, 'like_count': 0, 'quote_count': 0}\n",
      "[{'domain': {'id': '46', 'name': 'Brand Category', 'description': 'Categories within Brand Verticals that narrow down the scope of Brands'}, 'entity': {'id': '1557696940178935808', 'name': 'Gaming Business', 'description': 'Brands, companies, advertisers and every non-person handle with the profit intent related to offline and online games such as gaming consoles, tabletop games, video game publishers'}}, {'domain': {'id': '79', 'name': 'Video Game Hardware', 'description': 'Video Game Hardware'}, 'entity': {'id': '1174432578503204864', 'name': 'PC gaming'}}, {'domain': {'id': '131', 'name': 'Unified Twitter Taxonomy', 'description': 'A taxonomy view into the Semantic Core knowledge graph'}, 'entity': {'id': '847527650667094017', 'name': 'Gaming', 'description': 'Gaming'}}, {'domain': {'id': '131', 'name': 'Unified Twitter Taxonomy', 'description': 'A taxonomy view into the Semantic Core knowledge graph'}, 'entity': {'id': '1070028376662888448', 'name': 'Console gaming', 'description': 'Video Game Hardware'}}, {'domain': {'id': '131', 'name': 'Unified Twitter Taxonomy', 'description': 'A taxonomy view into the Semantic Core knowledge graph'}, 'entity': {'id': '1174432578503204864', 'name': 'PC gaming'}}, {'domain': {'id': '131', 'name': 'Unified Twitter Taxonomy', 'description': 'A taxonomy view into the Semantic Core knowledge graph'}, 'entity': {'id': '1491833436499107849', 'name': 'Gaming hardware & accessories'}}]\n",
      "=======\n",
      "2022-09-13 07:31:22+00:00 Philips Hue Smart Tap Switch (Requires Hub Hub, Works with Amazon Alexa  Apple HomeKit  and Google Assistant) [ https://t.co/SpwKkW7PWs ] [CEHQ9MT]\n",
      "\n",
      "https://t.co/9JQIkniYqC https://t.co/VNjLUQogQU\n",
      "Metrics {'retweet_count': 0, 'reply_count': 0, 'like_count': 0, 'quote_count': 0}\n",
      "[{'domain': {'id': '30', 'name': 'Entities [Entity Service]', 'description': 'Entity Service top level domain, every item that is in Entity Service should be in this domain'}, 'entity': {'id': '781974596752842752', 'name': 'Services'}}, {'domain': {'id': '47', 'name': 'Brand', 'description': 'Brands and Companies'}, 'entity': {'id': '10026378521', 'name': 'Google '}}, {'domain': {'id': '47', 'name': 'Brand', 'description': 'Brands and Companies'}, 'entity': {'id': '10026792024', 'name': 'Amazon'}}, {'domain': {'id': '48', 'name': 'Product', 'description': 'Products created by Brands.  Examples: Ford Explorer, Apple iPhone.'}, 'entity': {'id': '10050907858', 'name': 'Google - AI', 'description': 'Google - AI'}}, {'domain': {'id': '48', 'name': 'Product', 'description': 'Products created by Brands.  Examples: Ford Explorer, Apple iPhone.'}, 'entity': {'id': '968221983803494400', 'name': 'Amazon - Alexa', 'description': 'Alexa'}}, {'domain': {'id': '48', 'name': 'Product', 'description': 'Products created by Brands.  Examples: Ford Explorer, Apple iPhone.'}, 'entity': {'id': '1395474411180892160', 'name': 'Google brand conversation'}}, {'domain': {'id': '131', 'name': 'Unified Twitter Taxonomy', 'description': 'A taxonomy view into the Semantic Core knowledge graph'}, 'entity': {'id': '10026378521', 'name': 'Google '}}, {'domain': {'id': '48', 'name': 'Product', 'description': 'Products created by Brands.  Examples: Ford Explorer, Apple iPhone.'}, 'entity': {'id': '10050907867', 'name': 'Amazon - AI', 'description': 'Amazon - AI'}}]\n",
      "=======\n",
      "2022-09-13 06:02:52+00:00 I just received a contribution towards Philips Hue White and Color LED Smart Button Starter Kit, 3 A60 Smart Bulbs, 1 Smart Button and 1 Hue Hub (Compatible with Alexa, Apple HomeKit from amandink via Throne Gifts. Thank you! https://t.co/BSXbX68kI5 #Wishlist #Throne https://t.co/Ma9EtN7xyV\n",
      "Metrics {'retweet_count': 0, 'reply_count': 0, 'like_count': 2, 'quote_count': 1}\n",
      "=======\n",
      "2022-09-13 04:55:26+00:00 Witness the brilliance of 16 million colours with the all-new Philips Smart Wi-Fi LED Coloured Downlight! Smart features such as timers &amp; schedules as well as voice control not only enhance the lighting experience but also make your life easier. #new #launch #PhilipsLighting https://t.co/Zlb99ppU9v\n",
      "Metrics {'retweet_count': 0, 'reply_count': 0, 'like_count': 0, 'quote_count': 0}\n",
      "[{'domain': {'id': '46', 'name': 'Brand Category', 'description': 'Categories within Brand Verticals that narrow down the scope of Brands'}, 'entity': {'id': '1557697333571112960', 'name': 'Technology Business', 'description': 'Brands, companies, advertisers and every non-person handle with the profit intent related to softwares, apps, communication equipments, hardwares'}}, {'domain': {'id': '30', 'name': 'Entities [Entity Service]', 'description': 'Entity Service top level domain, every item that is in Entity Service should be in this domain'}, 'entity': {'id': '848920371311001600', 'name': 'Technology', 'description': 'Technology and computing'}}, {'domain': {'id': '131', 'name': 'Unified Twitter Taxonomy', 'description': 'A taxonomy view into the Semantic Core knowledge graph'}, 'entity': {'id': '848920371311001600', 'name': 'Technology', 'description': 'Technology and computing'}}, {'domain': {'id': '165', 'name': 'Technology', 'description': 'for individual and types of technology, e.g., food technology, 3D printing'}, 'entity': {'id': '1148689566112477184', 'name': 'Wi-Fi'}}, {'domain': {'id': '47', 'name': 'Brand', 'description': 'Brands and Companies'}, 'entity': {'id': '10029202410', 'name': 'Philips'}}, {'domain': {'id': '131', 'name': 'Unified Twitter Taxonomy', 'description': 'A taxonomy view into the Semantic Core knowledge graph'}, 'entity': {'id': '10029202410', 'name': 'Philips'}}]\n",
      "=======\n",
      "2022-09-13 04:38:33+00:00 SofaBaton A2 Universal Remote for Apple TV Remote Replacement 1st 2nd 3rd Gen, Compatible with 4th 5th 6th Gen Siri Remote, Replace Remote Control for Smart TV Samsung LG Sony Philips TCL https://t.co/3kkCrwE43M\n",
      "Metrics {'retweet_count': 0, 'reply_count': 0, 'like_count': 0, 'quote_count': 0}\n",
      "[{'domain': {'id': '23', 'name': 'TV Channels', 'description': 'Television Channels'}, 'entity': {'id': '1283761177575616518', 'name': 'Apple TV+'}}, {'domain': {'id': '46', 'name': 'Brand Category', 'description': 'Categories within Brand Verticals that narrow down the scope of Brands'}, 'entity': {'id': '1557696802391859201', 'name': 'Entertainment & Leisure Business', 'description': 'Brands, companies, advertisers and every non-person handle with the profit intent related to movies, music, television, franchises, venues, theme parks, toys, tourism, hotels'}}, {'domain': {'id': '47', 'name': 'Brand', 'description': 'Brands and Companies'}, 'entity': {'id': '10026364281', 'name': 'Apple'}}, {'domain': {'id': '47', 'name': 'Brand', 'description': 'Brands and Companies'}, 'entity': {'id': '10027187398', 'name': 'LG Electronics'}}, {'domain': {'id': '47', 'name': 'Brand', 'description': 'Brands and Companies'}, 'entity': {'id': '1174344555111469057', 'name': 'Samsung Indonesia'}}, {'domain': {'id': '131', 'name': 'Unified Twitter Taxonomy', 'description': 'A taxonomy view into the Semantic Core knowledge graph'}, 'entity': {'id': '10026364281', 'name': 'Apple'}}, {'domain': {'id': '131', 'name': 'Unified Twitter Taxonomy', 'description': 'A taxonomy view into the Semantic Core knowledge graph'}, 'entity': {'id': '10027187398', 'name': 'LG Electronics'}}, {'domain': {'id': '47', 'name': 'Brand', 'description': 'Brands and Companies'}, 'entity': {'id': '10026364234', 'name': 'Samsung '}}, {'domain': {'id': '47', 'name': 'Brand', 'description': 'Brands and Companies'}, 'entity': {'id': '10026364281', 'name': 'Apple'}}, {'domain': {'id': '47', 'name': 'Brand', 'description': 'Brands and Companies'}, 'entity': {'id': '10026738409', 'name': 'Sony'}}, {'domain': {'id': '47', 'name': 'Brand', 'description': 'Brands and Companies'}, 'entity': {'id': '10029202410', 'name': 'Philips'}}, {'domain': {'id': '48', 'name': 'Product', 'description': 'Products created by Brands.  Examples: Ford Explorer, Apple iPhone.'}, 'entity': {'id': '10041877548', 'name': 'Apple TV'}}, {'domain': {'id': '48', 'name': 'Product', 'description': 'Products created by Brands.  Examples: Ford Explorer, Apple iPhone.'}, 'entity': {'id': '10041893638', 'name': 'Apple - Siri'}}, {'domain': {'id': '48', 'name': 'Product', 'description': 'Products created by Brands.  Examples: Ford Explorer, Apple iPhone.'}, 'entity': {'id': '10045298641', 'name': 'Samsung USA'}}, {'domain': {'id': '131', 'name': 'Unified Twitter Taxonomy', 'description': 'A taxonomy view into the Semantic Core knowledge graph'}, 'entity': {'id': '10026738409', 'name': 'Sony'}}, {'domain': {'id': '131', 'name': 'Unified Twitter Taxonomy', 'description': 'A taxonomy view into the Semantic Core knowledge graph'}, 'entity': {'id': '10029202410', 'name': 'Philips'}}]\n",
      "=======\n",
      "2022-09-13 03:13:37+00:00 Adrian's Journal: Youtube TV App Not Working Again Philips Smart TV ... https://t.co/occAJ0Etgc\n",
      "Metrics {'retweet_count': 0, 'reply_count': 0, 'like_count': 0, 'quote_count': 0}\n",
      "[{'domain': {'id': '30', 'name': 'Entities [Entity Service]', 'description': 'Entity Service top level domain, every item that is in Entity Service should be in this domain'}, 'entity': {'id': '781974596752842752', 'name': 'Services'}}, {'domain': {'id': '46', 'name': 'Brand Category', 'description': 'Categories within Brand Verticals that narrow down the scope of Brands'}, 'entity': {'id': '1557696802391859201', 'name': 'Entertainment & Leisure Business', 'description': 'Brands, companies, advertisers and every non-person handle with the profit intent related to movies, music, television, franchises, venues, theme parks, toys, tourism, hotels'}}, {'domain': {'id': '47', 'name': 'Brand', 'description': 'Brands and Companies'}, 'entity': {'id': '10029382357', 'name': 'YouTube'}}, {'domain': {'id': '48', 'name': 'Product', 'description': 'Products created by Brands.  Examples: Ford Explorer, Apple iPhone.'}, 'entity': {'id': '10052980163', 'name': 'YouTube TV', 'description': 'YouTube TV'}}, {'domain': {'id': '131', 'name': 'Unified Twitter Taxonomy', 'description': 'A taxonomy view into the Semantic Core knowledge graph'}, 'entity': {'id': '1196446161223028736', 'name': 'Social media'}}, {'domain': {'id': '131', 'name': 'Unified Twitter Taxonomy', 'description': 'A taxonomy view into the Semantic Core knowledge graph'}, 'entity': {'id': '1397573214239289349', 'name': 'TV streaming services'}}, {'domain': {'id': '165', 'name': 'Technology', 'description': 'for individual and types of technology, e.g., food technology, 3D printing'}, 'entity': {'id': '1196446161223028736', 'name': 'Social media'}}, {'domain': {'id': '30', 'name': 'Entities [Entity Service]', 'description': 'Entity Service top level domain, every item that is in Entity Service should be in this domain'}, 'entity': {'id': '781974596752842752', 'name': 'Services'}}, {'domain': {'id': '47', 'name': 'Brand', 'description': 'Brands and Companies'}, 'entity': {'id': '10029202410', 'name': 'Philips'}}, {'domain': {'id': '47', 'name': 'Brand', 'description': 'Brands and Companies'}, 'entity': {'id': '10029382357', 'name': 'YouTube'}}, {'domain': {'id': '131', 'name': 'Unified Twitter Taxonomy', 'description': 'A taxonomy view into the Semantic Core knowledge graph'}, 'entity': {'id': '10029202410', 'name': 'Philips'}}, {'domain': {'id': '131', 'name': 'Unified Twitter Taxonomy', 'description': 'A taxonomy view into the Semantic Core knowledge graph'}, 'entity': {'id': '10029382357', 'name': 'YouTube'}}]\n",
      "=======\n",
      "2022-09-13 02:01:10+00:00 Philips Hue White LED Smart Button Starter Kit bundle with Echo Dot (3rd Gen) Charcoal [U9Q4P8D]\n",
      "\n",
      "https://t.co/6XXheaQsRM\n",
      "Metrics {'retweet_count': 0, 'reply_count': 0, 'like_count': 0, 'quote_count': 0}\n",
      "=======\n",
      "2022-09-13 01:57:22+00:00 Philips Hue Smart Dimmer Switch with Remote (Installation-Free Exclusive for Philips Hue Lights) [CV0VHE7]\n",
      "\n",
      "https://t.co/A3HAY7c35k\n",
      "Metrics {'retweet_count': 0, 'reply_count': 0, 'like_count': 0, 'quote_count': 0}\n",
      "[{'domain': {'id': '47', 'name': 'Brand', 'description': 'Brands and Companies'}, 'entity': {'id': '10029202410', 'name': 'Philips'}}, {'domain': {'id': '131', 'name': 'Unified Twitter Taxonomy', 'description': 'A taxonomy view into the Semantic Core knowledge graph'}, 'entity': {'id': '10029202410', 'name': 'Philips'}}]\n",
      "=======\n",
      "2022-09-13 01:31:44+00:00 Smart TV Philips 70″ 4K UHD LED 70PUG7406/78 Dolby Vision e Dolby Atmos e Tecnologia Inteligência Android na Girafa - R$ 4.274,05. Oferta Relâmpago. #oferta #relampago #desconto #promoção #cupom https://t.co/AyK6d1uJay\n",
      "Metrics {'retweet_count': 0, 'reply_count': 0, 'like_count': 0, 'quote_count': 0}\n",
      "[{'domain': {'id': '46', 'name': 'Brand Category', 'description': 'Categories within Brand Verticals that narrow down the scope of Brands'}, 'entity': {'id': '1557696802391859201', 'name': 'Entertainment & Leisure Business', 'description': 'Brands, companies, advertisers and every non-person handle with the profit intent related to movies, music, television, franchises, venues, theme parks, toys, tourism, hotels'}}, {'domain': {'id': '46', 'name': 'Brand Category', 'description': 'Categories within Brand Verticals that narrow down the scope of Brands'}, 'entity': {'id': '1557697333571112960', 'name': 'Technology Business', 'description': 'Brands, companies, advertisers and every non-person handle with the profit intent related to softwares, apps, communication equipments, hardwares'}}, {'domain': {'id': '47', 'name': 'Brand', 'description': 'Brands and Companies'}, 'entity': {'id': '10026820777', 'name': 'Android'}}, {'domain': {'id': '47', 'name': 'Brand', 'description': 'Brands and Companies'}, 'entity': {'id': '10029202410', 'name': 'Philips'}}, {'domain': {'id': '30', 'name': 'Entities [Entity Service]', 'description': 'Entity Service top level domain, every item that is in Entity Service should be in this domain'}, 'entity': {'id': '848920371311001600', 'name': 'Technology', 'description': 'Technology and computing'}}, {'domain': {'id': '30', 'name': 'Entities [Entity Service]', 'description': 'Entity Service top level domain, every item that is in Entity Service should be in this domain'}, 'entity': {'id': '848985956778561538', 'name': 'Mobile', 'description': 'Mobile'}}, {'domain': {'id': '131', 'name': 'Unified Twitter Taxonomy', 'description': 'A taxonomy view into the Semantic Core knowledge graph'}, 'entity': {'id': '10026820777', 'name': 'Android'}}, {'domain': {'id': '131', 'name': 'Unified Twitter Taxonomy', 'description': 'A taxonomy view into the Semantic Core knowledge graph'}, 'entity': {'id': '10029202410', 'name': 'Philips'}}]\n",
      "=======\n",
      "2022-09-13 00:48:27+00:00 @TechConnectify Thanks for this advice. I replaced some eco smart dimmable bulbs with Philips and they are much better. No more random flickering!\n",
      "Metrics {'retweet_count': 0, 'reply_count': 0, 'like_count': 1, 'quote_count': 0}\n",
      "=======\n",
      "2022-09-13 00:43:05+00:00 Grab a Philips 43 Inch Smart TV 4K. LED Television ideal for N for only £309\n",
      "https://t.co/XoYBJosI67 https://t.co/8g6a1aTuP6\n",
      "Metrics {'retweet_count': 0, 'reply_count': 0, 'like_count': 0, 'quote_count': 0}\n",
      "[{'domain': {'id': '46', 'name': 'Brand Category', 'description': 'Categories within Brand Verticals that narrow down the scope of Brands'}, 'entity': {'id': '1557696802391859201', 'name': 'Entertainment & Leisure Business', 'description': 'Brands, companies, advertisers and every non-person handle with the profit intent related to movies, music, television, franchises, venues, theme parks, toys, tourism, hotels'}}, {'domain': {'id': '47', 'name': 'Brand', 'description': 'Brands and Companies'}, 'entity': {'id': '10029202410', 'name': 'Philips'}}, {'domain': {'id': '131', 'name': 'Unified Twitter Taxonomy', 'description': 'A taxonomy view into the Semantic Core knowledge graph'}, 'entity': {'id': '10029202410', 'name': 'Philips'}}]\n",
      "=======\n",
      "2022-09-13 00:38:33+00:00 Smart TV 55\" UHD 4K Philips 55PUG7906, Ambilight Android TV, HDR10+, Dolby Vision, Dolby Atmos - Ponto Frio\n",
      "\n",
      "-&gt; https://t.co/BFNahh4Mhj\n",
      "\n",
      "R$1.499,00 em até 10x\n",
      "\n",
      "Grupos de Ofertas Desconto Gamer\n",
      "-&gt;https://t.co/VejGCNgW9J https://t.co/M57L920EdJ\n",
      "Metrics {'retweet_count': 0, 'reply_count': 7, 'like_count': 20, 'quote_count': 1}\n",
      "[{'domain': {'id': '45', 'name': 'Brand Vertical', 'description': 'Top level entities that describe a Brands industry'}, 'entity': {'id': '781974596706635776', 'name': 'Retail'}}, {'domain': {'id': '30', 'name': 'Entities [Entity Service]', 'description': 'Entity Service top level domain, every item that is in Entity Service should be in this domain'}, 'entity': {'id': '783350882985385984', 'name': 'Home - Retail'}}, {'domain': {'id': '46', 'name': 'Brand Category', 'description': 'Categories within Brand Verticals that narrow down the scope of Brands'}, 'entity': {'id': '1557696802391859201', 'name': 'Entertainment & Leisure Business', 'description': 'Brands, companies, advertisers and every non-person handle with the profit intent related to movies, music, television, franchises, venues, theme parks, toys, tourism, hotels'}}, {'domain': {'id': '46', 'name': 'Brand Category', 'description': 'Categories within Brand Verticals that narrow down the scope of Brands'}, 'entity': {'id': '1557696940178935808', 'name': 'Gaming Business', 'description': 'Brands, companies, advertisers and every non-person handle with the profit intent related to offline and online games such as gaming consoles, tabletop games, video game publishers'}}, {'domain': {'id': '46', 'name': 'Brand Category', 'description': 'Categories within Brand Verticals that narrow down the scope of Brands'}, 'entity': {'id': '1557697333571112960', 'name': 'Technology Business', 'description': 'Brands, companies, advertisers and every non-person handle with the profit intent related to softwares, apps, communication equipments, hardwares'}}, {'domain': {'id': '47', 'name': 'Brand', 'description': 'Brands and Companies'}, 'entity': {'id': '1016693339838541824', 'name': 'Ponto Frio', 'description': 'Ponto Frio'}}, {'domain': {'id': '47', 'name': 'Brand', 'description': 'Brands and Companies'}, 'entity': {'id': '10026820777', 'name': 'Android'}}, {'domain': {'id': '47', 'name': 'Brand', 'description': 'Brands and Companies'}, 'entity': {'id': '10029202410', 'name': 'Philips'}}, {'domain': {'id': '30', 'name': 'Entities [Entity Service]', 'description': 'Entity Service top level domain, every item that is in Entity Service should be in this domain'}, 'entity': {'id': '848920371311001600', 'name': 'Technology', 'description': 'Technology and computing'}}, {'domain': {'id': '30', 'name': 'Entities [Entity Service]', 'description': 'Entity Service top level domain, every item that is in Entity Service should be in this domain'}, 'entity': {'id': '848985956778561538', 'name': 'Mobile', 'description': 'Mobile'}}, {'domain': {'id': '131', 'name': 'Unified Twitter Taxonomy', 'description': 'A taxonomy view into the Semantic Core knowledge graph'}, 'entity': {'id': '10026820777', 'name': 'Android'}}, {'domain': {'id': '131', 'name': 'Unified Twitter Taxonomy', 'description': 'A taxonomy view into the Semantic Core knowledge graph'}, 'entity': {'id': '10029202410', 'name': 'Philips'}}]\n",
      "=======\n",
      "2022-09-13 00:35:03+00:00 [Ponto Frio] Smart TV 55\" UHD 4K Philips 55PUG7906, Ambilight Android TV, HDR10+, Dolby Vision, Dolby Atmos, Desi R$ 1499,00 #desconto #oferta #promocao #smart https://t.co/5PmhWJoL2k\n",
      "Metrics {'retweet_count': 0, 'reply_count': 0, 'like_count': 0, 'quote_count': 0}\n",
      "[{'domain': {'id': '45', 'name': 'Brand Vertical', 'description': 'Top level entities that describe a Brands industry'}, 'entity': {'id': '781974596706635776', 'name': 'Retail'}}, {'domain': {'id': '30', 'name': 'Entities [Entity Service]', 'description': 'Entity Service top level domain, every item that is in Entity Service should be in this domain'}, 'entity': {'id': '783350882985385984', 'name': 'Home - Retail'}}, {'domain': {'id': '46', 'name': 'Brand Category', 'description': 'Categories within Brand Verticals that narrow down the scope of Brands'}, 'entity': {'id': '1557696802391859201', 'name': 'Entertainment & Leisure Business', 'description': 'Brands, companies, advertisers and every non-person handle with the profit intent related to movies, music, television, franchises, venues, theme parks, toys, tourism, hotels'}}, {'domain': {'id': '46', 'name': 'Brand Category', 'description': 'Categories within Brand Verticals that narrow down the scope of Brands'}, 'entity': {'id': '1557697333571112960', 'name': 'Technology Business', 'description': 'Brands, companies, advertisers and every non-person handle with the profit intent related to softwares, apps, communication equipments, hardwares'}}, {'domain': {'id': '47', 'name': 'Brand', 'description': 'Brands and Companies'}, 'entity': {'id': '1016693339838541824', 'name': 'Ponto Frio', 'description': 'Ponto Frio'}}, {'domain': {'id': '47', 'name': 'Brand', 'description': 'Brands and Companies'}, 'entity': {'id': '10026820777', 'name': 'Android'}}, {'domain': {'id': '47', 'name': 'Brand', 'description': 'Brands and Companies'}, 'entity': {'id': '10029202410', 'name': 'Philips'}}, {'domain': {'id': '30', 'name': 'Entities [Entity Service]', 'description': 'Entity Service top level domain, every item that is in Entity Service should be in this domain'}, 'entity': {'id': '848920371311001600', 'name': 'Technology', 'description': 'Technology and computing'}}, {'domain': {'id': '30', 'name': 'Entities [Entity Service]', 'description': 'Entity Service top level domain, every item that is in Entity Service should be in this domain'}, 'entity': {'id': '848985956778561538', 'name': 'Mobile', 'description': 'Mobile'}}, {'domain': {'id': '131', 'name': 'Unified Twitter Taxonomy', 'description': 'A taxonomy view into the Semantic Core knowledge graph'}, 'entity': {'id': '10026820777', 'name': 'Android'}}, {'domain': {'id': '131', 'name': 'Unified Twitter Taxonomy', 'description': 'A taxonomy view into the Semantic Core knowledge graph'}, 'entity': {'id': '10029202410', 'name': 'Philips'}}]\n",
      "=======\n",
      "2022-09-13 00:15:18+00:00 📉 #Philips Hue Lampadina Smart LED, White &amp; Color Ambiance    \n",
      "  \n",
      "💰 A soli 54,99€ invece di ⛔ 79,99€ (-31%)  ‼️ Minimo Storico  \n",
      "  \n",
      "➡ Guardalo su Amazon 🇮🇹    \n",
      "  \n",
      "🖋 Disclaimer by @alminimostorico\n",
      "https://t.co/XfaTQ1uiRG https://t.co/GeA0sXYyWd\n",
      "Metrics {'retweet_count': 0, 'reply_count': 0, 'like_count': 0, 'quote_count': 0}\n",
      "=======\n",
      "2022-09-13 00:15:03+00:00 [Magazine Luiza] Smart TV 70” 4K UHD D-LED Philips 7406 R$ 4559,05 #desconto #oferta #promocao #smart https://t.co/e5TEGe4Ux3\n",
      "Metrics {'retweet_count': 0, 'reply_count': 0, 'like_count': 0, 'quote_count': 0}\n",
      "[{'domain': {'id': '45', 'name': 'Brand Vertical', 'description': 'Top level entities that describe a Brands industry'}, 'entity': {'id': '781974596706635776', 'name': 'Retail'}}, {'domain': {'id': '30', 'name': 'Entities [Entity Service]', 'description': 'Entity Service top level domain, every item that is in Entity Service should be in this domain'}, 'entity': {'id': '783350882985385984', 'name': 'Home - Retail'}}, {'domain': {'id': '46', 'name': 'Brand Category', 'description': 'Categories within Brand Verticals that narrow down the scope of Brands'}, 'entity': {'id': '1557696802391859201', 'name': 'Entertainment & Leisure Business', 'description': 'Brands, companies, advertisers and every non-person handle with the profit intent related to movies, music, television, franchises, venues, theme parks, toys, tourism, hotels'}}, {'domain': {'id': '47', 'name': 'Brand', 'description': 'Brands and Companies'}, 'entity': {'id': '1006967672272089088', 'name': 'Magazine Luiza', 'description': 'Magazine Luiza'}}, {'domain': {'id': '47', 'name': 'Brand', 'description': 'Brands and Companies'}, 'entity': {'id': '10029202410', 'name': 'Philips'}}, {'domain': {'id': '131', 'name': 'Unified Twitter Taxonomy', 'description': 'A taxonomy view into the Semantic Core knowledge graph'}, 'entity': {'id': '10029202410', 'name': 'Philips'}}]\n",
      "=======\n",
      "2022-09-12 23:56:21+00:00 NH500UP Remote Neuronmart for Philips Smart TV Remote Control and Philips 2K 4K UHD TVs, Philips Smart Ultra HDTV, Philips LED LCD Television PHI-958 NH500UW NH503UP with Netflix, YouTube and Vudu https://t.co/bnJDSLn117\n",
      "Metrics {'retweet_count': 0, 'reply_count': 0, 'like_count': 0, 'quote_count': 0}\n",
      "[{'domain': {'id': '45', 'name': 'Brand Vertical', 'description': 'Top level entities that describe a Brands industry'}, 'entity': {'id': '781974597310615553', 'name': 'Entertainment'}}, {'domain': {'id': '30', 'name': 'Entities [Entity Service]', 'description': 'Entity Service top level domain, every item that is in Entity Service should be in this domain'}, 'entity': {'id': '781974597105094656', 'name': 'TV/Movies Related - Entertainment'}}, {'domain': {'id': '46', 'name': 'Brand Category', 'description': 'Categories within Brand Verticals that narrow down the scope of Brands'}, 'entity': {'id': '1557696802391859201', 'name': 'Entertainment & Leisure Business', 'description': 'Brands, companies, advertisers and every non-person handle with the profit intent related to movies, music, television, franchises, venues, theme parks, toys, tourism, hotels'}}, {'domain': {'id': '47', 'name': 'Brand', 'description': 'Brands and Companies'}, 'entity': {'id': '10026367762', 'name': 'Netflix'}}, {'domain': {'id': '131', 'name': 'Unified Twitter Taxonomy', 'description': 'A taxonomy view into the Semantic Core knowledge graph'}, 'entity': {'id': '10026367762', 'name': 'Netflix'}}, {'domain': {'id': '131', 'name': 'Unified Twitter Taxonomy', 'description': 'A taxonomy view into the Semantic Core knowledge graph'}, 'entity': {'id': '1196446161223028736', 'name': 'Social media'}}, {'domain': {'id': '131', 'name': 'Unified Twitter Taxonomy', 'description': 'A taxonomy view into the Semantic Core knowledge graph'}, 'entity': {'id': '1196447585004736512', 'name': 'Entertainment industry'}}, {'domain': {'id': '131', 'name': 'Unified Twitter Taxonomy', 'description': 'A taxonomy view into the Semantic Core knowledge graph'}, 'entity': {'id': '1397573214239289349', 'name': 'TV streaming services'}}, {'domain': {'id': '165', 'name': 'Technology', 'description': 'for individual and types of technology, e.g., food technology, 3D printing'}, 'entity': {'id': '1196446161223028736', 'name': 'Social media'}}, {'domain': {'id': '30', 'name': 'Entities [Entity Service]', 'description': 'Entity Service top level domain, every item that is in Entity Service should be in this domain'}, 'entity': {'id': '781974596752842752', 'name': 'Services'}}, {'domain': {'id': '47', 'name': 'Brand', 'description': 'Brands and Companies'}, 'entity': {'id': '10029202410', 'name': 'Philips'}}, {'domain': {'id': '47', 'name': 'Brand', 'description': 'Brands and Companies'}, 'entity': {'id': '10029382357', 'name': 'YouTube'}}, {'domain': {'id': '131', 'name': 'Unified Twitter Taxonomy', 'description': 'A taxonomy view into the Semantic Core knowledge graph'}, 'entity': {'id': '10029202410', 'name': 'Philips'}}, {'domain': {'id': '131', 'name': 'Unified Twitter Taxonomy', 'description': 'A taxonomy view into the Semantic Core knowledge graph'}, 'entity': {'id': '10029382357', 'name': 'YouTube'}}]\n",
      "=======\n",
      "2022-09-12 23:26:46+00:00 Gvirtue Universal Waterproof Remote Control CRC1908 Fit for Almost All Samsung, Vizio, LG, Sony, Sharp, Panasonic,Toshiba, TCL, Hisense, Philips, JVC, Haier, Sanyo, Hitachi LCD LED 3D Smart TVs https://t.co/TJ32NjTGTM\n",
      "Metrics {'retweet_count': 0, 'reply_count': 0, 'like_count': 0, 'quote_count': 0}\n",
      "[{'domain': {'id': '46', 'name': 'Brand Category', 'description': 'Categories within Brand Verticals that narrow down the scope of Brands'}, 'entity': {'id': '1557697289971322880', 'name': 'Sports & Fitness Business', 'description': 'Brands, companies, advertisers and every non-person handle with the profit intent related to sports nutrition, athletic apparel, sports apps, fitness venues'}}, {'domain': {'id': '46', 'name': 'Brand Category', 'description': 'Categories within Brand Verticals that narrow down the scope of Brands'}, 'entity': {'id': '1557697333571112960', 'name': 'Technology Business', 'description': 'Brands, companies, advertisers and every non-person handle with the profit intent related to softwares, apps, communication equipments, hardwares'}}, {'domain': {'id': '47', 'name': 'Brand', 'description': 'Brands and Companies'}, 'entity': {'id': '10026653543', 'name': 'Panasonic'}}, {'domain': {'id': '47', 'name': 'Brand', 'description': 'Brands and Companies'}, 'entity': {'id': '10027187398', 'name': 'LG Electronics'}}, {'domain': {'id': '47', 'name': 'Brand', 'description': 'Brands and Companies'}, 'entity': {'id': '1108695223096377344', 'name': 'Hisense', 'description': 'Hisense'}}, {'domain': {'id': '47', 'name': 'Brand', 'description': 'Brands and Companies'}, 'entity': {'id': '1174344555111469057', 'name': 'Samsung Indonesia'}}, {'domain': {'id': '131', 'name': 'Unified Twitter Taxonomy', 'description': 'A taxonomy view into the Semantic Core knowledge graph'}, 'entity': {'id': '10026653543', 'name': 'Panasonic'}}, {'domain': {'id': '131', 'name': 'Unified Twitter Taxonomy', 'description': 'A taxonomy view into the Semantic Core knowledge graph'}, 'entity': {'id': '10027187398', 'name': 'LG Electronics'}}, {'domain': {'id': '47', 'name': 'Brand', 'description': 'Brands and Companies'}, 'entity': {'id': '10025771404', 'name': 'Toshiba'}}, {'domain': {'id': '47', 'name': 'Brand', 'description': 'Brands and Companies'}, 'entity': {'id': '10026364234', 'name': 'Samsung '}}, {'domain': {'id': '47', 'name': 'Brand', 'description': 'Brands and Companies'}, 'entity': {'id': '10026738409', 'name': 'Sony'}}, {'domain': {'id': '47', 'name': 'Brand', 'description': 'Brands and Companies'}, 'entity': {'id': '10027187398', 'name': 'LG Electronics'}}, {'domain': {'id': '47', 'name': 'Brand', 'description': 'Brands and Companies'}, 'entity': {'id': '10029202410', 'name': 'Philips'}}, {'domain': {'id': '48', 'name': 'Product', 'description': 'Products created by Brands.  Examples: Ford Explorer, Apple iPhone.'}, 'entity': {'id': '10042421309', 'name': 'LG Mobile'}}, {'domain': {'id': '48', 'name': 'Product', 'description': 'Products created by Brands.  Examples: Ford Explorer, Apple iPhone.'}, 'entity': {'id': '10045298641', 'name': 'Samsung USA'}}, {'domain': {'id': '30', 'name': 'Entities [Entity Service]', 'description': 'Entity Service top level domain, every item that is in Entity Service should be in this domain'}, 'entity': {'id': '848920371311001600', 'name': 'Technology', 'description': 'Technology and computing'}}, {'domain': {'id': '66', 'name': 'Interests and Hobbies Category', 'description': 'A grouping of interests and hobbies entities, like Novelty Food or Destinations'}, 'entity': {'id': '848920700073123840', 'name': 'Cell Phones', 'description': 'Cell phones'}}, {'domain': {'id': '30', 'name': 'Entities [Entity Service]', 'description': 'Entity Service top level domain, every item that is in Entity Service should be in this domain'}, 'entity': {'id': '848985956778561538', 'name': 'Mobile', 'description': 'Mobile'}}, {'domain': {'id': '131', 'name': 'Unified Twitter Taxonomy', 'description': 'A taxonomy view into the Semantic Core knowledge graph'}, 'entity': {'id': '10025771404', 'name': 'Toshiba'}}, {'domain': {'id': '131', 'name': 'Unified Twitter Taxonomy', 'description': 'A taxonomy view into the Semantic Core knowledge graph'}, 'entity': {'id': '10026738409', 'name': 'Sony'}}, {'domain': {'id': '131', 'name': 'Unified Twitter Taxonomy', 'description': 'A taxonomy view into the Semantic Core knowledge graph'}, 'entity': {'id': '10029202410', 'name': 'Philips'}}]\n",
      "=======\n",
      "2022-09-12 23:07:52+00:00 RT @DitelStore: Cómo te preparás para el mundial? Nosotros te ayudamos! 🇦🇷​⚽​\n",
      "\n",
      "📺​ Smart TV Philips 70\" 📺​\n",
      "\n",
      "◾​ Resolución 4K \n",
      "◾​ Android TV…\n",
      "Metrics {'retweet_count': 1, 'reply_count': 0, 'like_count': 0, 'quote_count': 0}\n",
      "[{'domain': {'id': '46', 'name': 'Brand Category', 'description': 'Categories within Brand Verticals that narrow down the scope of Brands'}, 'entity': {'id': '1557696802391859201', 'name': 'Entertainment & Leisure Business', 'description': 'Brands, companies, advertisers and every non-person handle with the profit intent related to movies, music, television, franchises, venues, theme parks, toys, tourism, hotels'}}, {'domain': {'id': '46', 'name': 'Brand Category', 'description': 'Categories within Brand Verticals that narrow down the scope of Brands'}, 'entity': {'id': '1557697333571112960', 'name': 'Technology Business', 'description': 'Brands, companies, advertisers and every non-person handle with the profit intent related to softwares, apps, communication equipments, hardwares'}}, {'domain': {'id': '47', 'name': 'Brand', 'description': 'Brands and Companies'}, 'entity': {'id': '10026820777', 'name': 'Android'}}, {'domain': {'id': '47', 'name': 'Brand', 'description': 'Brands and Companies'}, 'entity': {'id': '10029202410', 'name': 'Philips'}}, {'domain': {'id': '30', 'name': 'Entities [Entity Service]', 'description': 'Entity Service top level domain, every item that is in Entity Service should be in this domain'}, 'entity': {'id': '848920371311001600', 'name': 'Technology', 'description': 'Technology and computing'}}, {'domain': {'id': '30', 'name': 'Entities [Entity Service]', 'description': 'Entity Service top level domain, every item that is in Entity Service should be in this domain'}, 'entity': {'id': '848985956778561538', 'name': 'Mobile', 'description': 'Mobile'}}, {'domain': {'id': '131', 'name': 'Unified Twitter Taxonomy', 'description': 'A taxonomy view into the Semantic Core knowledge graph'}, 'entity': {'id': '10026820777', 'name': 'Android'}}, {'domain': {'id': '131', 'name': 'Unified Twitter Taxonomy', 'description': 'A taxonomy view into the Semantic Core knowledge graph'}, 'entity': {'id': '10029202410', 'name': 'Philips'}}]\n",
      "=======\n",
      "2022-09-12 22:53:16+00:00 I don't know what it is, but if we ever have an internet issue, my @Philips Hue bulbs always cock up and don't connect.\n",
      "\n",
      "I think I'm just done with smart bulbs - they're so inconsistent, and such a pain in the arse.\n",
      "Metrics {'retweet_count': 0, 'reply_count': 1, 'like_count': 0, 'quote_count': 0}\n",
      "[{'domain': {'id': '47', 'name': 'Brand', 'description': 'Brands and Companies'}, 'entity': {'id': '10029202410', 'name': 'Philips'}}, {'domain': {'id': '131', 'name': 'Unified Twitter Taxonomy', 'description': 'A taxonomy view into the Semantic Core knowledge graph'}, 'entity': {'id': '10029202410', 'name': 'Philips'}}]\n",
      "=======\n",
      "2022-09-12 22:39:06+00:00 @NotDMetul Philips HUE via Bluetooth? Ou via ton routeur ! https://t.co/SKQBsvhV2j\n",
      "Metrics {'retweet_count': 0, 'reply_count': 0, 'like_count': 1, 'quote_count': 0}\n",
      "=======\n",
      "2022-09-12 19:48:02+00:00 (efacil) Smart TV LED 50 Philips 50PUG7406/78 4K UHD Android com Wi-Fi, 2 USB, 4 HDMI, Dolby Vision e Atmos, 60Hz de R$2615,41 por R$2450,05 - https://t.co/azXZDcx3st  #promoção #desconto #oferta\n",
      "Metrics {'retweet_count': 0, 'reply_count': 0, 'like_count': 1, 'quote_count': 0}\n",
      "[{'domain': {'id': '46', 'name': 'Brand Category', 'description': 'Categories within Brand Verticals that narrow down the scope of Brands'}, 'entity': {'id': '1557696802391859201', 'name': 'Entertainment & Leisure Business', 'description': 'Brands, companies, advertisers and every non-person handle with the profit intent related to movies, music, television, franchises, venues, theme parks, toys, tourism, hotels'}}, {'domain': {'id': '46', 'name': 'Brand Category', 'description': 'Categories within Brand Verticals that narrow down the scope of Brands'}, 'entity': {'id': '1557697333571112960', 'name': 'Technology Business', 'description': 'Brands, companies, advertisers and every non-person handle with the profit intent related to softwares, apps, communication equipments, hardwares'}}, {'domain': {'id': '30', 'name': 'Entities [Entity Service]', 'description': 'Entity Service top level domain, every item that is in Entity Service should be in this domain'}, 'entity': {'id': '848920371311001600', 'name': 'Technology', 'description': 'Technology and computing'}}, {'domain': {'id': '131', 'name': 'Unified Twitter Taxonomy', 'description': 'A taxonomy view into the Semantic Core knowledge graph'}, 'entity': {'id': '848920371311001600', 'name': 'Technology', 'description': 'Technology and computing'}}, {'domain': {'id': '165', 'name': 'Technology', 'description': 'for individual and types of technology, e.g., food technology, 3D printing'}, 'entity': {'id': '1148689566112477184', 'name': 'Wi-Fi'}}, {'domain': {'id': '47', 'name': 'Brand', 'description': 'Brands and Companies'}, 'entity': {'id': '10026820777', 'name': 'Android'}}, {'domain': {'id': '47', 'name': 'Brand', 'description': 'Brands and Companies'}, 'entity': {'id': '10029202410', 'name': 'Philips'}}, {'domain': {'id': '30', 'name': 'Entities [Entity Service]', 'description': 'Entity Service top level domain, every item that is in Entity Service should be in this domain'}, 'entity': {'id': '848920371311001600', 'name': 'Technology', 'description': 'Technology and computing'}}, {'domain': {'id': '30', 'name': 'Entities [Entity Service]', 'description': 'Entity Service top level domain, every item that is in Entity Service should be in this domain'}, 'entity': {'id': '848985956778561538', 'name': 'Mobile', 'description': 'Mobile'}}, {'domain': {'id': '131', 'name': 'Unified Twitter Taxonomy', 'description': 'A taxonomy view into the Semantic Core knowledge graph'}, 'entity': {'id': '10026820777', 'name': 'Android'}}, {'domain': {'id': '131', 'name': 'Unified Twitter Taxonomy', 'description': 'A taxonomy view into the Semantic Core knowledge graph'}, 'entity': {'id': '10029202410', 'name': 'Philips'}}]\n",
      "=======\n",
      "2022-09-12 19:05:30+00:00 TV Philips 55OLED706 55 4K UHD Smart TV Métal\n",
      "\n",
      "Prix: 1520.2€ https://t.co/w6EdfK6jbm\n",
      "Metrics {'retweet_count': 0, 'reply_count': 0, 'like_count': 0, 'quote_count': 0}\n",
      "[{'domain': {'id': '46', 'name': 'Brand Category', 'description': 'Categories within Brand Verticals that narrow down the scope of Brands'}, 'entity': {'id': '1557696802391859201', 'name': 'Entertainment & Leisure Business', 'description': 'Brands, companies, advertisers and every non-person handle with the profit intent related to movies, music, television, franchises, venues, theme parks, toys, tourism, hotels'}}, {'domain': {'id': '47', 'name': 'Brand', 'description': 'Brands and Companies'}, 'entity': {'id': '10029202410', 'name': 'Philips'}}, {'domain': {'id': '131', 'name': 'Unified Twitter Taxonomy', 'description': 'A taxonomy view into the Semantic Core knowledge graph'}, 'entity': {'id': '10029202410', 'name': 'Philips'}}]\n",
      "=======\n",
      "2022-09-12 19:04:50+00:00 TV Philips 65PUS7906 Ambilight 4K UHD Smart TV Gris Anthracite\n",
      "\n",
      "Prix: 659.99€ https://t.co/cHAwBsYo7m\n",
      "Metrics {'retweet_count': 0, 'reply_count': 0, 'like_count': 0, 'quote_count': 0}\n",
      "[{'domain': {'id': '46', 'name': 'Brand Category', 'description': 'Categories within Brand Verticals that narrow down the scope of Brands'}, 'entity': {'id': '1557696802391859201', 'name': 'Entertainment & Leisure Business', 'description': 'Brands, companies, advertisers and every non-person handle with the profit intent related to movies, music, television, franchises, venues, theme parks, toys, tourism, hotels'}}, {'domain': {'id': '47', 'name': 'Brand', 'description': 'Brands and Companies'}, 'entity': {'id': '10029202410', 'name': 'Philips'}}, {'domain': {'id': '131', 'name': 'Unified Twitter Taxonomy', 'description': 'A taxonomy view into the Semantic Core knowledge graph'}, 'entity': {'id': '10029202410', 'name': 'Philips'}}]\n",
      "=======\n",
      "2022-09-12 18:39:04+00:00 Check this out at Amazon Philips 50 Inch Smart TV 4K. UHD LED Television for Netflix, YouTube and Gaming/Google Assistant and Alexa/Ambilight, HDR Picture, Android TV, Dolby Vision &amp; Atmos Sound / 50\" Philips 50PUS8546/12 https://t.co/uxrpvCmKwL\n",
      "Metrics {'retweet_count': 0, 'reply_count': 0, 'like_count': 0, 'quote_count': 0}\n",
      "[{'domain': {'id': '45', 'name': 'Brand Vertical', 'description': 'Top level entities that describe a Brands industry'}, 'entity': {'id': '781974597310615553', 'name': 'Entertainment'}}, {'domain': {'id': '30', 'name': 'Entities [Entity Service]', 'description': 'Entity Service top level domain, every item that is in Entity Service should be in this domain'}, 'entity': {'id': '781974596752842752', 'name': 'Services'}}, {'domain': {'id': '30', 'name': 'Entities [Entity Service]', 'description': 'Entity Service top level domain, every item that is in Entity Service should be in this domain'}, 'entity': {'id': '781974597105094656', 'name': 'TV/Movies Related - Entertainment'}}, {'domain': {'id': '46', 'name': 'Brand Category', 'description': 'Categories within Brand Verticals that narrow down the scope of Brands'}, 'entity': {'id': '1557696802391859201', 'name': 'Entertainment & Leisure Business', 'description': 'Brands, companies, advertisers and every non-person handle with the profit intent related to movies, music, television, franchises, venues, theme parks, toys, tourism, hotels'}}, {'domain': {'id': '46', 'name': 'Brand Category', 'description': 'Categories within Brand Verticals that narrow down the scope of Brands'}, 'entity': {'id': '1557696940178935808', 'name': 'Gaming Business', 'description': 'Brands, companies, advertisers and every non-person handle with the profit intent related to offline and online games such as gaming consoles, tabletop games, video game publishers'}}, {'domain': {'id': '46', 'name': 'Brand Category', 'description': 'Categories within Brand Verticals that narrow down the scope of Brands'}, 'entity': {'id': '1557697333571112960', 'name': 'Technology Business', 'description': 'Brands, companies, advertisers and every non-person handle with the profit intent related to softwares, apps, communication equipments, hardwares'}}, {'domain': {'id': '47', 'name': 'Brand', 'description': 'Brands and Companies'}, 'entity': {'id': '10026367762', 'name': 'Netflix'}}, {'domain': {'id': '47', 'name': 'Brand', 'description': 'Brands and Companies'}, 'entity': {'id': '10026378521', 'name': 'Google '}}, {'domain': {'id': '47', 'name': 'Brand', 'description': 'Brands and Companies'}, 'entity': {'id': '10026792024', 'name': 'Amazon'}}, {'domain': {'id': '48', 'name': 'Product', 'description': 'Products created by Brands.  Examples: Ford Explorer, Apple iPhone.'}, 'entity': {'id': '968221983803494400', 'name': 'Amazon - Alexa', 'description': 'Alexa'}}, {'domain': {'id': '48', 'name': 'Product', 'description': 'Products created by Brands.  Examples: Ford Explorer, Apple iPhone.'}, 'entity': {'id': '1395474411180892160', 'name': 'Google brand conversation'}}, {'domain': {'id': '131', 'name': 'Unified Twitter Taxonomy', 'description': 'A taxonomy view into the Semantic Core knowledge graph'}, 'entity': {'id': '10026367762', 'name': 'Netflix'}}, {'domain': {'id': '131', 'name': 'Unified Twitter Taxonomy', 'description': 'A taxonomy view into the Semantic Core knowledge graph'}, 'entity': {'id': '10026378521', 'name': 'Google '}}, {'domain': {'id': '131', 'name': 'Unified Twitter Taxonomy', 'description': 'A taxonomy view into the Semantic Core knowledge graph'}, 'entity': {'id': '847527650667094017', 'name': 'Gaming', 'description': 'Gaming'}}, {'domain': {'id': '131', 'name': 'Unified Twitter Taxonomy', 'description': 'A taxonomy view into the Semantic Core knowledge graph'}, 'entity': {'id': '1146103171086819328', 'name': 'Gaming influencers', 'description': 'Gaming Personalities & Esports Players'}}, {'domain': {'id': '131', 'name': 'Unified Twitter Taxonomy', 'description': 'A taxonomy view into the Semantic Core knowledge graph'}, 'entity': {'id': '1196446161223028736', 'name': 'Social media'}}, {'domain': {'id': '131', 'name': 'Unified Twitter Taxonomy', 'description': 'A taxonomy view into the Semantic Core knowledge graph'}, 'entity': {'id': '1196447585004736512', 'name': 'Entertainment industry'}}, {'domain': {'id': '131', 'name': 'Unified Twitter Taxonomy', 'description': 'A taxonomy view into the Semantic Core knowledge graph'}, 'entity': {'id': '1287879055191052288', 'name': 'Gaming content creators'}}, {'domain': {'id': '131', 'name': 'Unified Twitter Taxonomy', 'description': 'A taxonomy view into the Semantic Core knowledge graph'}, 'entity': {'id': '1397573214239289349', 'name': 'TV streaming services'}}, {'domain': {'id': '165', 'name': 'Technology', 'description': 'for individual and types of technology, e.g., food technology, 3D printing'}, 'entity': {'id': '1196446161223028736', 'name': 'Social media'}}, {'domain': {'id': '30', 'name': 'Entities [Entity Service]', 'description': 'Entity Service top level domain, every item that is in Entity Service should be in this domain'}, 'entity': {'id': '781974596752842752', 'name': 'Services'}}, {'domain': {'id': '47', 'name': 'Brand', 'description': 'Brands and Companies'}, 'entity': {'id': '10026820777', 'name': 'Android'}}, {'domain': {'id': '47', 'name': 'Brand', 'description': 'Brands and Companies'}, 'entity': {'id': '10029202410', 'name': 'Philips'}}, {'domain': {'id': '47', 'name': 'Brand', 'description': 'Brands and Companies'}, 'entity': {'id': '10029382357', 'name': 'YouTube'}}, {'domain': {'id': '30', 'name': 'Entities [Entity Service]', 'description': 'Entity Service top level domain, every item that is in Entity Service should be in this domain'}, 'entity': {'id': '848920371311001600', 'name': 'Technology', 'description': 'Technology and computing'}}, {'domain': {'id': '30', 'name': 'Entities [Entity Service]', 'description': 'Entity Service top level domain, every item that is in Entity Service should be in this domain'}, 'entity': {'id': '848985956778561538', 'name': 'Mobile', 'description': 'Mobile'}}, {'domain': {'id': '131', 'name': 'Unified Twitter Taxonomy', 'description': 'A taxonomy view into the Semantic Core knowledge graph'}, 'entity': {'id': '10026820777', 'name': 'Android'}}, {'domain': {'id': '131', 'name': 'Unified Twitter Taxonomy', 'description': 'A taxonomy view into the Semantic Core knowledge graph'}, 'entity': {'id': '10029202410', 'name': 'Philips'}}, {'domain': {'id': '131', 'name': 'Unified Twitter Taxonomy', 'description': 'A taxonomy view into the Semantic Core knowledge graph'}, 'entity': {'id': '10029382357', 'name': 'YouTube'}}]\n",
      "=======\n",
      "2022-09-12 18:38:33+00:00 Check this out at Amazon Philips 43 Inch Smart TV 4K. UHD LED Television for Netflix, YouTube and Gaming/Google Assistant and Alexa/Ambilight, HDR Picture, Cinematic Dolby Vision &amp; Atmos Sound / 43\" Philips 43PUS8546/12 https://t.co/lwnOzLRLSr\n",
      "Metrics {'retweet_count': 0, 'reply_count': 0, 'like_count': 0, 'quote_count': 0}\n",
      "[{'domain': {'id': '45', 'name': 'Brand Vertical', 'description': 'Top level entities that describe a Brands industry'}, 'entity': {'id': '781974597310615553', 'name': 'Entertainment'}}, {'domain': {'id': '30', 'name': 'Entities [Entity Service]', 'description': 'Entity Service top level domain, every item that is in Entity Service should be in this domain'}, 'entity': {'id': '781974596752842752', 'name': 'Services'}}, {'domain': {'id': '30', 'name': 'Entities [Entity Service]', 'description': 'Entity Service top level domain, every item that is in Entity Service should be in this domain'}, 'entity': {'id': '781974597105094656', 'name': 'TV/Movies Related - Entertainment'}}, {'domain': {'id': '46', 'name': 'Brand Category', 'description': 'Categories within Brand Verticals that narrow down the scope of Brands'}, 'entity': {'id': '1557696802391859201', 'name': 'Entertainment & Leisure Business', 'description': 'Brands, companies, advertisers and every non-person handle with the profit intent related to movies, music, television, franchises, venues, theme parks, toys, tourism, hotels'}}, {'domain': {'id': '46', 'name': 'Brand Category', 'description': 'Categories within Brand Verticals that narrow down the scope of Brands'}, 'entity': {'id': '1557696940178935808', 'name': 'Gaming Business', 'description': 'Brands, companies, advertisers and every non-person handle with the profit intent related to offline and online games such as gaming consoles, tabletop games, video game publishers'}}, {'domain': {'id': '47', 'name': 'Brand', 'description': 'Brands and Companies'}, 'entity': {'id': '10026367762', 'name': 'Netflix'}}, {'domain': {'id': '47', 'name': 'Brand', 'description': 'Brands and Companies'}, 'entity': {'id': '10026378521', 'name': 'Google '}}, {'domain': {'id': '47', 'name': 'Brand', 'description': 'Brands and Companies'}, 'entity': {'id': '10026792024', 'name': 'Amazon'}}, {'domain': {'id': '48', 'name': 'Product', 'description': 'Products created by Brands.  Examples: Ford Explorer, Apple iPhone.'}, 'entity': {'id': '968221983803494400', 'name': 'Amazon - Alexa', 'description': 'Alexa'}}, {'domain': {'id': '48', 'name': 'Product', 'description': 'Products created by Brands.  Examples: Ford Explorer, Apple iPhone.'}, 'entity': {'id': '1395474411180892160', 'name': 'Google brand conversation'}}, {'domain': {'id': '131', 'name': 'Unified Twitter Taxonomy', 'description': 'A taxonomy view into the Semantic Core knowledge graph'}, 'entity': {'id': '10026367762', 'name': 'Netflix'}}, {'domain': {'id': '131', 'name': 'Unified Twitter Taxonomy', 'description': 'A taxonomy view into the Semantic Core knowledge graph'}, 'entity': {'id': '10026378521', 'name': 'Google '}}, {'domain': {'id': '131', 'name': 'Unified Twitter Taxonomy', 'description': 'A taxonomy view into the Semantic Core knowledge graph'}, 'entity': {'id': '847527650667094017', 'name': 'Gaming', 'description': 'Gaming'}}, {'domain': {'id': '131', 'name': 'Unified Twitter Taxonomy', 'description': 'A taxonomy view into the Semantic Core knowledge graph'}, 'entity': {'id': '1146103171086819328', 'name': 'Gaming influencers', 'description': 'Gaming Personalities & Esports Players'}}, {'domain': {'id': '131', 'name': 'Unified Twitter Taxonomy', 'description': 'A taxonomy view into the Semantic Core knowledge graph'}, 'entity': {'id': '1196446161223028736', 'name': 'Social media'}}, {'domain': {'id': '131', 'name': 'Unified Twitter Taxonomy', 'description': 'A taxonomy view into the Semantic Core knowledge graph'}, 'entity': {'id': '1196447585004736512', 'name': 'Entertainment industry'}}, {'domain': {'id': '131', 'name': 'Unified Twitter Taxonomy', 'description': 'A taxonomy view into the Semantic Core knowledge graph'}, 'entity': {'id': '1287879055191052288', 'name': 'Gaming content creators'}}, {'domain': {'id': '131', 'name': 'Unified Twitter Taxonomy', 'description': 'A taxonomy view into the Semantic Core knowledge graph'}, 'entity': {'id': '1397573214239289349', 'name': 'TV streaming services'}}, {'domain': {'id': '165', 'name': 'Technology', 'description': 'for individual and types of technology, e.g., food technology, 3D printing'}, 'entity': {'id': '1196446161223028736', 'name': 'Social media'}}, {'domain': {'id': '30', 'name': 'Entities [Entity Service]', 'description': 'Entity Service top level domain, every item that is in Entity Service should be in this domain'}, 'entity': {'id': '781974596752842752', 'name': 'Services'}}, {'domain': {'id': '47', 'name': 'Brand', 'description': 'Brands and Companies'}, 'entity': {'id': '10029202410', 'name': 'Philips'}}, {'domain': {'id': '47', 'name': 'Brand', 'description': 'Brands and Companies'}, 'entity': {'id': '10029382357', 'name': 'YouTube'}}, {'domain': {'id': '131', 'name': 'Unified Twitter Taxonomy', 'description': 'A taxonomy view into the Semantic Core knowledge graph'}, 'entity': {'id': '10029202410', 'name': 'Philips'}}, {'domain': {'id': '131', 'name': 'Unified Twitter Taxonomy', 'description': 'A taxonomy view into the Semantic Core knowledge graph'}, 'entity': {'id': '10029382357', 'name': 'YouTube'}}]\n",
      "=======\n",
      "2022-09-12 18:27:22+00:00 #BonPlan : La Philips 65PUS7556 (65\", LED, 4K UHD, HDR, Dolby Vision, Atmos, HDMI 2.1, VRR, Smart TV) passe à 499,99€ ! 🔥🔥\n",
      "\n",
      "👉 https://t.co/ar8F3URD3I https://t.co/JDqZoWJdQg\n",
      "Metrics {'retweet_count': 0, 'reply_count': 0, 'like_count': 0, 'quote_count': 0}\n",
      "[{'domain': {'id': '46', 'name': 'Brand Category', 'description': 'Categories within Brand Verticals that narrow down the scope of Brands'}, 'entity': {'id': '1557696802391859201', 'name': 'Entertainment & Leisure Business', 'description': 'Brands, companies, advertisers and every non-person handle with the profit intent related to movies, music, television, franchises, venues, theme parks, toys, tourism, hotels'}}, {'domain': {'id': '47', 'name': 'Brand', 'description': 'Brands and Companies'}, 'entity': {'id': '10029202410', 'name': 'Philips'}}, {'domain': {'id': '131', 'name': 'Unified Twitter Taxonomy', 'description': 'A taxonomy view into the Semantic Core knowledge graph'}, 'entity': {'id': '10029202410', 'name': 'Philips'}}]\n",
      "=======\n",
      "2022-09-12 18:26:53+00:00 Cómo te preparás para el mundial? Nosotros te ayudamos! 🇦🇷​⚽​\n",
      "\n",
      "📺​ Smart TV Philips 70\" 📺​\n",
      "\n",
      "◾​ Resolución 4K \n",
      "◾​ Android TV\n",
      "\n",
      "Encontrá este y otros modelos en nuestro canal de Telegram https://t.co/wDURX3nJle  ⚡​\n",
      "\n",
      "#Ditel #TiendaCripto https://t.co/BdVH3Frl09\n",
      "Metrics {'retweet_count': 1, 'reply_count': 0, 'like_count': 1, 'quote_count': 0}\n",
      "[{'domain': {'id': '46', 'name': 'Brand Category', 'description': 'Categories within Brand Verticals that narrow down the scope of Brands'}, 'entity': {'id': '1557696802391859201', 'name': 'Entertainment & Leisure Business', 'description': 'Brands, companies, advertisers and every non-person handle with the profit intent related to movies, music, television, franchises, venues, theme parks, toys, tourism, hotels'}}, {'domain': {'id': '46', 'name': 'Brand Category', 'description': 'Categories within Brand Verticals that narrow down the scope of Brands'}, 'entity': {'id': '1557697333571112960', 'name': 'Technology Business', 'description': 'Brands, companies, advertisers and every non-person handle with the profit intent related to softwares, apps, communication equipments, hardwares'}}, {'domain': {'id': '47', 'name': 'Brand', 'description': 'Brands and Companies'}, 'entity': {'id': '10026820777', 'name': 'Android'}}, {'domain': {'id': '47', 'name': 'Brand', 'description': 'Brands and Companies'}, 'entity': {'id': '10029202410', 'name': 'Philips'}}, {'domain': {'id': '30', 'name': 'Entities [Entity Service]', 'description': 'Entity Service top level domain, every item that is in Entity Service should be in this domain'}, 'entity': {'id': '848920371311001600', 'name': 'Technology', 'description': 'Technology and computing'}}, {'domain': {'id': '30', 'name': 'Entities [Entity Service]', 'description': 'Entity Service top level domain, every item that is in Entity Service should be in this domain'}, 'entity': {'id': '848985956778561538', 'name': 'Mobile', 'description': 'Mobile'}}, {'domain': {'id': '131', 'name': 'Unified Twitter Taxonomy', 'description': 'A taxonomy view into the Semantic Core knowledge graph'}, 'entity': {'id': '10026820777', 'name': 'Android'}}, {'domain': {'id': '131', 'name': 'Unified Twitter Taxonomy', 'description': 'A taxonomy view into the Semantic Core knowledge graph'}, 'entity': {'id': '10029202410', 'name': 'Philips'}}]\n",
      "=======\n",
      "2022-09-12 18:05:49+00:00 RT @PhilipsSpain: El software inteligente de aceleración de #ResonanciaMagnética ayuda a aumentar la eficiencia de los servicios de diagnós…\n",
      "Metrics {'retweet_count': 4, 'reply_count': 0, 'like_count': 0, 'quote_count': 0}\n",
      "[{'domain': {'id': '47', 'name': 'Brand', 'description': 'Brands and Companies'}, 'entity': {'id': '10029202410', 'name': 'Philips'}}, {'domain': {'id': '131', 'name': 'Unified Twitter Taxonomy', 'description': 'A taxonomy view into the Semantic Core knowledge graph'}, 'entity': {'id': '10029202410', 'name': 'Philips'}}]\n",
      "=======\n",
      "2022-09-12 17:57:17+00:00 RT @AndroidAuth: A simple but very smart idea.    https://t.co/Oa4cMyGdJ9\n",
      "Metrics {'retweet_count': 2, 'reply_count': 0, 'like_count': 0, 'quote_count': 0}\n",
      "=======\n",
      "2022-09-12 17:34:18+00:00 @AkamKevin All that hang from the ceilings are identical 60w Philips smart bulbs. The brightest hangs from an in-house workshop lighting rail.\n",
      "\n",
      "It's a 250w natural white light x10 LED array for illuminating a workbench set used for filming macro videos from a ceiling mounted rostrum camera. https://t.co/DlfDMRCxiU\n",
      "Metrics {'retweet_count': 0, 'reply_count': 0, 'like_count': 2, 'quote_count': 0}\n",
      "[{'domain': {'id': '47', 'name': 'Brand', 'description': 'Brands and Companies'}, 'entity': {'id': '10029202410', 'name': 'Philips'}}, {'domain': {'id': '131', 'name': 'Unified Twitter Taxonomy', 'description': 'A taxonomy view into the Semantic Core knowledge graph'}, 'entity': {'id': '10029202410', 'name': 'Philips'}}]\n",
      "=======\n",
      "2022-09-12 17:04:14+00:00 Smart TV 43\" Full HD Philips Android 43PFG6917/78, Google Assistant, Comando de Voz, HDR, 3 HDMI, Wifi 5G, Bluetooth 5.0, Dolby Atmos\n",
      "\n",
      "❌R$1.759,12 à vista ou R$1.999,00 em até 10x de R$199,90 sem juros❌\n",
      "(Aqui deu frete grátis prime)\n",
      "\n",
      "🛒Compre Aqui: https://t.co/fNsJkIAztH\n",
      "Metrics {'retweet_count': 0, 'reply_count': 0, 'like_count': 0, 'quote_count': 0}\n",
      "[{'domain': {'id': '30', 'name': 'Entities [Entity Service]', 'description': 'Entity Service top level domain, every item that is in Entity Service should be in this domain'}, 'entity': {'id': '781974596752842752', 'name': 'Services'}}, {'domain': {'id': '46', 'name': 'Brand Category', 'description': 'Categories within Brand Verticals that narrow down the scope of Brands'}, 'entity': {'id': '1557696802391859201', 'name': 'Entertainment & Leisure Business', 'description': 'Brands, companies, advertisers and every non-person handle with the profit intent related to movies, music, television, franchises, venues, theme parks, toys, tourism, hotels'}}, {'domain': {'id': '46', 'name': 'Brand Category', 'description': 'Categories within Brand Verticals that narrow down the scope of Brands'}, 'entity': {'id': '1557697333571112960', 'name': 'Technology Business', 'description': 'Brands, companies, advertisers and every non-person handle with the profit intent related to softwares, apps, communication equipments, hardwares'}}, {'domain': {'id': '47', 'name': 'Brand', 'description': 'Brands and Companies'}, 'entity': {'id': '10026378521', 'name': 'Google '}}, {'domain': {'id': '48', 'name': 'Product', 'description': 'Products created by Brands.  Examples: Ford Explorer, Apple iPhone.'}, 'entity': {'id': '1395474411180892160', 'name': 'Google brand conversation'}}, {'domain': {'id': '30', 'name': 'Entities [Entity Service]', 'description': 'Entity Service top level domain, every item that is in Entity Service should be in this domain'}, 'entity': {'id': '848920371311001600', 'name': 'Technology', 'description': 'Technology and computing'}}, {'domain': {'id': '30', 'name': 'Entities [Entity Service]', 'description': 'Entity Service top level domain, every item that is in Entity Service should be in this domain'}, 'entity': {'id': '1085628093627195392', 'name': '5G', 'description': '5G'}}, {'domain': {'id': '131', 'name': 'Unified Twitter Taxonomy', 'description': 'A taxonomy view into the Semantic Core knowledge graph'}, 'entity': {'id': '10026378521', 'name': 'Google '}}, {'domain': {'id': '131', 'name': 'Unified Twitter Taxonomy', 'description': 'A taxonomy view into the Semantic Core knowledge graph'}, 'entity': {'id': '847511168268644352', 'name': 'Global Economy', 'description': 'Conversation about global finance and economies.'}}, {'domain': {'id': '131', 'name': 'Unified Twitter Taxonomy', 'description': 'A taxonomy view into the Semantic Core knowledge graph'}, 'entity': {'id': '848920371311001600', 'name': 'Technology', 'description': 'Technology and computing'}}, {'domain': {'id': '165', 'name': 'Technology', 'description': 'for individual and types of technology, e.g., food technology, 3D printing'}, 'entity': {'id': '1148689566112477184', 'name': 'Wi-Fi'}}, {'domain': {'id': '47', 'name': 'Brand', 'description': 'Brands and Companies'}, 'entity': {'id': '10026820777', 'name': 'Android'}}, {'domain': {'id': '47', 'name': 'Brand', 'description': 'Brands and Companies'}, 'entity': {'id': '10029202410', 'name': 'Philips'}}, {'domain': {'id': '30', 'name': 'Entities [Entity Service]', 'description': 'Entity Service top level domain, every item that is in Entity Service should be in this domain'}, 'entity': {'id': '848920371311001600', 'name': 'Technology', 'description': 'Technology and computing'}}, {'domain': {'id': '30', 'name': 'Entities [Entity Service]', 'description': 'Entity Service top level domain, every item that is in Entity Service should be in this domain'}, 'entity': {'id': '848985956778561538', 'name': 'Mobile', 'description': 'Mobile'}}, {'domain': {'id': '131', 'name': 'Unified Twitter Taxonomy', 'description': 'A taxonomy view into the Semantic Core knowledge graph'}, 'entity': {'id': '10026820777', 'name': 'Android'}}, {'domain': {'id': '131', 'name': 'Unified Twitter Taxonomy', 'description': 'A taxonomy view into the Semantic Core knowledge graph'}, 'entity': {'id': '10029202410', 'name': 'Philips'}}]\n",
      "=======\n",
      "2022-09-12 16:07:34+00:00 RT @tudonapromo: 🚨 Cupom Americanas - Só no App!\n",
      "\n",
      "Ela também é otimizada para quem joga na TV\n",
      "\n",
      "🔷Smart TV Philips Android - 50\" 4K (Google A…\n",
      "Metrics {'retweet_count': 1, 'reply_count': 0, 'like_count': 0, 'quote_count': 0}\n",
      "[{'domain': {'id': '30', 'name': 'Entities [Entity Service]', 'description': 'Entity Service top level domain, every item that is in Entity Service should be in this domain'}, 'entity': {'id': '781974596752842752', 'name': 'Services'}}, {'domain': {'id': '46', 'name': 'Brand Category', 'description': 'Categories within Brand Verticals that narrow down the scope of Brands'}, 'entity': {'id': '1557696802391859201', 'name': 'Entertainment & Leisure Business', 'description': 'Brands, companies, advertisers and every non-person handle with the profit intent related to movies, music, television, franchises, venues, theme parks, toys, tourism, hotels'}}, {'domain': {'id': '46', 'name': 'Brand Category', 'description': 'Categories within Brand Verticals that narrow down the scope of Brands'}, 'entity': {'id': '1557697333571112960', 'name': 'Technology Business', 'description': 'Brands, companies, advertisers and every non-person handle with the profit intent related to softwares, apps, communication equipments, hardwares'}}, {'domain': {'id': '47', 'name': 'Brand', 'description': 'Brands and Companies'}, 'entity': {'id': '10026378521', 'name': 'Google '}}, {'domain': {'id': '48', 'name': 'Product', 'description': 'Products created by Brands.  Examples: Ford Explorer, Apple iPhone.'}, 'entity': {'id': '1395474411180892160', 'name': 'Google brand conversation'}}, {'domain': {'id': '131', 'name': 'Unified Twitter Taxonomy', 'description': 'A taxonomy view into the Semantic Core knowledge graph'}, 'entity': {'id': '10026378521', 'name': 'Google '}}, {'domain': {'id': '47', 'name': 'Brand', 'description': 'Brands and Companies'}, 'entity': {'id': '10026820777', 'name': 'Android'}}, {'domain': {'id': '47', 'name': 'Brand', 'description': 'Brands and Companies'}, 'entity': {'id': '10029202410', 'name': 'Philips'}}, {'domain': {'id': '30', 'name': 'Entities [Entity Service]', 'description': 'Entity Service top level domain, every item that is in Entity Service should be in this domain'}, 'entity': {'id': '848920371311001600', 'name': 'Technology', 'description': 'Technology and computing'}}, {'domain': {'id': '30', 'name': 'Entities [Entity Service]', 'description': 'Entity Service top level domain, every item that is in Entity Service should be in this domain'}, 'entity': {'id': '848985956778561538', 'name': 'Mobile', 'description': 'Mobile'}}, {'domain': {'id': '131', 'name': 'Unified Twitter Taxonomy', 'description': 'A taxonomy view into the Semantic Core knowledge graph'}, 'entity': {'id': '10026820777', 'name': 'Android'}}, {'domain': {'id': '131', 'name': 'Unified Twitter Taxonomy', 'description': 'A taxonomy view into the Semantic Core knowledge graph'}, 'entity': {'id': '10029202410', 'name': 'Philips'}}]\n",
      "=======\n",
      "2022-09-12 16:05:23+00:00 Philips Hue White Ambiance Wellner, Lampada da Tavolo Smart\n",
      "\n",
      " 76,20€ \n",
      " 109,99€\n",
      " Risparmio 33,79€ (-30%)\n",
      " Minimo Storico\n",
      "\n",
      " Guarda il Prodotto su Amazon https://t.co/Iz3ma9lQSp\n",
      "Metrics {'retweet_count': 0, 'reply_count': 0, 'like_count': 0, 'quote_count': 0}\n",
      "=======\n",
      "2022-09-12 15:59:33+00:00 Philips Hue Go White and Color Portable Dimmable LED Smart Light Table Lamp (Requires Hue Hub, Works with Alexa, HomeKit and Google Assistant) - https://t.co/6IGq7cNCR3\n",
      "Metrics {'retweet_count': 0, 'reply_count': 0, 'like_count': 0, 'quote_count': 0}\n",
      "[{'domain': {'id': '30', 'name': 'Entities [Entity Service]', 'description': 'Entity Service top level domain, every item that is in Entity Service should be in this domain'}, 'entity': {'id': '781974596752842752', 'name': 'Services'}}, {'domain': {'id': '47', 'name': 'Brand', 'description': 'Brands and Companies'}, 'entity': {'id': '10026378521', 'name': 'Google '}}, {'domain': {'id': '47', 'name': 'Brand', 'description': 'Brands and Companies'}, 'entity': {'id': '10026792024', 'name': 'Amazon'}}, {'domain': {'id': '48', 'name': 'Product', 'description': 'Products created by Brands.  Examples: Ford Explorer, Apple iPhone.'}, 'entity': {'id': '968221983803494400', 'name': 'Amazon - Alexa', 'description': 'Alexa'}}, {'domain': {'id': '48', 'name': 'Product', 'description': 'Products created by Brands.  Examples: Ford Explorer, Apple iPhone.'}, 'entity': {'id': '1395474411180892160', 'name': 'Google brand conversation'}}, {'domain': {'id': '47', 'name': 'Brand', 'description': 'Brands and Companies'}, 'entity': {'id': '10029202410', 'name': 'Philips'}}]\n",
      "=======\n",
      "2022-09-12 15:49:36+00:00 RT @deals_bee: LD:\n",
      "Vu Premium 108 cm (43 inch) Full HD LED Smart Linux TV on Flipkart\n",
      "\n",
      "Deal : 17,249 only using supercoin and bank offer\n",
      "\n",
      "h…\n",
      "Metrics {'retweet_count': 1, 'reply_count': 0, 'like_count': 0, 'quote_count': 0}\n",
      "[{'domain': {'id': '46', 'name': 'Brand Category', 'description': 'Categories within Brand Verticals that narrow down the scope of Brands'}, 'entity': {'id': '1557696802391859201', 'name': 'Entertainment & Leisure Business', 'description': 'Brands, companies, advertisers and every non-person handle with the profit intent related to movies, music, television, franchises, venues, theme parks, toys, tourism, hotels'}}, {'domain': {'id': '46', 'name': 'Brand Category', 'description': 'Categories within Brand Verticals that narrow down the scope of Brands'}, 'entity': {'id': '1557697218248773632', 'name': 'Retail Business', 'description': 'Brands, companies, advertisers and every non-person handle with the profit intent focused on selling multiple brands such as supermarkets, stores, resellers, delivery apps'}}, {'domain': {'id': '46', 'name': 'Brand Category', 'description': 'Categories within Brand Verticals that narrow down the scope of Brands'}, 'entity': {'id': '1557697333571112960', 'name': 'Technology Business', 'description': 'Brands, companies, advertisers and every non-person handle with the profit intent related to softwares, apps, communication equipments, hardwares'}}, {'domain': {'id': '47', 'name': 'Brand', 'description': 'Brands and Companies'}, 'entity': {'id': '1557297663480963073', 'name': 'Flipkart'}}, {'domain': {'id': '131', 'name': 'Unified Twitter Taxonomy', 'description': 'A taxonomy view into the Semantic Core knowledge graph'}, 'entity': {'id': '1557297663480963073', 'name': 'Flipkart'}}, {'domain': {'id': '30', 'name': 'Entities [Entity Service]', 'description': 'Entity Service top level domain, every item that is in Entity Service should be in this domain'}, 'entity': {'id': '848920371311001600', 'name': 'Technology', 'description': 'Technology and computing'}}, {'domain': {'id': '66', 'name': 'Interests and Hobbies Category', 'description': 'A grouping of interests and hobbies entities, like Novelty Food or Destinations'}, 'entity': {'id': '848959431836487680', 'name': 'Linux', 'description': 'Linux'}}, {'domain': {'id': '131', 'name': 'Unified Twitter Taxonomy', 'description': 'A taxonomy view into the Semantic Core knowledge graph'}, 'entity': {'id': '848959431836487680', 'name': 'Linux', 'description': 'Linux'}}]\n",
      "=======\n",
      "2022-09-12 15:25:05+00:00 🚨 Cupom Americanas - Só no App!\n",
      "\n",
      "Ela também é otimizada para quem joga na TV\n",
      "\n",
      "🔷Smart TV Philips Android - 50\" 4K (Google Assistante, Dolby Vision)\n",
      "\n",
      "💵R$2.308 (Até 8x sem juros)\n",
      "🛒https://t.co/gs3f2QTbhq\n",
      "\n",
      "🏷️ Use o cupom MAIS10.\n",
      "➡️ Frete Grátis https://t.co/GK8fjNfhO0\n",
      "Metrics {'retweet_count': 1, 'reply_count': 0, 'like_count': 9, 'quote_count': 0}\n",
      "[{'domain': {'id': '30', 'name': 'Entities [Entity Service]', 'description': 'Entity Service top level domain, every item that is in Entity Service should be in this domain'}, 'entity': {'id': '781974596752842752', 'name': 'Services'}}, {'domain': {'id': '46', 'name': 'Brand Category', 'description': 'Categories within Brand Verticals that narrow down the scope of Brands'}, 'entity': {'id': '1557696802391859201', 'name': 'Entertainment & Leisure Business', 'description': 'Brands, companies, advertisers and every non-person handle with the profit intent related to movies, music, television, franchises, venues, theme parks, toys, tourism, hotels'}}, {'domain': {'id': '46', 'name': 'Brand Category', 'description': 'Categories within Brand Verticals that narrow down the scope of Brands'}, 'entity': {'id': '1557696940178935808', 'name': 'Gaming Business', 'description': 'Brands, companies, advertisers and every non-person handle with the profit intent related to offline and online games such as gaming consoles, tabletop games, video game publishers'}}, {'domain': {'id': '46', 'name': 'Brand Category', 'description': 'Categories within Brand Verticals that narrow down the scope of Brands'}, 'entity': {'id': '1557697333571112960', 'name': 'Technology Business', 'description': 'Brands, companies, advertisers and every non-person handle with the profit intent related to softwares, apps, communication equipments, hardwares'}}, {'domain': {'id': '47', 'name': 'Brand', 'description': 'Brands and Companies'}, 'entity': {'id': '10026378521', 'name': 'Google '}}, {'domain': {'id': '48', 'name': 'Product', 'description': 'Products created by Brands.  Examples: Ford Explorer, Apple iPhone.'}, 'entity': {'id': '1395474411180892160', 'name': 'Google brand conversation'}}, {'domain': {'id': '131', 'name': 'Unified Twitter Taxonomy', 'description': 'A taxonomy view into the Semantic Core knowledge graph'}, 'entity': {'id': '10026378521', 'name': 'Google '}}, {'domain': {'id': '131', 'name': 'Unified Twitter Taxonomy', 'description': 'A taxonomy view into the Semantic Core knowledge graph'}, 'entity': {'id': '847511168268644352', 'name': 'Global Economy', 'description': 'Conversation about global finance and economies.'}}, {'domain': {'id': '47', 'name': 'Brand', 'description': 'Brands and Companies'}, 'entity': {'id': '10026820777', 'name': 'Android'}}, {'domain': {'id': '47', 'name': 'Brand', 'description': 'Brands and Companies'}, 'entity': {'id': '10029202410', 'name': 'Philips'}}, {'domain': {'id': '30', 'name': 'Entities [Entity Service]', 'description': 'Entity Service top level domain, every item that is in Entity Service should be in this domain'}, 'entity': {'id': '848920371311001600', 'name': 'Technology', 'description': 'Technology and computing'}}, {'domain': {'id': '30', 'name': 'Entities [Entity Service]', 'description': 'Entity Service top level domain, every item that is in Entity Service should be in this domain'}, 'entity': {'id': '848985956778561538', 'name': 'Mobile', 'description': 'Mobile'}}, {'domain': {'id': '131', 'name': 'Unified Twitter Taxonomy', 'description': 'A taxonomy view into the Semantic Core knowledge graph'}, 'entity': {'id': '10026820777', 'name': 'Android'}}, {'domain': {'id': '131', 'name': 'Unified Twitter Taxonomy', 'description': 'A taxonomy view into the Semantic Core knowledge graph'}, 'entity': {'id': '10029202410', 'name': 'Philips'}}]\n",
      "=======\n",
      "2022-09-12 15:10:00+00:00 RT @PhilipsSpain: El software inteligente de aceleración de #ResonanciaMagnética ayuda a aumentar la eficiencia de los servicios de diagnós…\n",
      "Metrics {'retweet_count': 4, 'reply_count': 0, 'like_count': 0, 'quote_count': 0}\n",
      "[{'domain': {'id': '47', 'name': 'Brand', 'description': 'Brands and Companies'}, 'entity': {'id': '10029202410', 'name': 'Philips'}}, {'domain': {'id': '131', 'name': 'Unified Twitter Taxonomy', 'description': 'A taxonomy view into the Semantic Core knowledge graph'}, 'entity': {'id': '10029202410', 'name': 'Philips'}}]\n",
      "=======\n",
      "2022-09-12 15:02:05+00:00 Smart TV 70” 4K UHD D-LED Philips Wi-fi Bluetooth Google Assistente - 70PUG7406/78 na Girafa - R$ 4.274,05. Oferta Relâmpago. #oferta #relampago #desconto #promoção #cupom https://t.co/RvLjAoVNpj\n",
      "Metrics {'retweet_count': 0, 'reply_count': 0, 'like_count': 0, 'quote_count': 0}\n",
      "[{'domain': {'id': '30', 'name': 'Entities [Entity Service]', 'description': 'Entity Service top level domain, every item that is in Entity Service should be in this domain'}, 'entity': {'id': '781974596752842752', 'name': 'Services'}}, {'domain': {'id': '46', 'name': 'Brand Category', 'description': 'Categories within Brand Verticals that narrow down the scope of Brands'}, 'entity': {'id': '1557696802391859201', 'name': 'Entertainment & Leisure Business', 'description': 'Brands, companies, advertisers and every non-person handle with the profit intent related to movies, music, television, franchises, venues, theme parks, toys, tourism, hotels'}}, {'domain': {'id': '46', 'name': 'Brand Category', 'description': 'Categories within Brand Verticals that narrow down the scope of Brands'}, 'entity': {'id': '1557697333571112960', 'name': 'Technology Business', 'description': 'Brands, companies, advertisers and every non-person handle with the profit intent related to softwares, apps, communication equipments, hardwares'}}, {'domain': {'id': '47', 'name': 'Brand', 'description': 'Brands and Companies'}, 'entity': {'id': '10026378521', 'name': 'Google '}}, {'domain': {'id': '48', 'name': 'Product', 'description': 'Products created by Brands.  Examples: Ford Explorer, Apple iPhone.'}, 'entity': {'id': '1395474411180892160', 'name': 'Google brand conversation'}}, {'domain': {'id': '30', 'name': 'Entities [Entity Service]', 'description': 'Entity Service top level domain, every item that is in Entity Service should be in this domain'}, 'entity': {'id': '848920371311001600', 'name': 'Technology', 'description': 'Technology and computing'}}, {'domain': {'id': '131', 'name': 'Unified Twitter Taxonomy', 'description': 'A taxonomy view into the Semantic Core knowledge graph'}, 'entity': {'id': '10026378521', 'name': 'Google '}}, {'domain': {'id': '131', 'name': 'Unified Twitter Taxonomy', 'description': 'A taxonomy view into the Semantic Core knowledge graph'}, 'entity': {'id': '848920371311001600', 'name': 'Technology', 'description': 'Technology and computing'}}, {'domain': {'id': '165', 'name': 'Technology', 'description': 'for individual and types of technology, e.g., food technology, 3D printing'}, 'entity': {'id': '1148689566112477184', 'name': 'Wi-Fi'}}, {'domain': {'id': '47', 'name': 'Brand', 'description': 'Brands and Companies'}, 'entity': {'id': '10029202410', 'name': 'Philips'}}, {'domain': {'id': '131', 'name': 'Unified Twitter Taxonomy', 'description': 'A taxonomy view into the Semantic Core knowledge graph'}, 'entity': {'id': '10029202410', 'name': 'Philips'}}]\n",
      "=======\n",
      "2022-09-12 14:33:02+00:00 Our new SensCheck™ smart door and window sensor range offers unrivalled benefits including Sensor status notifications and tamper alerts, Part Arm functionality and integration with Amazon Alexa, Google Assistant and Philips Hue.\n",
      "\n",
      "#Yale #YaleSensCheck https://t.co/mghNdd3wCd\n",
      "Metrics {'retweet_count': 0, 'reply_count': 0, 'like_count': 1, 'quote_count': 0}\n",
      "[{'domain': {'id': '30', 'name': 'Entities [Entity Service]', 'description': 'Entity Service top level domain, every item that is in Entity Service should be in this domain'}, 'entity': {'id': '781974596752842752', 'name': 'Services'}}, {'domain': {'id': '47', 'name': 'Brand', 'description': 'Brands and Companies'}, 'entity': {'id': '10026378521', 'name': 'Google '}}, {'domain': {'id': '47', 'name': 'Brand', 'description': 'Brands and Companies'}, 'entity': {'id': '10026792024', 'name': 'Amazon'}}, {'domain': {'id': '48', 'name': 'Product', 'description': 'Products created by Brands.  Examples: Ford Explorer, Apple iPhone.'}, 'entity': {'id': '968221983803494400', 'name': 'Amazon - Alexa', 'description': 'Alexa'}}, {'domain': {'id': '48', 'name': 'Product', 'description': 'Products created by Brands.  Examples: Ford Explorer, Apple iPhone.'}, 'entity': {'id': '1395474411180892160', 'name': 'Google brand conversation'}}]\n",
      "=======\n",
      "2022-09-12 14:31:35+00:00 Smart TV 70” 4K UHD D-LED Philips Wi-fi Bluetooth Google Assistente - 70PUG7406/78 na Girafa - R$ 4.274,05. Oferta Relâmpago. #oferta #relampago #desconto #promoção #cupom https://t.co/FclXhxjqhr\n",
      "Metrics {'retweet_count': 0, 'reply_count': 0, 'like_count': 0, 'quote_count': 0}\n",
      "[{'domain': {'id': '30', 'name': 'Entities [Entity Service]', 'description': 'Entity Service top level domain, every item that is in Entity Service should be in this domain'}, 'entity': {'id': '781974596752842752', 'name': 'Services'}}, {'domain': {'id': '46', 'name': 'Brand Category', 'description': 'Categories within Brand Verticals that narrow down the scope of Brands'}, 'entity': {'id': '1557696802391859201', 'name': 'Entertainment & Leisure Business', 'description': 'Brands, companies, advertisers and every non-person handle with the profit intent related to movies, music, television, franchises, venues, theme parks, toys, tourism, hotels'}}, {'domain': {'id': '46', 'name': 'Brand Category', 'description': 'Categories within Brand Verticals that narrow down the scope of Brands'}, 'entity': {'id': '1557697333571112960', 'name': 'Technology Business', 'description': 'Brands, companies, advertisers and every non-person handle with the profit intent related to softwares, apps, communication equipments, hardwares'}}, {'domain': {'id': '47', 'name': 'Brand', 'description': 'Brands and Companies'}, 'entity': {'id': '10026378521', 'name': 'Google '}}, {'domain': {'id': '48', 'name': 'Product', 'description': 'Products created by Brands.  Examples: Ford Explorer, Apple iPhone.'}, 'entity': {'id': '1395474411180892160', 'name': 'Google brand conversation'}}, {'domain': {'id': '30', 'name': 'Entities [Entity Service]', 'description': 'Entity Service top level domain, every item that is in Entity Service should be in this domain'}, 'entity': {'id': '848920371311001600', 'name': 'Technology', 'description': 'Technology and computing'}}, {'domain': {'id': '131', 'name': 'Unified Twitter Taxonomy', 'description': 'A taxonomy view into the Semantic Core knowledge graph'}, 'entity': {'id': '10026378521', 'name': 'Google '}}, {'domain': {'id': '131', 'name': 'Unified Twitter Taxonomy', 'description': 'A taxonomy view into the Semantic Core knowledge graph'}, 'entity': {'id': '848920371311001600', 'name': 'Technology', 'description': 'Technology and computing'}}, {'domain': {'id': '165', 'name': 'Technology', 'description': 'for individual and types of technology, e.g., food technology, 3D printing'}, 'entity': {'id': '1148689566112477184', 'name': 'Wi-Fi'}}, {'domain': {'id': '47', 'name': 'Brand', 'description': 'Brands and Companies'}, 'entity': {'id': '10029202410', 'name': 'Philips'}}, {'domain': {'id': '131', 'name': 'Unified Twitter Taxonomy', 'description': 'A taxonomy view into the Semantic Core knowledge graph'}, 'entity': {'id': '10029202410', 'name': 'Philips'}}]\n",
      "=======\n",
      "2022-09-12 14:06:02+00:00 #promoção #oferta  Smart TV 70” 4K UHD D-LED Philips Wi-fi Bluetooth Google Assistente - - R$ 4.274,05  #smartTv https://t.co/xtMnFdqBdk\n",
      "Metrics {'retweet_count': 0, 'reply_count': 0, 'like_count': 1, 'quote_count': 0}\n",
      "[{'domain': {'id': '30', 'name': 'Entities [Entity Service]', 'description': 'Entity Service top level domain, every item that is in Entity Service should be in this domain'}, 'entity': {'id': '781974596752842752', 'name': 'Services'}}, {'domain': {'id': '46', 'name': 'Brand Category', 'description': 'Categories within Brand Verticals that narrow down the scope of Brands'}, 'entity': {'id': '1557696802391859201', 'name': 'Entertainment & Leisure Business', 'description': 'Brands, companies, advertisers and every non-person handle with the profit intent related to movies, music, television, franchises, venues, theme parks, toys, tourism, hotels'}}, {'domain': {'id': '46', 'name': 'Brand Category', 'description': 'Categories within Brand Verticals that narrow down the scope of Brands'}, 'entity': {'id': '1557697333571112960', 'name': 'Technology Business', 'description': 'Brands, companies, advertisers and every non-person handle with the profit intent related to softwares, apps, communication equipments, hardwares'}}, {'domain': {'id': '47', 'name': 'Brand', 'description': 'Brands and Companies'}, 'entity': {'id': '10026378521', 'name': 'Google '}}, {'domain': {'id': '48', 'name': 'Product', 'description': 'Products created by Brands.  Examples: Ford Explorer, Apple iPhone.'}, 'entity': {'id': '1395474411180892160', 'name': 'Google brand conversation'}}, {'domain': {'id': '30', 'name': 'Entities [Entity Service]', 'description': 'Entity Service top level domain, every item that is in Entity Service should be in this domain'}, 'entity': {'id': '848920371311001600', 'name': 'Technology', 'description': 'Technology and computing'}}, {'domain': {'id': '131', 'name': 'Unified Twitter Taxonomy', 'description': 'A taxonomy view into the Semantic Core knowledge graph'}, 'entity': {'id': '10026378521', 'name': 'Google '}}, {'domain': {'id': '131', 'name': 'Unified Twitter Taxonomy', 'description': 'A taxonomy view into the Semantic Core knowledge graph'}, 'entity': {'id': '848920371311001600', 'name': 'Technology', 'description': 'Technology and computing'}}, {'domain': {'id': '165', 'name': 'Technology', 'description': 'for individual and types of technology, e.g., food technology, 3D printing'}, 'entity': {'id': '1148689566112477184', 'name': 'Wi-Fi'}}, {'domain': {'id': '47', 'name': 'Brand', 'description': 'Brands and Companies'}, 'entity': {'id': '10029202410', 'name': 'Philips'}}, {'domain': {'id': '131', 'name': 'Unified Twitter Taxonomy', 'description': 'A taxonomy view into the Semantic Core knowledge graph'}, 'entity': {'id': '10029202410', 'name': 'Philips'}}]\n",
      "=======\n",
      "2022-09-12 14:03:29+00:00 😱😱😱😱😱😱\n",
      "\n",
      "Smart TV 70” 4K UHD D-LED Philips Wi-fi Bluetooth Google Assistente - 70PUG7406/78\n",
      "\n",
      "R$ 4274,05\n",
      "\n",
      "Preço em promoção ou estoque da oferta pode expirar rapidamente. CONFIRA: \n",
      "\n",
      "https://t.co/Rzi6ywjTPo https://t.co/uzvn4Bw92L\n",
      "Metrics {'retweet_count': 0, 'reply_count': 0, 'like_count': 0, 'quote_count': 0}\n",
      "[{'domain': {'id': '30', 'name': 'Entities [Entity Service]', 'description': 'Entity Service top level domain, every item that is in Entity Service should be in this domain'}, 'entity': {'id': '781974596752842752', 'name': 'Services'}}, {'domain': {'id': '46', 'name': 'Brand Category', 'description': 'Categories within Brand Verticals that narrow down the scope of Brands'}, 'entity': {'id': '1557696802391859201', 'name': 'Entertainment & Leisure Business', 'description': 'Brands, companies, advertisers and every non-person handle with the profit intent related to movies, music, television, franchises, venues, theme parks, toys, tourism, hotels'}}, {'domain': {'id': '46', 'name': 'Brand Category', 'description': 'Categories within Brand Verticals that narrow down the scope of Brands'}, 'entity': {'id': '1557697333571112960', 'name': 'Technology Business', 'description': 'Brands, companies, advertisers and every non-person handle with the profit intent related to softwares, apps, communication equipments, hardwares'}}, {'domain': {'id': '47', 'name': 'Brand', 'description': 'Brands and Companies'}, 'entity': {'id': '10026378521', 'name': 'Google '}}, {'domain': {'id': '48', 'name': 'Product', 'description': 'Products created by Brands.  Examples: Ford Explorer, Apple iPhone.'}, 'entity': {'id': '1395474411180892160', 'name': 'Google brand conversation'}}, {'domain': {'id': '30', 'name': 'Entities [Entity Service]', 'description': 'Entity Service top level domain, every item that is in Entity Service should be in this domain'}, 'entity': {'id': '848920371311001600', 'name': 'Technology', 'description': 'Technology and computing'}}, {'domain': {'id': '131', 'name': 'Unified Twitter Taxonomy', 'description': 'A taxonomy view into the Semantic Core knowledge graph'}, 'entity': {'id': '10026378521', 'name': 'Google '}}, {'domain': {'id': '131', 'name': 'Unified Twitter Taxonomy', 'description': 'A taxonomy view into the Semantic Core knowledge graph'}, 'entity': {'id': '848920371311001600', 'name': 'Technology', 'description': 'Technology and computing'}}, {'domain': {'id': '165', 'name': 'Technology', 'description': 'for individual and types of technology, e.g., food technology, 3D printing'}, 'entity': {'id': '1148689566112477184', 'name': 'Wi-Fi'}}, {'domain': {'id': '47', 'name': 'Brand', 'description': 'Brands and Companies'}, 'entity': {'id': '10029202410', 'name': 'Philips'}}, {'domain': {'id': '131', 'name': 'Unified Twitter Taxonomy', 'description': 'A taxonomy view into the Semantic Core knowledge graph'}, 'entity': {'id': '10029202410', 'name': 'Philips'}}]\n",
      "=======\n",
      "2022-09-12 13:45:04+00:00 [Girafa] Smart TV Philips 70 4K UHD LED 70PUG7406/78 Dolby Vision e Dolby Atmos e Tecnologia Inteligência Android R$ 4274,05 #desconto #oferta #promocao #smart https://t.co/9Niz57Io7t\n",
      "Metrics {'retweet_count': 0, 'reply_count': 0, 'like_count': 0, 'quote_count': 0}\n",
      "[{'domain': {'id': '46', 'name': 'Brand Category', 'description': 'Categories within Brand Verticals that narrow down the scope of Brands'}, 'entity': {'id': '1557696802391859201', 'name': 'Entertainment & Leisure Business', 'description': 'Brands, companies, advertisers and every non-person handle with the profit intent related to movies, music, television, franchises, venues, theme parks, toys, tourism, hotels'}}, {'domain': {'id': '46', 'name': 'Brand Category', 'description': 'Categories within Brand Verticals that narrow down the scope of Brands'}, 'entity': {'id': '1557697333571112960', 'name': 'Technology Business', 'description': 'Brands, companies, advertisers and every non-person handle with the profit intent related to softwares, apps, communication equipments, hardwares'}}, {'domain': {'id': '47', 'name': 'Brand', 'description': 'Brands and Companies'}, 'entity': {'id': '10026820777', 'name': 'Android'}}, {'domain': {'id': '47', 'name': 'Brand', 'description': 'Brands and Companies'}, 'entity': {'id': '10029202410', 'name': 'Philips'}}, {'domain': {'id': '30', 'name': 'Entities [Entity Service]', 'description': 'Entity Service top level domain, every item that is in Entity Service should be in this domain'}, 'entity': {'id': '848920371311001600', 'name': 'Technology', 'description': 'Technology and computing'}}, {'domain': {'id': '30', 'name': 'Entities [Entity Service]', 'description': 'Entity Service top level domain, every item that is in Entity Service should be in this domain'}, 'entity': {'id': '848985956778561538', 'name': 'Mobile', 'description': 'Mobile'}}, {'domain': {'id': '131', 'name': 'Unified Twitter Taxonomy', 'description': 'A taxonomy view into the Semantic Core knowledge graph'}, 'entity': {'id': '10026820777', 'name': 'Android'}}, {'domain': {'id': '131', 'name': 'Unified Twitter Taxonomy', 'description': 'A taxonomy view into the Semantic Core knowledge graph'}, 'entity': {'id': '10029202410', 'name': 'Philips'}}]\n",
      "=======\n",
      "2022-09-12 13:34:57+00:00 @Philips_Ar buen día,  quisiera saber si puedo conectar mi smart tv con amazon alexa, no tengo la app para descargar en la tv\n",
      "Metrics {'retweet_count': 0, 'reply_count': 1, 'like_count': 0, 'quote_count': 0}\n",
      "[{'domain': {'id': '46', 'name': 'Brand Category', 'description': 'Categories within Brand Verticals that narrow down the scope of Brands'}, 'entity': {'id': '1557696802391859201', 'name': 'Entertainment & Leisure Business', 'description': 'Brands, companies, advertisers and every non-person handle with the profit intent related to movies, music, television, franchises, venues, theme parks, toys, tourism, hotels'}}, {'domain': {'id': '47', 'name': 'Brand', 'description': 'Brands and Companies'}, 'entity': {'id': '10026792024', 'name': 'Amazon'}}, {'domain': {'id': '48', 'name': 'Product', 'description': 'Products created by Brands.  Examples: Ford Explorer, Apple iPhone.'}, 'entity': {'id': '968221983803494400', 'name': 'Amazon - Alexa', 'description': 'Alexa'}}]\n",
      "=======\n",
      "2022-09-12 13:02:57+00:00 Smart TV 55” 4K UHD D-LED Philips 55PUG7406/78 - Android Wi-Fi Bluetooth Google Assistente na Magazine Luiza - R$ 2.797,75. Oferta Relâmpago. #oferta #relampago #desconto #promoção #cupom https://t.co/wE7HI4fLi8\n",
      "Metrics {'retweet_count': 0, 'reply_count': 0, 'like_count': 0, 'quote_count': 0}\n",
      "[{'domain': {'id': '45', 'name': 'Brand Vertical', 'description': 'Top level entities that describe a Brands industry'}, 'entity': {'id': '781974596706635776', 'name': 'Retail'}}, {'domain': {'id': '30', 'name': 'Entities [Entity Service]', 'description': 'Entity Service top level domain, every item that is in Entity Service should be in this domain'}, 'entity': {'id': '781974596752842752', 'name': 'Services'}}, {'domain': {'id': '30', 'name': 'Entities [Entity Service]', 'description': 'Entity Service top level domain, every item that is in Entity Service should be in this domain'}, 'entity': {'id': '783350882985385984', 'name': 'Home - Retail'}}, {'domain': {'id': '46', 'name': 'Brand Category', 'description': 'Categories within Brand Verticals that narrow down the scope of Brands'}, 'entity': {'id': '1557696802391859201', 'name': 'Entertainment & Leisure Business', 'description': 'Brands, companies, advertisers and every non-person handle with the profit intent related to movies, music, television, franchises, venues, theme parks, toys, tourism, hotels'}}, {'domain': {'id': '46', 'name': 'Brand Category', 'description': 'Categories within Brand Verticals that narrow down the scope of Brands'}, 'entity': {'id': '1557697333571112960', 'name': 'Technology Business', 'description': 'Brands, companies, advertisers and every non-person handle with the profit intent related to softwares, apps, communication equipments, hardwares'}}, {'domain': {'id': '47', 'name': 'Brand', 'description': 'Brands and Companies'}, 'entity': {'id': '10026378521', 'name': 'Google '}}, {'domain': {'id': '47', 'name': 'Brand', 'description': 'Brands and Companies'}, 'entity': {'id': '1006967672272089088', 'name': 'Magazine Luiza', 'description': 'Magazine Luiza'}}, {'domain': {'id': '48', 'name': 'Product', 'description': 'Products created by Brands.  Examples: Ford Explorer, Apple iPhone.'}, 'entity': {'id': '1395474411180892160', 'name': 'Google brand conversation'}}, {'domain': {'id': '30', 'name': 'Entities [Entity Service]', 'description': 'Entity Service top level domain, every item that is in Entity Service should be in this domain'}, 'entity': {'id': '848920371311001600', 'name': 'Technology', 'description': 'Technology and computing'}}, {'domain': {'id': '131', 'name': 'Unified Twitter Taxonomy', 'description': 'A taxonomy view into the Semantic Core knowledge graph'}, 'entity': {'id': '10026378521', 'name': 'Google '}}, {'domain': {'id': '131', 'name': 'Unified Twitter Taxonomy', 'description': 'A taxonomy view into the Semantic Core knowledge graph'}, 'entity': {'id': '848920371311001600', 'name': 'Technology', 'description': 'Technology and computing'}}, {'domain': {'id': '165', 'name': 'Technology', 'description': 'for individual and types of technology, e.g., food technology, 3D printing'}, 'entity': {'id': '1148689566112477184', 'name': 'Wi-Fi'}}, {'domain': {'id': '47', 'name': 'Brand', 'description': 'Brands and Companies'}, 'entity': {'id': '10026820777', 'name': 'Android'}}, {'domain': {'id': '47', 'name': 'Brand', 'description': 'Brands and Companies'}, 'entity': {'id': '10029202410', 'name': 'Philips'}}, {'domain': {'id': '30', 'name': 'Entities [Entity Service]', 'description': 'Entity Service top level domain, every item that is in Entity Service should be in this domain'}, 'entity': {'id': '848920371311001600', 'name': 'Technology', 'description': 'Technology and computing'}}, {'domain': {'id': '30', 'name': 'Entities [Entity Service]', 'description': 'Entity Service top level domain, every item that is in Entity Service should be in this domain'}, 'entity': {'id': '848985956778561538', 'name': 'Mobile', 'description': 'Mobile'}}, {'domain': {'id': '131', 'name': 'Unified Twitter Taxonomy', 'description': 'A taxonomy view into the Semantic Core knowledge graph'}, 'entity': {'id': '10026820777', 'name': 'Android'}}, {'domain': {'id': '131', 'name': 'Unified Twitter Taxonomy', 'description': 'A taxonomy view into the Semantic Core knowledge graph'}, 'entity': {'id': '10029202410', 'name': 'Philips'}}]\n",
      "=======\n",
      "2022-09-12 12:55:54+00:00 Philips Rabbit Ears Indoor TV Antenna, Dipoles and Circular Loop, Tabletop Antenna, Digital, Smart TV Compatible, HDTV Antenn [Z2SMVVC]\n",
      "\n",
      "https://t.co/zjXSi53wP9\n",
      "Metrics {'retweet_count': 0, 'reply_count': 0, 'like_count': 0, 'quote_count': 0}\n",
      "[{'domain': {'id': '46', 'name': 'Brand Category', 'description': 'Categories within Brand Verticals that narrow down the scope of Brands'}, 'entity': {'id': '1557696802391859201', 'name': 'Entertainment & Leisure Business', 'description': 'Brands, companies, advertisers and every non-person handle with the profit intent related to movies, music, television, franchises, venues, theme parks, toys, tourism, hotels'}}, {'domain': {'id': '47', 'name': 'Brand', 'description': 'Brands and Companies'}, 'entity': {'id': '10029202410', 'name': 'Philips'}}, {'domain': {'id': '131', 'name': 'Unified Twitter Taxonomy', 'description': 'A taxonomy view into the Semantic Core knowledge graph'}, 'entity': {'id': '10029202410', 'name': 'Philips'}}]\n",
      "=======\n",
      "2022-09-12 12:23:18+00:00 Check this out at Amazon Philips 65PUS7506/12 65 Inch Smart TV 4K UHD LED Television ideal for Netflix, YouTube and Gaming / P5 Perfect Picture, HDR, Cinematic Dolby Vision &amp; Atmos Sound https://t.co/R5I2Devggy\n",
      "Metrics {'retweet_count': 0, 'reply_count': 0, 'like_count': 0, 'quote_count': 0}\n",
      "[{'domain': {'id': '45', 'name': 'Brand Vertical', 'description': 'Top level entities that describe a Brands industry'}, 'entity': {'id': '781974597310615553', 'name': 'Entertainment'}}, {'domain': {'id': '30', 'name': 'Entities [Entity Service]', 'description': 'Entity Service top level domain, every item that is in Entity Service should be in this domain'}, 'entity': {'id': '781974597105094656', 'name': 'TV/Movies Related - Entertainment'}}, {'domain': {'id': '46', 'name': 'Brand Category', 'description': 'Categories within Brand Verticals that narrow down the scope of Brands'}, 'entity': {'id': '1557696802391859201', 'name': 'Entertainment & Leisure Business', 'description': 'Brands, companies, advertisers and every non-person handle with the profit intent related to movies, music, television, franchises, venues, theme parks, toys, tourism, hotels'}}, {'domain': {'id': '46', 'name': 'Brand Category', 'description': 'Categories within Brand Verticals that narrow down the scope of Brands'}, 'entity': {'id': '1557696940178935808', 'name': 'Gaming Business', 'description': 'Brands, companies, advertisers and every non-person handle with the profit intent related to offline and online games such as gaming consoles, tabletop games, video game publishers'}}, {'domain': {'id': '47', 'name': 'Brand', 'description': 'Brands and Companies'}, 'entity': {'id': '10026367762', 'name': 'Netflix'}}, {'domain': {'id': '130', 'name': 'Multimedia Franchise', 'description': \"Franchises which span multiple forms of media like 'Harry Potter'\"}, 'entity': {'id': '854954654546907136', 'name': 'Persona', 'description': 'This entity includes all conversation about the franchise, as well as any individual installments in the series.\\n\\nThe Video Game domain query only tracks conversation about the game series whereas the Multimedia Franchise query contains all Persona conversation.'}}, {'domain': {'id': '131', 'name': 'Unified Twitter Taxonomy', 'description': 'A taxonomy view into the Semantic Core knowledge graph'}, 'entity': {'id': '10026367762', 'name': 'Netflix'}}, {'domain': {'id': '131', 'name': 'Unified Twitter Taxonomy', 'description': 'A taxonomy view into the Semantic Core knowledge graph'}, 'entity': {'id': '847527650667094017', 'name': 'Gaming', 'description': 'Gaming'}}, {'domain': {'id': '131', 'name': 'Unified Twitter Taxonomy', 'description': 'A taxonomy view into the Semantic Core knowledge graph'}, 'entity': {'id': '854954654546907136', 'name': 'Persona', 'description': 'This entity includes all conversation about the franchise, as well as any individual installments in the series.\\n\\nThe Video Game domain query only tracks conversation about the game series whereas the Multimedia Franchise query contains all Persona conversation.'}}, {'domain': {'id': '131', 'name': 'Unified Twitter Taxonomy', 'description': 'A taxonomy view into the Semantic Core knowledge graph'}, 'entity': {'id': '1070028159964262400', 'name': 'Video games'}}, {'domain': {'id': '131', 'name': 'Unified Twitter Taxonomy', 'description': 'A taxonomy view into the Semantic Core knowledge graph'}, 'entity': {'id': '1146103171086819328', 'name': 'Gaming influencers', 'description': 'Gaming Personalities & Esports Players'}}, {'domain': {'id': '131', 'name': 'Unified Twitter Taxonomy', 'description': 'A taxonomy view into the Semantic Core knowledge graph'}, 'entity': {'id': '1196446161223028736', 'name': 'Social media'}}, {'domain': {'id': '131', 'name': 'Unified Twitter Taxonomy', 'description': 'A taxonomy view into the Semantic Core knowledge graph'}, 'entity': {'id': '1196447585004736512', 'name': 'Entertainment industry'}}, {'domain': {'id': '131', 'name': 'Unified Twitter Taxonomy', 'description': 'A taxonomy view into the Semantic Core knowledge graph'}, 'entity': {'id': '1287879055191052288', 'name': 'Gaming content creators'}}, {'domain': {'id': '131', 'name': 'Unified Twitter Taxonomy', 'description': 'A taxonomy view into the Semantic Core knowledge graph'}, 'entity': {'id': '1397573214239289349', 'name': 'TV streaming services'}}, {'domain': {'id': '165', 'name': 'Technology', 'description': 'for individual and types of technology, e.g., food technology, 3D printing'}, 'entity': {'id': '1196446161223028736', 'name': 'Social media'}}, {'domain': {'id': '30', 'name': 'Entities [Entity Service]', 'description': 'Entity Service top level domain, every item that is in Entity Service should be in this domain'}, 'entity': {'id': '781974596752842752', 'name': 'Services'}}, {'domain': {'id': '47', 'name': 'Brand', 'description': 'Brands and Companies'}, 'entity': {'id': '10029202410', 'name': 'Philips'}}, {'domain': {'id': '47', 'name': 'Brand', 'description': 'Brands and Companies'}, 'entity': {'id': '10029382357', 'name': 'YouTube'}}, {'domain': {'id': '131', 'name': 'Unified Twitter Taxonomy', 'description': 'A taxonomy view into the Semantic Core knowledge graph'}, 'entity': {'id': '10029202410', 'name': 'Philips'}}, {'domain': {'id': '131', 'name': 'Unified Twitter Taxonomy', 'description': 'A taxonomy view into the Semantic Core knowledge graph'}, 'entity': {'id': '10029382357', 'name': 'YouTube'}}]\n",
      "=======\n",
      "2022-09-12 12:22:53+00:00 Check this out at Amazon Philips 55PUS7506/12 55 Inch Smart TV 4K LED Television ideal for Netflix, YouTube and Gaming/HDR Picture, Cinematic Dolby Vision &amp; Atmos Sound https://t.co/UJMZ1YlXhc\n",
      "Metrics {'retweet_count': 0, 'reply_count': 0, 'like_count': 0, 'quote_count': 0}\n",
      "[{'domain': {'id': '45', 'name': 'Brand Vertical', 'description': 'Top level entities that describe a Brands industry'}, 'entity': {'id': '781974597310615553', 'name': 'Entertainment'}}, {'domain': {'id': '30', 'name': 'Entities [Entity Service]', 'description': 'Entity Service top level domain, every item that is in Entity Service should be in this domain'}, 'entity': {'id': '781974597105094656', 'name': 'TV/Movies Related - Entertainment'}}, {'domain': {'id': '46', 'name': 'Brand Category', 'description': 'Categories within Brand Verticals that narrow down the scope of Brands'}, 'entity': {'id': '1557696802391859201', 'name': 'Entertainment & Leisure Business', 'description': 'Brands, companies, advertisers and every non-person handle with the profit intent related to movies, music, television, franchises, venues, theme parks, toys, tourism, hotels'}}, {'domain': {'id': '46', 'name': 'Brand Category', 'description': 'Categories within Brand Verticals that narrow down the scope of Brands'}, 'entity': {'id': '1557696940178935808', 'name': 'Gaming Business', 'description': 'Brands, companies, advertisers and every non-person handle with the profit intent related to offline and online games such as gaming consoles, tabletop games, video game publishers'}}, {'domain': {'id': '47', 'name': 'Brand', 'description': 'Brands and Companies'}, 'entity': {'id': '10026367762', 'name': 'Netflix'}}, {'domain': {'id': '131', 'name': 'Unified Twitter Taxonomy', 'description': 'A taxonomy view into the Semantic Core knowledge graph'}, 'entity': {'id': '10026367762', 'name': 'Netflix'}}, {'domain': {'id': '131', 'name': 'Unified Twitter Taxonomy', 'description': 'A taxonomy view into the Semantic Core knowledge graph'}, 'entity': {'id': '847527650667094017', 'name': 'Gaming', 'description': 'Gaming'}}, {'domain': {'id': '131', 'name': 'Unified Twitter Taxonomy', 'description': 'A taxonomy view into the Semantic Core knowledge graph'}, 'entity': {'id': '1146103171086819328', 'name': 'Gaming influencers', 'description': 'Gaming Personalities & Esports Players'}}, {'domain': {'id': '131', 'name': 'Unified Twitter Taxonomy', 'description': 'A taxonomy view into the Semantic Core knowledge graph'}, 'entity': {'id': '1196446161223028736', 'name': 'Social media'}}, {'domain': {'id': '131', 'name': 'Unified Twitter Taxonomy', 'description': 'A taxonomy view into the Semantic Core knowledge graph'}, 'entity': {'id': '1196447585004736512', 'name': 'Entertainment industry'}}, {'domain': {'id': '131', 'name': 'Unified Twitter Taxonomy', 'description': 'A taxonomy view into the Semantic Core knowledge graph'}, 'entity': {'id': '1287879055191052288', 'name': 'Gaming content creators'}}, {'domain': {'id': '131', 'name': 'Unified Twitter Taxonomy', 'description': 'A taxonomy view into the Semantic Core knowledge graph'}, 'entity': {'id': '1397573214239289349', 'name': 'TV streaming services'}}, {'domain': {'id': '165', 'name': 'Technology', 'description': 'for individual and types of technology, e.g., food technology, 3D printing'}, 'entity': {'id': '1196446161223028736', 'name': 'Social media'}}, {'domain': {'id': '30', 'name': 'Entities [Entity Service]', 'description': 'Entity Service top level domain, every item that is in Entity Service should be in this domain'}, 'entity': {'id': '781974596752842752', 'name': 'Services'}}, {'domain': {'id': '47', 'name': 'Brand', 'description': 'Brands and Companies'}, 'entity': {'id': '10029202410', 'name': 'Philips'}}, {'domain': {'id': '47', 'name': 'Brand', 'description': 'Brands and Companies'}, 'entity': {'id': '10029382357', 'name': 'YouTube'}}, {'domain': {'id': '131', 'name': 'Unified Twitter Taxonomy', 'description': 'A taxonomy view into the Semantic Core knowledge graph'}, 'entity': {'id': '10029202410', 'name': 'Philips'}}, {'domain': {'id': '131', 'name': 'Unified Twitter Taxonomy', 'description': 'A taxonomy view into the Semantic Core knowledge graph'}, 'entity': {'id': '10029382357', 'name': 'YouTube'}}]\n",
      "=======\n",
      "2022-09-12 12:17:50+00:00 Cette smart TV Philips 4K chute de prix grâce à une vente flash\n",
      "➡️ https://t.co/662yBmlt4A https://t.co/TSvsKUiUKv\n",
      "Metrics {'retweet_count': 0, 'reply_count': 0, 'like_count': 0, 'quote_count': 0}\n",
      "[{'domain': {'id': '46', 'name': 'Brand Category', 'description': 'Categories within Brand Verticals that narrow down the scope of Brands'}, 'entity': {'id': '1557696802391859201', 'name': 'Entertainment & Leisure Business', 'description': 'Brands, companies, advertisers and every non-person handle with the profit intent related to movies, music, television, franchises, venues, theme parks, toys, tourism, hotels'}}, {'domain': {'id': '47', 'name': 'Brand', 'description': 'Brands and Companies'}, 'entity': {'id': '10029202410', 'name': 'Philips'}}, {'domain': {'id': '131', 'name': 'Unified Twitter Taxonomy', 'description': 'A taxonomy view into the Semantic Core knowledge graph'}, 'entity': {'id': '10029202410', 'name': 'Philips'}}]\n",
      "=======\n",
      "2022-09-12 11:49:22+00:00 Philips - Lampada LED Smart da Parete\n",
      "https://t.co/mTWmiDoHLL\n",
      "A soli 96,84 €️\n",
      "Invece di 189,99 €\n",
      "#amazon #shoppingtime #fashion\n",
      "Metrics {'retweet_count': 0, 'reply_count': 0, 'like_count': 0, 'quote_count': 0}\n",
      "=======\n",
      "2022-09-12 11:14:03+00:00 35% off Philips Hue White Smart Bulb Twin Pack LED [B22 Bayonet Cap] - 806 Lumens (60W equivalent). Works with Alexa, Google Assistant and Apple Homekit\n",
      "for £16.30 \n",
      "\n",
      "https://t.co/QzT3RjfJVE\n",
      "Metrics {'retweet_count': 0, 'reply_count': 0, 'like_count': 0, 'quote_count': 0}\n",
      "[{'domain': {'id': '30', 'name': 'Entities [Entity Service]', 'description': 'Entity Service top level domain, every item that is in Entity Service should be in this domain'}, 'entity': {'id': '781974596752842752', 'name': 'Services'}}, {'domain': {'id': '47', 'name': 'Brand', 'description': 'Brands and Companies'}, 'entity': {'id': '10026378521', 'name': 'Google '}}, {'domain': {'id': '47', 'name': 'Brand', 'description': 'Brands and Companies'}, 'entity': {'id': '10026792024', 'name': 'Amazon'}}, {'domain': {'id': '48', 'name': 'Product', 'description': 'Products created by Brands.  Examples: Ford Explorer, Apple iPhone.'}, 'entity': {'id': '968221983803494400', 'name': 'Amazon - Alexa', 'description': 'Alexa'}}, {'domain': {'id': '131', 'name': 'Unified Twitter Taxonomy', 'description': 'A taxonomy view into the Semantic Core knowledge graph'}, 'entity': {'id': '10026378521', 'name': 'Google '}}, {'domain': {'id': '47', 'name': 'Brand', 'description': 'Brands and Companies'}, 'entity': {'id': '10029202410', 'name': 'Philips'}}, {'domain': {'id': '131', 'name': 'Unified Twitter Taxonomy', 'description': 'A taxonomy view into the Semantic Core knowledge graph'}, 'entity': {'id': '10029202410', 'name': 'Philips'}}]\n",
      "=======\n",
      "2022-09-12 11:11:29+00:00 46% off Philips Hue White Ambiance Filament Single Smart LED ST64 Large Bulb [B22 Bayonet Cap] - 550 Lumens. Works with Alexa, Google Assistant and Apple Homekit\n",
      "for £24.10 \n",
      "\n",
      "https://t.co/Lf6JKc5VMy\n",
      "Metrics {'retweet_count': 0, 'reply_count': 0, 'like_count': 0, 'quote_count': 0}\n",
      "[{'domain': {'id': '30', 'name': 'Entities [Entity Service]', 'description': 'Entity Service top level domain, every item that is in Entity Service should be in this domain'}, 'entity': {'id': '781974596752842752', 'name': 'Services'}}, {'domain': {'id': '47', 'name': 'Brand', 'description': 'Brands and Companies'}, 'entity': {'id': '10026378521', 'name': 'Google '}}, {'domain': {'id': '47', 'name': 'Brand', 'description': 'Brands and Companies'}, 'entity': {'id': '10026792024', 'name': 'Amazon'}}, {'domain': {'id': '48', 'name': 'Product', 'description': 'Products created by Brands.  Examples: Ford Explorer, Apple iPhone.'}, 'entity': {'id': '968221983803494400', 'name': 'Amazon - Alexa', 'description': 'Alexa'}}, {'domain': {'id': '48', 'name': 'Product', 'description': 'Products created by Brands.  Examples: Ford Explorer, Apple iPhone.'}, 'entity': {'id': '1395474411180892160', 'name': 'Google brand conversation'}}, {'domain': {'id': '131', 'name': 'Unified Twitter Taxonomy', 'description': 'A taxonomy view into the Semantic Core knowledge graph'}, 'entity': {'id': '10026378521', 'name': 'Google '}}, {'domain': {'id': '47', 'name': 'Brand', 'description': 'Brands and Companies'}, 'entity': {'id': '10029202410', 'name': 'Philips'}}, {'domain': {'id': '131', 'name': 'Unified Twitter Taxonomy', 'description': 'A taxonomy view into the Semantic Core knowledge graph'}, 'entity': {'id': '10029202410', 'name': 'Philips'}}]\n",
      "=======\n",
      "2022-09-12 11:10:21+00:00 Smart TV Philips 32 HD, HDR Plus, 3x HDMI, 2x USB, WiFi, Conversor Digital, Netflix, Yo...\n",
      "\n",
      "😃 REDUZIU e CUSTA: R$ 1.229,99 (-17.95%) \n",
      "\n",
      "📉 QUEDA de R$ -269,01\n",
      "\n",
      "Total Disponível: 1 🔥\n",
      "\n",
      "⚠️ Já foi mais barato 15/03/22\n",
      "\n",
      "🛡️ f084dc8cd3893ab190ee1df6fa6af498 https://t.co/xf4NHq1SGt\n",
      "Metrics {'retweet_count': 0, 'reply_count': 1, 'like_count': 0, 'quote_count': 0}\n",
      "[{'domain': {'id': '45', 'name': 'Brand Vertical', 'description': 'Top level entities that describe a Brands industry'}, 'entity': {'id': '781974597310615553', 'name': 'Entertainment'}}, {'domain': {'id': '30', 'name': 'Entities [Entity Service]', 'description': 'Entity Service top level domain, every item that is in Entity Service should be in this domain'}, 'entity': {'id': '781974597105094656', 'name': 'TV/Movies Related - Entertainment'}}, {'domain': {'id': '46', 'name': 'Brand Category', 'description': 'Categories within Brand Verticals that narrow down the scope of Brands'}, 'entity': {'id': '1557696802391859201', 'name': 'Entertainment & Leisure Business', 'description': 'Brands, companies, advertisers and every non-person handle with the profit intent related to movies, music, television, franchises, venues, theme parks, toys, tourism, hotels'}}, {'domain': {'id': '46', 'name': 'Brand Category', 'description': 'Categories within Brand Verticals that narrow down the scope of Brands'}, 'entity': {'id': '1557697333571112960', 'name': 'Technology Business', 'description': 'Brands, companies, advertisers and every non-person handle with the profit intent related to softwares, apps, communication equipments, hardwares'}}, {'domain': {'id': '47', 'name': 'Brand', 'description': 'Brands and Companies'}, 'entity': {'id': '10026367762', 'name': 'Netflix'}}, {'domain': {'id': '30', 'name': 'Entities [Entity Service]', 'description': 'Entity Service top level domain, every item that is in Entity Service should be in this domain'}, 'entity': {'id': '848920371311001600', 'name': 'Technology', 'description': 'Technology and computing'}}, {'domain': {'id': '131', 'name': 'Unified Twitter Taxonomy', 'description': 'A taxonomy view into the Semantic Core knowledge graph'}, 'entity': {'id': '10026367762', 'name': 'Netflix'}}, {'domain': {'id': '131', 'name': 'Unified Twitter Taxonomy', 'description': 'A taxonomy view into the Semantic Core knowledge graph'}, 'entity': {'id': '848920371311001600', 'name': 'Technology', 'description': 'Technology and computing'}}, {'domain': {'id': '131', 'name': 'Unified Twitter Taxonomy', 'description': 'A taxonomy view into the Semantic Core knowledge graph'}, 'entity': {'id': '1196447585004736512', 'name': 'Entertainment industry'}}, {'domain': {'id': '131', 'name': 'Unified Twitter Taxonomy', 'description': 'A taxonomy view into the Semantic Core knowledge graph'}, 'entity': {'id': '1397573214239289349', 'name': 'TV streaming services'}}, {'domain': {'id': '165', 'name': 'Technology', 'description': 'for individual and types of technology, e.g., food technology, 3D printing'}, 'entity': {'id': '1148689566112477184', 'name': 'Wi-Fi'}}, {'domain': {'id': '47', 'name': 'Brand', 'description': 'Brands and Companies'}, 'entity': {'id': '10029202410', 'name': 'Philips'}}, {'domain': {'id': '131', 'name': 'Unified Twitter Taxonomy', 'description': 'A taxonomy view into the Semantic Core knowledge graph'}, 'entity': {'id': '10029202410', 'name': 'Philips'}}]\n",
      "=======\n",
      "2022-09-12 11:06:05+00:00 @LamidaSihombing Ya setuju mom, kita itu memang butuh banget tips smart &amp; cepet di dapur. Untung ikut nonton livestream Philips jadi dapat banyak ilmu. Aku juga udah isi survey nya ya mom\n",
      "Metrics {'retweet_count': 0, 'reply_count': 0, 'like_count': 0, 'quote_count': 0}\n",
      "=======\n",
      "2022-09-12 10:31:17+00:00 Check this out at Amazon Philips 325E1C- 32 inch QHD Curved Monitor, 75Hz, 4ms, VA, AMD FreeSync, Flicker Free, Smart Image (2560 x 1440, 250 cd/m², HDMI 1.4/VGA/.DP 1.2) https://t.co/sRZFE5m279\n",
      "Metrics {'retweet_count': 0, 'reply_count': 0, 'like_count': 0, 'quote_count': 0}\n",
      "=======\n",
      "2022-09-12 10:28:19+00:00 RT @PhilipsSpain: El software inteligente de aceleración de #ResonanciaMagnética ayuda a aumentar la eficiencia de los servicios de diagnós…\n",
      "Metrics {'retweet_count': 4, 'reply_count': 0, 'like_count': 0, 'quote_count': 0}\n",
      "[{'domain': {'id': '47', 'name': 'Brand', 'description': 'Brands and Companies'}, 'entity': {'id': '10029202410', 'name': 'Philips'}}, {'domain': {'id': '131', 'name': 'Unified Twitter Taxonomy', 'description': 'A taxonomy view into the Semantic Core knowledge graph'}, 'entity': {'id': '10029202410', 'name': 'Philips'}}]\n",
      "=======\n",
      "2022-09-12 10:01:28+00:00 RT @Razar_the_Raven: Samsung SmartThings app now supports Music Sync with the Philips Light. 🎶\n",
      "\n",
      "By playing music on your phone, your smart…\n",
      "Metrics {'retweet_count': 3, 'reply_count': 0, 'like_count': 0, 'quote_count': 0}\n",
      "[{'domain': {'id': '46', 'name': 'Brand Category', 'description': 'Categories within Brand Verticals that narrow down the scope of Brands'}, 'entity': {'id': '1557697333571112960', 'name': 'Technology Business', 'description': 'Brands, companies, advertisers and every non-person handle with the profit intent related to softwares, apps, communication equipments, hardwares'}}, {'domain': {'id': '47', 'name': 'Brand', 'description': 'Brands and Companies'}, 'entity': {'id': '1174344555111469057', 'name': 'Samsung Indonesia'}}, {'domain': {'id': '47', 'name': 'Brand', 'description': 'Brands and Companies'}, 'entity': {'id': '10026364234', 'name': 'Samsung '}}, {'domain': {'id': '47', 'name': 'Brand', 'description': 'Brands and Companies'}, 'entity': {'id': '10029202410', 'name': 'Philips'}}, {'domain': {'id': '48', 'name': 'Product', 'description': 'Products created by Brands.  Examples: Ford Explorer, Apple iPhone.'}, 'entity': {'id': '10026331316', 'name': 'Samsung Mobile'}}, {'domain': {'id': '48', 'name': 'Product', 'description': 'Products created by Brands.  Examples: Ford Explorer, Apple iPhone.'}, 'entity': {'id': '10045298641', 'name': 'Samsung USA'}}, {'domain': {'id': '49', 'name': 'Product Version', 'description': \"The specific model or version of a product.  Examples: Audi A8, Ben & Jerry's Chocolate Chip Ice Cream\"}, 'entity': {'id': '10040464729', 'name': 'Samsung Mobile UK'}}, {'domain': {'id': '49', 'name': 'Product Version', 'description': \"The specific model or version of a product.  Examples: Audi A8, Ben & Jerry's Chocolate Chip Ice Cream\"}, 'entity': {'id': '10041364617', 'name': 'Samsung Mobile US'}}, {'domain': {'id': '30', 'name': 'Entities [Entity Service]', 'description': 'Entity Service top level domain, every item that is in Entity Service should be in this domain'}, 'entity': {'id': '848920371311001600', 'name': 'Technology', 'description': 'Technology and computing'}}, {'domain': {'id': '66', 'name': 'Interests and Hobbies Category', 'description': 'A grouping of interests and hobbies entities, like Novelty Food or Destinations'}, 'entity': {'id': '848920700073123840', 'name': 'Cell Phones', 'description': 'Cell phones'}}, {'domain': {'id': '30', 'name': 'Entities [Entity Service]', 'description': 'Entity Service top level domain, every item that is in Entity Service should be in this domain'}, 'entity': {'id': '848985956778561538', 'name': 'Mobile', 'description': 'Mobile'}}, {'domain': {'id': '131', 'name': 'Unified Twitter Taxonomy', 'description': 'A taxonomy view into the Semantic Core knowledge graph'}, 'entity': {'id': '10029202410', 'name': 'Philips'}}]\n",
      "=======\n",
      "2022-09-12 09:57:11+00:00 💡 #Philips Hue White Ambiance Wellner, Lampada da Tavolo Smart, Bluetooh, Controllo Vocale 9.5W, Lampadina Smart LED E27 Smart inclusa, Dimmer Switch incluso, Bianca in forte sconto 💸   \n",
      "  \n",
      "💰 A soli 76,20€ invece di ⛔ 109,99€ (-30%)  ‼️ Minimo Storic\n",
      "https://t.co/dpUFy37xFp https://t.co/TO5xqwLZnc\n",
      "Metrics {'retweet_count': 0, 'reply_count': 0, 'like_count': 0, 'quote_count': 0}\n",
      "[{'domain': {'id': '46', 'name': 'Brand Category', 'description': 'Categories within Brand Verticals that narrow down the scope of Brands'}, 'entity': {'id': '1557696940178935808', 'name': 'Gaming Business', 'description': 'Brands, companies, advertisers and every non-person handle with the profit intent related to offline and online games such as gaming consoles, tabletop games, video game publishers'}}]\n",
      "=======\n",
      "2022-09-12 09:37:05+00:00 RT @PhilipsSpain: El software inteligente de aceleración de #ResonanciaMagnética ayuda a aumentar la eficiencia de los servicios de diagnós…\n",
      "Metrics {'retweet_count': 4, 'reply_count': 0, 'like_count': 0, 'quote_count': 0}\n",
      "[{'domain': {'id': '47', 'name': 'Brand', 'description': 'Brands and Companies'}, 'entity': {'id': '10029202410', 'name': 'Philips'}}, {'domain': {'id': '131', 'name': 'Unified Twitter Taxonomy', 'description': 'A taxonomy view into the Semantic Core knowledge graph'}, 'entity': {'id': '10029202410', 'name': 'Philips'}}]\n",
      "=======\n",
      "2022-09-12 09:26:04+00:00 Philips Hue Smart Tap Switch (Requires Hub Hub, Works with Amazon Alexa  Apple HomeKit  and Google Assistant) [BAL5B2H]\n",
      "\n",
      "https://t.co/6PyHG7si8b\n",
      "Metrics {'retweet_count': 0, 'reply_count': 0, 'like_count': 0, 'quote_count': 0}\n",
      "[{'domain': {'id': '30', 'name': 'Entities [Entity Service]', 'description': 'Entity Service top level domain, every item that is in Entity Service should be in this domain'}, 'entity': {'id': '781974596752842752', 'name': 'Services'}}, {'domain': {'id': '47', 'name': 'Brand', 'description': 'Brands and Companies'}, 'entity': {'id': '10026378521', 'name': 'Google '}}, {'domain': {'id': '47', 'name': 'Brand', 'description': 'Brands and Companies'}, 'entity': {'id': '10026792024', 'name': 'Amazon'}}, {'domain': {'id': '48', 'name': 'Product', 'description': 'Products created by Brands.  Examples: Ford Explorer, Apple iPhone.'}, 'entity': {'id': '10050907858', 'name': 'Google - AI', 'description': 'Google - AI'}}, {'domain': {'id': '48', 'name': 'Product', 'description': 'Products created by Brands.  Examples: Ford Explorer, Apple iPhone.'}, 'entity': {'id': '968221983803494400', 'name': 'Amazon - Alexa', 'description': 'Alexa'}}, {'domain': {'id': '48', 'name': 'Product', 'description': 'Products created by Brands.  Examples: Ford Explorer, Apple iPhone.'}, 'entity': {'id': '1395474411180892160', 'name': 'Google brand conversation'}}, {'domain': {'id': '131', 'name': 'Unified Twitter Taxonomy', 'description': 'A taxonomy view into the Semantic Core knowledge graph'}, 'entity': {'id': '10026378521', 'name': 'Google '}}, {'domain': {'id': '48', 'name': 'Product', 'description': 'Products created by Brands.  Examples: Ford Explorer, Apple iPhone.'}, 'entity': {'id': '10050907867', 'name': 'Amazon - AI', 'description': 'Amazon - AI'}}]\n",
      "=======\n",
      "2022-09-12 09:12:53+00:00 RT @Patexia: This decision seems to have ended an expensive legal battle that involved some major law firms in patent litigation.\n",
      "Read more…\n",
      "Metrics {'retweet_count': 2, 'reply_count': 0, 'like_count': 0, 'quote_count': 0}\n",
      "=======\n",
      "2022-09-12 09:07:10+00:00 Sebagai moms yang super sibuk, akutu butuh tips smart dan cepat di dapur.\n",
      "\n",
      "Beruntung banget nontonin chef Martin Praja di livestream Philips jadi dapet cara praktis per-dapur-an. Nanti kalo ada livestreamnya, aku share yaa!\n",
      "\n",
      "Sebelumnya bantu isi dulu ya\n",
      "https://t.co/IBp4FLgZ9C\"\n",
      "Metrics {'retweet_count': 0, 'reply_count': 1, 'like_count': 0, 'quote_count': 0}\n",
      "=======\n",
      "2022-09-12 09:06:28+00:00 Pada setuju gak kerjaan mommy itu sibuk banget??jadi butuh tips smart dan cepat di dapur.Aku nontonin chef Martin Praja di livestream Philips, dapet cara praktis per-dapur-an. Nanti kalo ada livestreamnya, aku share ya. Jangan lupa isi survey ini dulu yuk\n",
      "\n",
      "https://t.co/xwy0MBOrsX\n",
      "Metrics {'retweet_count': 0, 'reply_count': 1, 'like_count': 1, 'quote_count': 0}\n",
      "=======\n",
      "2022-09-12 09:00:02+00:00 El software inteligente de aceleración de #ResonanciaMagnética ayuda a aumentar la eficiencia de los servicios de diagnóstico por imagen con exploraciones tres veces más rápidas 👉 https://t.co/Gy1X5AjwGT https://t.co/MVZLvCVKGn\n",
      "Metrics {'retweet_count': 4, 'reply_count': 0, 'like_count': 7, 'quote_count': 0}\n",
      "[{'domain': {'id': '47', 'name': 'Brand', 'description': 'Brands and Companies'}, 'entity': {'id': '10029202410', 'name': 'Philips'}}, {'domain': {'id': '131', 'name': 'Unified Twitter Taxonomy', 'description': 'A taxonomy view into the Semantic Core knowledge graph'}, 'entity': {'id': '10029202410', 'name': 'Philips'}}]\n",
      "=======\n",
      "2022-09-12 08:58:51+00:00 Universal Remote Control with Scene Select and Find-It Feature Through Smartphone App Setup by Philips, Works with Samsung, Vizio, TCL, HiSense, Sony, Roku, Apple TV, Smart TVs, 6-Device, SRP2017B/27 https://t.co/VqNNLHdASk\n",
      "Metrics {'retweet_count': 0, 'reply_count': 0, 'like_count': 0, 'quote_count': 0}\n",
      "[{'domain': {'id': '23', 'name': 'TV Channels', 'description': 'Television Channels'}, 'entity': {'id': '1283761177575616518', 'name': 'Apple TV+'}}, {'domain': {'id': '46', 'name': 'Brand Category', 'description': 'Categories within Brand Verticals that narrow down the scope of Brands'}, 'entity': {'id': '1557696802391859201', 'name': 'Entertainment & Leisure Business', 'description': 'Brands, companies, advertisers and every non-person handle with the profit intent related to movies, music, television, franchises, venues, theme parks, toys, tourism, hotels'}}, {'domain': {'id': '47', 'name': 'Brand', 'description': 'Brands and Companies'}, 'entity': {'id': '10026364281', 'name': 'Apple'}}, {'domain': {'id': '47', 'name': 'Brand', 'description': 'Brands and Companies'}, 'entity': {'id': '1108695223096377344', 'name': 'Hisense', 'description': 'Hisense'}}, {'domain': {'id': '47', 'name': 'Brand', 'description': 'Brands and Companies'}, 'entity': {'id': '1174344555111469057', 'name': 'Samsung Indonesia'}}, {'domain': {'id': '131', 'name': 'Unified Twitter Taxonomy', 'description': 'A taxonomy view into the Semantic Core knowledge graph'}, 'entity': {'id': '10026364281', 'name': 'Apple'}}, {'domain': {'id': '47', 'name': 'Brand', 'description': 'Brands and Companies'}, 'entity': {'id': '10026364234', 'name': 'Samsung '}}, {'domain': {'id': '47', 'name': 'Brand', 'description': 'Brands and Companies'}, 'entity': {'id': '10026364281', 'name': 'Apple'}}, {'domain': {'id': '47', 'name': 'Brand', 'description': 'Brands and Companies'}, 'entity': {'id': '10026646799', 'name': 'VIZIO'}}, {'domain': {'id': '47', 'name': 'Brand', 'description': 'Brands and Companies'}, 'entity': {'id': '10026738409', 'name': 'Sony'}}, {'domain': {'id': '47', 'name': 'Brand', 'description': 'Brands and Companies'}, 'entity': {'id': '10029202410', 'name': 'Philips'}}, {'domain': {'id': '47', 'name': 'Brand', 'description': 'Brands and Companies'}, 'entity': {'id': '10041873178', 'name': 'Roku'}}, {'domain': {'id': '48', 'name': 'Product', 'description': 'Products created by Brands.  Examples: Ford Explorer, Apple iPhone.'}, 'entity': {'id': '10041877548', 'name': 'Apple TV'}}, {'domain': {'id': '48', 'name': 'Product', 'description': 'Products created by Brands.  Examples: Ford Explorer, Apple iPhone.'}, 'entity': {'id': '10045298641', 'name': 'Samsung USA'}}, {'domain': {'id': '131', 'name': 'Unified Twitter Taxonomy', 'description': 'A taxonomy view into the Semantic Core knowledge graph'}, 'entity': {'id': '10026738409', 'name': 'Sony'}}, {'domain': {'id': '131', 'name': 'Unified Twitter Taxonomy', 'description': 'A taxonomy view into the Semantic Core knowledge graph'}, 'entity': {'id': '10029202410', 'name': 'Philips'}}]\n",
      "=======\n",
      "2022-09-12 08:42:16+00:00 Philips Multi Grooming Kit MG7715/65, 13-in-1 (New Model), Face, Head and Body – All-in-one Trimmer &amp; Philips BT3231/15 Smart Beard Trimmer – Power adapt technology for precise trimming, 20 settings https://t.co/SsWjZbeudi\n",
      "Metrics {'retweet_count': 0, 'reply_count': 0, 'like_count': 0, 'quote_count': 0}\n",
      "[{'domain': {'id': '46', 'name': 'Brand Category', 'description': 'Categories within Brand Verticals that narrow down the scope of Brands'}, 'entity': {'id': '1557696420500541440', 'name': 'Automotive, Aircraft & Boat Business', 'description': 'Brands, companies, advertisers and every non-person handle with the profit intent related to automobile, spacecraft, aircraft and boat manufacturing'}}, {'domain': {'id': '46', 'name': 'Brand Category', 'description': 'Categories within Brand Verticals that narrow down the scope of Brands'}, 'entity': {'id': '1557696505548394496', 'name': 'Beauty, Cosmetic & Personal Care Business', 'description': 'Brands, companies, advertisers and every non-person handle with the profit intent related to makeup, perfumes and skin care'}}, {'domain': {'id': '131', 'name': 'Unified Twitter Taxonomy', 'description': 'A taxonomy view into the Semantic Core knowledge graph'}, 'entity': {'id': '847528391163092993', 'name': 'Automotive', 'description': 'Car culture'}}, {'domain': {'id': '131', 'name': 'Unified Twitter Taxonomy', 'description': 'A taxonomy view into the Semantic Core knowledge graph'}, 'entity': {'id': '1196845866138533888', 'name': 'Automobile Brands'}}, {'domain': {'id': '47', 'name': 'Brand', 'description': 'Brands and Companies'}, 'entity': {'id': '10029202410', 'name': 'Philips'}}, {'domain': {'id': '65', 'name': 'Interests and Hobbies Vertical', 'description': 'Top level interests and hobbies groupings, like Food or Travel'}, 'entity': {'id': '850395585941086209', 'name': 'Beauty', 'description': 'Beauty'}}, {'domain': {'id': '66', 'name': 'Interests and Hobbies Category', 'description': 'A grouping of interests and hobbies entities, like Novelty Food or Destinations'}, 'entity': {'id': '856575202972413952', 'name': 'Shaving and grooming', 'description': 'Shaving and Grooming'}}, {'domain': {'id': '67', 'name': 'Interests and Hobbies', 'description': 'Interests, opinions, and behaviors of individuals, groups, or cultures; like Speciality Cooking or Theme Parks'}, 'entity': {'id': '856587408443232256', 'name': 'Grooming', 'description': 'Grooming'}}, {'domain': {'id': '131', 'name': 'Unified Twitter Taxonomy', 'description': 'A taxonomy view into the Semantic Core knowledge graph'}, 'entity': {'id': '10029202410', 'name': 'Philips'}}, {'domain': {'id': '131', 'name': 'Unified Twitter Taxonomy', 'description': 'A taxonomy view into the Semantic Core knowledge graph'}, 'entity': {'id': '856587408443232256', 'name': 'Grooming', 'description': 'Grooming'}}]\n",
      "=======\n",
      "2022-09-12 08:38:02+00:00 [DEAL GEFUNDEN] \n",
      "\n",
      "22% Rabatt \n",
      "\n",
      "Philips TV 32PFS6805/12 32-Zoll Fernseher (Full HD LED TV, Pixel Plus HD,HDR 10,Saphi Smart TV,Full-Range-Lautsprecher,3 x HDMI, 2 x USB, Ideal für Gaming) - Schwarz Glänzend [Modelljahr 2020]\n",
      "\n",
      " https://t.co/gNYZB70WVt *\n",
      "Metrics {'retweet_count': 0, 'reply_count': 0, 'like_count': 0, 'quote_count': 0}\n",
      "[{'domain': {'id': '46', 'name': 'Brand Category', 'description': 'Categories within Brand Verticals that narrow down the scope of Brands'}, 'entity': {'id': '1557696802391859201', 'name': 'Entertainment & Leisure Business', 'description': 'Brands, companies, advertisers and every non-person handle with the profit intent related to movies, music, television, franchises, venues, theme parks, toys, tourism, hotels'}}, {'domain': {'id': '46', 'name': 'Brand Category', 'description': 'Categories within Brand Verticals that narrow down the scope of Brands'}, 'entity': {'id': '1557696940178935808', 'name': 'Gaming Business', 'description': 'Brands, companies, advertisers and every non-person handle with the profit intent related to offline and online games such as gaming consoles, tabletop games, video game publishers'}}, {'domain': {'id': '47', 'name': 'Brand', 'description': 'Brands and Companies'}, 'entity': {'id': '10029202410', 'name': 'Philips'}}, {'domain': {'id': '131', 'name': 'Unified Twitter Taxonomy', 'description': 'A taxonomy view into the Semantic Core knowledge graph'}, 'entity': {'id': '10029202410', 'name': 'Philips'}}]\n",
      "=======\n",
      "2022-09-12 08:21:35+00:00 LG Replacement Remote by Philips, Universal Remote Control Compatible for Roku, Apple TV, Smart TV, Soundbar, Streaming Player, Blu Ray, DVD, DVR, 4 Device, Black, SRP4519L/27 https://t.co/zr9QbT6aDY\n",
      "Metrics {'retweet_count': 0, 'reply_count': 0, 'like_count': 0, 'quote_count': 0}\n",
      "[{'domain': {'id': '30', 'name': 'Entities [Entity Service]', 'description': 'Entity Service top level domain, every item that is in Entity Service should be in this domain'}, 'entity': {'id': '10026364281', 'name': 'Apple'}}, {'domain': {'id': '23', 'name': 'TV Channels', 'description': 'Television Channels'}, 'entity': {'id': '1283761177575616518', 'name': 'Apple TV+'}}, {'domain': {'id': '46', 'name': 'Brand Category', 'description': 'Categories within Brand Verticals that narrow down the scope of Brands'}, 'entity': {'id': '1557696802391859201', 'name': 'Entertainment & Leisure Business', 'description': 'Brands, companies, advertisers and every non-person handle with the profit intent related to movies, music, television, franchises, venues, theme parks, toys, tourism, hotels'}}, {'domain': {'id': '47', 'name': 'Brand', 'description': 'Brands and Companies'}, 'entity': {'id': '10026364281', 'name': 'Apple'}}, {'domain': {'id': '47', 'name': 'Brand', 'description': 'Brands and Companies'}, 'entity': {'id': '10027187398', 'name': 'LG Electronics'}}, {'domain': {'id': '47', 'name': 'Brand', 'description': 'Brands and Companies'}, 'entity': {'id': '1417473514433499141', 'name': 'Apple TV+'}}, {'domain': {'id': '131', 'name': 'Unified Twitter Taxonomy', 'description': 'A taxonomy view into the Semantic Core knowledge graph'}, 'entity': {'id': '10026364281', 'name': 'Apple'}}, {'domain': {'id': '131', 'name': 'Unified Twitter Taxonomy', 'description': 'A taxonomy view into the Semantic Core knowledge graph'}, 'entity': {'id': '10027187398', 'name': 'LG Electronics'}}, {'domain': {'id': '131', 'name': 'Unified Twitter Taxonomy', 'description': 'A taxonomy view into the Semantic Core knowledge graph'}, 'entity': {'id': '1196447585004736512', 'name': 'Entertainment industry'}}, {'domain': {'id': '131', 'name': 'Unified Twitter Taxonomy', 'description': 'A taxonomy view into the Semantic Core knowledge graph'}, 'entity': {'id': '1276514328007467008', 'name': 'Movies & TV'}}, {'domain': {'id': '131', 'name': 'Unified Twitter Taxonomy', 'description': 'A taxonomy view into the Semantic Core knowledge graph'}, 'entity': {'id': '1397573214239289349', 'name': 'TV streaming services'}}, {'domain': {'id': '131', 'name': 'Unified Twitter Taxonomy', 'description': 'A taxonomy view into the Semantic Core knowledge graph'}, 'entity': {'id': '1417473514433499141', 'name': 'Apple TV+'}}, {'domain': {'id': '47', 'name': 'Brand', 'description': 'Brands and Companies'}, 'entity': {'id': '10026364281', 'name': 'Apple'}}, {'domain': {'id': '47', 'name': 'Brand', 'description': 'Brands and Companies'}, 'entity': {'id': '10029202410', 'name': 'Philips'}}, {'domain': {'id': '47', 'name': 'Brand', 'description': 'Brands and Companies'}, 'entity': {'id': '10041873178', 'name': 'Roku'}}, {'domain': {'id': '48', 'name': 'Product', 'description': 'Products created by Brands.  Examples: Ford Explorer, Apple iPhone.'}, 'entity': {'id': '10041877548', 'name': 'Apple TV'}}, {'domain': {'id': '131', 'name': 'Unified Twitter Taxonomy', 'description': 'A taxonomy view into the Semantic Core knowledge graph'}, 'entity': {'id': '10029202410', 'name': 'Philips'}}]\n",
      "=======\n",
      "2022-09-12 08:04:44+00:00 Philips - Lampada da Tavolo Smart\n",
      "\n",
      "A soli 76,20 €\n",
      "(Invece di 109,99 €)\n",
      "\n",
      "https://t.co/MgQ0A2WkkK https://t.co/osucIsrd1l\n",
      "Metrics {'retweet_count': 0, 'reply_count': 0, 'like_count': 0, 'quote_count': 0}\n",
      "=======\n",
      "2022-09-12 08:04:44+00:00 Philips - Lampada da Tavolo Smart\n",
      "\n",
      "A soli 76,20 €\n",
      "(Invece di 109,99 €)\n",
      "\n",
      "https://t.co/MgQ0A2WkkK https://t.co/qCkYZGvaO3\n",
      "Metrics {'retweet_count': 0, 'reply_count': 0, 'like_count': 0, 'quote_count': 0}\n",
      "=======\n"
     ]
    }
   ],
   "source": [
    "query= 'Philips smart'\n",
    "tweets = client.search_recent_tweets(query=query, tweet_fields=['context_annotations','created_at','public_metrics'], max_results=100)\n",
    "\n",
    "for tweet in tweets.data:\n",
    "    print(tweet.created_at, tweet.text)\n",
    "    print(\"Metrics\",tweet.public_metrics)\n",
    "    if len(tweet.context_annotations) > 0:\n",
    "        print(tweet.context_annotations)\n",
    "    print (\"=======\")"
   ]
  }
 ],
 "metadata": {
  "kernelspec": {
   "display_name": "Python 3 (ipykernel)",
   "language": "python",
   "name": "python3"
  },
  "language_info": {
   "codemirror_mode": {
    "name": "ipython",
    "version": 3
   },
   "file_extension": ".py",
   "mimetype": "text/x-python",
   "name": "python",
   "nbconvert_exporter": "python",
   "pygments_lexer": "ipython3",
   "version": "3.8.8"
  }
 },
 "nbformat": 4,
 "nbformat_minor": 5
}
